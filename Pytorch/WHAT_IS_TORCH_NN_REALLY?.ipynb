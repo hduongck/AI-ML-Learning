{
  "nbformat": 4,
  "nbformat_minor": 0,
  "metadata": {
    "colab": {
      "name": "WHAT IS TORCH.NN REALLY?.ipynb",
      "version": "0.3.2",
      "provenance": [],
      "collapsed_sections": [],
      "include_colab_link": true
    },
    "kernelspec": {
      "name": "python3",
      "display_name": "Python 3"
    },
    "accelerator": "GPU"
  },
  "cells": [
    {
      "cell_type": "markdown",
      "metadata": {
        "id": "view-in-github",
        "colab_type": "text"
      },
      "source": [
        "<a href=\"https://colab.research.google.com/github/hduongck/AI-ML-Learning/blob/master/Pytorch/WHAT_IS_TORCH_NN_REALLY%3F.ipynb\" target=\"_parent\"><img src=\"https://colab.research.google.com/assets/colab-badge.svg\" alt=\"Open In Colab\"/></a>"
      ]
    },
    {
      "cell_type": "markdown",
      "metadata": {
        "id": "R3U69NZu_F4L",
        "colab_type": "text"
      },
      "source": [
        "PyTorch provides the elegantly designed modules and classes **torch.nn , torch.optim , Dataset , and DataLoader** to help you create and train neural networks. In order to fully utilize their power and customize them for your problem, you need to really understand exactly what they’re doing. To develop this understanding, we will first train basic neural net on the MNIST data set without using any features from these models; we will initially only use the most basic PyTorch tensor functionality. Then, we will incrementally add one feature from torch.nn, torch.optim, Dataset, or DataLoader at a time, showing exactly what each piece does, and how it works to make the code either more concise, or more flexible."
      ]
    },
    {
      "cell_type": "markdown",
      "metadata": {
        "id": "r9WCje_2_hhV",
        "colab_type": "text"
      },
      "source": [
        "#MNIST data setup\n",
        "\n",
        "We will use the classic MNIST dataset, which consists of black-and-white images of hand-drawn digits (between 0 and 9).\n",
        "\n",
        "We will use pathlib for dealing with paths (part of the Python 3 standard library), and will download the dataset using requests. We will only import modules when we use them, so you can see exactly what’s being used at each point."
      ]
    },
    {
      "cell_type": "code",
      "metadata": {
        "id": "_uOalYHG-lQ1",
        "colab_type": "code",
        "colab": {}
      },
      "source": [
        "from pathlib import Path\n",
        "import requests\n",
        "\n",
        "DATA_PATH = Path('/content/data')\n",
        "PATH = DATA_PATH/'mnist'\n",
        "\n",
        "PATH.mkdir(parents=True,exist_ok=True)\n",
        "\n",
        "URL = \"http://deeplearning.net/data/mnist/\"\n",
        "FILENAME = \"mnist.pkl.gz\"\n",
        "\n",
        "if not (PATH/FILENAME).exists():\n",
        "    content =requests.get(URL+FILENAME).content\n",
        "    (PATH/FILENAME).open('wb').write(content)"
      ],
      "execution_count": 0,
      "outputs": []
    },
    {
      "cell_type": "markdown",
      "metadata": {
        "id": "2wHuIwNIB49P",
        "colab_type": "text"
      },
      "source": [
        "This dataset is in numpy array format, and has been stored using pickle, a python-specific format for serializing data."
      ]
    },
    {
      "cell_type": "code",
      "metadata": {
        "id": "zN1oOvWVAzxH",
        "colab_type": "code",
        "colab": {}
      },
      "source": [
        "import pickle\n",
        "import gzip\n",
        "\n",
        "with gzip.open((PATH / FILENAME).as_posix(), \"rb\") as f:\n",
        "        ((x_train, y_train), (x_valid, y_valid), _) = pickle.load(f, encoding=\"latin-1\")"
      ],
      "execution_count": 0,
      "outputs": []
    },
    {
      "cell_type": "markdown",
      "metadata": {
        "id": "KGn3D1dsKkh4",
        "colab_type": "text"
      },
      "source": [
        "Each image is 28 x 28, and is being stored as a flattened row of length 784 (=28x28). Let’s take a look at one; we need to reshape it to 2d first."
      ]
    },
    {
      "cell_type": "code",
      "metadata": {
        "id": "YpSQrU5YB-O8",
        "colab_type": "code",
        "outputId": "57a14b0e-8bb7-437b-b43c-af490f75f53f",
        "colab": {
          "base_uri": "https://localhost:8080/",
          "height": 286
        }
      },
      "source": [
        "from matplotlib import pyplot\n",
        "import numpy as np\n",
        "\n",
        "pyplot.imshow(x_train[0].reshape((28,28)),cmap='gray')\n",
        "print(x_train.shape)"
      ],
      "execution_count": 7,
      "outputs": [
        {
          "output_type": "stream",
          "text": [
            "(50000, 784)\n"
          ],
          "name": "stdout"
        },
        {
          "output_type": "display_data",
          "data": {
            "image/png": "[encoded data removed]",
            "text/plain": [
              "<Figure size 432x288 with 1 Axes>"
            ]
          },
          "metadata": {
            "tags": []
          }
        }
      ]
    },
    {
      "cell_type": "markdown",
      "metadata": {
        "id": "2qt0QIOIK8o7",
        "colab_type": "text"
      },
      "source": [
        "Pytorch uses **torch.tensor** rather than numpy arrays, so we need to convert our data"
      ]
    },
    {
      "cell_type": "code",
      "metadata": {
        "id": "AMPpHotyK1KB",
        "colab_type": "code",
        "outputId": "a98b1823-e5c6-4d07-8c5f-680c2075a41c",
        "colab": {
          "base_uri": "https://localhost:8080/",
          "height": 170
        }
      },
      "source": [
        "import torch\n",
        "\n",
        "x_train,y_train,x_valid,y_valid = map(torch.tensor,(x_train,y_train,x_valid,y_valid))\n",
        "\n",
        "n,c = x_train.shape\n",
        "x_train,x_train.shape,y_train.min(),y_train.max()\n",
        "print(x_train,y_train)\n",
        "print(x_train.shape)\n",
        "print(y_train.min(),y_train.max())"
      ],
      "execution_count": 8,
      "outputs": [
        {
          "output_type": "stream",
          "text": [
            "tensor([[0., 0., 0.,  ..., 0., 0., 0.],\n",
            "        [0., 0., 0.,  ..., 0., 0., 0.],\n",
            "        [0., 0., 0.,  ..., 0., 0., 0.],\n",
            "        ...,\n",
            "        [0., 0., 0.,  ..., 0., 0., 0.],\n",
            "        [0., 0., 0.,  ..., 0., 0., 0.],\n",
            "        [0., 0., 0.,  ..., 0., 0., 0.]]) tensor([5, 0, 4,  ..., 8, 4, 8])\n",
            "torch.Size([50000, 784])\n",
            "tensor(0) tensor(9)\n"
          ],
          "name": "stdout"
        }
      ]
    },
    {
      "cell_type": "markdown",
      "metadata": {
        "id": "RyWNMN5SL-9p",
        "colab_type": "text"
      },
      "source": [
        "#Neural net from scratch (no torch.nn)\n",
        "\n",
        "Let’s first create a model using nothing but PyTorch tensor operations. We’re assuming you’re already familiar with the basics of neural networks. (If you’re not, you can learn them at course.fast.ai).\n",
        "\n",
        "PyTorch provides methods to create random or zero-filled tensors, which we will use to create our weights and bias for a simple linear model. These are just regular tensors, with one very special addition: we tell PyTorch that they require a gradient. This causes PyTorch to record all of the operations done on the tensor, so that it can calculate the gradient during back-propagation automatically!\n",
        "\n",
        "For the weights, we set **requires_grad** **after** the initialization, since we don’t want that step included in the gradient. (Note that a **trailling _** in PyTorch signifies that the operation is performed in-place.)\n",
        "\n",
        "NOTE\n",
        "\n",
        "We are initializing the weights here with [Xavier initialisation](http://proceedings.mlr.press/v9/glorot10a/glorot10a.pdf)(by multiplying with 1/sqrt(n))."
      ]
    },
    {
      "cell_type": "code",
      "metadata": {
        "id": "B4w58odmLnsf",
        "colab_type": "code",
        "colab": {}
      },
      "source": [
        "import math\n",
        "weights = torch.randn(784,10)/math.sqrt(784)\n",
        "weights.requires_grad_()\n",
        "bias = torch.zeros(10,requires_grad=True)"
      ],
      "execution_count": 0,
      "outputs": []
    },
    {
      "cell_type": "markdown",
      "metadata": {
        "id": "9sJ0HBSAOKZa",
        "colab_type": "text"
      },
      "source": [
        "Thanks to PyTorch’s ability to calculate gradients automatically, we can use any standard Python function (or callable object) as a model! So let’s just write a plain matrix multiplication and broadcasted addition to create a simple linear model. We also need an activation function, so we’ll write **log_softmax** and use it. Remember: although PyTorch provides lots of pre-written loss functions, activation functions, and so forth, you can easily write your own using plain python. PyTorch will even create fast GPU or vectorized CPU code for your function automatically."
      ]
    },
    {
      "cell_type": "code",
      "metadata": {
        "id": "SZxcZstPMqRT",
        "colab_type": "code",
        "colab": {}
      },
      "source": [
        "def log_softmax(x):\n",
        "    return x - x.exp().sum(-1).log().unsqueeze(-1)\n",
        "\n",
        "def model(xb):\n",
        "    return log_softmax(xb @ weights +bias)"
      ],
      "execution_count": 0,
      "outputs": []
    },
    {
      "cell_type": "markdown",
      "metadata": {
        "id": "LAgMmnszO2rC",
        "colab_type": "text"
      },
      "source": [
        "In the above, the @ stands for the dot product operation. We will call our function on one batch of data (in this case, 64 images). This is one **forward pass**. Note that our predictions won’t be any better than random at this stage, since we start with random weights."
      ]
    },
    {
      "cell_type": "code",
      "metadata": {
        "id": "7KUeCbrqOidk",
        "colab_type": "code",
        "outputId": "129a66fc-79a4-4192-bce2-70e2d22e8dc2",
        "colab": {
          "base_uri": "https://localhost:8080/",
          "height": 71
        }
      },
      "source": [
        "bs = 64 #batch size\n",
        "\n",
        "xb = x_train[0:bs] #mini-batch from x\n",
        "preds = model(xb) # predictions\n",
        "preds[0],preds.shape\n",
        "print(preds[0],preds.shape)"
      ],
      "execution_count": 11,
      "outputs": [
        {
          "output_type": "stream",
          "text": [
            "tensor([-2.1538, -2.8208, -2.2482, -2.2870, -1.9140, -1.8964, -3.0742, -2.1207,\n",
            "        -2.3508, -2.8441], grad_fn=<SelectBackward>) torch.Size([64, 10])\n"
          ],
          "name": "stdout"
        }
      ]
    },
    {
      "cell_type": "markdown",
      "metadata": {
        "id": "TU0R9HhhPV54",
        "colab_type": "text"
      },
      "source": [
        "As you see, the **preds** tensor contains not only the tensor values, but also a gradient function. We’ll use this later to do backprop.\n",
        "\n",
        "Let’s implement negative log-likelihood to use as the loss function (again, we can just use standard Python):"
      ]
    },
    {
      "cell_type": "code",
      "metadata": {
        "id": "1adYF9AtPJsm",
        "colab_type": "code",
        "colab": {}
      },
      "source": [
        "def nll(input,target):\n",
        "    return -input[range(target.shape[0]), target].mean()\n",
        "\n",
        "loss_func = nll"
      ],
      "execution_count": 0,
      "outputs": []
    },
    {
      "cell_type": "markdown",
      "metadata": {
        "id": "L4m1kplvP1eA",
        "colab_type": "text"
      },
      "source": [
        "Let’s check our loss with our random model, so we can see if we improve after a backprop pass later."
      ]
    },
    {
      "cell_type": "code",
      "metadata": {
        "id": "tRKShE69Pxiv",
        "colab_type": "code",
        "outputId": "14c519ca-6db2-4917-cb7b-435412c94039",
        "colab": {
          "base_uri": "https://localhost:8080/",
          "height": 34
        }
      },
      "source": [
        "yb = y_train[0:bs]\n",
        "print(loss_func(preds,yb))"
      ],
      "execution_count": 13,
      "outputs": [
        {
          "output_type": "stream",
          "text": [
            "tensor(2.4563, grad_fn=<NegBackward>)\n"
          ],
          "name": "stdout"
        }
      ]
    },
    {
      "cell_type": "markdown",
      "metadata": {
        "id": "NWIwAy0xQIvw",
        "colab_type": "text"
      },
      "source": [
        "Let’s also implement a function to calculate the accuracy of our model. For each prediction, if the index with the largest value matches the target value, then the prediction was correct."
      ]
    },
    {
      "cell_type": "code",
      "metadata": {
        "id": "5jwz4k9dQE_a",
        "colab_type": "code",
        "colab": {}
      },
      "source": [
        "def accuracy(out,yb):\n",
        "    preds = torch.argmax(out,dim=1)\n",
        "    return (preds == yb).float().mean()"
      ],
      "execution_count": 0,
      "outputs": []
    },
    {
      "cell_type": "markdown",
      "metadata": {
        "id": "GoT5mG0YRKam",
        "colab_type": "text"
      },
      "source": [
        "Let’s check the accuracy of our random model, so we can see if our accuracy improves as our loss improves."
      ]
    },
    {
      "cell_type": "code",
      "metadata": {
        "id": "1LolgxmDP9tn",
        "colab_type": "code",
        "outputId": "2308d539-818b-46d8-ddd8-6ee2406faf3d",
        "colab": {
          "base_uri": "https://localhost:8080/",
          "height": 34
        }
      },
      "source": [
        "print(accuracy(preds,yb))"
      ],
      "execution_count": 15,
      "outputs": [
        {
          "output_type": "stream",
          "text": [
            "tensor(0.0469)\n"
          ],
          "name": "stdout"
        }
      ]
    },
    {
      "cell_type": "markdown",
      "metadata": {
        "id": "BWrnW6yyRT4N",
        "colab_type": "text"
      },
      "source": [
        "We can now run a training loop. For each iteration, we will:\n",
        "\n",
        "- select a mini-batch of data (of size **bs**)\n",
        "- use the model to make predictions\n",
        "- calculate the loss\n",
        "-  **loss.backward()** updates the gradients of the model, in this case, weights and bias."
      ]
    },
    {
      "cell_type": "markdown",
      "metadata": {
        "id": "xKJQQY6rSwiD",
        "colab_type": "text"
      },
      "source": [
        "We now use these gradients to update the weights and bias. We do this within the **torch.no_grad()** context manager, because we do not want these actions to be recorded for our next calculation of the gradient. You can read more about how PyTorch’s Autograd records operations [here](https://pytorch.org/docs/stable/notes/autograd.html).\n",
        "\n",
        "We then set the gradients to zero, so that we are ready for the next loop. Otherwise, our gradients would record a running tally of all the operations that had happened (i.e. loss.backward() adds the gradients to whatever is already stored, rather than replacing them).\n",
        "\n",
        "TIP\n",
        "\n",
        "You can use the standard python debugger to step through PyTorch code, allowing you to check the various variable values at each step. Uncomment **set_trace()** below to try it out."
      ]
    },
    {
      "cell_type": "code",
      "metadata": {
        "id": "rBkjV2_LRQRF",
        "colab_type": "code",
        "colab": {}
      },
      "source": [
        "from IPython.core.debugger import set_trace\n",
        "\n",
        "lr = 0.5 # learning rate\n",
        "epochs=2 # how many epochs to train for\n",
        "\n",
        "for epoch in range(epochs):\n",
        "    for i in range((n-1)//bs +1):\n",
        "        # set_trace()\n",
        "        start_i = i * bs\n",
        "        end_i = start_i + bs\n",
        "        xb = x_train[start_i:end_i]\n",
        "        yb = y_train[start_i:end_i]\n",
        "        pred = model(xb)\n",
        "        loss = loss_func(pred,yb)\n",
        "        \n",
        "        loss.backward()\n",
        "        with torch.no_grad():\n",
        "            weights -= weights.grad*lr\n",
        "            bias -= bias.grad * lr\n",
        "            weights.grad.zero_()\n",
        "            bias.grad.zero_()\n",
        "            \n",
        "        \n",
        "        \n",
        "        "
      ],
      "execution_count": 0,
      "outputs": []
    },
    {
      "cell_type": "markdown",
      "metadata": {
        "id": "9S_5i07DVlyp",
        "colab_type": "text"
      },
      "source": [
        "That’s it: we’ve created and trained a minimal neural network (in this case, a logistic regression, since we have no hidden layers) entirely from scratch!\n",
        "\n",
        "Let’s check the loss and accuracy and compare those to what we got earlier. We expect that the loss will have decreased and accuracy to have increased, and they have."
      ]
    },
    {
      "cell_type": "code",
      "metadata": {
        "id": "I-609mxVVT7Z",
        "colab_type": "code",
        "outputId": "5d4785d8-6d84-4f9b-cba5-4e9473908238",
        "colab": {
          "base_uri": "https://localhost:8080/",
          "height": 34
        }
      },
      "source": [
        "loss_func(model(xb),yb), accuracy(model(xb),yb)"
      ],
      "execution_count": 17,
      "outputs": [
        {
          "output_type": "execute_result",
          "data": {
            "text/plain": [
              "(tensor(0.0797, grad_fn=<NegBackward>), tensor(1.))"
            ]
          },
          "metadata": {
            "tags": []
          },
          "execution_count": 17
        }
      ]
    },
    {
      "cell_type": "markdown",
      "metadata": {
        "id": "guYsJZGXURk3",
        "colab_type": "text"
      },
      "source": [
        "#Using torch.nn.functional\n",
        "\n",
        "We will now refactor our code, so that it does the same thing as before, only we’ll start taking advantage of PyTorch’s nn classes to make it more concise and flexible. At each step from here, we should be making our code one or more of: shorter, more understandable, and/or more flexible.\n",
        "\n",
        "The first and easiest step is to make our code shorter by replacing our hand-written activation and loss functions with those from torch.nn.functional (which is generally imported into the namespace F by convention). This module contains all the functions in the torch.nn library (whereas other parts of the library contain classes). As well as a wide range of loss and activation functions, you’ll also find here some convenient functions for creating neural nets, such as pooling functions. (There are also functions for doing convolutions, linear layers, etc, but as we’ll see, these are usually better handled using other parts of the library.)\n",
        "\n",
        "If you’re using negative log likelihood loss and log softmax activation, then Pytorch provides a single function F.cross_entropy that combines the two. So we can even remove the activation function from our model."
      ]
    },
    {
      "cell_type": "code",
      "metadata": {
        "id": "GFRcYXQpVvr_",
        "colab_type": "code",
        "colab": {}
      },
      "source": [
        "import torch.nn.functional as F\n",
        "\n",
        "loss_func = F.cross_entropy\n",
        "\n",
        "def model(xb):\n",
        "    return xb @ weights + bias"
      ],
      "execution_count": 0,
      "outputs": []
    },
    {
      "cell_type": "code",
      "metadata": {
        "id": "8B0cz4mOVE9-",
        "colab_type": "code",
        "outputId": "44124381-0f66-461e-ade2-82cbf01a6571",
        "colab": {
          "base_uri": "https://localhost:8080/",
          "height": 34
        }
      },
      "source": [
        "print(loss_func(model(xb),yb), accuracy(model(xb),yb))"
      ],
      "execution_count": 19,
      "outputs": [
        {
          "output_type": "stream",
          "text": [
            "tensor(0.0797, grad_fn=<NllLossBackward>) tensor(1.)\n"
          ],
          "name": "stdout"
        }
      ]
    },
    {
      "cell_type": "markdown",
      "metadata": {
        "id": "wRk1Z9mlVoav",
        "colab_type": "text"
      },
      "source": [
        "#Refactor using nn.Module\n",
        "\n",
        "Next up, we’ll use **nn.Module** and **nn.Parameter**, for a clearer and more concise training loop. We subclass **nn.Module** (which itself is a class and able to keep track of state). In this case, we want to create a class that holds our weights, bias, and method for the forward step. **nn.Module** has a number of attributes and methods (such as **.parameters() and .zero_grad()**) which we will be using.\n",
        "\n",
        "NOTE\n",
        "\n",
        "nn.Module (uppercase M) is a PyTorch specific concept, and is a class we’ll be using a lot. nn.Module is not to be confused with the Python concept of a (lowercase m) module, which is a file of Python code that can be imported."
      ]
    },
    {
      "cell_type": "code",
      "metadata": {
        "id": "6tp7-sUOVXIf",
        "colab_type": "code",
        "colab": {}
      },
      "source": [
        "from torch import nn\n",
        "\n",
        "class Mnist_Logistic(nn.Module):\n",
        "    def __init__(self):\n",
        "        super().__init__()\n",
        "        self.weights = nn.Parameter(torch.randn(784,10)/math.sqrt(784))\n",
        "        self.bias = nn.Parameter(torch.zeros(10))\n",
        "        \n",
        "    def forward(self,xb):\n",
        "        return xb @ self.weights+self.bias\n",
        "    "
      ],
      "execution_count": 0,
      "outputs": []
    },
    {
      "cell_type": "markdown",
      "metadata": {
        "id": "lzsBTJtJXYEk",
        "colab_type": "text"
      },
      "source": [
        "Since we’re now using an object instead of just using a function, we first have to instantiate our model:\n",
        "\n"
      ]
    },
    {
      "cell_type": "code",
      "metadata": {
        "id": "i27NzwVRXRKn",
        "colab_type": "code",
        "colab": {}
      },
      "source": [
        "model = Mnist_Logistic()\n"
      ],
      "execution_count": 0,
      "outputs": []
    },
    {
      "cell_type": "markdown",
      "metadata": {
        "id": "MI5Agrv_YIHg",
        "colab_type": "text"
      },
      "source": [
        "Now we can calculate the loss in the same way as before. Note that nn.Module objects are used as if they are functions (i.e they are callable), but behind the scenes Pytorch will call our forward method automatically."
      ]
    },
    {
      "cell_type": "code",
      "metadata": {
        "id": "hlJ3aMV8YALb",
        "colab_type": "code",
        "outputId": "31c84023-9cb8-4149-c12d-413d914b41cf",
        "colab": {
          "base_uri": "https://localhost:8080/",
          "height": 34
        }
      },
      "source": [
        "print(loss_func(model(xb),yb))"
      ],
      "execution_count": 22,
      "outputs": [
        {
          "output_type": "stream",
          "text": [
            "tensor(2.4332, grad_fn=<NllLossBackward>)\n"
          ],
          "name": "stdout"
        }
      ]
    },
    {
      "cell_type": "markdown",
      "metadata": {
        "id": "pPCzIXIfZEHA",
        "colab_type": "text"
      },
      "source": [
        "Previously for our training loop we had to update the values for each parameter by name, and manually zero out the grads for each parameter separately, like this:\n",
        "\n",
        "\n",
        "```\n",
        "with torch.no_grad():\n",
        "    weights -= weights.grad * lr\n",
        "    bias  -= bias.grad * lr\n",
        "    weights.grad.zero_()\n",
        "    bias.grad.zero_()\n",
        "```\n",
        "\n",
        "Now we can take advantage of **model.parameters() and model.zero_grad()** (which are both defined by PyTorch for nn.Module) to make those steps more concise and less prone to the error of forgetting some of our parameters, particularly if we had a more complicated model:\n",
        "\n",
        "\n",
        "```\n",
        "with torch.no_grad():\n",
        "    for p in model.parameters(): p -= p.grad * lr\n",
        "    model.zero_grad()\n",
        "```\n",
        "\n",
        "\n"
      ]
    },
    {
      "cell_type": "markdown",
      "metadata": {
        "id": "y4eCi-fBbe2A",
        "colab_type": "text"
      },
      "source": [
        "We’ll wrap our little training loop in a fit function so we can run it again later."
      ]
    },
    {
      "cell_type": "code",
      "metadata": {
        "id": "W_eXFf2PZegE",
        "colab_type": "code",
        "colab": {}
      },
      "source": [
        "def fit():\n",
        "    for epoch in range(epochs):\n",
        "        for i in range ((n-1)//bs +1):\n",
        "            start_i = i * bs\n",
        "            end_i = start_i + bs\n",
        "            xb = x_train[start_i:end_i]\n",
        "            yb = y_train[start_i:end_i]\n",
        "            pred = model(xb)\n",
        "            loss = loss_func(pred,yb)\n",
        "            \n",
        "            loss.backward()\n",
        "            with torch.no_grad():\n",
        "                for p in model.parameters():\n",
        "                    p -= p.grad * lr\n",
        "                model.zero_grad()\n",
        "fit()\n",
        "            "
      ],
      "execution_count": 0,
      "outputs": []
    },
    {
      "cell_type": "markdown",
      "metadata": {
        "id": "pAZ7vKW2clua",
        "colab_type": "text"
      },
      "source": [
        "Let’s double-check that our loss has gone down:"
      ]
    },
    {
      "cell_type": "code",
      "metadata": {
        "id": "CrpXVD2hZ3r-",
        "colab_type": "code",
        "outputId": "7057148b-a4e2-4350-f37e-2e2b5316cfd8",
        "colab": {
          "base_uri": "https://localhost:8080/",
          "height": 34
        }
      },
      "source": [
        "print(loss_func(model(xb),yb))"
      ],
      "execution_count": 24,
      "outputs": [
        {
          "output_type": "stream",
          "text": [
            "tensor(0.0814, grad_fn=<NllLossBackward>)\n"
          ],
          "name": "stdout"
        }
      ]
    },
    {
      "cell_type": "markdown",
      "metadata": {
        "id": "c8r0ecrdc0xz",
        "colab_type": "text"
      },
      "source": [
        "#Refactor using nn.Linear\n",
        "\n",
        "We continue to refactor our code. Instead of manually defining and initializing **self.weights** and **self.bias**, and calculating **xb  @ self.weights + self.bias**, we will instead use the Pytorch class nn.Linear for a linear layer, which does all that for us. Pytorch has many types of predefined layers that can greatly simplify our code, and often makes it faster too."
      ]
    },
    {
      "cell_type": "code",
      "metadata": {
        "id": "V7zGATqIcrV1",
        "colab_type": "code",
        "colab": {}
      },
      "source": [
        "class Mnist_Logistic(nn.Module):\n",
        "    def __init__(self):\n",
        "        super().__init__()\n",
        "        self.lin = nn.Linear(784,10)\n",
        "        \n",
        "    def forward(self,xb):\n",
        "        return self.lin(xb)"
      ],
      "execution_count": 0,
      "outputs": []
    },
    {
      "cell_type": "markdown",
      "metadata": {
        "id": "FS4M2RF1dhlo",
        "colab_type": "text"
      },
      "source": [
        "We instantiate our model and calculate the loss in the same way as before:"
      ]
    },
    {
      "cell_type": "code",
      "metadata": {
        "id": "Zh5kL50DdkXY",
        "colab_type": "code",
        "outputId": "d1566bfe-5d01-4185-fd0c-ddf1799ec3ce",
        "colab": {
          "base_uri": "https://localhost:8080/",
          "height": 34
        }
      },
      "source": [
        "model = Mnist_Logistic()\n",
        "print(loss_func(model(xb),yb))"
      ],
      "execution_count": 26,
      "outputs": [
        {
          "output_type": "stream",
          "text": [
            "tensor(2.3215, grad_fn=<NllLossBackward>)\n"
          ],
          "name": "stdout"
        }
      ]
    },
    {
      "cell_type": "markdown",
      "metadata": {
        "id": "haysjqxCdy04",
        "colab_type": "text"
      },
      "source": [
        "We are still able to use our same fit method as before."
      ]
    },
    {
      "cell_type": "code",
      "metadata": {
        "id": "zvt-Iincdu_p",
        "colab_type": "code",
        "colab": {}
      },
      "source": [
        "fit()"
      ],
      "execution_count": 0,
      "outputs": []
    },
    {
      "cell_type": "code",
      "metadata": {
        "id": "O3YXO9TFd11S",
        "colab_type": "code",
        "outputId": "71008932-bc15-469d-9be2-39cf78e86505",
        "colab": {
          "base_uri": "https://localhost:8080/",
          "height": 34
        }
      },
      "source": [
        "print(loss_func(model(xb),yb))"
      ],
      "execution_count": 28,
      "outputs": [
        {
          "output_type": "stream",
          "text": [
            "tensor(0.0815, grad_fn=<NllLossBackward>)\n"
          ],
          "name": "stdout"
        }
      ]
    },
    {
      "cell_type": "markdown",
      "metadata": {
        "id": "rP2n5tbjeWfb",
        "colab_type": "text"
      },
      "source": [
        "#Refactor using optim\n",
        "\n",
        "Pytorch also has a package with various optimization algorithms, **torch.optim**. We can use the **step** method from our optimizer to take a forward step, instead of manually updating each parameter.\n",
        "\n",
        "This will let us replace our previous manually coded optimization step:\n",
        "\n",
        "\n",
        "\n",
        "```\n",
        "with torch.no_grad():\n",
        "    for p in model.parameters(): p -= p.grad * lr\n",
        "    model.zero_grad()\n",
        "```\n",
        "\n",
        "and instead we use just:\n",
        "\n",
        "\n",
        "```\n",
        "opt.step()\n",
        "opt.zero_grad()\n",
        "```\n",
        "(**optim.zero_grad()** resets the gradient to 0 and we need to call it before computing the gradient for the next minibatch.)\n",
        "\n",
        "\n"
      ]
    },
    {
      "cell_type": "code",
      "metadata": {
        "id": "5OoMR-brd4nH",
        "colab_type": "code",
        "colab": {}
      },
      "source": [
        "from torch import optim\n"
      ],
      "execution_count": 0,
      "outputs": []
    },
    {
      "cell_type": "markdown",
      "metadata": {
        "id": "XiIwhNjVffNa",
        "colab_type": "text"
      },
      "source": [
        "We’ll define a little function to create our model and optimizer so we can reuse it in the future."
      ]
    },
    {
      "cell_type": "code",
      "metadata": {
        "id": "PwcpDg91fcBA",
        "colab_type": "code",
        "outputId": "5741dd90-f413-413c-b984-62011fa10dc5",
        "colab": {
          "base_uri": "https://localhost:8080/",
          "height": 51
        }
      },
      "source": [
        "def get_model():\n",
        "    model = Mnist_Logistic()\n",
        "    return model, optim.SGD(model.parameters(), lr=lr)\n",
        "\n",
        "model, opt = get_model()\n",
        "print(loss_func(model(xb), yb))\n",
        "\n",
        "for epoch in range(epochs):\n",
        "    for i in range((n - 1) // bs + 1):\n",
        "        start_i = i * bs\n",
        "        end_i = start_i + bs\n",
        "        xb = x_train[start_i:end_i]\n",
        "        yb = y_train[start_i:end_i]\n",
        "        pred = model(xb)\n",
        "        loss = loss_func(pred, yb)\n",
        "\n",
        "        loss.backward()\n",
        "        opt.step()\n",
        "        opt.zero_grad()\n",
        "\n",
        "print(loss_func(model(xb), yb))"
      ],
      "execution_count": 30,
      "outputs": [
        {
          "output_type": "stream",
          "text": [
            "tensor(2.3137, grad_fn=<NllLossBackward>)\n",
            "tensor(0.0813, grad_fn=<NllLossBackward>)\n"
          ],
          "name": "stdout"
        }
      ]
    },
    {
      "cell_type": "markdown",
      "metadata": {
        "id": "bqAealFGsLMq",
        "colab_type": "text"
      },
      "source": [
        "# Refactor using Dataset\n",
        "\n",
        "PyTorch has an abstract Dataset class. A Dataset can be anything that has a `__len__` function (called by Python’s standard len function) and a `__getitem__` function as a way of indexing into it. This tutorial walks through a nice example of creating a custom **FacialLandmarkDataset** class as a subclass of Dataset.\n",
        "\n",
        "PyTorch’s TensorDataset is a Dataset wrapping tensors. By defining a length and way of indexing, this also gives us a way to iterate, index, and slice along the first dimension of a tensor. This will make it easier to access both the independent and dependent variables in the same line as we train."
      ]
    },
    {
      "cell_type": "code",
      "metadata": {
        "id": "LVglIB8bf-xe",
        "colab_type": "code",
        "colab": {}
      },
      "source": [
        "from torch.utils.data import TensorDataset\n"
      ],
      "execution_count": 0,
      "outputs": []
    },
    {
      "cell_type": "markdown",
      "metadata": {
        "id": "t50DXUVtsnK1",
        "colab_type": "text"
      },
      "source": [
        "Both x_train and y_train can be combined in a single **TensorDataset**, which will be easier to iterate over and slice."
      ]
    },
    {
      "cell_type": "code",
      "metadata": {
        "id": "lK8RipcIu23B",
        "colab_type": "code",
        "colab": {}
      },
      "source": [
        "train_ds = TensorDataset(x_train,y_train)"
      ],
      "execution_count": 0,
      "outputs": []
    },
    {
      "cell_type": "markdown",
      "metadata": {
        "id": "Ikj9WmXTuEJ7",
        "colab_type": "text"
      },
      "source": [
        "Previously, we had to iterate through minibatches of x and y values separately:\n",
        "\n",
        "\n",
        "\n",
        "```\n",
        "xb = x_train[start_i:end_i]\n",
        "yb = y_train[start_i:end_i]\n",
        "```\n",
        "\n",
        "Now, we can do these two steps together:\n",
        "\n",
        "```\n",
        "xb,yb = train_ds[i*bs : i*bs+bs]\n",
        "```\n",
        "\n"
      ]
    },
    {
      "cell_type": "code",
      "metadata": {
        "id": "NrhXUnPMuprj",
        "colab_type": "code",
        "outputId": "726cb087-c7ae-4a83-b581-fbb8cff3601b",
        "colab": {
          "base_uri": "https://localhost:8080/",
          "height": 34
        }
      },
      "source": [
        "model, opt = get_model()\n",
        "\n",
        "for epoch in range(epochs):\n",
        "    for i in range((n-1)//bs+1):\n",
        "        xb,yb=train_ds[i*bs:i*bs+bs]\n",
        "        pred = model(xb)\n",
        "        loss = loss_func(pred,yb)\n",
        "        \n",
        "        loss.backward()\n",
        "        opt.step()\n",
        "        opt.zero_grad()\n",
        "        \n",
        "print(loss_func(model(xb),yb))\n",
        "        \n",
        "    "
      ],
      "execution_count": 33,
      "outputs": [
        {
          "output_type": "stream",
          "text": [
            "tensor(0.0825, grad_fn=<NllLossBackward>)\n"
          ],
          "name": "stdout"
        }
      ]
    },
    {
      "cell_type": "markdown",
      "metadata": {
        "id": "Mq6_05c4vt-f",
        "colab_type": "text"
      },
      "source": [
        "#Refactor using DataLoader\n",
        "\n",
        "Pytorch’s **DataLoader** is responsible for managing batches. You can create a **DataLoader** from any **Dataset. DataLoader** makes it easier to iterate over batches. Rather than having to use **`train_ds[i*bs : i*bs+bs]`**, the DataLoader gives us each minibatch automatically."
      ]
    },
    {
      "cell_type": "code",
      "metadata": {
        "id": "YyeNCaa6vSWT",
        "colab_type": "code",
        "colab": {}
      },
      "source": [
        "from torch.utils.data import DataLoader\n",
        "\n",
        "train_ds = TensorDataset(x_train,y_train)\n",
        "train_dl = DataLoader(train_ds,batch_size=bs)"
      ],
      "execution_count": 0,
      "outputs": []
    },
    {
      "cell_type": "markdown",
      "metadata": {
        "id": "HVOLqBmtxr4W",
        "colab_type": "text"
      },
      "source": [
        "Previously, our loop iterated over batches (xb, yb) like this:\n",
        "\n",
        "\n",
        "```\n",
        "for i in range((n-1)//bs + 1):\n",
        "    xb,yb = train_ds[i*bs : i*bs+bs]\n",
        "    pred = model(xb)\n",
        "```\n",
        "Now, our loop is much cleaner, as (xb, yb) are loaded automatically from the data loader:\n",
        "\n",
        "\n",
        "\n",
        "```\n",
        "for xb,yb in train_dl:\n",
        "    pred = model(xb)\n",
        "```\n",
        "\n",
        "\n"
      ]
    },
    {
      "cell_type": "code",
      "metadata": {
        "id": "rGtjsduLxo7z",
        "colab_type": "code",
        "outputId": "4d76804c-d2ce-41a4-a433-552a441125d7",
        "colab": {
          "base_uri": "https://localhost:8080/",
          "height": 34
        }
      },
      "source": [
        "model , opt =get_model()\n",
        "\n",
        "for epoch in range(epochs):\n",
        "    for xb,yb in train_dl:\n",
        "        pred=model(xb)\n",
        "        loss = loss_func(pred,yb)\n",
        "        \n",
        "        loss.backward()\n",
        "        opt.step()\n",
        "        opt.zero_grad()\n",
        "        \n",
        "print(loss_func(model(xb),yb))"
      ],
      "execution_count": 35,
      "outputs": [
        {
          "output_type": "stream",
          "text": [
            "tensor(0.0838, grad_fn=<NllLossBackward>)\n"
          ],
          "name": "stdout"
        }
      ]
    },
    {
      "cell_type": "markdown",
      "metadata": {
        "id": "SirEBltMy44b",
        "colab_type": "text"
      },
      "source": [
        "Thanks to Pytorch’s **nn.Module, nn.Parameter, Dataset, and DataLoader**, our training loop is now dramatically smaller and easier to understand. Let’s now try to add the basic features necessary to create effecive models in practice."
      ]
    },
    {
      "cell_type": "markdown",
      "metadata": {
        "id": "-hIaJGMzJzJw",
        "colab_type": "text"
      },
      "source": [
        "##Add validation\n",
        "\n",
        "In section 1, we were just trying to get a reasonable training loop set up for use on our training data. In reality, you always should also have a validation set, in order to identify if you are overfitting.\n",
        "\n",
        "Shuffling the training data is important to prevent correlation between batches and overfitting. On the other hand, the validation loss will be identical whether we shuffle the validation set or not. Since shuffling takes extra time, it makes no sense to shuffle the validation data.\n",
        "\n",
        "We’ll use a batch size for the validation set that is twice as large as that for the training set. This is because the validation set does not need backpropagation and thus takes less memory (it doesn’t need to store the gradients). We take advantage of this to use a larger batch size and compute the loss more quickly.\n",
        "\n",
        "train_ds = TensorDataset"
      ]
    },
    {
      "cell_type": "code",
      "metadata": {
        "id": "pfkGF4kRyeAP",
        "colab_type": "code",
        "colab": {}
      },
      "source": [
        "train_ds = TensorDataset(x_train,y_train)\n",
        "train_dl = DataLoader(train_ds,batch_size=bs,shuffle=True)\n",
        "\n",
        "valid_ds = TensorDataset(x_valid,y_valid)\n",
        "valid_dl = DataLoader(valid_ds,batch_size=bs*2)"
      ],
      "execution_count": 0,
      "outputs": []
    },
    {
      "cell_type": "markdown",
      "metadata": {
        "id": "rysGnznCL-Xw",
        "colab_type": "text"
      },
      "source": [
        "We will calculate and print the validation loss at the end of each epoch.\n",
        "\n",
        "(Note that we always call **model.train()** before training, and **model.eval()** before inference, because these are used by layers such as **nn.BatchNorm2d** and **nn.Dropout** to ensure appropriate behaviour for these different phases.)"
      ]
    },
    {
      "cell_type": "code",
      "metadata": {
        "id": "UcetsRWgLzm3",
        "colab_type": "code",
        "outputId": "9187b6f9-a77a-4093-ed93-225d1ac41cf4",
        "colab": {
          "base_uri": "https://localhost:8080/",
          "height": 51
        }
      },
      "source": [
        "mode, opt = get_model()\n",
        "\n",
        "for epoch in range(epochs):\n",
        "    model.train()\n",
        "    for xb,yb in train_dl:\n",
        "        pred = model(xb)\n",
        "        loss = loss_func(pred,yb)\n",
        "        \n",
        "        loss.backward()\n",
        "        opt.step()\n",
        "        opt.zero_grad()\n",
        "        \n",
        "    model.eval()\n",
        "    with torch.no_grad():\n",
        "        valid_loss = sum(loss_func(model(xb),yb) for xb,yb in valid_dl)\n",
        "        \n",
        "    print(epoch,valid_loss/len(valid_dl))"
      ],
      "execution_count": 37,
      "outputs": [
        {
          "output_type": "stream",
          "text": [
            "0 tensor(0.2896)\n",
            "1 tensor(0.2896)\n"
          ],
          "name": "stdout"
        }
      ]
    },
    {
      "cell_type": "code",
      "metadata": {
        "id": "TOvlwJ5ENK6F",
        "colab_type": "code",
        "outputId": "778377b8-8c6a-44df-a797-b46065671ed1",
        "colab": {
          "base_uri": "https://localhost:8080/",
          "height": 34
        }
      },
      "source": [
        "len(valid_dl)"
      ],
      "execution_count": 38,
      "outputs": [
        {
          "output_type": "execute_result",
          "data": {
            "text/plain": [
              "79"
            ]
          },
          "metadata": {
            "tags": []
          },
          "execution_count": 38
        }
      ]
    },
    {
      "cell_type": "markdown",
      "metadata": {
        "id": "7ghm38otOUiM",
        "colab_type": "text"
      },
      "source": [
        "#Create fit() and get_data()\n",
        "\n",
        "We’ll now do a little refactoring of our own. Since we go through a similar process twice of calculating the loss for both the training set and the validation set, let’s make that into its own function, **loss_batch**, which computes the loss for one batch.\n",
        "\n",
        "We pass an optimizer in for the training set, and use it to perform backprop. For the validation set, we don’t pass an optimizer, so the method doesn’t perform backprop."
      ]
    },
    {
      "cell_type": "code",
      "metadata": {
        "id": "Cz407MLoNakT",
        "colab_type": "code",
        "colab": {}
      },
      "source": [
        "def loss_batch(model,loss_func,xb,yb,opt=None):\n",
        "    loss = loss_func(model(xb),yb)\n",
        "    \n",
        "    if opt is not None:\n",
        "        loss.backward()\n",
        "        opt.step()\n",
        "        opt.zero_grad()\n",
        "        \n",
        "    return loss.item(), len(xb) "
      ],
      "execution_count": 0,
      "outputs": []
    },
    {
      "cell_type": "markdown",
      "metadata": {
        "id": "LUCpvMtRP2f6",
        "colab_type": "text"
      },
      "source": [
        "**fit** runs the necessary operations to train our model and compute the training and validation losses for each epoch."
      ]
    },
    {
      "cell_type": "code",
      "metadata": {
        "id": "hubbxiibPc9h",
        "colab_type": "code",
        "colab": {}
      },
      "source": [
        "import numpy as np\n",
        "\n",
        "def fit(epochs, model, loss_func, opt, train_dl, valid_dl):\n",
        "    for epoch in range(epochs):\n",
        "        model.train()\n",
        "        for xb, yb in train_dl:\n",
        "            loss_batch(model, loss_func, xb, yb, opt)\n",
        "\n",
        "        model.eval()\n",
        "        with torch.no_grad():\n",
        "            losses, nums = zip(\n",
        "                *[loss_batch(model, loss_func, xb, yb) for xb, yb in valid_dl]\n",
        "            )\n",
        "        val_loss = np.sum(np.multiply(losses, nums)) / np.sum(nums)\n",
        "\n",
        "        print(epoch, val_loss)\n",
        "        \n",
        "        "
      ],
      "execution_count": 0,
      "outputs": []
    },
    {
      "cell_type": "markdown",
      "metadata": {
        "id": "j8fSOLQHR625",
        "colab_type": "text"
      },
      "source": [
        "**get_data** returns dataloaders for the training and validation sets."
      ]
    },
    {
      "cell_type": "code",
      "metadata": {
        "id": "rdH_jJ5y3R5w",
        "colab_type": "code",
        "colab": {}
      },
      "source": [
        "def get_data(train_ds, valid_ds, bs):\n",
        "    return (\n",
        "        DataLoader(train_ds, batch_size=bs, shuffle=True),\n",
        "        DataLoader(valid_ds, batch_size=bs * 2),\n",
        "    )"
      ],
      "execution_count": 0,
      "outputs": []
    },
    {
      "cell_type": "markdown",
      "metadata": {
        "id": "uK-HOz7--vfM",
        "colab_type": "text"
      },
      "source": [
        "Now, our whole process of obtaining the data loaders and fitting the model can be run in 3 lines of code:"
      ]
    },
    {
      "cell_type": "code",
      "metadata": {
        "id": "9WqTNmT_R1HN",
        "colab_type": "code",
        "colab": {
          "base_uri": "https://localhost:8080/",
          "height": 51
        },
        "outputId": "d2665f0b-3300-4357-a99d-a16276102724"
      },
      "source": [
        "train_dl, valid_dl = get_data(train_ds, valid_ds, bs)\n",
        "model, opt = get_model()\n",
        "fit(epochs, model, loss_func, opt, train_dl, valid_dl)"
      ],
      "execution_count": 50,
      "outputs": [
        {
          "output_type": "stream",
          "text": [
            "0 0.31366065764427187\n",
            "1 0.2956781319618225\n"
          ],
          "name": "stdout"
        }
      ]
    },
    {
      "cell_type": "markdown",
      "metadata": {
        "id": "T8GMNg4x6cRw",
        "colab_type": "text"
      },
      "source": [
        "You can use these basic 3 lines of code to train a wide variety of models. Let’s see if we can use them to train a convolutional neural network (CNN)!"
      ]
    },
    {
      "cell_type": "markdown",
      "metadata": {
        "id": "q1lE-7M86u85",
        "colab_type": "text"
      },
      "source": [
        "#Switch to CNN\n",
        "\n",
        "We are now going to build our neural network with three convolutional layers. Because none of the functions in the previous section assume anything about the model form, we’ll be able to use them to train a CNN without any modification.\n",
        "\n",
        "We will use Pytorch’s predefined **Conv2d** class as our convolutional layer. We define a CNN with 3 convolutional layers. Each convolution is followed by a ReLU. At the end, we perform an average pooling. (Note that **view** is PyTorch’s version of numpy’s **reshape**)"
      ]
    },
    {
      "cell_type": "code",
      "metadata": {
        "id": "Htm8LZmz3168",
        "colab_type": "code",
        "colab": {}
      },
      "source": [
        "class Mnist_CNN(nn.Module):\n",
        "    def __init__(self):\n",
        "        super().__init__()\n",
        "        self.conv1 = nn.Conv2d(1,16,kernel_size=3,stride=2,padding=1)\n",
        "        self.conv2 = nn.Conv2d(16,16,kernel_size=3,stride=2,padding=1)\n",
        "        self.conv3 = nn.Conv2d(16,10,kernel_size=3,stride=2,padding=1)\n",
        "        \n",
        "    def forward(self,xb):\n",
        "        xb = xb.view(-1,1,28,28)\n",
        "        xb = F.relu(self.conv1(xb))\n",
        "        xb = F.relu(self.conv2(xb))\n",
        "        xb = F.relu(self.conv3(xb))\n",
        "        xb = F.avg_pool2d(xb,4)\n",
        "        return xb.view(-1,xb.size(1))\n",
        "lr=0.1\n",
        "        "
      ],
      "execution_count": 0,
      "outputs": []
    },
    {
      "cell_type": "markdown",
      "metadata": {
        "id": "ZwnFvgwL8hPK",
        "colab_type": "text"
      },
      "source": [
        "**Momentum** is a variation on stochastic gradient descent that takes previous updates into account as well and generally leads to faster training."
      ]
    },
    {
      "cell_type": "code",
      "metadata": {
        "id": "3KD1tI-o8Ys5",
        "colab_type": "code",
        "colab": {
          "base_uri": "https://localhost:8080/",
          "height": 51
        },
        "outputId": "a626b0c2-abf2-461b-adcc-ebd5be9f98c4"
      },
      "source": [
        "model = Mnist_CNN()\n",
        "opt = optim.SGD(model.parameters(),lr=lr, momentum=0.9)\n",
        "\n",
        "fit(epochs,model, loss_func,opt, train_dl, valid_dl)"
      ],
      "execution_count": 52,
      "outputs": [
        {
          "output_type": "stream",
          "text": [
            "0 0.30863230471611025\n",
            "1 0.23678430123329164\n"
          ],
          "name": "stdout"
        }
      ]
    },
    {
      "cell_type": "markdown",
      "metadata": {
        "id": "dCl7U8oZ93qv",
        "colab_type": "text"
      },
      "source": [
        "#nn.Sequential\n",
        "\n",
        "**torch.nn** has another handy class we can use to simply our code: **Sequential** . A **Sequential** object runs each of the modules contained within it, in a sequential manner. This is a simpler way of writing our neural network.\n",
        "\n",
        "To take advantage of this, we need to be able to easily define a **custom layer** from a given function. For instance, PyTorch doesn’t have a view layer, and we need to create one for our network. **Lambda** will create a layer that we can then use when defining a network with **Sequential.**"
      ]
    },
    {
      "cell_type": "code",
      "metadata": {
        "id": "xFA3pOvq80Jb",
        "colab_type": "code",
        "colab": {}
      },
      "source": [
        "class Lambda(nn.Module):\n",
        "    def __init__(self,func):\n",
        "        super().__init__()\n",
        "        self.func=func\n",
        "        \n",
        "    def forward(self,x):\n",
        "        return self.func(x)\n",
        "    \n",
        "def preprocess(x):\n",
        "    return x.view(-1,1,28,28)"
      ],
      "execution_count": 0,
      "outputs": []
    },
    {
      "cell_type": "markdown",
      "metadata": {
        "id": "pSSUcOFE-219",
        "colab_type": "text"
      },
      "source": [
        "The model created with Sequential is simply:"
      ]
    },
    {
      "cell_type": "code",
      "metadata": {
        "id": "Lx5iU02t-gLL",
        "colab_type": "code",
        "colab": {
          "base_uri": "https://localhost:8080/",
          "height": 51
        },
        "outputId": "e7dabf85-f5a0-43e4-f25c-26d0e10a04b4"
      },
      "source": [
        "model = nn.Sequential(\n",
        "    Lambda(preprocess),\n",
        "    nn.Conv2d(1,16,kernel_size=3,stride=2,padding=1),\n",
        "    nn.ReLU(),\n",
        "    nn.Conv2d(16,16,kernel_size=3,stride=2,padding=1),\n",
        "    nn.ReLU(),\n",
        "    nn.Conv2d(16,10,kernel_size=3,stride=2,padding=1),\n",
        "    nn.ReLU(),\n",
        "    nn.AvgPool2d(4),\n",
        "    Lambda(lambda x : x.view(x.size(0),-1)),\n",
        ")\n",
        "\n",
        "opt = optim.SGD(model.parameters(),lr=lr,momentum=0.9)\n",
        "\n",
        "fit(epochs,model,loss_func,opt,train_dl,valid_dl)"
      ],
      "execution_count": 55,
      "outputs": [
        {
          "output_type": "stream",
          "text": [
            "0 0.3283403753757477\n",
            "1 0.2817379487991333\n"
          ],
          "name": "stdout"
        }
      ]
    },
    {
      "cell_type": "markdown",
      "metadata": {
        "id": "OfoZMDVlASZQ",
        "colab_type": "text"
      },
      "source": [
        "#Wrapping DataLoader\n",
        "\n",
        "Our CNN is fairly concise, but it only works with MNIST, because:\n",
        "It assumes the input is a 28*28 long vector\n",
        "It assumes that the final CNN grid size is 4*4 (since that’s the average\n",
        "pooling kernel size we used)\n",
        "\n",
        "Let’s get rid of these two assumptions, so our model works with any 2d single channel image. First, we can remove the initial Lambda layer but moving the data preprocessing into a generator:"
      ]
    },
    {
      "cell_type": "code",
      "metadata": {
        "id": "5IjgSx9uAAmn",
        "colab_type": "code",
        "colab": {}
      },
      "source": [
        "def preprocess(x,y):\n",
        "    return x.view(-1,1,28,28),y\n",
        "\n",
        "class WrappedDataLoader:\n",
        "    def __init__(self,dl,func):\n",
        "        self.dl = dl\n",
        "        self.func = func\n",
        "        \n",
        "    def __len__(self):\n",
        "        return len(self.dl)\n",
        "    \n",
        "    def __iter__(self):\n",
        "        batches = iter(self.dl)\n",
        "        for b in batches:\n",
        "            yield (self.func(*b))\n",
        "            \n",
        "train_dl,valid_dl = get_data(train_ds,valid_ds,bs)\n",
        "train_dl = WrappedDataLoader(train_dl,preprocess)\n",
        "valid_dl = WrappedDataLoader(valid_dl,preprocess)"
      ],
      "execution_count": 0,
      "outputs": []
    },
    {
      "cell_type": "markdown",
      "metadata": {
        "id": "FOttu5GuB-Yf",
        "colab_type": "text"
      },
      "source": [
        "Next, we can replace **nn.AvgPool2d** with **nn.AdaptiveAvgPool2d**, which allows us to define the size of the output tensor we want, rather than the input tensor we have. As a result, our model will work with any size input."
      ]
    },
    {
      "cell_type": "code",
      "metadata": {
        "id": "fl5O9cxdBssp",
        "colab_type": "code",
        "colab": {}
      },
      "source": [
        "model = nn.Sequential(\n",
        "    nn.Conv2d(1,16,kernel_size=3,stride=2,padding=1),\n",
        "    nn.ReLU(),\n",
        "    nn.Conv2d(16,16,kernel_size=3,stride=2,padding=1),\n",
        "    nn.ReLU(),\n",
        "    nn.Conv2d(16,10,kernel_size=3,stride=2,padding=1),\n",
        "    nn.ReLU(),\n",
        "    nn.AdaptiveAvgPool2d(1),\n",
        "    Lambda(lambda x:x.view(x.size(0),-1))\n",
        ")\n",
        "\n",
        "opt = optim.SGD(model.parameters(), lr = lr, momentum=0.9)"
      ],
      "execution_count": 0,
      "outputs": []
    },
    {
      "cell_type": "markdown",
      "metadata": {
        "id": "m8MtyuHnDKU_",
        "colab_type": "text"
      },
      "source": [
        "Let’s try it out:"
      ]
    },
    {
      "cell_type": "code",
      "metadata": {
        "id": "fbclqFHbDH19",
        "colab_type": "code",
        "colab": {
          "base_uri": "https://localhost:8080/",
          "height": 51
        },
        "outputId": "0e101d58-f8e0-4fd4-c252-4db9b51b8f47"
      },
      "source": [
        "fit(epochs,model,loss_func,opt,train_dl,valid_dl)"
      ],
      "execution_count": 58,
      "outputs": [
        {
          "output_type": "stream",
          "text": [
            "0 0.46803410940170287\n",
            "1 0.29254073219299315\n"
          ],
          "name": "stdout"
        }
      ]
    },
    {
      "cell_type": "markdown",
      "metadata": {
        "id": "ZduH2PlXGTAM",
        "colab_type": "text"
      },
      "source": [
        "#Using your GPU\n",
        "\n",
        "If you’re lucky enough to have access to a CUDA-capable GPU (you can rent one for about $0.50/hour from most cloud providers) you can use it to speed up your code. First check that your GPU is working in Pytorch:"
      ]
    },
    {
      "cell_type": "code",
      "metadata": {
        "id": "Qb-2fcm0DTwU",
        "colab_type": "code",
        "colab": {
          "base_uri": "https://localhost:8080/",
          "height": 34
        },
        "outputId": "ebfd598c-bfe7-4259-fad2-e73eb18cc480"
      },
      "source": [
        "print(torch.cuda.is_available())"
      ],
      "execution_count": 59,
      "outputs": [
        {
          "output_type": "stream",
          "text": [
            "True\n"
          ],
          "name": "stdout"
        }
      ]
    },
    {
      "cell_type": "markdown",
      "metadata": {
        "id": "unD9Ih9EGn6V",
        "colab_type": "text"
      },
      "source": [
        "And then create a device object for it:"
      ]
    },
    {
      "cell_type": "code",
      "metadata": {
        "id": "OzQKwLCEGdP7",
        "colab_type": "code",
        "colab": {}
      },
      "source": [
        "dev = torch.device(\n",
        "    \"cuda\") if torch.cuda.is_available() else torch.device(\"cpu\")"
      ],
      "execution_count": 0,
      "outputs": []
    },
    {
      "cell_type": "markdown",
      "metadata": {
        "id": "kftRC7TqGwi2",
        "colab_type": "text"
      },
      "source": [
        "Let’s update preprocess to move batches to the GPU:"
      ]
    },
    {
      "cell_type": "code",
      "metadata": {
        "id": "YohDS9e1GvIF",
        "colab_type": "code",
        "colab": {}
      },
      "source": [
        "def preprocess(x,y):\n",
        "    return x.view(-1,1,28,28).to(dev),y.to(dev)\n",
        "\n",
        "train_dl,valid_dl = get_data(train_ds, valid_ds,bs)\n",
        "train_dl = WrappedDataLoader(train_dl,preprocess)\n",
        "valid_dl = WrappedDataLoader(valid_dl,preprocess)"
      ],
      "execution_count": 0,
      "outputs": []
    },
    {
      "cell_type": "markdown",
      "metadata": {
        "id": "EDXHCMidHm-E",
        "colab_type": "text"
      },
      "source": [
        "Finally, we can move our model to the GPU"
      ]
    },
    {
      "cell_type": "code",
      "metadata": {
        "id": "zhqJ2s0hHfY6",
        "colab_type": "code",
        "colab": {}
      },
      "source": [
        "model.to(dev)\n",
        "opt = optim.SGD(model.parameters(),lr=lr,momentum=0.9)"
      ],
      "execution_count": 0,
      "outputs": []
    },
    {
      "cell_type": "markdown",
      "metadata": {
        "id": "27q7HAG4H9fu",
        "colab_type": "text"
      },
      "source": [
        "You should find it runs faster now:"
      ]
    },
    {
      "cell_type": "code",
      "metadata": {
        "id": "DNT1Iik0H6xZ",
        "colab_type": "code",
        "colab": {
          "base_uri": "https://localhost:8080/",
          "height": 51
        },
        "outputId": "7efbacd7-3455-437f-9223-4ca8abc8b26e"
      },
      "source": [
        "fit(epochs, model, loss_func,opt, train_dl,valid_dl)"
      ],
      "execution_count": 64,
      "outputs": [
        {
          "output_type": "stream",
          "text": [
            "0 0.21185761299133302\n",
            "1 0.18726321969032286\n"
          ],
          "name": "stdout"
        }
      ]
    },
    {
      "cell_type": "markdown",
      "metadata": {
        "id": "Qu8HS2nKJRLr",
        "colab_type": "text"
      },
      "source": [
        "# Closing thoughts\n",
        "\n",
        "We now have a general data pipeline and training loop which you can use for training many types of models using Pytorch. To see how simple training a model can now be, take a look at the mnist_sample sample notebook.\n",
        "\n",
        "Of course, there are many things you’ll want to add, such as data augmentation, hyperparameter tuning, monitoring training, transfer learning, and so forth. These features are available in the fastai library, which has been developed using the same design approach shown in this tutorial, providing a natural next step for practitioners looking to take their models further.\n",
        "\n",
        "We promised at the start of this tutorial we’d explain through example each of torch.nn, torch.optim, Dataset, and DataLoader. So let’s summarize what we’ve seen:\n",
        "\n",
        "- **torch.nn**\n",
        "    - **Module**: creates a callable which behaves like a function, but can also contain state(such as neural net layer weights). It knows what Parameter (s) it contains and can zero all their gradients, loop through them for weight updates, etc.\n",
        "    - **Parameter**: a wrapper for a tensor that tells a Module that it has weights that need updating during backprop. Only tensors with the requires_grad attribute set are updated\n",
        "    - **functional**: a module(usually imported into the F namespace by convention) which contains activation functions, loss functions, etc, as well as non-stateful versions of layers such as convolutional and linear layers.\n",
        "- **torch.optim**: Contains optimizers such as SGD, which update the weights of Parameter during the backward step\n",
        "- **Dataset**: An abstract interface of objects with a `__len__` and a `__getitem__`, including classes provided with Pytorch such as TensorDataset\n",
        "- **DataLoader**: Takes any **Dataset** and creates an iterator which returns batches of data."
      ]
    },
    {
      "cell_type": "code",
      "metadata": {
        "id": "LQ88gwspIKbo",
        "colab_type": "code",
        "colab": {}
      },
      "source": [
        ""
      ],
      "execution_count": 0,
      "outputs": []
    }
  ]
}