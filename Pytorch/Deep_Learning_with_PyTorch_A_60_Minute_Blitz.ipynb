{
  "nbformat": 4,
  "nbformat_minor": 0,
  "metadata": {
    "colab": {
      "name": "Deep Learning with PyTorch: A 60 Minute Blitz.ipynb",
      "version": "0.3.2",
      "provenance": [],
      "collapsed_sections": [
        "prF8BEZNeXF9",
        "t5BWIcnkiPHG",
        "PrPs6YfsjJml"
      ],
      "include_colab_link": true
    },
    "kernelspec": {
      "name": "python3",
      "display_name": "Python 3"
    },
    "accelerator": "GPU"
  },
  "cells": [
    {
      "cell_type": "markdown",
      "metadata": {
        "id": "view-in-github",
        "colab_type": "text"
      },
      "source": [
        "<a href=\"https://colab.research.google.com/github/hduongck/AI-ML-Learning/blob/master/Pytorch/Deep_Learning_with_PyTorch_A_60_Minute_Blitz.ipynb\" target=\"_parent\"><img src=\"https://colab.research.google.com/assets/colab-badge.svg\" alt=\"Open In Colab\"/></a>"
      ]
    },
    {
      "cell_type": "markdown",
      "metadata": {
        "id": "DBm4xtasbTSn",
        "colab_type": "text"
      },
      "source": [
        "#What is Pytorch?\n",
        "\n",
        "It’s a Python-based scientific computing package targeted at two sets of audiences:\n",
        "\n",
        "- A replacement for NumPy to use the power of GPUs\n",
        "- a deep learning research platform that provides maximum flexibility and speed"
      ]
    },
    {
      "cell_type": "markdown",
      "metadata": {
        "id": "O5D5bJd_bZsC",
        "colab_type": "text"
      },
      "source": [
        "##Getting Started"
      ]
    },
    {
      "cell_type": "markdown",
      "metadata": {
        "id": "nQE0TmeZbp2-",
        "colab_type": "text"
      },
      "source": [
        "###Tensors\n",
        "\n",
        "Tensors are similar to NumPy’s ndarrays, with the addition being that Tensors can also be used on a GPU to accelerate computing."
      ]
    },
    {
      "cell_type": "code",
      "metadata": {
        "id": "n8U6QnQEbKfY",
        "colab_type": "code",
        "colab": {}
      },
      "source": [
        "from __future__ import print_function\n",
        "import torch"
      ],
      "execution_count": 0,
      "outputs": []
    },
    {
      "cell_type": "markdown",
      "metadata": {
        "id": "JJPz-yYPcgqR",
        "colab_type": "text"
      },
      "source": [
        "Tensors are similar to NumPy’s ndarrays, with the addition being that Tensors can also be used on a GPU to accelerate computing."
      ]
    },
    {
      "cell_type": "code",
      "metadata": {
        "id": "LemhZLojb1kJ",
        "colab_type": "code",
        "outputId": "540d0ede-6f63-4a6b-eef8-a2c8d685e9a4",
        "colab": {
          "base_uri": "https://localhost:8080/",
          "height": 102
        }
      },
      "source": [
        "x = torch.empty(5,3)\n",
        "x"
      ],
      "execution_count": 0,
      "outputs": [
        {
          "output_type": "execute_result",
          "data": {
            "text/plain": [
              "tensor([[2.0650e-36, 0.0000e+00, 3.3631e-44],\n",
              "        [0.0000e+00,        nan, 0.0000e+00],\n",
              "        [1.1578e+27, 1.1362e+30, 7.1547e+22],\n",
              "        [4.5828e+30, 1.2121e+04, 7.1846e+22],\n",
              "        [9.2198e-39, 0.0000e+00, 0.0000e+00]])"
            ]
          },
          "metadata": {
            "tags": []
          },
          "execution_count": 2
        }
      ]
    },
    {
      "cell_type": "markdown",
      "metadata": {
        "id": "JJwSXGkScygr",
        "colab_type": "text"
      },
      "source": [
        "Construct a randomly initialized matrix:"
      ]
    },
    {
      "cell_type": "code",
      "metadata": {
        "id": "Pw6bRN3ZcnuB",
        "colab_type": "code",
        "outputId": "65b2ee44-d7b9-40a9-8e93-2d2877ebbf61",
        "colab": {
          "base_uri": "https://localhost:8080/",
          "height": 102
        }
      },
      "source": [
        "x = torch.rand(5,3)\n",
        "x"
      ],
      "execution_count": 0,
      "outputs": [
        {
          "output_type": "execute_result",
          "data": {
            "text/plain": [
              "tensor([[0.1103, 0.2087, 0.3214],\n",
              "        [0.0667, 0.5715, 0.2164],\n",
              "        [0.0466, 0.9072, 0.5342],\n",
              "        [0.2448, 0.0624, 0.7565],\n",
              "        [0.6813, 0.9432, 0.0516]])"
            ]
          },
          "metadata": {
            "tags": []
          },
          "execution_count": 3
        }
      ]
    },
    {
      "cell_type": "markdown",
      "metadata": {
        "id": "OQHmHE9Lc-T8",
        "colab_type": "text"
      },
      "source": [
        "Construct a matrix filled zeros and of dtype long:"
      ]
    },
    {
      "cell_type": "code",
      "metadata": {
        "id": "aWzFFvw3c1_x",
        "colab_type": "code",
        "outputId": "f8c0328a-9999-4cc0-f2a3-90cb5ee3ffdf",
        "colab": {
          "base_uri": "https://localhost:8080/",
          "height": 102
        }
      },
      "source": [
        "x = torch.zeros(5,3,dtype=torch.long)\n",
        "x"
      ],
      "execution_count": 0,
      "outputs": [
        {
          "output_type": "execute_result",
          "data": {
            "text/plain": [
              "tensor([[0, 0, 0],\n",
              "        [0, 0, 0],\n",
              "        [0, 0, 0],\n",
              "        [0, 0, 0],\n",
              "        [0, 0, 0]])"
            ]
          },
          "metadata": {
            "tags": []
          },
          "execution_count": 4
        }
      ]
    },
    {
      "cell_type": "markdown",
      "metadata": {
        "id": "brBYKkefdJod",
        "colab_type": "text"
      },
      "source": [
        "Construct a tensor directly from data:"
      ]
    },
    {
      "cell_type": "code",
      "metadata": {
        "id": "PK8Ze5EldEbF",
        "colab_type": "code",
        "outputId": "b3404e5f-6538-4f90-a6ac-66c0ff2dc2aa",
        "colab": {
          "base_uri": "https://localhost:8080/",
          "height": 34
        }
      },
      "source": [
        "x = torch.tensor([5.5,3])\n",
        "x"
      ],
      "execution_count": 0,
      "outputs": [
        {
          "output_type": "execute_result",
          "data": {
            "text/plain": [
              "tensor([5.5000, 3.0000])"
            ]
          },
          "metadata": {
            "tags": []
          },
          "execution_count": 5
        }
      ]
    },
    {
      "cell_type": "markdown",
      "metadata": {
        "id": "7SaafWZSdaAn",
        "colab_type": "text"
      },
      "source": [
        "or create a tensor based on an existing tensor. These methods will reuse properties of the input tensor, e.g. dtype, unless new values are provided by user"
      ]
    },
    {
      "cell_type": "code",
      "metadata": {
        "id": "csBZGN0ddRaf",
        "colab_type": "code",
        "outputId": "db0bf0be-a54c-40d6-8af9-0ae48cb16212",
        "colab": {
          "base_uri": "https://localhost:8080/",
          "height": 102
        }
      },
      "source": [
        "x = x.new_ones(5,3,dtype=torch.double)  #new_* methods take in sizes\n",
        "x"
      ],
      "execution_count": 0,
      "outputs": [
        {
          "output_type": "execute_result",
          "data": {
            "text/plain": [
              "tensor([[1., 1., 1.],\n",
              "        [1., 1., 1.],\n",
              "        [1., 1., 1.],\n",
              "        [1., 1., 1.],\n",
              "        [1., 1., 1.]], dtype=torch.float64)"
            ]
          },
          "metadata": {
            "tags": []
          },
          "execution_count": 6
        }
      ]
    },
    {
      "cell_type": "code",
      "metadata": {
        "id": "1xFfElNudg8u",
        "colab_type": "code",
        "outputId": "17d2967b-5894-4fa5-ada7-befdbcb0e583",
        "colab": {
          "base_uri": "https://localhost:8080/",
          "height": 102
        }
      },
      "source": [
        "x = torch.randn_like(x , dtype=torch.float)\n",
        "x"
      ],
      "execution_count": 0,
      "outputs": [
        {
          "output_type": "execute_result",
          "data": {
            "text/plain": [
              "tensor([[-0.1266,  0.5655, -1.6335],\n",
              "        [-0.6365, -1.6073, -0.0959],\n",
              "        [-1.4976,  1.1684, -1.3429],\n",
              "        [-1.6795, -0.2032, -1.9020],\n",
              "        [-0.4204,  0.1689, -0.6127]])"
            ]
          },
          "metadata": {
            "tags": []
          },
          "execution_count": 7
        }
      ]
    },
    {
      "cell_type": "markdown",
      "metadata": {
        "id": "Tf6UlUZvd_0f",
        "colab_type": "text"
      },
      "source": [
        "get its size:"
      ]
    },
    {
      "cell_type": "code",
      "metadata": {
        "id": "xMYY0JoGd2m3",
        "colab_type": "code",
        "outputId": "6d374bcf-b7ba-45bb-95ef-4ea0e63305a4",
        "colab": {
          "base_uri": "https://localhost:8080/",
          "height": 34
        }
      },
      "source": [
        "torch.Size([5,3])"
      ],
      "execution_count": 0,
      "outputs": [
        {
          "output_type": "execute_result",
          "data": {
            "text/plain": [
              "torch.Size([5, 3])"
            ]
          },
          "metadata": {
            "tags": []
          },
          "execution_count": 8
        }
      ]
    },
    {
      "cell_type": "markdown",
      "metadata": {
        "id": "2ZWAUTuSeJM4",
        "colab_type": "text"
      },
      "source": [
        "**NOTE**\n",
        "\n",
        "torch.Size is in fact a tuple, so it supports all tuple operations."
      ]
    },
    {
      "cell_type": "markdown",
      "metadata": {
        "id": "prF8BEZNeXF9",
        "colab_type": "text"
      },
      "source": [
        "###Operations\n",
        "\n",
        "There are multiple syntaxes for operations. In the following example, we will take a look at the addition operation.\n",
        "\n",
        "Addition: syntax 1"
      ]
    },
    {
      "cell_type": "code",
      "metadata": {
        "id": "KIdm10t2eGh8",
        "colab_type": "code",
        "outputId": "c2731fe8-3e63-4c35-ec55-b548d1341529",
        "colab": {
          "base_uri": "https://localhost:8080/",
          "height": 102
        }
      },
      "source": [
        "y = torch.rand(5,3)\n",
        "x+y"
      ],
      "execution_count": 0,
      "outputs": [
        {
          "output_type": "execute_result",
          "data": {
            "text/plain": [
              "tensor([[ 0.3846,  1.1627, -1.1916],\n",
              "        [-0.5562, -0.8184,  0.7727],\n",
              "        [-0.9799,  2.0060, -0.8293],\n",
              "        [-1.3010, -0.1317, -1.1307],\n",
              "        [ 0.2242,  1.1441,  0.1363]])"
            ]
          },
          "metadata": {
            "tags": []
          },
          "execution_count": 9
        }
      ]
    },
    {
      "cell_type": "markdown",
      "metadata": {
        "id": "V32MUm03etND",
        "colab_type": "text"
      },
      "source": [
        "Addition: syntax 2"
      ]
    },
    {
      "cell_type": "code",
      "metadata": {
        "id": "ETezAYb9enrh",
        "colab_type": "code",
        "outputId": "b7075f52-d240-4fc7-cb7f-644018adc551",
        "colab": {
          "base_uri": "https://localhost:8080/",
          "height": 102
        }
      },
      "source": [
        "torch.add(x,y)"
      ],
      "execution_count": 0,
      "outputs": [
        {
          "output_type": "execute_result",
          "data": {
            "text/plain": [
              "tensor([[ 0.3846,  1.1627, -1.1916],\n",
              "        [-0.5562, -0.8184,  0.7727],\n",
              "        [-0.9799,  2.0060, -0.8293],\n",
              "        [-1.3010, -0.1317, -1.1307],\n",
              "        [ 0.2242,  1.1441,  0.1363]])"
            ]
          },
          "metadata": {
            "tags": []
          },
          "execution_count": 10
        }
      ]
    },
    {
      "cell_type": "markdown",
      "metadata": {
        "id": "-HMAIi4uhdsp",
        "colab_type": "text"
      },
      "source": [
        "Addition: providing an output tensor as argument"
      ]
    },
    {
      "cell_type": "code",
      "metadata": {
        "id": "Bvy0i1sZeymc",
        "colab_type": "code",
        "outputId": "13b6b00c-7f4f-49db-a71b-b193fa383b12",
        "colab": {
          "base_uri": "https://localhost:8080/",
          "height": 102
        }
      },
      "source": [
        "result = torch.empty(5,3)\n",
        "torch.add(x,y,out=result)\n",
        "result"
      ],
      "execution_count": 0,
      "outputs": [
        {
          "output_type": "execute_result",
          "data": {
            "text/plain": [
              "tensor([[ 0.3846,  1.1627, -1.1916],\n",
              "        [-0.5562, -0.8184,  0.7727],\n",
              "        [-0.9799,  2.0060, -0.8293],\n",
              "        [-1.3010, -0.1317, -1.1307],\n",
              "        [ 0.2242,  1.1441,  0.1363]])"
            ]
          },
          "metadata": {
            "tags": []
          },
          "execution_count": 11
        }
      ]
    },
    {
      "cell_type": "markdown",
      "metadata": {
        "id": "2OnBc08zhqTz",
        "colab_type": "text"
      },
      "source": [
        "Addition: in-place"
      ]
    },
    {
      "cell_type": "code",
      "metadata": {
        "id": "uF7OK6ukhmE6",
        "colab_type": "code",
        "outputId": "ef1dacc6-c4bf-4e75-b5d8-d941124e6525",
        "colab": {
          "base_uri": "https://localhost:8080/",
          "height": 102
        }
      },
      "source": [
        "y.add_(x)\n",
        "y"
      ],
      "execution_count": 0,
      "outputs": [
        {
          "output_type": "execute_result",
          "data": {
            "text/plain": [
              "tensor([[ 0.3846,  1.1627, -1.1916],\n",
              "        [-0.5562, -0.8184,  0.7727],\n",
              "        [-0.9799,  2.0060, -0.8293],\n",
              "        [-1.3010, -0.1317, -1.1307],\n",
              "        [ 0.2242,  1.1441,  0.1363]])"
            ]
          },
          "metadata": {
            "tags": []
          },
          "execution_count": 12
        }
      ]
    },
    {
      "cell_type": "markdown",
      "metadata": {
        "id": "RbczPC4dh3zN",
        "colab_type": "text"
      },
      "source": [
        "NOTE\n",
        "\n",
        "Any operation that mutates a tensor in-place is post-fixed with an _. For example: x.copy_(y), x.t_(), will change x."
      ]
    },
    {
      "cell_type": "markdown",
      "metadata": {
        "id": "6n5d-2sPh6hQ",
        "colab_type": "text"
      },
      "source": [
        "You can use standard NumPy-like indexing with all bells and whistles!"
      ]
    },
    {
      "cell_type": "code",
      "metadata": {
        "id": "E47HnZ7Chwwa",
        "colab_type": "code",
        "outputId": "5e43070c-130d-4ce8-be53-289ea98a0ce6",
        "colab": {
          "base_uri": "https://localhost:8080/",
          "height": 34
        }
      },
      "source": [
        "x[:,1]"
      ],
      "execution_count": 0,
      "outputs": [
        {
          "output_type": "execute_result",
          "data": {
            "text/plain": [
              "tensor([ 0.5655, -1.6073,  1.1684, -0.2032,  0.1689])"
            ]
          },
          "metadata": {
            "tags": []
          },
          "execution_count": 13
        }
      ]
    },
    {
      "cell_type": "markdown",
      "metadata": {
        "id": "SO-n6aB6g1Vr",
        "colab_type": "text"
      },
      "source": [
        "**Resizing:** If you want to resize/reshape tensor, you can use torch.view:"
      ]
    },
    {
      "cell_type": "code",
      "metadata": {
        "id": "C7Szcnafgxet",
        "colab_type": "code",
        "outputId": "632fac41-db10-4e80-f656-3d46e5602910",
        "colab": {
          "base_uri": "https://localhost:8080/",
          "height": 153
        }
      },
      "source": [
        "x = torch.rand(4,4)\n",
        "y = x.view(16)\n",
        "z = x.view(-1,8)\n",
        "x,y,z"
      ],
      "execution_count": 0,
      "outputs": [
        {
          "output_type": "execute_result",
          "data": {
            "text/plain": [
              "(tensor([[0.6124, 0.0380, 0.9665, 0.1604],\n",
              "         [0.0577, 0.1915, 0.4867, 0.5000],\n",
              "         [0.6321, 0.1449, 0.6671, 0.5086],\n",
              "         [0.4724, 0.5038, 0.1195, 0.2062]]),\n",
              " tensor([0.6124, 0.0380, 0.9665, 0.1604, 0.0577, 0.1915, 0.4867, 0.5000, 0.6321,\n",
              "         0.1449, 0.6671, 0.5086, 0.4724, 0.5038, 0.1195, 0.2062]),\n",
              " tensor([[0.6124, 0.0380, 0.9665, 0.1604, 0.0577, 0.1915, 0.4867, 0.5000],\n",
              "         [0.6321, 0.1449, 0.6671, 0.5086, 0.4724, 0.5038, 0.1195, 0.2062]]))"
            ]
          },
          "metadata": {
            "tags": []
          },
          "execution_count": 16
        }
      ]
    },
    {
      "cell_type": "markdown",
      "metadata": {
        "id": "7fTiYPZyhXmq",
        "colab_type": "text"
      },
      "source": [
        "If you have a one element tensor, use .item() to get the value as a Python number"
      ]
    },
    {
      "cell_type": "code",
      "metadata": {
        "id": "jyCt_ncEhHtN",
        "colab_type": "code",
        "outputId": "dac61226-9f18-476b-81fb-f463ba2ba266",
        "colab": {
          "base_uri": "https://localhost:8080/",
          "height": 51
        }
      },
      "source": [
        "x = torch.randn(1)\n",
        "print(x)\n",
        "print(x.item())"
      ],
      "execution_count": 0,
      "outputs": [
        {
          "output_type": "stream",
          "text": [
            "tensor([-1.1375])\n",
            "-1.1375335454940796\n"
          ],
          "name": "stdout"
        }
      ]
    },
    {
      "cell_type": "markdown",
      "metadata": {
        "id": "t5BWIcnkiPHG",
        "colab_type": "text"
      },
      "source": [
        "###NumPy Bridge\n",
        "\n",
        "Converting a Torch Tensor to a NumPy array and vice versa is a breeze.\n",
        "\n",
        "The Torch Tensor and NumPy array will share their underlying memory locations (if the Torch Tensor is on CPU), and changing one will change the other."
      ]
    },
    {
      "cell_type": "markdown",
      "metadata": {
        "id": "UsHpiJbXiVCi",
        "colab_type": "text"
      },
      "source": [
        "**Converting a Torch Tensor to a NumPy Array**"
      ]
    },
    {
      "cell_type": "code",
      "metadata": {
        "id": "9VkQuTichd6b",
        "colab_type": "code",
        "outputId": "6f062cda-a20d-44fa-8fcf-39193c6bb48e",
        "colab": {
          "base_uri": "https://localhost:8080/",
          "height": 34
        }
      },
      "source": [
        "a = torch.ones(5)\n",
        "a"
      ],
      "execution_count": 0,
      "outputs": [
        {
          "output_type": "execute_result",
          "data": {
            "text/plain": [
              "tensor([1., 1., 1., 1., 1.])"
            ]
          },
          "metadata": {
            "tags": []
          },
          "execution_count": 18
        }
      ]
    },
    {
      "cell_type": "code",
      "metadata": {
        "id": "us-liTb3ib-r",
        "colab_type": "code",
        "outputId": "4e7428a7-147d-4a18-937d-d5658996d321",
        "colab": {
          "base_uri": "https://localhost:8080/",
          "height": 34
        }
      },
      "source": [
        "b = a.numpy()\n",
        "b"
      ],
      "execution_count": 0,
      "outputs": [
        {
          "output_type": "execute_result",
          "data": {
            "text/plain": [
              "array([1., 1., 1., 1., 1.], dtype=float32)"
            ]
          },
          "metadata": {
            "tags": []
          },
          "execution_count": 20
        }
      ]
    },
    {
      "cell_type": "markdown",
      "metadata": {
        "id": "LRpDwvEOilq0",
        "colab_type": "text"
      },
      "source": [
        "See how the numpy array changed in value."
      ]
    },
    {
      "cell_type": "code",
      "metadata": {
        "id": "nLuFhH1xifyc",
        "colab_type": "code",
        "outputId": "9f293918-77a9-403a-fb6c-a2ada3fda8a5",
        "colab": {
          "base_uri": "https://localhost:8080/",
          "height": 34
        }
      },
      "source": [
        "a.add_(1)\n",
        "a,b"
      ],
      "execution_count": 0,
      "outputs": [
        {
          "output_type": "execute_result",
          "data": {
            "text/plain": [
              "(tensor([3., 3., 3., 3., 3.]), array([3., 3., 3., 3., 3.], dtype=float32))"
            ]
          },
          "metadata": {
            "tags": []
          },
          "execution_count": 22
        }
      ]
    },
    {
      "cell_type": "markdown",
      "metadata": {
        "id": "pY7ThS0tivmB",
        "colab_type": "text"
      },
      "source": [
        "**Converting NumPy Array to Torch Tensor**\n",
        "\n",
        "See how changing the np array changed the Torch Tensor automatically\n",
        "\n"
      ]
    },
    {
      "cell_type": "code",
      "metadata": {
        "id": "e0qc8914ipO-",
        "colab_type": "code",
        "outputId": "ae5258e1-8aa7-4f05-a414-071127c10505",
        "colab": {
          "base_uri": "https://localhost:8080/",
          "height": 51
        }
      },
      "source": [
        "import numpy as np\n",
        "a = np.ones(5)\n",
        "b = torch.from_numpy(a)\n",
        "np.add(a,1,out=a)\n",
        "print(a)\n",
        "print(b)"
      ],
      "execution_count": 0,
      "outputs": [
        {
          "output_type": "stream",
          "text": [
            "[2. 2. 2. 2. 2.]\n",
            "tensor([2., 2., 2., 2., 2.], dtype=torch.float64)\n"
          ],
          "name": "stdout"
        }
      ]
    },
    {
      "cell_type": "markdown",
      "metadata": {
        "id": "PrPs6YfsjJml",
        "colab_type": "text"
      },
      "source": [
        "###CUDA Tensors\n",
        "\n",
        "Tensors can be moved onto any device using the .to method."
      ]
    },
    {
      "cell_type": "code",
      "metadata": {
        "id": "3P6zgIJni-pH",
        "colab_type": "code",
        "outputId": "33a53598-c403-4282-86f9-77881a0bab13",
        "colab": {
          "base_uri": "https://localhost:8080/",
          "height": 51
        }
      },
      "source": [
        "# let us run this cell only if CUDA is available\n",
        "# We will use ``torch.device`` objects to move tensors in and out of GPU\n",
        "\n",
        "if torch.cuda.is_available():\n",
        "    device = torch.device('cuda')  #a CUDA device object\n",
        "    y = torch.ones_like(x,device=device) # directly create a tensor on GPU\n",
        "    x = x.to(device)                     # or just use strings ``.to(\"cuda\")``\n",
        "    z = x + y\n",
        "    print(z)\n",
        "    print(z.to(\"cpu\",torch.double))      # ``.to`` can also change dtype together!"
      ],
      "execution_count": 0,
      "outputs": [
        {
          "output_type": "stream",
          "text": [
            "tensor([-0.1375], device='cuda:0')\n",
            "tensor([-0.1375], dtype=torch.float64)\n"
          ],
          "name": "stdout"
        }
      ]
    },
    {
      "cell_type": "markdown",
      "metadata": {
        "id": "nVPKt1yM_u0W",
        "colab_type": "text"
      },
      "source": [
        "#AUTOGRAD: AUTOMATIC DIFFERENTIATION\n",
        "\n",
        "Central to all neural networks in PyTorch is the **autograd** package. Let’s first briefly visit this, and we will then go to training our first neural network.\n",
        "\n",
        "The **autograd** package provides automatic differentiation for all operations on Tensors. It is a define-by-run framework, which means that your backprop is defined by how your code is run, and that every single iteration can be different.\n",
        "\n",
        "Let us see this in more simple terms with some examples."
      ]
    },
    {
      "cell_type": "markdown",
      "metadata": {
        "id": "NoGzTwugAsGS",
        "colab_type": "text"
      },
      "source": [
        "##Tensor\n",
        "\n",
        "**torch.Tensor** is the central class of the package. If you set its attribute **.requires_grad** as **True**, it starts to track all operations on it. When you finish your computation you can call **.backward()** and have all the gradients computed automatically. The gradient for this tensor will be accumulated into **.grad** attribute.\n",
        "\n",
        "To stop a tensor from tracking history, you can call **.detach()** to detach it from the computation history, and to prevent future computation from being tracked.\n",
        "\n",
        "To prevent tracking history (and using memory), you can also wrap the code block in with **torch.no_grad():**. This can be particularly helpful when evaluating a model because the model may have trainable parameters with **requires_grad=True**, but for which we don’t need the gradients.\n",
        "\n",
        "There’s one more class which is very important for autograd implementation - a **Function**.\n",
        "\n",
        "**Tensor** and **Function** are interconnected and build up an acyclic graph, that encodes a complete history of computation. Each tensor has a **.grad_fn** attribute that references a **Function** that has created the **Tensor** (except for Tensors created by the user - their **grad_fn** is **None**).\n",
        "\n",
        "If you want to compute the derivatives, you can call **.backward()** on a **Tensor**. If **Tensor** is a scalar (i.e. it holds a one element data), you don’t need to specify any arguments to **backward()**, however if it has more elements, you need to specify a gradient argument that is a tensor of matching shape."
      ]
    },
    {
      "cell_type": "code",
      "metadata": {
        "id": "ulI2pbHpjx0O",
        "colab_type": "code",
        "colab": {}
      },
      "source": [
        "import torch"
      ],
      "execution_count": 0,
      "outputs": []
    },
    {
      "cell_type": "markdown",
      "metadata": {
        "id": "7sBBYtDjBhM-",
        "colab_type": "text"
      },
      "source": [
        "Create a tensor and set **requires_grad=True** to track computation with it"
      ]
    },
    {
      "cell_type": "code",
      "metadata": {
        "id": "xyTRcmeuBeAk",
        "colab_type": "code",
        "outputId": "3258a091-dd64-4bfa-9fa8-a9fef59291cf",
        "colab": {
          "base_uri": "https://localhost:8080/",
          "height": 51
        }
      },
      "source": [
        "x = torch.ones(2,2,requires_grad=True)\n",
        "x"
      ],
      "execution_count": 0,
      "outputs": [
        {
          "output_type": "execute_result",
          "data": {
            "text/plain": [
              "tensor([[1., 1.],\n",
              "        [1., 1.]], requires_grad=True)"
            ]
          },
          "metadata": {
            "tags": []
          },
          "execution_count": 26
        }
      ]
    },
    {
      "cell_type": "markdown",
      "metadata": {
        "id": "bDckAX8KBvX9",
        "colab_type": "text"
      },
      "source": [
        "Do a tensor operation"
      ]
    },
    {
      "cell_type": "code",
      "metadata": {
        "id": "paBd4eESBquP",
        "colab_type": "code",
        "outputId": "d78a32fd-5197-4278-d4c9-67f79a603cee",
        "colab": {
          "base_uri": "https://localhost:8080/",
          "height": 51
        }
      },
      "source": [
        "y = x +2 \n",
        "y"
      ],
      "execution_count": 0,
      "outputs": [
        {
          "output_type": "execute_result",
          "data": {
            "text/plain": [
              "tensor([[3., 3.],\n",
              "        [3., 3.]], grad_fn=<AddBackward0>)"
            ]
          },
          "metadata": {
            "tags": []
          },
          "execution_count": 28
        }
      ]
    },
    {
      "cell_type": "markdown",
      "metadata": {
        "id": "BTbUJEywCEmM",
        "colab_type": "text"
      },
      "source": [
        "**y** was created as a result of an operation, so it has a **grad_fn**."
      ]
    },
    {
      "cell_type": "code",
      "metadata": {
        "id": "HBIgr_B0By2k",
        "colab_type": "code",
        "outputId": "6ee3a309-8d4e-4e6d-f1b0-98856f71d24d",
        "colab": {
          "base_uri": "https://localhost:8080/",
          "height": 34
        }
      },
      "source": [
        "y.grad_fn"
      ],
      "execution_count": 0,
      "outputs": [
        {
          "output_type": "execute_result",
          "data": {
            "text/plain": [
              "<AddBackward0 at 0x7fbb2fd58278>"
            ]
          },
          "metadata": {
            "tags": []
          },
          "execution_count": 29
        }
      ]
    },
    {
      "cell_type": "markdown",
      "metadata": {
        "id": "uXDMcMcuCNkW",
        "colab_type": "text"
      },
      "source": [
        "Do more operation on **y**"
      ]
    },
    {
      "cell_type": "code",
      "metadata": {
        "id": "hU4Ns2r1CJ75",
        "colab_type": "code",
        "outputId": "10660a2e-20c5-4c3f-dc8a-0bdd0782518a",
        "colab": {
          "base_uri": "https://localhost:8080/",
          "height": 68
        }
      },
      "source": [
        "z = y * y * 3\n",
        "out = z.mean()\n",
        "z, out"
      ],
      "execution_count": 0,
      "outputs": [
        {
          "output_type": "execute_result",
          "data": {
            "text/plain": [
              "(tensor([[27., 27.],\n",
              "         [27., 27.]], grad_fn=<MulBackward0>),\n",
              " tensor(27., grad_fn=<MeanBackward0>))"
            ]
          },
          "metadata": {
            "tags": []
          },
          "execution_count": 30
        }
      ]
    },
    {
      "cell_type": "markdown",
      "metadata": {
        "id": "D5womGgmCjnT",
        "colab_type": "text"
      },
      "source": [
        "**.requires_grad_( ... )** changes an existing Tensor’s **requires_grad** flag in-place. The input flag defaults to **False** if not given."
      ]
    },
    {
      "cell_type": "code",
      "metadata": {
        "id": "A9OXPbJtCXs2",
        "colab_type": "code",
        "outputId": "79ed27ae-e0af-404a-c517-e2038e4434cd",
        "colab": {
          "base_uri": "https://localhost:8080/",
          "height": 68
        }
      },
      "source": [
        "a = torch.rand(2,2)\n",
        "a = ((a * 3)/(a - 1))\n",
        "print(a.requires_grad)\n",
        "a.requires_grad_(True)\n",
        "print(a.requires_grad)\n",
        "b = (a * a).sum()\n",
        "print(b.grad_fn)"
      ],
      "execution_count": 0,
      "outputs": [
        {
          "output_type": "stream",
          "text": [
            "False\n",
            "True\n",
            "<SumBackward0 object at 0x7fbb2fd7ae80>\n"
          ],
          "name": "stdout"
        }
      ]
    },
    {
      "cell_type": "markdown",
      "metadata": {
        "id": "hwi_zpeeFtJ_",
        "colab_type": "text"
      },
      "source": [
        "## Gradients\n",
        "\n",
        "Let’s **backprop** now. Because out contains a single scalar, **out.backward()** is equivalent to **out.backward(torch.tensor(1.))**."
      ]
    },
    {
      "cell_type": "code",
      "metadata": {
        "id": "ILsPiHqPDK0Q",
        "colab_type": "code",
        "colab": {}
      },
      "source": [
        "out.backward()"
      ],
      "execution_count": 0,
      "outputs": []
    },
    {
      "cell_type": "markdown",
      "metadata": {
        "id": "aEkfpcMkGHw2",
        "colab_type": "text"
      },
      "source": [
        "Print gradients d(out)/dx"
      ]
    },
    {
      "cell_type": "code",
      "metadata": {
        "id": "HWa009mRGCz5",
        "colab_type": "code",
        "outputId": "080a8ef4-d435-4e3a-a559-4883f678cead",
        "colab": {
          "base_uri": "https://localhost:8080/",
          "height": 51
        }
      },
      "source": [
        "x.grad"
      ],
      "execution_count": 0,
      "outputs": [
        {
          "output_type": "execute_result",
          "data": {
            "text/plain": [
              "tensor([[4.5000, 4.5000],\n",
              "        [4.5000, 4.5000]])"
            ]
          },
          "metadata": {
            "tags": []
          },
          "execution_count": 34
        }
      ]
    },
    {
      "cell_type": "markdown",
      "metadata": {
        "id": "p1AIm64FGU0R",
        "colab_type": "text"
      },
      "source": [
        "You should have got a matrix of 4.5. Let’s call the out Tensor “o”. We have that $o=\\frac{1}{4} \\sum_{i} z_{i}, z_{i}=3\\left(x_{i}+2\\right)^{2}$ and $\\left.z_{i}\\right|_{x_{i}=1}=27$. Therefore $\\frac{\\partial o}{\\partial x_{i}}=\\frac{3}{2}\\left(x_{i}+2\\right)$, hence $\\left.\\frac{\\partial o}{\\partial x_{i}}\\right|_{x_{i}=1}=\\frac{9}{2}=4.5$ \n",
        "\n",
        "Mathematically, if you have a vector valued function $\\vec{y}=f(\\vec{x})$, then the gradient of $\\vec{y}$  with respect to $\\vec{x}$,  is a Jacobian matrix:\n",
        "\n",
        "\n",
        "$J=\\left(\\begin{array}{ccc}{\\frac{\\partial y_{1}}{\\partial x_{1}}} & {\\cdots} & {\\frac{\\partial y_{1}}{\\partial x_{n}}} \\\\ {\\vdots} & {\\ddots} & {\\vdots} \\\\ {\\frac{\\partial y_{m}}{\\partial x_{1}}} & {\\cdots} & {\\frac{\\partial y_{m}}{\\partial x_{n}}}\\end{array}\\right)$\n",
        "\n",
        "Generally speaking, **torch.autograd** is an engine for computing vector-Jacobian product. That is, given any vector $v=\\left(\\begin{array}{lll}{v_{1}} & {v_{2}} & {\\cdots} & {v_{m}}\\end{array}\\right)^{T}$ , compute the product $v^{T} \\cdot J$. If v happens to be the gradient of a scalar function $l=g(\\vec{y})$ , that is , $v=\\left(\\frac{\\partial l}{\\partial y_{1}} \\quad \\ldots \\quad \\frac{\\partial l}{\\partial y_{m}}\\right)^{T}$ , then by the chain rule, the vector-Jacobian product would be the gradient of l with respect to $\\vec{x}$:\n",
        "\n",
        "$J^{T} \\cdot v=\\left(\\begin{array}{ccc}{\\frac{\\partial y_{1}}{\\partial x_{1}}} & {\\cdots} & {\\frac{\\partial y_{m}}{\\partial x_{1}}} \\\\ {\\vdots} & {\\ddots} & {\\vdots} \\\\ {\\frac{\\partial y_{1}}{\\partial x_{n}}} & {\\cdots} & {\\frac{\\partial y_{m}}{\\partial x_{n}}}\\end{array}\\right)\\left(\\begin{array}{c}{\\frac{\\partial l}{\\partial y_{1}}} \\\\ {\\vdots} \\\\ {\\frac{\\partial l}{\\partial y_{m}}}\\end{array}\\right)=\\left(\\begin{array}{c}{\\frac{\\partial l}{\\partial x_{1}}} \\\\ {\\vdots} \\\\ {\\frac{\\partial l}{\\partial x_{n}}}\\end{array}\\right)$\n",
        "\n",
        "(Note that $v^{T} \\cdot J$ gives a row vector which can be treated as a column vector by taking $J^{T} \\cdot v$.)\n",
        "\n",
        "This characteristic of vector-Jacobian product makes it very convenient to feed external gradients into a model that has non-scalar output.\n",
        "\n",
        "Now let’s take a look at an example of vector-Jacobian product:\n",
        "\n"
      ]
    },
    {
      "cell_type": "code",
      "metadata": {
        "id": "ZiNMjTsmGI8k",
        "colab_type": "code",
        "outputId": "79af602f-30dc-46e1-ac2f-25e733ebb2a7",
        "colab": {
          "base_uri": "https://localhost:8080/",
          "height": 34
        }
      },
      "source": [
        "x = torch.rand(3,requires_grad=True)\n",
        "\n",
        "y = x * 2\n",
        "while y.data.norm()<1000:\n",
        "    y = y *2\n",
        "\n",
        "print(y)"
      ],
      "execution_count": 0,
      "outputs": [
        {
          "output_type": "stream",
          "text": [
            "tensor([  86.2056, 1081.7266, 1570.2638], grad_fn=<MulBackward0>)\n"
          ],
          "name": "stdout"
        }
      ]
    },
    {
      "cell_type": "markdown",
      "metadata": {
        "id": "cgLUg4QkLjCb",
        "colab_type": "text"
      },
      "source": [
        "Now in this case **y** is no longer a scalar. **torch.autograd** could not compute the full Jacobian directly, but if we just want the vector-Jacobian product, simply pass the vector to **backward** as argument:"
      ]
    },
    {
      "cell_type": "code",
      "metadata": {
        "id": "t3g-ZlCfLVeo",
        "colab_type": "code",
        "outputId": "c2c8ea24-1da6-43fa-d4ff-7f7f4e0ff0db",
        "colab": {
          "base_uri": "https://localhost:8080/",
          "height": 34
        }
      },
      "source": [
        "v = torch.tensor([0.1,1.0,0.0001],dtype=torch.float)\n",
        "y.backward(v)\n",
        "\n",
        "print(x.grad)"
      ],
      "execution_count": 0,
      "outputs": [
        {
          "output_type": "stream",
          "text": [
            "tensor([2.0480e+02, 2.0480e+03, 2.0480e-01])\n"
          ],
          "name": "stdout"
        }
      ]
    },
    {
      "cell_type": "markdown",
      "metadata": {
        "id": "EBk0intDNVpj",
        "colab_type": "text"
      },
      "source": [
        "You can also stop autograd from tracking history on Tensors with **.requires_grad=True** by wrapping the code block in with **torch.no_grad()**:\n",
        "\n"
      ]
    },
    {
      "cell_type": "code",
      "metadata": {
        "id": "6kKMvqF7NNEG",
        "colab_type": "code",
        "outputId": "05e2f637-18b3-4781-dbbf-fcb3dd4b4214",
        "colab": {
          "base_uri": "https://localhost:8080/",
          "height": 68
        }
      },
      "source": [
        "print(x.requires_grad)\n",
        "print((x**2).requires_grad)\n",
        "\n",
        "with torch.no_grad():\n",
        "    print((x**2).requires_grad)\n",
        "    \n"
      ],
      "execution_count": 0,
      "outputs": [
        {
          "output_type": "stream",
          "text": [
            "True\n",
            "True\n",
            "False\n"
          ],
          "name": "stdout"
        }
      ]
    },
    {
      "cell_type": "markdown",
      "metadata": {
        "id": "4lYxxJNBPdh6",
        "colab_type": "text"
      },
      "source": [
        "#NEURAL NETWORKS\n",
        "\n",
        "Neural networks can be constructed using the **torch.nn** package.\n",
        "\n",
        "Now that you had a glimpse of **autograd**, **nn** depends on **autograd** to define models and differentiate them. An **nn.Module** contains layers, and a method **forward(input)** that returns the **output**.\n",
        "\n",
        "For example, look at this network that classifies digit images:\n",
        "\n",
        "![alt text](https://pytorch.org/tutorials/_images/mnist.png)\n",
        "\n",
        "**convnet**\n",
        "\n",
        "It is a simple feed-forward network. It takes the input, feeds it through several layers one after the other, and then finally gives the output.\n",
        "\n",
        "A typical training procedure for a neural network is as follows:\n",
        "\n",
        "- Define the neural network that has some learnable parameters (or weights)\n",
        "- Iterate over a dataset of inputs\n",
        "- Process input through the network\n",
        "- Compute the loss (how far is the output from being correct)\n",
        "- Propagate gradients back into the network’s parameters\n",
        "- Update the weights of the network, typically using a simple update rule: **weight = weight - learning_rate * gradient**\n",
        "\n"
      ]
    },
    {
      "cell_type": "markdown",
      "metadata": {
        "id": "dGxL5JmGQHSP",
        "colab_type": "text"
      },
      "source": [
        "##Define the network\n",
        "\n",
        "Let’s define this network:"
      ]
    },
    {
      "cell_type": "code",
      "metadata": {
        "id": "V0Ff6_BBNy87",
        "colab_type": "code",
        "colab": {}
      },
      "source": [
        "import torch\n",
        "import torch.nn as nn\n",
        "import torch.nn.functional as F\n"
      ],
      "execution_count": 0,
      "outputs": []
    },
    {
      "cell_type": "code",
      "metadata": {
        "id": "TGZaQov_QS48",
        "colab_type": "code",
        "colab": {}
      },
      "source": [
        "class Net(nn.Module):\n",
        "    def __init__(self):\n",
        "        super(Net,self).__init__()\n",
        "        # 1 input image chanel, 6 output channels, 3x3 square convolution\n",
        "        # kernel\n",
        "        self.conv1 = nn.Conv2d(1,6,3)\n",
        "        self.conv2 = nn.Conv2d(6,16,3)\n",
        "        # an affine operation: y = Wx + b\n",
        "        self.fc1 = nn.Linear(16 * 6 * 6, 120) # 6*6 from image dimension\n",
        "        self.fc2 = nn.Linear(120,84)\n",
        "        self.fc3 = nn.Linear(84,10)\n",
        "        \n",
        "    def forward(self,x):\n",
        "        # Max pooling over (2,2) window\n",
        "        x = F.max_pool2d(F.relu(self.conv1(x)),(2,2))\n",
        "        # if the size is a square you can only specify a single number\n",
        "        x = F.max_pool2d(F.relu(self.conv2(x)),2)\n",
        "        x = x.view(-1,self.num_flat_features(x))\n",
        "        x = F.relu(self.fc1(x))\n",
        "        x = F.relu(self.fc2(x))\n",
        "        x = self.fc3(x)\n",
        "        return x\n",
        "    \n",
        "    def num_flat_features(self,x):\n",
        "        size = x.size()[1:] # all dimensions except the batch dimension\n",
        "        num_features = 1\n",
        "        for s in size:\n",
        "            num_features *= s\n",
        "        return num_features\n",
        "    \n",
        "            "
      ],
      "execution_count": 0,
      "outputs": []
    },
    {
      "cell_type": "code",
      "metadata": {
        "id": "ofgyBANlVRSY",
        "colab_type": "code",
        "outputId": "3bf2e733-9dbc-4ac5-d0a7-a1c41a09f6e5",
        "colab": {
          "base_uri": "https://localhost:8080/",
          "height": 136
        }
      },
      "source": [
        "net = Net()\n",
        "net"
      ],
      "execution_count": 0,
      "outputs": [
        {
          "output_type": "execute_result",
          "data": {
            "text/plain": [
              "Net(\n",
              "  (conv1): Conv2d(1, 6, kernel_size=(3, 3), stride=(1, 1))\n",
              "  (conv2): Conv2d(6, 16, kernel_size=(3, 3), stride=(1, 1))\n",
              "  (fc1): Linear(in_features=576, out_features=120, bias=True)\n",
              "  (fc2): Linear(in_features=120, out_features=84, bias=True)\n",
              "  (fc3): Linear(in_features=84, out_features=10, bias=True)\n",
              ")"
            ]
          },
          "metadata": {
            "tags": []
          },
          "execution_count": 40
        }
      ]
    },
    {
      "cell_type": "markdown",
      "metadata": {
        "id": "SjCCrk3yVeya",
        "colab_type": "text"
      },
      "source": [
        "You just have to define the **forward** function, and the **backward** function (where gradients are computed) is automatically defined for you using **autograd**. You can use any of the Tensor operations in the **forward** function."
      ]
    },
    {
      "cell_type": "code",
      "metadata": {
        "id": "ImRiMzl9VTEr",
        "colab_type": "code",
        "outputId": "62c45ac9-a4cd-475d-b71f-6f2e9b547aa9",
        "colab": {
          "base_uri": "https://localhost:8080/",
          "height": 51
        }
      },
      "source": [
        "params = list(net.parameters())\n",
        "print(len(params))\n",
        "print(params[0].size()) # conv1's .weight"
      ],
      "execution_count": 0,
      "outputs": [
        {
          "output_type": "stream",
          "text": [
            "10\n",
            "torch.Size([6, 1, 3, 3])\n"
          ],
          "name": "stdout"
        }
      ]
    },
    {
      "cell_type": "markdown",
      "metadata": {
        "id": "0Vz293s6WGgo",
        "colab_type": "text"
      },
      "source": [
        "Let try a random 32x32 input. Note: expected input size of this net (LeNet) is 32x32. To use this net on MNIST dataset, please resize the images from the dataset to 32x32."
      ]
    },
    {
      "cell_type": "code",
      "metadata": {
        "id": "_f1F9Q5hVysU",
        "colab_type": "code",
        "outputId": "167e963a-205d-4040-adb3-0aec8e36f498",
        "colab": {
          "base_uri": "https://localhost:8080/",
          "height": 71
        }
      },
      "source": [
        "input = torch.rand(1,1,32,32)\n",
        "out = net(input)\n",
        "out"
      ],
      "execution_count": 0,
      "outputs": [
        {
          "output_type": "execute_result",
          "data": {
            "text/plain": [
              "tensor([[-0.0246,  0.0281, -0.0275,  0.0928,  0.0839,  0.0788,  0.1363,  0.1148,\n",
              "         -0.0901, -0.1086]], grad_fn=<AddmmBackward>)"
            ]
          },
          "metadata": {
            "tags": []
          },
          "execution_count": 43
        }
      ]
    },
    {
      "cell_type": "markdown",
      "metadata": {
        "id": "LYm7aF2bWeeC",
        "colab_type": "text"
      },
      "source": [
        "Zero the gradient buffers of all parameters and backprops with random gradients:"
      ]
    },
    {
      "cell_type": "code",
      "metadata": {
        "id": "LqnXxzoEV14O",
        "colab_type": "code",
        "colab": {}
      },
      "source": [
        "net.zero_grad()\n",
        "out.backward(torch.randn(1,10))"
      ],
      "execution_count": 0,
      "outputs": []
    },
    {
      "cell_type": "markdown",
      "metadata": {
        "id": "BdqEUgF4WmbZ",
        "colab_type": "text"
      },
      "source": [
        "**NOTE**\n",
        "\n",
        "torch.nn only supports mini-batches. The entire **torch.nn** package only supports inputs that are a mini-batch of samples, and not a single sample.\n",
        "\n",
        "For example, nn.Conv2d will take in a 4D Tensor of **nSamples x nChannels x Height x Width**.\n",
        "\n",
        "If you have a single sample, just use **input.unsqueeze(0)** to add a fake batch dimension.\n",
        "\n",
        "Before proceeding further, let’s recap all the classes you’ve seen so far.\n",
        "\n",
        "**Recap:**\n",
        "- torch.Tensor - A multi-dimensional array with support for autograd operations like backward(). Also holds the gradient w.r.t. the tensor.\n",
        "- nn.Module - Neural network module. Convenient way of encapsulating parameters, with helpers for moving them to GPU, exporting, loading, etc.\n",
        "- nn.Parameter - A kind of Tensor, that is automatically registered as a parameter when assigned as an attribute to a Module.\n",
        "- autograd.Function - Implements forward and backward definitions of an autograd operation. Every Tensor operation creates at least a single Function node that connects to functions that created a Tensor and encodes its history.\n",
        "\n",
        "**At this point, we covered:**\n",
        "\n",
        "- Defining a neural network\n",
        "- Processing inputs and calling backward\n"
      ]
    },
    {
      "cell_type": "markdown",
      "metadata": {
        "id": "2FpYWeJdYuMv",
        "colab_type": "text"
      },
      "source": [
        "## Loss Function\n",
        "\n",
        "A loss function takes the (output, target) pair of inputs, and computes a value that estimates how far away the output is from the target.\n",
        "\n",
        "There are several different **loss functions** under the nn package . A simple loss is: **nn.MSELoss** which computes the mean-squared error between the input and the target.\n",
        "\n",
        "For example:"
      ]
    },
    {
      "cell_type": "code",
      "metadata": {
        "id": "ECR93hgRWlgz",
        "colab_type": "code",
        "outputId": "145c6db6-a4f6-4d50-c14d-6b32b886c0a4",
        "colab": {
          "base_uri": "https://localhost:8080/",
          "height": 88
        }
      },
      "source": [
        "output = net(input)\n",
        "target = torch.randn(10) #a dummy target, for example\n",
        "target.view(1,-1) #make it the same shape as output\n",
        "criterion = nn.MSELoss()\n",
        "\n",
        "loss = criterion(output,target)\n",
        "loss"
      ],
      "execution_count": 0,
      "outputs": [
        {
          "output_type": "stream",
          "text": [
            "/usr/local/lib/python3.6/dist-packages/torch/nn/modules/loss.py:443: UserWarning: Using a target size (torch.Size([10])) that is different to the input size (torch.Size([1, 10])). This will likely lead to incorrect results due to broadcasting. Please ensure they have the same size.\n",
            "  return F.mse_loss(input, target, reduction=self.reduction)\n"
          ],
          "name": "stderr"
        },
        {
          "output_type": "execute_result",
          "data": {
            "text/plain": [
              "tensor(0.4038, grad_fn=<MseLossBackward>)"
            ]
          },
          "metadata": {
            "tags": []
          },
          "execution_count": 45
        }
      ]
    },
    {
      "cell_type": "markdown",
      "metadata": {
        "id": "rTm7MKtBZlkV",
        "colab_type": "text"
      },
      "source": [
        "Now, if you follow loss in the backward direction, using its **.grad_fn** attribute, you will see a graph of computations that looks like this:\n",
        "\n",
        "input -> conv2d -> relu -> maxpool2d -> conv2d -> relu -> maxpool2d\n",
        "      \n",
        "     -> view -> linear -> relu -> linear -> relu -> linear\n",
        "     \n",
        "     -> MSELoss\n",
        "     \n",
        "     -> loss\n"
      ]
    },
    {
      "cell_type": "markdown",
      "metadata": {
        "id": "nXJWShtlaDMW",
        "colab_type": "text"
      },
      "source": [
        "So, when we call **loss.backward()**, the whole graph is differentiated **w.r.t.** the loss, and all Tensors in the graph that has **requires_grad=True** will have their **.grad** Tensor accumulated with the gradient.\n",
        "\n",
        "For illustration, let us follow a few steps backward:"
      ]
    },
    {
      "cell_type": "code",
      "metadata": {
        "id": "LuUUrppUZOac",
        "colab_type": "code",
        "outputId": "83f1f725-7b9c-4968-e3c3-e42ec4828e39",
        "colab": {
          "base_uri": "https://localhost:8080/",
          "height": 68
        }
      },
      "source": [
        "print(loss.grad_fn) #MSELoss\n",
        "print(loss.grad_fn.next_functions[0][0]) #Linear\n",
        "print(loss.grad_fn.next_functions[0][0].next_functions[0][0]) #ReLU\n"
      ],
      "execution_count": 0,
      "outputs": [
        {
          "output_type": "stream",
          "text": [
            "<MseLossBackward object at 0x7fbb279a0668>\n",
            "<AddmmBackward object at 0x7fbb279a0898>\n",
            "<AccumulateGrad object at 0x7fbb279a0668>\n"
          ],
          "name": "stdout"
        }
      ]
    },
    {
      "cell_type": "markdown",
      "metadata": {
        "id": "s2axHQgqaijL",
        "colab_type": "text"
      },
      "source": [
        "## Backprop\n",
        "\n",
        "To backpropagate the error all we have to do is to **loss.backward()**. You need to clear the existing gradients though, else gradients will be accumulated to existing gradients.\n",
        "\n",
        "Now we shall call **loss.backward()**, and have a look at conv1’s bias gradients before and after the backward."
      ]
    },
    {
      "cell_type": "code",
      "metadata": {
        "id": "24EwuWLUac1T",
        "colab_type": "code",
        "outputId": "4d510ba4-a75e-4431-8d43-e85ddb60b10f",
        "colab": {
          "base_uri": "https://localhost:8080/",
          "height": 85
        }
      },
      "source": [
        "net.zero_grad() #zeroes the gradient buffers of all parameters\n",
        "\n",
        "print('conv1.bias.grad before backward')\n",
        "print(net.conv1.bias.grad)\n",
        "\n",
        "loss.backward()\n",
        "\n",
        "print('conv1.bias.grad after backward')\n",
        "print(net.conv1.bias.grad)"
      ],
      "execution_count": 0,
      "outputs": [
        {
          "output_type": "stream",
          "text": [
            "conv1.bias.grad before backward\n",
            "tensor([0., 0., 0., 0., 0., 0.])\n",
            "conv1.bias.grad after backward\n",
            "tensor([-0.0068,  0.0159, -0.0006, -0.0077,  0.0014, -0.0002])\n"
          ],
          "name": "stdout"
        }
      ]
    },
    {
      "cell_type": "markdown",
      "metadata": {
        "id": "-s7aGSHPbmFR",
        "colab_type": "text"
      },
      "source": [
        "Now, we have seen how to use loss functions\n",
        "\n",
        "**Read Later:**\n",
        "\n",
        "- The neural network package contains various modules and loss functions that form the building blocks of deep neural networks. A full list with documentation is [here](https://pytorch.org/docs/nn).\n",
        "\n",
        "\n"
      ]
    },
    {
      "cell_type": "markdown",
      "metadata": {
        "id": "8aVmScfFb1FJ",
        "colab_type": "text"
      },
      "source": [
        "**Update the weights**\n",
        "\n",
        "The simplest update rule used in practice is the Stochastic Gradient Descent (SGD):\n",
        "\n",
        "\n",
        "\n",
        "```\n",
        "weight = weight - learning_rate * gradient\n",
        "```\n",
        "\n",
        "We can implement this using simple python code:\n"
      ]
    },
    {
      "cell_type": "code",
      "metadata": {
        "id": "X9naN5bibjfn",
        "colab_type": "code",
        "colab": {}
      },
      "source": [
        "learning_rate = 0.01\n",
        "for f in net.parameters():\n",
        "    f.data.sub_(f.grad.data*learning_rate)"
      ],
      "execution_count": 0,
      "outputs": []
    },
    {
      "cell_type": "markdown",
      "metadata": {
        "id": "fBxgXg3sc0F7",
        "colab_type": "text"
      },
      "source": [
        "However, as you use neural networks, you want to use various different update rules such as SGD, Nesterov-SGD, Adam, RMSProp, etc. To enable this, we built a small package: torch.optim that implements all these methods. Using it is very simple:"
      ]
    },
    {
      "cell_type": "code",
      "metadata": {
        "id": "Xn3uUPyMcgnZ",
        "colab_type": "code",
        "outputId": "37719b41-9281-4f94-8297-868c8fc1e68f",
        "colab": {
          "base_uri": "https://localhost:8080/",
          "height": 71
        }
      },
      "source": [
        "import torch.optim as optim\n",
        "\n",
        "# create your optimizer\n",
        "optimizer = optim.SGD(net.parameters(),lr=0.01)\n",
        "\n",
        "# in your training loop:\n",
        "optimizer.zero_grad() # zero the gradient buffers\n",
        "output = net(input)\n",
        "loss = criterion(output,target)\n",
        "loss.backward()\n",
        "optimizer.step() # Does the update\n"
      ],
      "execution_count": 0,
      "outputs": [
        {
          "output_type": "stream",
          "text": [
            "/usr/local/lib/python3.6/dist-packages/torch/nn/modules/loss.py:443: UserWarning: Using a target size (torch.Size([10])) that is different to the input size (torch.Size([1, 10])). This will likely lead to incorrect results due to broadcasting. Please ensure they have the same size.\n",
            "  return F.mse_loss(input, target, reduction=self.reduction)\n"
          ],
          "name": "stderr"
        }
      ]
    },
    {
      "cell_type": "markdown",
      "metadata": {
        "id": "OQHBYrc-dicV",
        "colab_type": "text"
      },
      "source": [
        "**NOTE**\n",
        "\n",
        "Observe how gradient buffers had to be manually set to zero using **optimizer.zero_grad()**. This is because gradients are accumulated as explained in Backprop section."
      ]
    },
    {
      "cell_type": "markdown",
      "metadata": {
        "id": "41pA2RJzeEN8",
        "colab_type": "text"
      },
      "source": [
        "# TRAINING A CLASSIFIER\n",
        "\n",
        "This is it. You have seen how to define neural networks, compute loss and make updates to the weights of the network.\n",
        "\n",
        "Now you might be thinking,"
      ]
    },
    {
      "cell_type": "markdown",
      "metadata": {
        "id": "zKh7KZ3qeHWj",
        "colab_type": "text"
      },
      "source": [
        "##What about data?\n",
        "\n",
        "Generally, when you have to deal with image, text, audio or video data, you can use standard python packages that load data into a numpy array. Then you can convert this array into a **torch.*Tensor**.\n",
        "\n",
        "- For images, packages such as Pillow, OpenCV are useful\n",
        "- For audio, packages such as scipy and librosa\n",
        "- For text, either raw Python or Cython based loading, or NLTK and SpaCy are useful\n",
        "\n",
        "Specifically for vision, we have created a package called **torchvision**, that has data loaders for common datasets such as Imagenet, CIFAR10, MNIST, etc. and data transformers for images, viz., **torchvision.datasets** and **torch.utils.data.DataLoader**.\n",
        "\n",
        "This provides a huge convenience and avoids writing boilerplate code.\n",
        "\n",
        "For this tutorial, we will use the CIFAR10 dataset. It has the classes: ‘airplane’, ‘automobile’, ‘bird’, ‘cat’, ‘deer’, ‘dog’, ‘frog’, ‘horse’, ‘ship’, ‘truck’. The images in CIFAR-10 are of size 3x32x32, i.e. 3-channel color images of 32x32 pixels in size.\n",
        "\n",
        "![](https://pytorch.org/tutorials/_images/cifar10.png)\n",
        "\n"
      ]
    },
    {
      "cell_type": "markdown",
      "metadata": {
        "id": "KT4yAtyqe4wd",
        "colab_type": "text"
      },
      "source": [
        "##Training an image classifier\n",
        "\n",
        "We will do the following steps in order:\n",
        "\n",
        "1. Load and normalizing the CIFAR10 training and test datasets using **torchvision**\n",
        "2. Define a Convolutional Neural Network\n",
        "3. Define a loss function\n",
        "4. Train the network on the training data\n",
        "5. Test the network on the test data"
      ]
    },
    {
      "cell_type": "markdown",
      "metadata": {
        "id": "-tH5qH8WfDpI",
        "colab_type": "text"
      },
      "source": [
        "### 1. Loading and normalizing CIFAR10\n",
        "\n",
        "Using torchvision, it’s extremely easy to load CIFAR10."
      ]
    },
    {
      "cell_type": "code",
      "metadata": {
        "id": "dTEWKoqodhnO",
        "colab_type": "code",
        "colab": {}
      },
      "source": [
        "import torch\n",
        "import torchvision\n",
        "import torchvision.transforms as transforms\n"
      ],
      "execution_count": 0,
      "outputs": []
    },
    {
      "cell_type": "markdown",
      "metadata": {
        "id": "ohLDFIVxfdK8",
        "colab_type": "text"
      },
      "source": [
        "The output of torchvision datasets are PILImage images of range [0, 1]. We transform them to Tensors of normalized range [-1, 1].\n",
        "\n"
      ]
    },
    {
      "cell_type": "code",
      "metadata": {
        "id": "H-wlw6KffcLP",
        "colab_type": "code",
        "colab": {}
      },
      "source": [
        "transform = transforms.Compose(\n",
        "                [transforms.ToTensor(),\n",
        "                 transforms.Normalize((0.5,0.5,0.5),(0.5,0.5,0.5))])\n"
      ],
      "execution_count": 0,
      "outputs": []
    },
    {
      "cell_type": "code",
      "metadata": {
        "id": "fjbEsM4ZfwaV",
        "colab_type": "code",
        "outputId": "836defe0-fb37-4e77-fc44-a97f9291e834",
        "colab": {
          "base_uri": "https://localhost:8080/",
          "height": 71
        }
      },
      "source": [
        "trainset= torchvision.datasets.CIFAR10(root='/content',train=True,\n",
        "                                       download=True,transform=transform)"
      ],
      "execution_count": 0,
      "outputs": [
        {
          "output_type": "stream",
          "text": [
            "\r0it [00:00, ?it/s]"
          ],
          "name": "stderr"
        },
        {
          "output_type": "stream",
          "text": [
            "Downloading https://www.cs.toronto.edu/~kriz/cifar-10-python.tar.gz to /content/cifar-10-python.tar.gz\n"
          ],
          "name": "stdout"
        },
        {
          "output_type": "stream",
          "text": [
            "170500096it [00:04, 38755724.63it/s]                               \n"
          ],
          "name": "stderr"
        }
      ]
    },
    {
      "cell_type": "code",
      "metadata": {
        "id": "NU2yCq-ugDb2",
        "colab_type": "code",
        "colab": {}
      },
      "source": [
        "trainloader = torch.utils.data.DataLoader(trainset,batch_size=4,\n",
        "                                          shuffle=True,num_workers=2)"
      ],
      "execution_count": 0,
      "outputs": []
    },
    {
      "cell_type": "code",
      "metadata": {
        "id": "TUifj5DDgh-j",
        "colab_type": "code",
        "outputId": "3e17e4eb-78a9-492d-8f0e-a1d15aeada79",
        "colab": {
          "base_uri": "https://localhost:8080/",
          "height": 34
        }
      },
      "source": [
        "testset = torchvision.datasets.CIFAR10(root='/content',train=False,\n",
        "                                       download=True,transform=transform)"
      ],
      "execution_count": 0,
      "outputs": [
        {
          "output_type": "stream",
          "text": [
            "Files already downloaded and verified\n"
          ],
          "name": "stdout"
        }
      ]
    },
    {
      "cell_type": "code",
      "metadata": {
        "id": "JIUeO8DNgxaO",
        "colab_type": "code",
        "colab": {}
      },
      "source": [
        "testloader = torch.utils.data.DataLoader(testset,batch_size=4,\n",
        "                                         shuffle=False,num_workers=2)"
      ],
      "execution_count": 0,
      "outputs": []
    },
    {
      "cell_type": "code",
      "metadata": {
        "id": "bkf_M4e5hH6s",
        "colab_type": "code",
        "colab": {}
      },
      "source": [
        "classes = ('plane', 'car', 'bird', 'cat',\n",
        "           'deer', 'dog', 'frog', 'horse', 'ship', 'truck')"
      ],
      "execution_count": 0,
      "outputs": []
    },
    {
      "cell_type": "markdown",
      "metadata": {
        "id": "BW21hITGhOiN",
        "colab_type": "text"
      },
      "source": [
        "Let us show some of the training images, for fun."
      ]
    },
    {
      "cell_type": "code",
      "metadata": {
        "id": "_9pILzIVhK9t",
        "colab_type": "code",
        "colab": {}
      },
      "source": [
        "import matplotlib.pyplot as plt\n",
        "import numpy as np\n",
        "\n",
        "def imshow(img):\n",
        "    img = img/2 +0.5 #unnormalize\n",
        "    npimg= img.numpy()\n",
        "    plt.imshow(np.transpose(npimg,(1,2,0)))\n",
        "    plt.show()"
      ],
      "execution_count": 0,
      "outputs": []
    },
    {
      "cell_type": "code",
      "metadata": {
        "id": "qOf7bQoVhib6",
        "colab_type": "code",
        "colab": {}
      },
      "source": [
        "# get some random training images\n",
        "dataiter = iter(trainloader)\n",
        "images,labels = dataiter.next()\n"
      ],
      "execution_count": 0,
      "outputs": []
    },
    {
      "cell_type": "code",
      "metadata": {
        "id": "fR7SoIyPhrPp",
        "colab_type": "code",
        "outputId": "ac6f5d51-88d7-4486-e9dc-79cba27a883a",
        "colab": {
          "base_uri": "https://localhost:8080/",
          "height": 156
        }
      },
      "source": [
        "#show images\n",
        "imshow(torchvision.utils.make_grid(images))\n",
        "#print labels\n",
        "print(' '.join('%5s' % classes[labels[j]] for j in range(4)))"
      ],
      "execution_count": 0,
      "outputs": [
        {
          "output_type": "display_data",
          "data": {
            "image/png": "[encoded data removed]",
            "text/plain": [
              "<Figure size 432x288 with 1 Axes>"
            ]
          },
          "metadata": {
            "tags": []
          }
        },
        {
          "output_type": "stream",
          "text": [
            "  car  deer   dog  deer\n"
          ],
          "name": "stdout"
        }
      ]
    },
    {
      "cell_type": "markdown",
      "metadata": {
        "id": "nETW9JPPnast",
        "colab_type": "text"
      },
      "source": [
        "### 2. Define a Convolutional Neural Network\n",
        "\n",
        "Copy the neural network from the Neural Networks section before and modify it to take 3-channel images (instead of 1-channel images as it was defined)."
      ]
    },
    {
      "cell_type": "code",
      "metadata": {
        "id": "pGaJP08FiCDY",
        "colab_type": "code",
        "colab": {}
      },
      "source": [
        "import torch.nn as nn\n",
        "import torch.nn.functional as F\n",
        "\n",
        "class Net(nn.Module):\n",
        "    def __init__(self):\n",
        "        super(Net,self).__init__()\n",
        "        self.conv1 = nn.Conv2d(3,6,5)\n",
        "        self.pool = nn.MaxPool2d(2,2)\n",
        "        self.conv2 = nn.Conv2d(6,16,5)\n",
        "        self.fc1 = nn.Linear(16*5*5,120)\n",
        "        self.fc2 = nn.Linear(120,84)\n",
        "        self.fc3 = nn.Linear(84,10)\n",
        "        \n",
        "    def forward(self,x):\n",
        "        x = self.pool(F.relu(self.conv1(x)))\n",
        "        x = self.pool(F.relu(self.conv2(x)))\n",
        "        x = x.view(-1,16*5*5)\n",
        "        x = F.relu(self.fc1(x))\n",
        "        x = F.relu(self.fc2(x))\n",
        "        x = self.fc3(x)\n",
        "        return x\n",
        "    \n",
        "net = Net()"
      ],
      "execution_count": 0,
      "outputs": []
    },
    {
      "cell_type": "markdown",
      "metadata": {
        "id": "IzfoY4myovwo",
        "colab_type": "text"
      },
      "source": [
        "### 3. Define a Loss function and optimizer\n",
        "\n",
        "Let’s use a Classification Cross-Entropy loss and SGD with momentum."
      ]
    },
    {
      "cell_type": "code",
      "metadata": {
        "id": "9djxtpW1ot48",
        "colab_type": "code",
        "colab": {}
      },
      "source": [
        "import torch.optim as optim\n",
        "\n",
        "criterion = nn.CrossEntropyLoss()\n",
        "optimizer = optim.SGD(net.parameters(),lr=0.001,momentum=0.9)"
      ],
      "execution_count": 0,
      "outputs": []
    },
    {
      "cell_type": "markdown",
      "metadata": {
        "id": "qrLo1BcmpNIs",
        "colab_type": "text"
      },
      "source": [
        "### 4. Train the network\n",
        "\n",
        "This is when things start to get interesting. We simply have to loop over our data iterator, and feed the inputs to the network and optimize."
      ]
    },
    {
      "cell_type": "code",
      "metadata": {
        "id": "x6MXwkqhpHt_",
        "colab_type": "code",
        "outputId": "1a6d7666-008d-4bff-ca95-efad42e045f1",
        "colab": {
          "base_uri": "https://localhost:8080/",
          "height": 238
        }
      },
      "source": [
        "for epoch in range(2): # loop over the dataset multiple times\n",
        "    \n",
        "    running_loss = 0.0\n",
        "    for i, data in enumerate(trainloader, 0):\n",
        "        # get the inputs; data is a list of [inputs, labels]\n",
        "        inputs,labels=data\n",
        "        \n",
        "        #zero the parameter gradients\n",
        "        optimizer.zero_grad()\n",
        "        \n",
        "        #forward + backward + optimize\n",
        "        outputs = net(inputs)\n",
        "        loss = criterion(outputs,labels)\n",
        "        loss.backward()\n",
        "        optimizer.step()\n",
        "        \n",
        "        #print statistics\n",
        "        running_loss += loss.item()\n",
        "        if i % 2000 == 1999: # print every 2000 mini-batches\n",
        "            print('[%d,%5d] loss: %3f' % (epoch +1, i+1, running_loss/2000))\n",
        "            running_loss = 0.0\n",
        "            \n",
        "print ('Finished Training')"
      ],
      "execution_count": 0,
      "outputs": [
        {
          "output_type": "stream",
          "text": [
            "[1, 2000] loss: 2.198646\n",
            "[1, 4000] loss: 1.836708\n",
            "[1, 6000] loss: 1.646295\n",
            "[1, 8000] loss: 1.553609\n",
            "[1,10000] loss: 1.512726\n",
            "[1,12000] loss: 1.469796\n",
            "[2, 2000] loss: 1.411650\n",
            "[2, 4000] loss: 1.368944\n",
            "[2, 6000] loss: 1.356513\n",
            "[2, 8000] loss: 1.309504\n",
            "[2,10000] loss: 1.300337\n",
            "[2,12000] loss: 1.307876\n",
            "Finished Training\n"
          ],
          "name": "stdout"
        }
      ]
    },
    {
      "cell_type": "markdown",
      "metadata": {
        "id": "EY8LiQ2oslv3",
        "colab_type": "text"
      },
      "source": [
        "### 5. Test the network on the test data\n",
        "\n",
        "We have trained the network for 2 passes over the training dataset. But we need to check if the network has learnt anything at all.\n",
        "\n",
        "We will check this by predicting the class label that the neural network outputs, and checking it against the ground-truth. If the prediction is correct, we add the sample to the list of correct predictions.\n",
        "\n",
        "Okay, first step. Let us display an image from the test set to get familiar."
      ]
    },
    {
      "cell_type": "code",
      "metadata": {
        "id": "fB_sfWNkruNg",
        "colab_type": "code",
        "outputId": "21f8262b-d18b-46db-c378-f1e7c86b29a0",
        "colab": {
          "base_uri": "https://localhost:8080/",
          "height": 156
        }
      },
      "source": [
        "dataiter = iter(testloader)\n",
        "images,labels = dataiter.next()\n",
        "\n",
        "#print images\n",
        "imshow(torchvision.utils.make_grid(images))\n",
        "print('GroundTruth:', ' '.join('%5s' % classes[labels[j]] for j in range(4)))"
      ],
      "execution_count": 0,
      "outputs": [
        {
          "output_type": "display_data",
          "data": {
            "image/png": "[encoded data removed]",
            "text/plain": [
              "<Figure size 432x288 with 1 Axes>"
            ]
          },
          "metadata": {
            "tags": []
          }
        },
        {
          "output_type": "stream",
          "text": [
            "GroundTruth:   cat  ship  ship plane\n"
          ],
          "name": "stdout"
        }
      ]
    },
    {
      "cell_type": "markdown",
      "metadata": {
        "id": "pFK6VrSst8gY",
        "colab_type": "text"
      },
      "source": [
        "Okay, now let us see what the neural network thinks these examples above are:"
      ]
    },
    {
      "cell_type": "code",
      "metadata": {
        "id": "fYP8h-_Rt2ow",
        "colab_type": "code",
        "colab": {}
      },
      "source": [
        "outputs = net(images)"
      ],
      "execution_count": 0,
      "outputs": []
    },
    {
      "cell_type": "markdown",
      "metadata": {
        "id": "l_trIJxXuUyO",
        "colab_type": "text"
      },
      "source": [
        "The outputs are energies for the 10 classes. The higher the energy for a class, the more the network thinks that the image is of the particular class. So, let’s get the index of the highest energy:"
      ]
    },
    {
      "cell_type": "code",
      "metadata": {
        "id": "AmXRZiLEuCgY",
        "colab_type": "code",
        "outputId": "091d0777-6651-45f3-c534-7602d34cadb6",
        "colab": {
          "base_uri": "https://localhost:8080/",
          "height": 34
        }
      },
      "source": [
        "_,predicted= torch.max(outputs,1)\n",
        "\n",
        "print('Predicted: ',' '.join('%5s' % classes[predicted[j]] for j in range(4)))"
      ],
      "execution_count": 0,
      "outputs": [
        {
          "output_type": "stream",
          "text": [
            "Predicted:    cat  ship  ship  ship\n"
          ],
          "name": "stdout"
        }
      ]
    },
    {
      "cell_type": "markdown",
      "metadata": {
        "id": "5lUy5WBLuuuB",
        "colab_type": "text"
      },
      "source": [
        "The results seem pretty good.\n",
        "\n",
        "Let us look at how the network performs on the whole dataset."
      ]
    },
    {
      "cell_type": "code",
      "metadata": {
        "id": "VBd7505Cusos",
        "colab_type": "code",
        "outputId": "62baa09e-0c05-43a9-8996-1b2c102dfa2a",
        "colab": {
          "base_uri": "https://localhost:8080/",
          "height": 34
        }
      },
      "source": [
        "correct = 0\n",
        "total = 0 \n",
        "with torch.no_grad():\n",
        "    for data in testloader:\n",
        "        images,labels = data\n",
        "        outputs = net(images)\n",
        "        _,predicted = torch.max(outputs.data,1)\n",
        "        total += labels.size(0)\n",
        "        correct += (predicted == labels).sum().item()\n",
        "        \n",
        "print('Accuracy of the network on the 10000 test images: %d %%' % (\n",
        "    100 * correct / total))"
      ],
      "execution_count": 0,
      "outputs": [
        {
          "output_type": "stream",
          "text": [
            "Accuracy of the network on the 10000 test images: 53 %\n"
          ],
          "name": "stdout"
        }
      ]
    },
    {
      "cell_type": "markdown",
      "metadata": {
        "id": "T4fblUT0v925",
        "colab_type": "text"
      },
      "source": [
        "That looks waaay better than chance, which is 10% accuracy (randomly picking a class out of 10 classes). Seems like the network learnt something.\n",
        "\n",
        "Hmmm, what are the classes that performed well, and the classes that did not perform well:"
      ]
    },
    {
      "cell_type": "code",
      "metadata": {
        "id": "O2tA7yshwXBK",
        "colab_type": "code",
        "outputId": "cb26e25a-4b60-4778-e037-c675f7d53624",
        "colab": {
          "base_uri": "https://localhost:8080/",
          "height": 187
        }
      },
      "source": [
        "class_correct = list(0. for i in range(10))\n",
        "class_total = list(0. for i in range(10))\n",
        "\n",
        "with torch.no_grad():\n",
        "    for data in testloader:\n",
        "        images,labels = data\n",
        "        outputs = net(images)\n",
        "        _,predicted = torch.max(outputs,1)\n",
        "        c = (predicted == labels).squeeze()\n",
        "        for i in range(4):\n",
        "            label = labels[i]\n",
        "            class_correct[label] += c[i].item()\n",
        "            class_total[label] += 1\n",
        "            \n",
        "for i in range(10):\n",
        "    print('Accuracy of %5s : %2d %%' % (\n",
        "        classes[i], 100 * class_correct[i] / class_total[i]))      "
      ],
      "execution_count": 0,
      "outputs": [
        {
          "output_type": "stream",
          "text": [
            "Accuracy of plane : 51 %\n",
            "Accuracy of   car : 65 %\n",
            "Accuracy of  bird : 46 %\n",
            "Accuracy of   cat : 30 %\n",
            "Accuracy of  deer : 46 %\n",
            "Accuracy of   dog : 48 %\n",
            "Accuracy of  frog : 52 %\n",
            "Accuracy of horse : 61 %\n",
            "Accuracy of  ship : 77 %\n",
            "Accuracy of truck : 55 %\n"
          ],
          "name": "stdout"
        }
      ]
    },
    {
      "cell_type": "markdown",
      "metadata": {
        "id": "0OnfNSkjxgHM",
        "colab_type": "text"
      },
      "source": [
        "Okay, so what next?\n",
        "\n",
        "How do we run these neural networks on the GPU?"
      ]
    },
    {
      "cell_type": "markdown",
      "metadata": {
        "id": "tUPRNxE3xj0U",
        "colab_type": "text"
      },
      "source": [
        "## Training on GPU\n",
        "\n",
        "Just like how you transfer a Tensor onto the GPU, you transfer the neural net onto the GPU.\n",
        "\n",
        "Let’s first define our device as the first visible cuda device if we have CUDA available:"
      ]
    },
    {
      "cell_type": "code",
      "metadata": {
        "id": "__W3lqNExetF",
        "colab_type": "code",
        "outputId": "e79c1cd1-b249-4c2d-93dc-7b5cfa0d70f7",
        "colab": {
          "base_uri": "https://localhost:8080/",
          "height": 34
        }
      },
      "source": [
        "device = torch.device(\"cuda:0\" if torch.cuda.is_available() else \"cpu\")\n",
        "\n",
        "# Assuming that we are on a CUDA machine, this should print a CUDA device:\n",
        "\n",
        "print(device)\n"
      ],
      "execution_count": 0,
      "outputs": [
        {
          "output_type": "stream",
          "text": [
            "cuda:0\n"
          ],
          "name": "stdout"
        }
      ]
    },
    {
      "cell_type": "markdown",
      "metadata": {
        "id": "_hheajspxxqn",
        "colab_type": "text"
      },
      "source": [
        "The rest of this section assumes that device is a CUDA device.\n",
        "\n",
        "Then these methods will recursively go over all modules and convert their parameters and buffers to CUDA tensors:"
      ]
    },
    {
      "cell_type": "code",
      "metadata": {
        "id": "DhNmD9wZxqLQ",
        "colab_type": "code",
        "colab": {}
      },
      "source": [
        "net.to(device)\n"
      ],
      "execution_count": 0,
      "outputs": []
    },
    {
      "cell_type": "markdown",
      "metadata": {
        "id": "m7fAnasEx95R",
        "colab_type": "text"
      },
      "source": [
        "Remember that you will have to send the inputs and targets at every step to the GPU too:"
      ]
    },
    {
      "cell_type": "code",
      "metadata": {
        "id": "auK7-6u7yBfR",
        "colab_type": "code",
        "colab": {}
      },
      "source": [
        "inputs, labels = data[0].to(device), data[1].to(device)"
      ],
      "execution_count": 0,
      "outputs": []
    },
    {
      "cell_type": "markdown",
      "metadata": {
        "id": "TUFv6JuSyDlz",
        "colab_type": "text"
      },
      "source": [
        "Why dont I notice MASSIVE speedup compared to CPU? Because your network is realllly small.\n",
        "\n",
        "**Exercise:** Try increasing the width of your network (argument 2 of the first nn.Conv2d, and argument 1 of the second nn.Conv2d – they need to be the same number), see what kind of speedup you get.\n",
        "\n",
        "**Goals achieved:**\n",
        "\n",
        "- Understanding PyTorch’s Tensor library and neural networks at a high level.\n",
        "- Train a small neural network to classify images"
      ]
    }
  ]
}