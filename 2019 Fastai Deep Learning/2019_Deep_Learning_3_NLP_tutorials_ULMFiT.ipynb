{
  "nbformat": 4,
  "nbformat_minor": 0,
  "metadata": {
    "colab": {
      "name": "2019_Deep_Learning_3_NLP_tutorials_ULMFiT.ipynb",
      "version": "0.3.2",
      "provenance": [],
      "collapsed_sections": [],
      "include_colab_link": true
    },
    "kernelspec": {
      "name": "python3",
      "display_name": "Python 3"
    },
    "accelerator": "GPU"
  },
  "cells": [
    {
      "cell_type": "markdown",
      "metadata": {
        "id": "view-in-github",
        "colab_type": "text"
      },
      "source": [
        "<a href=\"https://colab.research.google.com/github/hduongck/AI-ML-Learning/blob/master/2019%20Fastai%20Deep%20Learning/2019_Deep_Learning_3_NLP_tutorials_ULMFiT.ipynb\" target=\"_parent\"><img src=\"https://colab.research.google.com/assets/colab-badge.svg\" alt=\"Open In Colab\"/></a>"
      ]
    },
    {
      "metadata": {
        "id": "gYpDRRIRm6g9",
        "colab_type": "text"
      },
      "cell_type": "markdown",
      "source": [
        "#Tutorial on Text Classification (NLP) using ULMFiT and fastai Library in Python"
      ]
    },
    {
      "metadata": {
        "id": "G6U-8uaSnHkg",
        "colab_type": "text"
      },
      "cell_type": "markdown",
      "source": [
        "# Introduction\n",
        "\n",
        "![alt text](https://s3-ap-south-1.amazonaws.com/av-blog-media/wp-content/uploads/2018/11/DL-NLP.png)\n",
        "\n",
        "Natural Language Processing (NLP) needs no introduction in today’s world. It’s one of the most important fields of study and research, and has seen a phenomenal rise in interest in the last decade. The basics of NLP are widely known and easy to grasp. But things start to get tricky when the text data becomes huge and unstructured.\n",
        "\n",
        "That’s where deep learning becomes so pivotal. Yes, I’m talking about deep learning for NLP tasks – a still relatively less trodden path. DL has proven its usefulness in computer vision tasks like image detection, classification and segmentation, but NLP applications like text generation and classification have long been considered fit for traditional ML techniques.\n",
        "\n",
        "And deep learning has certainly made a very positive impact in NLP, as you’ll see in this article. We will focus on the concept of transfer learning and how we can leverage it in NLP to build incredibly accurate models using the popular fastai library. I will introduce you to the ULMFiT framework as well in the process.\n",
        "\n",
        "Note- This article assumes basic familiarity with neural networks, deep learning and transfer learning. If you are new to deep learning, I would strongly recommend reading the following articles first:\n",
        "\n",
        "1. [An Introductory Guide to Deep Learning and Neural Networks](https://www.analyticsvidhya.com/blog/2018/10/introduction-neural-networks-deep-learning)\n",
        "2. [A Complete Guide on Getting Started with Deep Learning in Python](https://www.analyticsvidhya.com/blog/2016/08/deep-learning-path/)\n",
        "\n",
        "Table of Contents\n",
        "\n",
        "1. The Advantage of Transfer Learning\n",
        "2. Pre-trained Models in NLP\n",
        "3. Overview of ULMFiT\n",
        "3. Understanding the Problem Statement\n",
        "4. System Setup: Google Colab\n",
        "5. Implementation in Python\n",
        "6. What’s Next?"
      ]
    },
    {
      "metadata": {
        "id": "ELllBtLpmhZi",
        "colab_type": "text"
      },
      "cell_type": "markdown",
      "source": [
        "#The Advantage of Transfer Learning\n",
        "\n",
        "I praised deep learning in the introduction, and deservedly so. However, everything comes at a price, and deep learning is no different. The biggest challenge in deep learning is the massive data requirements for training the models. It is difficult to find datasets of such huge sizes, and it is way too costly to prepare such datasets. It’s simply not possible for most organizations to come up with them.\n",
        "\n",
        "Another obstacle is the high cost of GPUs needed to run advanced deep learning algorithms.\n",
        "\n",
        "![alt text](https://s3-ap-south-1.amazonaws.com/av-blog-media/wp-content/uploads/2018/11/transfer_learning.jpg)\n",
        "\n",
        "Thankfully, **we can use pre-trained state-of-the-art deep learning models and tweak them to work for us. This is known as transfer learning**. It is not as resource intensive as training a deep learning model from scratch and produces decent results even on small amounts of training data. This concept will be expanded upon later in the article when we implement our learning on quite a small dataset.\n",
        "\n"
      ]
    },
    {
      "metadata": {
        "id": "iAxxvYLsn1XA",
        "colab_type": "text"
      },
      "cell_type": "markdown",
      "source": [
        "#Pre-trained Models in NLP\n",
        "\n",
        "Pre-trained models help data scientists start off on a new problem by providing an existing framework they can leverage. You don’t always have to build a model from scratch, especially when someone else has already put in their hard work and effort! And these pre-trained models have proven to be truly effective and useful in the field of computer vision (check out this article to see our pick of the top 10 pre-trained models in CV).\n",
        "\n",
        "Their success is popularly attributed to the Imagenet dataset. It has over 14 million labeled images with over 1 million images also accompanying bounding boxes. This dataset was first published in 2009 and has since become one of the most sought-after image datasets ever. It led to several breakthroughs in deep learning research for computer vision, with transfer learning being one of them.\n",
        "\n",
        "![alt text](https://s3-ap-south-1.amazonaws.com/av-blog-media/wp-content/uploads/2018/11/Screenshot_2018-11-28-3-Getting-Started-with-Pre-trained-Models-on-ImageNet-%E2%80%94-gluoncv-0-4-0-documentation.png)\n",
        "\n",
        "However, in NLP, transfer learning has not been as successful (as compared to computer vision, anyway). Of course we have pre-trained word embeddings like word2vec, GloVe, and fastText, but they are primarily used to initialize only the first layer of a neural network. The rest of the model still needs to be trained from scratch and it requires a huge number of examples to produce a good performance.\n",
        "\n",
        "What do we really need in this case? Like the aforementioned computer vision models, we require a pre-trained model for NLP which can be fine-tuned and used on different text datasets. One of the contenders for pre-trained natural language models is the Universal Language Model Fine-tuning for Text Classification, or ULMFiT (Imagenet dataset [cs.CL]).\n",
        "\n",
        "How does it work? How widespread are it’s applications? How can we make it work in Python? In the rest of this article, we will put ULMFiT to the test by solving a text classification problem and check how well it performs."
      ]
    },
    {
      "metadata": {
        "id": "JO_BwB8SoG7w",
        "colab_type": "text"
      },
      "cell_type": "markdown",
      "source": [
        "#Overview of ULMFiT\n",
        "\n",
        "Proposed by fast.ai’s Jeremy Howard and NUI Galway Insight Center’s Sebastian Ruder, ULMFiT is essentially a method to enable transfer learning for any NLP task and achieve great results. All this, without having to train models from scratch. That got your attention, didn’t it?\n",
        "\n",
        "ULMFiT achieves state-of-the-art result using novel techniques like:\n",
        "\n",
        "- Discriminative fine-tuning\n",
        "- Slanted triangular learning rates, and\n",
        "- Gradual unfreezing\n",
        "\n",
        "This method involves fine-tuning a pre-trained language model (LM), trained on the Wikitext 103 dataset, to a new dataset in such a manner that it does not forget what it previously learned.\n",
        "\n",
        "![alt text](https://s3-ap-south-1.amazonaws.com/av-blog-media/wp-content/uploads/2018/11/ulmfit_flow_2.png)"
      ]
    },
    {
      "metadata": {
        "id": "QnsgcWn2o_lx",
        "colab_type": "text"
      },
      "cell_type": "markdown",
      "source": [
        "#Problem Statement\n",
        "\n",
        "Alright, enough theoretical concepts – let’s get our hands dirty by implementing ULMFiT on a dataset and see what the hype is all about.\n",
        "\n",
        "Our objective here is to fine-tune a pre-trained model and use it for text classification on a new dataset. We will implement ULMFiT in this process. The interesting thing here is that this new data is quite small in size (<1000 labeled instances). A neural network model trained from scratch would overfit on such a small dataset. Hence, I would like to see whether ULMFiT does a great job at this task as promised in the paper.\n",
        "\n",
        "**Dataset: We will use the 20 Newsgroup dataset available in sklearn.datasets**. As the name suggests, it includes text documents from 20 different newsgroups."
      ]
    },
    {
      "metadata": {
        "id": "Gv1XaSJYp_8e",
        "colab_type": "code",
        "colab": {}
      },
      "cell_type": "code",
      "source": [
        "from fastai.text import *"
      ],
      "execution_count": 0,
      "outputs": []
    },
    {
      "metadata": {
        "id": "b1IazGL2lqMF",
        "colab_type": "code",
        "colab": {}
      },
      "cell_type": "code",
      "source": [
        "from sklearn.datasets import fetch_20newsgroups\n",
        "\n",
        "dataset=fetch_20newsgroups(shuffle=True,random_state=1,remove=('headers','footers','quotes'))\n",
        "\n",
        "documents=dataset.data\n"
      ],
      "execution_count": 0,
      "outputs": []
    },
    {
      "metadata": {
        "id": "Kv2zhtnMpmLw",
        "colab_type": "code",
        "colab": {
          "base_uri": "https://localhost:8080/",
          "height": 204
        },
        "outputId": "c9c83974-5049-4d30-ab8d-83afb350a3eb"
      },
      "cell_type": "code",
      "source": [
        "df = pd.DataFrame({'label':dataset.target,'text':dataset.data})\n",
        "df.head()"
      ],
      "execution_count": 7,
      "outputs": [
        {
          "output_type": "execute_result",
          "data": {
            "text/html": [
              "<div>\n",
              "<style scoped>\n",
              "    .dataframe tbody tr th:only-of-type {\n",
              "        vertical-align: middle;\n",
              "    }\n",
              "\n",
              "    .dataframe tbody tr th {\n",
              "        vertical-align: top;\n",
              "    }\n",
              "\n",
              "    .dataframe thead th {\n",
              "        text-align: right;\n",
              "    }\n",
              "</style>\n",
              "<table border=\"1\" class=\"dataframe\">\n",
              "  <thead>\n",
              "    <tr style=\"text-align: right;\">\n",
              "      <th></th>\n",
              "      <th>label</th>\n",
              "      <th>text</th>\n",
              "    </tr>\n",
              "  </thead>\n",
              "  <tbody>\n",
              "    <tr>\n",
              "      <th>0</th>\n",
              "      <td>17</td>\n",
              "      <td>Well i'm not sure about the story nad it did s...</td>\n",
              "    </tr>\n",
              "    <tr>\n",
              "      <th>1</th>\n",
              "      <td>0</td>\n",
              "      <td>\\n\\n\\n\\n\\n\\n\\nYeah, do you expect people to re...</td>\n",
              "    </tr>\n",
              "    <tr>\n",
              "      <th>2</th>\n",
              "      <td>17</td>\n",
              "      <td>Although I realize that principle is not one o...</td>\n",
              "    </tr>\n",
              "    <tr>\n",
              "      <th>3</th>\n",
              "      <td>11</td>\n",
              "      <td>Notwithstanding all the legitimate fuss about ...</td>\n",
              "    </tr>\n",
              "    <tr>\n",
              "      <th>4</th>\n",
              "      <td>10</td>\n",
              "      <td>Well, I will have to change the scoring on my ...</td>\n",
              "    </tr>\n",
              "  </tbody>\n",
              "</table>\n",
              "</div>"
            ],
            "text/plain": [
              "   label                                               text\n",
              "0     17  Well i'm not sure about the story nad it did s...\n",
              "1      0  \\n\\n\\n\\n\\n\\n\\nYeah, do you expect people to re...\n",
              "2     17  Although I realize that principle is not one o...\n",
              "3     11  Notwithstanding all the legitimate fuss about ...\n",
              "4     10  Well, I will have to change the scoring on my ..."
            ]
          },
          "metadata": {
            "tags": []
          },
          "execution_count": 7
        }
      ]
    },
    {
      "metadata": {
        "id": "fs58lg4brHwe",
        "colab_type": "text"
      },
      "cell_type": "markdown",
      "source": [
        "We’ll convert this into a binary classification problem by selecting only 2 out of the 20 labels present in the dataset. We will select labels 1 and 10 which correspond to ‘comp.graphics’ and ‘rec.sport.hockey’, respectively."
      ]
    },
    {
      "metadata": {
        "id": "WeSbbg3UvsjL",
        "colab_type": "text"
      },
      "cell_type": "markdown",
      "source": [
        "##1. Choose binary label"
      ]
    },
    {
      "metadata": {
        "id": "CKIZ-H2Dp-As",
        "colab_type": "code",
        "colab": {}
      },
      "cell_type": "code",
      "source": [
        "df = df[df['label'].isin([1,10])]\n",
        "df = df.reset_index(drop=True)"
      ],
      "execution_count": 0,
      "outputs": []
    },
    {
      "metadata": {
        "id": "A_qK-IqTrXZV",
        "colab_type": "text"
      },
      "cell_type": "markdown",
      "source": [
        "Let’s have a quick look at the target distribution."
      ]
    },
    {
      "metadata": {
        "id": "qsHll5V5rVXK",
        "colab_type": "code",
        "colab": {
          "base_uri": "https://localhost:8080/",
          "height": 68
        },
        "outputId": "9cfa8438-10a7-48d4-c1b7-76f41d21db27"
      },
      "cell_type": "code",
      "source": [
        "df.label.value_counts()"
      ],
      "execution_count": 9,
      "outputs": [
        {
          "output_type": "execute_result",
          "data": {
            "text/plain": [
              "10    600\n",
              "1     584\n",
              "Name: label, dtype: int64"
            ]
          },
          "metadata": {
            "tags": []
          },
          "execution_count": 9
        }
      ]
    },
    {
      "metadata": {
        "id": "H0PRURFXrdMZ",
        "colab_type": "text"
      },
      "cell_type": "markdown",
      "source": [
        "The distribution looks pretty even. Accuracy would be a good evaluation metric to use in this case."
      ]
    },
    {
      "metadata": {
        "id": "mV2StlbNrqok",
        "colab_type": "text"
      },
      "cell_type": "markdown",
      "source": [
        "###Data Preprocessing\n",
        "\n",
        "It’s always a good practice to feed clean data to your models, especially when the data comes in the form of unstructured text. Let’s clean our text by retaining only alphabets and removing everything else\n",
        "\n",
        "-------------------------------------------------\n",
        "\n",
        "When we deal with text problem in Natural Language Processing, stop words removal process is a one of the important step to have a better input for any models. **Stop words means that it is a very common words in a language (e.g. a, an, the in English. 的, 了 in Chinese. え, も in Japanese)**. It does not help on most of NLP problem such as semantic analysis, classification etc.\n",
        "\n",
        "In this article, we will look into using multi libraries pre-defined stop words, third party pre-defined stop words as well as domain specific stop words. Definition of stop words (capture from wiki) will be used to demonstrate the result after removing stop words.\n",
        "\n",
        "Word tokenization and lemmatization are the essential part for removing stop words. You may refer to articles to understand [word tokenization](https://medium.com/@makcedward/nlp-pipeline-word-tokenization-part-1-4b2b547e6a3) and [lemmatization](https://medium.com/@makcedward/nlp-pipeline-lemmatization-part-3-4bfd7304957).\n",
        "\n"
      ]
    },
    {
      "metadata": {
        "id": "fSPddVhiraXx",
        "colab_type": "code",
        "colab": {}
      },
      "cell_type": "code",
      "source": [
        "df['text'] = df['text'].str.replace('[^a-zA-Z]',\" \")"
      ],
      "execution_count": 0,
      "outputs": []
    },
    {
      "metadata": {
        "id": "gWohak6FtNeQ",
        "colab_type": "text"
      },
      "cell_type": "markdown",
      "source": [
        "Now, we will get rid of the stopwords from our text data. If you have never used stopwords before, then you will have to download them from the nltk package as I’ve shown below:"
      ]
    },
    {
      "metadata": {
        "id": "hkH8MR3HsXRC",
        "colab_type": "code",
        "colab": {
          "base_uri": "https://localhost:8080/",
          "height": 51
        },
        "outputId": "052cb565-84a6-4f80-a361-0124bf1878ee"
      },
      "cell_type": "code",
      "source": [
        "import nltk\n",
        "\n",
        "nltk.download('stopwords')\n",
        "\n",
        "from nltk.corpus import stopwords\n",
        "stop_words = stopwords.words('english')"
      ],
      "execution_count": 11,
      "outputs": [
        {
          "output_type": "stream",
          "text": [
            "[nltk_data] Downloading package stopwords to /root/nltk_data...\n",
            "[nltk_data]   Unzipping corpora/stopwords.zip.\n"
          ],
          "name": "stdout"
        }
      ]
    },
    {
      "metadata": {
        "id": "OngWyau4teJo",
        "colab_type": "code",
        "colab": {}
      },
      "cell_type": "code",
      "source": [
        "# tokenization\n",
        "\n",
        "tokenized_doc = df['text'].apply(lambda x:x.split())\n"
      ],
      "execution_count": 0,
      "outputs": []
    },
    {
      "metadata": {
        "id": "UraH7ACwtqTH",
        "colab_type": "code",
        "colab": {}
      },
      "cell_type": "code",
      "source": [
        "#remove stop-words\n",
        "tokenized_doc = tokenized_doc.apply(lambda x:[item for item in x if item not in stop_words])"
      ],
      "execution_count": 0,
      "outputs": []
    },
    {
      "metadata": {
        "id": "VkMhXhQQt4Tv",
        "colab_type": "code",
        "colab": {}
      },
      "cell_type": "code",
      "source": [
        "# de_tokenization\n",
        "detokenized_doc =[]\n",
        "for i in range(len(df)):\n",
        "    t =' '.join(tokenized_doc[i])\n",
        "    detokenized_doc.append(t)\n",
        "    \n",
        "df['text'] = detokenized_doc"
      ],
      "execution_count": 0,
      "outputs": []
    },
    {
      "metadata": {
        "id": "43oCJ3Qduipp",
        "colab_type": "text"
      },
      "cell_type": "markdown",
      "source": [
        "###Language model data\n",
        "\n"
      ]
    },
    {
      "metadata": {
        "id": "qpGZ0rqEvV-u",
        "colab_type": "code",
        "colab": {}
      },
      "cell_type": "code",
      "source": [
        "path ='/content/'"
      ],
      "execution_count": 0,
      "outputs": []
    },
    {
      "metadata": {
        "id": "UrAlFbPCuZiU",
        "colab_type": "code",
        "colab": {}
      },
      "cell_type": "code",
      "source": [
        "data_lm = (TextList.from_df(df,cols='text')\n",
        "          .split_by_rand_pct(0.1)\n",
        "          .label_for_lm()\n",
        "          .databunch(bs=48))\n",
        "data_lm.save('data_lm.pkl')"
      ],
      "execution_count": 0,
      "outputs": []
    },
    {
      "metadata": {
        "id": "gWBtQNJ1vGQ2",
        "colab_type": "code",
        "colab": {}
      },
      "cell_type": "code",
      "source": [
        "data_lm = load_data(path,'data_lm.pkl',bs=48)"
      ],
      "execution_count": 0,
      "outputs": []
    },
    {
      "metadata": {
        "id": "NddhsRvbvg3q",
        "colab_type": "code",
        "colab": {
          "base_uri": "https://localhost:8080/",
          "height": 595
        },
        "outputId": "04c96c92-8377-42bb-bef8-9ce2e3892c7d"
      },
      "cell_type": "code",
      "source": [
        "data_lm.show_batch()"
      ],
      "execution_count": 20,
      "outputs": [
        {
          "output_type": "display_data",
          "data": {
            "text/html": [
              "<table border=\"1\" class=\"dataframe\">\n",
              "  <thead>\n",
              "    <tr style=\"text-align: right;\">\n",
              "      <th>idx</th>\n",
              "      <th>text</th>\n",
              "    </tr>\n",
              "  </thead>\n",
              "  <tbody>\n",
              "    <tr>\n",
              "      <td>0</td>\n",
              "      <td>computer xxmaj graphics xxmaj resource xxmaj listing xxup weekly xxup posting xxup part xxmaj last xxmaj change xxmaj april xxmaj many faqs including xxmaj listing available archive site pit manager mit edu alias rtfm mit edu directory pub usenet news answers xxmaj the name xxup faq archived appears xxmaj archive name line top article xxmaj this xxup faq archived graphics resources list part xxmaj there mail server machine xxmaj you</td>\n",
              "    </tr>\n",
              "    <tr>\n",
              "      <td>1</td>\n",
              "      <td>xdart xxmaj mark xxmaj xxunk xxunk xxunk xxunk wisc edu sgi com graphics tiff xxup tiff spec xxup libtiff software pics xxmaj also much xxup sgi xxup gl related stuff e g opengl xxunk xxmaj sam xxmaj xxunk sam sgi com xxunk xxunk berkeley edu xxup libtiff stuff xxunk waterloo edu graphics xxup fbm ray tracers ftp sdsc edu xxunk xxup sdsc ftp brl mil brl cad information get xxup</td>\n",
              "    </tr>\n",
              "    <tr>\n",
              "      <td>2</td>\n",
              "      <td>it based xxmaj non xxmaj xxunk xxmaj xxunk xxmaj ask info i know give away xxup xyz xxup xyz interactive d editor builder written xxmaj dale p xxmaj xxunk create objects xxunk xxmaj xxunk xxup dkb raytracer packages xxup xyz free found example xxup simtel xxup msdos xxup xxunk xxup xyz xxup zip xxup dos xxup dmod xxmaj it xxup msdos program xxmaj check xxunk xxunk clarkson edu pub msdos</td>\n",
              "    </tr>\n",
              "    <tr>\n",
              "      <td>3</td>\n",
              "      <td>xxmaj we need point q normal xxup eq xxup xxunk xxmaj but intersection perpendicular bisector xxup ed normal point exists since d plane xxup abc xxup ed right angles normal xxmaj algorithm xxmaj is sphere well defined xxmaj check a b xxunk failure xxmaj find line xxup ab check c lie failure xxmaj find plane xxup abc check d lie failure xxmaj yes xxmaj find centre xxmaj find perpendicular xxunk</td>\n",
              "    </tr>\n",
              "    <tr>\n",
              "      <td>4</td>\n",
              "      <td>put win first tie breaker xxbos xxmaj about correct xxmaj numminen xxmaj lumme xxmaj no xxmaj kurri points low xxmaj kurri xxmaj sel nne xxmaj that true xxmaj game different xxmaj europe compared xxup nhl xxmaj north xxunk xxunk better small rinks europeans large rinks xxmaj an average european player xxmaj sweden xxmaj finland xxmaj russian xxmaj xxunk xxmaj slovakia better skater xxunk xxup nhl xxunk xxmaj especially defenders xxup</td>\n",
              "    </tr>\n",
              "  </tbody>\n",
              "</table>"
            ],
            "text/plain": [
              "<IPython.core.display.HTML object>"
            ]
          },
          "metadata": {
            "tags": []
          }
        }
      ]
    },
    {
      "metadata": {
        "id": "QpXO5vJAviqd",
        "colab_type": "code",
        "colab": {}
      },
      "cell_type": "code",
      "source": [
        "learn = language_model_learner(data_lm,AWD_LSTM,drop_mult=0.3)"
      ],
      "execution_count": 0,
      "outputs": []
    },
    {
      "metadata": {
        "id": "F9dsuFhewKm5",
        "colab_type": "code",
        "colab": {
          "base_uri": "https://localhost:8080/",
          "height": 320
        },
        "outputId": "53f64a60-9f66-4cfa-8588-5bd17616b6ff"
      },
      "cell_type": "code",
      "source": [
        "learn.lr_find()\n",
        "learn.recorder.plot()"
      ],
      "execution_count": 27,
      "outputs": [
        {
          "output_type": "display_data",
          "data": {
            "text/html": [
              ""
            ],
            "text/plain": [
              "<IPython.core.display.HTML object>"
            ]
          },
          "metadata": {
            "tags": []
          }
        },
        {
          "output_type": "stream",
          "text": [
            "LR Finder is complete, type {learner_name}.recorder.plot() to see the graph.\n"
          ],
          "name": "stdout"
        },
        {
          "output_type": "display_data",
          "data": {
            "image/png": "[encoded data removed]",
            "text/plain": [
              "<Figure size 432x288 with 1 Axes>"
            ]
          },
          "metadata": {
            "tags": []
          }
        }
      ]
    },
    {
      "metadata": {
        "id": "0cTg5mLJwOMO",
        "colab_type": "code",
        "colab": {
          "base_uri": "https://localhost:8080/",
          "height": 173
        },
        "outputId": "b0671d76-5e6d-4046-cde2-5906aa555ea1"
      },
      "cell_type": "code",
      "source": [
        "learn.fit_one_cycle(4,1e-2,moms=(0.8,0.7))"
      ],
      "execution_count": 28,
      "outputs": [
        {
          "output_type": "display_data",
          "data": {
            "text/html": [
              "<table border=\"1\" class=\"dataframe\">\n",
              "  <thead>\n",
              "    <tr style=\"text-align: left;\">\n",
              "      <th>epoch</th>\n",
              "      <th>train_loss</th>\n",
              "      <th>valid_loss</th>\n",
              "      <th>accuracy</th>\n",
              "      <th>time</th>\n",
              "    </tr>\n",
              "  </thead>\n",
              "  <tbody>\n",
              "    <tr>\n",
              "      <td>0</td>\n",
              "      <td>6.205226</td>\n",
              "      <td>5.437816</td>\n",
              "      <td>0.216369</td>\n",
              "      <td>00:07</td>\n",
              "    </tr>\n",
              "    <tr>\n",
              "      <td>1</td>\n",
              "      <td>5.292873</td>\n",
              "      <td>5.019585</td>\n",
              "      <td>0.237599</td>\n",
              "      <td>00:07</td>\n",
              "    </tr>\n",
              "    <tr>\n",
              "      <td>2</td>\n",
              "      <td>4.668279</td>\n",
              "      <td>4.920980</td>\n",
              "      <td>0.238095</td>\n",
              "      <td>00:07</td>\n",
              "    </tr>\n",
              "    <tr>\n",
              "      <td>3</td>\n",
              "      <td>4.264121</td>\n",
              "      <td>4.926503</td>\n",
              "      <td>0.240873</td>\n",
              "      <td>00:07</td>\n",
              "    </tr>\n",
              "  </tbody>\n",
              "</table>"
            ],
            "text/plain": [
              "<IPython.core.display.HTML object>"
            ]
          },
          "metadata": {
            "tags": []
          }
        }
      ]
    },
    {
      "metadata": {
        "id": "7c7pcNJmwXsD",
        "colab_type": "code",
        "colab": {}
      },
      "cell_type": "code",
      "source": [
        "learn.unfreeze()"
      ],
      "execution_count": 0,
      "outputs": []
    },
    {
      "metadata": {
        "id": "J8YAU1oXww7x",
        "colab_type": "code",
        "colab": {
          "base_uri": "https://localhost:8080/",
          "height": 173
        },
        "outputId": "36feb3fd-fba2-47ff-da50-053f16c3a5e3"
      },
      "cell_type": "code",
      "source": [
        "learn.fit_one_cycle(4,1e-2,moms=(0.8,0.7))"
      ],
      "execution_count": 30,
      "outputs": [
        {
          "output_type": "display_data",
          "data": {
            "text/html": [
              "<table border=\"1\" class=\"dataframe\">\n",
              "  <thead>\n",
              "    <tr style=\"text-align: left;\">\n",
              "      <th>epoch</th>\n",
              "      <th>train_loss</th>\n",
              "      <th>valid_loss</th>\n",
              "      <th>accuracy</th>\n",
              "      <th>time</th>\n",
              "    </tr>\n",
              "  </thead>\n",
              "  <tbody>\n",
              "    <tr>\n",
              "      <td>0</td>\n",
              "      <td>4.143395</td>\n",
              "      <td>4.863260</td>\n",
              "      <td>0.236905</td>\n",
              "      <td>00:09</td>\n",
              "    </tr>\n",
              "    <tr>\n",
              "      <td>1</td>\n",
              "      <td>4.019455</td>\n",
              "      <td>4.710302</td>\n",
              "      <td>0.247817</td>\n",
              "      <td>00:09</td>\n",
              "    </tr>\n",
              "    <tr>\n",
              "      <td>2</td>\n",
              "      <td>3.491071</td>\n",
              "      <td>4.720044</td>\n",
              "      <td>0.251389</td>\n",
              "      <td>00:09</td>\n",
              "    </tr>\n",
              "    <tr>\n",
              "      <td>3</td>\n",
              "      <td>2.766342</td>\n",
              "      <td>4.825452</td>\n",
              "      <td>0.258036</td>\n",
              "      <td>00:09</td>\n",
              "    </tr>\n",
              "  </tbody>\n",
              "</table>"
            ],
            "text/plain": [
              "<IPython.core.display.HTML object>"
            ]
          },
          "metadata": {
            "tags": []
          }
        }
      ]
    },
    {
      "metadata": {
        "id": "ZkgBgEdzw0y0",
        "colab_type": "code",
        "colab": {}
      },
      "cell_type": "code",
      "source": [
        "learn.save_encoder('fine_tuned_enc')"
      ],
      "execution_count": 0,
      "outputs": []
    },
    {
      "metadata": {
        "id": "KDSiiW-cxHbr",
        "colab_type": "text"
      },
      "cell_type": "markdown",
      "source": [
        "###Text Classfification\n",
        "\n"
      ]
    },
    {
      "metadata": {
        "id": "2dzCAC_rxGA9",
        "colab_type": "code",
        "colab": {}
      },
      "cell_type": "code",
      "source": [
        "data_clas= (TextList.from_df(df,cols='text',vocab=data_lm.vocab)\n",
        "           .split_subsets(train_size=0.6,valid_size=0.4)\n",
        "           .label_from_df(cols='label')\n",
        "           .databunch(bs=48))\n",
        "data_clas.save('data_clas.pkl')"
      ],
      "execution_count": 0,
      "outputs": []
    },
    {
      "metadata": {
        "id": "Bxr0K2Wlyort",
        "colab_type": "code",
        "colab": {}
      },
      "cell_type": "code",
      "source": [
        "data_clas = load_data(path,'data_clas.pkl',bs=48)"
      ],
      "execution_count": 0,
      "outputs": []
    },
    {
      "metadata": {
        "id": "itUISCfUy6Hn",
        "colab_type": "code",
        "colab": {
          "base_uri": "https://localhost:8080/",
          "height": 2556
        },
        "outputId": "f1ccb591-a4e1-46b8-ff5a-64d18ed5d949"
      },
      "cell_type": "code",
      "source": [
        "data_clas.show_batch(20)"
      ],
      "execution_count": 54,
      "outputs": [
        {
          "output_type": "display_data",
          "data": {
            "text/html": [
              "<table border=\"1\" class=\"dataframe\">\n",
              "  <thead>\n",
              "    <tr style=\"text-align: right;\">\n",
              "      <th>text</th>\n",
              "      <th>target</th>\n",
              "    </tr>\n",
              "  </thead>\n",
              "  <tbody>\n",
              "    <tr>\n",
              "      <td>xxbos xxmaj archive name hockey faq rec sport hockey answers xxmaj frequently xxmaj asked xxmaj questions news xxmaj contents xxmaj new xxmaj info xxup nhl xxup nhl xxmaj minor xxmaj leagues xxmaj college xxmaj hockey xxmaj north xxmaj america xxmaj other leagues e g xxmaj europe xxmaj canada xxmaj cup tournament e mail files xxup usenet xxmaj hockey xxmaj pool xxmaj up coming xxmaj dates xxmaj answers frequently asked questions</td>\n",
              "      <td>10</td>\n",
              "    </tr>\n",
              "    <tr>\n",
              "      <td>xxbos xxmaj archive name graphics resources list part xxmaj last modified xxmaj computer xxmaj graphics xxmaj resource xxmaj listing xxup weekly xxup posting xxup part xxmaj last xxmaj change xxmaj april xxmaj many faqs including xxmaj listing available archive site pit manager mit edu alias rtfm mit edu directory pub usenet news answers xxmaj the name xxup faq archived appears xxmaj archive name line top article xxmaj this xxup faq</td>\n",
              "      <td>1</td>\n",
              "    </tr>\n",
              "    <tr>\n",
              "      <td>xxbos xxmaj archive name graphics resources list part xxmaj last modified xxmaj computer xxmaj graphics xxmaj resource xxmaj listing xxup weekly xxup posting xxup part xxmaj last xxmaj change xxmaj april xxmaj scene generators geographical data xxmaj maps xxmaj data files dems xxmaj digital xxmaj elevation xxmaj models dems xxmaj digital xxmaj elevation xxmaj models well cartographic data huge available spectrum xerox com pub map xxmaj contact xxmaj lee xxmaj</td>\n",
              "      <td>1</td>\n",
              "    </tr>\n",
              "    <tr>\n",
              "      <td>xxbos xxmaj archive name jpeg faq xxmaj last modified xxmaj april xxmaj this xxup faq article xxunk xxup jpeg image compression xxmaj suggestions additions xxunk welcome xxmaj new since version xxmaj april xxmaj new versions xxmaj image xxmaj xxunk xxup pmjpeg xxup os xxmaj this article includes following sections xxmaj what xxup jpeg xxmaj why use xxup jpeg xxmaj when i use xxup jpeg i stick xxup gif xxmaj how</td>\n",
              "      <td>1</td>\n",
              "    </tr>\n",
              "    <tr>\n",
              "      <td>xxbos xxmaj archive name graphics resources list part xxmaj last modified xxmaj computer xxmaj graphics xxmaj resource xxmaj listing xxup weekly xxup posting xxup part xxmaj last xxmaj change xxmaj april xxmaj plotting packages xxmaj gnuplot xxmaj it one best d plotting packages online help xxmaj it command line driven interactive function plotting utility xxup unix xxup msdos xxmaj amiga xxmaj archimedes xxup vms platforms least xxmaj freely distributed supports</td>\n",
              "      <td>1</td>\n",
              "    </tr>\n",
              "    <tr>\n",
              "      <td>xxbos xxmaj individual leaders total points xxmaj final standings xxup note xxmaj games played points per games accurate xxmaj player xxmaj team xxup gp g a xxmaj pts ppg xxmaj prj xxup pim m xxmaj lemieux xxup pit lafontaine xxup buf xxmaj oates xxup bos xxmaj yzerman xxup det xxmaj turgeon xxup nyi xxmaj selanne xxup win xxmaj mogilny xxup buf xxmaj gilmour xxup tor xxmaj robitaille xxup la xxmaj</td>\n",
              "      <td>10</td>\n",
              "    </tr>\n",
              "    <tr>\n",
              "      <td>xxbos xxmaj the xxup flyers xxunk lead xxmaj buffalo xxmaj sabres second period xxmaj kevin xxmaj dineen th career hat trick xxunk th consecutive win xxmaj sabres lost row xxmaj alexander xxmaj mogilny led xxunk scoring th th goals season tied game nd period rd xxmaj tommy xxmaj soderstrom stopped shots goal improve record tested xxmaj mogilny lafontaine night xxmaj roster move xxmaj andre xxmaj faust recalled xxmaj hershey xxmaj</td>\n",
              "      <td>10</td>\n",
              "    </tr>\n",
              "    <tr>\n",
              "      <td>xxbos xxmaj here price list week xxmaj april xxmaj april xxmaj andrew xxmaj buy xxmaj sell xxmaj pts xxmaj team xxmaj player xxup pit xxmaj mario xxmaj lemieux xxup buf xxmaj pat lafontaine xxup bos xxmaj adam xxmaj oates xxup det xxmaj steve xxmaj yzerman xxup wpg xxmaj teemu xxmaj selanne xxup tor xxmaj doug xxmaj gilmour xxup nyi xxmaj pierre xxmaj turgeon xxup buf xxmaj alexander xxmaj mogilny xxup</td>\n",
              "      <td>10</td>\n",
              "    </tr>\n",
              "    <tr>\n",
              "      <td>xxbos xxmaj the xxup flyers team beat team night showed xxmaj spectrum xxmaj sunday night dominated xxmaj maple xxmaj leafs thoroughly en route shutout xxmaj tommy xxmaj soderstrom get credit shutout barely broke xxunk third period xxup flyers defense kept xxmaj leafs xxunk serious attack xxmaj injuries xxmaj pelle xxmaj eklund day day xxunk xxunk xxmaj roster xxmaj moves xxmaj jason xxmaj bowen added lineup first xxup nhl game xxmaj</td>\n",
              "      <td>10</td>\n",
              "    </tr>\n",
              "    <tr>\n",
              "      <td>xxbos xxmaj los xxmaj angeles xxmaj kings notes game reports xxmaj kings xxmaj calgary xxmaj flames xxmaj the third place xxmaj kings opened xxmaj stanley xxmaj cup xxmaj playoffs xxmaj calgary second place xxmaj flames came impressive victory front non xxunk crowd xxmaj xxunk xxmaj calgary xxmaj xxunk xxmaj division playoff hockey xxmaj both teams seemed bit xxunk opening period though xxmaj kings scored opening face xxmaj the xxmaj kings</td>\n",
              "      <td>10</td>\n",
              "    </tr>\n",
              "    <tr>\n",
              "      <td>xxbos xxmaj here final stats xxup chl season xxmaj central xxmaj hockey xxmaj league s xxmaj memorial xxmaj drive xxmaj suite xxmaj tulsa xxup ok xxmaj phone xxmaj fax xxmaj xxunk xxmaj president xxmaj ray xxmaj miron xxmaj commissioner xxmaj monte xxmaj miron xxmaj marketing xxmaj director xxmaj jim xxmaj xxunk xxmaj information xxmaj director xxmaj eric xxmaj kolb xxmaj each team owned league local xxunk controlling day day operations</td>\n",
              "      <td>10</td>\n",
              "    </tr>\n",
              "    <tr>\n",
              "      <td>xxbos xxmaj tampa xxmaj bay xxmaj philadelphia xxmaj first period xxmaj philadelphia xxmaj carkner unassisted xxmaj philadelphia xxmaj hawgood xxmaj recchi xxmaj lindros pp xxmaj philadelphia xxmaj lindros xxmaj recchi xxmaj hawgood pp xxmaj tampa xxmaj bay xxmaj beers xxmaj zamuner xxmaj chambers pp xxmaj second period xxmaj tampa xxmaj bay xxmaj andersson xxmaj hamrlik xxmaj lafreniere pp xxmaj philadelphia xxmaj conroy xxmaj butsayev xxmaj faust xxmaj philadelphia xxmaj beranek</td>\n",
              "      <td>10</td>\n",
              "    </tr>\n",
              "    <tr>\n",
              "      <td>xxbos xxmaj well i back xxmaj xxunk standings xxmaj april update xxmaj andrew xxup usenet xxmaj hockey xxmaj draft xxmaj standings xxmaj week xxmaj posn xxmaj team xxmaj pts xxmaj xxunk xxmaj cash xxmaj last xxmaj posn xxmaj dave xxmaj wessels xxmaj bob xxmaj hill xxmaj gilles xxmaj carmel xxmaj seppo xxmaj kemppainen xxmaj the xxmaj awesome xxmaj oilers xxmaj hillside xxmaj raiders xxmaj mak xxmaj the xxmaj knife xxmaj</td>\n",
              "      <td>10</td>\n",
              "    </tr>\n",
              "    <tr>\n",
              "      <td>xxbos xxmaj the xxup flyers closed season last night th straight victory xxup ot winner xxmaj hartford xxmaj whalers xxmaj the xxup ot game winner came xxmaj xxunk xxmaj yushkevich th season first game winner xxmaj the xxup flyers never led point game xxmaj for xxmaj whalers loss marked xxup nhl record th xxup ot loss season xxmaj roster move xxmaj xxunk xxmaj hynes called play place xxmaj ryan mcgill</td>\n",
              "      <td>10</td>\n",
              "    </tr>\n",
              "    <tr>\n",
              "      <td>xxbos xxmaj philadelphia xxmaj buffalo xxmaj first period xxmaj philadelphia xxmaj recchi xxmaj galley xxmaj lindros xxmaj second period xxmaj philadelphia xxmaj hawgood xxmaj dineen xxmaj eklund pp xxmaj philadelphia xxmaj dineen mcgill sh xxmaj buffalo xxmaj barnaby xxmaj hawerchuk xxmaj smehlik pp xxmaj buffalo xxmaj wood lafontaine xxmaj ledyard pp xxmaj buffalo xxmaj mogilny xxmaj hawerchuk xxmaj carney pp xxmaj third period xxmaj philadelphia xxmaj eklund xxmaj dineen xxmaj</td>\n",
              "      <td>10</td>\n",
              "    </tr>\n",
              "    <tr>\n",
              "      <td>xxbos xxmaj los xxmaj angeles xxmaj kings xxmaj schedule xxmaj results xxup tv preseason games regular season playoffs xxup tv xxup pt xxmaj prime xxmaj ticket xxup xxunk xxmaj channel xxup abc xxmaj channel playoffs xxmaj radio xxmaj all regular preseason games broadcast xxmaj kings radio network xxmaj southern xxmaj california xxup xxunk flagship xxmaj xxunk xxmaj valley xxup xxunk xxmaj xxunk xxmaj alaska xxup xxunk xxmaj el xxmaj xxunk</td>\n",
              "      <td>10</td>\n",
              "    </tr>\n",
              "    <tr>\n",
              "      <td>xxbos xxmaj the xxup otis xxmaj project xxmaj the xxmaj operative xxmaj term xxmaj is xxup xxunk file last updated xxup what xxup is xxup otis xxup otis purpose xxunk original artwork photographs network public xxunk xxunk distribution xxmaj digital xxunk xxmaj the basic idea behind digital xxunk computer networks stay anything interesting xxunk around near xxunk xxmaj the gifs xxunk today artifacts digital future xxmaj perhaps put different formats</td>\n",
              "      <td>1</td>\n",
              "    </tr>\n",
              "    <tr>\n",
              "      <td>xxbos xxmaj here standings game divisional semi finals xxmaj hey look i try post standings game e every two days i managed xxunk email lost xxmaj saturday night i missing mail xxunk early xxmaj saturday morning xxmaj sunday afternoon xxmaj many people sent teams may received two replies back xxmaj if team name list please xxunk team i see i xxmaj any kind proof sent weekend help case xxmaj seriously</td>\n",
              "      <td>10</td>\n",
              "    </tr>\n",
              "    <tr>\n",
              "      <td>xxbos xxmaj played xxmaj xxunk xxmaj xxunk xxmaj april xxup sweden xxup finland st xxup swe xxmaj peter xxmaj popovic xxmaj markus xxmaj naslund xxup fin xxmaj ville xxmaj siren xxmaj keijo xxmaj sailynoja pp xxup fin xxmaj juha xxmaj riihijarvi xxmaj timo xxmaj saarikoski xxmaj vesa xxmaj viitakoski pp nd xxup fin xxmaj jari xxmaj korpisalo xxmaj kari xxmaj xxunk xxmaj rauli xxmaj raitanen xxup swe xxmaj jan xxmaj</td>\n",
              "      <td>10</td>\n",
              "    </tr>\n",
              "    <tr>\n",
              "      <td>xxbos xxmaj the xxmaj blues scored two power play goals seconds third period beat xxmaj chicago xxmaj blackhawks xxmaj sunday afternoon xxmaj chicago xxmaj stadium xxmaj brendan xxmaj shanahan tied game xxmaj brett xxmaj hull scored game winner seconds later xxmaj jeff xxmaj brown xxmaj xxunk xxmaj felsner scored xxmaj blues goals xxmaj brian xxmaj noonan hat trick xxmaj hawks also good goaltending xxmaj ed xxmaj belfour xxmaj blues goalie</td>\n",
              "      <td>10</td>\n",
              "    </tr>\n",
              "  </tbody>\n",
              "</table>"
            ],
            "text/plain": [
              "<IPython.core.display.HTML object>"
            ]
          },
          "metadata": {
            "tags": []
          }
        }
      ]
    },
    {
      "metadata": {
        "id": "qkXjhMF-y7tn",
        "colab_type": "code",
        "colab": {}
      },
      "cell_type": "code",
      "source": [
        "learn = text_classifier_learner(data_clas,AWD_LSTM,drop_mult=0.5)\n",
        "learn.load_encoder('fine_tuned_enc')"
      ],
      "execution_count": 0,
      "outputs": []
    },
    {
      "metadata": {
        "id": "UIU37zEGzHaR",
        "colab_type": "code",
        "colab": {
          "base_uri": "https://localhost:8080/",
          "height": 54
        },
        "outputId": "72e37ef0-acd5-465c-e32b-d1f510f302be"
      },
      "cell_type": "code",
      "source": [
        "learn.lr_find()"
      ],
      "execution_count": 56,
      "outputs": [
        {
          "output_type": "display_data",
          "data": {
            "text/html": [
              ""
            ],
            "text/plain": [
              "<IPython.core.display.HTML object>"
            ]
          },
          "metadata": {
            "tags": []
          }
        },
        {
          "output_type": "stream",
          "text": [
            "LR Finder is complete, type {learner_name}.recorder.plot() to see the graph.\n"
          ],
          "name": "stdout"
        }
      ]
    },
    {
      "metadata": {
        "id": "AIZuXy5lzMRv",
        "colab_type": "code",
        "colab": {
          "base_uri": "https://localhost:8080/",
          "height": 283
        },
        "outputId": "dccb061a-3c57-4c89-d2a2-38da38e91c28"
      },
      "cell_type": "code",
      "source": [
        "learn.recorder.plot()"
      ],
      "execution_count": 57,
      "outputs": [
        {
          "output_type": "display_data",
          "data": {
            "image/png": "[encoded data removed]",
            "text/plain": [
              "<Figure size 432x288 with 1 Axes>"
            ]
          },
          "metadata": {
            "tags": []
          }
        }
      ]
    },
    {
      "metadata": {
        "id": "k_Be1R-mzPdo",
        "colab_type": "code",
        "colab": {
          "base_uri": "https://localhost:8080/",
          "height": 173
        },
        "outputId": "041901b5-afbb-4d93-c27b-b36a6b019a28"
      },
      "cell_type": "code",
      "source": [
        "learn.fit_one_cycle(4,1e-3,moms=(0.8,0.7))"
      ],
      "execution_count": 58,
      "outputs": [
        {
          "output_type": "display_data",
          "data": {
            "text/html": [
              "<table border=\"1\" class=\"dataframe\">\n",
              "  <thead>\n",
              "    <tr style=\"text-align: left;\">\n",
              "      <th>epoch</th>\n",
              "      <th>train_loss</th>\n",
              "      <th>valid_loss</th>\n",
              "      <th>accuracy</th>\n",
              "      <th>time</th>\n",
              "    </tr>\n",
              "  </thead>\n",
              "  <tbody>\n",
              "    <tr>\n",
              "      <td>0</td>\n",
              "      <td>0.564962</td>\n",
              "      <td>0.589072</td>\n",
              "      <td>0.923890</td>\n",
              "      <td>00:15</td>\n",
              "    </tr>\n",
              "    <tr>\n",
              "      <td>1</td>\n",
              "      <td>0.406293</td>\n",
              "      <td>0.305541</td>\n",
              "      <td>0.947146</td>\n",
              "      <td>00:16</td>\n",
              "    </tr>\n",
              "    <tr>\n",
              "      <td>2</td>\n",
              "      <td>0.331481</td>\n",
              "      <td>0.202541</td>\n",
              "      <td>0.947146</td>\n",
              "      <td>00:16</td>\n",
              "    </tr>\n",
              "    <tr>\n",
              "      <td>3</td>\n",
              "      <td>0.286506</td>\n",
              "      <td>0.177882</td>\n",
              "      <td>0.949260</td>\n",
              "      <td>00:15</td>\n",
              "    </tr>\n",
              "  </tbody>\n",
              "</table>"
            ],
            "text/plain": [
              "<IPython.core.display.HTML object>"
            ]
          },
          "metadata": {
            "tags": []
          }
        }
      ]
    },
    {
      "metadata": {
        "id": "IPdMlN9L2a_m",
        "colab_type": "text"
      },
      "cell_type": "markdown",
      "source": [
        "###Prediction"
      ]
    },
    {
      "metadata": {
        "id": "gWyQVbu41ogD",
        "colab_type": "code",
        "colab": {}
      },
      "cell_type": "code",
      "source": [
        "news='The 2018 No. 2 overall pick by the Hurricanes was knocked out by Ovechkin in Game 3 when he took three hard rights from the Washington veteran and subsequently hit the back of his head on the ice when he fell.He was put into concussion protocol and missed the rest of Game 3 as well as Game 4 as a result.He is hoping to return for Game 6 and made sure to reiterate he was not on the ice looking to drop gloves with his hero.He did ask me first for a fight, Svechnikov said.He continued: It was just back and forth all series, you know. It was just, like, fight. It sometimes happens. I just stood up for myself.The Hurricanes started the series off down 2-0 to Washington but won both Games 3 and 4 on home ice.If Svechnikov is able to return for Game 6 - the final home game in the series for Carolina - it would be a big boost for this bunch of jerks.I feel very good and I hope to play next game, well see, Svechnikov said.Game 5 is scheduled to be played at 8 p.m. ET in Washington on Saturday.Svechnikov was on the ice for the morning skate but he was in a yellow no-contact jersey so he has been ruled out for the contest.'"
      ],
      "execution_count": 0,
      "outputs": []
    },
    {
      "metadata": {
        "id": "2zcMVsyt2aZv",
        "colab_type": "code",
        "colab": {
          "base_uri": "https://localhost:8080/",
          "height": 34
        },
        "outputId": "2b0c8338-72a9-4ee1-8fa2-51ba02efe722"
      },
      "cell_type": "code",
      "source": [
        "learn.predict(news)"
      ],
      "execution_count": 61,
      "outputs": [
        {
          "output_type": "execute_result",
          "data": {
            "text/plain": [
              "(Category 10, tensor(1), tensor([0.0367, 0.9633]))"
            ]
          },
          "metadata": {
            "tags": []
          },
          "execution_count": 61
        }
      ]
    },
    {
      "metadata": {
        "id": "RwQcDLSN2Z6F",
        "colab_type": "text"
      },
      "cell_type": "markdown",
      "source": [
        "##2. Multilabel Classification"
      ]
    },
    {
      "metadata": {
        "id": "4Rsx1G3yzbaY",
        "colab_type": "code",
        "colab": {
          "base_uri": "https://localhost:8080/",
          "height": 204
        },
        "outputId": "dfc458ed-5d30-437b-b6c9-e647fe349f88"
      },
      "cell_type": "code",
      "source": [
        "df = pd.DataFrame({'label':dataset.target,'text':dataset.data})\n",
        "df.head()"
      ],
      "execution_count": 62,
      "outputs": [
        {
          "output_type": "execute_result",
          "data": {
            "text/html": [
              "<div>\n",
              "<style scoped>\n",
              "    .dataframe tbody tr th:only-of-type {\n",
              "        vertical-align: middle;\n",
              "    }\n",
              "\n",
              "    .dataframe tbody tr th {\n",
              "        vertical-align: top;\n",
              "    }\n",
              "\n",
              "    .dataframe thead th {\n",
              "        text-align: right;\n",
              "    }\n",
              "</style>\n",
              "<table border=\"1\" class=\"dataframe\">\n",
              "  <thead>\n",
              "    <tr style=\"text-align: right;\">\n",
              "      <th></th>\n",
              "      <th>label</th>\n",
              "      <th>text</th>\n",
              "    </tr>\n",
              "  </thead>\n",
              "  <tbody>\n",
              "    <tr>\n",
              "      <th>0</th>\n",
              "      <td>17</td>\n",
              "      <td>Well i'm not sure about the story nad it did s...</td>\n",
              "    </tr>\n",
              "    <tr>\n",
              "      <th>1</th>\n",
              "      <td>0</td>\n",
              "      <td>\\n\\n\\n\\n\\n\\n\\nYeah, do you expect people to re...</td>\n",
              "    </tr>\n",
              "    <tr>\n",
              "      <th>2</th>\n",
              "      <td>17</td>\n",
              "      <td>Although I realize that principle is not one o...</td>\n",
              "    </tr>\n",
              "    <tr>\n",
              "      <th>3</th>\n",
              "      <td>11</td>\n",
              "      <td>Notwithstanding all the legitimate fuss about ...</td>\n",
              "    </tr>\n",
              "    <tr>\n",
              "      <th>4</th>\n",
              "      <td>10</td>\n",
              "      <td>Well, I will have to change the scoring on my ...</td>\n",
              "    </tr>\n",
              "  </tbody>\n",
              "</table>\n",
              "</div>"
            ],
            "text/plain": [
              "   label                                               text\n",
              "0     17  Well i'm not sure about the story nad it did s...\n",
              "1      0  \\n\\n\\n\\n\\n\\n\\nYeah, do you expect people to re...\n",
              "2     17  Although I realize that principle is not one o...\n",
              "3     11  Notwithstanding all the legitimate fuss about ...\n",
              "4     10  Well, I will have to change the scoring on my ..."
            ]
          },
          "metadata": {
            "tags": []
          },
          "execution_count": 62
        }
      ]
    },
    {
      "metadata": {
        "id": "X5lN_oUn3DpS",
        "colab_type": "text"
      },
      "cell_type": "markdown",
      "source": [
        "###Language Model"
      ]
    },
    {
      "metadata": {
        "id": "UiSJZL-O20z1",
        "colab_type": "code",
        "colab": {}
      },
      "cell_type": "code",
      "source": [
        "data_lm = (TextList.from_df(df,cols='text')\n",
        "          .split_by_rand_pct(0.1)\n",
        "          .label_for_lm()\n",
        "          .databunch(bs=48))\n",
        "data_lm.save('data_lm.pkl')"
      ],
      "execution_count": 0,
      "outputs": []
    },
    {
      "metadata": {
        "id": "hqVyPHFd3iQz",
        "colab_type": "code",
        "colab": {}
      },
      "cell_type": "code",
      "source": [
        "data_lm = load_data(path,'data_lm.pkl',bs=48)"
      ],
      "execution_count": 0,
      "outputs": []
    },
    {
      "metadata": {
        "id": "B1HsV34b3xDh",
        "colab_type": "code",
        "colab": {
          "base_uri": "https://localhost:8080/",
          "height": 459
        },
        "outputId": "8b395c71-738e-4f55-bad1-84930ade9bb0"
      },
      "cell_type": "code",
      "source": [
        "data_lm.show_batch()"
      ],
      "execution_count": 67,
      "outputs": [
        {
          "output_type": "display_data",
          "data": {
            "text/html": [
              "<table border=\"1\" class=\"dataframe\">\n",
              "  <thead>\n",
              "    <tr style=\"text-align: right;\">\n",
              "      <th>idx</th>\n",
              "      <th>text</th>\n",
              "    </tr>\n",
              "  </thead>\n",
              "  <tbody>\n",
              "    <tr>\n",
              "      <td>0</td>\n",
              "      <td>realize that incidences such as the one described in the \\n  letter have occured . xxmaj the xxup u.s. media as a whole seem to try to \\n  ignore them . xxmaj the xxup u.s. is subsidizing xxmaj israels existance and the \\n  xxmaj europeans are not ( at least not to the same degree ) . xxmaj so i think \\n  that might be a</td>\n",
              "    </tr>\n",
              "    <tr>\n",
              "      <td>1</td>\n",
              "      <td>claim of $ 250.00 . xxmaj could you imagine trying to get your \\n  monitor or mother board fixed for $ 250.00 ? xxmaj amex has xxup no limit on claims . \\n \\n  xxmaj remember , if you use xxmaj amex , you must either send a copy of the warranty info \\n  to them in 30 days from purchase , or you must call them</td>\n",
              "    </tr>\n",
              "    <tr>\n",
              "      <td>2</td>\n",
              "      <td>) say . xxmaj by the same token , therefore , xxmaj santa \\n  xxmaj claus delivers toys every xmas . xxmaj do n't you see ? i have xxup no xxup reason to \\n  believe that what you say is true . xxmaj please give me some reason that i \\n  ca n't similarly apply to xxmaj santa xxmaj claus . \\n \\n \\n  i</td>\n",
              "    </tr>\n",
              "    <tr>\n",
              "      <td>3</td>\n",
              "      <td>go back and check what xxunk idiot xxmaj purdy \\n \\t said in his column . xxmaj that ought to be worth a few xxmaj leafs , i \\n \\t mean xxmaj xxunk . xxmaj if i 'm really depressed i 'll read the xxup sf xxmaj xxunk . \\n \\n \\t mark \\n \\n  just say xxbos xxmaj here are some recent observations taken by the xxmaj hubble</td>\n",
              "    </tr>\n",
              "    <tr>\n",
              "      <td>4</td>\n",
              "      <td>se - r or xxmaj saturn \\n  will run in the 15 's ? xxmaj do n't you think it is kind of strange that your \\n  xxunk sports car is so easily beaten . \\n \\n  a xxmaj mustang 5.0 , which weights about the same ( according to * your * numbers ) , \\n  has less power and is much quicker ? xxmaj</td>\n",
              "    </tr>\n",
              "  </tbody>\n",
              "</table>"
            ],
            "text/plain": [
              "<IPython.core.display.HTML object>"
            ]
          },
          "metadata": {
            "tags": []
          }
        }
      ]
    },
    {
      "metadata": {
        "id": "_cD5awrD33Rf",
        "colab_type": "code",
        "colab": {
          "base_uri": "https://localhost:8080/",
          "height": 54
        },
        "outputId": "1f537362-6c34-4d08-ff5c-40556fe13051"
      },
      "cell_type": "code",
      "source": [
        "learn.lr_find()"
      ],
      "execution_count": 68,
      "outputs": [
        {
          "output_type": "display_data",
          "data": {
            "text/html": [
              ""
            ],
            "text/plain": [
              "<IPython.core.display.HTML object>"
            ]
          },
          "metadata": {
            "tags": []
          }
        },
        {
          "output_type": "stream",
          "text": [
            "LR Finder is complete, type {learner_name}.recorder.plot() to see the graph.\n"
          ],
          "name": "stdout"
        }
      ]
    },
    {
      "metadata": {
        "id": "12orWjYK36b-",
        "colab_type": "code",
        "colab": {
          "base_uri": "https://localhost:8080/",
          "height": 283
        },
        "outputId": "ad88a92f-e44e-4795-9441-f857e066f7b5"
      },
      "cell_type": "code",
      "source": [
        "learn.recorder.plot()"
      ],
      "execution_count": 69,
      "outputs": [
        {
          "output_type": "display_data",
          "data": {
            "image/png": "[encoded data removed]",
            "text/plain": [
              "<Figure size 432x288 with 1 Axes>"
            ]
          },
          "metadata": {
            "tags": []
          }
        }
      ]
    },
    {
      "metadata": {
        "id": "RukYJZYk38DD",
        "colab_type": "code",
        "colab": {}
      },
      "cell_type": "code",
      "source": [
        "learn = language_model_learner(data_lm,AWD_LSTM,drop_mult=0.3)"
      ],
      "execution_count": 0,
      "outputs": []
    },
    {
      "metadata": {
        "id": "5CmvV80B4NmG",
        "colab_type": "code",
        "colab": {
          "base_uri": "https://localhost:8080/",
          "height": 80
        },
        "outputId": "69f7db6c-1349-4308-fa8a-944999842b45"
      },
      "cell_type": "code",
      "source": [
        "learn.fit_one_cycle(1,slice(1e-2,1e-1),moms=(0.8,0.7))"
      ],
      "execution_count": 76,
      "outputs": [
        {
          "output_type": "display_data",
          "data": {
            "text/html": [
              "<table border=\"1\" class=\"dataframe\">\n",
              "  <thead>\n",
              "    <tr style=\"text-align: left;\">\n",
              "      <th>epoch</th>\n",
              "      <th>train_loss</th>\n",
              "      <th>valid_loss</th>\n",
              "      <th>accuracy</th>\n",
              "      <th>time</th>\n",
              "    </tr>\n",
              "  </thead>\n",
              "  <tbody>\n",
              "    <tr>\n",
              "      <td>0</td>\n",
              "      <td>5.169387</td>\n",
              "      <td>4.946054</td>\n",
              "      <td>0.205282</td>\n",
              "      <td>03:30</td>\n",
              "    </tr>\n",
              "  </tbody>\n",
              "</table>"
            ],
            "text/plain": [
              "<IPython.core.display.HTML object>"
            ]
          },
          "metadata": {
            "tags": []
          }
        }
      ]
    },
    {
      "metadata": {
        "id": "zyw9G7GO5B_z",
        "colab_type": "text"
      },
      "cell_type": "markdown",
      "source": [
        "####Language Model prediction"
      ]
    },
    {
      "metadata": {
        "id": "IZ0LXnP04gPq",
        "colab_type": "code",
        "colab": {}
      },
      "cell_type": "code",
      "source": [
        "TEXT='team was knocked out by Ovechkin in Game 3'\n",
        "N_WORDS = 60\n",
        "N_SENTENCES=1"
      ],
      "execution_count": 0,
      "outputs": []
    },
    {
      "metadata": {
        "id": "bkXfBvml5mh9",
        "colab_type": "code",
        "colab": {
          "base_uri": "https://localhost:8080/",
          "height": 119
        },
        "outputId": "8cf65745-8205-4dd3-a3ae-10e07b1f6a58"
      },
      "cell_type": "code",
      "source": [
        "print('\\n'.join(learn.predict(TEXT,N_WORDS,temperature=0.75) for _ in range(N_SENTENCES) ))"
      ],
      "execution_count": 78,
      "outputs": [
        {
          "output_type": "stream",
          "text": [
            "team was knocked out by Ovechkin in Game 3 years ago . If the OSF \n",
            "  Armenia said , \n",
            "  Boolean , ' \n",
            "  Braves High Full Eastern Survival Head , explanations \n",
            "  To the Jews \n",
            "  and Christian Computer Western Azerbaijan , Is The Always . If\n"
          ],
          "name": "stdout"
        }
      ]
    },
    {
      "metadata": {
        "id": "OriKzdyC5zdw",
        "colab_type": "code",
        "colab": {}
      },
      "cell_type": "code",
      "source": [
        "learn.save_encoder('fine_tuned_enc')"
      ],
      "execution_count": 0,
      "outputs": []
    },
    {
      "metadata": {
        "id": "QHa_GGCY67b-",
        "colab_type": "text"
      },
      "cell_type": "markdown",
      "source": [
        "###Text Classification\n",
        "\n"
      ]
    },
    {
      "metadata": {
        "id": "43l7QKcP663o",
        "colab_type": "code",
        "colab": {}
      },
      "cell_type": "code",
      "source": [
        "data_clas = (TextList.from_df(df,cols='text',vocab=data_lm.vocab)\n",
        "            .split_subsets(train_size=0.8,valid_size=0.2)\n",
        "            .label_from_df(cols='label')\n",
        "            .databunch(bs=48))\n",
        "data_clas.save('data_clas.pkl')"
      ],
      "execution_count": 0,
      "outputs": []
    },
    {
      "metadata": {
        "id": "Ehlw3OIg7jFC",
        "colab_type": "code",
        "colab": {}
      },
      "cell_type": "code",
      "source": [
        "data_clas = load_data(path,'data_clas.pkl',bs=48)"
      ],
      "execution_count": 0,
      "outputs": []
    },
    {
      "metadata": {
        "id": "-PSaH9C374rB",
        "colab_type": "code",
        "colab": {
          "base_uri": "https://localhost:8080/",
          "height": 425
        },
        "outputId": "52298bf0-97ed-4328-b681-f413d7953c02"
      },
      "cell_type": "code",
      "source": [
        "data_clas.show_batch()"
      ],
      "execution_count": 84,
      "outputs": [
        {
          "output_type": "display_data",
          "data": {
            "text/html": [
              "<table border=\"1\" class=\"dataframe\">\n",
              "  <thead>\n",
              "    <tr style=\"text-align: right;\">\n",
              "      <th>text</th>\n",
              "      <th>target</th>\n",
              "    </tr>\n",
              "  </thead>\n",
              "  <tbody>\n",
              "    <tr>\n",
              "      <td>xxbos xxmaj due to the resolution and size it is in 14 parts . \\n \\n  xxmaj this is a uuencoded bitmap . xxup xxunk 256 colors . \\n  xxmaj the picture is a xxunk xxunk on a desert with blue sky background . \\n  xxmaj the size is just right for centered wallpaper on a 1024x768 display \\n  because it leaves a border at the</td>\n",
              "      <td>2</td>\n",
              "    </tr>\n",
              "    <tr>\n",
              "      <td>xxbos \\n  xxrep 12 - xxmaj part 2 of 14 xxrep 12 - \\n  xxup m0 . / xxup xxunk / xxup cbn / xxup xxunk / xxup xxunk , xxup xxunk , xxup xxunk [ \\n  xxup xxunk \\ _ -8 \\n  xxup my _ / xxup sys * / xxup xxunk \\ xxup xxunk &gt; / xxup c^ &gt; / xxup cx_s \\ xxup</td>\n",
              "      <td>2</td>\n",
              "    </tr>\n",
              "    <tr>\n",
              "      <td>xxbos \\n  xxrep 12 - xxmaj part 6 of 14 xxrep 12 - \\n  xxup xxunk ) \\ &amp; xxup xxunk &gt; ' \\n  xxup xxunk \\ , xxup xxunk , # \" , xxup xxunk # 6 # , xxup xxunk &gt; ' \\n  xxup max &gt; ' xxwrep 2 xxup ax &gt; ' xxup xxunk # xxup mh \\n  xxup xxunk &amp; '</td>\n",
              "      <td>2</td>\n",
              "    </tr>\n",
              "    <tr>\n",
              "      <td>xxbos \\n \\n  xxrep 12 - xxmaj part 13 of 14 xxrep 12 - \\n  xxup mtm ( ] / xxup xxunk &gt; xxup xxunk + \\n  xxup xxunk # &amp; ' xxwrep 2 xxup ax &gt; ' \\n  xxup max &gt; ' xxwrep 2 xxup ax &gt; ' \\n  xxup max &gt; ' xxwrep 2 xxup ax &gt; ' \\n  xxup max &gt;</td>\n",
              "      <td>2</td>\n",
              "    </tr>\n",
              "    <tr>\n",
              "      <td>xxbos xxmaj archive - name : graphics / resources - list / part2 \\n  xxmaj last - modified : 1993 / 04 / 17 \\n \\n \\n  xxmaj computer xxmaj graphics xxmaj resource xxmaj listing : xxup weekly xxup posting [ xxup part 2 / 3 ] \\n  xxrep 51 = \\n  xxmaj last xxmaj change : 17 xxmaj april 1993 \\n \\n \\n  14</td>\n",
              "      <td>1</td>\n",
              "    </tr>\n",
              "  </tbody>\n",
              "</table>"
            ],
            "text/plain": [
              "<IPython.core.display.HTML object>"
            ]
          },
          "metadata": {
            "tags": []
          }
        }
      ]
    },
    {
      "metadata": {
        "id": "HStDxKhg78b7",
        "colab_type": "code",
        "colab": {}
      },
      "cell_type": "code",
      "source": [
        "learn = text_classifier_learner(data_clas,AWD_LSTM,drop_mult=0.5)\n",
        "learn.load_encoder('fine_tuned_enc')\n"
      ],
      "execution_count": 0,
      "outputs": []
    },
    {
      "metadata": {
        "id": "sZuVJ1fS8SBY",
        "colab_type": "code",
        "colab": {
          "base_uri": "https://localhost:8080/",
          "height": 320
        },
        "outputId": "3fc1fc48-2a8d-4fb9-e182-91c9b5bf7516"
      },
      "cell_type": "code",
      "source": [
        "learn.lr_find()\n",
        "learn.recorder.plot()"
      ],
      "execution_count": 86,
      "outputs": [
        {
          "output_type": "display_data",
          "data": {
            "text/html": [
              ""
            ],
            "text/plain": [
              "<IPython.core.display.HTML object>"
            ]
          },
          "metadata": {
            "tags": []
          }
        },
        {
          "output_type": "stream",
          "text": [
            "LR Finder is complete, type {learner_name}.recorder.plot() to see the graph.\n"
          ],
          "name": "stdout"
        },
        {
          "output_type": "display_data",
          "data": {
            "image/png": "[encoded data removed]",
            "text/plain": [
              "<Figure size 432x288 with 1 Axes>"
            ]
          },
          "metadata": {
            "tags": []
          }
        }
      ]
    },
    {
      "metadata": {
        "id": "dUIwNFCN8Wtg",
        "colab_type": "code",
        "colab": {
          "base_uri": "https://localhost:8080/",
          "height": 80
        },
        "outputId": "49d5015e-1122-4bac-cb9f-2fc692b7a61e"
      },
      "cell_type": "code",
      "source": [
        "learn.fit_one_cycle(1,slice(1e-5,1e-1),moms=(0.8,0.7))"
      ],
      "execution_count": 87,
      "outputs": [
        {
          "output_type": "display_data",
          "data": {
            "text/html": [
              "<table border=\"1\" class=\"dataframe\">\n",
              "  <thead>\n",
              "    <tr style=\"text-align: left;\">\n",
              "      <th>epoch</th>\n",
              "      <th>train_loss</th>\n",
              "      <th>valid_loss</th>\n",
              "      <th>accuracy</th>\n",
              "      <th>time</th>\n",
              "    </tr>\n",
              "  </thead>\n",
              "  <tbody>\n",
              "    <tr>\n",
              "      <td>0</td>\n",
              "      <td>2.910180</td>\n",
              "      <td>2.808024</td>\n",
              "      <td>0.126437</td>\n",
              "      <td>03:43</td>\n",
              "    </tr>\n",
              "  </tbody>\n",
              "</table>"
            ],
            "text/plain": [
              "<IPython.core.display.HTML object>"
            ]
          },
          "metadata": {
            "tags": []
          }
        }
      ]
    },
    {
      "metadata": {
        "id": "09zYJfiA9y-P",
        "colab_type": "text"
      },
      "cell_type": "markdown",
      "source": [
        "### Minor tweak : remove stopwords before running model"
      ]
    },
    {
      "metadata": {
        "id": "ly3Wb35w9McG",
        "colab_type": "code",
        "colab": {}
      },
      "cell_type": "code",
      "source": [
        "df['text'] = df['text'].str.replace('[^a-zA-Z]',' ')"
      ],
      "execution_count": 0,
      "outputs": []
    },
    {
      "metadata": {
        "id": "nOcxasnM-ZVk",
        "colab_type": "code",
        "colab": {}
      },
      "cell_type": "code",
      "source": [
        "# tokenization\n",
        "tokenized_doc = df['text'].apply(lambda x: x.split())"
      ],
      "execution_count": 0,
      "outputs": []
    },
    {
      "metadata": {
        "id": "S4q3qDeL-jUd",
        "colab_type": "code",
        "colab": {}
      },
      "cell_type": "code",
      "source": [
        "# remove stopwords\n",
        "tokenized_doc = tokenized_doc.apply(lambda x: [item for item in x if item not in stop_words])"
      ],
      "execution_count": 0,
      "outputs": []
    },
    {
      "metadata": {
        "id": "juyPIGh9-xyA",
        "colab_type": "code",
        "colab": {}
      },
      "cell_type": "code",
      "source": [
        "# de- tokenization\n",
        "detokenized_doc = []\n",
        "for i in range(len(df)):\n",
        "    t =' '.join(tokenized_doc[i])\n",
        "    detokenized_doc.append(t)\n",
        "\n",
        "df['text'] = detokenized_doc"
      ],
      "execution_count": 0,
      "outputs": []
    },
    {
      "metadata": {
        "id": "lUIGp8sTBip0",
        "colab_type": "text"
      },
      "cell_type": "markdown",
      "source": [
        "***Language model***"
      ]
    },
    {
      "metadata": {
        "id": "j7_8oggC_Iv4",
        "colab_type": "code",
        "colab": {}
      },
      "cell_type": "code",
      "source": [
        "data_lm = (TextList.from_df(df,cols='text')\n",
        "          .split_by_rand_pct(0.2)\n",
        "          .label_for_lm()\n",
        "          .databunch(bs=48))\n",
        "data_lm.save('data_lm.pkl')"
      ],
      "execution_count": 0,
      "outputs": []
    },
    {
      "metadata": {
        "id": "ggkkiQApAZMw",
        "colab_type": "code",
        "colab": {}
      },
      "cell_type": "code",
      "source": [
        "learn = language_model_learner(data_lm,AWD_LSTM,drop_mult=0.5)"
      ],
      "execution_count": 0,
      "outputs": []
    },
    {
      "metadata": {
        "id": "LatbNOlA_88a",
        "colab_type": "code",
        "colab": {
          "base_uri": "https://localhost:8080/",
          "height": 320
        },
        "outputId": "570bf30e-f0e9-4778-93ae-292df0a0f851"
      },
      "cell_type": "code",
      "source": [
        "learn.lr_find()\n",
        "learn.recorder.plot()"
      ],
      "execution_count": 97,
      "outputs": [
        {
          "output_type": "display_data",
          "data": {
            "text/html": [
              ""
            ],
            "text/plain": [
              "<IPython.core.display.HTML object>"
            ]
          },
          "metadata": {
            "tags": []
          }
        },
        {
          "output_type": "stream",
          "text": [
            "LR Finder is complete, type {learner_name}.recorder.plot() to see the graph.\n"
          ],
          "name": "stdout"
        },
        {
          "output_type": "display_data",
          "data": {
            "image/png": "[encoded data removed]",
            "text/plain": [
              "<Figure size 432x288 with 1 Axes>"
            ]
          },
          "metadata": {
            "tags": []
          }
        }
      ]
    },
    {
      "metadata": {
        "id": "dwe98wnWAFea",
        "colab_type": "code",
        "colab": {
          "base_uri": "https://localhost:8080/",
          "height": 80
        },
        "outputId": "f3b61611-575a-4a4e-fb95-89c27f59c994"
      },
      "cell_type": "code",
      "source": [
        "learn.fit_one_cycle(1,1e-2,moms=(0.8,0.7))"
      ],
      "execution_count": 99,
      "outputs": [
        {
          "output_type": "display_data",
          "data": {
            "text/html": [
              "<table border=\"1\" class=\"dataframe\">\n",
              "  <thead>\n",
              "    <tr style=\"text-align: left;\">\n",
              "      <th>epoch</th>\n",
              "      <th>train_loss</th>\n",
              "      <th>valid_loss</th>\n",
              "      <th>accuracy</th>\n",
              "      <th>time</th>\n",
              "    </tr>\n",
              "  </thead>\n",
              "  <tbody>\n",
              "    <tr>\n",
              "      <td>0</td>\n",
              "      <td>5.833906</td>\n",
              "      <td>5.289324</td>\n",
              "      <td>0.241532</td>\n",
              "      <td>01:41</td>\n",
              "    </tr>\n",
              "  </tbody>\n",
              "</table>"
            ],
            "text/plain": [
              "<IPython.core.display.HTML object>"
            ]
          },
          "metadata": {
            "tags": []
          }
        }
      ]
    },
    {
      "metadata": {
        "id": "kD72L7tXA-q5",
        "colab_type": "code",
        "colab": {}
      },
      "cell_type": "code",
      "source": [
        "learn.save_encoder('fine_tuned_enc')"
      ],
      "execution_count": 0,
      "outputs": []
    },
    {
      "metadata": {
        "id": "om4lUTzDBn7b",
        "colab_type": "text"
      },
      "cell_type": "markdown",
      "source": [
        "***Text classification***"
      ]
    },
    {
      "metadata": {
        "id": "GtuV2PXKBrbr",
        "colab_type": "code",
        "colab": {}
      },
      "cell_type": "code",
      "source": [
        "data_clas= (TextList.from_df(df,cols='text',vocab=data_lm.vocab)\n",
        "         .split_subsets(train_size=0.6,valid_size=0.4)\n",
        "         .label_from_df(cols='label')\n",
        "         .databunch(bs=48))"
      ],
      "execution_count": 0,
      "outputs": []
    },
    {
      "metadata": {
        "id": "ANPGaOTFB_9Q",
        "colab_type": "code",
        "colab": {}
      },
      "cell_type": "code",
      "source": [
        "learn = text_classifier_learner(data_clas,AWD_LSTM,drop_mult=0.5)"
      ],
      "execution_count": 0,
      "outputs": []
    },
    {
      "metadata": {
        "id": "Xwz_nSBzCLcZ",
        "colab_type": "code",
        "colab": {
          "base_uri": "https://localhost:8080/",
          "height": 320
        },
        "outputId": "e9bee42f-d3f9-4543-af0a-9d881f988f77"
      },
      "cell_type": "code",
      "source": [
        "learn.lr_find()\n",
        "learn.recorder.plot()"
      ],
      "execution_count": 114,
      "outputs": [
        {
          "output_type": "display_data",
          "data": {
            "text/html": [
              ""
            ],
            "text/plain": [
              "<IPython.core.display.HTML object>"
            ]
          },
          "metadata": {
            "tags": []
          }
        },
        {
          "output_type": "stream",
          "text": [
            "LR Finder is complete, type {learner_name}.recorder.plot() to see the graph.\n"
          ],
          "name": "stdout"
        },
        {
          "output_type": "display_data",
          "data": {
            "image/png": "[encoded data removed]",
            "text/plain": [
              "<Figure size 432x288 with 1 Axes>"
            ]
          },
          "metadata": {
            "tags": []
          }
        }
      ]
    },
    {
      "metadata": {
        "id": "Il2D5KB5CZOy",
        "colab_type": "code",
        "colab": {
          "base_uri": "https://localhost:8080/",
          "height": 80
        },
        "outputId": "27c077dc-2a6b-484d-acd4-7d47ecb1bcae"
      },
      "cell_type": "code",
      "source": [
        "learn.fit_one_cycle(1,slice(1e-5,1e-1),moms=(0.8,0.7))"
      ],
      "execution_count": 115,
      "outputs": [
        {
          "output_type": "display_data",
          "data": {
            "text/html": [
              "<table border=\"1\" class=\"dataframe\">\n",
              "  <thead>\n",
              "    <tr style=\"text-align: left;\">\n",
              "      <th>epoch</th>\n",
              "      <th>train_loss</th>\n",
              "      <th>valid_loss</th>\n",
              "      <th>accuracy</th>\n",
              "      <th>time</th>\n",
              "    </tr>\n",
              "  </thead>\n",
              "  <tbody>\n",
              "    <tr>\n",
              "      <td>0</td>\n",
              "      <td>3.023536</td>\n",
              "      <td>3.837618</td>\n",
              "      <td>0.040663</td>\n",
              "      <td>02:13</td>\n",
              "    </tr>\n",
              "  </tbody>\n",
              "</table>"
            ],
            "text/plain": [
              "<IPython.core.display.HTML object>"
            ]
          },
          "metadata": {
            "tags": []
          }
        }
      ]
    },
    {
      "metadata": {
        "id": "09JN8NCCDl4C",
        "colab_type": "code",
        "colab": {}
      },
      "cell_type": "code",
      "source": [
        ""
      ],
      "execution_count": 0,
      "outputs": []
    }
  ]
}