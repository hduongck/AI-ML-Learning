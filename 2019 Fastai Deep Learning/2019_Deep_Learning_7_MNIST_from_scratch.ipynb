{
  "nbformat": 4,
  "nbformat_minor": 0,
  "metadata": {
    "colab": {
      "name": "2019_Deep_Learning_7_MNIST_from_scratch.ipynb",
      "version": "0.3.2",
      "provenance": [],
      "collapsed_sections": [],
      "include_colab_link": true
    },
    "kernelspec": {
      "name": "python3",
      "display_name": "Python 3"
    },
    "accelerator": "GPU"
  },
  "cells": [
    {
      "cell_type": "markdown",
      "metadata": {
        "id": "view-in-github",
        "colab_type": "text"
      },
      "source": [
        "<a href=\"https://colab.research.google.com/github/hduongck/AI-ML-Learning/blob/master/2019%20Fastai%20Deep%20Learning/2019_Deep_Learning_7_MNIST_from_scratch.ipynb\" target=\"_parent\"><img src=\"https://colab.research.google.com/assets/colab-badge.svg\" alt=\"Open In Colab\"/></a>"
      ]
    },
    {
      "cell_type": "markdown",
      "metadata": {
        "id": "-elV2JWBcF6F",
        "colab_type": "text"
      },
      "source": [
        "[Video](https://youtu.be/nWpdkZE2_cc) / [Course Forum](https://forums.fast.ai/t/lesson-7-official-resources/32553)\n",
        "\n",
        "Welcome to lesson 7! The last lesson of part 1. This will be a pretty intense lesson. Don't let that bother you because partly what I want to do is to give you enough things to think about to keep you busy until part 2. In fact, some of the things we cover today, I'm not going to tell you about some of the details. I'll just point out a few things. I'll say like okay that we're not talking about yet, that we're not talking about yet. Then come back in part 2 to get the details on some of these extra pieces. So today will be a lot of material pretty quickly. You might require a few viewings to fully understand at all or a few experiments and so forth. That's kind of intentional. I'm trying to give you stuff to to keep you amused for a couple of months.\n",
        "\n",
        "![alt text](https://github.com/hiromis/notes/blob/master/lesson7/1.png?raw=true)\n",
        "\n",
        "I wanted to start by showing some cool work done by a couple of students; Reshama and Nidhin who have developed an Android and an iOS app, so check out [Reshma's post on the forum] about that because they have a demonstration of how to create both Android and iOS apps that are actually on the Play Store and on the Apple App Store, so that's pretty cool. First ones I know of that are on the App Store's that are using fast.ai. Let me also say a huge thank you to Reshama for all of the work she does both for the fast.ai community and the machine learning community more generally, and also the Women in Machine Learning community in particular. She does a lot of fantastic work including providing lots of fantastic documentation and tutorials and community organizing and so many other things. So thank you, Reshama and congrats on getting this app out there."
      ]
    },
    {
      "cell_type": "code",
      "metadata": {
        "id": "j3uVqAJ_csp7",
        "colab_type": "code",
        "colab": {}
      },
      "source": [
        "%reload_ext autoreload\n",
        "%autoreload 2\n",
        "%matplotlib inline"
      ],
      "execution_count": 0,
      "outputs": []
    },
    {
      "cell_type": "markdown",
      "metadata": {
        "id": "3rK-Es-tcZpV",
        "colab_type": "text"
      },
      "source": [
        "# MNIST CNN [2:04](https://youtu.be/nWpdkZE2_cc?t=124)\n",
        "\n",
        "We have lots of lesson 7 notebooks today, as you see. The first notebook we're going to look at is [lesson7-resnet-mnist.ipynb](https://github.com/fastai/course-v3/blob/master/nbs/dl1/lesson7-resnet-mnist.ipynb). What I want to do is look at some of the stuff we started talking about last week around convolutions and convolutional neural networks, and start building on top of them to create a fairly modern deep learning architecture largely from scratch. When I say from scratch, I'm not going to re-implement things we already know how to implement, but use the pre-existing PyTorch bits of those. So we're going to use the MNIST dataset. URLs.MNIST has the whole MNIST dataset, often we've done stuff with a subset of it."
      ]
    },
    {
      "cell_type": "code",
      "metadata": {
        "id": "2yD-qCuGRVqx",
        "colab_type": "code",
        "colab": {}
      },
      "source": [
        "from fastai.vision import *"
      ],
      "execution_count": 0,
      "outputs": []
    },
    {
      "cell_type": "code",
      "metadata": {
        "id": "naf406xUc46y",
        "colab_type": "code",
        "colab": {}
      },
      "source": [
        "path = untar_data(URLs.MNIST)"
      ],
      "execution_count": 0,
      "outputs": []
    },
    {
      "cell_type": "code",
      "metadata": {
        "id": "JyZWapD8c8gH",
        "colab_type": "code",
        "outputId": "1650ffe4-43dd-4d01-e8dc-9bfc13b9eeea",
        "colab": {
          "base_uri": "https://localhost:8080/",
          "height": 51
        }
      },
      "source": [
        "path.ls()"
      ],
      "execution_count": 18,
      "outputs": [
        {
          "output_type": "execute_result",
          "data": {
            "text/plain": [
              "[PosixPath('/root/.fastai/data/mnist_png/training'),\n",
              " PosixPath('/root/.fastai/data/mnist_png/testing')]"
            ]
          },
          "metadata": {
            "tags": []
          },
          "execution_count": 18
        }
      ]
    },
    {
      "cell_type": "markdown",
      "metadata": {
        "id": "6_jqw-U9dE9D",
        "colab_type": "text"
      },
      "source": [
        "## More understanding Datablock\n",
        "\n",
        "In there, there's a training folder and a testing folder. As I read this in, I'm going to show some more details about pieces of the data blocks API, so that you see what's going on. Normally with the date blocks API, we've kind of said blah.blah.blah.blah.blah and done it all in one cell, but let's do it in one cell at a time."
      ]
    },
    {
      "cell_type": "code",
      "metadata": {
        "id": "_BbmuHlrdGpj",
        "colab_type": "code",
        "colab": {}
      },
      "source": [
        "il = ImageList.from_folder(path,convert_mode=\"L\")"
      ],
      "execution_count": 0,
      "outputs": []
    },
    {
      "cell_type": "markdown",
      "metadata": {
        "id": "CCw2Y5JodZ8t",
        "colab_type": "text"
      },
      "source": [
        "First thing you say is what kind of item list do you have. So in this case it's an item list of images. Then where are you getting the list of file names from. In this case, by looking in a folder recursively. That's where it's coming from.\n",
        "\n",
        "You can pass in arguments that end up going to Pillow because Pillow (a.k.a. PIL) is the thing that actually opens that for us, and in this case these are black and white rather than RGB, so you have to use Pillow's **convert_mode='L'**. For more details refer to the python imaging library documentation to see what their convert modes are. But this one is going to be a grayscale which is what MNIST is."
      ]
    },
    {
      "cell_type": "code",
      "metadata": {
        "id": "rmNvcDGBdfzN",
        "colab_type": "code",
        "outputId": "37610cb1-ae63-416b-cb47-45a2b4b875e2",
        "colab": {
          "base_uri": "https://localhost:8080/",
          "height": 34
        }
      },
      "source": [
        "il.items[0]"
      ],
      "execution_count": 20,
      "outputs": [
        {
          "output_type": "execute_result",
          "data": {
            "text/plain": [
              "PosixPath('/root/.fastai/data/mnist_png/training/2/20247.png')"
            ]
          },
          "metadata": {
            "tags": []
          },
          "execution_count": 20
        }
      ]
    },
    {
      "cell_type": "markdown",
      "metadata": {
        "id": "1ryr3zqOdney",
        "colab_type": "text"
      },
      "source": [
        "So inside an item list is an **items** attribute, and the **items** attribute is kind of thing that you gave it. It's the thing that it's going to use to create your items. So in this case, the thing you gave it really is a list of file names. That's what it got from the folder."
      ]
    },
    {
      "cell_type": "code",
      "metadata": {
        "id": "2O8GgmzRdNdH",
        "colab_type": "code",
        "colab": {}
      },
      "source": [
        "defaults.cmap='binary'"
      ],
      "execution_count": 0,
      "outputs": []
    },
    {
      "cell_type": "markdown",
      "metadata": {
        "id": "g500VI7fd4mX",
        "colab_type": "text"
      },
      "source": [
        "When you show images, normally it shows them in RGB. In this case, we want to use a binary color map. In fast.ai, you can set a default color map. For more information about cmap and color maps, refer to the matplotlib documentation. And **defaults.cmap='binary'** world set the default color map for fast.ai."
      ]
    },
    {
      "cell_type": "code",
      "metadata": {
        "id": "HUAXJuwKd3db",
        "colab_type": "code",
        "outputId": "d3468c00-943f-4299-dc52-fbdd2f73b5ad",
        "colab": {
          "base_uri": "https://localhost:8080/",
          "height": 68
        }
      },
      "source": [
        "il"
      ],
      "execution_count": 22,
      "outputs": [
        {
          "output_type": "execute_result",
          "data": {
            "text/plain": [
              "ImageList (70000 items)\n",
              "Image (1, 28, 28),Image (1, 28, 28),Image (1, 28, 28),Image (1, 28, 28),Image (1, 28, 28)\n",
              "Path: /root/.fastai/data/mnist_png"
            ]
          },
          "metadata": {
            "tags": []
          },
          "execution_count": 22
        }
      ]
    },
    {
      "cell_type": "markdown",
      "metadata": {
        "id": "QLkRFDyoe0Bv",
        "colab_type": "text"
      },
      "source": [
        "Our image item list contains 70,000 items, and it's a bunch of images that are 1 by 28 by 28. Remember that PyTorch puts channel first, so they are one channel 28x28. **You might think why aren't there just 28 by 28 matrices rather than a 1 by 28 by 28 rank 3 tensor. It's just easier that way. All the Conv2d stuff and so forth works on rank 3 tensors, so you want to include that unit axis at the start, so fast.ai will do that for you even when it's reading one channel images**."
      ]
    },
    {
      "cell_type": "code",
      "metadata": {
        "id": "wCPeUNuLeAgb",
        "colab_type": "code",
        "outputId": "726b6ef5-f7ad-4750-e97f-6059e23d7cab",
        "colab": {
          "base_uri": "https://localhost:8080/",
          "height": 212
        }
      },
      "source": [
        "il[0].show()"
      ],
      "execution_count": 23,
      "outputs": [
        {
          "output_type": "display_data",
          "data": {
            "image/png": "[encoded data removed]",
            "text/plain": [
              "<Figure size 216x216 with 1 Axes>"
            ]
          },
          "metadata": {
            "tags": []
          }
        }
      ]
    },
    {
      "cell_type": "markdown",
      "metadata": {
        "id": "neYq9po2fQg9",
        "colab_type": "text"
      },
      "source": [
        "The **.items** attribute contains the things that's read to build the image which in this case is the file name, but if you just index into an item list directly, you'll get the actual image object. The actual image object has a show method, and so there's the image."
      ]
    },
    {
      "cell_type": "code",
      "metadata": {
        "id": "a4p0gexhfHgv",
        "colab_type": "code",
        "colab": {}
      },
      "source": [
        "sd = il.split_by_folder(train='training',valid='testing')"
      ],
      "execution_count": 0,
      "outputs": []
    },
    {
      "cell_type": "markdown",
      "metadata": {
        "id": "IUXr70rnf2P1",
        "colab_type": "text"
      },
      "source": [
        "Once you've got an image item list, you then split it into training versus validation. You nearly always want validation. If you don't, you can actually use the **.no_split** method to create an empty validation set. You can't skip it entirely. You have to say how to split, and one of the options is **no_split**.\n",
        "\n",
        "So remember, that's always the order. First create your item list, then decide how to split. In this case, we're going to do it based on folders. The validation folder for MNIST is called **testing**. In fast.ai parlance, we use the same kind of parlance that Kaggle does which is the training set is what you train on, the validation set has labels and you do it for testing that your models working. The test set doesn't have labels and you use it for doing inference, submitting to a competition, or sending it off to somebody who's held out those labels for vendor testing or whatever. So just because a folder in your data set is called **testing**, doesn't mean it's a test set. This one has labels, so it's a validation set.\n",
        "\n",
        "If you want to do inference on lots of things at a time rather than one thing at a time, you want to use the **test=** in fast.ai to say this is stuff which has no labels and I'm just using for inference.\n",
        "\n",
        "[6:54](https://youtu.be/nWpdkZE2_cc?t=414)\n",
        "\n"
      ]
    },
    {
      "cell_type": "code",
      "metadata": {
        "id": "KsfGygMjfcbp",
        "colab_type": "code",
        "outputId": "bdcbe9d6-6bb6-47b9-c4da-93815f78a6d0",
        "colab": {
          "base_uri": "https://localhost:8080/",
          "height": 204
        }
      },
      "source": [
        "sd\n"
      ],
      "execution_count": 25,
      "outputs": [
        {
          "output_type": "execute_result",
          "data": {
            "text/plain": [
              "ItemLists;\n",
              "\n",
              "Train: ImageList (60000 items)\n",
              "Image (1, 28, 28),Image (1, 28, 28),Image (1, 28, 28),Image (1, 28, 28),Image (1, 28, 28)\n",
              "Path: /root/.fastai/data/mnist_png;\n",
              "\n",
              "Valid: ImageList (10000 items)\n",
              "Image (1, 28, 28),Image (1, 28, 28),Image (1, 28, 28),Image (1, 28, 28),Image (1, 28, 28)\n",
              "Path: /root/.fastai/data/mnist_png;\n",
              "\n",
              "Test: None"
            ]
          },
          "metadata": {
            "tags": []
          },
          "execution_count": 25
        }
      ]
    },
    {
      "cell_type": "markdown",
      "metadata": {
        "id": "nMche5H71OvQ",
        "colab_type": "text"
      },
      "source": [
        "So my split data is a training set and a validation set, as you can see."
      ]
    },
    {
      "cell_type": "code",
      "metadata": {
        "id": "q00GZhQZgJc5",
        "colab_type": "code",
        "colab": {
          "base_uri": "https://localhost:8080/",
          "height": 187
        },
        "outputId": "b5fbcd90-ccb4-4868-87f8-c3553c48a718"
      },
      "source": [
        "(path/'training').ls()"
      ],
      "execution_count": 26,
      "outputs": [
        {
          "output_type": "execute_result",
          "data": {
            "text/plain": [
              "[PosixPath('/root/.fastai/data/mnist_png/training/2'),\n",
              " PosixPath('/root/.fastai/data/mnist_png/training/4'),\n",
              " PosixPath('/root/.fastai/data/mnist_png/training/3'),\n",
              " PosixPath('/root/.fastai/data/mnist_png/training/5'),\n",
              " PosixPath('/root/.fastai/data/mnist_png/training/9'),\n",
              " PosixPath('/root/.fastai/data/mnist_png/training/1'),\n",
              " PosixPath('/root/.fastai/data/mnist_png/training/6'),\n",
              " PosixPath('/root/.fastai/data/mnist_png/training/7'),\n",
              " PosixPath('/root/.fastai/data/mnist_png/training/8'),\n",
              " PosixPath('/root/.fastai/data/mnist_png/training/0')]"
            ]
          },
          "metadata": {
            "tags": []
          },
          "execution_count": 26
        }
      ]
    },
    {
      "cell_type": "markdown",
      "metadata": {
        "id": "Q1sOZ63l1YOH",
        "colab_type": "text"
      },
      "source": [
        "Inside the training set, there's a folder for each class."
      ]
    },
    {
      "cell_type": "code",
      "metadata": {
        "id": "wRLERuI61VZJ",
        "colab_type": "code",
        "colab": {}
      },
      "source": [
        "ll = sd.label_from_folder()"
      ],
      "execution_count": 0,
      "outputs": []
    },
    {
      "cell_type": "markdown",
      "metadata": {
        "id": "2OH75HYi1o5V",
        "colab_type": "text"
      },
      "source": [
        "Now we can take that split data and say label_from_folder.\n",
        "\n",
        "So first you create the item list, then you split it, then you label it."
      ]
    },
    {
      "cell_type": "code",
      "metadata": {
        "id": "iVvAx0Eb1p9m",
        "colab_type": "code",
        "colab": {
          "base_uri": "https://localhost:8080/",
          "height": 306
        },
        "outputId": "bfda299a-a779-4f58-b194-0ff4c2df0f1a"
      },
      "source": [
        "ll"
      ],
      "execution_count": 28,
      "outputs": [
        {
          "output_type": "execute_result",
          "data": {
            "text/plain": [
              "LabelLists;\n",
              "\n",
              "Train: LabelList (60000 items)\n",
              "x: ImageList\n",
              "Image (1, 28, 28),Image (1, 28, 28),Image (1, 28, 28),Image (1, 28, 28),Image (1, 28, 28)\n",
              "y: CategoryList\n",
              "2,2,2,2,2\n",
              "Path: /root/.fastai/data/mnist_png;\n",
              "\n",
              "Valid: LabelList (10000 items)\n",
              "x: ImageList\n",
              "Image (1, 28, 28),Image (1, 28, 28),Image (1, 28, 28),Image (1, 28, 28),Image (1, 28, 28)\n",
              "y: CategoryList\n",
              "2,2,2,2,2\n",
              "Path: /root/.fastai/data/mnist_png;\n",
              "\n",
              "Test: None"
            ]
          },
          "metadata": {
            "tags": []
          },
          "execution_count": 28
        }
      ]
    },
    {
      "cell_type": "markdown",
      "metadata": {
        "id": "9rXwj4bk16Ho",
        "colab_type": "text"
      },
      "source": [
        "You can see now we have an x and the y, and the y are category objects. Category object is just a class basically."
      ]
    },
    {
      "cell_type": "code",
      "metadata": {
        "id": "cSafaVRU1hGD",
        "colab_type": "code",
        "colab": {}
      },
      "source": [
        "x,y = ll.train[0]"
      ],
      "execution_count": 0,
      "outputs": []
    },
    {
      "cell_type": "markdown",
      "metadata": {
        "id": "U8AEnZRy2R1m",
        "colab_type": "text"
      },
      "source": [
        "If you index into a label list such as ll.train as a label list, you will get back an independent variable and independent variable (i.e. x and y). In this case, the x will be an image object which I can show, and the y will be a category object which I can print:"
      ]
    },
    {
      "cell_type": "code",
      "metadata": {
        "id": "gWlQOiCi2Afx",
        "colab_type": "code",
        "colab": {
          "base_uri": "https://localhost:8080/",
          "height": 229
        },
        "outputId": "0d3e4c35-3dcf-4485-cc54-84034c9c9d9b"
      },
      "source": [
        "x.show()\n",
        "print(y,x.shape)"
      ],
      "execution_count": 30,
      "outputs": [
        {
          "output_type": "stream",
          "text": [
            "2 torch.Size([1, 28, 28])\n"
          ],
          "name": "stdout"
        },
        {
          "output_type": "display_data",
          "data": {
            "image/png": "[encoded data removed]",
            "text/plain": [
              "<Figure size 216x216 with 1 Axes>"
            ]
          },
          "metadata": {
            "tags": []
          }
        }
      ]
    },
    {
      "cell_type": "markdown",
      "metadata": {
        "id": "yCCwERUi2cBY",
        "colab_type": "text"
      },
      "source": [
        "That's the number 2 category, and there's the 2.\n",
        "\n",
        "[7:56](https://youtu.be/nWpdkZE2_cc?t=476)"
      ]
    },
    {
      "cell_type": "code",
      "metadata": {
        "id": "qxf5CPYF2WTG",
        "colab_type": "code",
        "colab": {}
      },
      "source": [
        "tfms = ([*rand_pad(padding=3,size=28,mode ='zeros')],[])"
      ],
      "execution_count": 0,
      "outputs": []
    },
    {
      "cell_type": "markdown",
      "metadata": {
        "id": "he3ZypKP3QIt",
        "colab_type": "text"
      },
      "source": [
        "Next thing we can do is to add transforms. In this case, we're not going to use the normal **get_transforms** function because we're doing digit recognition and digit recognition, you wouldn't want to flip it left right. That would change the meaning of it. You wouldn't want to rotate it too much, that would change the meaning of it. Also because these images are so small, doing zooms and stuff is going to make them so fuzzy as to be unreadable. So normally, for small images of digits like this, you just add a bit of random padding. So I'll use the random padding function which actually returns two transforms; the bit that does the padding and the bit that does the random crop. So you have to use star`(*)` to say put both these transforms in this list."
      ]
    },
    {
      "cell_type": "code",
      "metadata": {
        "id": "eflYW_K-3MUf",
        "colab_type": "code",
        "colab": {}
      },
      "source": [
        "ll = ll.transform(tfms)"
      ],
      "execution_count": 0,
      "outputs": []
    },
    {
      "cell_type": "markdown",
      "metadata": {
        "id": "OcR2L_bw3qTd",
        "colab_type": "text"
      },
      "source": [
        "Now we call transform. This empty array here is referring to the validation set transforms:\n",
        "\n",
        "![alt text](https://github.com/hiromis/notes/raw/master/lesson7/3.png?raw=true)\n",
        "\n",
        "So no transforms with the validation set.\n",
        "\n",
        "Now we've got a transformed labeled list, we can pick a batch size and choose data bunch:"
      ]
    },
    {
      "cell_type": "code",
      "metadata": {
        "id": "24qc-hPq32WV",
        "colab_type": "code",
        "colab": {}
      },
      "source": [
        "bs = 128"
      ],
      "execution_count": 0,
      "outputs": []
    },
    {
      "cell_type": "code",
      "metadata": {
        "id": "ObYfvb113dl-",
        "colab_type": "code",
        "colab": {}
      },
      "source": [
        "# not using imagenet_stats because not using pretrained model\n",
        "data = ll.databunch(bs=bs).normalize()"
      ],
      "execution_count": 0,
      "outputs": []
    },
    {
      "cell_type": "markdown",
      "metadata": {
        "id": "O8EDxSmI5Vsh",
        "colab_type": "text"
      },
      "source": [
        "We can choose normalize. In this case, we're not using a pre-trained model, so there's no reason to use ImageNet stats here. **So if you call normalize like this without passing in stats, it will grab a batch of data at random and use that to decide what normalization stats to use**. That's a good idea if you're not using a pre-trained model."
      ]
    },
    {
      "cell_type": "code",
      "metadata": {
        "id": "QKQ1toNS7IRH",
        "colab_type": "code",
        "colab": {}
      },
      "source": [
        "x,y = data.train_ds[0]"
      ],
      "execution_count": 0,
      "outputs": []
    },
    {
      "cell_type": "code",
      "metadata": {
        "id": "iDLYbjo75KtK",
        "colab_type": "code",
        "colab": {
          "base_uri": "https://localhost:8080/",
          "height": 229
        },
        "outputId": "0d34a293-54a0-4fbb-8efc-5df306a9a3fd"
      },
      "source": [
        "x.show()\n",
        "print(y)"
      ],
      "execution_count": 46,
      "outputs": [
        {
          "output_type": "stream",
          "text": [
            "2\n"
          ],
          "name": "stdout"
        },
        {
          "output_type": "display_data",
          "data": {
            "image/png": "[encoded data removed]",
            "text/plain": [
              "<Figure size 216x216 with 1 Axes>"
            ]
          },
          "metadata": {
            "tags": []
          }
        }
      ]
    },
    {
      "cell_type": "markdown",
      "metadata": {
        "id": "941QIILU6Gcc",
        "colab_type": "text"
      },
      "source": [
        "Okay, so we've got a data bunch and in that data bunch is a data set which we've seen already. But what is interesting is that the training data set now has data augmentation because we've got transforms. plot_multi is a fast.ai function that will plot the result of calling some function for each of this row by column grid. So in this case, my function is just grab the first image from the training set and because each time you grab something from the training set, it's going to load it from disk and it's going to transform it on the fly. People sometimes ask how many transformed versions of the image do you create and the answer is infinite. Each time we grab one thing from the data set, we do a random transform on the fly, so potentially every one will look a little bit different. So you can see here, if we plot the result of that lots of times, we get 8's in slightly different positions because we did random padding."
      ]
    },
    {
      "cell_type": "code",
      "metadata": {
        "id": "CaqmmXUe5gOF",
        "colab_type": "code",
        "colab": {
          "base_uri": "https://localhost:8080/",
          "height": 484
        },
        "outputId": "1ec8deb7-cc20-4e5a-f306-8f8f7d96f47b"
      },
      "source": [
        "def _plot(i,j,ax): data.train_ds[0][0].show(ax,cmap='gray')\n",
        "plot_multi(_plot,3,3,figsize=(8,8))"
      ],
      "execution_count": 47,
      "outputs": [
        {
          "output_type": "display_data",
          "data": {
            "image/png": "[encoded data removed]",
            "text/plain": [
              "<Figure size 576x576 with 9 Axes>"
            ]
          },
          "metadata": {
            "tags": []
          }
        }
      ]
    },
    {
      "cell_type": "markdown",
      "metadata": {
        "id": "Tbk2eu0n7quz",
        "colab_type": "text"
      },
      "source": [
        "[10:27](https://youtu.be/nWpdkZE2_cc?t=627)\n",
        "\n",
        "You can always grab a batch of data then from the data bunch, because remember, data bunch has data loaders, and data loaders are things you grab a batch at a time. So you can then grab a X batch and a Y batch, look at their shape - batch size by channel by row by column:"
      ]
    },
    {
      "cell_type": "code",
      "metadata": {
        "id": "YT4VFiPa6oQf",
        "colab_type": "code",
        "colab": {
          "base_uri": "https://localhost:8080/",
          "height": 34
        },
        "outputId": "3e8ddc16-c07e-43a1-beaa-de14deabf711"
      },
      "source": [
        "xb,yb =data.one_batch()\n",
        "xb.shape,yb.shape"
      ],
      "execution_count": 48,
      "outputs": [
        {
          "output_type": "execute_result",
          "data": {
            "text/plain": [
              "(torch.Size([128, 1, 28, 28]), torch.Size([128]))"
            ]
          },
          "metadata": {
            "tags": []
          },
          "execution_count": 48
        }
      ]
    },
    {
      "cell_type": "markdown",
      "metadata": {
        "id": "GG_n32zM74Tc",
        "colab_type": "text"
      },
      "source": [
        "All fast.ai data bunches have a show_batch which will show you what's in it in some sensible way:"
      ]
    },
    {
      "cell_type": "code",
      "metadata": {
        "id": "RG4udufJ7wxy",
        "colab_type": "code",
        "colab": {
          "base_uri": "https://localhost:8080/",
          "height": 369
        },
        "outputId": "54a435ae-0579-4155-83c1-18bef230ae4f"
      },
      "source": [
        "data.show_batch(rows=3,figsize=(5,5))"
      ],
      "execution_count": 49,
      "outputs": [
        {
          "output_type": "display_data",
          "data": {
            "image/png": "[encoded data removed]",
            "text/plain": [
              "<Figure size 360x360 with 9 Axes>"
            ]
          },
          "metadata": {
            "tags": []
          }
        }
      ]
    },
    {
      "cell_type": "markdown",
      "metadata": {
        "id": "eaggzF3g8Sus",
        "colab_type": "text"
      },
      "source": [
        "That was a quick walk through with a data block API stuff to grab our data."
      ]
    },
    {
      "cell_type": "markdown",
      "metadata": {
        "id": "UtvHZWXK8TdU",
        "colab_type": "text"
      },
      "source": [
        "## Basic CNN with batch norm : using only Pytorch [11:01](https://youtu.be/nWpdkZE2_cc?t=661) \n",
        "\n",
        "Let's start out creating a simple CNN. The input is 28 by 28. I like to define when I'm creating architectures a function which kind of does the things that I do again and again and again. I don't want to call it with the same arguments because I'll forget or I make a mistake. In this case, all of my convolution is going to be kernel size 3 stride 2 padding 1. So let's just create a simple function to do a conv with those parameters:"
      ]
    },
    {
      "cell_type": "code",
      "metadata": {
        "id": "48lC3IxA8BaL",
        "colab_type": "code",
        "colab": {}
      },
      "source": [
        "def conv(ni,nf):\n",
        "    return nn.Conv2d(ni,nf,kernel_size=3,stride=2,padding=1)"
      ],
      "execution_count": 0,
      "outputs": []
    },
    {
      "cell_type": "markdown",
      "metadata": {
        "id": "TrQbuRem9HK2",
        "colab_type": "text"
      },
      "source": [
        "**Each time you have a convolution, it's skipping over one pixel so it's jumping two steps each time -> stride = 2**. That means that each time we have a convolution, it's going to halve the grid size. I've put a comment here showing what the new grid size is after each one."
      ]
    },
    {
      "cell_type": "code",
      "metadata": {
        "id": "U-izx2D486c1",
        "colab_type": "code",
        "colab": {}
      },
      "source": [
        "model  = nn.Sequential(\n",
        "            conv(1,8), #14\n",
        "            nn.BatchNorm2d(8),\n",
        "            nn.ReLU(),\n",
        "            conv(8,16), #7\n",
        "            nn.BatchNorm2d(16),\n",
        "            nn.ReLU(),\n",
        "            conv(16,32), #4\n",
        "            nn.BatchNorm2d(32),\n",
        "            nn.ReLU(),\n",
        "            conv(32,16), #2\n",
        "            nn.BatchNorm2d(16),\n",
        "            nn.ReLU(),\n",
        "            conv(16,10), #1\n",
        "            nn.BatchNorm2d(10),\n",
        "            Flatten() #remove (1,1) grid\n",
        "        )\n"
      ],
      "execution_count": 0,
      "outputs": []
    },
    {
      "cell_type": "markdown",
      "metadata": {
        "id": "iZRpYB14AH6T",
        "colab_type": "text"
      },
      "source": [
        "After the first convolution, we have one channel coming in because it's a grayscale image with one channel, and then how many channels coming out? Whatever you like. So remember, you always get to pick how many filters you create regardless of whether it's a fully connected layer in which case it's just the width of the matrix you're multiplying by, or in this case with the 2D conv, it's just how many filters do you want. So I picked 8 and so after this, it's stride 2 to so the 28 by 28 image is now a 14 by 14 feature map with 8 channels. Specifically therefore, it's an 8 by 14 by 14 tensor of activations.\n",
        "\n",
        "Then we'll do a batch norm, then we'll do ReLU. The number of input filters to the next conv has to equal the number of output filters from the previous conv, and we can just keep increasing the number of channels because we're doing stride 2, it's got to keep decreasing the grid size. Notice here, it goes from 7 to 4 because if you're doing a stride 2 conv over 7, it's going to be **math.ceiling** of 7/2.\n",
        "\n",
        "Batch norm, ReLU, conv. We are now down to 2 by 2. Batch norm, ReLU, conv, we're now down to 1 by 1. After this, we have a feature map of 10 by 1 by 1. Does that make sense? We've got a grid size of one now. It's not a vector of length 10, it's a rank 3 tensor of 10 by 1 by 1. **Our loss functions expect (generally) a vector not a rank 3 tensor, so you can chuck flatten at the end, and flatten just means remove any unit axes. So that will make it now just a vector of length 10 which is what we always expect.**\n",
        "\n",
        "That's how we can create a CNN. Then we can return that into a learner by passing in the data and the model and the loss function and optionally some metrics. We're going to use cross-entropy as usual. We can then call **learn.summary()** and confirm."
      ]
    },
    {
      "cell_type": "code",
      "metadata": {
        "id": "hLrV_MAO-Zsj",
        "colab_type": "code",
        "colab": {}
      },
      "source": [
        "learn = Learner(data,model,loss_func=nn.CrossEntropyLoss(),metrics=accuracy)\n"
      ],
      "execution_count": 0,
      "outputs": []
    },
    {
      "cell_type": "code",
      "metadata": {
        "id": "RJ_luj3eAyKs",
        "colab_type": "code",
        "colab": {
          "base_uri": "https://localhost:8080/",
          "height": 646
        },
        "outputId": "2b19d939-dc82-4c47-9f7d-c3c7b5143eef"
      },
      "source": [
        "learn.summary()"
      ],
      "execution_count": 57,
      "outputs": [
        {
          "output_type": "execute_result",
          "data": {
            "text/plain": [
              "======================================================================\n",
              "Layer (type)         Output Shape         Param #    Trainable \n",
              "======================================================================\n",
              "Conv2d               [8, 14, 14]          80         True      \n",
              "______________________________________________________________________\n",
              "BatchNorm2d          [8, 14, 14]          16         True      \n",
              "______________________________________________________________________\n",
              "ReLU                 [8, 14, 14]          0          False     \n",
              "______________________________________________________________________\n",
              "Conv2d               [16, 7, 7]           1,168      True      \n",
              "______________________________________________________________________\n",
              "BatchNorm2d          [16, 7, 7]           32         True      \n",
              "______________________________________________________________________\n",
              "ReLU                 [16, 7, 7]           0          False     \n",
              "______________________________________________________________________\n",
              "Conv2d               [32, 4, 4]           4,640      True      \n",
              "______________________________________________________________________\n",
              "BatchNorm2d          [32, 4, 4]           64         True      \n",
              "______________________________________________________________________\n",
              "ReLU                 [32, 4, 4]           0          False     \n",
              "______________________________________________________________________\n",
              "Conv2d               [16, 2, 2]           4,624      True      \n",
              "______________________________________________________________________\n",
              "BatchNorm2d          [16, 2, 2]           32         True      \n",
              "______________________________________________________________________\n",
              "ReLU                 [16, 2, 2]           0          False     \n",
              "______________________________________________________________________\n",
              "Conv2d               [10, 1, 1]           1,450      True      \n",
              "______________________________________________________________________\n",
              "BatchNorm2d          [10, 1, 1]           20         True      \n",
              "______________________________________________________________________\n",
              "Flatten              [10]                 0          False     \n",
              "______________________________________________________________________\n",
              "\n",
              "Total params: 12,126\n",
              "Total trainable params: 12,126\n",
              "Total non-trainable params: 0"
            ]
          },
          "metadata": {
            "tags": []
          },
          "execution_count": 57
        }
      ]
    },
    {
      "cell_type": "markdown",
      "metadata": {
        "id": "pmpKF41yBGiE",
        "colab_type": "text"
      },
      "source": [
        "After that first conv, we're down to 14 by 14 and after the second conv 7 by 7, 4 by 4, 2 by 2, 1 by 1. The **flatten** comes out (calling it a **Lambda**), that as you can see it gets rid of the 1 by 1 and it's now just a length 10 vector for each item in the batch so 128 by 10 matrix in the whole mini batch.\n",
        "\n",
        "Just to confirm that this is working okay, we can grab that mini batch of X that we created earlier (there's a mini batch of X), pop it onto the GPU, and call the model directly. Any PyTorch module, we can pretend it's a function and that gives us back as we hoped a 128 by 10 result."
      ]
    },
    {
      "cell_type": "code",
      "metadata": {
        "id": "HOC0OhqcA3bJ",
        "colab_type": "code",
        "colab": {}
      },
      "source": [
        "xb = xb.cuda()"
      ],
      "execution_count": 0,
      "outputs": []
    },
    {
      "cell_type": "code",
      "metadata": {
        "id": "Au0dAHSVBOSW",
        "colab_type": "code",
        "colab": {
          "base_uri": "https://localhost:8080/",
          "height": 34
        },
        "outputId": "1afaac6a-1d1a-4e7f-e1e0-726ca4d4c3a2"
      },
      "source": [
        "model(xb).shape"
      ],
      "execution_count": 59,
      "outputs": [
        {
          "output_type": "execute_result",
          "data": {
            "text/plain": [
              "torch.Size([128, 10])"
            ]
          },
          "metadata": {
            "tags": []
          },
          "execution_count": 59
        }
      ]
    },
    {
      "cell_type": "markdown",
      "metadata": {
        "id": "2rQrzRTtBYyg",
        "colab_type": "text"
      },
      "source": [
        "That's how you can directly get some predictions out. LR find, fit one cycle, and bang. We already have a 98.6% accurate conv net."
      ]
    },
    {
      "cell_type": "code",
      "metadata": {
        "id": "BQT8FzLdBTYw",
        "colab_type": "code",
        "colab": {
          "base_uri": "https://localhost:8080/",
          "height": 300
        },
        "outputId": "d00eb510-1f43-45b6-fa94-76edebce15a9"
      },
      "source": [
        "learn.lr_find(end_lr=100)\n",
        "learn.recorder.plot()"
      ],
      "execution_count": 60,
      "outputs": [
        {
          "output_type": "display_data",
          "data": {
            "text/html": [
              ""
            ],
            "text/plain": [
              "<IPython.core.display.HTML object>"
            ]
          },
          "metadata": {
            "tags": []
          }
        },
        {
          "output_type": "stream",
          "text": [
            "LR Finder is complete, type {learner_name}.recorder.plot() to see the graph.\n"
          ],
          "name": "stdout"
        },
        {
          "output_type": "display_data",
          "data": {
            "image/png": "[encoded data removed]",
            "text/plain": [
              "<Figure size 432x288 with 1 Axes>"
            ]
          },
          "metadata": {
            "tags": []
          }
        }
      ]
    },
    {
      "cell_type": "code",
      "metadata": {
        "id": "wNJ5tVD_BeGi",
        "colab_type": "code",
        "colab": {
          "base_uri": "https://localhost:8080/",
          "height": 142
        },
        "outputId": "fe2f664c-c200-4ea2-907e-fe2647a841d0"
      },
      "source": [
        "learn.fit_one_cycle(3,max_lr=0.1)"
      ],
      "execution_count": 61,
      "outputs": [
        {
          "output_type": "display_data",
          "data": {
            "text/html": [
              "<table border=\"1\" class=\"dataframe\">\n",
              "  <thead>\n",
              "    <tr style=\"text-align: left;\">\n",
              "      <th>epoch</th>\n",
              "      <th>train_loss</th>\n",
              "      <th>valid_loss</th>\n",
              "      <th>accuracy</th>\n",
              "      <th>time</th>\n",
              "    </tr>\n",
              "  </thead>\n",
              "  <tbody>\n",
              "    <tr>\n",
              "      <td>0</td>\n",
              "      <td>0.217414</td>\n",
              "      <td>0.222348</td>\n",
              "      <td>0.928500</td>\n",
              "      <td>00:32</td>\n",
              "    </tr>\n",
              "    <tr>\n",
              "      <td>1</td>\n",
              "      <td>0.133073</td>\n",
              "      <td>0.085261</td>\n",
              "      <td>0.971500</td>\n",
              "      <td>00:32</td>\n",
              "    </tr>\n",
              "    <tr>\n",
              "      <td>2</td>\n",
              "      <td>0.070303</td>\n",
              "      <td>0.040906</td>\n",
              "      <td>0.987300</td>\n",
              "      <td>00:31</td>\n",
              "    </tr>\n",
              "  </tbody>\n",
              "</table>"
            ],
            "text/plain": [
              "<IPython.core.display.HTML object>"
            ]
          },
          "metadata": {
            "tags": []
          }
        }
      ]
    },
    {
      "cell_type": "markdown",
      "metadata": {
        "id": "d0EDwJcnCIAp",
        "colab_type": "text"
      },
      "source": [
        "This is trained from scratch, of course, it's not pre-trained. We've literally created our own architecture. It's about the simplest possible architecture you can imagine. 18 seconds to train, so that's how easy it is to create a pretty accurate digit detector."
      ]
    },
    {
      "cell_type": "markdown",
      "metadata": {
        "id": "cLtYrJRFCvk1",
        "colab_type": "text"
      },
      "source": [
        "##Refactor [15:42](https://youtu.be/nWpdkZE2_cc?t=942): fastai tweaks\n",
        "\n",
        "Let's refactor that a little. Rather than saying conv, batch norm, ReLU all the time, fast.ai already has something called **conv_layer** which **lets you create conv, batch norm, ReLU combinations**. It has various other options to do other tweaks to it, but the basic version is just exactly what I just showed you. So we can refactor that like so:"
      ]
    },
    {
      "cell_type": "code",
      "metadata": {
        "id": "AhSshnjSBlvn",
        "colab_type": "code",
        "colab": {}
      },
      "source": [
        "def conv2(ni,nf): return conv_layer(ni,nf,stride=2) "
      ],
      "execution_count": 0,
      "outputs": []
    },
    {
      "cell_type": "code",
      "metadata": {
        "id": "Ka-NFGspDMJQ",
        "colab_type": "code",
        "colab": {}
      },
      "source": [
        "model = nn.Sequential(\n",
        "        conv2(1,8), #14\n",
        "        conv2(8,16), #7\n",
        "        conv2(16,32), #4\n",
        "        conv2(32,16), #2\n",
        "        conv2(16,10), #1\n",
        "        Flatten() # remove (1,1) grid\n",
        "      )"
      ],
      "execution_count": 0,
      "outputs": []
    },
    {
      "cell_type": "markdown",
      "metadata": {
        "id": "DYF_zgiqDmi1",
        "colab_type": "text"
      },
      "source": [
        "That's exactly the same neural net"
      ]
    },
    {
      "cell_type": "code",
      "metadata": {
        "id": "t1XV3OTDDhw0",
        "colab_type": "code",
        "colab": {}
      },
      "source": [
        "learn = Learner(data,model,loss_func=nn.CrossEntropyLoss(),metrics=accuracy)"
      ],
      "execution_count": 0,
      "outputs": []
    },
    {
      "cell_type": "code",
      "metadata": {
        "id": "PfcF1xifDxih",
        "colab_type": "code",
        "colab": {
          "base_uri": "https://localhost:8080/",
          "height": 359
        },
        "outputId": "88414a67-6e1a-4bf6-de07-3cc4897de4bd"
      },
      "source": [
        "learn.fit_one_cycle(10,max_lr=0.1)"
      ],
      "execution_count": 68,
      "outputs": [
        {
          "output_type": "display_data",
          "data": {
            "text/html": [
              "<table border=\"1\" class=\"dataframe\">\n",
              "  <thead>\n",
              "    <tr style=\"text-align: left;\">\n",
              "      <th>epoch</th>\n",
              "      <th>train_loss</th>\n",
              "      <th>valid_loss</th>\n",
              "      <th>accuracy</th>\n",
              "      <th>time</th>\n",
              "    </tr>\n",
              "  </thead>\n",
              "  <tbody>\n",
              "    <tr>\n",
              "      <td>0</td>\n",
              "      <td>0.239158</td>\n",
              "      <td>0.197799</td>\n",
              "      <td>0.933500</td>\n",
              "      <td>00:31</td>\n",
              "    </tr>\n",
              "    <tr>\n",
              "      <td>1</td>\n",
              "      <td>0.191847</td>\n",
              "      <td>0.270177</td>\n",
              "      <td>0.915900</td>\n",
              "      <td>00:32</td>\n",
              "    </tr>\n",
              "    <tr>\n",
              "      <td>2</td>\n",
              "      <td>0.168726</td>\n",
              "      <td>0.144540</td>\n",
              "      <td>0.955800</td>\n",
              "      <td>00:31</td>\n",
              "    </tr>\n",
              "    <tr>\n",
              "      <td>3</td>\n",
              "      <td>0.130631</td>\n",
              "      <td>0.103725</td>\n",
              "      <td>0.966100</td>\n",
              "      <td>00:31</td>\n",
              "    </tr>\n",
              "    <tr>\n",
              "      <td>4</td>\n",
              "      <td>0.125160</td>\n",
              "      <td>0.139571</td>\n",
              "      <td>0.956200</td>\n",
              "      <td>00:32</td>\n",
              "    </tr>\n",
              "    <tr>\n",
              "      <td>5</td>\n",
              "      <td>0.095178</td>\n",
              "      <td>0.075221</td>\n",
              "      <td>0.977000</td>\n",
              "      <td>00:31</td>\n",
              "    </tr>\n",
              "    <tr>\n",
              "      <td>6</td>\n",
              "      <td>0.088830</td>\n",
              "      <td>0.050993</td>\n",
              "      <td>0.983300</td>\n",
              "      <td>00:32</td>\n",
              "    </tr>\n",
              "    <tr>\n",
              "      <td>7</td>\n",
              "      <td>0.065389</td>\n",
              "      <td>0.047365</td>\n",
              "      <td>0.985800</td>\n",
              "      <td>00:32</td>\n",
              "    </tr>\n",
              "    <tr>\n",
              "      <td>8</td>\n",
              "      <td>0.049377</td>\n",
              "      <td>0.032323</td>\n",
              "      <td>0.989900</td>\n",
              "      <td>00:31</td>\n",
              "    </tr>\n",
              "    <tr>\n",
              "      <td>9</td>\n",
              "      <td>0.043649</td>\n",
              "      <td>0.030366</td>\n",
              "      <td>0.989600</td>\n",
              "      <td>00:32</td>\n",
              "    </tr>\n",
              "  </tbody>\n",
              "</table>"
            ],
            "text/plain": [
              "<IPython.core.display.HTML object>"
            ]
          },
          "metadata": {
            "tags": []
          }
        }
      ]
    },
    {
      "cell_type": "markdown",
      "metadata": {
        "id": "SAcQLNNuE4br",
        "colab_type": "text"
      },
      "source": [
        "Let's just try a little bit longer and it's actually 99.1% accurate if we train it for all of a minute, so that's cool."
      ]
    },
    {
      "cell_type": "markdown",
      "metadata": {
        "id": "LKwXNoYbFIKI",
        "colab_type": "text"
      },
      "source": [
        "## Now using pretrained model : ResNet-ish [16:24](https://youtu.be/nWpdkZE2_cc?t=984)\n",
        "\n",
        "How can we improve this? **What we really want to do is create a deeper network, and so a very easy way to create a deeper network would be after every stride 2 conv, add a stride 1 conv. Because the stride 1 conv doesn't change the feature map size at all, so you can add as many as you like. But there's a problem**. The problem was pointed out in this paper, very very very influential paper, called [Deep Residual Learning for Image Recognition](https://arxiv.org/abs/1512.03385) by Kaiming He and colleagues at (then) Microsoft Research.\n",
        "\n",
        "They did something interesting. They said let's look at the training error. So forget generalization even, let's just look at the training error of a network trained on CIFAR-10 and let's try one network of 20 layers just basic 3x3 convs - basically the same network I just showed you, but without batch norm. They trained a 20 layer one and a 56 layer one on the training set.\n",
        "\n",
        "The 56 layer one has a lot more parameters. It's got a lot more of these stride 1 convs in the middle. So the one with more parameters should seriously over fit, right? **So you would expect the 56 layer one to zip down to zero-ish training error pretty quickly and that is not what happens. It is worse than the shallower network**.\n",
        "\n",
        "![alt text](https://github.com/hiromis/notes/blob/master/lesson7/7.png?raw=true)\n",
        "\n",
        "When you see something weird happen, really good researchers don't go \"oh no, it's not working\" they go \"that's interesting.\" So Kaiming He said \"that's interesting. What's going on?\" and he said \"I don't know, but what I do know is this - I could take this 56 layer network and make a new version of it which is identical but has to be at least as good as the 20 layer network and here's how:\n",
        "\n",
        "![](https://github.com/hiromis/notes/blob/master/lesson7/8.png?raw=true)\n",
        "\n",
        "When you see something weird happen, really good researchers don't go \"oh no, it's not working\" they go \"that's interesting.\" So Kaiming He said \"that's interesting. What's going on?\" and he said \"I don't know, but what I do know is this - I could take this 56 layer network and make a new version of it which is identical but has to be at least as good as the 20 layer network and here's how:\n",
        "\n",
        "![](https://github.com/hiromis/notes/blob/master/lesson7/8.png?raw=true)\n",
        "\n",
        "Every to convolutions, I'm going to add together the input to those two convolutions with the result of those two convolutions.\" In other words, he's saying instead of saying:\n",
        "\n",
        "**Output=Conv2(Conv1(x))**\n",
        "\n",
        "nstead, he's saying:\n",
        "\n",
        "**Output=x+Conv2(Conv1(x))**\n",
        "\n",
        "His theory was 56 layers worth of convolutions in that has to be at least good as the 20 layer version because it could always just set conv2 and conv1 to a bunch of 0 weights for everything except for the first 20 layers because the X (i.e. the input) could just go straight through. So this thing here is (as you see) called an **identity connection**. It's the identity function - nothing happens at all. It's also known as a **skip connection**.\n",
        "\n",
        "So that was the theory. That's what the paper describes as the intuition behind this is what would happen if we created something which has to train at least as well as a 20 layer neural network because it kind of contains that 20 layer neural network. There's literally a path you can just skip over all the convolutions. So what happens?\n",
        "\n",
        "What happened was he won ImageNet that year. He easily won ImageNet that year. In fact, even today, we had that record-breaking result on ImageNet speed training ourselves in the last year, we used this too. ResNet has been revolutionary."
      ]
    },
    {
      "cell_type": "markdown",
      "metadata": {
        "id": "Fm-IEaxzH62M",
        "colab_type": "text"
      },
      "source": [
        "##ResBlock Trick [20:36](https://youtu.be/nWpdkZE2_cc?t=1236)\n",
        "\n",
        "Here's a trick if you're interested in doing some research. Anytime you find some model for anything whether it's medical image segmentation or some kind of GAN or whatever and it was written a couple of years ago, they might have forgotten to put ResBlocks in. Figure 2 is what we normally call a ResBlock. They might have forgotten to put ResBlocks in. So replace their convolutional path with a bunch of ResBlocks and you will almost always get better results faster. It's a good trick.\n",
        "\n",
        "[Visualizing the Loss Landscape of Neural Nets](https://arxiv.org/abs/1712.09913) [21:16](https://youtu.be/nWpdkZE2_cc?t=1276)\n",
        "\n",
        "At NeurIPS, which Rachel, I, David, and Sylvain all just came back from, we saw a new presentation where they actually figured out how to visualize the loss surface of a neural net which is really cool. This is a fantastic paper and anybody who's watching this lesson 7 is at a point where they will understand the most of the important concepts in this paper. You can read this now. You won't necessarily get all of it, but I'm sure you'll get it enough to find it interesting.\n",
        "\n",
        "![](https://github.com/hiromis/notes/raw/master/lesson7/9.png?raw=true)\n",
        "\n",
        "The big picture was this one. Here's what happens if you if you draw a picture where x and y here are two projections of the weight space, and z is the loss. As you move through the weight space, a 56 layer neural network without skip connections is very very bumpy. That's why this got nowhere because it just got stuck in all these hills and valleys. The exact same network with identity connections (i.e. with skip connections) has this loss landscape (on the right). So it's kind of interesting how Kaiming He recognized back in 2015 this shouldn't happen, here's a way that must fix it and it took three years before people were able to say oh this is kind of why it fixed it. It kind of reminds me of the batch norm discussion we had a couple of weeks ago that people realizing a little bit after the fact sometimes what's going on and why it helps."
      ]
    },
    {
      "cell_type": "code",
      "metadata": {
        "id": "yNEdXvZkD1p-",
        "colab_type": "code",
        "colab": {}
      },
      "source": [
        "class ResBlock(nn.Module):\n",
        "    def __init__(self,nf):\n",
        "        super().__init__()\n",
        "        self.conv1 = conv_layer(nf,nf)\n",
        "        self.conv2 = conv_layer(nf,nf)\n",
        "    \n",
        "    def forward(self,x) : return x +  self.conv2(self.conv1(x))\n",
        "        "
      ],
      "execution_count": 0,
      "outputs": []
    },
    {
      "cell_type": "markdown",
      "metadata": {
        "id": "Zf4zV7y-LRwg",
        "colab_type": "text"
      },
      "source": [
        "In our code, we can create a ResBlock in just the way I described. We create a nn.Module, we create two conv layers (remember, a **conv_layer** is Conv2d, ReLU, batch norm), so create two of those and then in forward we go **conv1(x)**, **conv2** of that and then add **x**."
      ]
    },
    {
      "cell_type": "code",
      "metadata": {
        "id": "FQHkvBlhLO5X",
        "colab_type": "code",
        "colab": {
          "base_uri": "https://localhost:8080/",
          "height": 102
        },
        "outputId": "3637a4c7-4dab-4812-c2fd-f6261e1eb3ab"
      },
      "source": [
        "help(res_block)"
      ],
      "execution_count": 70,
      "outputs": [
        {
          "output_type": "stream",
          "text": [
            "Help on function res_block in module fastai.layers:\n",
            "\n",
            "res_block(nf, dense:bool=False, norm_type:Union[fastai.layers.NormType, NoneType]=<NormType.Batch: 1>, bottle:bool=False, **conv_kwargs)\n",
            "    Resnet block of `nf` features. `conv_kwargs` are passed to `conv_layer`.\n",
            "\n"
          ],
          "name": "stdout"
        }
      ]
    },
    {
      "cell_type": "markdown",
      "metadata": {
        "id": "GvftfZaoLu6F",
        "colab_type": "text"
      },
      "source": [
        "There's a res_block function already in fast.ai so you can just call res_block instead, and you just pass in something saying how many filters you want."
      ]
    },
    {
      "cell_type": "code",
      "metadata": {
        "id": "fOsEwR4lLo22",
        "colab_type": "code",
        "colab": {}
      },
      "source": [
        "model = nn.Sequential(\n",
        "        conv2(1,8),\n",
        "        res_block(8),\n",
        "        conv2(8,16),\n",
        "        res_block(16),\n",
        "        conv2(16,32),\n",
        "        res_block(32),\n",
        "        conv2(32,16),\n",
        "        res_block(16),\n",
        "        conv2(16,10),\n",
        "        Flatten()\n",
        "        )"
      ],
      "execution_count": 0,
      "outputs": []
    },
    {
      "cell_type": "markdown",
      "metadata": {
        "id": "lC9EbqM5M2sn",
        "colab_type": "text"
      },
      "source": [
        "There's the ResBlock that I defined in our notebook, and so with that ResBlock, I've just copied the previous CNN and after every conv2 except the last one, I added a res_block so this has now got three times as many layers, so it should be able to do more compute. But it shouldn't be any harder to optimize.\n",
        "\n",
        "**Let's just refactor it one more time**. Since I go **conv2 res_block** so many times, let's just pop that into a little mini sequential model here and so I can refactor that like so:"
      ]
    },
    {
      "cell_type": "code",
      "metadata": {
        "id": "hZJNsQIKMUty",
        "colab_type": "code",
        "colab": {}
      },
      "source": [
        "def conv_and_res(ni,nf): return nn.Sequential(conv2(ni,nf),res_block(nf))"
      ],
      "execution_count": 0,
      "outputs": []
    },
    {
      "cell_type": "code",
      "metadata": {
        "id": "loxFWegoNIWS",
        "colab_type": "code",
        "colab": {}
      },
      "source": [
        "model = nn.Sequential(\n",
        "    conv_and_res(1,8),\n",
        "    conv_and_res(8,16),\n",
        "    conv_and_res(16,32),\n",
        "    conv_and_res(32,16),\n",
        "    conv2(16,10),\n",
        "    Flatten()\n",
        ")"
      ],
      "execution_count": 0,
      "outputs": []
    },
    {
      "cell_type": "markdown",
      "metadata": {
        "id": "pT-pphwAOT5c",
        "colab_type": "text"
      },
      "source": [
        "Keep refactoring your architectures if you're trying novel architectures because you'll make less mistakes. Very few people do this. Most research code you look at is clunky as all heck and people often make mistakes in that way, so don't do that. You're all coders, so use your coding skills to make life easier.\n",
        "\n",
        "[24:47](https://youtu.be/nWpdkZE2_cc?t=1487)\n",
        "\n",
        "Okay, so there's my ResNet-ish architecture. **lr_find** as usual, **fit** for a while, and I get 99.54%."
      ]
    },
    {
      "cell_type": "code",
      "metadata": {
        "id": "4d6_7yXKN70F",
        "colab_type": "code",
        "colab": {}
      },
      "source": [
        "learn = Learner(data,model,loss_func=nn.CrossEntropyLoss(),metrics=accuracy)"
      ],
      "execution_count": 0,
      "outputs": []
    },
    {
      "cell_type": "code",
      "metadata": {
        "id": "taZipcdnOwrp",
        "colab_type": "code",
        "colab": {
          "base_uri": "https://localhost:8080/",
          "height": 300
        },
        "outputId": "eb48cf3f-3ea7-4d22-e46e-5761b95be3d1"
      },
      "source": [
        "learn.lr_find()\n",
        "learn.recorder.plot()"
      ],
      "execution_count": 87,
      "outputs": [
        {
          "output_type": "display_data",
          "data": {
            "text/html": [
              ""
            ],
            "text/plain": [
              "<IPython.core.display.HTML object>"
            ]
          },
          "metadata": {
            "tags": []
          }
        },
        {
          "output_type": "stream",
          "text": [
            "LR Finder is complete, type {learner_name}.recorder.plot() to see the graph.\n"
          ],
          "name": "stdout"
        },
        {
          "output_type": "display_data",
          "data": {
            "image/png": "[encoded data removed]",
            "text/plain": [
              "<Figure size 432x288 with 1 Axes>"
            ]
          },
          "metadata": {
            "tags": []
          }
        }
      ]
    },
    {
      "cell_type": "code",
      "metadata": {
        "id": "zSjfrTXtO_g1",
        "colab_type": "code",
        "colab": {
          "base_uri": "https://localhost:8080/",
          "height": 421
        },
        "outputId": "6b8d956f-02aa-43f3-9e75-d312bd5097b2"
      },
      "source": [
        "learn.fit_one_cycle(12,max_lr=0.05)"
      ],
      "execution_count": 88,
      "outputs": [
        {
          "output_type": "display_data",
          "data": {
            "text/html": [
              "<table border=\"1\" class=\"dataframe\">\n",
              "  <thead>\n",
              "    <tr style=\"text-align: left;\">\n",
              "      <th>epoch</th>\n",
              "      <th>train_loss</th>\n",
              "      <th>valid_loss</th>\n",
              "      <th>accuracy</th>\n",
              "      <th>time</th>\n",
              "    </tr>\n",
              "  </thead>\n",
              "  <tbody>\n",
              "    <tr>\n",
              "      <td>0</td>\n",
              "      <td>0.238437</td>\n",
              "      <td>0.170562</td>\n",
              "      <td>0.951100</td>\n",
              "      <td>00:31</td>\n",
              "    </tr>\n",
              "    <tr>\n",
              "      <td>1</td>\n",
              "      <td>0.131322</td>\n",
              "      <td>0.110652</td>\n",
              "      <td>0.964600</td>\n",
              "      <td>00:32</td>\n",
              "    </tr>\n",
              "    <tr>\n",
              "      <td>2</td>\n",
              "      <td>0.105091</td>\n",
              "      <td>0.114328</td>\n",
              "      <td>0.964500</td>\n",
              "      <td>00:31</td>\n",
              "    </tr>\n",
              "    <tr>\n",
              "      <td>3</td>\n",
              "      <td>0.089622</td>\n",
              "      <td>0.109394</td>\n",
              "      <td>0.964200</td>\n",
              "      <td>00:31</td>\n",
              "    </tr>\n",
              "    <tr>\n",
              "      <td>4</td>\n",
              "      <td>0.075272</td>\n",
              "      <td>0.101326</td>\n",
              "      <td>0.969900</td>\n",
              "      <td>00:31</td>\n",
              "    </tr>\n",
              "    <tr>\n",
              "      <td>5</td>\n",
              "      <td>0.060685</td>\n",
              "      <td>0.070216</td>\n",
              "      <td>0.978200</td>\n",
              "      <td>00:30</td>\n",
              "    </tr>\n",
              "    <tr>\n",
              "      <td>6</td>\n",
              "      <td>0.049984</td>\n",
              "      <td>0.045595</td>\n",
              "      <td>0.986500</td>\n",
              "      <td>00:31</td>\n",
              "    </tr>\n",
              "    <tr>\n",
              "      <td>7</td>\n",
              "      <td>0.046828</td>\n",
              "      <td>0.035584</td>\n",
              "      <td>0.988800</td>\n",
              "      <td>00:31</td>\n",
              "    </tr>\n",
              "    <tr>\n",
              "      <td>8</td>\n",
              "      <td>0.037641</td>\n",
              "      <td>0.026890</td>\n",
              "      <td>0.991800</td>\n",
              "      <td>00:30</td>\n",
              "    </tr>\n",
              "    <tr>\n",
              "      <td>9</td>\n",
              "      <td>0.030043</td>\n",
              "      <td>0.016961</td>\n",
              "      <td>0.995100</td>\n",
              "      <td>00:31</td>\n",
              "    </tr>\n",
              "    <tr>\n",
              "      <td>10</td>\n",
              "      <td>0.020654</td>\n",
              "      <td>0.016802</td>\n",
              "      <td>0.994800</td>\n",
              "      <td>00:30</td>\n",
              "    </tr>\n",
              "    <tr>\n",
              "      <td>11</td>\n",
              "      <td>0.019780</td>\n",
              "      <td>0.015703</td>\n",
              "      <td>0.995300</td>\n",
              "      <td>00:32</td>\n",
              "    </tr>\n",
              "  </tbody>\n",
              "</table>"
            ],
            "text/plain": [
              "<IPython.core.display.HTML object>"
            ]
          },
          "metadata": {
            "tags": []
          }
        }
      ]
    },
    {
      "cell_type": "markdown",
      "metadata": {
        "id": "cXjJNmwCRKy8",
        "colab_type": "text"
      },
      "source": [
        "## Benefit of ResNet\n",
        "\n",
        "That's interesting because we've trained this literally from scratch with an architecture we built from scratch, I didn't look out this architecture anywhere. It's just the first thing that came to mind. But in terms of where that puts us, 0.45% error is around about the state of the art for this data set as of three or four years ago.\n",
        "\n",
        "![](https://github.com/hiromis/notes/raw/master/lesson7/11.png?raw=true)\n",
        "\n",
        "Today MNIST considered a trivially easy dataset, so I'm not saying like wow, we've broken some records here. People have got beyond 0.45% error, **but what I'm saying is this kind of ResNet is a genuinely extremely useful network still today**. This is really all we use in our fast ImageNet training still. And one of the reasons as well is that it's so popular so the vendors of the library spend a lot of time optimizing it, so things tend to work fast. Where else, some more modern style architectures using things like separable or group convolutions tend not to actually train very quickly in practice.\n",
        "\n",
        "![alt text](https://github.com/hiromis/notes/blob/master/lesson7/12.png?raw=true)\n",
        "\n",
        "If you look at the definition of **res_block** in the fast.ai code, you'll see it looks a little bit different to this, and that's because I've created something called a **MergeLayer**. A **MergeLayer** is something which in the forward (just skip dense for a moment), the forward says **x+x.orig**. So you can see there's something ResNet-ish going on here. \n",
        "- **What is x.orig?** Well, if you create a special kind of sequential model called a SequentialEx so this is like fast.ai's sequential extended. It's just like a normal sequential model, but we store the input in **x.orig**. \n",
        "\n",
        "So this SequentialEx, conv_layer, conv_layer, MergeLayer, will do exactly the same as ResBlock. So you can create your own variations of ResNet blocks very easily with this **SequentialEx** and **MergeLayer**.\n",
        "\n",
        "There's something else here which is when you create your MergeLayer, you can optionally set **dense=True**, and what happens if you do? Well, if you do, it doesn't go **x+x.orig**, it goes **cat([x,x.orig])**. In other words, rather than putting a plus in this connection, it does a concatenate. **That's pretty interesting because what happens is that you have your input coming in to your Res block, and once you use concatenate instead of plus, it's not called a Res block anymore, it's called a dense block. And it's not called a ResNet anymore, it's called a DenseNet.**\n",
        "\n",
        "The DenseNet was invented about a year after the ResNet, and if you read the DenseNet paper, it can sound incredibly complex and different, but actually it's literally identical but plus here is placed with cat. So you have your input coming into your dense block, and you've got a few convolutions in here, and then you've got some output coming out, and then you've got your identity connection, and remember it doesn't plus, it concats so the channel axis gets a little bit bigger. Then we do another dense block, and at the end of that, we have the result of the convolution as per usual, but this time the identity block is that big.\n",
        "\n",
        "![alt text](https://github.com/hiromis/notes/blob/master/lesson7/13.png?raw=true)\n",
        "\n",
        "So you can see that what happens is that with dense blocks it's getting bigger and bigger and bigger, and kind of interestingly the exact input is still here. So actually, no matter how deep you get the original input pixels are still there, and the original layer 1 features are still there, and the original layer 2 features are still there. So as you can imagine, **DenseNets are very memory intensive**. There are ways to manage this. From time to time, you can have a regular convolution and it squishes your channels back down, but they are memory intensive. But, they have very few parameters. **So for dealing with small datasets, you should definitely experiment with dense blocks and DenseNets. They tend to work really well on small datasets.**\n",
        "\n",
        "Also, because it's possible to keep those original input pixels all the way down the path, they work really well for segmentation. Because for segmentation, you want to be able to reconstruct the original resolution of your picture, so having all of those original pixels still there is a super helpful."
      ]
    },
    {
      "cell_type": "code",
      "metadata": {
        "id": "aEEdwj2HP6pF",
        "colab_type": "code",
        "colab": {}
      },
      "source": [
        ""
      ],
      "execution_count": 0,
      "outputs": []
    }
  ]
}