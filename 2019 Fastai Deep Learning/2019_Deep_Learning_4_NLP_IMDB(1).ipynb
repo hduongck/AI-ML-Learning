{
  "nbformat": 4,
  "nbformat_minor": 0,
  "metadata": {
    "colab": {
      "name": "2019_Deep_Learning_4_NLP_IMDB(1).ipynb",
      "version": "0.3.2",
      "provenance": [],
      "collapsed_sections": [],
      "include_colab_link": true
    },
    "kernelspec": {
      "name": "python3",
      "display_name": "Python 3"
    },
    "accelerator": "GPU"
  },
  "cells": [
    {
      "cell_type": "markdown",
      "metadata": {
        "id": "view-in-github",
        "colab_type": "text"
      },
      "source": [
        "<a href=\"https://colab.research.google.com/github/hduongck/AI-ML-Learning/blob/master/2019%20Fastai%20Deep%20Learning/2019_Deep_Learning_4_NLP_IMDB(1).ipynb\" target=\"_parent\"><img src=\"https://colab.research.google.com/assets/colab-badge.svg\" alt=\"Open In Colab\"/></a>"
      ]
    },
    {
      "metadata": {
        "id": "Al__snRp3oMU",
        "colab_type": "text"
      },
      "cell_type": "markdown",
      "source": [
        "[Video](https://youtu.be/C9UdVPE3ynA) / [Lesson Forum](https://forums.fast.ai/t/lesson-4-official-resources-and-updates/30317)\n",
        "\n",
        "Welcome to Lesson 4! We are going to finish our journey through these key applications. We've already looked at a range of vision applications. We've looked a classification, localization, image regression. We briefly touched on NLP. We're going to do a deeper dive into NLP transfer learning today. We're going to then look at tabular data and collaborative filtering which are both super useful applications.\n",
        "\n",
        "Then we're going to take a complete u-turn. We're going to take that collaborative filtering example and dive deeply into it to understand exactly what's happening mathematically﹣exactly what's happening in the computer. And we're going to use that to gradually go back in reverse order through the applications again in order to understand exactly what's going on behind the scenes of all of those applications.\n",
        "\n",
        "**Correction on CamVid result**\n",
        "\n",
        "Before we do, somebody on the forum is kind enough to point out that when we compared ourselves to what we think might be the state of the art or was recently the state of the art for CamVid, there wasn't a fair comparison because the paper actually used a small subset of the classes, and we used all of the classes. So Jason in our study group was kind enough to rerun the experiments with the correct subset of classes from the paper, and our accuracy went up to 94% compared to 91.5% of the paper. So I think that's a really cool result. and a great example of how pretty much just using the defaults nowadays can get you far beyond what was the best of a year or two ago. It was certainly the best last year when we were doing this course because we started it quite intensely. So that's really exciting.\n",
        "\n",
        "\n"
      ]
    },
    {
      "metadata": {
        "id": "HQ61JCkyFzqD",
        "colab_type": "text"
      },
      "cell_type": "markdown",
      "source": [
        "#Natural Language Processing (NLP) [2:00](https://youtu.be/C9UdVPE3ynA?t=120)\n",
        "\n",
        "What I wanted to start with is going back over NLP a little bit to understand really what was going on there.\n",
        "\n",
        "**A quick review**\n",
        "\n",
        "So first of all, a quick review. Remember NLP is natural language processing. It's about taking text and doing something with it. Text classification is particularly useful﹣practically useful applications. It's what we're going to start off focusing on. Because classifying a text or classifying a document can be used for anything from:\n",
        "\n",
        "- Spam prevention\n",
        "- Identifying fake news\n",
        "- Finding a diagnosis from medical reports\n",
        "- Finding mentions of your product in Twitter\n",
        "\n",
        "So it's pretty interesting. And actually there was a great example during the week from one of our students @howkhang who is a lawyer and he mentioned on the forum that he had a really great results from classifying legal texts using this NLP approach. And I thought this was a great example. This is the post that they presented at an academic conference this week describing the approach:\n",
        "\n",
        "This series of three steps that you see here (and I'm sure you recognize this classification matrix) is what we're going to start by digging into.\n",
        "\n",
        "![alt text](https://github.com/hiromis/notes/raw/master/lesson4/1.png?raw=true)\n",
        "\n",
        "We're going to start out with a movie review like this one and decide whether it's positive or negative sentiment about the movie. That is the problem. We have, in the training set, 25,000 movie reviews and for each one we have like one bit of information: they liked it, or they didn't like it. That's what we're going to look into a lot more detail today and in the current lessons. Our neural networks (remember, they're just a bunch of matrix multiplies and simple nonlinearities﹣particularly replacing negatives with zeros), those weight matrices start out random. So if you start out with with some random parameters and try to train those parameters to learn how to recognize positive vs. negative movie reviews, you literally have 25,000 ones and zeros to actually tell you I like this one I don't like that one. That's clearly not enough information to learn, basically, how to speak English﹣how to speak English well enough to recognize they liked this or they didn't like this. Sometimes that can be pretty nuanced. Particularly with movie reviews because these are like online movie reviews on IMDB, people can often use sarcasm. It could be really quite tricky.\n",
        "\n",
        "Until very recently, in fact, this year, neural nets didn't do a good job at all of this kind of classification problem. And that was why﹣there's not enough information available. So the trick, hopefully you can all guess, is to use transfer learning. It's always the trick.\n",
        "\n",
        "Last year in this course I tried something crazy which was I thought what if I try transform learning to demonstrate that it can work for NLP as well. I tried it out and it worked extraordinarily well. So here we are, a year later, and transfer learning in NLP is absolutely the hit thing. And I'm going to describe to you what happens.\n"
      ]
    },
    {
      "metadata": {
        "id": "UvzHVi6bKCbr",
        "colab_type": "text"
      },
      "cell_type": "markdown",
      "source": [
        "\n",
        "##Transfer learning in NLP [6:04](https://youtu.be/C9UdVPE3ynA?t=364)\n",
        "\n",
        "The key thing is we're going to start with the same kind of thing that we used for computer vision﹣a pre-trained model that's been trained to do something different to what we're doing with it. For ImageNet, that was originally built as a model to predict which of a thousand categories each photo falls into. And people then fine-tune that for all kinds of different things as you've seen. So we're going to start with a pre-trained model that's going to do something else. Not movie review classification. We're going to start with a pre-trained model which is called a language model. **(my note)---> Image classification can use pre-trained model to predict new dataset but with text classification, we have to go with a language model first then do classification.**\n",
        "\n",
        "A language model has a very specific meaning in NLP and it's this. A language model is a model that learns to predict the next word of a sentence. To predict the next word of a sentence, you actually have to know quite a lot about English (assuming you're doing it in English) and quite a lot of world knowledge. By world knowledge, I'll give you an example.\n",
        "\n",
        "Here's your language model and it has read:\n",
        "\n",
        "- \"I'd like to eat a hot ___\": Obviously, \"dog\", right?\n",
        "\n",
        "- \"It was a hot ___\": Probably \"day\"\n",
        "\n",
        "\n",
        "**Now previous approaches to NLP use something called n-grams largely which is basically saying how often do these pairs or triplets of words tend to appear next to each other. And n-grams are terrible at this kind of thing. As you can see, there's not enough information here to decide what the next word probably is. But with a neural net, you absolutely can**.\n",
        "\n",
        "So here's the nice thing. If you train a neural net to predict the next word of a sentence then you actually have a lot of information. Rather than having a single bit to every 2,000 word movie review: \"liked it\" or \"didn't like it\", every single word, you can try and predict the next word. So in a 2,000 word movie review, there are 1,999 opportunities to predict the next word. Better still, you don't just have to look at movie reviews. Because really the hard thing isn't so much as \"does this person like the movie or not?\" but \"how do you speak English?\". So you can learn \"how do you speak English?\" (roughly) from some much bigger set of documents. So what we did was we started with Wikipedia."
      ]
    },
    {
      "metadata": {
        "id": "Lrq4JeTLKSLZ",
        "colab_type": "text"
      },
      "cell_type": "markdown",
      "source": [
        "##Wikitext 103 [8:30](https://youtu.be/C9UdVPE3ynA?t=510)\n",
        "\n",
        "Stephen Merity and some of his colleagues built something called Wikitext 103 dataset which is simply a subset of most of the largest articles from Wikipedia with a little bit of pre-processing that's available for download. So you're basically grabbing Wikipedia and then I built a language model on all of Wikipedia. So I just built a neural net which would predict the next word in every significantly sized Wikipedia article. That's a lot of information. If I remember correctly, it's something like a billion tokens. So we've got a billion separate things to predict. Every time we make a mistake on one of those predictions, we get the loss, we get gradients from that, and we can update our weights, and they can better and better until we can get pretty good at predicting the next word of Wikipedia.\n",
        "\n",
        "Why is that useful? Because at that point, I've got a model that knows probably how to complete sentences like this, so it knows quite a lot about English and quite a lot about how the world works﹣what kinds of things tend to be hot in different situations, for instance. Ideally, it would learn things like \"in 1996 in a speech to the United Nations, United States president _____ said \"... Now that would be a really good language model, because it would actually have to know who is this United States president in that year. So getting really good at training language models is a great way to teach a neural-net a lot about what is our world, what's in our world, how do things work in our world. It's a really fascinating topic, and it's actually one that philosophers have been studying for hundreds of years now. There's actually a whole theory of philosophy which is about what can be learned from studying language alone. So it turns out, apparently, quite a lot.\n",
        "\n",
        "So here's the interesting thing. You can start by training a language model on all of Wikipedia, and then we can make that available to all of you. Just like a pre-trained ImageNet model for vision, we've now made available a pre-trained Wikitext model for NLP not because it's particularly useful of itself (predicting the next word of sentences is somewhat useful, but not normally what we want to do), but it's a model that understands a lot about language and a lot about what language describes. So then, we can take that and we can do transfer learning to create a new language model that's specifically good at predicting the next word of movie reviews."
      ]
    },
    {
      "metadata": {
        "id": "UCX3ur5gNRgr",
        "colab_type": "text"
      },
      "cell_type": "markdown",
      "source": [
        "##Fine-tuning Wikitext to create a new language model [11:10](https://youtu.be/C9UdVPE3ynA?t=670)\n",
        "\n",
        "If we can build a language model that's good at predicting the next word of movie reviews pre-trained with the Wikitext model, then that's going to understand a lot about \"my favorite actor is Tom ____. \" Or \"I thought the photography was fantastic but I wasn't really so happy about the _____ (director).\" It's going to learn a lot about specifically how movie reviews are written. It'll even learn things like what are the names of some popular movies.\n",
        "\n",
        "**That would then mean we can still use a huge corpus of lots of movie reviews even if we don't know whether they're positive or negative to learn a lot about how movie reviews are written. So for all of this pre-training and all of this language model fine-tuning, we don't need any labels at all. It is what the researcher Yann LeCun calls self supervised learning**. In other words, it's a classic supervised model﹣we have labels, but the labels are not things that somebody else have created. They're built into the dataset itself. So this is really really neat. Because at this point, we've now got something that's good at understanding movie reviews and we can fine-tune that with transfer learning to do the thing we want to do which in this case is to classify movie reviews to be positive or negative. So my hope was (when I tried this last year) that at that point, 25,000 ones and zeros would be enough feedback to fine-tune that model and it turned out it absolutely was.\n",
        "\n",
        "**Question**: Does the language model approach works for text in forums that are informal English, misspelled words or slangs or shortforms like s6 instead of Samsung S 6? [12:47](https://youtu.be/C9UdVPE3ynA?t=767)\n",
        "\n",
        "- Yes, absolutely it does. Particularly if you start with your wikitext model and then fine-tune it with your \"target\" corpus. Corpus is just a bunch of documents (emails, tweets, medical reports, or whatever). You could fine-tune it so it can learn a bit about the specifics of the slang , abbreviations, or whatever that didn't appear in the full corpus. So interestingly, this is one of the big things that people were surprised about when we did this research last year. People thought that learning from something like Wikipedia wouldn't be that helpful because it's not that representative of how people tend to write. But it turns out it's extremely helpful because there's a much a difference between Wikipedia and random words than there is between like Wikipedia and reddit. So it kind of gets you 99% of the way there.\n",
        "\n",
        "So language models themselves can be quite powerful. For example there was a [blog post](https://blog.swiftkey.com/swiftkey-debuts-worlds-first-smartphone-keyboard-powered-by-neural-networks/) from SwiftKey (the folks that do the mobile-phone predictive text keyboard) and they describe how they kind of rewrote their underlying model to use neural nets. This was a year or two ago. Now most phone keyboards seem to do this. You'll be typing away on your mobile phone, and in the prediction there will be something telling you what word you might want next. So that's a language model in your phone.\n",
        "\n",
        "Another example was the researcher Andrej Karpathy who now runs all this stuff at Tesla, back when he was a PhD student, he created [a language model of text in LaTeX documents] and created these automatic generation of LaTeX documents that then became these automatically generated papers. That's pretty cute.\n",
        "\n",
        "We're not really that interested in the output of the language model ourselves. We're just interested in it because it's helpful with this process."
      ]
    },
    {
      "metadata": {
        "id": "O9q-R5G0OktT",
        "colab_type": "text"
      },
      "cell_type": "markdown",
      "source": [
        "#Review of the basic process [15:14](https://youtu.be/C9UdVPE3ynA?t=914)\n",
        "\n"
      ]
    },
    {
      "metadata": {
        "id": "BWkFk3VXOtYN",
        "colab_type": "code",
        "colab": {}
      },
      "cell_type": "code",
      "source": [
        "%reload_ext autoreload\n",
        "%autoreload 2\n",
        "%matplotlib inline\n"
      ],
      "execution_count": 0,
      "outputs": []
    },
    {
      "metadata": {
        "id": "Ag8ayUQSO0TT",
        "colab_type": "code",
        "colab": {}
      },
      "cell_type": "code",
      "source": [
        "from fastai.text import *"
      ],
      "execution_count": 0,
      "outputs": []
    },
    {
      "metadata": {
        "id": "_vI5QJ-lPBYx",
        "colab_type": "text"
      },
      "cell_type": "markdown",
      "source": [
        "**Preparing the data**\n",
        "\n",
        "First let's download the dataset we are going to study. The dataset has been curated by Andrew Maas et al. and contains a total of 100,000 reviews on IMDB. 25,000 of them are labelled as positive and negative for training, another 25,000 are labelled for testing (in both cases they are highly polarized). The remaning 50,000 is an additional unlabelled data (but we will find a use for it nonetheless).\n",
        "\n",
        "We'll begin with a sample we've prepared for you, so that things run quickly before going over the full dataset."
      ]
    },
    {
      "metadata": {
        "id": "VEl2JmxwO-Q-",
        "colab_type": "code",
        "outputId": "838b3a6a-5b55-4502-9b74-79f854ba343d",
        "colab": {
          "base_uri": "https://localhost:8080/",
          "height": 34
        }
      },
      "cell_type": "code",
      "source": [
        "path = untar_data(URLs.IMDB_SAMPLE)\n",
        "path.ls()"
      ],
      "execution_count": 0,
      "outputs": [
        {
          "output_type": "execute_result",
          "data": {
            "text/plain": [
              "[PosixPath('/root/.fastai/data/imdb_sample/texts.csv')]"
            ]
          },
          "metadata": {
            "tags": []
          },
          "execution_count": 3
        }
      ]
    },
    {
      "metadata": {
        "id": "reR5T8KDPJSW",
        "colab_type": "code",
        "outputId": "bdd294cd-0b82-4a31-9999-e5f36dfc3107",
        "colab": {
          "base_uri": "https://localhost:8080/",
          "height": 197
        }
      },
      "cell_type": "code",
      "source": [
        "df = pd.read_csv(path/'texts.csv')\n",
        "df.head()"
      ],
      "execution_count": 0,
      "outputs": [
        {
          "output_type": "execute_result",
          "data": {
            "text/html": [
              "<div>\n",
              "<style scoped>\n",
              "    .dataframe tbody tr th:only-of-type {\n",
              "        vertical-align: middle;\n",
              "    }\n",
              "\n",
              "    .dataframe tbody tr th {\n",
              "        vertical-align: top;\n",
              "    }\n",
              "\n",
              "    .dataframe thead th {\n",
              "        text-align: right;\n",
              "    }\n",
              "</style>\n",
              "<table border=\"1\" class=\"dataframe\">\n",
              "  <thead>\n",
              "    <tr style=\"text-align: right;\">\n",
              "      <th></th>\n",
              "      <th>label</th>\n",
              "      <th>text</th>\n",
              "      <th>is_valid</th>\n",
              "    </tr>\n",
              "  </thead>\n",
              "  <tbody>\n",
              "    <tr>\n",
              "      <th>0</th>\n",
              "      <td>negative</td>\n",
              "      <td>Un-bleeping-believable! Meg Ryan doesn't even ...</td>\n",
              "      <td>False</td>\n",
              "    </tr>\n",
              "    <tr>\n",
              "      <th>1</th>\n",
              "      <td>positive</td>\n",
              "      <td>This is a extremely well-made film. The acting...</td>\n",
              "      <td>False</td>\n",
              "    </tr>\n",
              "    <tr>\n",
              "      <th>2</th>\n",
              "      <td>negative</td>\n",
              "      <td>Every once in a long while a movie will come a...</td>\n",
              "      <td>False</td>\n",
              "    </tr>\n",
              "    <tr>\n",
              "      <th>3</th>\n",
              "      <td>positive</td>\n",
              "      <td>Name just says it all. I watched this movie wi...</td>\n",
              "      <td>False</td>\n",
              "    </tr>\n",
              "    <tr>\n",
              "      <th>4</th>\n",
              "      <td>negative</td>\n",
              "      <td>This movie succeeds at being one of the most u...</td>\n",
              "      <td>False</td>\n",
              "    </tr>\n",
              "  </tbody>\n",
              "</table>\n",
              "</div>"
            ],
            "text/plain": [
              "      label                                               text  is_valid\n",
              "0  negative  Un-bleeping-believable! Meg Ryan doesn't even ...     False\n",
              "1  positive  This is a extremely well-made film. The acting...     False\n",
              "2  negative  Every once in a long while a movie will come a...     False\n",
              "3  positive  Name just says it all. I watched this movie wi...     False\n",
              "4  negative  This movie succeeds at being one of the most u...     False"
            ]
          },
          "metadata": {
            "tags": []
          },
          "execution_count": 4
        }
      ]
    },
    {
      "metadata": {
        "id": "CIHNtytLPW6W",
        "colab_type": "text"
      },
      "cell_type": "markdown",
      "source": [
        "So there's an example of a movie review:"
      ]
    },
    {
      "metadata": {
        "id": "-cDTunJ8PSwl",
        "colab_type": "code",
        "outputId": "c4d04c12-3da2-4b9e-c0b5-3db5f91dd388",
        "colab": {
          "base_uri": "https://localhost:8080/",
          "height": 54
        }
      },
      "cell_type": "code",
      "source": [
        "df['text'][1]"
      ],
      "execution_count": 0,
      "outputs": [
        {
          "output_type": "execute_result",
          "data": {
            "text/plain": [
              "'This is a extremely well-made film. The acting, script and camera-work are all first-rate. The music is good, too, though it is mostly early in the film, when things are still relatively cheery. There are no really superstars in the cast, though several faces will be familiar. The entire cast does an excellent job with the script.<br /><br />But it is hard to watch, because there is no good end to a situation like the one presented. It is now fashionable to blame the British for setting Hindus and Muslims against each other, and then cruelly separating them into two countries. There is some merit in this view, but it\\'s also true that no one forced Hindus and Muslims in the region to mistreat each other as they did around the time of partition. It seems more likely that the British simply saw the tensions between the religions and were clever enough to exploit them to their own ends.<br /><br />The result is that there is much cruelty and inhumanity in the situation and this is very unpleasant to remember and to see on the screen. But it is never painted as a black-and-white case. There is baseness and nobility on both sides, and also the hope for change in the younger generation.<br /><br />There is redemption of a sort, in the end, when Puro has to make a hard choice between a man who has ruined her life, but also truly loved her, and her family which has disowned her, then later come looking for her. But by that point, she has no option that is without great pain for her.<br /><br />This film carries the message that both Muslims and Hindus have their grave faults, and also that both can be dignified and caring people. The reality of partition makes that realisation all the more wrenching, since there can never be real reconciliation across the India/Pakistan border. In that sense, it is similar to \"Mr & Mrs Iyer\".<br /><br />In the end, we were glad to have seen the film, even though the resolution was heartbreaking. If the UK and US could deal with their own histories of racism with this kind of frankness, they would certainly be better off.'"
            ]
          },
          "metadata": {
            "tags": []
          },
          "execution_count": 5
        }
      ]
    },
    {
      "metadata": {
        "id": "6xAliwW_Peq_",
        "colab_type": "text"
      },
      "cell_type": "markdown",
      "source": [
        "It contains one line per review, with the label ('negative' or 'positive'), the text and a flag to determine if it should be part of the validation set or the training set. If we ignore this flag, we can create a DataBunch containing this data in one line of code.\n",
        "\n",
        "So you can just go TextDataBunch.from_csv to grab a language model specific data bunch:"
      ]
    },
    {
      "metadata": {
        "id": "r7M7Tno1PdVR",
        "colab_type": "code",
        "colab": {}
      },
      "cell_type": "code",
      "source": [
        "data_lm = TextDataBunch.from_csv(path,'texts.csv')"
      ],
      "execution_count": 0,
      "outputs": []
    },
    {
      "metadata": {
        "id": "rilgrV19Pnj6",
        "colab_type": "text"
      },
      "cell_type": "markdown",
      "source": [
        "And then you can create a learner from that in the usual way and fit it. \n",
        "\n",
        "By executing this line a process was launched that took a bit of time. Let's dig a bit into it. Images could be fed (almost) directly into a model because they're just a big array of pixel values that are floats between 0 and 1. A text is composed of words, and we can't apply mathematical functions to them directly. We first have to convert them to numbers. This is done in two differents steps: tokenization and numericalization. A TextDataBunch does all of that behind the scenes for you.\n",
        "\n",
        "Before we delve into the explanations, let's take the time to save the things that were calculated.\n",
        "\n"
      ]
    },
    {
      "metadata": {
        "id": "8XgmAoJ-PZyK",
        "colab_type": "code",
        "colab": {}
      },
      "cell_type": "code",
      "source": [
        "data_lm.save()"
      ],
      "execution_count": 0,
      "outputs": []
    },
    {
      "metadata": {
        "id": "sHmOGg9jRCtV",
        "colab_type": "text"
      },
      "cell_type": "markdown",
      "source": [
        "You can save the data bunch which means that the pre-processing that is done, you don't have to do it again. You can just load it."
      ]
    },
    {
      "metadata": {
        "id": "cAmT2UZNQurx",
        "colab_type": "code",
        "colab": {}
      },
      "cell_type": "code",
      "source": [
        "data = load_data(path)"
      ],
      "execution_count": 0,
      "outputs": []
    },
    {
      "metadata": {
        "id": "6uEmFv-wR0jk",
        "colab_type": "code",
        "outputId": "1bbe655d-ebbd-4329-ea55-16137390b8ec",
        "colab": {
          "base_uri": "https://localhost:8080/",
          "height": 54
        }
      },
      "cell_type": "code",
      "source": [
        "'''\n",
        "??load_data\n",
        "\n",
        "def load_data(path:PathOrStr, file:PathLikeOrBinaryStream='data_save.pkl', bs:int=64, val_bs:int=None, num_workers:int=defaults.cpus,\n",
        "              dl_tfms:Optional[Collection[Callable]]=None, device:torch.device=None, collate_fn:Callable=data_collate,\n",
        "              no_check:bool=False, **kwargs)->DataBunch:\n",
        "              \n",
        "    \"Load a saved `DataBunch` from `path/file`. `file` can be file-like (file or buffer)\"\n",
        "    \n",
        "    source = Path(path)/file if is_pathlike(file) else file\n",
        "    ll = torch.load(source, map_location='cpu') if defaults.device == torch.device('cpu') else torch.load(source)\n",
        "    return ll.databunch(path=path, bs=bs, val_bs=val_bs, num_workers=num_workers, dl_tfms=dl_tfms, device=device,\n",
        "                        collate_fn=collate_fn, no_check=no_check, **kwargs)\n",
        "                \n",
        "'''"
      ],
      "execution_count": 0,
      "outputs": [
        {
          "output_type": "execute_result",
          "data": {
            "text/plain": [
              "'\\n??load_data\\n\\ndef load_data(path:PathOrStr, file:PathLikeOrBinaryStream=\\'data_save.pkl\\', bs:int=64, val_bs:int=None, num_workers:int=defaults.cpus,\\n              dl_tfms:Optional[Collection[Callable]]=None, device:torch.device=None, collate_fn:Callable=data_collate,\\n              no_check:bool=False, **kwargs)->DataBunch:\\n              \\n    \"Load a saved `DataBunch` from `path/file`. `file` can be file-like (file or buffer)\"\\n    \\n    source = Path(path)/file if is_pathlike(file) else file\\n    ll = torch.load(source, map_location=\\'cpu\\') if defaults.device == torch.device(\\'cpu\\') else torch.load(source)\\n    return ll.databunch(path=path, bs=bs, val_bs=val_bs, num_workers=num_workers, dl_tfms=dl_tfms, device=device,\\n                        collate_fn=collate_fn, no_check=no_check, **kwargs)\\n                \\n'"
            ]
          },
          "metadata": {
            "tags": []
          },
          "execution_count": 9
        }
      ]
    },
    {
      "metadata": {
        "id": "REZF0OCwROJT",
        "colab_type": "text"
      },
      "cell_type": "markdown",
      "source": [
        "What happens behind the scenes if we now load it as a classification data bunch (that's going to allow us to see the labels as well)?\n",
        "\n",
        "##Tokenization\n",
        "\n",
        "The first step of processing we make the texts go through is to split the raw sentences into words, or more exactly tokens. The easiest way to do this would be to split the string on spaces, but we can be smarter:\n",
        "\n",
        "- we need to take care of punctuation\n",
        "- some words are contractions of two different words, like isn't or don't\n",
        "- we may need to clean some parts of our texts, if there's HTML code for instance\n",
        "\n",
        "To see what the tokenizer had done behind the scenes, let's have a look at a few texts in a batch."
      ]
    },
    {
      "metadata": {
        "id": "NGq4eBrIRHbD",
        "colab_type": "code",
        "outputId": "a5d724a8-329a-4c95-94f2-cbd03b850433",
        "colab": {
          "base_uri": "https://localhost:8080/",
          "height": 281
        }
      },
      "cell_type": "code",
      "source": [
        "data = TextClasDataBunch.from_csv(path,'texts.csv')\n",
        "data.show_batch()"
      ],
      "execution_count": 0,
      "outputs": [
        {
          "output_type": "display_data",
          "data": {
            "text/html": [
              "<table border=\"1\" class=\"dataframe\">\n",
              "  <thead>\n",
              "    <tr style=\"text-align: right;\">\n",
              "      <th>text</th>\n",
              "      <th>target</th>\n",
              "    </tr>\n",
              "  </thead>\n",
              "  <tbody>\n",
              "    <tr>\n",
              "      <td>xxbos xxmaj raising xxmaj victor xxmaj vargas : a xxmaj review \\n \\n  xxmaj you know , xxmaj raising xxmaj victor xxmaj vargas is like sticking your hands into a big , steaming bowl of xxunk . xxmaj it 's warm and gooey , but you 're not sure if it feels right . xxmaj try as i might , no matter how warm and gooey xxmaj raising xxmaj</td>\n",
              "      <td>negative</td>\n",
              "    </tr>\n",
              "    <tr>\n",
              "      <td>xxbos xxup the xxup shop xxup around xxup the xxup corner is one of the sweetest and most feel - good romantic comedies ever made . xxmaj there 's just no getting around that , and it 's hard to actually put one 's feeling for this film into words . xxmaj it 's not one of those films that tries too hard , nor does it come up with</td>\n",
              "      <td>positive</td>\n",
              "    </tr>\n",
              "    <tr>\n",
              "      <td>xxbos xxmaj now that xxmaj che(2008 ) has finished its relatively short xxmaj australian cinema run ( extremely limited xxunk screen in xxmaj sydney , after xxunk ) , i can xxunk join both xxunk of \" xxmaj at xxmaj the xxmaj movies \" in taking xxmaj steven xxmaj soderbergh to task . \\n \\n  xxmaj it 's usually satisfying to watch a film director change his style /</td>\n",
              "      <td>negative</td>\n",
              "    </tr>\n",
              "    <tr>\n",
              "      <td>xxbos xxmaj this film sat on my xxmaj tivo for weeks before i watched it . i dreaded a self - indulgent xxunk flick about relationships gone bad . i was wrong ; this was an xxunk xxunk into the screwed - up xxunk of xxmaj new xxmaj yorkers . \\n \\n  xxmaj the format is the same as xxmaj max xxmaj xxunk ' \" xxmaj la xxmaj ronde</td>\n",
              "      <td>positive</td>\n",
              "    </tr>\n",
              "    <tr>\n",
              "      <td>xxbos xxmaj many neglect that this is n't just a classic due to the fact that it 's the first xxup 3d game , or even the first xxunk - up . xxmaj it 's also one of the first stealth games , one of the xxunk definitely the first ) truly claustrophobic games , and just a pretty well - rounded gaming experience in general . xxmaj with graphics</td>\n",
              "      <td>positive</td>\n",
              "    </tr>\n",
              "  </tbody>\n",
              "</table>"
            ],
            "text/plain": [
              "<IPython.core.display.HTML object>"
            ]
          },
          "metadata": {
            "tags": []
          }
        }
      ]
    },
    {
      "metadata": {
        "id": "O2Dmihm5SVrn",
        "colab_type": "text"
      },
      "cell_type": "markdown",
      "source": [
        "The texts are truncated at 100 tokens for more readability. We can see that it did more than just split on space and punctuation symbols:\n",
        "\n",
        "- the \"'s\" are grouped together in one token\n",
        "- the contractions are separated like this: \"did\", \"n't\"\n",
        "- content has been cleaned for any HTML symbol and lower cased\n",
        "- there are several special tokens (all those that begin by xx), to replace unknown tokens (see below) or to introduce different text fields (here we only have one)."
      ]
    },
    {
      "metadata": {
        "id": "L4s7mt64SmWw",
        "colab_type": "text"
      },
      "cell_type": "markdown",
      "source": [
        "##Numericalization\n",
        "\n",
        "Once we have extracted tokens from our texts, we convert to integers by creating a list of all the words used. We only keep the ones that appear at least twice with a maximum vocabulary size of 60,000 (by default) and replace the ones that don't make the cut by the unknown token UNK.\n",
        "\n",
        "The correspondance from ids to tokens is stored in the vocab attribute of our datasets, in a dictionary call"
      ]
    },
    {
      "metadata": {
        "id": "ZU3yw9yzRs1u",
        "colab_type": "code",
        "outputId": "eb4d9bd9-1e18-42ee-ec51-ac9f541d4c2a",
        "colab": {
          "base_uri": "https://localhost:8080/",
          "height": 194
        }
      },
      "cell_type": "code",
      "source": [
        "data.vocab.itos[:10]"
      ],
      "execution_count": 0,
      "outputs": [
        {
          "output_type": "execute_result",
          "data": {
            "text/plain": [
              "['xxunk',\n",
              " 'xxpad',\n",
              " 'xxbos',\n",
              " 'xxeos',\n",
              " 'xxfld',\n",
              " 'xxmaj',\n",
              " 'xxup',\n",
              " 'xxrep',\n",
              " 'xxwrep',\n",
              " 'the']"
            ]
          },
          "metadata": {
            "tags": []
          },
          "execution_count": 11
        }
      ]
    },
    {
      "metadata": {
        "id": "EkrvjcCkS74H",
        "colab_type": "text"
      },
      "cell_type": "markdown",
      "source": [
        "And that big list of unique possible tokens is called the vocabulary which we just call it a \"vocab\". So what we then do is we replace the tokens with the ID of where is that token in the vocab:"
      ]
    },
    {
      "metadata": {
        "id": "VY1uEvGwS4DZ",
        "colab_type": "code",
        "outputId": "a4e14d32-4baa-416c-df99-d6cc15806980",
        "colab": {
          "base_uri": "https://localhost:8080/",
          "height": 90
        }
      },
      "cell_type": "code",
      "source": [
        "data.train_ds[0][0]"
      ],
      "execution_count": 0,
      "outputs": [
        {
          "output_type": "execute_result",
          "data": {
            "text/plain": [
              "Text xxbos ... okay , maybe not all of it . xxmaj xxunk by the false promise of bikini - clad women on the movie 's cover ... but the xxup horror ... xxup the xxup horror ... ... whatever you do , do xxup not watch this movie . xxmaj xxunk out your eyes , repeatedly xxunk your skull in ... do what it takes . xxmaj never again -- never forget ! \n",
              " \n",
              " "
            ]
          },
          "metadata": {
            "tags": []
          },
          "execution_count": 12
        }
      ]
    },
    {
      "metadata": {
        "id": "gZF-13Y9TUPt",
        "colab_type": "text"
      },
      "cell_type": "markdown",
      "source": [
        "But the underlying data is all numbers"
      ]
    },
    {
      "metadata": {
        "id": "NxXaSWfXTGNp",
        "colab_type": "code",
        "outputId": "651d2bd2-02b6-4b86-e200-9a20057f5503",
        "colab": {
          "base_uri": "https://localhost:8080/",
          "height": 34
        }
      },
      "cell_type": "code",
      "source": [
        "data.train_ds[0][0].data[:10]"
      ],
      "execution_count": 0,
      "outputs": [
        {
          "output_type": "execute_result",
          "data": {
            "text/plain": [
              "array([  2, 101, 946,  11, 284,  39,  46,  14,  17,  10])"
            ]
          },
          "metadata": {
            "tags": []
          },
          "execution_count": 13
        }
      ]
    },
    {
      "metadata": {
        "id": "v26-9-THTw1_",
        "colab_type": "text"
      },
      "cell_type": "markdown",
      "source": [
        "That's numericalization. Here's the thing though. As you'll learn, every word in our vocab is going to require a separate row in a weight matrix in our neural net. So to avoid that weight matrix getting too huge, that why we restrict the vocab to no more than (by default) 60,000 words. And if a word doesn't appear more than two times, we don't put it in the vocab either. So we keep the vocab to a reasonable size in that way. When you see these xxunk, that's an unknown token. It just means this was something that was not a common enough word to appear in our vocab.\n",
        "\n",
        "We also have a couple of other special tokens like (see fastai.text.transform.py for up-to-date info):\n",
        "\n",
        "xxfld: This is a special thing where if you've got like title, summary, abstract, body, (i. e. separate parts of a document), each one will get a separate field and so they will get numbered (e.g. xxfld 2).\n",
        "xxup: If there's something in all caps, it gets lower cased and a token called xxup will get added to it."
      ]
    },
    {
      "metadata": {
        "id": "MxGMJIUZT8iq",
        "colab_type": "text"
      },
      "cell_type": "markdown",
      "source": [
        "##With the data block API [18:31](https://youtu.be/C9UdVPE3ynA?t=1111)\n",
        "\n",
        "Personally, I more often use the data block API because there's less to remember about exactly what data bunch to use, and what parameters and so forth, and it can be a bit more flexible.\n",
        "\n",
        "With the data block API though, we have to manually call the tokenize and numericalize steps. This allows more flexibility, and if you're not using the defaults from fastai, the variaous arguments to pass will appear in the step they're revelant, so it'll be more readable."
      ]
    },
    {
      "metadata": {
        "id": "3uYdjEDZTZ58",
        "colab_type": "code",
        "colab": {}
      },
      "cell_type": "code",
      "source": [
        "data = (TextList.from_csv(path,'texts.csv',cols='text')\n",
        "       .split_from_df(col=2)\n",
        "       .label_from_df(cols=0)\n",
        "       .databunch())"
      ],
      "execution_count": 0,
      "outputs": []
    },
    {
      "metadata": {
        "id": "PKYKwvtoAUyD",
        "colab_type": "text"
      },
      "cell_type": "markdown",
      "source": [
        "So another approach to doing this is to just decide:\n",
        "\n",
        "- What kind of list you're creating (i.e. what's your independent variable)? So in this case, my independent variable is text.\n",
        "- What is it coming from? A CSV.\n",
        "- How do you want to split it into validation versus training? So in this case, column number two was the is_valid flag.\n",
        "- How do you want to label it? With positive or negative sentiment, for example. So column zero had that.\n",
        "- Then turn that into a data bunch."
      ]
    },
    {
      "metadata": {
        "id": "bJ6IXb0dAr-x",
        "colab_type": "text"
      },
      "cell_type": "markdown",
      "source": [
        "## Language model\n",
        "\n",
        "Now let's grab the full dataset for what follows.\n",
        "\n",
        "First, note that language models can use a lot of GPU, so you may need to decrease batchsize here."
      ]
    },
    {
      "metadata": {
        "id": "Fk2CnZujA3uo",
        "colab_type": "code",
        "colab": {}
      },
      "cell_type": "code",
      "source": [
        "bs = 48"
      ],
      "execution_count": 0,
      "outputs": []
    },
    {
      "metadata": {
        "id": "DU2K7BrIBEd3",
        "colab_type": "code",
        "outputId": "d3d6da1e-7e67-4744-955a-94ff74180c78",
        "colab": {
          "base_uri": "https://localhost:8080/",
          "height": 141
        }
      },
      "cell_type": "code",
      "source": [
        "path = untar_data(URLs.IMDB)\n",
        "path.ls()"
      ],
      "execution_count": 0,
      "outputs": [
        {
          "output_type": "execute_result",
          "data": {
            "text/plain": [
              "[PosixPath('/root/.fastai/data/imdb/tmp_lm'),\n",
              " PosixPath('/root/.fastai/data/imdb/README'),\n",
              " PosixPath('/root/.fastai/data/imdb/tmp_clas'),\n",
              " PosixPath('/root/.fastai/data/imdb/unsup'),\n",
              " PosixPath('/root/.fastai/data/imdb/train'),\n",
              " PosixPath('/root/.fastai/data/imdb/imdb.vocab'),\n",
              " PosixPath('/root/.fastai/data/imdb/test')]"
            ]
          },
          "metadata": {
            "tags": []
          },
          "execution_count": 16
        }
      ]
    },
    {
      "metadata": {
        "id": "vKUxKNknBI-3",
        "colab_type": "code",
        "outputId": "3a6e3449-429e-4304-ead0-a5fe5ecec0bf",
        "colab": {
          "base_uri": "https://localhost:8080/",
          "height": 87
        }
      },
      "cell_type": "code",
      "source": [
        "(path/'train').ls()"
      ],
      "execution_count": 0,
      "outputs": [
        {
          "output_type": "execute_result",
          "data": {
            "text/plain": [
              "[PosixPath('/root/.fastai/data/imdb/train/labeledBow.feat'),\n",
              " PosixPath('/root/.fastai/data/imdb/train/unsupBow.feat'),\n",
              " PosixPath('/root/.fastai/data/imdb/train/neg'),\n",
              " PosixPath('/root/.fastai/data/imdb/train/pos')]"
            ]
          },
          "metadata": {
            "tags": []
          },
          "execution_count": 17
        }
      ]
    },
    {
      "metadata": {
        "id": "_r8xs9-mB7oL",
        "colab_type": "text"
      },
      "cell_type": "markdown",
      "source": [
        "Now let's grab the whole data set which has:\n",
        "\n",
        "- 25,000 reviews in training\n",
        "- 25,000 interviews in validation\n",
        "- 50,000 unsupervised movie reviews (50,000 movie reviews that haven't been scored at all)\n",
        "\n",
        "We're going to start with the language model. Now the good news is, we don't have to train the Wikitext 103 language model. Not that it's difficult﹣you can just download the wikitext 103 corpus, and run the same code. But it takes two or three days on a decent GPU, so not much point in you doing it. You may as well start with ours. Even if you've got a big corpus of like medical documents or legal documents, you should still start with Wikitext 103. There's just no reason to start with random weights. It's always good to use transfer learning if you can.\n",
        "\n",
        "So we're gonna start fine-tuning our IMDB language model.\n",
        "\n",
        "\n",
        "\n",
        "```\n",
        "The reviews are in a training and test set following an imagenet structure. The only difference is that there is an unsup folder on top of  train and test that contains the unlabelled data.\n",
        "\n",
        "We're not going to train a model that classifies the reviews from scratch. Like in computer vision, we'll use a model pretrained on a bigger dataset (a cleaned subset of wikipedia called wikitext-103). That model has been trained to guess what the next word, its input being all the previous words. It has a recurrent structure and a hidden state that is updated each time it sees a new word. This hidden state thus contains information about the sentence up to that point.\n",
        "\n",
        "We are going to use that 'knowledge' of the English language to build our classifier, but first, like for computer vision, we need to fine-tune the pretrained model to our particular dataset. Because the English of the reviews left by people on IMDB isn't the same as the English of wikipedia, we'll need to adjust the parameters of our model by a little bit. Plus there might be some words that would be extremely common in the reviews dataset but would be barely present in wikipedia, and therefore might not be part of the vocabulary the model was trained on.\n",
        "\n",
        "This is where the unlabelled data is going to be useful to us, as we can use it to fine-tune our model. Let's create our data object with the data block API (next line takes a few minutes).\n",
        "```\n",
        "\n"
      ]
    },
    {
      "metadata": {
        "id": "s3zYOW_RBRAY",
        "colab_type": "code",
        "colab": {}
      },
      "cell_type": "code",
      "source": [
        "data_lm = (TextList.from_folder(path)\n",
        "          #Input: all the text files in path\n",
        "          .filter_by_folder(include=['train','test','unsub'])\n",
        "          # We may have other temp folders that contain text files so we only \n",
        "          # keep what is in train and test \n",
        "          .split_by_rand_pct(0.1)\n",
        "           # we randomly split and keep 10% (10,000 reviews) for validation\n",
        "          .label_for_lm()\n",
        "           # we want to do a language model so we label accordingly\n",
        "          .databunch(bs=bs))\n",
        "data_lm.save('data_lm.pkl')"
      ],
      "execution_count": 0,
      "outputs": []
    },
    {
      "metadata": {
        "id": "X1eP9tnJDjiz",
        "colab_type": "text"
      },
      "cell_type": "markdown",
      "source": [
        "We have to use a special kind of TextDataBunch for the language model, that ignores the labels (that's why we put 0 everywhere), will shuffle the texts at each epoch before concatenating them all together (only for training, we don't shuffle for the validation set) and will send batches that read that text in order with targets that are the next word in the sentence.\n",
        "\n",
        "We can say:\n",
        "\n",
        "- It's a list of text files﹣the full IMDB actually is not in a CSV. Each document is a separate text file.\n",
        "- Say where it is﹣in this case we have to make sure we just to include the train and test folders.\n",
        "- We randomly split it by 0.1.\n",
        "\n",
        "    - Now this is interesting﹣10%. **Why are we randomly splitting it by 10% rather than using the predefined train and test they gave us? This is one of the cool things about transfer learning**. Even though our validation set has to be held aside, it's actually only the labels that we have to keep aside. So we're not allowed to use the labels in the test set. If you think about in a Kaggle competition, you certainly can't use the labels because they don't even give them to you. But you can certainly use the independent variables. So in this case, you could absolutely use the text that is in the test set to train your language model. **This is a good trick﹣when you do the language model, concatenate the training and test set together, and then just split out a smaller validation set so you've got more data to train your language model. So that's a little trick**.\n",
        "\n",
        "    - So if you're doing NLP stuff on Kaggle, for example, or you've just got a smaller subset of labeled data, make sure that you use all of the text you have to train in your language model, because there's no reason not to.\n",
        "\n",
        "- How are we going to label it? Remember, a language model kind of has its own labels. The text itself is labels so label for a language model (label_for_lm) does that for us.\n",
        "- And create a data bunch and save it. That takes a few minutes to tokenize and numericalize.\n",
        "\n",
        "Since it takes some few minutes, we save it. Later on you can just load it. No need to run it again."
      ]
    },
    {
      "metadata": {
        "id": "KPKMprsrDW2s",
        "colab_type": "code",
        "colab": {}
      },
      "cell_type": "code",
      "source": [
        "data_lm = load_data(path,'data_lm.pkl',bs=bs)"
      ],
      "execution_count": 0,
      "outputs": []
    },
    {
      "metadata": {
        "id": "lGDHEIpMFPJ4",
        "colab_type": "code",
        "outputId": "fb106f3b-f906-41ac-ed5b-0c09818b7108",
        "colab": {
          "base_uri": "https://localhost:8080/",
          "height": 281
        }
      },
      "cell_type": "code",
      "source": [
        "data_lm.show_batch()"
      ],
      "execution_count": 0,
      "outputs": [
        {
          "output_type": "display_data",
          "data": {
            "text/html": [
              "<table border=\"1\" class=\"dataframe\">\n",
              "  <thead>\n",
              "    <tr style=\"text-align: right;\">\n",
              "      <th>idx</th>\n",
              "      <th>text</th>\n",
              "    </tr>\n",
              "  </thead>\n",
              "  <tbody>\n",
              "    <tr>\n",
              "      <td>0</td>\n",
              "      <td>is due to the fact that xxmaj gunnar xxmaj hansen appears ( ever so briefly ) as one of the film 's reprehensible characters . xxmaj how they ever lured xxmaj mr. xxmaj hansen into this piece of ... work , i 'll never know . xxmaj the story idea is interesting but poorly executed . xxmaj the direction is pedestrian and the acting is mediocre . xxmaj the only</td>\n",
              "    </tr>\n",
              "    <tr>\n",
              "      <td>1</td>\n",
              "      <td>n't try to create a tiny bit of tension . xxmaj the director ( xxmaj stephen xxmaj carpenter -- i guess it 's much easier to find money with a name like that ) also made the xxmaj kindred ( 1986 ) wich was rather enjoyable and recently he did xxmaj soul xxmaj survivors . xxmaj complete crap as well , but at least that one had xxmaj eliza xxmaj</td>\n",
              "    </tr>\n",
              "    <tr>\n",
              "      <td>2</td>\n",
              "      <td>a daft little horror film that harks back to the style of eighties woodland flicks , you might find some enjoyment here . xxbos xxmaj in my opinion this movie advances no new thought . seems to me like taking a spear to a spear without looking to the side ! the director seems to have an agenda ! xxmaj duh ! i find that his rational is lacking there</td>\n",
              "    </tr>\n",
              "    <tr>\n",
              "      <td>3</td>\n",
              "      <td>it strayed into here is xxunk guess . \\n \\n  xxmaj there is other great stock footage of xxmaj ottawa in the old days when the capital of xxmaj canada was a wide spot in the road and especially wonderful footage of xxmaj new xxmaj york xxmaj city 's xxmaj times xxmaj square during one of the xxmaj civil xxmaj defense xxmaj drills in the early 50s . \\n</td>\n",
              "    </tr>\n",
              "    <tr>\n",
              "      <td>4</td>\n",
              "      <td>then at least it was n't a total waste . xxmaj you 'd never know by watching it though . xxmaj script ? xxmaj are you kidding . xxmaj acting ? i think even the trees were faking . xxmaj cinematography ? xxmaj well , there must 've been a camera there . xxmaj period . i do n't think there was any actual planning involved in the making of</td>\n",
              "    </tr>\n",
              "  </tbody>\n",
              "</table>"
            ],
            "text/plain": [
              "<IPython.core.display.HTML object>"
            ]
          },
          "metadata": {
            "tags": []
          }
        }
      ]
    },
    {
      "metadata": {
        "id": "xq62Ni2QFgZY",
        "colab_type": "text"
      },
      "cell_type": "markdown",
      "source": [
        "###Training the language model [22:29](https://youtu.be/C9UdVPE3ynA?t=1349)\n",
        "\n",
        "At this point things are going to look very familiar. We create a learner:"
      ]
    },
    {
      "metadata": {
        "id": "Dg9UgwXIFRcs",
        "colab_type": "code",
        "colab": {}
      },
      "cell_type": "code",
      "source": [
        "learn = language_model_learner(data_lm,AWD_LSTM,drop_mult=0.3)\n"
      ],
      "execution_count": 0,
      "outputs": []
    },
    {
      "metadata": {
        "id": "lEGLP6XCGEzn",
        "colab_type": "text"
      },
      "cell_type": "markdown",
      "source": [
        "But instead of creating a CNN learner, we're going to create a language model learner. So behind the scenes, this is actually not going to create a CNN (a convolutional neural network), it's going to create an RNN (a recurrent neural network). We're going to be learning exactly how they're built over the coming lessons, but in short they're the same basic structure. The input goes into a weight matrix (i.e. a matrix multiply), that then you replace the negatives with zeros, and it goes into another matrix multiply, and so forth a bunch of times. So it's the same basic structure.\n",
        "\n",
        "As usual, when we create a learner, you have to pass in two things:\n",
        "\n",
        "- The data: so here's our language model data\n",
        "- What pre-trained model we want to use: here, the pre-trained model is the Wikitext 103 model (arch= AWD_LSTM) that will be downloaded for you from fastai if you haven't used it before just like ImageNet pre-trained models are downloaded for you.\n",
        "This here (drop_mult=0.3) sets the amount of dropout. We haven't talked about that yet. We've talked briefly about this idea that there is something called regularization and you can reduce the regularization to avoid underfitting. So for now, just know that by using a number lower than one is because when I first tried to run this, I was under fitting. So if you reduced that number, then it will avoid under fitting."
      ]
    },
    {
      "metadata": {
        "id": "tuhLWeoDFyPT",
        "colab_type": "code",
        "outputId": "e2a3d4a6-a27c-47fd-e01f-b5473a9f5850",
        "colab": {
          "base_uri": "https://localhost:8080/",
          "height": 34
        }
      },
      "cell_type": "code",
      "source": [
        "learn.lr_find()"
      ],
      "execution_count": 0,
      "outputs": [
        {
          "output_type": "display_data",
          "data": {
            "text/html": [
              ""
            ],
            "text/plain": [
              "<IPython.core.display.HTML object>"
            ]
          },
          "metadata": {
            "tags": []
          }
        },
        {
          "output_type": "stream",
          "text": [
            "LR Finder is complete, type {learner_name}.recorder.plot() to see the graph.\n"
          ],
          "name": "stdout"
        }
      ]
    },
    {
      "metadata": {
        "id": "EztPy4I5HdEF",
        "colab_type": "code",
        "colab": {}
      },
      "cell_type": "code",
      "source": [
        "#??language_model_learner\n"
      ],
      "execution_count": 0,
      "outputs": []
    },
    {
      "metadata": {
        "id": "cY575KS_MFWk",
        "colab_type": "text"
      },
      "cell_type": "markdown",
      "source": [
        "\n",
        "\n",
        "```\n",
        "def language_model_learner(data:DataBunch, arch, config:dict=None, drop_mult:float=1., pretrained:bool=True,\n",
        "                           pretrained_fnames:OptStrTuple=None, **learn_kwargs) -> 'LanguageLearner':\n",
        "    \"Create a `Learner` with a language model from `data` and `arch`.\"\n",
        "    model = get_language_model(arch, len(data.vocab.itos), config=config, drop_mult=drop_mult)\n",
        "    meta = _model_meta[arch]\n",
        "    learn = LanguageLearner(data, model, split_func=meta['split_lm'], **learn_kwargs)\n",
        "    if pretrained:\n",
        "        if 'url' not in meta: \n",
        "            warn(\"There are no pretrained weights for that architecture yet!\")\n",
        "            return learn\n",
        "        model_path = untar_data(meta['url'], data=False)\n",
        "        fnames = [list(model_path.glob(f'*.{ext}'))[0] for ext in ['pth', 'pkl']]\n",
        "        learn.load_pretrained(*fnames)\n",
        "        learn.freeze()\n",
        "    if pretrained_fnames is not None:\n",
        "        fnames = [learn.path/learn.model_dir/f'{fn}.{ext}' for fn,ext in zip(pretrained_fnames, ['pth', 'pkl'])]\n",
        "        learn.load_pretrained(*fnames)\n",
        "        learn.freeze()\n",
        "    return learn\n",
        "```\n",
        "\n"
      ]
    },
    {
      "metadata": {
        "id": "xeLF0aZ6GDpy",
        "colab_type": "code",
        "colab": {}
      },
      "cell_type": "code",
      "source": [
        "#??AWD_LSTM\n"
      ],
      "execution_count": 0,
      "outputs": []
    },
    {
      "metadata": {
        "id": "lq_NG4lZMQVr",
        "colab_type": "text"
      },
      "cell_type": "markdown",
      "source": [
        "\n",
        "\n",
        "```\n",
        "class AWD_LSTM(nn.Module):\n",
        "    \"AWD-LSTM/QRNN inspired by https://arxiv.org/abs/1708.02182.\"\n",
        "\n",
        "    initrange=0.1\n",
        "\n",
        "    def __init__(self, vocab_sz:int, emb_sz:int, n_hid:int, n_layers:int, pad_token:int=1, hidden_p:float=0.2,\n",
        "                 input_p:float=0.6, embed_p:float=0.1, weight_p:float=0.5, qrnn:bool=False, bidir:bool=False):\n",
        "        super().__init__()\n",
        "        self.bs,self.qrnn,self.emb_sz,self.n_hid,self.n_layers = 1,qrnn,emb_sz,n_hid,n_layers\n",
        "        self.n_dir = 2 if bidir else 1\n",
        "        self.encoder = nn.Embedding(vocab_sz, emb_sz, padding_idx=pad_token)\n",
        "        self.encoder_dp = EmbeddingDropout(self.encoder, embed_p)\n",
        "        if self.qrnn:\n",
        "            #Using QRNN requires an installation of cuda\n",
        "            from .qrnn import QRNN\n",
        "            self.rnns = [QRNN(emb_sz if l == 0 else n_hid, n_hid if l != n_layers - 1 else emb_sz, 1,\n",
        "                              save_prev_x=True, zoneout=0, window=2 if l == 0 else 1, output_gate=True) \n",
        "                         for l in range(n_layers)]\n",
        "            for rnn in self.rnns: \n",
        "                rnn.layers[0].linear = WeightDropout(rnn.layers[0].linear, weight_p, layer_names=['weight'])\n",
        "        else:\n",
        "            self.rnns = [nn.LSTM(emb_sz if l == 0 else n_hid, (n_hid if l != n_layers - 1 else emb_sz)//self.n_dir, 1,\n",
        "                                 batch_first=True, bidirectional=bidir) for l in range(n_layers)]\n",
        "            self.rnns = [WeightDropout(rnn, weight_p) for rnn in self.rnns]\n",
        "        self.rnns = nn.ModuleList(self.rnns)\n",
        "        self.encoder.weight.data.uniform_(-self.initrange, self.initrange)\n",
        "        self.input_dp = RNNDropout(input_p)\n",
        "        self.hidden_dps = nn.ModuleList([RNNDropout(hidden_p) for l in range(n_layers)])\n",
        "\n",
        "    def forward(self, input:Tensor, from_embeddings:bool=False)->Tuple[Tensor,Tensor]:\n",
        "        if from_embeddings: bs,sl,es = input.size()\n",
        "        else: bs,sl = input.size()\n",
        "        if bs!=self.bs:\n",
        "            self.bs=bs\n",
        "            self.reset()\n",
        "        raw_output = self.input_dp(input if from_embeddings else self.encoder_dp(input))\n",
        "        new_hidden,raw_outputs,outputs = [],[],[]\n",
        "        for l, (rnn,hid_dp) in enumerate(zip(self.rnns, self.hidden_dps)):\n",
        "            raw_output, new_h = rnn(raw_output, self.hidden[l])\n",
        "            new_hidden.append(new_h)\n",
        "            raw_outputs.append(raw_output)\n",
        "            if l != self.n_layers - 1: raw_output = hid_dp(raw_output)\n",
        "            outputs.append(raw_output)\n",
        "        self.hidden = to_detach(new_hidden, cpu=False)\n",
        "        return raw_outputs, outputs\n",
        "\n",
        "    def _one_hidden(self, l:int)->Tensor:\n",
        "        \"Return one hidden state.\"\n",
        "        nh = (self.n_hid if l != self.n_layers - 1 else self.emb_sz) // self.n_dir\n",
        "        return one_param(self).new(1, self.bs, nh).zero_()\n",
        "\n",
        "    def select_hidden(self, idxs):\n",
        "        if self.qrnn: self.hidden = [h[:,idxs,:] for h in self.hidden]\n",
        "        else: self.hidden = [(h[0][:,idxs,:],h[1][:,idxs,:]) for h in self.hidden]\n",
        "        self.bs = len(idxs)\n",
        "\n",
        "    def reset(self):\n",
        "        \"Reset the hidden states.\"\n",
        "        [r.reset() for r in self.rnns if hasattr(r, 'reset')]\n",
        "        if self.qrnn: self.hidden = [self._one_hidden(l) for l in range(self.n_layers)]\n",
        "        else: self.hidden = [(self._one_hidden(l), self._one_hidden(l)) for l in range(self.n_layers)]\n",
        "```\n",
        "\n"
      ]
    },
    {
      "metadata": {
        "id": "KW2Yoav8GqZp",
        "colab_type": "code",
        "outputId": "46c35f06-0498-4cd8-830e-7db901e693b4",
        "colab": {
          "base_uri": "https://localhost:8080/",
          "height": 282
        }
      },
      "cell_type": "code",
      "source": [
        "learn.recorder.plot(skip_end=15)"
      ],
      "execution_count": 0,
      "outputs": [
        {
          "output_type": "display_data",
          "data": {
            "image/png": "[encoded data removed]",
            "text/plain": [
              "<Figure size 432x288 with 1 Axes>"
            ]
          },
          "metadata": {
            "tags": []
          }
        }
      ]
    },
    {
      "metadata": {
        "id": "GEWM-aeUIydq",
        "colab_type": "text"
      },
      "cell_type": "markdown",
      "source": [
        "Then we can fit one cycle."
      ]
    },
    {
      "metadata": {
        "id": "eW3tc0DZIdsM",
        "colab_type": "code",
        "outputId": "4719eddd-d4b5-44f2-bc8a-9e01ef351e0d",
        "colab": {
          "base_uri": "https://localhost:8080/",
          "height": 77
        }
      },
      "cell_type": "code",
      "source": [
        "learn.fit_one_cycle(1,1e-2,moms=(0.8,0.7))"
      ],
      "execution_count": 0,
      "outputs": [
        {
          "output_type": "display_data",
          "data": {
            "text/html": [
              "<table border=\"1\" class=\"dataframe\">\n",
              "  <thead>\n",
              "    <tr style=\"text-align: left;\">\n",
              "      <th>epoch</th>\n",
              "      <th>train_loss</th>\n",
              "      <th>valid_loss</th>\n",
              "      <th>accuracy</th>\n",
              "      <th>time</th>\n",
              "    </tr>\n",
              "  </thead>\n",
              "  <tbody>\n",
              "    <tr>\n",
              "      <td>0</td>\n",
              "      <td>4.185115</td>\n",
              "      <td>4.040494</td>\n",
              "      <td>0.293801</td>\n",
              "      <td>20:37</td>\n",
              "    </tr>\n",
              "  </tbody>\n",
              "</table>"
            ],
            "text/plain": [
              "<IPython.core.display.HTML object>"
            ]
          },
          "metadata": {
            "tags": []
          }
        }
      ]
    },
    {
      "metadata": {
        "id": "LCmOQLBQI-TB",
        "colab_type": "code",
        "colab": {}
      },
      "cell_type": "code",
      "source": [
        "learn.save('fit_head')"
      ],
      "execution_count": 0,
      "outputs": []
    },
    {
      "metadata": {
        "id": "uPJcrlIxI5Zd",
        "colab_type": "code",
        "outputId": "685b6aa1-198c-4616-81f0-63876a7543bb",
        "colab": {
          "base_uri": "https://localhost:8080/",
          "height": 4196
        }
      },
      "cell_type": "code",
      "source": [
        "learn.load('fit_head')"
      ],
      "execution_count": 0,
      "outputs": [
        {
          "output_type": "execute_result",
          "data": {
            "text/plain": [
              "RNNLearner(data=TextClasDataBunch;\n",
              "\n",
              "Train: LabelList (25000 items)\n",
              "x: TextList\n",
              "xxbos xxup ok this movie had a terrible premise . xxmaj be serious according to the movie they had just been through an apocalyptic war yet they have money to buy huge robots and pit them against each other . xxmaj each country decides instead of investing into rebuilding their country they would rather fight with robots no one could afford . xxmaj here 's a better idea , lets rely on our most inept resource , jocks , to fight our battles . \n",
              " \n",
              "  xxmaj everyone says what about the director , what about him . xxmaj he makes a good movie , he makes a bad movie . xxmaj there is no reason to give this movie some credit just because of the director , maybe he was asleep ? i thoroughly enjoyed this movie , because it was so cheesy and ridiculous i had to laugh . i actually had a good time watching it , well except for the cowboy mentor who turns out to be an xxunk me no one would see this guy as an assassin , so it is a surprise , however lame ) xxmaj what kind of training exercise is a jungle jim anyway . i was sad to see xxmaj mst3k had not done this one . i am giving a two star rating however because nothing could be as bad as \" manos the hands of fate . \" \n",
              " \n",
              "  xxmaj the budget does not matter either , i have seen plenty of reasonable movies that had nothing for budgets like cube . xxmaj the storyline was not even plausible and i have seen better acting in school plays . xxmaj surly they could have afforded an eleven year old from any middle school play . \n",
              " \n",
              "  xxmaj anyway pick it up , it is a fun movie to watch .,xxbos i saw \" xxmaj rachel 's xxmaj attic , \" thinking that i would be in for an enjoyably visceral , ride . xxmaj however , it was not to be the case . xxmaj visceral , yes , but enjoyable ? xxmaj that would be a big , fat , no ! xxmaj in fact , the only reason that i gave it a \" 3 , \" is due to the fact that xxmaj gunnar xxmaj hansen appears ( ever so briefly ) as one of the film 's reprehensible characters . xxmaj how they ever lured xxmaj mr. xxmaj hansen into this piece of ... work , i 'll never know . xxmaj the story idea is interesting but poorly executed . xxmaj the direction is pedestrian and the acting is mediocre . xxmaj the only thing that is worse than that , are the special effects . xxup yikes ! ! ! i 've seen better effects in a grade school play . xxmaj give it up , xxmaj mr. w , it 's time for a career change ... i hear they 're hiring at xxmaj mel 's xxmaj diner ! xxmaj there are very few , well made , xxmaj xxunk movies coming out of xxmaj michigan ... and \" xxmaj rachel 's xxmaj attic \" is n't one of them .,xxbos i 'm actually watching this film as i write this . . . xxmaj if the following comments \" prove my lack of development as a true , artistic film maker \" , then so be it . . . \n",
              " \n",
              "  xxmaj but . . . i thought ( am still thinking as i 'm presently viewing ) that this film . . . to put it mildly , is very , very overrated . xxmaj again , very . \n",
              " \n",
              "  xxmaj it looks like a really , really bad student film done by a someone with beyond extremely limited resources . . . and who did n't pay that much attention to detail . \n",
              " \n",
              "  i do n't want to go on and on regarding all the different ways that i find this film lacking , but . . . well . . . i just do n't get it ( rememeber , i fully admit that maybe it 's xxup me that 's the idiot here - not the film maker - for not getting this \" piece of imaginative genius \" ) . . . i rented this on a whim because the reviews were very , very outstanding . . . \n",
              " \n",
              "  xxmaj sheesh . . .,xxbos xxmaj from the start this film was awful ! xxmaj why was it that bad ? ? xxmaj if it is n't the naked women , not only in need of a decent plastic surgeon but also the expertise of a dentist followed by a free hand out of xxmaj xxunk xxunk ! ! xxmaj then it 's the ' crazy ' old guy at the gas station , who is n't so much crazy , but more \" i 'm not sure how to act a great deal so i will stare straight ahead and look as stupid as i can while pretending to shout in robotic tones about something in the woods \" ! ! xxmaj then back to these naked nymphs in need of a cure for xxunk xxrep 4 . apparently , without touching you ... and this is according to the opening scene xxrep 4 . they can cause a nasty looking red rash on your neck , which i assumed to be a chunk of flesh missing but just looks as though it could do with some xxup xxunk to clear it right up . xxmaj then you have xxmaj sophie xxmaj holland who plays xxmaj ally , i have never seen such b xxrep 6 a d acting , she is more of a \" me me me , if i 'm not having fun no - one else is , and i do n't wanna do this so i wo n't , and i 'm the meanest cow on the planet , i 'm sarcastic , petty and if i do n't get things my way i will sulk ! \" , kind of person xxrep 4 . reminds me more of a 6 yr old girl 's attitude . i do n't think it 's even worth mentioning the dire camera angles that remind me of xxmaj blair xxmaj witch , or how low - budget the film actually was that when xxmaj judd was hacking at the ' locked ' door it was in fact open before he reached to unlock it from the other side ! ! xxmaj this film is completely laughable ! xxmaj if it were a spoof then it would have been successful ... only just though , but , as a horror film is was just plain wrong ! ! ! i ca n't even being to describe everything that went xxunk up in this movie i would run out of room ! xxmaj although it was funny to watch xxmaj andrew drip raspberry juice in his ear every time he opened his mouth while xxmaj tom xxmaj savini 's character was completely blind to the two hiding under the table directly in his line of vision ! ! xxmaj it was even funnier when these two thought they could escape on a god damn tractor , which as we all know is thee number one hated vehicle to get stuck behind since its so god damn slow ! xxmaj so is it any wonder they do n't get away with it ? ? xxmaj and how many people do you know that can slice open their wrist and then run around for hours as if nothing ever happened ! xxmaj no pain , no weakening from blood loss , nothing ! ? xxmaj but the silliest part is when all of a sudden ( and i mean that literally ) it 's one xxup year later and xxmaj molly is still wandering the woods after having escaped the nymphs , and then lo and behold , xxmaj shaun xxmaj hutson picks her up ... of course not without a line to promote his books ! ! ( altho admittedly he is one of my fav authors ) but suddenly , and with absolutely no hint of an xxunk as to how and why ... she 's evil herself and lures xxmaj hutson to his death , then we cut to the crazy dude from the beginning suddenly wandering round the woods with a petrol can , even after his ' dazzling ' performance on why no - one should ever venture there for whatever reason ... cue the nymphs stupidly xxunk each other around a bit for fun while xxmaj crazy pours petrol everywhere xxrep 4 . and here endeth the film xxrep 4 . finally ! xxmaj my conclusion xxrep 4 . if you had n't already guessed by now xxrep 4 . absolute rubbish ! xxmaj there was no proper thought went into it at all , whoever was aiming the camera needed firing ... and come to think of it so did 99 % of the cast ! xxmaj if the right director , actors , and budget got behind this it could have been decent . xxmaj but , once again , low - budget xxmaj english horror films but the rest of the genre , the country , and the xxmaj english film - making industry to shame ! ! ( xxmaj and i 'm xxmaj english so i 'm allowed to say that ) ! xxmaj in fact the only decent and exciting part of the movie is in the first 15 - 20 mins when we watch it turn from night to day over a field type area . xxmaj all i kept thinking throughout this was \" xxmaj jesus xxmaj christ in heaven why oh why did you allow someone to make this , its absolute cow 's testicles ! ! \" xxmaj but i ca n't turn a film off after i 've started watching it unfortunately . i had to watch xxmaj from xxmaj dusk xxmaj til xxmaj dawn afterwards just to remind myself that xxmaj tom xxmaj savini does have it in him to act well ! xxmaj if there was an option for 0 / 10 then believe me i woulda chose that , cuz this film is n't even worth the one point i did give it ! \n",
              " \n",
              "  xxmaj but this is just my opinion , watch it and decide for yourself .,xxbos i did n't think this was as absolutely horrible as some people apparently do . xxmaj it passes as one of those cheesy horror movies you might waste time with in the middle of the night when you ca n't sleep , although admittedly it 's no better quality than that . xxmaj it 's true that the acting is n't great - i thought xxmaj marianne mcandrew as xxmaj cathy xxmaj beck , for example , came across as completely passionless - but the main problem is that several aspects of the plot did n't really make sense to me . xxmaj the xxmaj becks are on a trip described by xxmaj john ( xxmaj stewart xxmaj moss ) as part work and partly the honeymoon they never had ( now that 's romantic ! ) xxmaj the work part has something to do with touring caves , which in itself sounds strange ( how does being part of a tour group through a cave relate to anyone 's work ? ) but it gets stranger when we find out that he 's a doctor doing research in the area of xxunk medicine ( huh ? xxmaj that connection completely lost me . ) xxmaj bitten by a bat while he 's in the cave , he begins to transform into what i guess was supposed to be a human - bat hybrid ( although when we finally see him in makeup he looks a lot more like an ape - man of some sort ) and a killing spree starts . xxmaj here 's another problem . xxmaj the first killing is a nurse in a hospital . xxmaj at first , everyone thinks her death was an accident . xxmaj the second murder is of a young girl , who is described as having her throat ripped out . xxmaj the sheriff ( xxmaj michael xxmaj pataki ) then tells us that her death was similar to the nurse 's ( meaning throat ripped out ? - xxmaj how could anyone think that was an accident ? ) xxmaj and what 's with the sheriff ? xxmaj he seems pretty no - nonsense until the scene in xxmaj cathy 's hotel room when he takes a swig of liquor and then almost rapes her , after which everything seems to go back to normal . xxmaj it 's saddled with an ending that left almost everything unresolved , and also with one of the most irritating theme songs i 've ever heard in a movie . xxmaj even for all that , there was something here that kept me watching . xxmaj sometimes pure cheesiness can get you through an hour and a half . xxmaj pretty bad , yeah - but not as awful as some people say .\n",
              "y: CategoryList\n",
              "neg,neg,neg,neg,neg\n",
              "Path: /root/.fastai/data/imdb;\n",
              "\n",
              "Valid: LabelList (25000 items)\n",
              "x: TextList\n",
              "xxbos * * xxmaj may xxmaj contain xxmaj spoilers * * \n",
              " \n",
              "  xxmaj the main character , a nobleman named xxmaj fallon , is stranded on an island with characters so looney and lethal he might have been better off drowning . xxmaj count xxmaj xxunk de xxmaj sade ( pronounced \" dee - xxunk \" ) talks to his own hallucinations and sees all intruders on the island as invading pirates . xxmaj he routinely beats mute servant xxmaj anne and tortures his unwilling guests in the dungeon . xxmaj xxunk laughs are provided by giant \" xxmaj xxunk \" slave xxmaj mantis who talks with a xxmaj deep xxmaj south accent and helps de xxmaj sade hunt down trespassers in the style of xxup the xxup most xxup dangerous xxup game . xxmaj de xxmaj sade 's crazed wife , ravaged by leprosy , provides some truly scary moments as she prowls the dungeon and embraces a helplessly chained prisoner . ( xxmaj this scene was viewed on late - night xxup tv by many kids who carried the memory into adulthood . ) xxmaj the one nearly - normal person in sight is xxmaj cassandra , who has self - deprecation down to a science . ( \" i used to be a nurse , now i 'm not much of anything . \" ) xxmaj she and xxmaj fallon plan their escape and ultimately encounter an enemy more fearsome than de xxmaj sade and xxmaj mantis combined . \n",
              " \n",
              " \t xxmaj this movie was shot in xxmaj san xxmaj antonio and directed by a man more competent at drawing horror comics than making horror movies . ( i 'll say this much for xxmaj mr. xxmaj boyette -- he does showcase his xxunk with contagion here , as he did in his comics . ) xxmaj it 's rather like an xxmaj andy xxmaj milligan melodrama minus the meat cleavers . xxmaj the period wardrobe , library music , abuse of the handicapped and all - around misanthropy makes one wonder if xxmaj andy was n't called in as a consultant . xxmaj however , xxmaj milligan made better costumes and wrote better dialogue . xxmaj technical gaffes are too numerous to list here but you know this flick is in trouble when you see the opening shipwreck , which looks like it was shot in a fish tank . xxmaj also , a film made in xxmaj texas should have had real spiders and snakes rather than rubber ones . xxmaj glorious xxmaj xxunk gives this melodrama the garish look it so richly deserves . xxmaj fallon 's initial encounter with the leprous xxmaj countess is truly horrifying , as is the movie 's parting shot . xxmaj if the rest had been half as harrowing , xxup the xxup dungeon xxup of xxup harrow would have been a terror classic . xxmaj instead it 's a funny piece of schlock that trash - fiends will love , for all the wrong reasons .,xxbos i can find no redeeming value to this movie . xxmaj it appears to be loosely based on the xxmaj lion xxmaj king school of thought . xxmaj father gets killed , son ca n't fill the shoes and tries to run away , etc , etc , etc . xxmaj the only difference ( other than being in a barnyard instead of a jungle ) is that xxmaj barnyard tries to \" liven things up \" with club - type music . xxmaj they go way over the top in trying to be cool . xxmaj the problem is that it really is n't cool . xxmaj it 's like \" that guy \" . xxmaj everybody knows at least one of \" those guys \" who are older and still hang out with the younger crowd in a futile attempt to cling onto their youth . xxmaj they try to be cool to fit in but they really are n't . xxmaj that 's this movie . \n",
              " \n",
              "  xxmaj but hey , if you have money to burn and you feel like paying someone to suck 90 minutes of you life away , by all means do n't let me stop you .,xxbos xxmaj produced by xxmaj nott xxmaj entertainment , this movie is \" nott \" very good at all . i sat through the first 15 minutes of the film before judging that the acting is bad , the casting is bad and camera work is bad . xxmaj as i hear that there is a download of this film floating around on the internet , it is \" nott \" even worth the bandwidth . \n",
              " \n",
              "  xxmaj up until the time i wrote this review , the average vote for this movie was an 8.5 , which prompted me to view it and there was an average high majority of 10 's for it , obviously voted on by liars and shills . xxmaj this movie is \" nott \" for everyone . xxmaj or parents , if you want to punish your kids with this awful film , have them sit through this one for xxmaj halloween .,xxbos xxmaj everyone knows that late night movies are n't xxmaj oscar contenders . xxmaj fine . i mean i 'll admit that i was a bit tipsy and bored and figured i 'd get to some skin - a - max . xxmaj it 's pretty bad when the info on the xxup tv guide channel makes fun of the movie in the description . xxmaj it even gave it half a star . xxmaj to be fair , i did sit throw the whole thing cause man it was s xxrep 10 o bad . i could n't stop laughing . i mean the words coming out of these people mouth and how they were trying to be serious . xxmaj most of the time i think the people on the screen were trying their hardest to not to laugh . xxmaj in fact i think in one scene they did laugh . xxmaj anyways the movie did n't make sense . xxmaj it was like that one xxmaj sopranos episode with the fat gay guy . xxmaj only the xxmaj sopranos is great show . xxmaj but it was terrible , i mean , no nudity , just sex scenes out of the 90 's . xxmaj you know the kind that use shadows and silhouettes instead of flesh . i gave it a two cause this flick makes for a good drinking game movie . i mean with all the cheese , it helps to get the wine out . xxmaj if its late at night , and all that is on xxup tv is this and that xxmaj tony xxmaj little guy and his exercise bike , then i suggest xxmaj tony xxmaj little .,xxbos xxmaj after watching the xxmaj steven xxmaj spielberg version of xxmaj war xxmaj of xxmaj the xxmaj worlds in theaters , i was hooked on the topic . i could think back to my favorite parts in the movie , people getting vaporized , people panicking , fire , explosions , it was all so great ... \n",
              " \n",
              "  xxmaj so a few weeks later i enter my video store , and i see xxmaj david xxmaj michael xxmaj latt 's version of xxmaj war xxmaj of xxmaj the xxmaj worlds on the shelf . \" xxmaj it could n't have come onto xxup dvd , that fast , could it ? \" i said to myself . i read the back of the case and saw xxup c. xxmaj thomas xxmaj howell , instead . \" xxmaj oh , i remember him from xxmaj the xxmaj outsiders ! \" xxmaj so i thought , it might have been a try . \n",
              " \n",
              "  i was wrong , dead wrong . xxmaj as soon as i watched the opening credits , watched them take forever , i knew something was wrong . xxmaj something was going to disappoint me in this film and it did . xxmaj the whole movie stunk like a cheese sauce that was left in the fridge for 10 years . xxmaj from the acting , the special effects ( stupid looking tripod things , when people get vaporized they turn into orange skeletons ) , and most of all , it did n't even come close to being as interesting as the xxmaj spielberg version , in fact , the plot was boring , and there were only 3 scenes of destruction ! xxmaj what the crap ? i ended up being so bored , that i had to fast forward through the movie until i found something that looked even remotely interesting . xxmaj and nothing was really . \n",
              " \n",
              "  xxmaj my advice : xxmaj do n't even touch this movie , stay 100 feet away from it . xxmaj the xxmaj spielberg version is coming out near the end of this month , buy that one ! xxmaj but please , please , i beg of you ! xxmaj stay away from this turd before it smothers us all !\n",
              "y: CategoryList\n",
              "neg,neg,neg,neg,neg\n",
              "Path: /root/.fastai/data/imdb;\n",
              "\n",
              "Test: None, model=SequentialRNN(\n",
              "  (0): MultiBatchEncoder(\n",
              "    (module): AWD_LSTM(\n",
              "      (encoder): Embedding(49855, 400, padding_idx=1)\n",
              "      (encoder_dp): EmbeddingDropout(\n",
              "        (emb): Embedding(49855, 400, padding_idx=1)\n",
              "      )\n",
              "      (rnns): ModuleList(\n",
              "        (0): WeightDropout(\n",
              "          (module): LSTM(400, 1150, batch_first=True)\n",
              "        )\n",
              "        (1): WeightDropout(\n",
              "          (module): LSTM(1150, 1150, batch_first=True)\n",
              "        )\n",
              "        (2): WeightDropout(\n",
              "          (module): LSTM(1150, 400, batch_first=True)\n",
              "        )\n",
              "      )\n",
              "      (input_dp): RNNDropout()\n",
              "      (hidden_dps): ModuleList(\n",
              "        (0): RNNDropout()\n",
              "        (1): RNNDropout()\n",
              "        (2): RNNDropout()\n",
              "      )\n",
              "    )\n",
              "  )\n",
              "  (1): PoolingLinearClassifier(\n",
              "    (layers): Sequential(\n",
              "      (0): BatchNorm1d(1200, eps=1e-05, momentum=0.1, affine=True, track_running_stats=True)\n",
              "      (1): Dropout(p=0.2)\n",
              "      (2): Linear(in_features=1200, out_features=50, bias=True)\n",
              "      (3): ReLU(inplace)\n",
              "      (4): BatchNorm1d(50, eps=1e-05, momentum=0.1, affine=True, track_running_stats=True)\n",
              "      (5): Dropout(p=0.1)\n",
              "      (6): Linear(in_features=50, out_features=2, bias=True)\n",
              "    )\n",
              "  )\n",
              "), opt_func=functools.partial(<class 'torch.optim.adam.Adam'>, betas=(0.9, 0.99)), loss_func=FlattenedLoss of CrossEntropyLoss(), metrics=[<function accuracy at 0x7f05e1643b70>], true_wd=True, bn_wd=True, wd=0.01, train_bn=True, path=PosixPath('/root/.fastai/data/imdb'), model_dir='models', callback_fns=[functools.partial(<class 'fastai.basic_train.Recorder'>, add_time=True)], callbacks=[RNNTrainer\n",
              "learn: RNNLearner(data=TextClasDataBunch;\n",
              "\n",
              "Train: LabelList (25000 items)\n",
              "x: TextList\n",
              "xxbos xxup ok this movie had a terrible premise . xxmaj be serious according to the movie they had just been through an apocalyptic war yet they have money to buy huge robots and pit them against each other . xxmaj each country decides instead of investing into rebuilding their country they would rather fight with robots no one could afford . xxmaj here 's a better idea , lets rely on our most inept resource , jocks , to fight our battles . \n",
              " \n",
              "  xxmaj everyone says what about the director , what about him . xxmaj he makes a good movie , he makes a bad movie . xxmaj there is no reason to give this movie some credit just because of the director , maybe he was asleep ? i thoroughly enjoyed this movie , because it was so cheesy and ridiculous i had to laugh . i actually had a good time watching it , well except for the cowboy mentor who turns out to be an xxunk me no one would see this guy as an assassin , so it is a surprise , however lame ) xxmaj what kind of training exercise is a jungle jim anyway . i was sad to see xxmaj mst3k had not done this one . i am giving a two star rating however because nothing could be as bad as \" manos the hands of fate . \" \n",
              " \n",
              "  xxmaj the budget does not matter either , i have seen plenty of reasonable movies that had nothing for budgets like cube . xxmaj the storyline was not even plausible and i have seen better acting in school plays . xxmaj surly they could have afforded an eleven year old from any middle school play . \n",
              " \n",
              "  xxmaj anyway pick it up , it is a fun movie to watch .,xxbos i saw \" xxmaj rachel 's xxmaj attic , \" thinking that i would be in for an enjoyably visceral , ride . xxmaj however , it was not to be the case . xxmaj visceral , yes , but enjoyable ? xxmaj that would be a big , fat , no ! xxmaj in fact , the only reason that i gave it a \" 3 , \" is due to the fact that xxmaj gunnar xxmaj hansen appears ( ever so briefly ) as one of the film 's reprehensible characters . xxmaj how they ever lured xxmaj mr. xxmaj hansen into this piece of ... work , i 'll never know . xxmaj the story idea is interesting but poorly executed . xxmaj the direction is pedestrian and the acting is mediocre . xxmaj the only thing that is worse than that , are the special effects . xxup yikes ! ! ! i 've seen better effects in a grade school play . xxmaj give it up , xxmaj mr. w , it 's time for a career change ... i hear they 're hiring at xxmaj mel 's xxmaj diner ! xxmaj there are very few , well made , xxmaj xxunk movies coming out of xxmaj michigan ... and \" xxmaj rachel 's xxmaj attic \" is n't one of them .,xxbos i 'm actually watching this film as i write this . . . xxmaj if the following comments \" prove my lack of development as a true , artistic film maker \" , then so be it . . . \n",
              " \n",
              "  xxmaj but . . . i thought ( am still thinking as i 'm presently viewing ) that this film . . . to put it mildly , is very , very overrated . xxmaj again , very . \n",
              " \n",
              "  xxmaj it looks like a really , really bad student film done by a someone with beyond extremely limited resources . . . and who did n't pay that much attention to detail . \n",
              " \n",
              "  i do n't want to go on and on regarding all the different ways that i find this film lacking , but . . . well . . . i just do n't get it ( rememeber , i fully admit that maybe it 's xxup me that 's the idiot here - not the film maker - for not getting this \" piece of imaginative genius \" ) . . . i rented this on a whim because the reviews were very , very outstanding . . . \n",
              " \n",
              "  xxmaj sheesh . . .,xxbos xxmaj from the start this film was awful ! xxmaj why was it that bad ? ? xxmaj if it is n't the naked women , not only in need of a decent plastic surgeon but also the expertise of a dentist followed by a free hand out of xxmaj xxunk xxunk ! ! xxmaj then it 's the ' crazy ' old guy at the gas station , who is n't so much crazy , but more \" i 'm not sure how to act a great deal so i will stare straight ahead and look as stupid as i can while pretending to shout in robotic tones about something in the woods \" ! ! xxmaj then back to these naked nymphs in need of a cure for xxunk xxrep 4 . apparently , without touching you ... and this is according to the opening scene xxrep 4 . they can cause a nasty looking red rash on your neck , which i assumed to be a chunk of flesh missing but just looks as though it could do with some xxup xxunk to clear it right up . xxmaj then you have xxmaj sophie xxmaj holland who plays xxmaj ally , i have never seen such b xxrep 6 a d acting , she is more of a \" me me me , if i 'm not having fun no - one else is , and i do n't wanna do this so i wo n't , and i 'm the meanest cow on the planet , i 'm sarcastic , petty and if i do n't get things my way i will sulk ! \" , kind of person xxrep 4 . reminds me more of a 6 yr old girl 's attitude . i do n't think it 's even worth mentioning the dire camera angles that remind me of xxmaj blair xxmaj witch , or how low - budget the film actually was that when xxmaj judd was hacking at the ' locked ' door it was in fact open before he reached to unlock it from the other side ! ! xxmaj this film is completely laughable ! xxmaj if it were a spoof then it would have been successful ... only just though , but , as a horror film is was just plain wrong ! ! ! i ca n't even being to describe everything that went xxunk up in this movie i would run out of room ! xxmaj although it was funny to watch xxmaj andrew drip raspberry juice in his ear every time he opened his mouth while xxmaj tom xxmaj savini 's character was completely blind to the two hiding under the table directly in his line of vision ! ! xxmaj it was even funnier when these two thought they could escape on a god damn tractor , which as we all know is thee number one hated vehicle to get stuck behind since its so god damn slow ! xxmaj so is it any wonder they do n't get away with it ? ? xxmaj and how many people do you know that can slice open their wrist and then run around for hours as if nothing ever happened ! xxmaj no pain , no weakening from blood loss , nothing ! ? xxmaj but the silliest part is when all of a sudden ( and i mean that literally ) it 's one xxup year later and xxmaj molly is still wandering the woods after having escaped the nymphs , and then lo and behold , xxmaj shaun xxmaj hutson picks her up ... of course not without a line to promote his books ! ! ( altho admittedly he is one of my fav authors ) but suddenly , and with absolutely no hint of an xxunk as to how and why ... she 's evil herself and lures xxmaj hutson to his death , then we cut to the crazy dude from the beginning suddenly wandering round the woods with a petrol can , even after his ' dazzling ' performance on why no - one should ever venture there for whatever reason ... cue the nymphs stupidly xxunk each other around a bit for fun while xxmaj crazy pours petrol everywhere xxrep 4 . and here endeth the film xxrep 4 . finally ! xxmaj my conclusion xxrep 4 . if you had n't already guessed by now xxrep 4 . absolute rubbish ! xxmaj there was no proper thought went into it at all , whoever was aiming the camera needed firing ... and come to think of it so did 99 % of the cast ! xxmaj if the right director , actors , and budget got behind this it could have been decent . xxmaj but , once again , low - budget xxmaj english horror films but the rest of the genre , the country , and the xxmaj english film - making industry to shame ! ! ( xxmaj and i 'm xxmaj english so i 'm allowed to say that ) ! xxmaj in fact the only decent and exciting part of the movie is in the first 15 - 20 mins when we watch it turn from night to day over a field type area . xxmaj all i kept thinking throughout this was \" xxmaj jesus xxmaj christ in heaven why oh why did you allow someone to make this , its absolute cow 's testicles ! ! \" xxmaj but i ca n't turn a film off after i 've started watching it unfortunately . i had to watch xxmaj from xxmaj dusk xxmaj til xxmaj dawn afterwards just to remind myself that xxmaj tom xxmaj savini does have it in him to act well ! xxmaj if there was an option for 0 / 10 then believe me i woulda chose that , cuz this film is n't even worth the one point i did give it ! \n",
              " \n",
              "  xxmaj but this is just my opinion , watch it and decide for yourself .,xxbos i did n't think this was as absolutely horrible as some people apparently do . xxmaj it passes as one of those cheesy horror movies you might waste time with in the middle of the night when you ca n't sleep , although admittedly it 's no better quality than that . xxmaj it 's true that the acting is n't great - i thought xxmaj marianne mcandrew as xxmaj cathy xxmaj beck , for example , came across as completely passionless - but the main problem is that several aspects of the plot did n't really make sense to me . xxmaj the xxmaj becks are on a trip described by xxmaj john ( xxmaj stewart xxmaj moss ) as part work and partly the honeymoon they never had ( now that 's romantic ! ) xxmaj the work part has something to do with touring caves , which in itself sounds strange ( how does being part of a tour group through a cave relate to anyone 's work ? ) but it gets stranger when we find out that he 's a doctor doing research in the area of xxunk medicine ( huh ? xxmaj that connection completely lost me . ) xxmaj bitten by a bat while he 's in the cave , he begins to transform into what i guess was supposed to be a human - bat hybrid ( although when we finally see him in makeup he looks a lot more like an ape - man of some sort ) and a killing spree starts . xxmaj here 's another problem . xxmaj the first killing is a nurse in a hospital . xxmaj at first , everyone thinks her death was an accident . xxmaj the second murder is of a young girl , who is described as having her throat ripped out . xxmaj the sheriff ( xxmaj michael xxmaj pataki ) then tells us that her death was similar to the nurse 's ( meaning throat ripped out ? - xxmaj how could anyone think that was an accident ? ) xxmaj and what 's with the sheriff ? xxmaj he seems pretty no - nonsense until the scene in xxmaj cathy 's hotel room when he takes a swig of liquor and then almost rapes her , after which everything seems to go back to normal . xxmaj it 's saddled with an ending that left almost everything unresolved , and also with one of the most irritating theme songs i 've ever heard in a movie . xxmaj even for all that , there was something here that kept me watching . xxmaj sometimes pure cheesiness can get you through an hour and a half . xxmaj pretty bad , yeah - but not as awful as some people say .\n",
              "y: CategoryList\n",
              "neg,neg,neg,neg,neg\n",
              "Path: /root/.fastai/data/imdb;\n",
              "\n",
              "Valid: LabelList (25000 items)\n",
              "x: TextList\n",
              "xxbos * * xxmaj may xxmaj contain xxmaj spoilers * * \n",
              " \n",
              "  xxmaj the main character , a nobleman named xxmaj fallon , is stranded on an island with characters so looney and lethal he might have been better off drowning . xxmaj count xxmaj xxunk de xxmaj sade ( pronounced \" dee - xxunk \" ) talks to his own hallucinations and sees all intruders on the island as invading pirates . xxmaj he routinely beats mute servant xxmaj anne and tortures his unwilling guests in the dungeon . xxmaj xxunk laughs are provided by giant \" xxmaj xxunk \" slave xxmaj mantis who talks with a xxmaj deep xxmaj south accent and helps de xxmaj sade hunt down trespassers in the style of xxup the xxup most xxup dangerous xxup game . xxmaj de xxmaj sade 's crazed wife , ravaged by leprosy , provides some truly scary moments as she prowls the dungeon and embraces a helplessly chained prisoner . ( xxmaj this scene was viewed on late - night xxup tv by many kids who carried the memory into adulthood . ) xxmaj the one nearly - normal person in sight is xxmaj cassandra , who has self - deprecation down to a science . ( \" i used to be a nurse , now i 'm not much of anything . \" ) xxmaj she and xxmaj fallon plan their escape and ultimately encounter an enemy more fearsome than de xxmaj sade and xxmaj mantis combined . \n",
              " \n",
              " \t xxmaj this movie was shot in xxmaj san xxmaj antonio and directed by a man more competent at drawing horror comics than making horror movies . ( i 'll say this much for xxmaj mr. xxmaj boyette -- he does showcase his xxunk with contagion here , as he did in his comics . ) xxmaj it 's rather like an xxmaj andy xxmaj milligan melodrama minus the meat cleavers . xxmaj the period wardrobe , library music , abuse of the handicapped and all - around misanthropy makes one wonder if xxmaj andy was n't called in as a consultant . xxmaj however , xxmaj milligan made better costumes and wrote better dialogue . xxmaj technical gaffes are too numerous to list here but you know this flick is in trouble when you see the opening shipwreck , which looks like it was shot in a fish tank . xxmaj also , a film made in xxmaj texas should have had real spiders and snakes rather than rubber ones . xxmaj glorious xxmaj xxunk gives this melodrama the garish look it so richly deserves . xxmaj fallon 's initial encounter with the leprous xxmaj countess is truly horrifying , as is the movie 's parting shot . xxmaj if the rest had been half as harrowing , xxup the xxup dungeon xxup of xxup harrow would have been a terror classic . xxmaj instead it 's a funny piece of schlock that trash - fiends will love , for all the wrong reasons .,xxbos i can find no redeeming value to this movie . xxmaj it appears to be loosely based on the xxmaj lion xxmaj king school of thought . xxmaj father gets killed , son ca n't fill the shoes and tries to run away , etc , etc , etc . xxmaj the only difference ( other than being in a barnyard instead of a jungle ) is that xxmaj barnyard tries to \" liven things up \" with club - type music . xxmaj they go way over the top in trying to be cool . xxmaj the problem is that it really is n't cool . xxmaj it 's like \" that guy \" . xxmaj everybody knows at least one of \" those guys \" who are older and still hang out with the younger crowd in a futile attempt to cling onto their youth . xxmaj they try to be cool to fit in but they really are n't . xxmaj that 's this movie . \n",
              " \n",
              "  xxmaj but hey , if you have money to burn and you feel like paying someone to suck 90 minutes of you life away , by all means do n't let me stop you .,xxbos xxmaj produced by xxmaj nott xxmaj entertainment , this movie is \" nott \" very good at all . i sat through the first 15 minutes of the film before judging that the acting is bad , the casting is bad and camera work is bad . xxmaj as i hear that there is a download of this film floating around on the internet , it is \" nott \" even worth the bandwidth . \n",
              " \n",
              "  xxmaj up until the time i wrote this review , the average vote for this movie was an 8.5 , which prompted me to view it and there was an average high majority of 10 's for it , obviously voted on by liars and shills . xxmaj this movie is \" nott \" for everyone . xxmaj or parents , if you want to punish your kids with this awful film , have them sit through this one for xxmaj halloween .,xxbos xxmaj everyone knows that late night movies are n't xxmaj oscar contenders . xxmaj fine . i mean i 'll admit that i was a bit tipsy and bored and figured i 'd get to some skin - a - max . xxmaj it 's pretty bad when the info on the xxup tv guide channel makes fun of the movie in the description . xxmaj it even gave it half a star . xxmaj to be fair , i did sit throw the whole thing cause man it was s xxrep 10 o bad . i could n't stop laughing . i mean the words coming out of these people mouth and how they were trying to be serious . xxmaj most of the time i think the people on the screen were trying their hardest to not to laugh . xxmaj in fact i think in one scene they did laugh . xxmaj anyways the movie did n't make sense . xxmaj it was like that one xxmaj sopranos episode with the fat gay guy . xxmaj only the xxmaj sopranos is great show . xxmaj but it was terrible , i mean , no nudity , just sex scenes out of the 90 's . xxmaj you know the kind that use shadows and silhouettes instead of flesh . i gave it a two cause this flick makes for a good drinking game movie . i mean with all the cheese , it helps to get the wine out . xxmaj if its late at night , and all that is on xxup tv is this and that xxmaj tony xxmaj little guy and his exercise bike , then i suggest xxmaj tony xxmaj little .,xxbos xxmaj after watching the xxmaj steven xxmaj spielberg version of xxmaj war xxmaj of xxmaj the xxmaj worlds in theaters , i was hooked on the topic . i could think back to my favorite parts in the movie , people getting vaporized , people panicking , fire , explosions , it was all so great ... \n",
              " \n",
              "  xxmaj so a few weeks later i enter my video store , and i see xxmaj david xxmaj michael xxmaj latt 's version of xxmaj war xxmaj of xxmaj the xxmaj worlds on the shelf . \" xxmaj it could n't have come onto xxup dvd , that fast , could it ? \" i said to myself . i read the back of the case and saw xxup c. xxmaj thomas xxmaj howell , instead . \" xxmaj oh , i remember him from xxmaj the xxmaj outsiders ! \" xxmaj so i thought , it might have been a try . \n",
              " \n",
              "  i was wrong , dead wrong . xxmaj as soon as i watched the opening credits , watched them take forever , i knew something was wrong . xxmaj something was going to disappoint me in this film and it did . xxmaj the whole movie stunk like a cheese sauce that was left in the fridge for 10 years . xxmaj from the acting , the special effects ( stupid looking tripod things , when people get vaporized they turn into orange skeletons ) , and most of all , it did n't even come close to being as interesting as the xxmaj spielberg version , in fact , the plot was boring , and there were only 3 scenes of destruction ! xxmaj what the crap ? i ended up being so bored , that i had to fast forward through the movie until i found something that looked even remotely interesting . xxmaj and nothing was really . \n",
              " \n",
              "  xxmaj my advice : xxmaj do n't even touch this movie , stay 100 feet away from it . xxmaj the xxmaj spielberg version is coming out near the end of this month , buy that one ! xxmaj but please , please , i beg of you ! xxmaj stay away from this turd before it smothers us all !\n",
              "y: CategoryList\n",
              "neg,neg,neg,neg,neg\n",
              "Path: /root/.fastai/data/imdb;\n",
              "\n",
              "Test: None, model=SequentialRNN(\n",
              "  (0): MultiBatchEncoder(\n",
              "    (module): AWD_LSTM(\n",
              "      (encoder): Embedding(49855, 400, padding_idx=1)\n",
              "      (encoder_dp): EmbeddingDropout(\n",
              "        (emb): Embedding(49855, 400, padding_idx=1)\n",
              "      )\n",
              "      (rnns): ModuleList(\n",
              "        (0): WeightDropout(\n",
              "          (module): LSTM(400, 1150, batch_first=True)\n",
              "        )\n",
              "        (1): WeightDropout(\n",
              "          (module): LSTM(1150, 1150, batch_first=True)\n",
              "        )\n",
              "        (2): WeightDropout(\n",
              "          (module): LSTM(1150, 400, batch_first=True)\n",
              "        )\n",
              "      )\n",
              "      (input_dp): RNNDropout()\n",
              "      (hidden_dps): ModuleList(\n",
              "        (0): RNNDropout()\n",
              "        (1): RNNDropout()\n",
              "        (2): RNNDropout()\n",
              "      )\n",
              "    )\n",
              "  )\n",
              "  (1): PoolingLinearClassifier(\n",
              "    (layers): Sequential(\n",
              "      (0): BatchNorm1d(1200, eps=1e-05, momentum=0.1, affine=True, track_running_stats=True)\n",
              "      (1): Dropout(p=0.2)\n",
              "      (2): Linear(in_features=1200, out_features=50, bias=True)\n",
              "      (3): ReLU(inplace)\n",
              "      (4): BatchNorm1d(50, eps=1e-05, momentum=0.1, affine=True, track_running_stats=True)\n",
              "      (5): Dropout(p=0.1)\n",
              "      (6): Linear(in_features=50, out_features=2, bias=True)\n",
              "    )\n",
              "  )\n",
              "), opt_func=functools.partial(<class 'torch.optim.adam.Adam'>, betas=(0.9, 0.99)), loss_func=FlattenedLoss of CrossEntropyLoss(), metrics=[<function accuracy at 0x7f05e1643b70>], true_wd=True, bn_wd=True, wd=0.01, train_bn=True, path=PosixPath('/root/.fastai/data/imdb'), model_dir='models', callback_fns=[functools.partial(<class 'fastai.basic_train.Recorder'>, add_time=True)], callbacks=[...], layer_groups=[Sequential(\n",
              "  (0): Embedding(49855, 400, padding_idx=1)\n",
              "  (1): EmbeddingDropout(\n",
              "    (emb): Embedding(49855, 400, padding_idx=1)\n",
              "  )\n",
              "), Sequential(\n",
              "  (0): WeightDropout(\n",
              "    (module): LSTM(400, 1150, batch_first=True)\n",
              "  )\n",
              "  (1): RNNDropout()\n",
              "), Sequential(\n",
              "  (0): WeightDropout(\n",
              "    (module): LSTM(1150, 1150, batch_first=True)\n",
              "  )\n",
              "  (1): RNNDropout()\n",
              "), Sequential(\n",
              "  (0): WeightDropout(\n",
              "    (module): LSTM(1150, 400, batch_first=True)\n",
              "  )\n",
              "  (1): RNNDropout()\n",
              "), Sequential(\n",
              "  (0): PoolingLinearClassifier(\n",
              "    (layers): Sequential(\n",
              "      (0): BatchNorm1d(1200, eps=1e-05, momentum=0.1, affine=True, track_running_stats=True)\n",
              "      (1): Dropout(p=0.2)\n",
              "      (2): Linear(in_features=1200, out_features=50, bias=True)\n",
              "      (3): ReLU(inplace)\n",
              "      (4): BatchNorm1d(50, eps=1e-05, momentum=0.1, affine=True, track_running_stats=True)\n",
              "      (5): Dropout(p=0.1)\n",
              "      (6): Linear(in_features=50, out_features=2, bias=True)\n",
              "    )\n",
              "  )\n",
              ")], add_time=True)\n",
              "alpha: 2.0\n",
              "beta: 1.0], layer_groups=[Sequential(\n",
              "  (0): Embedding(49855, 400, padding_idx=1)\n",
              "  (1): EmbeddingDropout(\n",
              "    (emb): Embedding(49855, 400, padding_idx=1)\n",
              "  )\n",
              "), Sequential(\n",
              "  (0): WeightDropout(\n",
              "    (module): LSTM(400, 1150, batch_first=True)\n",
              "  )\n",
              "  (1): RNNDropout()\n",
              "), Sequential(\n",
              "  (0): WeightDropout(\n",
              "    (module): LSTM(1150, 1150, batch_first=True)\n",
              "  )\n",
              "  (1): RNNDropout()\n",
              "), Sequential(\n",
              "  (0): WeightDropout(\n",
              "    (module): LSTM(1150, 400, batch_first=True)\n",
              "  )\n",
              "  (1): RNNDropout()\n",
              "), Sequential(\n",
              "  (0): PoolingLinearClassifier(\n",
              "    (layers): Sequential(\n",
              "      (0): BatchNorm1d(1200, eps=1e-05, momentum=0.1, affine=True, track_running_stats=True)\n",
              "      (1): Dropout(p=0.2)\n",
              "      (2): Linear(in_features=1200, out_features=50, bias=True)\n",
              "      (3): ReLU(inplace)\n",
              "      (4): BatchNorm1d(50, eps=1e-05, momentum=0.1, affine=True, track_running_stats=True)\n",
              "      (5): Dropout(p=0.1)\n",
              "      (6): Linear(in_features=50, out_features=2, bias=True)\n",
              "    )\n",
              "  )\n",
              ")], add_time=True)"
            ]
          },
          "metadata": {
            "tags": []
          },
          "execution_count": 55
        }
      ]
    },
    {
      "metadata": {
        "id": "wNF2nrdnJIHv",
        "colab_type": "text"
      },
      "cell_type": "markdown",
      "source": [
        "What's happening here is we are just fine-tuning the last layers. Normally after we fine-tune the last layers, the next thing we do is we go unfreeze and train the whole thing. So here it is:"
      ]
    },
    {
      "metadata": {
        "id": "J4cTwhcuJDXZ",
        "colab_type": "code",
        "colab": {}
      },
      "cell_type": "code",
      "source": [
        "learn.unfreeze()"
      ],
      "execution_count": 0,
      "outputs": []
    },
    {
      "metadata": {
        "id": "k2YEchutJGzr",
        "colab_type": "code",
        "outputId": "1640ea5c-846b-4dcf-b894-26eafcf15b49",
        "colab": {
          "base_uri": "https://localhost:8080/",
          "height": 77
        }
      },
      "cell_type": "code",
      "source": [
        "learn.fit_one_cycle(1,1e-3,moms=(0.8,0.7))"
      ],
      "execution_count": 0,
      "outputs": [
        {
          "output_type": "display_data",
          "data": {
            "text/html": [
              "<table border=\"1\" class=\"dataframe\">\n",
              "  <thead>\n",
              "    <tr style=\"text-align: left;\">\n",
              "      <th>epoch</th>\n",
              "      <th>train_loss</th>\n",
              "      <th>valid_loss</th>\n",
              "      <th>accuracy</th>\n",
              "      <th>time</th>\n",
              "    </tr>\n",
              "  </thead>\n",
              "  <tbody>\n",
              "    <tr>\n",
              "      <td>0</td>\n",
              "      <td>3.889421</td>\n",
              "      <td>3.835869</td>\n",
              "      <td>0.316218</td>\n",
              "      <td>23:46</td>\n",
              "    </tr>\n",
              "  </tbody>\n",
              "</table>"
            ],
            "text/plain": [
              "<IPython.core.display.HTML object>"
            ]
          },
          "metadata": {
            "tags": []
          }
        }
      ]
    },
    {
      "metadata": {
        "id": "40zgXt5QJe_B",
        "colab_type": "text"
      },
      "cell_type": "markdown",
      "source": [
        "As you can see, even on a pretty beefy GPU that takes two or three hours. In fact, I'm still under fitting. So probably tonight, I might train it overnight and try and do a little bit better. I'm guessing I could probably train this a bit longer because you can see the accuracy hasn't started going down again. So I wouldn't mind try to train that a bit longer. But the accuracy, it's interesting. 0.3 means we're guessing the next word of the movie review correctly about a third of the time. That sounds like a pretty high number﹣the idea that you can actually guess the next word that often. So it's a good sign that my language model is doing pretty well. For more limited domain documents (like medical transcripts and legal transcripts), you'll often find this accuracy gets a lot higher. So sometimes this can be even 50% or more. But 0.3 or more is pretty good."
      ]
    },
    {
      "metadata": {
        "id": "cpUXxHgfKAzx",
        "colab_type": "code",
        "colab": {}
      },
      "cell_type": "code",
      "source": [
        "learn.save('fine_tuned')"
      ],
      "execution_count": 0,
      "outputs": []
    },
    {
      "metadata": {
        "id": "H9obACYOJxlk",
        "colab_type": "text"
      },
      "cell_type": "markdown",
      "source": [
        "###Predicting with Language Model [25:43](https://youtu.be/C9UdVPE3ynA?t=1543)\n",
        "\n",
        "You can now run **learn.predict** and pass in the start of a sentence, and it will try and finish off that sentence for you."
      ]
    },
    {
      "metadata": {
        "id": "RdHrBLdgKENn",
        "colab_type": "code",
        "colab": {}
      },
      "cell_type": "code",
      "source": [
        "learn.load('fine_tuned');"
      ],
      "execution_count": 0,
      "outputs": []
    },
    {
      "metadata": {
        "id": "GOSlu3XaJdDx",
        "colab_type": "code",
        "colab": {}
      },
      "cell_type": "code",
      "source": [
        "TEXT = 'I liked this movie because'\n",
        "N_WORDS = 40\n",
        "N_SENTENCES = 2"
      ],
      "execution_count": 0,
      "outputs": []
    },
    {
      "metadata": {
        "id": "NKKsIj3yKcVp",
        "colab_type": "code",
        "outputId": "9b51c150-d700-452f-e183-13ff1fd9f42a",
        "colab": {
          "base_uri": "https://localhost:8080/",
          "height": 72
        }
      },
      "cell_type": "code",
      "source": [
        "print('\\n'.join(learn.predict(TEXT,N_WORDS,temperature=0.75) for _ in range(N_SENTENCES)))"
      ],
      "execution_count": 0,
      "outputs": [
        {
          "output_type": "stream",
          "text": [
            "I liked this movie because it 's a nice subject than The Da Vinci Code . i feel that i 've grown into a - movie when i saw the movie ! Because i was in the juvenile watching it\n",
            "I liked this movie because it was great . i loved it . The movie has a good storyline and that i am a big fan of classic movies . This movie is a great movie , it has a great cast ,\n"
          ],
          "name": "stdout"
        }
      ]
    },
    {
      "metadata": {
        "id": "BG3XemAHLIaO",
        "colab_type": "text"
      },
      "cell_type": "markdown",
      "source": [
        "Now I should mention, this is not designed to be a good text generation system. This is really more designed to check that it seems to be creating something that's vaguely sensible. There's a lot lot of tricks that you can use to generate much higher quality text﹣none of which we're using here. But you can kind of see that it's certainly not random words that it's generating. It sounds vaguely English like even though it doesn't make any sense.\n",
        "\n",
        "At this point, we have a movie review model. So now we're going to save that in order to load it into our classifier (i.e. to be a pre-trained model for the classifier). But I actually don't want to save the whole thing. A lot of the second half of the language model is all about predicting the next word rather than about understanding the sentence so far. So the bit which is specifically about understanding the sentence so far is called the **encoder**, so I just save that (i.e. the bit that understands the sentence rather than the bit that generates the word).\n",
        "\n",
        "**`--> encoder : understanding the sentence`**\n",
        "\n"
      ]
    },
    {
      "metadata": {
        "id": "Ay-Xnp8yLckr",
        "colab_type": "code",
        "colab": {}
      },
      "cell_type": "code",
      "source": [
        "learn.save_encoder('fine_tuned_enc')"
      ],
      "execution_count": 0,
      "outputs": []
    },
    {
      "metadata": {
        "id": "oPlsy-LmM2sM",
        "colab_type": "text"
      },
      "cell_type": "markdown",
      "source": [
        "##Making Classifier[27:18](https://youtu.be/C9UdVPE3ynA?t=1638)\n",
        "\n",
        "Now we're ready to create our classifier. Step one, as per usual, is to create a data bunch, and we're going to do basically exactly the same thing.\n",
        "\n",
        "We'll create a new data object that only grabs the labelled data and keeps those labels. Again, this line takes a bit of time."
      ]
    },
    {
      "metadata": {
        "id": "PjQICXU8M1ja",
        "colab_type": "code",
        "colab": {}
      },
      "cell_type": "code",
      "source": [
        "#path = untar_data(URLs.IMDB)"
      ],
      "execution_count": 0,
      "outputs": []
    },
    {
      "metadata": {
        "id": "OrjaEZd5N2B6",
        "colab_type": "code",
        "colab": {}
      },
      "cell_type": "code",
      "source": [
        "data_clas = (TextList.from_folder(path,vocab=data_lm.vocab)\n",
        "            #grab all the text files in path\n",
        "            .split_by_folder(valid='test')\n",
        "            #split by train and valid folder (that only keeps 'train' and 'test')\n",
        "            # so no need to filter)\n",
        "            .label_from_folder(classes=['neg','pos'])\n",
        "            #label them all with their folders\n",
        "            .databunch(bs=bs)\n",
        "            )\n",
        "data_clas.save('data_clas.pkl')"
      ],
      "execution_count": 0,
      "outputs": []
    },
    {
      "metadata": {
        "id": "uRUg_Zv8PMNC",
        "colab_type": "text"
      },
      "cell_type": "markdown",
      "source": [
        "- **vocab = data_lm.vocab** -> But we want to **make sure that it uses exactly the same vocab that are used for the language model**. If word number 10 was **'the'** in the language model, we need to make sure that word number 10 is **'the'** in the classifier. Because otherwise, the pre-trained model is going to be totally meaningless. So that's why we pass in the vocab from the language model to make sure that this data bunch is going to have exactly the same vocab. That's an important step.\n",
        "\n",
        "- **split_by_folder** -> remember, the last time we had split randomly, but this time we need to make sure that the labels of the test set are not touched. So we split by folder.\n",
        "\n",
        "And then this time we label it not for a language model but we label these classes (['neg', 'pos']). Then finally create a data bunch.\n",
        "\n",
        "Sometimes you'll find that you ran out of GPU memory. I was running this in an 11G machine, so you should make sure this number (bs) is a bit lower if you run out of memory. You may also want to make sure you restart the notebook and kind of start it just from here (classifier section). Batch size 50 is as high as I could get on an 11G card. If you're using a p2 or p3 on Amazon or the K80 on Google, for example, I think you'll get 16G so you might be able to make this bit higher, get it up to 64. So you can find whatever batch size fits on your card.\n",
        "\n",
        "So here is our data bunch:"
      ]
    },
    {
      "metadata": {
        "id": "Thc7hLU8QKXV",
        "colab_type": "code",
        "colab": {}
      },
      "cell_type": "code",
      "source": [
        "data_clas = load_data(path,'data_clas.pkl',bs=bs)"
      ],
      "execution_count": 0,
      "outputs": []
    },
    {
      "metadata": {
        "id": "mKoLBdW2QWsC",
        "colab_type": "code",
        "outputId": "b451f547-38ba-442d-800c-11f76308a0ae",
        "colab": {
          "base_uri": "https://localhost:8080/",
          "height": 281
        }
      },
      "cell_type": "code",
      "source": [
        "data_clas.show_batch()"
      ],
      "execution_count": 0,
      "outputs": [
        {
          "output_type": "display_data",
          "data": {
            "text/html": [
              "<table border=\"1\" class=\"dataframe\">\n",
              "  <thead>\n",
              "    <tr style=\"text-align: right;\">\n",
              "      <th>text</th>\n",
              "      <th>target</th>\n",
              "    </tr>\n",
              "  </thead>\n",
              "  <tbody>\n",
              "    <tr>\n",
              "      <td>xxbos xxmaj match 1 : xxmaj tag xxmaj team xxmaj table xxmaj match xxmaj bubba xxmaj ray and xxmaj spike xxmaj dudley vs xxmaj eddie xxmaj guerrero and xxmaj chris xxmaj benoit xxmaj bubba xxmaj ray and xxmaj spike xxmaj dudley started things off with a xxmaj tag xxmaj team xxmaj table xxmaj match against xxmaj eddie xxmaj guerrero and xxmaj chris xxmaj benoit . xxmaj according to the rules</td>\n",
              "      <td>pos</td>\n",
              "    </tr>\n",
              "    <tr>\n",
              "      <td>xxbos xxmaj this movie was recently released on xxup dvd in the xxup us and i finally got the chance to see this hard - to - find gem . xxmaj it even came with original theatrical previews of other xxmaj italian horror classics like \" xxup xxunk \" and \" xxup beyond xxup the xxup darkness \" . xxmaj unfortunately , the previews were the best thing about this</td>\n",
              "      <td>neg</td>\n",
              "    </tr>\n",
              "    <tr>\n",
              "      <td>xxbos i thought that xxup rotj was clearly the best out of the three xxmaj star xxmaj wars movies . i find it surprising that xxup rotj is considered the weakest installment in the xxmaj trilogy by many who have voted . xxmaj to me it seemed like xxup rotj was the best because it had the most profound plot , the most suspense , surprises , most xxunk the</td>\n",
              "      <td>pos</td>\n",
              "    </tr>\n",
              "    <tr>\n",
              "      <td>xxbos xxup the xxup shop xxup around xxup the xxup corner is one of the sweetest and most feel - good romantic comedies ever made . xxmaj there 's just no getting around that , and it 's hard to actually put one 's feeling for this film into words . xxmaj it 's not one of those films that tries too hard , nor does it come up with</td>\n",
              "      <td>pos</td>\n",
              "    </tr>\n",
              "    <tr>\n",
              "      <td>xxbos xxmaj waitress : xxmaj honey , here 's them eggs you ordered . xxmaj honey , like bee , get it ? xxmaj that 's called pointless foreshadowing . \\n \\n  xxmaj edward xxmaj basket : xxmaj huh ? ( xxmaj on the road ) xxmaj basket : xxmaj here 's your doll back , little girl . xxmaj you really should n't be so careless with your</td>\n",
              "      <td>neg</td>\n",
              "    </tr>\n",
              "  </tbody>\n",
              "</table>"
            ],
            "text/plain": [
              "<IPython.core.display.HTML object>"
            ]
          },
          "metadata": {
            "tags": []
          }
        }
      ]
    },
    {
      "metadata": {
        "id": "89qoLxTiQcny",
        "colab_type": "code",
        "colab": {}
      },
      "cell_type": "code",
      "source": [
        "learn = text_classifier_learner(data_clas,AWD_LSTM,drop_mult=0.5)\n",
        "learn.load_encoder('fine_tuned_enc')"
      ],
      "execution_count": 0,
      "outputs": []
    },
    {
      "metadata": {
        "id": "LE1fTCSiQxyg",
        "colab_type": "text"
      },
      "cell_type": "markdown",
      "source": [
        "This time, rather than creating a language model learner, we're creating a text classifier learner. But again, same thing﹣pass in the data that we want, **figure out how much regularization we need. If you're overfitting then you can increase this number (drop_mult). If you're underfitting, you can decrease the number**. \n",
        "\n",
        "**And most importantly, load in our pre train model**. Remember, specifically it's this half of the model called the encoder which is the bit that we want to load in."
      ]
    },
    {
      "metadata": {
        "id": "SpaBYEvrOCSU",
        "colab_type": "code",
        "colab": {}
      },
      "cell_type": "code",
      "source": [
        "#??text_classifier_learner"
      ],
      "execution_count": 0,
      "outputs": []
    },
    {
      "metadata": {
        "id": "C2nfn6IeOgZn",
        "colab_type": "text"
      },
      "cell_type": "markdown",
      "source": [
        "\n",
        "\n",
        "```\n",
        "Signature: text_classifier_learner(data:fastai.basic_data.DataBunch, arch:Callable, bptt:int=70, max_len:int=1400, config:dict=None, pretrained:bool=True, drop_mult:float=1.0, lin_ftrs:Collection[int]=None, ps:Collection[float]=None, **learn_kwargs) -> 'TextClassifierLearner'\n",
        "Source:   \n",
        "def text_classifier_learner(data:DataBunch, arch:Callable, bptt:int=70, max_len:int=70*20, config:dict=None, \n",
        "                            pretrained:bool=True, drop_mult:float=1., lin_ftrs:Collection[int]=None, \n",
        "                            ps:Collection[float]=None, **learn_kwargs) -> 'TextClassifierLearner':\n",
        "    \"Create a `Learner` with a text classifier from `data` and `arch`.\"\n",
        "    model = get_text_classifier(arch, len(data.vocab.itos), data.c, bptt=bptt, max_len=max_len,\n",
        "                                config=config, drop_mult=drop_mult, lin_ftrs=lin_ftrs, ps=ps)\n",
        "    meta = _model_meta[arch]\n",
        "    learn = RNNLearner(data, model, split_func=meta['split_clas'], **learn_kwargs)\n",
        "    if pretrained:\n",
        "        if 'url' not in meta: \n",
        "            warn(\"There are no pretrained weights for that architecture yet!\")\n",
        "            return learn\n",
        "        model_path = untar_data(meta['url'], data=False)\n",
        "        fnames = [list(model_path.glob(f'*.{ext}'))[0] for ext in ['pth', 'pkl']]\n",
        "        learn.load_pretrained(*fnames, strict=False)\n",
        "        learn.freeze()\n",
        "    return learn\n",
        "File:      /usr/local/lib/python3.6/dist-packages/fastai/text/learner.py\n",
        "Type:      function\n",
        "```\n",
        "\n"
      ]
    },
    {
      "metadata": {
        "id": "thDX541ePDfT",
        "colab_type": "code",
        "colab": {}
      },
      "cell_type": "code",
      "source": [
        "??RNNLearner"
      ],
      "execution_count": 0,
      "outputs": []
    },
    {
      "metadata": {
        "id": "OnQP5Pb0SY9r",
        "colab_type": "code",
        "outputId": "815f81bc-61b2-48ae-8922-875307332998",
        "colab": {
          "base_uri": "https://localhost:8080/",
          "height": 34
        }
      },
      "cell_type": "code",
      "source": [
        "learn.lr_find()"
      ],
      "execution_count": 0,
      "outputs": [
        {
          "output_type": "display_data",
          "data": {
            "text/html": [
              ""
            ],
            "text/plain": [
              "<IPython.core.display.HTML object>"
            ]
          },
          "metadata": {
            "tags": []
          }
        },
        {
          "output_type": "stream",
          "text": [
            "LR Finder is complete, type {learner_name}.recorder.plot() to see the graph.\n"
          ],
          "name": "stdout"
        }
      ]
    },
    {
      "metadata": {
        "id": "lY_QuTduSUbW",
        "colab_type": "code",
        "outputId": "7e46d5e6-4649-4e38-a3e7-e54ab0235117",
        "colab": {
          "base_uri": "https://localhost:8080/",
          "height": 282
        }
      },
      "cell_type": "code",
      "source": [
        "learn.recorder.plot()"
      ],
      "execution_count": 0,
      "outputs": [
        {
          "output_type": "display_data",
          "data": {
            "image/png": "[encoded data removed]",
            "text/plain": [
              "<Figure size 432x288 with 1 Axes>"
            ]
          },
          "metadata": {
            "tags": []
          }
        }
      ]
    },
    {
      "metadata": {
        "id": "qQxUkDvoSb_H",
        "colab_type": "code",
        "outputId": "9e0a0bfb-c35e-452f-b744-3513066e1321",
        "colab": {
          "base_uri": "https://localhost:8080/",
          "height": 77
        }
      },
      "cell_type": "code",
      "source": [
        "learn.fit_one_cycle(1,2e-2,moms=(0.8,0.7))"
      ],
      "execution_count": 0,
      "outputs": [
        {
          "output_type": "display_data",
          "data": {
            "text/html": [
              "<table border=\"1\" class=\"dataframe\">\n",
              "  <thead>\n",
              "    <tr style=\"text-align: left;\">\n",
              "      <th>epoch</th>\n",
              "      <th>train_loss</th>\n",
              "      <th>valid_loss</th>\n",
              "      <th>accuracy</th>\n",
              "      <th>time</th>\n",
              "    </tr>\n",
              "  </thead>\n",
              "  <tbody>\n",
              "    <tr>\n",
              "      <td>0</td>\n",
              "      <td>0.349817</td>\n",
              "      <td>0.271961</td>\n",
              "      <td>0.889200</td>\n",
              "      <td>06:56</td>\n",
              "    </tr>\n",
              "  </tbody>\n",
              "</table>"
            ],
            "text/plain": [
              "<IPython.core.display.HTML object>"
            ]
          },
          "metadata": {
            "tags": []
          }
        }
      ]
    },
    {
      "metadata": {
        "id": "m2P6kWaZThlx",
        "colab_type": "text"
      },
      "cell_type": "markdown",
      "source": [
        "We're already up nearly to 92% accuracy after less than three minutes of training. So this is a nice thing. In your particular domain (whether it be law, medicine, journalism, government, or whatever), you probably only need to train your domain's language model once. And that might take overnight to train well. But once you've got it, you can now very quickly create all kinds of different classifiers and models with that. In this case, already a pretty good model after three minutes. So when you first start doing this. you might find it a bit annoying that your first models take four hours or more to create that language model. But the key thing to remember is you only have to do that once for your entire domain of stuff that you're interested in. And then you can build lots of different classifiers and other models on top of that in a few minutes."
      ]
    },
    {
      "metadata": {
        "id": "DNQhh7b8SkQP",
        "colab_type": "code",
        "colab": {}
      },
      "cell_type": "code",
      "source": [
        "learn.save('first')"
      ],
      "execution_count": 0,
      "outputs": []
    },
    {
      "metadata": {
        "id": "LP67svn8Sl73",
        "colab_type": "code",
        "colab": {}
      },
      "cell_type": "code",
      "source": [
        "learn.load('first');"
      ],
      "execution_count": 0,
      "outputs": []
    },
    {
      "metadata": {
        "id": "h0lrUTCDTi8S",
        "colab_type": "code",
        "outputId": "ed6f042c-6535-4872-8055-b62f73538104",
        "colab": {
          "base_uri": "https://localhost:8080/",
          "height": 77
        }
      },
      "cell_type": "code",
      "source": [
        "learn.freeze_to(-2)\n",
        "learn.fit_one_cycle(1,slice(1e-2/(2.6**4),1e-2),moms=(0.8,0.7))"
      ],
      "execution_count": 0,
      "outputs": [
        {
          "output_type": "display_data",
          "data": {
            "text/html": [
              "<table border=\"1\" class=\"dataframe\">\n",
              "  <thead>\n",
              "    <tr style=\"text-align: left;\">\n",
              "      <th>epoch</th>\n",
              "      <th>train_loss</th>\n",
              "      <th>valid_loss</th>\n",
              "      <th>accuracy</th>\n",
              "      <th>time</th>\n",
              "    </tr>\n",
              "  </thead>\n",
              "  <tbody>\n",
              "    <tr>\n",
              "      <td>0</td>\n",
              "      <td>0.292109</td>\n",
              "      <td>0.212522</td>\n",
              "      <td>0.917960</td>\n",
              "      <td>07:21</td>\n",
              "    </tr>\n",
              "  </tbody>\n",
              "</table>"
            ],
            "text/plain": [
              "<IPython.core.display.HTML object>"
            ]
          },
          "metadata": {
            "tags": []
          }
        }
      ]
    },
    {
      "metadata": {
        "id": "vCMTaeOLS_qz",
        "colab_type": "text"
      },
      "cell_type": "markdown",
      "source": [
        "We can save that to make sure we don't have to run it again.\n",
        "\n",
        "And then, here's something interesting. I'm not going to say **unfreeze**. Instead, I'm going to say **freeze_to**. What that says is unfreeze the last two layers, don't unfreeze the whole thing. **We've just found it really helps with these text classification not to unfreeze the whole thing, but to unfreeze one layer at a time**. **--> important note** \n",
        "\n",
        "- unfreeze the last two layers\n",
        "- train it a little bit more\n",
        "- unfreeze the next layer again\n",
        "- train it a little bit more\n",
        "- unfreeze the whole thing\n",
        "- train it a little bit more"
      ]
    },
    {
      "metadata": {
        "id": "hmMnRTD6UN7M",
        "colab_type": "code",
        "colab": {}
      },
      "cell_type": "code",
      "source": [
        "learn.save('second')"
      ],
      "execution_count": 0,
      "outputs": []
    },
    {
      "metadata": {
        "id": "1a7IvS7VUQI9",
        "colab_type": "code",
        "colab": {}
      },
      "cell_type": "code",
      "source": [
        "learn.load('second');"
      ],
      "execution_count": 0,
      "outputs": []
    },
    {
      "metadata": {
        "id": "8musPDMgUfGX",
        "colab_type": "code",
        "outputId": "838d2030-7a2c-4a71-8c92-e8cdb938dc18",
        "colab": {
          "base_uri": "https://localhost:8080/",
          "height": 77
        }
      },
      "cell_type": "code",
      "source": [
        "learn.freeze_to(-3)\n",
        "learn.fit_one_cycle(1,slice(5e-3/(2.6**4),5e-3),moms=(0.8,0.7))"
      ],
      "execution_count": 0,
      "outputs": [
        {
          "output_type": "display_data",
          "data": {
            "text/html": [
              "<table border=\"1\" class=\"dataframe\">\n",
              "  <thead>\n",
              "    <tr style=\"text-align: left;\">\n",
              "      <th>epoch</th>\n",
              "      <th>train_loss</th>\n",
              "      <th>valid_loss</th>\n",
              "      <th>accuracy</th>\n",
              "      <th>time</th>\n",
              "    </tr>\n",
              "  </thead>\n",
              "  <tbody>\n",
              "    <tr>\n",
              "      <td>0</td>\n",
              "      <td>0.246719</td>\n",
              "      <td>0.177915</td>\n",
              "      <td>0.931520</td>\n",
              "      <td>10:17</td>\n",
              "    </tr>\n",
              "  </tbody>\n",
              "</table>"
            ],
            "text/plain": [
              "<IPython.core.display.HTML object>"
            ]
          },
          "metadata": {
            "tags": []
          }
        }
      ]
    },
    {
      "metadata": {
        "id": "3zyQXOSzUwh7",
        "colab_type": "code",
        "colab": {}
      },
      "cell_type": "code",
      "source": [
        "learn.save('third')"
      ],
      "execution_count": 0,
      "outputs": []
    },
    {
      "metadata": {
        "id": "T2SkAe1CUyBw",
        "colab_type": "code",
        "colab": {}
      },
      "cell_type": "code",
      "source": [
        "learn.load('third');"
      ],
      "execution_count": 0,
      "outputs": []
    },
    {
      "metadata": {
        "id": "CoHLRoAQU2A3",
        "colab_type": "code",
        "outputId": "b82d52dd-0a14-47f5-f01d-c0a472848e13",
        "colab": {
          "base_uri": "https://localhost:8080/",
          "height": 107
        }
      },
      "cell_type": "code",
      "source": [
        "learn.unfreeze()\n",
        "learn.fit_one_cycle(2,slice(1e-3/(2.6**4),1e-3),moms=(0.8,0.7))"
      ],
      "execution_count": 0,
      "outputs": [
        {
          "output_type": "display_data",
          "data": {
            "text/html": [
              "<table border=\"1\" class=\"dataframe\">\n",
              "  <thead>\n",
              "    <tr style=\"text-align: left;\">\n",
              "      <th>epoch</th>\n",
              "      <th>train_loss</th>\n",
              "      <th>valid_loss</th>\n",
              "      <th>accuracy</th>\n",
              "      <th>time</th>\n",
              "    </tr>\n",
              "  </thead>\n",
              "  <tbody>\n",
              "    <tr>\n",
              "      <td>0</td>\n",
              "      <td>0.206873</td>\n",
              "      <td>0.172875</td>\n",
              "      <td>0.933480</td>\n",
              "      <td>11:59</td>\n",
              "    </tr>\n",
              "    <tr>\n",
              "      <td>1</td>\n",
              "      <td>0.199514</td>\n",
              "      <td>0.170912</td>\n",
              "      <td>0.934920</td>\n",
              "      <td>12:38</td>\n",
              "    </tr>\n",
              "  </tbody>\n",
              "</table>"
            ],
            "text/plain": [
              "<IPython.core.display.HTML object>"
            ]
          },
          "metadata": {
            "tags": []
          }
        }
      ]
    },
    {
      "metadata": {
        "id": "MP1ME7TRVLo0",
        "colab_type": "text"
      },
      "cell_type": "markdown",
      "source": [
        "You also see I'm passing in this thing (moms=(0.8,0.7))﹣momentums equals 0.8,0.7. We are going to learn exactly what that means probably next week. We may even automate it. So maybe by the time you watch the video of this, this won't even be necessary anymore. Basically we found for training recurrent neural networks (RNNs), it really helps to decrease the momentum a little bit. So that's what that is.\n",
        "\n",
        "That gets us a 94.4% accuracy after about half an hour or less of training. There's quite a lot less of training the actual classifier. We can actually get this quite a bit better with a few tricks. I don't know if we'll learn all the tricks this part. It might be next part. But even this very simple standard approach is pretty great.\n",
        "\n",
        "![alt text](https://github.com/hiromis/notes/raw/master/lesson4/2.png?raw=true)\n",
        "\n",
        "If we compare it to last year's state of the art on IMDb, this is from The [CoVe paper](https://papers.nips.cc/paper/7209-learned-in-translation-contextualized-word-vectors.pdf) from McCann et al. at Salesforce Research. Their paper was 91.8% accurate. And the best paper they could find, they found a fairly domain-specific sentiment analysis paper from 2017, they've got 94.1%. And here, we've got 94.4%. And the best models I've been able to build aince have been about 95.1%. So if you're looking to do text classification, this really standardized transfer learning approach works super well."
      ]
    },
    {
      "metadata": {
        "id": "0uzpD28kYs6y",
        "colab_type": "code",
        "outputId": "6084bab6-3cfa-4efe-d81f-adce73c0c154",
        "colab": {
          "base_uri": "https://localhost:8080/",
          "height": 34
        }
      },
      "cell_type": "code",
      "source": [
        "learn.predict(\"I really loved that movie, it was awesome!\")"
      ],
      "execution_count": 0,
      "outputs": [
        {
          "output_type": "execute_result",
          "data": {
            "text/plain": [
              "(Category pos, tensor(1), tensor([5.6003e-04, 9.9944e-01]))"
            ]
          },
          "metadata": {
            "tags": []
          },
          "execution_count": 53
        }
      ]
    },
    {
      "metadata": {
        "id": "3kku24ybsVxn",
        "colab_type": "code",
        "outputId": "64d0cafe-86be-4d84-f0ba-87db359ba8a4",
        "colab": {
          "base_uri": "https://localhost:8080/",
          "height": 34
        }
      },
      "cell_type": "code",
      "source": [
        "learn.predict('the movie is very messy')"
      ],
      "execution_count": 0,
      "outputs": [
        {
          "output_type": "execute_result",
          "data": {
            "text/plain": [
              "(Category neg, tensor(0), tensor([0.9064, 0.0936]))"
            ]
          },
          "metadata": {
            "tags": []
          },
          "execution_count": 59
        }
      ]
    },
    {
      "metadata": {
        "id": "JnkWi7dBsf4Z",
        "colab_type": "code",
        "colab": {}
      },
      "cell_type": "code",
      "source": [
        "'''\n",
        "??learn.predict()\n",
        "\n",
        "def predict(self, item:ItemBase, **kwargs):\n",
        "        \"Return predicted class, label and probabilities for `item`.\"\n",
        "        batch = self.data.one_item(item)\n",
        "        res = self.pred_batch(batch=batch)\n",
        "        pred,x = res[0],batch[0]\n",
        "        norm = getattr(self.data,'norm',False)\n",
        "        if norm:\n",
        "            x = self.data.denorm(x)\n",
        "            if norm.keywords.get('do_y',False): pred = self.data.denorm(pred)\n",
        "        ds = self.data.single_ds\n",
        "        pred = ds.y.analyze_pred(pred, **kwargs)\n",
        "        out = ds.y.reconstruct(pred, ds.x.reconstruct(x[0])) if has_arg(ds.y.reconstruct, 'x') else ds.y.reconstruct(pred)\n",
        "        return out, pred, res[0]\n",
        "        \n",
        "'''"
      ],
      "execution_count": 0,
      "outputs": []
    },
    {
      "metadata": {
        "id": "B03xH5CUWZ2W",
        "colab_type": "text"
      },
      "cell_type": "markdown",
      "source": [
        "**Question**: Where does the magic number of 2.6^{4} in the learning rate come from? [33:38](https://youtu.be/C9UdVPE3ynA?t=2018)\n",
        "\n",
        "`learn.fit_one_cycle(2, slice(1e-3/(2.6**4),1e-3), moms=(0.8,0.7))`\n",
        "\n",
        "Good question. So the learning rate is various things divided by 2.6 to the fourth. The reason it's to the fourth, you will learn about at the end of today. So let's focus on the 2.6. Why 2.6? Basically, as we're going to see in more detail later today, this number, the difference between the bottom of the slice and the top of the slice is basically what's the difference between how quickly the lowest layer of the model learns versus the highest layer of the model learns. So this is called discriminative learning rates. So really the question is as you go from layer to layer, how much do I decrease the learning rate by? And we found out that for NLP RNNs, the answer is 2.6.\n",
        "\n",
        "How do we find out that it's 2.6? I ran lots and lots of different models using lots of different sets of hyper parameters of various types (dropout, learning rates, and discriminative learning rate and so forth), and then I created something called a random forest which is a kind of model where I attempted to predict how accurate my NLP classifier would be based on the hyper parameters. And then I used random forest interpretation methods to basically figure out what the optimal parameter settings were, and I found out that the answer for this number was 2.6. So that's actually not something I've published or I don't think I've even talked about it before, so there's a new piece of information. Actually, a few months after I did this, Stephen Merity and somebody else did publish a paper describing a similar approach, so the basic idea may be out there already.\n",
        "\n",
        "Some of that idea comes from a researcher named Frank Hutter and one of his collaborators. They did some interesting work showing how you can use random forests to actually find optimal hyperparameters. So it's kind of a neat trick. A lot of people are very interested in this thing called Auto ML which is this idea of like building models to figure out how to train your model. We're not big fans of it on the whole. But we do find that building models to better understand how your hyper parameters work, and then finding those rules of thumb like oh basically it can always be 2.6 quite helpful. So there's just something we've kind of been playing with."
      ]
    }
  ]
}