{
  "nbformat": 4,
  "nbformat_minor": 0,
  "metadata": {
    "colab": {
      "name": "2019_Deep_Learning_1.ipynb",
      "version": "0.3.2",
      "provenance": [],
      "include_colab_link": true
    },
    "kernelspec": {
      "name": "python3",
      "display_name": "Python 3"
    }
  },
  "cells": [
    {
      "cell_type": "markdown",
      "metadata": {
        "id": "view-in-github",
        "colab_type": "text"
      },
      "source": [
        "<a href=\"https://colab.research.google.com/github/hduongck/AI-ML-Learning/blob/master/2019_Deep_Learning_1.ipynb\" target=\"_parent\"><img src=\"https://colab.research.google.com/assets/colab-badge.svg\" alt=\"Open In Colab\"/></a>"
      ]
    },
    {
      "metadata": {
        "id": "PWn10kuaTLzz",
        "colab_type": "text"
      },
      "cell_type": "markdown",
      "source": [
        "#Lesson 1\n",
        "[Webpage](http://course-v3.fast.ai/) / [Video](https://youtu.be/BWWm4AzsdLk) / [Lesson Forum](https://forums.fast.ai/t/lesson-1-official-resources-and-updates/27936) / [General Forum](https://forums.fast.ai/t/faq-resources-and-official-course-updates/27934/1)\n",
        "\n",
        "Welcome!\n",
        "\n",
        "Make sure your GPU environment is set up and you can run Jupyter Notebook\n",
        "\n",
        "[00_notebook_tutorial.ipynb](https://github.com/fastai/course-v3/blob/master/nbs/dl1/00_notebook_tutorial.ipynb)\n",
        "\n",
        "Four shortcuts:\n",
        "\n",
        "- Shift+Enter: Runs the code or markdown on a cell\n",
        "\n",
        "- Up Arrow+Down Arrow: Toggle across cells\n",
        "\n",
        "- b: Create new cell\n",
        "\n",
        "- 0+0: Restart Kernel\n",
        "\n",
        "[2:45]\n",
        "\n",
        "Jupyter Notebook is a really interesting device for data scientists because it lets you run interactive experiments and give you not just a static piece of information but something you can interactively experiment with.\n",
        "\n",
        "How to use notebooks and the materials well based on the last three years of experience:\n",
        "\n",
        "1. Just watch a lesson end to end.\n",
        "- Don't try to follow along because it's not really designed to go the speed where you can follow along. It's designed to be something where you just take in the information, you get a general sense of all the pieces, how it all fits together.\n",
        "- Then you can go back and go through it more slowly pausing the video, trying things out, making sure that you can do the things that I'm doing and you can try and extend them to do things in your own way.\n",
        "- Don't try and stop and understand everything the first time.\n",
        "\n",
        "You can do world-class practitioner level deep learning [4:31]\n",
        "\n",
        "![](https://github.com/hiromis/notes/raw/master/lesson1/1.png)\n",
        "\n",
        "Main places to be looking for things are:\n",
        "\n",
        "- [http://course-v3.fast.ai/](http://course-v3.fast.ai/)\n",
        "- [https://forums.fast.ai/](https://forums.fast.ai/)\n",
        "\n",
        "A little bit about why we should listen to Jeremy [5:27](https://youtu.be/BWWm4AzsdLk?t=327)\n",
        "\n",
        "![](https://github.com/hiromis/notes/blob/master/lesson1/2.png)\n",
        "\n"
      ]
    },
    {
      "metadata": {
        "id": "fUw7VzStSxNy",
        "colab_type": "code",
        "colab": {}
      },
      "cell_type": "code",
      "source": [
        "Lesson 1\n",
        "Webpage / Video / Lesson Forum / General Forum\n",
        "\n",
        "Welcome!\n",
        "Make sure your GPU environment is set up and you can run Jupyter Notebook\n",
        "\n",
        "00_notebook_tutorial.ipynb\n",
        "\n",
        "Four shortcuts:\n",
        "\n",
        "Shift+Enter: Runs the code or markdown on a cell\n",
        "\n",
        "Up Arrow+Down Arrow: Toggle across cells\n",
        "\n",
        "b: Create new cell\n",
        "\n",
        "0+0: Restart Kernel\n",
        "\n",
        "[2:45]\n",
        "\n",
        "Jupyter Notebook is a really interesting device for data scientists because it lets you run interactive experiments and give you not just a static piece of information but something you can interactively experiment with.\n",
        "\n",
        "How to use notebooks and the materials well based on the last three years of experience:\n",
        "\n",
        "Just watch a lesson end to end.\n",
        "Don't try to follow along because it's not really designed to go the speed where you can follow along. It's designed to be something where you just take in the information, you get a general sense of all the pieces, how it all fits together.\n",
        "Then you can go back and go through it more slowly pausing the video, trying things out, making sure that you can do the things that I'm doing and you can try and extend them to do things in your own way.\n",
        "Don't try and stop and understand everything the first time."
      ],
      "execution_count": 0,
      "outputs": []
    }
  ]
}