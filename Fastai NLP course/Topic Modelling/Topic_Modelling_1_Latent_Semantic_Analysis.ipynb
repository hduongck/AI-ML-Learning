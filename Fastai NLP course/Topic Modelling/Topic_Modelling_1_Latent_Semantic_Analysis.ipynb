{
  "nbformat": 4,
  "nbformat_minor": 0,
  "metadata": {
    "colab": {
      "name": "Topic Modelling 1: Latent Semantic Analysis.ipynb",
      "provenance": [],
      "collapsed_sections": [],
      "include_colab_link": true
    },
    "kernelspec": {
      "name": "python3",
      "display_name": "Python 3"
    }
  },
  "cells": [
    {
      "cell_type": "markdown",
      "metadata": {
        "id": "view-in-github",
        "colab_type": "text"
      },
      "source": [
        "<a href=\"https://colab.research.google.com/github/hduongck/AI-ML-Learning/blob/master/Fastai%20NLP%20course/Topic%20Modelling/Topic_Modelling_1_Latent_Semantic_Analysis.ipynb\" target=\"_parent\"><img src=\"https://colab.research.google.com/assets/colab-badge.svg\" alt=\"Open In Colab\"/></a>"
      ]
    },
    {
      "cell_type": "markdown",
      "metadata": {
        "id": "iggqblWn_rGg",
        "colab_type": "text"
      },
      "source": [
        "# Text Mining 101: A Stepwise Introduction to Topic Modeling using Latent Semantic Analysis\n",
        "\n",
        "https://www.analyticsvidhya.com/blog/2018/10/stepwise-guide-topic-modeling-latent-semantic-analysis/\n"
      ]
    },
    {
      "cell_type": "markdown",
      "metadata": {
        "id": "61_egXc8_xKU",
        "colab_type": "text"
      },
      "source": [
        "## Introduction\n",
        "Have you ever been inside a well-maintained library? I’m always incredibly impressed with the way the librarians keep everything organized, by name, content, and other topics. But if you gave these librarians thousands of books and asked them to arrange each book on the basis of their genre, they will struggle to accomplish this task in a day, let alone an hour!\n",
        "\n",
        "However, this won’t happen to you if these books came in a digital format, right? All the arrangement seems to happen in a matter of seconds, without requiring any manual effort. All hail Natural Language Processing (NLP).\n",
        "\n",
        "Have a look at the below text snippet:\n",
        "\n",
        "![alt text](https://i2.wp.com/s3-ap-south-1.amazonaws.com/av-blog-media/wp-content/uploads/2018/09/Screenshot_1.png?resize=636%2C231&ssl=1)\n",
        "\n",
        "As you might gather from the highlighted text, there are three topics (or concepts) – Topic 1, Topic 2, and Topic 3. A good topic model will identify similar words and put them under one group or topic. The most dominant topic in the above example is Topic 2, which indicates that this piece of text is primarily about fake videos.\n",
        "\n",
        "Intrigued, yet? Good! In this article, we will learn about a text mining approach called Topic Modeling. It is an extremely useful technique for extracting topics, and one you will work with a lot when faced with NLP challenges.\n",
        "\n",
        "Note: I highly recommend going through [this article](https://www.analyticsvidhya.com/blog/2018/08/dimensionality-reduction-techniques-python/) to understand terms like SVD and UMAP. They are leveraged in this article so having a basic understanding of them will help solidify these concepts. We have a [paid NLP course](https://trainings.analyticsvidhya.com/courses/course-v1:AnalyticsVidhya+NLP101+2018_T1/about?utm_source=blog&utm_medium=stepwise-guide-topic-modeling-latent-semantic-analysis) as well with a dedicated module for Topic Modeling.\n"
      ]
    },
    {
      "cell_type": "markdown",
      "metadata": {
        "id": "0ha-NEW0Av1g",
        "colab_type": "text"
      },
      "source": [
        "## Table of Contents\n",
        "\n",
        "1. What is a Topic Model?\n",
        "2. When is Topic Modeling used?\n",
        "3. Overview of Latent Semantic Analysis (LSA)\n",
        "4. Implementation of LSA in Python\n",
        "    - Data Reading and Inspection\n",
        "    - Data Preprocessing\n",
        "    - Document-Term Matrix\n",
        "    - Topic Modeling\n",
        "    - Topics Visualization\n",
        "5. Pros and Cons of LSA\n",
        "6. Other Techniques for Topic Modeling\n",
        "\n"
      ]
    },
    {
      "cell_type": "markdown",
      "metadata": {
        "id": "DOnNyh84BDKA",
        "colab_type": "text"
      },
      "source": [
        "## 1. What is a topic model?\n",
        "**A Topic Model can be defined as an unsupervised technique to discover topics across various text documents**. These topics are abstract in nature, i.e., words which are related to each other form a topic. Similarly, there can be multiple topics in an individual document. For the time being, let’s understand a topic model as a black box, as illustrated in the below figure:\n",
        "\n",
        "![alt text](https://i0.wp.com/s3-ap-south-1.amazonaws.com/av-blog-media/wp-content/uploads/2018/09/Screenshot_2.png?resize=602%2C386&ssl=1)\n",
        "\n",
        "This black box (topic model) forms clusters of similar and related words which are called topics. These topics have a certain distribution in a document, and every topic is defined by the proportion of different words it contains.\n",
        "\n",
        "\n",
        "\n"
      ]
    },
    {
      "cell_type": "markdown",
      "metadata": {
        "id": "Humegd-gBZnm",
        "colab_type": "text"
      },
      "source": [
        "## 2. When is Topic Modeling used?\n",
        "Recall the example we saw earlier of arranging similar books together. Now suppose you have to perform a similar task with a few digital text documents. You would be able to manually accomplish this, as long as the number of documents is manageable (aka not too many of them). But what happens when there’s an impossible number of these digital text documents?\n",
        "\n",
        "That’s where NLP techniques come to the fore. And for this particular task, topic modeling is the technique we will turn to.\n",
        "\n",
        "![alt text](https://i1.wp.com/s3-ap-south-1.amazonaws.com/av-blog-media/wp-content/uploads/2018/09/Screenshot_3.png?resize=391%2C337&ssl=1)\n",
        "\n",
        "Topic modeling helps in exploring large amounts of text data, finding clusters of words, similarity between documents, and discovering abstract topics. As if these reasons weren’t compelling enough, topic modeling is also used in search engines wherein the search string is matched with the results. Getting interesting, isn’t it? Well, read on then!\n",
        "\n"
      ]
    },
    {
      "cell_type": "markdown",
      "metadata": {
        "id": "asYNOzGHB7ZW",
        "colab_type": "text"
      },
      "source": [
        "## 3. Overview of Latent Semantic Analysis (LSA)\n",
        "All languages have their own intricacies and nuances which are quite difficult for a machine to capture (sometimes they’re even misunderstood by us humans!). This can include different words that mean the same thing, and also the words which have the same spelling but different meanings.\n",
        "\n",
        "For example, consider the following two sentences:\n",
        "\n",
        "- I liked his last novel quite a lot.\n",
        "- We would like to go for a novel marketing campaign.\n",
        "\n",
        "In the first sentence, the word ‘novel’ refers to a book, and in the second sentence it means new or fresh.\n",
        "\n",
        "We can easily distinguish between these words because we are able to understand the context behind these words. However, a machine would not be able to capture this concept as it cannot understand the context in which the words have been used. This is where Latent Semantic Analysis (LSA) comes into play as it attempts to leverage the context around the words to capture the hidden concepts, also known as topics.\n",
        "\n",
        "So, simply mapping words to documents won’t really help. What we really need is to figure out the hidden concepts or topics behind the words. LSA is one such technique that can find these hidden topics. Let’s now deep dive into the inner workings of LSA."
      ]
    },
    {
      "cell_type": "markdown",
      "metadata": {
        "id": "V2G23Ck6ELdS",
        "colab_type": "text"
      },
      "source": [
        "## 4. Steps involved in the implementation of LSA\n",
        "\n",
        "Let’s say we have **m** number of text documents with **n** number of total unique terms (words). We wish to extract **k** topics from all the text data in the documents. The number of topics, **k**, has to be specified by the user.\n",
        "\n",
        "- Generate a document-term matrix of shape **m x n** having TF-IDF scores.\n",
        "\n",
        "![alt text](https://i0.wp.com/s3-ap-south-1.amazonaws.com/av-blog-media/wp-content/uploads/2018/09/Screenshot_4.png?resize=555%2C224&ssl=1)\n",
        "\n",
        "- Then, we will reduce the dimensions of the above matrix to **k** (no. of desired topics) dimensions, using singular-value decomposition (SVD).\n",
        "\n",
        "- SVD decomposes a matrix into three other matrices. Suppose we want to decompose a matrix A using SVD. It will be decomposed into matrix U, matrix S, and $V^T$ (transpose of matrix V).\n",
        "\n",
        "![alt text](https://i0.wp.com/s3-ap-south-1.amazonaws.com/av-blog-media/wp-content/uploads/2018/09/Screenshot_6.png?resize=212%2C69&ssl=1)\n",
        "\n",
        "![alt text](https://i1.wp.com/s3-ap-south-1.amazonaws.com/av-blog-media/wp-content/uploads/2018/09/Screenshot_7.png?resize=700%2C254&ssl=1)\n",
        "\n",
        "Each row of the matrix $U_k$ (**document-term matrix**) is the vector representation of the corresponding document. The length of these vectors is k, which is the number of desired topics. Vector representation for the terms in our data can be found in the matrix $V_k$ (**term-topic matrix**).\n",
        "\n",
        "- So, SVD gives us vectors for every document and term in our data. The length of each vector would be k. We can then use these vectors to find similar words and similar documents using the cosine similarity method."
      ]
    },
    {
      "cell_type": "markdown",
      "metadata": {
        "id": "EyGz49crGNtj",
        "colab_type": "text"
      },
      "source": [
        "## 4. Implementation of LSA in Python\n",
        "\n",
        "It’s time to power up Python and understand how to implement LSA in a topic modeling problem. Once your Python environment is open, follow the steps I have mentioned below."
      ]
    },
    {
      "cell_type": "markdown",
      "metadata": {
        "id": "zXvxe_7yGUmx",
        "colab_type": "text"
      },
      "source": [
        "### Data reading and inspection\n",
        "Let’s load the required libraries before proceeding with anything else."
      ]
    },
    {
      "cell_type": "code",
      "metadata": {
        "id": "WF2YB5m7EKVt",
        "colab_type": "code",
        "colab": {}
      },
      "source": [
        "import numpy as np\n",
        "import pandas as pd\n",
        "import matplotlib.pyplot as plt\n",
        "import seaborn as sns\n",
        "pd.set_option('display.max_colwidth',200)"
      ],
      "execution_count": 0,
      "outputs": []
    },
    {
      "cell_type": "markdown",
      "metadata": {
        "id": "TwpvV1G7XfTO",
        "colab_type": "text"
      },
      "source": [
        "In this article, we will use the ’20 Newsgroup’ dataset from sklearn. You can download the dataset here, and follow along with the code."
      ]
    },
    {
      "cell_type": "code",
      "metadata": {
        "id": "ub8xSQmH_qI4",
        "colab_type": "code",
        "colab": {
          "base_uri": "https://localhost:8080/",
          "height": 68
        },
        "outputId": "476b6234-ef25-458a-ecbf-5a315aa9973f"
      },
      "source": [
        "from sklearn.datasets import fetch_20newsgroups\n",
        "\n",
        "dataset = fetch_20newsgroups(shuffle=True, random_state=1,remove=('headers','footers','quotes'))\n",
        "documents = dataset.data\n",
        "len(documents)"
      ],
      "execution_count": 2,
      "outputs": [
        {
          "output_type": "stream",
          "text": [
            "Downloading 20news dataset. This may take a few minutes.\n",
            "Downloading dataset from https://ndownloader.figshare.com/files/5975967 (14 MB)\n"
          ],
          "name": "stderr"
        },
        {
          "output_type": "execute_result",
          "data": {
            "text/plain": [
              "11314"
            ]
          },
          "metadata": {
            "tags": []
          },
          "execution_count": 2
        }
      ]
    },
    {
      "cell_type": "code",
      "metadata": {
        "id": "Pd-jqMfhX50n",
        "colab_type": "code",
        "colab": {
          "base_uri": "https://localhost:8080/",
          "height": 357
        },
        "outputId": "755760e7-83e4-4213-d258-31f4ba685f27"
      },
      "source": [
        "dataset.target_names"
      ],
      "execution_count": 3,
      "outputs": [
        {
          "output_type": "execute_result",
          "data": {
            "text/plain": [
              "['alt.atheism',\n",
              " 'comp.graphics',\n",
              " 'comp.os.ms-windows.misc',\n",
              " 'comp.sys.ibm.pc.hardware',\n",
              " 'comp.sys.mac.hardware',\n",
              " 'comp.windows.x',\n",
              " 'misc.forsale',\n",
              " 'rec.autos',\n",
              " 'rec.motorcycles',\n",
              " 'rec.sport.baseball',\n",
              " 'rec.sport.hockey',\n",
              " 'sci.crypt',\n",
              " 'sci.electronics',\n",
              " 'sci.med',\n",
              " 'sci.space',\n",
              " 'soc.religion.christian',\n",
              " 'talk.politics.guns',\n",
              " 'talk.politics.mideast',\n",
              " 'talk.politics.misc',\n",
              " 'talk.religion.misc']"
            ]
          },
          "metadata": {
            "tags": []
          },
          "execution_count": 3
        }
      ]
    },
    {
      "cell_type": "markdown",
      "metadata": {
        "id": "yx-pZtKsYBqF",
        "colab_type": "text"
      },
      "source": [
        "The dataset has 11,314 text documents distributed across 20 different newsgroups."
      ]
    },
    {
      "cell_type": "markdown",
      "metadata": {
        "id": "zc590MW5YNiD",
        "colab_type": "text"
      },
      "source": [
        "### Data Preprocessing\n",
        "To start with, we will try to clean our text data as much as possible. The idea is to remove the punctuations, numbers, and special characters all in one step using the regex replace(“[^a-zA-Z#]”, ” “), which will replace everything, except alphabets with space. Then we will remove shorter words because they usually don’t contain useful information. Finally, we will make all the text lowercase to nullify case sensitivity."
      ]
    },
    {
      "cell_type": "code",
      "metadata": {
        "id": "5DcUgulrX-DK",
        "colab_type": "code",
        "colab": {}
      },
      "source": [
        "news_df = pd.DataFrame({'document':documents})\n",
        "\n",
        "#removing everything except alphabets\n",
        "news_df['clean_doc'] = news_df['document'].str.replace(\"[^a-zA-Z#]\",\" \")\n",
        "\n",
        "#removing short words\n",
        "news_df['clean_doc'] = news_df['clean_doc'].apply(lambda x: ' '.join([w for w in x.split() if len(w) > 3]))\n",
        "\n",
        "#make all text lower case\n",
        "news_df['clean_doc'] = news_df['clean_doc'].apply(lambda x: x.lower())"
      ],
      "execution_count": 0,
      "outputs": []
    },
    {
      "cell_type": "markdown",
      "metadata": {
        "id": "jfQXH71IZdu_",
        "colab_type": "text"
      },
      "source": [
        "It’s good practice to remove the stop-words from the text data as they are mostly clutter and hardly carry any information. Stop-words are terms like ‘it’, ‘they’, ‘am’, ‘been’, ‘about’, ‘because’, ‘while’, etc.\n",
        "\n",
        "To remove stop-words from the documents, we will have to tokenize the text, i.e., split the string of text into individual tokens or words. We will stitch the tokens back together once we have removed the stop-words."
      ]
    },
    {
      "cell_type": "code",
      "metadata": {
        "id": "ikMhU49DZV3-",
        "colab_type": "code",
        "colab": {
          "base_uri": "https://localhost:8080/",
          "height": 51
        },
        "outputId": "5d24c483-e68e-4e07-86e0-f4d07e34db0a"
      },
      "source": [
        "import nltk\n",
        "nltk.download('stopwords')\n",
        "from nltk.corpus import stopwords\n",
        "stop_words = stopwords.words('english')\n",
        "\n",
        "# tokenization\n",
        "tokenized_doc = news_df['clean_doc'].apply(lambda x: x.split())\n",
        "\n",
        "#remove stop-words\n",
        "tokenized_doc = tokenized_doc.apply(lambda x: [item for item in x if item not in stop_words])\n",
        "\n",
        "#de-tokenization\n",
        "\n",
        "detokenized_doc = []\n",
        "for i in range(len(news_df)):\n",
        "    t = ' '.join(tokenized_doc[i])\n",
        "    detokenized_doc.append(t)\n",
        "\n",
        "news_df['clean_doc'] = detokenized_doc"
      ],
      "execution_count": 7,
      "outputs": [
        {
          "output_type": "stream",
          "text": [
            "[nltk_data] Downloading package stopwords to /root/nltk_data...\n",
            "[nltk_data]   Unzipping corpora/stopwords.zip.\n"
          ],
          "name": "stdout"
        }
      ]
    },
    {
      "cell_type": "markdown",
      "metadata": {
        "id": "uo7iQPjda_7T",
        "colab_type": "text"
      },
      "source": [
        "### Document-Term Matrix\n",
        "This is the first step towards topic modeling. We will use sklearn’s TfidfVectorizer to create a document-term matrix with 1,000 terms."
      ]
    },
    {
      "cell_type": "code",
      "metadata": {
        "id": "WiQxWnd6acRQ",
        "colab_type": "code",
        "colab": {
          "base_uri": "https://localhost:8080/",
          "height": 34
        },
        "outputId": "28841ca1-1a27-46a4-c8f5-0e753f790d93"
      },
      "source": [
        "from sklearn.feature_extraction.text import TfidfVectorizer\n",
        "\n",
        "vectorizer = TfidfVectorizer(stop_words='english',\n",
        "                             #max_features = 1000, # keep top 1000 terms\n",
        "                             max_df = 0.5,\n",
        "                             smooth_idf = True)\n",
        "\n",
        "X = vectorizer.fit_transform(news_df['clean_doc'])\n",
        "\n",
        "X.shape # check the shape of the document-term matrix"
      ],
      "execution_count": 9,
      "outputs": [
        {
          "output_type": "execute_result",
          "data": {
            "text/plain": [
              "(11314, 64741)"
            ]
          },
          "metadata": {
            "tags": []
          },
          "execution_count": 9
        }
      ]
    },
    {
      "cell_type": "markdown",
      "metadata": {
        "id": "dbBAXIIjb2Ji",
        "colab_type": "text"
      },
      "source": [
        "We could have used all the terms to create this matrix but that would need quite a lot of computation time and resources. Hence, we have restricted the number of features to 1,000. If you have the computational power, I suggest trying out all the terms."
      ]
    },
    {
      "cell_type": "markdown",
      "metadata": {
        "id": "xkn697e5cDQY",
        "colab_type": "text"
      },
      "source": [
        "### Topic Modeling\n",
        "The next step is to represent each and every term and document as a vector. We will use the document-term matrix and decompose it into multiple matrices. We will use sklearn’s **TruncatedSVD** to perform the task of matrix decomposition.\n",
        "\n",
        "Since the data comes from 20 different newsgroups, let’s try to have 20 topics for our text data. The number of topics can be specified by using the n_components parameter."
      ]
    },
    {
      "cell_type": "code",
      "metadata": {
        "id": "qR9VF4dwbsuE",
        "colab_type": "code",
        "colab": {
          "base_uri": "https://localhost:8080/",
          "height": 34
        },
        "outputId": "ec25d642-6a09-4c6b-bed0-b20fb40a1311"
      },
      "source": [
        "from sklearn.decomposition import TruncatedSVD\n",
        "\n",
        "#SVD represent documents and terms in vectors\n",
        "svd_model = TruncatedSVD(n_components=20, algorithm='randomized', n_iter=100, random_state=122)\n",
        "\n",
        "svd_model.fit(X)\n",
        "\n",
        "len(svd_model.components_)"
      ],
      "execution_count": 11,
      "outputs": [
        {
          "output_type": "execute_result",
          "data": {
            "text/plain": [
              "20"
            ]
          },
          "metadata": {
            "tags": []
          },
          "execution_count": 11
        }
      ]
    },
    {
      "cell_type": "markdown",
      "metadata": {
        "id": "8jphGnYzcop_",
        "colab_type": "text"
      },
      "source": [
        "The components of svd_model are our topics, and we can access them using svd_model.components_. Finally, let’s print a few most important words in each of the 20 topics and see how our model has done."
      ]
    },
    {
      "cell_type": "code",
      "metadata": {
        "id": "4AX9ErL9cehg",
        "colab_type": "code",
        "colab": {
          "base_uri": "https://localhost:8080/",
          "height": 1000
        },
        "outputId": "9c282079-110b-4cd3-e9f6-ebf17d0c496b"
      },
      "source": [
        "terms = vectorizer.get_feature_names()\n",
        "\n",
        "for i , comp in enumerate(svd_model.components_):\n",
        "    terms_comp = zip(terms,comp)\n",
        "    sorted_terms = sorted(terms_comp, key = lambda x:x[1], reverse=True)[:7]\n",
        "    print(\"Topic \"+str(i)+\": \")\n",
        "    for t in sorted_terms:\n",
        "        print(t[0])\n",
        "    print(\" \")\n"
      ],
      "execution_count": 12,
      "outputs": [
        {
          "output_type": "stream",
          "text": [
            "Topic 0: \n",
            "know\n",
            " \n",
            "like\n",
            " \n",
            "people\n",
            " \n",
            "think\n",
            " \n",
            "good\n",
            " \n",
            "time\n",
            " \n",
            "thanks\n",
            " \n",
            "Topic 1: \n",
            "windows\n",
            " \n",
            "thanks\n",
            " \n",
            "drive\n",
            " \n",
            "card\n",
            " \n",
            "file\n",
            " \n",
            "scsi\n",
            " \n",
            "video\n",
            " \n",
            "Topic 2: \n",
            "drive\n",
            " \n",
            "scsi\n",
            " \n",
            "drives\n",
            " \n",
            "hard\n",
            " \n",
            "controller\n",
            " \n",
            "disk\n",
            " \n",
            "floppy\n",
            " \n",
            "Topic 3: \n",
            "game\n",
            " \n",
            "team\n",
            " \n",
            "games\n",
            " \n",
            "year\n",
            " \n",
            "players\n",
            " \n",
            "season\n",
            " \n",
            "thanks\n",
            " \n",
            "Topic 4: \n",
            "chip\n",
            " \n",
            "encryption\n",
            " \n",
            "clipper\n",
            " \n",
            "government\n",
            " \n",
            "keys\n",
            " \n",
            "escrow\n",
            " \n",
            "data\n",
            " \n",
            "Topic 5: \n",
            "pitt\n",
            " \n",
            "cadre\n",
            " \n",
            "chastity\n",
            " \n",
            "shameful\n",
            " \n",
            "intellect\n",
            " \n",
            "skepticism\n",
            " \n",
            "surrender\n",
            " \n",
            "Topic 6: \n",
            "thanks\n",
            " \n",
            "mail\n",
            " \n",
            "know\n",
            " \n",
            "advance\n",
            " \n",
            "info\n",
            " \n",
            "email\n",
            " \n",
            "address\n",
            " \n",
            "Topic 7: \n",
            "card\n",
            " \n",
            "video\n",
            " \n",
            "monitor\n",
            " \n",
            "cards\n",
            " \n",
            "drivers\n",
            " \n",
            "chip\n",
            " \n",
            "driver\n",
            " \n",
            "Topic 8: \n",
            "know\n",
            " \n",
            "thanks\n",
            " \n",
            "windows\n",
            " \n",
            "chip\n",
            " \n",
            "scsi\n",
            " \n",
            "encryption\n",
            " \n",
            "game\n",
            " \n",
            "Topic 9: \n",
            "israel\n",
            " \n",
            "armenian\n",
            " \n",
            "armenians\n",
            " \n",
            "israeli\n",
            " \n",
            "turkish\n",
            " \n",
            "people\n",
            " \n",
            "jews\n",
            " \n",
            "Topic 10: \n",
            "know\n",
            " \n",
            "like\n",
            " \n",
            "bike\n",
            " \n",
            "problem\n",
            " \n",
            "window\n",
            " \n",
            "going\n",
            " \n",
            "think\n",
            " \n",
            "Topic 11: \n",
            "window\n",
            " \n",
            "scsi\n",
            " \n",
            "problem\n",
            " \n",
            "israel\n",
            " \n",
            "server\n",
            " \n",
            "motif\n",
            " \n",
            "display\n",
            " \n",
            "Topic 12: \n",
            "space\n",
            " \n",
            "scsi\n",
            " \n",
            "card\n",
            " \n",
            "nasa\n",
            " \n",
            "know\n",
            " \n",
            "file\n",
            " \n",
            "shuttle\n",
            " \n",
            "Topic 13: \n",
            "scsi\n",
            " \n",
            "windows\n",
            " \n",
            "people\n",
            " \n",
            "version\n",
            " \n",
            "window\n",
            " \n",
            "thanks\n",
            " \n",
            "list\n",
            " \n",
            "Topic 14: \n",
            "israel\n",
            " \n",
            "scsi\n",
            " \n",
            "file\n",
            " \n",
            "like\n",
            " \n",
            "know\n",
            " \n",
            "israeli\n",
            " \n",
            "jews\n",
            " \n",
            "Topic 15: \n",
            "file\n",
            " \n",
            "armenian\n",
            " \n",
            "armenians\n",
            " \n",
            "people\n",
            " \n",
            "like\n",
            " \n",
            "turkish\n",
            " \n",
            "scsi\n",
            " \n",
            "Topic 16: \n",
            "know\n",
            " \n",
            "windows\n",
            " \n",
            "space\n",
            " \n",
            "jesus\n",
            " \n",
            "armenian\n",
            " \n",
            "armenians\n",
            " \n",
            "mouse\n",
            " \n",
            "Topic 17: \n",
            "like\n",
            " \n",
            "window\n",
            " \n",
            "people\n",
            " \n",
            "know\n",
            " \n",
            "think\n",
            " \n",
            "list\n",
            " \n",
            "drive\n",
            " \n",
            "Topic 18: \n",
            "like\n",
            " \n",
            "thanks\n",
            " \n",
            "space\n",
            " \n",
            "chip\n",
            " \n",
            "jesus\n",
            " \n",
            "windows\n",
            " \n",
            "memory\n",
            " \n",
            "Topic 19: \n",
            "window\n",
            " \n",
            "bike\n",
            " \n",
            "card\n",
            " \n",
            "looking\n",
            " \n",
            "space\n",
            " \n",
            "jesus\n",
            " \n",
            "good\n",
            " \n"
          ],
          "name": "stdout"
        }
      ]
    },
    {
      "cell_type": "markdown",
      "metadata": {
        "id": "-wSYPi7ddrMM",
        "colab_type": "text"
      },
      "source": [
        "### Topics Visualization\n",
        "To find out how distinct our topics are, we should visualize them. Of course, we cannot visualize more than 3 dimensions, but there are techniques like PCA and t-SNE which can help us visualize high dimensional data into lower dimensions. Here we will use a relatively new technique called UMAP (Uniform Manifold Approximation and Projection)."
      ]
    },
    {
      "cell_type": "code",
      "metadata": {
        "id": "OrUccwO-dMAb",
        "colab_type": "code",
        "colab": {
          "base_uri": "https://localhost:8080/",
          "height": 323
        },
        "outputId": "6572bf94-ca99-4b9c-f5f1-02c29862d982"
      },
      "source": [
        "import umap\n",
        "\n",
        "X_topics = svd_model.fit_transform(X)\n",
        "embedding = umap.UMAP(n_neighbors=150, min_dist=0.5, random_state=12).fit_transform(X_topics)\n",
        "\n",
        "plt.figure(figsize=(7,5))\n",
        "plt.scatter(embedding[:, 0], embedding[:, 1], \n",
        "c = dataset.target,\n",
        "s = 10, # size\n",
        "edgecolor='none'\n",
        ")\n",
        "plt.show()"
      ],
      "execution_count": 13,
      "outputs": [
        {
          "output_type": "display_data",
          "data": {
            "image/png": "[encoded data removed]",
            "text/plain": [
              "<Figure size 504x360 with 1 Axes>"
            ]
          },
          "metadata": {
            "tags": []
          }
        }
      ]
    },
    {
      "cell_type": "markdown",
      "metadata": {
        "id": "N1cxRWVFdyu_",
        "colab_type": "text"
      },
      "source": [
        "As you can see above, the result is quite beautiful. Each dot represents a document and the colours represent the 20 newsgroups. Our LSA model seems to have done a good job. Feel free to play around with the parameters of UMAP to see how the plot changes its shape."
      ]
    },
    {
      "cell_type": "markdown",
      "metadata": {
        "id": "o7qFbfW9d--R",
        "colab_type": "text"
      },
      "source": [
        "## 5. Pros and Cons of LSA\n",
        "Latent Semantic Analysis can be very useful as we saw above, but it does have its limitations. It’s important to understand both the sides of LSA so you have an idea of when to leverage it and when to try something else.\n",
        "\n",
        "**Pros:**\n",
        "\n",
        "- LSA is fast and easy to implement.\n",
        "- It gives decent results, much better than a plain vector space model.\n",
        "\n",
        "**Cons:**\n",
        "\n",
        "- Since it is a linear model, it might not do well on datasets with non-linear dependencies.\n",
        "- LSA assumes a Gaussian distribution of the terms in the documents, which may not be true for all problems.\n",
        "- LSA involves SVD, which is computationally intensive and hard to update as new data comes up."
      ]
    },
    {
      "cell_type": "markdown",
      "metadata": {
        "id": "n1GnQOEWeTvJ",
        "colab_type": "text"
      },
      "source": [
        "## 6. Other Techniques for Topic Modeling\n",
        "\n",
        "Apart from LSA, **there are other advanced and efficient topic modeling techniques such as Latent Dirichlet Allocation (LDA) and lda2Vec**. We have a wonderful article on LDA which you can check out here. lda2vec is a much more advanced topic modeling which is based on word2vec word embeddings. If you want to find out more about it, let me know in the comments section below and I’ll be happy to answer your questions/."
      ]
    },
    {
      "cell_type": "code",
      "metadata": {
        "id": "ULHU-aFcdvl2",
        "colab_type": "code",
        "colab": {}
      },
      "source": [
        ""
      ],
      "execution_count": 0,
      "outputs": []
    }
  ]
}