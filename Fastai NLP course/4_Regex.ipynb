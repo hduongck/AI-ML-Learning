{
  "nbformat": 4,
  "nbformat_minor": 0,
  "metadata": {
    "colab": {
      "name": "4_Regex.ipynb",
      "version": "0.3.2",
      "provenance": [],
      "collapsed_sections": [],
      "include_colab_link": true
    },
    "kernelspec": {
      "name": "python3",
      "display_name": "Python 3"
    }
  },
  "cells": [
    {
      "cell_type": "markdown",
      "metadata": {
        "id": "view-in-github",
        "colab_type": "text"
      },
      "source": [
        "<a href=\"https://colab.research.google.com/github/hduongck/AI-ML-Learning/blob/master/Fastai%20NLP%20course/4_Regex.ipynb\" target=\"_parent\"><img src=\"https://colab.research.google.com/assets/colab-badge.svg\" alt=\"Open In Colab\"/></a>"
      ]
    },
    {
      "cell_type": "markdown",
      "metadata": {
        "id": "haNPk2lY0Tno",
        "colab_type": "text"
      },
      "source": [
        "# Regex [Video 6](https://youtu.be/z8-Tbrg1-rE?t=1111)\n",
        "\n",
        "In this lesson, we'll learn about a useful tool in the NLP toolkit: regex.\n",
        "\n",
        "Let's consider two motivating examples:\n",
        "\n",
        "**1. The phone number problem**\n",
        "\n",
        "Suppose we are given some data that includes phone numbers:\n",
        "\n",
        "123-456-7890\n",
        "\n",
        "123 456 7890\n",
        "\n",
        "101 Howard\n",
        "\n",
        "Some of the phone numbers have different formats (hyphens, no hyphens). Also, there are some errors in the data-- 101 Howard isn't a phone number! How can we find all the phone numbers?\n",
        "\n",
        "**2. Creating our own tokens**\n",
        "\n",
        "In the previous lessons, we used sklearn or fastai to tokenize our text. What if we want to do it ourselves?"
      ]
    },
    {
      "cell_type": "markdown",
      "metadata": {
        "id": "Ahgc9I9k1qxZ",
        "colab_type": "text"
      },
      "source": [
        "## The phone number problem\n",
        "\n",
        "Suppose we are given some data that includes phone numbers:\n",
        "\n",
        "123-456-7890\n",
        "\n",
        "123 456 7890\n",
        "\n",
        "(123)456-7890\n",
        "\n",
        "101 Howard\n",
        "\n",
        "Some of the phone numbers have different formats (hyphens, no hyphens, parentheses). Also, there are some errors in the data-- 101 Howard isn't a phone number! How can we find all the phone numbers?\n",
        "\n",
        "We will attempt this without regex, but will see that this quickly leads to lot of if/else branching statements and isn't a veyr promising approach:"
      ]
    },
    {
      "cell_type": "markdown",
      "metadata": {
        "id": "6Ph6_nzg13z2",
        "colab_type": "text"
      },
      "source": [
        "### Attempt 1 (without regex)"
      ]
    },
    {
      "cell_type": "code",
      "metadata": {
        "id": "ZuJbKjW50G27",
        "colab_type": "code",
        "colab": {}
      },
      "source": [
        "phone1 = \"123-456-7890\"\n",
        "\n",
        "phone2 = \"123 456 7890\"\n",
        "\n",
        "not_phone1 = \"101 Howard\""
      ],
      "execution_count": 0,
      "outputs": []
    },
    {
      "cell_type": "code",
      "metadata": {
        "id": "5QHvtxUW16sX",
        "colab_type": "code",
        "outputId": "21d40979-0f32-4887-cb62-fcd2d4dd3de8",
        "colab": {
          "base_uri": "https://localhost:8080/",
          "height": 34
        }
      },
      "source": [
        "import string\n",
        "\n",
        "string.digits"
      ],
      "execution_count": 2,
      "outputs": [
        {
          "output_type": "execute_result",
          "data": {
            "text/plain": [
              "'0123456789'"
            ]
          },
          "metadata": {
            "tags": []
          },
          "execution_count": 2
        }
      ]
    },
    {
      "cell_type": "code",
      "metadata": {
        "id": "17GJDVdz18pV",
        "colab_type": "code",
        "colab": {}
      },
      "source": [
        "def check_phone(inp):\n",
        "    valid_chars = string.digits+' -()'\n",
        "    for char in inp:\n",
        "        if char not in valid_chars:\n",
        "            return False\n",
        "    return True"
      ],
      "execution_count": 0,
      "outputs": []
    },
    {
      "cell_type": "code",
      "metadata": {
        "id": "L2ayUMi22r-U",
        "colab_type": "code",
        "colab": {}
      },
      "source": [
        "assert(check_phone(phone1))\n",
        "assert(check_phone(phone2))\n",
        "assert(not check_phone(not_phone1))"
      ],
      "execution_count": 0,
      "outputs": []
    },
    {
      "cell_type": "markdown",
      "metadata": {
        "id": "FeOuUs5322q2",
        "colab_type": "text"
      },
      "source": [
        "### Attempt 2 (without regex)\n"
      ]
    },
    {
      "cell_type": "code",
      "metadata": {
        "id": "7Vm51JJs2zrd",
        "colab_type": "code",
        "outputId": "39ecedb5-286a-496e-abe5-9672f6ee2413",
        "colab": {
          "base_uri": "https://localhost:8080/",
          "height": 180
        }
      },
      "source": [
        "not_phone2 =\"1234\"\n",
        "assert(not check_phone(not_phone2))"
      ],
      "execution_count": 5,
      "outputs": [
        {
          "output_type": "error",
          "ename": "AssertionError",
          "evalue": "ignored",
          "traceback": [
            "\u001b[0;31m---------------------------------------------------------------------------\u001b[0m",
            "\u001b[0;31mAssertionError\u001b[0m                            Traceback (most recent call last)",
            "\u001b[0;32m<ipython-input-5-54a3662fc186>\u001b[0m in \u001b[0;36m<module>\u001b[0;34m()\u001b[0m\n\u001b[1;32m      1\u001b[0m \u001b[0mnot_phone2\u001b[0m \u001b[0;34m=\u001b[0m\u001b[0;34m\"1234\"\u001b[0m\u001b[0;34m\u001b[0m\u001b[0;34m\u001b[0m\u001b[0m\n\u001b[0;32m----> 2\u001b[0;31m \u001b[0;32massert\u001b[0m\u001b[0;34m(\u001b[0m\u001b[0;32mnot\u001b[0m \u001b[0mcheck_phone\u001b[0m\u001b[0;34m(\u001b[0m\u001b[0mnot_phone2\u001b[0m\u001b[0;34m)\u001b[0m\u001b[0;34m)\u001b[0m\u001b[0;34m\u001b[0m\u001b[0;34m\u001b[0m\u001b[0m\n\u001b[0m",
            "\u001b[0;31mAssertionError\u001b[0m: "
          ]
        }
      ]
    },
    {
      "cell_type": "code",
      "metadata": {
        "id": "fMOHN_wj3DCw",
        "colab_type": "code",
        "colab": {}
      },
      "source": [
        "def check_phone(inp):\n",
        "    nums = string.digits\n",
        "    valid_chars = nums + ' -()'\n",
        "    num_counter = 0\n",
        "    for char in inp:\n",
        "        if char not in valid_chars:\n",
        "            return False\n",
        "        if char in nums:\n",
        "            num_counter += 1\n",
        "    if num_counter==10:\n",
        "        return True\n",
        "    else:\n",
        "        return False"
      ],
      "execution_count": 0,
      "outputs": []
    },
    {
      "cell_type": "code",
      "metadata": {
        "id": "IYYye0G-3grh",
        "colab_type": "code",
        "colab": {}
      },
      "source": [
        "\n",
        "assert(check_phone(phone1))\n",
        "assert(check_phone(phone2))\n",
        "assert(not check_phone(not_phone1))\n",
        "assert(not check_phone(not_phone2))"
      ],
      "execution_count": 0,
      "outputs": []
    },
    {
      "cell_type": "markdown",
      "metadata": {
        "id": "Vk4ILWE_3mlj",
        "colab_type": "text"
      },
      "source": [
        "### Attempt 3 (without regex)\n",
        "\n",
        "But we also need to extract the digits!\n",
        "\n",
        "Also, what about:\n",
        "\n",
        "34!NA5098gn#213ee2"
      ]
    },
    {
      "cell_type": "code",
      "metadata": {
        "id": "rKIF7ESO3igj",
        "colab_type": "code",
        "outputId": "904f3b67-d36b-4b64-c8f5-ef5719910106",
        "colab": {
          "base_uri": "https://localhost:8080/",
          "height": 197
        }
      },
      "source": [
        "not_phone3 = \"34 50 98 21 32\"\n",
        "\n",
        "assert(not check_phone(not_phone3))"
      ],
      "execution_count": 8,
      "outputs": [
        {
          "output_type": "error",
          "ename": "AssertionError",
          "evalue": "ignored",
          "traceback": [
            "\u001b[0;31m---------------------------------------------------------------------------\u001b[0m",
            "\u001b[0;31mAssertionError\u001b[0m                            Traceback (most recent call last)",
            "\u001b[0;32m<ipython-input-8-63ad4ac6a61d>\u001b[0m in \u001b[0;36m<module>\u001b[0;34m()\u001b[0m\n\u001b[1;32m      1\u001b[0m \u001b[0mnot_phone3\u001b[0m \u001b[0;34m=\u001b[0m \u001b[0;34m\"34 50 98 21 32\"\u001b[0m\u001b[0;34m\u001b[0m\u001b[0;34m\u001b[0m\u001b[0m\n\u001b[1;32m      2\u001b[0m \u001b[0;34m\u001b[0m\u001b[0m\n\u001b[0;32m----> 3\u001b[0;31m \u001b[0;32massert\u001b[0m\u001b[0;34m(\u001b[0m\u001b[0;32mnot\u001b[0m \u001b[0mcheck_phone\u001b[0m\u001b[0;34m(\u001b[0m\u001b[0mnot_phone3\u001b[0m\u001b[0;34m)\u001b[0m\u001b[0;34m)\u001b[0m\u001b[0;34m\u001b[0m\u001b[0;34m\u001b[0m\u001b[0m\n\u001b[0m",
            "\u001b[0;31mAssertionError\u001b[0m: "
          ]
        }
      ]
    },
    {
      "cell_type": "code",
      "metadata": {
        "id": "y5CzeOba3rih",
        "colab_type": "code",
        "outputId": "d45ce159-5492-4b15-8d32-6623451d6cca",
        "colab": {
          "base_uri": "https://localhost:8080/",
          "height": 197
        }
      },
      "source": [
        "not_phone4 = \"(34)(50)()()982132\"\n",
        "\n",
        "assert(not check_phone(not_phone3))"
      ],
      "execution_count": 9,
      "outputs": [
        {
          "output_type": "error",
          "ename": "AssertionError",
          "evalue": "ignored",
          "traceback": [
            "\u001b[0;31m---------------------------------------------------------------------------\u001b[0m",
            "\u001b[0;31mAssertionError\u001b[0m                            Traceback (most recent call last)",
            "\u001b[0;32m<ipython-input-9-081f5987a5f8>\u001b[0m in \u001b[0;36m<module>\u001b[0;34m()\u001b[0m\n\u001b[1;32m      1\u001b[0m \u001b[0mnot_phone4\u001b[0m \u001b[0;34m=\u001b[0m \u001b[0;34m\"(34)(50)()()982132\"\u001b[0m\u001b[0;34m\u001b[0m\u001b[0;34m\u001b[0m\u001b[0m\n\u001b[1;32m      2\u001b[0m \u001b[0;34m\u001b[0m\u001b[0m\n\u001b[0;32m----> 3\u001b[0;31m \u001b[0;32massert\u001b[0m\u001b[0;34m(\u001b[0m\u001b[0;32mnot\u001b[0m \u001b[0mcheck_phone\u001b[0m\u001b[0;34m(\u001b[0m\u001b[0mnot_phone3\u001b[0m\u001b[0;34m)\u001b[0m\u001b[0;34m)\u001b[0m\u001b[0;34m\u001b[0m\u001b[0;34m\u001b[0m\u001b[0m\n\u001b[0m",
            "\u001b[0;31mAssertionError\u001b[0m: "
          ]
        }
      ]
    },
    {
      "cell_type": "markdown",
      "metadata": {
        "id": "LfCV1QMl3wfB",
        "colab_type": "text"
      },
      "source": [
        "**This is getting increasingly unwieldy. We need a different approach.**"
      ]
    },
    {
      "cell_type": "markdown",
      "metadata": {
        "id": "OwBkIhVg39XH",
        "colab_type": "text"
      },
      "source": [
        "## Introducing regex\n",
        "\n",
        "Useful regex resources:\n",
        "\n",
        "https://regexr.com/\n",
        "\n",
        "http://callumacrae.github.io/regex-tuesday/\n",
        "\n",
        "https://regexone.com/\n",
        "\n",
        "**Best practice: Be as specific as possible.**\n",
        "\n",
        "Parts of the following section were adapted from Brian Spiering, who taught the [MSDS NLP elective last summer.](https://github.com/brianspiering/nlp-course)"
      ]
    },
    {
      "cell_type": "markdown",
      "metadata": {
        "id": "38zwu3m04beO",
        "colab_type": "text"
      },
      "source": [
        "###What is regex?\n",
        "\n",
        "Regular expressions is a pattern matching language.\n",
        "\n",
        "Instead of writing 0 1 2 3 4 5 6 7 8 9, you can write [0-9] or \\d (represent lowercase of digit)\n",
        "\n",
        "It is Domain Specific Language (DSL). Powerful (but limited language).\n",
        "\n",
        "**What other DSLs do you already know?**\n",
        "\n",
        "- SQL\n",
        "- Markdown\n",
        "- TensorFlow"
      ]
    },
    {
      "cell_type": "markdown",
      "metadata": {
        "id": "rQXYkxoX5CoC",
        "colab_type": "text"
      },
      "source": [
        "**Matching Phone Numbers (The \"Hello, world!\" of Regex)**\n",
        "\n",
        "[0-9][0-9][0-9]-[0-9][0-9][0-9]-[0-9][0-9][0-9][0-9] matches US telephone number.\n",
        "\n",
        "Refactored: \\d\\d\\d-\\d\\d\\d-\\d\\d\\d\\d\n",
        "\n",
        "A **metacharacter** is one or more special characters that have a unique meaning and are NOT used as literals in the search expression. For example \"\\d\" means any digit.\n",
        "\n",
        "**Metacharacters are the special sauce of regex.**\n",
        "\n",
        "**Quantifiers**\n",
        "\n",
        "Allow you to specify how many times the preceding expression should match.\n",
        "\n",
        "{} is an extact qualifer\n",
        "\n",
        "Refactored: \\d{3}-\\d{3}-\\d{4}\n",
        "\n",
        "\\d{3} means \\d\\d\\d\n",
        "\n",
        "**Unexact quantifiers**\n",
        "\n",
        "- `? question mark - zero or one`\n",
        "- `* star - zero or more`\n",
        "- `+ plus sign - one or more |`\n",
        "\n",
        "Regex can look really weird, since it's so concise\n",
        "\n",
        "The best (only?) way to learn it is through practice. Otherwise, you feel like you're just reading lists of rules.\n",
        "\n",
        "Let's take 15 minutes to begin working through the lessons on [regexone](https://regexone.com/).\n",
        "\n",
        "**Reminder: Be as specific as possible!**"
      ]
    },
    {
      "cell_type": "markdown",
      "metadata": {
        "id": "hVzaA9Wp7CE5",
        "colab_type": "text"
      },
      "source": [
        "### Pros & Cons of Regex\n",
        "What are the advantages of regex?\n",
        "\n",
        "- Concise and powerful pattern matching DSL\n",
        "- Supported by many computer languages, including SQL\n",
        "\n",
        "What are the disadvantages of regex?\n",
        "\n",
        "- Brittle\n",
        "- Hard to write, can get complex to be correct\n",
        "- Hard to read"
      ]
    },
    {
      "cell_type": "markdown",
      "metadata": {
        "id": "I8Ab_k427Vyq",
        "colab_type": "text"
      },
      "source": [
        "## Revisiting tokenization\n",
        "\n",
        "In the previous lessons, we used a tokenizer. Now, let's learn how we could do this ourselves, and get a better understanding of tokenization.\n",
        "\n",
        "What if we needed to create our own tokens?"
      ]
    },
    {
      "cell_type": "code",
      "metadata": {
        "id": "2gI_BhFm3vAu",
        "colab_type": "code",
        "colab": {}
      },
      "source": [
        "import re"
      ],
      "execution_count": 0,
      "outputs": []
    },
    {
      "cell_type": "markdown",
      "metadata": {
        "id": "8zwgcQr4CYDq",
        "colab_type": "text"
      },
      "source": [
        "re_apos = re.compile(r\"n ' t \")\n",
        "\n",
        "-> #n't -> didn't don't wouldn't : these words would have different meaning, a version of not so we want to pick that out\n",
        "\n",
        "re_bpos = re.compile(r\" ' s\")\n",
        "\n",
        "-? # 's -> is the pocessive of something, i.e Rachel's , Sarah's office\n",
        "\n",
        "re_mult_space = re.compile(r\" *\")\n",
        "\n",
        "=> replace multiple space with just one, don't use whitespace as a token\n",
        "\n",
        "the library re.compile : to create a regex thing\n",
        "\n",
        "re.sub -> to substitulte in what we want.\n",
        "\n",
        "Writing a method that will take a sentence for punctuation. When we find punctuation, we gonna substitute spaces on either side and any guesses to what the blakcdash one refers to ."
      ]
    },
    {
      "cell_type": "code",
      "metadata": {
        "id": "DGGNglP1BhOU",
        "colab_type": "code",
        "colab": {}
      },
      "source": [
        "re_punc = re.compile(\"([\\\"\\''().,;:/_?!—\\-])\") # add spaces around punctuation\n",
        "re_apos = re.compile(r\"n ' t \")    # n't\n",
        "re_bpos = re.compile(r\" ' s \")     # 's\n",
        "re_mult_space = re.compile(r\"  *\") # replace multiple spaces with just one\n",
        "\n",
        "def simple_toks(sent):\n",
        "    sent = re_punc.sub(r\" \\1 \", sent)\n",
        "    sent = re_apos.sub(r\" n't \", sent)\n",
        "    sent = re_bpos.sub(r\" 's \", sent)\n",
        "    sent = re_mult_space.sub(' ', sent)\n",
        "    return sent.lower().split()"
      ],
      "execution_count": 0,
      "outputs": []
    },
    {
      "cell_type": "code",
      "metadata": {
        "id": "_q9wBMgtnH-7",
        "colab_type": "code",
        "colab": {}
      },
      "source": [
        "text = \"I don't know who Kara's new friend is-- is it 'Mr. Toad'? \""
      ],
      "execution_count": 0,
      "outputs": []
    },
    {
      "cell_type": "code",
      "metadata": {
        "id": "0wQrrQ8HnXI5",
        "colab_type": "code",
        "colab": {
          "base_uri": "https://localhost:8080/",
          "height": 34
        },
        "outputId": "fac901bf-cab4-4833-a645-fac048d698d2"
      },
      "source": [
        "' '.join(simple_toks(text))"
      ],
      "execution_count": 37,
      "outputs": [
        {
          "output_type": "execute_result",
          "data": {
            "text/plain": [
              "\"i do n't know who kara 's new friend is - - is it ' mr . toad ' ?\""
            ]
          },
          "metadata": {
            "tags": []
          },
          "execution_count": 37
        }
      ]
    },
    {
      "cell_type": "code",
      "metadata": {
        "id": "924OziCmnaxQ",
        "colab_type": "code",
        "colab": {
          "base_uri": "https://localhost:8080/",
          "height": 34
        },
        "outputId": "ce48cf0f-0f0a-4455-a8a5-dc2372f07ae9"
      },
      "source": [
        "text2 = re_punc.sub(r\" \\1 \",text);text2"
      ],
      "execution_count": 38,
      "outputs": [
        {
          "output_type": "execute_result",
          "data": {
            "text/plain": [
              "\"I don ' t know who Kara ' s new friend is -  -  is it  ' Mr .  Toad '  ?  \""
            ]
          },
          "metadata": {
            "tags": []
          },
          "execution_count": 38
        }
      ]
    },
    {
      "cell_type": "code",
      "metadata": {
        "id": "mF1YRDNUnyDP",
        "colab_type": "code",
        "colab": {
          "base_uri": "https://localhost:8080/",
          "height": 34
        },
        "outputId": "8816cf65-9267-4086-9b52-df47f3d01e7d"
      },
      "source": [
        "text3 = re_apos.sub(r\" n't \",text2);text3"
      ],
      "execution_count": 39,
      "outputs": [
        {
          "output_type": "execute_result",
          "data": {
            "text/plain": [
              "\"I do n't know who Kara ' s new friend is -  -  is it  ' Mr .  Toad '  ?  \""
            ]
          },
          "metadata": {
            "tags": []
          },
          "execution_count": 39
        }
      ]
    },
    {
      "cell_type": "code",
      "metadata": {
        "id": "Wi147ZCNoEYX",
        "colab_type": "code",
        "colab": {
          "base_uri": "https://localhost:8080/",
          "height": 34
        },
        "outputId": "f59dd37c-0644-4f55-c070-aa39d76b772e"
      },
      "source": [
        "text4 = re_bpos.sub(r\" 's \", text3); text4"
      ],
      "execution_count": 40,
      "outputs": [
        {
          "output_type": "execute_result",
          "data": {
            "text/plain": [
              "\"I do n't know who Kara 's new friend is -  -  is it  ' Mr .  Toad '  ?  \""
            ]
          },
          "metadata": {
            "tags": []
          },
          "execution_count": 40
        }
      ]
    },
    {
      "cell_type": "code",
      "metadata": {
        "id": "-BSvKV0UoL7T",
        "colab_type": "code",
        "colab": {
          "base_uri": "https://localhost:8080/",
          "height": 34
        },
        "outputId": "71ad32fa-6f87-4229-ab82-5e6e5c5b249e"
      },
      "source": [
        "re_mult_space.sub(' ', text4)"
      ],
      "execution_count": 41,
      "outputs": [
        {
          "output_type": "execute_result",
          "data": {
            "text/plain": [
              "\"I do n't know who Kara 's new friend is - - is it ' Mr . Toad ' ? \""
            ]
          },
          "metadata": {
            "tags": []
          },
          "execution_count": 41
        }
      ]
    },
    {
      "cell_type": "code",
      "metadata": {
        "id": "6EYfF9GIoQ6S",
        "colab_type": "code",
        "colab": {}
      },
      "source": [
        "sentences = ['All this happened, more or less.',\n",
        "             'The war parts, anyway, are pretty much true.',\n",
        "             \"One guy I knew really was shot for taking a teapot that wasn't his.\",\n",
        "             'Another guy I knew really did threaten to have his personal enemies killed by hired gunmen after the war.',\n",
        "             'And so on.',\n",
        "             \"I've changed all their names.\"]"
      ],
      "execution_count": 0,
      "outputs": []
    },
    {
      "cell_type": "code",
      "metadata": {
        "id": "MvknUJj1qvFO",
        "colab_type": "code",
        "colab": {}
      },
      "source": [
        "tokens = list(map(simple_toks,sentences))"
      ],
      "execution_count": 0,
      "outputs": []
    },
    {
      "cell_type": "code",
      "metadata": {
        "id": "uZzQ3Gnlq0WN",
        "colab_type": "code",
        "colab": {
          "base_uri": "https://localhost:8080/",
          "height": 867
        },
        "outputId": "42c34fc0-0456-47a9-8f20-9d8b72d23085"
      },
      "source": [
        "tokens"
      ],
      "execution_count": 44,
      "outputs": [
        {
          "output_type": "execute_result",
          "data": {
            "text/plain": [
              "[['all', 'this', 'happened', ',', 'more', 'or', 'less', '.'],\n",
              " ['the',\n",
              "  'war',\n",
              "  'parts',\n",
              "  ',',\n",
              "  'anyway',\n",
              "  ',',\n",
              "  'are',\n",
              "  'pretty',\n",
              "  'much',\n",
              "  'true',\n",
              "  '.'],\n",
              " ['one',\n",
              "  'guy',\n",
              "  'i',\n",
              "  'knew',\n",
              "  'really',\n",
              "  'was',\n",
              "  'shot',\n",
              "  'for',\n",
              "  'taking',\n",
              "  'a',\n",
              "  'teapot',\n",
              "  'that',\n",
              "  'was',\n",
              "  \"n't\",\n",
              "  'his',\n",
              "  '.'],\n",
              " ['another',\n",
              "  'guy',\n",
              "  'i',\n",
              "  'knew',\n",
              "  'really',\n",
              "  'did',\n",
              "  'threaten',\n",
              "  'to',\n",
              "  'have',\n",
              "  'his',\n",
              "  'personal',\n",
              "  'enemies',\n",
              "  'killed',\n",
              "  'by',\n",
              "  'hired',\n",
              "  'gunmen',\n",
              "  'after',\n",
              "  'the',\n",
              "  'war',\n",
              "  '.'],\n",
              " ['and', 'so', 'on', '.'],\n",
              " ['i', \"'\", 've', 'changed', 'all', 'their', 'names', '.']]"
            ]
          },
          "metadata": {
            "tags": []
          },
          "execution_count": 44
        }
      ]
    },
    {
      "cell_type": "markdown",
      "metadata": {
        "id": "rDt-dQRRrRjT",
        "colab_type": "text"
      },
      "source": [
        "Once we have our tokens, we need to convert them to integer ids. We will also need to know our vocabulary, and have a way to convert between words and ids."
      ]
    },
    {
      "cell_type": "code",
      "metadata": {
        "id": "Jpy1A-cpq1R_",
        "colab_type": "code",
        "colab": {}
      },
      "source": [
        "import collections"
      ],
      "execution_count": 0,
      "outputs": []
    },
    {
      "cell_type": "code",
      "metadata": {
        "id": "a4YS3BYir8fS",
        "colab_type": "code",
        "colab": {}
      },
      "source": [
        "PAD = 0; SOS = 1\n",
        "\n",
        "def toks2ids(sentences):\n",
        "    voc_cnt = collections.Counter(t for sent in sentences for t in sent)\n",
        "    vocab = sorted(voc_cnt,key=voc_cnt.get,reverse=True)\n",
        "    vocab.insert(PAD,\"<PAD>\")\n",
        "    vocab.insert(SOS,\"<SOS>\")\n",
        "    w2id = {w:i for i,w in enumerate(vocab)}\n",
        "    ids = [[w2id[t] for t in sent] for sent in sentences]\n",
        "    return ids,vocab,w2id,voc_cnt"
      ],
      "execution_count": 0,
      "outputs": []
    },
    {
      "cell_type": "code",
      "metadata": {
        "id": "yWWALff7tDnL",
        "colab_type": "code",
        "colab": {}
      },
      "source": [
        "ids,vocab,w2id,voc_cnt = toks2ids(tokens)"
      ],
      "execution_count": 0,
      "outputs": []
    },
    {
      "cell_type": "code",
      "metadata": {
        "id": "710e1gKwtILU",
        "colab_type": "code",
        "colab": {
          "base_uri": "https://localhost:8080/",
          "height": 119
        },
        "outputId": "7e2f42e2-1f68-4a51-c895-41d32415789e"
      },
      "source": [
        "ids"
      ],
      "execution_count": 48,
      "outputs": [
        {
          "output_type": "execute_result",
          "data": {
            "text/plain": [
              "[[5, 13, 14, 3, 15, 16, 17, 2],\n",
              " [6, 7, 18, 3, 19, 3, 20, 21, 22, 23, 2],\n",
              " [24, 8, 4, 9, 10, 11, 25, 26, 27, 28, 29, 30, 11, 31, 12, 2],\n",
              " [32, 8, 4, 9, 10, 33, 34, 35, 36, 12, 37, 38, 39, 40, 41, 42, 43, 6, 7, 2],\n",
              " [44, 45, 46, 2],\n",
              " [4, 47, 48, 49, 5, 50, 51, 2]]"
            ]
          },
          "metadata": {
            "tags": []
          },
          "execution_count": 48
        }
      ]
    },
    {
      "cell_type": "markdown",
      "metadata": {
        "id": "BaFKjZY9w0jw",
        "colab_type": "text"
      },
      "source": [
        "if we to get back to sentences "
      ]
    },
    {
      "cell_type": "code",
      "metadata": {
        "id": "tzxPgeVRw4Ri",
        "colab_type": "code",
        "colab": {
          "base_uri": "https://localhost:8080/",
          "height": 34
        },
        "outputId": "5da0812c-22f2-43e3-8f22-452ee19b91a0"
      },
      "source": [
        "[vocab[i] for i in ids[0]]"
      ],
      "execution_count": 51,
      "outputs": [
        {
          "output_type": "execute_result",
          "data": {
            "text/plain": [
              "['all', 'this', 'happened', ',', 'more', 'or', 'less', '.']"
            ]
          },
          "metadata": {
            "tags": []
          },
          "execution_count": 51
        }
      ]
    },
    {
      "cell_type": "code",
      "metadata": {
        "id": "Q7VgVNpltI0F",
        "colab_type": "code",
        "colab": {
          "base_uri": "https://localhost:8080/",
          "height": 901
        },
        "outputId": "0cded8ea-779b-4c53-e118-b584c576bf59"
      },
      "source": [
        "vocab"
      ],
      "execution_count": 49,
      "outputs": [
        {
          "output_type": "execute_result",
          "data": {
            "text/plain": [
              "['<PAD>',\n",
              " '<SOS>',\n",
              " '.',\n",
              " ',',\n",
              " 'i',\n",
              " 'all',\n",
              " 'the',\n",
              " 'war',\n",
              " 'guy',\n",
              " 'knew',\n",
              " 'really',\n",
              " 'was',\n",
              " 'his',\n",
              " 'this',\n",
              " 'happened',\n",
              " 'more',\n",
              " 'or',\n",
              " 'less',\n",
              " 'parts',\n",
              " 'anyway',\n",
              " 'are',\n",
              " 'pretty',\n",
              " 'much',\n",
              " 'true',\n",
              " 'one',\n",
              " 'shot',\n",
              " 'for',\n",
              " 'taking',\n",
              " 'a',\n",
              " 'teapot',\n",
              " 'that',\n",
              " \"n't\",\n",
              " 'another',\n",
              " 'did',\n",
              " 'threaten',\n",
              " 'to',\n",
              " 'have',\n",
              " 'personal',\n",
              " 'enemies',\n",
              " 'killed',\n",
              " 'by',\n",
              " 'hired',\n",
              " 'gunmen',\n",
              " 'after',\n",
              " 'and',\n",
              " 'so',\n",
              " 'on',\n",
              " \"'\",\n",
              " 've',\n",
              " 'changed',\n",
              " 'their',\n",
              " 'names']"
            ]
          },
          "metadata": {
            "tags": []
          },
          "execution_count": 49
        }
      ]
    },
    {
      "cell_type": "markdown",
      "metadata": {
        "id": "OUWiCmQ2t1xe",
        "colab_type": "text"
      },
      "source": [
        "vocab.itos - > This list is to giving us a map of how we get from a number to a token and  \n",
        "\n",
        "Q: what could be another name of the vocab variable above?"
      ]
    },
    {
      "cell_type": "code",
      "metadata": {
        "id": "KpHktkKltnwx",
        "colab_type": "code",
        "colab": {
          "base_uri": "https://localhost:8080/",
          "height": 901
        },
        "outputId": "9133c624-708b-43bd-b39a-58d306c618cd"
      },
      "source": [
        "w2id"
      ],
      "execution_count": 50,
      "outputs": [
        {
          "output_type": "execute_result",
          "data": {
            "text/plain": [
              "{\"'\": 47,\n",
              " ',': 3,\n",
              " '.': 2,\n",
              " '<PAD>': 0,\n",
              " '<SOS>': 1,\n",
              " 'a': 28,\n",
              " 'after': 43,\n",
              " 'all': 5,\n",
              " 'and': 44,\n",
              " 'another': 32,\n",
              " 'anyway': 19,\n",
              " 'are': 20,\n",
              " 'by': 40,\n",
              " 'changed': 49,\n",
              " 'did': 33,\n",
              " 'enemies': 38,\n",
              " 'for': 26,\n",
              " 'gunmen': 42,\n",
              " 'guy': 8,\n",
              " 'happened': 14,\n",
              " 'have': 36,\n",
              " 'hired': 41,\n",
              " 'his': 12,\n",
              " 'i': 4,\n",
              " 'killed': 39,\n",
              " 'knew': 9,\n",
              " 'less': 17,\n",
              " 'more': 15,\n",
              " 'much': 22,\n",
              " \"n't\": 31,\n",
              " 'names': 51,\n",
              " 'on': 46,\n",
              " 'one': 24,\n",
              " 'or': 16,\n",
              " 'parts': 18,\n",
              " 'personal': 37,\n",
              " 'pretty': 21,\n",
              " 'really': 10,\n",
              " 'shot': 25,\n",
              " 'so': 45,\n",
              " 'taking': 27,\n",
              " 'teapot': 29,\n",
              " 'that': 30,\n",
              " 'the': 6,\n",
              " 'their': 50,\n",
              " 'this': 13,\n",
              " 'threaten': 34,\n",
              " 'to': 35,\n",
              " 'true': 23,\n",
              " 've': 48,\n",
              " 'war': 7,\n",
              " 'was': 11}"
            ]
          },
          "metadata": {
            "tags": []
          },
          "execution_count": 50
        }
      ]
    },
    {
      "cell_type": "markdown",
      "metadata": {
        "id": "sX7Ivk-LxL74",
        "colab_type": "text"
      },
      "source": [
        "### What are the uses of RegEx?\n",
        "- Find / Search\n",
        "- Find & Replace\n",
        "- Cleaning\n",
        "\n",
        "**Don't forgot about Python's str methods**\n",
        "str.<tab>\n",
        "\n",
        "str.find()"
      ]
    },
    {
      "cell_type": "markdown",
      "metadata": {
        "id": "Ae1Iz0JZxY1A",
        "colab_type": "text"
      },
      "source": [
        "### Regex vs. String methods\n",
        "\n",
        "1. String methods are easier to understand.\n",
        "2. String methods express the intent more clearly.\n",
        "\n",
        "\n",
        "1. Regex handle much broader use cases.\n",
        "2. Regex can be language independent.\n",
        "3. Regex can be faster at scale."
      ]
    },
    {
      "cell_type": "markdown",
      "metadata": {
        "id": "Z1ceX2e8y-3s",
        "colab_type": "text"
      },
      "source": [
        "**What about unicode?**"
      ]
    },
    {
      "cell_type": "code",
      "metadata": {
        "id": "D614tkx3wkAh",
        "colab_type": "code",
        "colab": {
          "base_uri": "https://localhost:8080/",
          "height": 34
        },
        "outputId": "6157dad5-a3d2-4d6f-fda9-56c95b0a0217"
      },
      "source": [
        "message = \"😒🎦 🤢🍕\"\n",
        "\n",
        "re_frown = re.compile(r\"😒|🤢\")\n",
        "re_frown.sub(r\"😊\", message)"
      ],
      "execution_count": 52,
      "outputs": [
        {
          "output_type": "execute_result",
          "data": {
            "text/plain": [
              "'😊🎦 😊🍕'"
            ]
          },
          "metadata": {
            "tags": []
          },
          "execution_count": 52
        }
      ]
    },
    {
      "cell_type": "markdown",
      "metadata": {
        "id": "Aa24IH3tzGao",
        "colab_type": "text"
      },
      "source": [
        "### Regex Errors:\n",
        "\n",
        "- **False positives (Type I)**: Matching strings that we should not have matched\n",
        "\n",
        "- **False negatives (Type II)**: Not matching strings that we should have matched- \n",
        "\n",
        "Reducing the error rate for a task often involves two antagonistic efforts:\n",
        "\n",
        "1. Minimizing false positives\n",
        "2. Minimizing false negatives\n",
        "\n",
        "**Important to have tests for both!**\n",
        "\n",
        "In a perfect world, you would be able to minimize both but in reality you often have to trade one for the other."
      ]
    },
    {
      "cell_type": "markdown",
      "metadata": {
        "id": "j5JsRNO6zzBl",
        "colab_type": "text"
      },
      "source": [
        "### Useful Tools:\n",
        "\n",
        "- [Regex cheatsheet](http://www.cheatography.com/davechild/cheat-sheets/regular-expressions/)\n",
        "- [regexr.com](http://regexr.com/) Realtime regex engine\n",
        "- [pyregex.com](https://pythex.org/) Realtime Python regex engine\n",
        "\n",
        "\n"
      ]
    },
    {
      "cell_type": "markdown",
      "metadata": {
        "id": "0ks4ZuwMz71p",
        "colab_type": "text"
      },
      "source": [
        "### Summary\n",
        "\n",
        "1. We use regex as a metalanguage to find string patterns in blocks of text\n",
        "2. r\"\" are your IRL friends for Python regex\n",
        "3. We are just doing binary classification so use the same performance metrics\n",
        "4. You'll make a lot of mistakes in regex 😩.\n",
        "    - False Positive: Thinking you are right but you are wrong\n",
        "    - False Negative: Missing something"
      ]
    },
    {
      "cell_type": "markdown",
      "metadata": {
        "id": "UPfuBfUM1ef7",
        "colab_type": "text"
      },
      "source": [
        "### Regex Terms\n",
        "\n",
        "- **target string**: This term describes the string that we will be searching, that is, the string in which we want to find our match or search pattern.\n",
        "search expression: The pattern we use to find what we want. Most commonly called the regular expression.\n",
        "\n",
        "- **literal**: A literal is any character we use in a search or matching expression, for example, to find 'ind' in 'windows' the 'ind' is a literal string - each character plays a part in the search, it is literally the string we want to find.\n",
        "\n",
        "- **metacharacter**: A metacharacter is one or more special characters that have a unique meaning and are NOT used as literals in the search expression. For example \".\" means any character.\n",
        "\n",
        "Metacharacters are the special sauce of regex.\n",
        "\n",
        "-**escape sequence**: An escape sequence is a way of indicating that we want to use a metacharacters as a literal.\n",
        "In a regular expression an escape sequence involves placing the metacharacter \\ (backslash) in front of the metacharacter that we want to use as a literal.\n",
        "\n",
        "`'\\.'` means find literal period character (not match any character)"
      ]
    },
    {
      "cell_type": "markdown",
      "metadata": {
        "id": "3O7VML8d1yqF",
        "colab_type": "text"
      },
      "source": [
        "### Regex Workflow\n",
        "\n",
        "1. Create pattern in Plain English\n",
        "2. Map to regex language\n",
        "3. Make sure results are correct:\n",
        "    - All Positives: Captures all examples of pattern\n",
        "    - No Negatives: Everything captured is from the pattern\n",
        "4. Don't over-engineer your regex.\n",
        "    - Your goal is to Get Stuff Done, not write the best regex in the world\n",
        "    - Filtering before and after are okay."
      ]
    }
  ]
}