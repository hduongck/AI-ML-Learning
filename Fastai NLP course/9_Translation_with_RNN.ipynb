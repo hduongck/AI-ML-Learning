{
  "nbformat": 4,
  "nbformat_minor": 0,
  "metadata": {
    "colab": {
      "name": "Translation with RNN.ipynb",
      "version": "0.3.2",
      "provenance": [],
      "collapsed_sections": [],
      "toc_visible": true,
      "machine_shape": "hm",
      "include_colab_link": true
    },
    "kernelspec": {
      "name": "python3",
      "display_name": "Python 3"
    },
    "accelerator": "GPU"
  },
  "cells": [
    {
      "cell_type": "markdown",
      "metadata": {
        "id": "view-in-github",
        "colab_type": "text"
      },
      "source": [
        "<a href=\"https://colab.research.google.com/github/hduongck/AI-ML-Learning/blob/master/Fastai%20NLP%20course/9_Translation_with_RNN.ipynb\" target=\"_parent\"><img src=\"https://colab.research.google.com/assets/colab-badge.svg\" alt=\"Open In Colab\"/></a>"
      ]
    },
    {
      "cell_type": "markdown",
      "metadata": {
        "id": "OPEHTXlkrRxB",
        "colab_type": "text"
      },
      "source": [
        "[Video 12](https://youtu.be/IfsjMg4fLWQ)\n",
        "\n",
        "**Summary of my results**\n",
        " \n",
        "    \n",
        "  |model            | train_loss | valid_loss | seq2seq_acc | bleu|\n",
        "    |-------------------|----------|----------|----------|----------|\n",
        "    |seq2seq            | 3.355085 | 4.272877 | 0.382089 | 0.291899|\n",
        "    |+ teacher forcing | 3.154585 |4.022432 | 0.407792 | 0.310715|\n",
        "    |+ attention       | 1.452292 | 3.420485 | 0.498205 | 0.413232|\n",
        "    |transformer        | 1.913152 | 2.349686 | 0.781749 | 0.612880|"
      ]
    },
    {
      "cell_type": "markdown",
      "metadata": {
        "id": "eafgi0h_QQbm",
        "colab_type": "text"
      },
      "source": [
        "**Material:**\n",
        "\n",
        "https://mlexplained.com/2017/12/29/attention-is-all-you-need-explained/\n",
        "\n",
        "https://mlexplained.com/2019/06/30/paper-dissected-xlnet-generalized-autoregressive-pretraining-for-language-understanding-explained/\n"
      ]
    },
    {
      "cell_type": "markdown",
      "metadata": {
        "id": "1QTsXYHtuRsd",
        "colab_type": "text"
      },
      "source": [
        "# Translation with an RNN\n",
        "\n",
        "This notebook is modified from[ this one](https://github.com/fastai/fastai_docs/blob/master/dev_course/dl2/translation.ipynb) created by Sylvain Gugger.\n",
        "\n",
        "Today we will be tackling the task of translation. We will be translating from French to English, and to keep our task a manageable size, we will limit ourselves to translating questions.\n",
        "\n",
        "This task is an example of sequence to sequence (seq2seq). Seq2seq can be more challenging than classification, since the output is of variable length (and typically different from the length of the input.\n",
        "\n",
        "French/English parallel texts from http://www.statmt.org/wmt15/translation-task.html . It was created by Chris Callison-Burch, who crawled millions of web pages and then used a set of simple heuristics to transform French URLs onto English URLs (i.e. replacing \"fr\" with \"en\" and about 40 other hand-written rules), and assume that these documents are translations of each other.\n",
        "\n",
        "Translation is much tougher in straight PyTorch: https://pytorch.org/tutorials/intermediate/seq2seq_translation_tutorial.html"
      ]
    },
    {
      "cell_type": "markdown",
      "metadata": {
        "id": "chHeN_Y4kgZT",
        "colab_type": "text"
      },
      "source": [
        "## Visualizing A Neural Machine Translation Model (Mechanics of Seq2seq Models With Attention)\n",
        "\n",
        "A sequence-to-sequence model is a model that takes a sequence of items (words, letters, features of an images…etc) and outputs another sequence of items. A trained model would work like this:\n",
        "\n"
      ]
    },
    {
      "cell_type": "code",
      "metadata": {
        "id": "NPGx8dOckxmv",
        "colab_type": "code",
        "cellView": "form",
        "outputId": "401c418b-1fec-4e34-cb86-3f814a0de31c",
        "colab": {
          "base_uri": "https://localhost:8080/",
          "height": 191
        }
      },
      "source": [
        "#@title \n",
        "from IPython.display import HTML\n",
        "\n",
        "HTML('<iframe width=\"560\" height=\"170\" src=\"https://jalammar.github.io/images/seq2seq_1.mp4\" frameborder=\"0\" allow=\"accelerometer; autoplay; encrypted-media; gyroscope; picture-in-picture\" allowfullscreen></iframe>')"
      ],
      "execution_count": 0,
      "outputs": [
        {
          "output_type": "execute_result",
          "data": {
            "text/html": [
              "<iframe width=\"560\" height=\"170\" src=\"https://jalammar.github.io/images/seq2seq_1.mp4\" frameborder=\"0\" allow=\"accelerometer; autoplay; encrypted-media; gyroscope; picture-in-picture\" allowfullscreen></iframe>"
            ],
            "text/plain": [
              "<IPython.core.display.HTML object>"
            ]
          },
          "metadata": {
            "tags": []
          },
          "execution_count": 95
        }
      ]
    },
    {
      "cell_type": "markdown",
      "metadata": {
        "id": "8WsDjrollmT9",
        "colab_type": "text"
      },
      "source": [
        "In neural machine translation, a sequence is a series of words, processed one after another. The output is, likewise, a series of words:"
      ]
    },
    {
      "cell_type": "code",
      "metadata": {
        "id": "XFjEBjYmlviH",
        "colab_type": "code",
        "cellView": "form",
        "outputId": "6bc47741-e9a9-4e10-fba6-2a0f49063f9a",
        "colab": {
          "base_uri": "https://localhost:8080/",
          "height": 191
        }
      },
      "source": [
        "#@title \n",
        "from IPython.display import HTML\n",
        "\n",
        "HTML('<iframe width=\"560\" height=\"170\" src=\"https://jalammar.github.io/images/seq2seq_2.mp4\" frameborder=\"0\" allow=\"accelerometer; autoplay; encrypted-media; gyroscope; picture-in-picture\" allowfullscreen></iframe>')"
      ],
      "execution_count": 0,
      "outputs": [
        {
          "output_type": "execute_result",
          "data": {
            "text/html": [
              "<iframe width=\"560\" height=\"170\" src=\"https://jalammar.github.io/images/seq2seq_2.mp4\" frameborder=\"0\" allow=\"accelerometer; autoplay; encrypted-media; gyroscope; picture-in-picture\" allowfullscreen></iframe>"
            ],
            "text/plain": [
              "<IPython.core.display.HTML object>"
            ]
          },
          "metadata": {
            "tags": []
          },
          "execution_count": 96
        }
      ]
    },
    {
      "cell_type": "markdown",
      "metadata": {
        "id": "7U6c1ho5mOeL",
        "colab_type": "text"
      },
      "source": [
        "### Looking under the hood\n",
        "\n",
        "Under the hood, the model is composed of an encoder and a decoder.\n",
        "\n",
        "The encoder processes each item in the input sequence, it compiles the information it captures into a vector (called the context). After processing the entire input sequence, the encoder send the context over to the decoder, which begins producing the output sequence item by item."
      ]
    },
    {
      "cell_type": "code",
      "metadata": {
        "id": "agkQ8Uq7lq_B",
        "colab_type": "code",
        "cellView": "form",
        "outputId": "9e26347b-5985-48d8-a770-b12e260ac6e9",
        "colab": {
          "base_uri": "https://localhost:8080/",
          "height": 191
        }
      },
      "source": [
        "#@title \n",
        "from IPython.display import HTML\n",
        "\n",
        "HTML('<iframe width=\"560\" height=\"170\" src=\"https://jalammar.github.io/images/seq2seq_3.mp4\" frameborder=\"0\" allow=\"accelerometer; autoplay loop; encrypted-media; gyroscope; picture-in-picture\" allowfullscreen></iframe>')"
      ],
      "execution_count": 0,
      "outputs": [
        {
          "output_type": "execute_result",
          "data": {
            "text/html": [
              "<iframe width=\"560\" height=\"170\" src=\"https://jalammar.github.io/images/seq2seq_3.mp4\" frameborder=\"0\" allow=\"accelerometer; autoplay loop; encrypted-media; gyroscope; picture-in-picture\" allowfullscreen></iframe>"
            ],
            "text/plain": [
              "<IPython.core.display.HTML object>"
            ]
          },
          "metadata": {
            "tags": []
          },
          "execution_count": 109
        }
      ]
    },
    {
      "cell_type": "markdown",
      "metadata": {
        "id": "CTbYZfB4sz2v",
        "colab_type": "text"
      },
      "source": [
        "The same applies in the case of machine translation."
      ]
    },
    {
      "cell_type": "code",
      "metadata": {
        "id": "65IizT_bmfUt",
        "colab_type": "code",
        "cellView": "form",
        "outputId": "b03d472e-147c-476e-8079-54c2ba337c3b",
        "colab": {
          "base_uri": "https://localhost:8080/",
          "height": 191
        }
      },
      "source": [
        "#@title \n",
        "from IPython.display import HTML\n",
        "\n",
        "HTML('<iframe width=\"560\" height=\"170\" src=\"https://jalammar.github.io/images/seq2seq_4.mp4\" frameborder=\"0\" allow=\"accelerometer; autoplay; encrypted-media; gyroscope; picture-in-picture\" allowfullscreen></iframe>')"
      ],
      "execution_count": 0,
      "outputs": [
        {
          "output_type": "execute_result",
          "data": {
            "text/html": [
              "<iframe width=\"560\" height=\"170\" src=\"https://jalammar.github.io/images/seq2seq_4.mp4\" frameborder=\"0\" allow=\"accelerometer; autoplay; encrypted-media; gyroscope; picture-in-picture\" allowfullscreen></iframe>"
            ],
            "text/plain": [
              "<IPython.core.display.HTML object>"
            ]
          },
          "metadata": {
            "tags": []
          },
          "execution_count": 98
        }
      ]
    },
    {
      "cell_type": "markdown",
      "metadata": {
        "id": "RPf6LVTinDi8",
        "colab_type": "text"
      },
      "source": [
        "The **context** is a vector (an array of numbers, basically) in the case of machine translation. The **encoder and decoder** tend to both be recurrent neural networks (Be sure to check out [Luis Serrano’s A friendly introduction to Recurrent Neural Networks for an intro to RNNs](https://www.youtube.com/watch?v=UNmqTiOnRfg)).\n",
        "\n",
        "![alt text](https://jalammar.github.io/images/context.png)\n",
        "\n",
        "    The context is a vector of floats. Later in this post we will visualize vectors in color by assigning brighter colors to the cells with higher values.\n",
        "    \n",
        "You can set **the size of the context vector** when you set up your model. It is **basically the number of hidden units** in the encoder RNN. These visualizations show a vector of size 4, but in real world applications the context vector would be of a size like 256, 512, or 1024.\n",
        "\n",
        "By design, a RNN takes two inputs at each time step: an input (in the case of the encoder, one word from the input sentence), and a hidden state. The word, however, needs to be represented by a vector. To transform a word into a vector, we turn to the class of methods called “[word embedding](https://machinelearningmastery.com/what-are-word-embeddings/)” algorithms. These turn words into vector spaces that capture a lot of the meaning/semantic information of the words (e.g. [king - man + woman = queen](http://p.migdal.pl/2017/01/06/king-man-woman-queen-why.html)).\n",
        "\n",
        "![alt text](https://jalammar.github.io/images/embedding.png)\n",
        "\n",
        "\n",
        "```\n",
        "We need to turn the input words into vectors before processing them. That transformation is done using a word embedding algorithm. We can use pre-trained embeddings or train our own embedding on our dataset. Embedding vectors of size 200 or 300 are typical, we're showing a vector of size four for simplicity.\n",
        "```\n",
        "\n",
        "Now that we’ve introduced our main vectors/tensors, let’s recap the mechanics of an RNN and establish a visual language to describe these models:\n",
        "\n",
        "\n"
      ]
    },
    {
      "cell_type": "code",
      "metadata": {
        "id": "9qVEaB6Ko5ZC",
        "colab_type": "code",
        "cellView": "form",
        "outputId": "b293c753-6f0b-4c6e-a6c2-e782d2444bd3",
        "colab": {
          "base_uri": "https://localhost:8080/",
          "height": 371
        }
      },
      "source": [
        "#@title \n",
        "from IPython.display import HTML\n",
        "\n",
        "HTML('<iframe width=\"560\" height=\"350\" src=\"https://jalammar.github.io/images/RNN_1.mp4\" frameborder=\"0\" allow=\"accelerometer; autoplay; encrypted-media; gyroscope; picture-in-picture\" allowfullscreen></iframe>')"
      ],
      "execution_count": 0,
      "outputs": [
        {
          "output_type": "execute_result",
          "data": {
            "text/html": [
              "<iframe width=\"560\" height=\"350\" src=\"https://jalammar.github.io/images/RNN_1.mp4\" frameborder=\"0\" allow=\"accelerometer; autoplay; encrypted-media; gyroscope; picture-in-picture\" allowfullscreen></iframe>"
            ],
            "text/plain": [
              "<IPython.core.display.HTML object>"
            ]
          },
          "metadata": {
            "tags": []
          },
          "execution_count": 106
        }
      ]
    },
    {
      "cell_type": "markdown",
      "metadata": {
        "id": "pcV9S4_3pscm",
        "colab_type": "text"
      },
      "source": [
        "The next RNN step takes the second input vector and hidden state #1 to create the output of that time step. Later in the post, we’ll use an animation like this to describe the vectors inside a neural machine translation model.\n",
        "\n",
        "\n",
        "\n",
        "In the following visualization, each pulse for the encoder or decoder is that RNN processing its inputs and generating an output for that time step. Since the encoder and decoder are both RNNs, each time step one of the RNNs does some processing, it updates its hidden state based on its inputs and previous inputs it has seen.\n",
        "\n",
        "Let’s look at the hidden states for the encoder. Notice how the last hidden state is actually the context we pass along to the decoder."
      ]
    },
    {
      "cell_type": "code",
      "metadata": {
        "id": "Q_oG9S8WmhqY",
        "colab_type": "code",
        "cellView": "form",
        "outputId": "a616bee0-d69d-407c-c728-372e1be1a73f",
        "colab": {
          "base_uri": "https://localhost:8080/",
          "height": 271
        }
      },
      "source": [
        "#@title \n",
        "from IPython.display import HTML\n",
        "\n",
        "HTML('<iframe width=\"570\" height=\"250\" src=\"https://jalammar.github.io/images/seq2seq_5.mp4\" frameborder=\"0\" allow=\"accelerometer; autoplay; encrypted-media; gyroscope; picture-in-picture\" allowfullscreen></iframe>')"
      ],
      "execution_count": 0,
      "outputs": [
        {
          "output_type": "execute_result",
          "data": {
            "text/html": [
              "<iframe width=\"570\" height=\"250\" src=\"https://jalammar.github.io/images/seq2seq_5.mp4\" frameborder=\"0\" allow=\"accelerometer; autoplay; encrypted-media; gyroscope; picture-in-picture\" allowfullscreen></iframe>"
            ],
            "text/plain": [
              "<IPython.core.display.HTML object>"
            ]
          },
          "metadata": {
            "tags": []
          },
          "execution_count": 107
        }
      ]
    },
    {
      "cell_type": "markdown",
      "metadata": {
        "id": "lmf7GENHq7Dk",
        "colab_type": "text"
      },
      "source": [
        "The decoder also maintains a hidden states that it passes from one time step to the next. We just didn’t visualize it in this graphic because we’re concerned with the major parts of the model for now.\n",
        "\n",
        "Let’s now look at another way to visualize a sequence-to-sequence model. This animation will make it easier to understand the static graphics that describe these models. This is called an “unrolled” view where instead of showing the one decoder, we show a copy of it for each time step. This way we can look at the inputs and outputs of each time step."
      ]
    },
    {
      "cell_type": "code",
      "metadata": {
        "id": "slNF6nnNmkhg",
        "colab_type": "code",
        "cellView": "form",
        "outputId": "32e166fd-8c50-469f-f676-fe036cc608ff",
        "colab": {
          "base_uri": "https://localhost:8080/",
          "height": 271
        }
      },
      "source": [
        "#@title \n",
        "from IPython.display import HTML\n",
        "\n",
        "HTML('<iframe width=\"560\" height=\"250\" src=\"https://jalammar.github.io/images/seq2seq_6.mp4\" frameborder=\"0\" allow=\"accelerometer; autoplay; encrypted-media; gyroscope; picture-in-picture\" allowfullscreen></iframe>')"
      ],
      "execution_count": 0,
      "outputs": [
        {
          "output_type": "execute_result",
          "data": {
            "text/html": [
              "<iframe width=\"560\" height=\"250\" src=\"https://jalammar.github.io/images/seq2seq_6.mp4\" frameborder=\"0\" allow=\"accelerometer; autoplay; encrypted-media; gyroscope; picture-in-picture\" allowfullscreen></iframe>"
            ],
            "text/plain": [
              "<IPython.core.display.HTML object>"
            ]
          },
          "metadata": {
            "tags": []
          },
          "execution_count": 103
        }
      ]
    },
    {
      "cell_type": "code",
      "metadata": {
        "id": "X5imwx3trLFV",
        "colab_type": "code",
        "colab": {}
      },
      "source": [
        "from fastai.text import *"
      ],
      "execution_count": 0,
      "outputs": []
    },
    {
      "cell_type": "markdown",
      "metadata": {
        "id": "GEU6gIokurSS",
        "colab_type": "text"
      },
      "source": [
        "##Download and preprocess our data\n",
        "\n",
        "We will start by reducing the original dataset to questions. You only need to execute this once, uncomment to run. The dataset can be downloaded [here](https://s3.amazonaws.com/fast-ai-nlp/giga-fren.tgz)."
      ]
    },
    {
      "cell_type": "code",
      "metadata": {
        "id": "dASDjg4gujog",
        "colab_type": "code",
        "colab": {}
      },
      "source": [
        "path = Config().data_path()"
      ],
      "execution_count": 0,
      "outputs": []
    },
    {
      "cell_type": "code",
      "metadata": {
        "id": "qVBXE7-Puzhl",
        "colab_type": "code",
        "outputId": "a81e4d64-1cb4-494c-cdab-a6934e572083",
        "colab": {
          "base_uri": "https://localhost:8080/",
          "height": 204
        }
      },
      "source": [
        "! wget https://s3.amazonaws.com/fast-ai-nlp/giga-fren.tgz -P {path}"
      ],
      "execution_count": 0,
      "outputs": [
        {
          "output_type": "stream",
          "text": [
            "--2019-08-18 00:37:16--  https://s3.amazonaws.com/fast-ai-nlp/giga-fren.tgz\n",
            "Resolving s3.amazonaws.com (s3.amazonaws.com)... 52.216.160.205\n",
            "Connecting to s3.amazonaws.com (s3.amazonaws.com)|52.216.160.205|:443... connected.\n",
            "HTTP request sent, awaiting response... 200 OK\n",
            "Length: 2598183296 (2.4G) [application/x-tar]\n",
            "Saving to: ‘/root/.fastai/data/giga-fren.tgz’\n",
            "\n",
            "giga-fren.tgz       100%[===================>]   2.42G  54.6MB/s    in 51s     \n",
            "\n",
            "2019-08-18 00:38:08 (48.2 MB/s) - ‘/root/.fastai/data/giga-fren.tgz’ saved [2598183296/2598183296]\n",
            "\n"
          ],
          "name": "stdout"
        }
      ]
    },
    {
      "cell_type": "code",
      "metadata": {
        "id": "_zcmCyxcu1_W",
        "colab_type": "code",
        "colab": {}
      },
      "source": [
        "! tar xf {path}/giga-fren.tgz -C {path}"
      ],
      "execution_count": 0,
      "outputs": []
    },
    {
      "cell_type": "code",
      "metadata": {
        "id": "Qo_Feez7u3-9",
        "colab_type": "code",
        "outputId": "2fd4246c-aa52-463f-ba67-b42b91afca4d",
        "colab": {
          "base_uri": "https://localhost:8080/",
          "height": 51
        }
      },
      "source": [
        "path = Config().data_path()/'giga-fren'\n",
        "path.ls()"
      ],
      "execution_count": 0,
      "outputs": [
        {
          "output_type": "execute_result",
          "data": {
            "text/plain": [
              "[PosixPath('/root/.fastai/data/giga-fren/giga-fren.release2.fixed.en'),\n",
              " PosixPath('/root/.fastai/data/giga-fren/giga-fren.release2.fixed.fr')]"
            ]
          },
          "metadata": {
            "tags": []
          },
          "execution_count": 5
        }
      ]
    },
    {
      "cell_type": "code",
      "metadata": {
        "id": "OHpZx44Fu-14",
        "colab_type": "code",
        "colab": {}
      },
      "source": [
        "#with open(path/'giga-fren.release2.fixed.fr') as f: fr = f.read().split('\\n')"
      ],
      "execution_count": 0,
      "outputs": []
    },
    {
      "cell_type": "code",
      "metadata": {
        "id": "L8dwWqF0vSUZ",
        "colab_type": "code",
        "colab": {}
      },
      "source": [
        "#with open(path/'giga-fren.release2.fixed.en') as f: en = f.read().split('\\n')"
      ],
      "execution_count": 0,
      "outputs": []
    },
    {
      "cell_type": "markdown",
      "metadata": {
        "id": "M-DyDsdjvW-w",
        "colab_type": "text"
      },
      "source": [
        "We will use regex to pick out questions by finding the strings in the English dataset that start with \"Wh\" and end with a question mark. You only need to run these lines once:"
      ]
    },
    {
      "cell_type": "code",
      "metadata": {
        "id": "DLmwAHBVvT_B",
        "colab_type": "code",
        "colab": {}
      },
      "source": [
        "re_eq = re.compile('^(Wh[^?.!]+\\?)')\n",
        "re_fq = re.compile('^([^?.!]+\\?)')\n",
        "en_fname = path/'giga-fren.release2.fixed.en'\n",
        "fr_fname = path/'giga-fren.release2.fixed.fr'"
      ],
      "execution_count": 0,
      "outputs": []
    },
    {
      "cell_type": "code",
      "metadata": {
        "id": "0A4l0fjMvarp",
        "colab_type": "code",
        "colab": {}
      },
      "source": [
        "lines = ((re_eq.search(eq), re_fq.search(fq)) \n",
        "         for eq, fq in zip(open(en_fname, encoding='utf-8'), open(fr_fname, encoding='utf-8')))\n",
        "qs = [(e.group(), f.group()) for e,f in lines if e and f]"
      ],
      "execution_count": 0,
      "outputs": []
    },
    {
      "cell_type": "code",
      "metadata": {
        "id": "ql1s0zlPv51m",
        "colab_type": "code",
        "colab": {}
      },
      "source": [
        "qs = [(q1,q2) for q1,q2 in qs]\n",
        "df = pd.DataFrame({'fr': [q[1] for q in qs], 'en': [q[0] for q in qs]}, columns = ['en', 'fr'])\n",
        "df.to_csv(path/'questions_easy.csv', index=False)"
      ],
      "execution_count": 0,
      "outputs": []
    },
    {
      "cell_type": "markdown",
      "metadata": {
        "id": "gdLJpGsTybyy",
        "colab_type": "text"
      },
      "source": [
        "## Load our data into a DataBunch\n",
        "\n",
        "Our questions look like this now:"
      ]
    },
    {
      "cell_type": "code",
      "metadata": {
        "id": "ugqEv5BAv0e8",
        "colab_type": "code",
        "outputId": "3e767f1a-6771-43cc-ed67-9f489150f657",
        "colab": {
          "base_uri": "https://localhost:8080/",
          "height": 204
        }
      },
      "source": [
        "df.head()"
      ],
      "execution_count": 0,
      "outputs": [
        {
          "output_type": "execute_result",
          "data": {
            "text/html": [
              "<div>\n",
              "<style scoped>\n",
              "    .dataframe tbody tr th:only-of-type {\n",
              "        vertical-align: middle;\n",
              "    }\n",
              "\n",
              "    .dataframe tbody tr th {\n",
              "        vertical-align: top;\n",
              "    }\n",
              "\n",
              "    .dataframe thead th {\n",
              "        text-align: right;\n",
              "    }\n",
              "</style>\n",
              "<table border=\"1\" class=\"dataframe\">\n",
              "  <thead>\n",
              "    <tr style=\"text-align: right;\">\n",
              "      <th></th>\n",
              "      <th>en</th>\n",
              "      <th>fr</th>\n",
              "    </tr>\n",
              "  </thead>\n",
              "  <tbody>\n",
              "    <tr>\n",
              "      <th>0</th>\n",
              "      <td>What is light ?</td>\n",
              "      <td>Qu’est-ce que la lumière?</td>\n",
              "    </tr>\n",
              "    <tr>\n",
              "      <th>1</th>\n",
              "      <td>Who are we?</td>\n",
              "      <td>Où sommes-nous?</td>\n",
              "    </tr>\n",
              "    <tr>\n",
              "      <th>2</th>\n",
              "      <td>Where did we come from?</td>\n",
              "      <td>D'où venons-nous?</td>\n",
              "    </tr>\n",
              "    <tr>\n",
              "      <th>3</th>\n",
              "      <td>What would we do without it?</td>\n",
              "      <td>Que ferions-nous sans elle ?</td>\n",
              "    </tr>\n",
              "    <tr>\n",
              "      <th>4</th>\n",
              "      <td>What is the absolute location (latitude and lo...</td>\n",
              "      <td>Quelle sont les coordonnées (latitude et longi...</td>\n",
              "    </tr>\n",
              "  </tbody>\n",
              "</table>\n",
              "</div>"
            ],
            "text/plain": [
              "                                                  en                                                 fr\n",
              "0                                    What is light ?                          Qu’est-ce que la lumière?\n",
              "1                                        Who are we?                                    Où sommes-nous?\n",
              "2                            Where did we come from?                                  D'où venons-nous?\n",
              "3                       What would we do without it?                       Que ferions-nous sans elle ?\n",
              "4  What is the absolute location (latitude and lo...  Quelle sont les coordonnées (latitude et longi..."
            ]
          },
          "metadata": {
            "tags": []
          },
          "execution_count": 11
        }
      ]
    },
    {
      "cell_type": "markdown",
      "metadata": {
        "id": "dHMpfLgfzAtI",
        "colab_type": "text"
      },
      "source": [
        "To make it simple, we lowercase everything."
      ]
    },
    {
      "cell_type": "code",
      "metadata": {
        "id": "6CwqoPdyv87Y",
        "colab_type": "code",
        "colab": {}
      },
      "source": [
        "df['en'] = df['en'].apply(lambda x : x.lower())\n",
        "df['fr'] = df['fr'].apply(lambda x : x.lower())"
      ],
      "execution_count": 0,
      "outputs": []
    },
    {
      "cell_type": "markdown",
      "metadata": {
        "id": "ebmCNk4ZzDpB",
        "colab_type": "text"
      },
      "source": [
        "\n",
        "The first thing is that we will need to collate inputs and targets in a batch because they have different lengths so we need to add padding to make the sequence length the same. By adding zeros to fill out the length. \n",
        "\n",
        "Later on we are going to throw away sentences that are too long and again to make this simpler and have kind of an easy batch that we can put on GPU"
      ]
    },
    {
      "cell_type": "code",
      "metadata": {
        "id": "AcrkC8FuTzz5",
        "colab_type": "code",
        "colab": {}
      },
      "source": [
        "def seq2seq_collate(samples, pad_idx=1, pad_first=True, backwards=False):\n",
        "    \"Function that collect samples and adds padding. Flips token order if needed\"\n",
        "    samples = to_data(samples)\n",
        "    max_len_x,max_len_y = max([len(s[0]) for s in samples]),max([len(s[1]) for s in samples])\n",
        "    res_x = torch.zeros(len(samples), max_len_x).long() + pad_idx\n",
        "    res_y = torch.zeros(len(samples), max_len_y).long() + pad_idx\n",
        "    if backwards: pad_first = not pad_first\n",
        "    for i,s in enumerate(samples):\n",
        "        if pad_first: \n",
        "            res_x[i,-len(s[0]):],res_y[i,-len(s[1]):] = LongTensor(s[0]),LongTensor(s[1])\n",
        "        else:         \n",
        "            res_x[i,:len(s[0]):],res_y[i,:len(s[1]):] = LongTensor(s[0]),LongTensor(s[1])\n",
        "    if backwards: res_x,res_y = res_x.flip(1),res_y.flip(1)\n",
        "    return res_x,res_y"
      ],
      "execution_count": 0,
      "outputs": []
    },
    {
      "cell_type": "markdown",
      "metadata": {
        "id": "oFEL_6KkXyH6",
        "colab_type": "text"
      },
      "source": [
        "- doc(Dataset): Dataset class is an abtract class that represent a dataset. Abtract class is kind of defining these things that we want a dataset to have. In this case, we are saying any data specific type of dataset you create, it's going to have a length (`__len__`) as well as `__getitem__` which is basically a way to index into it. This is what gives you the ability to index into something and we'll subclass it which means we are making a class we are inherting from it\n",
        "\n",
        "- doc(DataLoader): the DataLoader is going to give us a way to iterate over a dataset. So we want something that we can call and it will return a batch of the data. In detail, it has batch size , shuffle your batches to change the order. It is usefull with neural network since we're looking at a batch of data at a time, you need a way to get out a batch of data \n",
        "\n",
        "\n",
        "```\n",
        "class DataLoader[test]\n",
        "        DataLoader(dataset, batch_size=1, shuffle=False, sampler=None, batch_sampler=None, num_workers=0, collate_fn='default_collate', pin_memory=True, drop_last=False, timeout=0, worker_init_fn=None)\n",
        "```\n",
        "\n",
        "\n",
        "- doc(DataBunch) : The DataBunch is built on DataLoader. This gives you 2 or 3 DataLoader,  including training dataloader, validation dataloader and optionally test dataloader. This is kind of a way to store your training set, validation set and test set all together in one place. You'll be able to return batches of any of those from this DataBunch. This is usefull object for kind of keeing pieces that you need together"
      ]
    },
    {
      "cell_type": "markdown",
      "metadata": {
        "id": "2XFLiB5kU0KM",
        "colab_type": "text"
      },
      "source": [
        "Then we create a special DataBunch that uses this collate function. This seq2seqDataBunch  create a type of text databunch that suitable for training a RNN. We do that by adding @classmethod that how to create a seq2seqDataBunch"
      ]
    },
    {
      "cell_type": "code",
      "metadata": {
        "id": "umNM0lYgU4uc",
        "colab_type": "code",
        "colab": {}
      },
      "source": [
        "class Seq2SeqDataBunch(TextDataBunch):\n",
        "    \"Create a `TextDataBunch` suitable for training an RNN classifier.\"\n",
        "    @classmethod\n",
        "    def create(cls, train_ds, valid_ds, test_ds=None, path:PathOrStr='.', bs:int=32, val_bs:int=None, pad_idx=1,\n",
        "               dl_tfms=None, pad_first=False, device:torch.device=None, no_check:bool=False, backwards:bool=False, **dl_kwargs) -> DataBunch:\n",
        "        \"Function that transform the `datasets` in a `DataBunch` for classification. Passes `**dl_kwargs` on to `DataLoader()`\"\n",
        "        datasets = cls._init_ds(train_ds, valid_ds, test_ds)\n",
        "        val_bs = ifnone(val_bs, bs)\n",
        "        collate_fn = partial(seq2seq_collate, pad_idx=pad_idx, pad_first=pad_first, backwards=backwards)\n",
        "        train_sampler = SortishSampler(datasets[0].x, key=lambda t: len(datasets[0][t][0].data), bs=bs//2)\n",
        "        train_dl = DataLoader(datasets[0], batch_size=bs, sampler=train_sampler, drop_last=True, **dl_kwargs)\n",
        "        dataloaders = [train_dl]\n",
        "        for ds in datasets[1:]:\n",
        "            lengths = [len(t) for t in ds.x.items]\n",
        "            sampler = SortSampler(ds.x, key=lengths.__getitem__)\n",
        "            dataloaders.append(DataLoader(ds, batch_size=val_bs, sampler=sampler, **dl_kwargs))\n",
        "        return cls(*dataloaders, path=path, device=device, collate_fn=collate_fn, no_check=no_check)"
      ],
      "execution_count": 0,
      "outputs": []
    },
    {
      "cell_type": "markdown",
      "metadata": {
        "id": "V28LUjX9dZWR",
        "colab_type": "text"
      },
      "source": [
        "**SortishSampler??**:  this is from Fastai lib. Go through the text data by order of length with a bit of randomness\n",
        "\n",
        "\n",
        "\n",
        "```\n",
        "class SortishSampler(Sampler):\n",
        "    \"Go through the text data by order of length with a bit of randomness.\"\n",
        "\n",
        "    def __init__(self, data_source:NPArrayList, key:KeyFunc, bs:int):\n",
        "        self.data_source,self.key,self.bs = data_source,key,bs\n",
        "\n",
        "    def __len__(self) -> int: return len(self.data_source)\n",
        "\n",
        "    def __iter__(self):\n",
        "        idxs = np.random.permutation(len(self.data_source))\n",
        "        sz = self.bs*50\n",
        "        ck_idx = [idxs[i:i+sz] for i in range(0, len(idxs), sz)]\n",
        "        sort_idx = np.concatenate([sorted(s, key=self.key, reverse=True) for s in ck_idx])\n",
        "        sz = self.bs\n",
        "        ck_idx = [sort_idx[i:i+sz] for i in range(0, len(sort_idx), sz)]\n",
        "        max_ck = np.argmax([self.key(ck[0]) for ck in ck_idx])  # find the chunk with the largest key,\n",
        "        ck_idx[0],ck_idx[max_ck] = ck_idx[max_ck],ck_idx[0]     # then make sure it goes first.\n",
        "        sort_idx = np.concatenate(np.random.permutation(ck_idx[1:])) if len(ck_idx) > 1 else np.array([],dtype=np.int)\n",
        "        sort_idx = np.concatenate((ck_idx[0], sort_idx))\n",
        "        return iter(sort_idx)\n",
        "File:           /usr/local/lib/python3.6/dist-packages/fastai/text/data.py\n",
        "Type:           type\n",
        "```\n",
        "\n"
      ]
    },
    {
      "cell_type": "markdown",
      "metadata": {
        "id": "EewJ9Ijwem3n",
        "colab_type": "text"
      },
      "source": [
        "And a subclass of TextList that will use this DataBunch class in the call .databunch and will use TextList to label (since our targets are other texts)."
      ]
    },
    {
      "cell_type": "code",
      "metadata": {
        "id": "SrE-eNuOdHgV",
        "colab_type": "code",
        "colab": {}
      },
      "source": [
        "class Seq2SeqTextList(TextList):\n",
        "    _bunch = Seq2SeqDataBunch\n",
        "    _label_cls = TextList"
      ],
      "execution_count": 0,
      "outputs": []
    },
    {
      "cell_type": "markdown",
      "metadata": {
        "id": "BLhVFOZ0e4oB",
        "colab_type": "text"
      },
      "source": [
        "Thats all we need to use the data block API!. \n",
        "\n",
        "Before we process our French and English questions, put those into dataframe (df). Now we create seq2seq list for a TextList from that "
      ]
    },
    {
      "cell_type": "code",
      "metadata": {
        "id": "Kdz6gItXeqPI",
        "colab_type": "code",
        "colab": {}
      },
      "source": [
        "src = Seq2SeqTextList.from_df(df,path=path,cols='fr').split_by_rand_pct(seed=42).label_from_df(cols='en',label_cls=TextList)"
      ],
      "execution_count": 0,
      "outputs": []
    },
    {
      "cell_type": "markdown",
      "metadata": {
        "id": "kBgiuz37fjQK",
        "colab_type": "text"
      },
      "source": [
        "Now we want to look at 90th percentile. We use numpy method, basically we want to see how long are these items and we get 28 is the 90th percentile for x and 24 for y\n",
        "\n",
        "- x is French\n",
        "- y is English"
      ]
    },
    {
      "cell_type": "code",
      "metadata": {
        "id": "EjOWc3ZVfT47",
        "colab_type": "code",
        "outputId": "de52e535-1301-4d9b-e777-b22413261350",
        "colab": {
          "base_uri": "https://localhost:8080/",
          "height": 34
        }
      },
      "source": [
        "np.percentile([len(o) for o in src.train.x.items] + [len(o) for o in src.valid.x.items],90)"
      ],
      "execution_count": 0,
      "outputs": [
        {
          "output_type": "execute_result",
          "data": {
            "text/plain": [
              "28.0"
            ]
          },
          "metadata": {
            "tags": []
          },
          "execution_count": 17
        }
      ]
    },
    {
      "cell_type": "code",
      "metadata": {
        "id": "v4_wnQQogt0f",
        "colab_type": "code",
        "outputId": "2f7652d2-3e01-4bf8-8c8d-7066d68c060b",
        "colab": {
          "base_uri": "https://localhost:8080/",
          "height": 34
        }
      },
      "source": [
        "np.percentile([len(o) for o in src.train.y.items] + [len(o) for o in src.valid.x.items],90)"
      ],
      "execution_count": 0,
      "outputs": [
        {
          "output_type": "execute_result",
          "data": {
            "text/plain": [
              "24.0"
            ]
          },
          "metadata": {
            "tags": []
          },
          "execution_count": 18
        }
      ]
    },
    {
      "cell_type": "markdown",
      "metadata": {
        "id": "UESKA0GRhIDp",
        "colab_type": "text"
      },
      "source": [
        "We remove the items where one of the target is more than 30 tokens long. Since not many items fall in that it's less than 10% and this will kind of make it simpler for what we are working with. And we're not throwing much data by doing this. \n",
        "\n",
        "It's interesting to note that French seem to be longer than English on the whole (28 vs 24)"
      ]
    },
    {
      "cell_type": "code",
      "metadata": {
        "id": "17GkUKIRhDEf",
        "colab_type": "code",
        "colab": {}
      },
      "source": [
        "src = src.filter_by_func(lambda x,y: len(x) > 30 or len(y) >30)"
      ],
      "execution_count": 0,
      "outputs": []
    },
    {
      "cell_type": "code",
      "metadata": {
        "id": "mCPwmqAPiDRI",
        "colab_type": "code",
        "outputId": "efcae58c-1b34-41e3-f48e-05da0cca8e64",
        "colab": {
          "base_uri": "https://localhost:8080/",
          "height": 34
        }
      },
      "source": [
        "len(src.train) + len(src.valid)"
      ],
      "execution_count": 0,
      "outputs": [
        {
          "output_type": "execute_result",
          "data": {
            "text/plain": [
              "48350"
            ]
          },
          "metadata": {
            "tags": []
          },
          "execution_count": 20
        }
      ]
    },
    {
      "cell_type": "code",
      "metadata": {
        "id": "L2e4fTWuiMSL",
        "colab_type": "code",
        "colab": {}
      },
      "source": [
        "data = src.databunch()"
      ],
      "execution_count": 0,
      "outputs": []
    },
    {
      "cell_type": "code",
      "metadata": {
        "id": "sODK6G5YiSPR",
        "colab_type": "code",
        "colab": {}
      },
      "source": [
        "data.save()"
      ],
      "execution_count": 0,
      "outputs": []
    },
    {
      "cell_type": "code",
      "metadata": {
        "id": "oTlBtkJqiTRP",
        "colab_type": "code",
        "outputId": "14acdb26-2f65-45ee-af5a-0da0efb466dc",
        "colab": {
          "base_uri": "https://localhost:8080/",
          "height": 326
        }
      },
      "source": [
        "data"
      ],
      "execution_count": 0,
      "outputs": [
        {
          "output_type": "execute_result",
          "data": {
            "text/plain": [
              "Seq2SeqDataBunch;\n",
              "\n",
              "Train: LabelList (38704 items)\n",
              "x: Seq2SeqTextList\n",
              "xxbos qu’est - ce que la lumière ?,xxbos où sommes - nous ?,xxbos d'où venons - nous ?,xxbos que ferions - nous sans elle ?,xxbos quel est le groupe autochtone principal sur l’île de vancouver ?\n",
              "y: TextList\n",
              "xxbos what is light ?,xxbos who are we ?,xxbos where did we come from ?,xxbos what would we do without it ?,xxbos what is the major aboriginal group on vancouver island ?\n",
              "Path: /root/.fastai/data/giga-fren;\n",
              "\n",
              "Valid: LabelList (9646 items)\n",
              "x: Seq2SeqTextList\n",
              "xxbos quels pourraient être les effets sur l’instrument de xxunk et sur l’aide humanitaire qui ne sont pas co - xxunk ?,xxbos quand la source primaire a - t - elle été créée ?,xxbos pourquoi tant de soldats ont - ils fait xxunk de ne pas voir ce qui s'est passé le 4 et le 16 mars ?,xxbos quels sont les taux d'impôt sur le revenu au canada pour 2007 ?,xxbos pourquoi le programme devrait - il intéresser les employeurs et les fournisseurs de services ?\n",
              "y: TextList\n",
              "xxbos what would be the resulting effects on the pre - accession instrument and humanitarian aid that are not co - decided ?,xxbos when was the primary source created ?,xxbos why did so many soldiers look the other way in relation to the incidents of march 4th and march xxunk ?,xxbos what are the income tax rates in canada for 2007 ?,xxbos why is the program good for employers and service providers ?\n",
              "Path: /root/.fastai/data/giga-fren;\n",
              "\n",
              "Test: None"
            ]
          },
          "metadata": {
            "tags": []
          },
          "execution_count": 23
        }
      ]
    },
    {
      "cell_type": "code",
      "metadata": {
        "id": "IN8PL3bPibfK",
        "colab_type": "code",
        "outputId": "9597406d-bc2a-404e-dbde-54ff0ef716f0",
        "colab": {
          "base_uri": "https://localhost:8080/",
          "height": 34
        }
      },
      "source": [
        "path"
      ],
      "execution_count": 0,
      "outputs": [
        {
          "output_type": "execute_result",
          "data": {
            "text/plain": [
              "PosixPath('/root/.fastai/data/giga-fren')"
            ]
          },
          "metadata": {
            "tags": []
          },
          "execution_count": 24
        }
      ]
    },
    {
      "cell_type": "code",
      "metadata": {
        "id": "Cd-ZOdnYjCzz",
        "colab_type": "code",
        "colab": {}
      },
      "source": [
        "data = load_data(path)"
      ],
      "execution_count": 0,
      "outputs": []
    },
    {
      "cell_type": "code",
      "metadata": {
        "id": "3yGXSTqejImT",
        "colab_type": "code",
        "outputId": "1de007ce-7cc2-4f13-fb48-468769f8f24d",
        "colab": {
          "base_uri": "https://localhost:8080/",
          "height": 289
        }
      },
      "source": [
        "data.show_batch()"
      ],
      "execution_count": 0,
      "outputs": [
        {
          "output_type": "display_data",
          "data": {
            "text/html": [
              "<table border=\"1\" class=\"dataframe\">\n",
              "  <thead>\n",
              "    <tr style=\"text-align: right;\">\n",
              "      <th>text</th>\n",
              "      <th>target</th>\n",
              "    </tr>\n",
              "  </thead>\n",
              "  <tbody>\n",
              "    <tr>\n",
              "      <td>xxbos quels services offrez - vous aux résidents , par l'entremise de votre propre organisation , par l'entremise de liens / partenariats avec des organismes communautaires ou les deux ?</td>\n",
              "      <td>xxbos which of the following services do you offer to residents either through your own organization or through linkages and / or partnerships with community agencies or both ?</td>\n",
              "    </tr>\n",
              "    <tr>\n",
              "      <td>xxbos quelles initiatives ont été prises , conformément aux recommandations précédentes du comité , pour sensibiliser tant les hommes que les femmes à la contraception et aux méthodes xxunk ?</td>\n",
              "      <td>xxbos what steps have been taken , in line with the committee ’s previous recommendations , to raise awareness about contraception and xxunk methods among both men and women ?</td>\n",
              "    </tr>\n",
              "    <tr>\n",
              "      <td>xxbos qu’en est - il d’un leader qui ne possède que deux de ces caractéristiques ou de celui qui ne manifeste que de temps en temps certains comportements xxunk ?</td>\n",
              "      <td>xxbos what if a leader xxunk only two of the factors ?</td>\n",
              "    </tr>\n",
              "    <tr>\n",
              "      <td>xxbos quels mécanismes d'évaluation , de surveillance ou de responsabilisation sont en place pour l'étude de cas , tant dans le cadre de l'initiative qu'à l'intérieur de votre organisation ?</td>\n",
              "      <td>xxbos what evaluation , monitoring or other accountability mechanisms are in place for this work , within the initiative and within your organization ?</td>\n",
              "    </tr>\n",
              "    <tr>\n",
              "      <td>xxbos quelles sont les hypothèses , selon la définition actuelle du développement , do nt les pays en développement sont censés s'inspirer pour réformer leurs systèmes de politique sociale ?</td>\n",
              "      <td>xxbos what are the assumptions in the current understanding of development that developing countries are expected to accommodate in reforming their social - policy systems ?</td>\n",
              "    </tr>\n",
              "  </tbody>\n",
              "</table>"
            ],
            "text/plain": [
              "<IPython.core.display.HTML object>"
            ]
          },
          "metadata": {
            "tags": []
          }
        }
      ]
    },
    {
      "cell_type": "markdown",
      "metadata": {
        "id": "Z1YwmxTpjnD3",
        "colab_type": "text"
      },
      "source": [
        "## Create our Model\n",
        "\n"
      ]
    },
    {
      "cell_type": "markdown",
      "metadata": {
        "id": "T4X0NMFjjwCu",
        "colab_type": "text"
      },
      "source": [
        "### Pretrained embeddings\n",
        "\n",
        "You will need to download the word embeddings (crawl vectors) from the fastText docs. FastText has [pre-trained word vectors](https://fasttext.cc/docs/en/crawl-vectors.html) for 157 languages, trained on Common Crawl and Wikipedia. These models were trained using CBOW.\n",
        "\n",
        "If you need a refresher on word embeddings, you can check out my gentle intro in this [word embedding workshop](https://www.youtube.com/watch?v=25nC0n9ERq4&list=PLtmWHNX-gukLQlMvtRJ19s7-8MrnRV6h6&index=10&t=0s) with accompanying [github repo](https://github.com/fastai/word-embeddings-workshop).\n",
        "\n",
        "More reading on CBOW (Continuous Bag of Words vs. Skip-grams):\n",
        "\n",
        "- [fastText tutorial](https://fasttext.cc/docs/en/unsupervised-tutorial.html#advanced-readers-skipgram-versus-cbow)\n",
        "- [StackOverflow](https://stackoverflow.com/questions/38287772/cbow-v-s-skip-gram-why-invert-context-and-target-words)\n",
        "\n",
        "\n",
        "To install fastText:\n",
        "\n",
        "\n",
        "```\n",
        "$ git clone https://github.com/facebookresearch/fastText.git\n",
        "$ cd fastText\n",
        "$ pip install .\n",
        "```\n",
        "\n"
      ]
    },
    {
      "cell_type": "code",
      "metadata": {
        "id": "DNRPDWlLlnnO",
        "colab_type": "code",
        "outputId": "6dd4ce99-3ebb-41b3-c46e-4e11d67a8435",
        "colab": {
          "base_uri": "https://localhost:8080/",
          "height": 238
        }
      },
      "source": [
        "!pip install fastText"
      ],
      "execution_count": 0,
      "outputs": [
        {
          "output_type": "stream",
          "text": [
            "Collecting fastText\n",
            "\u001b[?25l  Downloading https://files.pythonhosted.org/packages/10/61/2e01f1397ec533756c1d893c22d9d5ed3fce3a6e4af1976e0d86bb13ea97/fasttext-0.9.1.tar.gz (57kB)\n",
            "\u001b[K     |████████████████████████████████| 61kB 2.4MB/s \n",
            "\u001b[?25hRequirement already satisfied: pybind11>=2.2 in /usr/local/lib/python3.6/dist-packages (from fastText) (2.3.0)\n",
            "Requirement already satisfied: setuptools>=0.7.0 in /usr/local/lib/python3.6/dist-packages (from fastText) (41.0.1)\n",
            "Requirement already satisfied: numpy in /usr/local/lib/python3.6/dist-packages (from fastText) (1.16.4)\n",
            "Building wheels for collected packages: fastText\n",
            "  Building wheel for fastText (setup.py) ... \u001b[?25l\u001b[?25hdone\n",
            "  Created wheel for fastText: filename=fasttext-0.9.1-cp36-cp36m-linux_x86_64.whl size=2382768 sha256=8e8cbbc2bef0e951f95b173f98bb19148073ff8a916c63c33a286776d22be4f5\n",
            "  Stored in directory: /root/.cache/pip/wheels/9f/f0/04/caa82c912aee89ce76358ff954f3f0729b7577c8ff23a292e3\n",
            "Successfully built fastText\n",
            "Installing collected packages: fastText\n",
            "Successfully installed fastText-0.9.1\n"
          ],
          "name": "stdout"
        }
      ]
    },
    {
      "cell_type": "code",
      "metadata": {
        "id": "bIz2FiaojJ9V",
        "colab_type": "code",
        "colab": {}
      },
      "source": [
        "import fasttext as ft"
      ],
      "execution_count": 0,
      "outputs": []
    },
    {
      "cell_type": "code",
      "metadata": {
        "id": "jUCMiygAlj1x",
        "colab_type": "code",
        "outputId": "cecf4d9a-5c57-4718-8638-59d92918d140",
        "colab": {
          "base_uri": "https://localhost:8080/",
          "height": 391
        }
      },
      "source": [
        "! wget https://dl.fbaipublicfiles.com/fasttext/vectors-crawl/cc.en.300.bin.gz -P {path}\n",
        "! wget https://dl.fbaipublicfiles.com/fasttext/vectors-crawl/cc.fr.300.bin.gz -P {path}"
      ],
      "execution_count": 0,
      "outputs": [
        {
          "output_type": "stream",
          "text": [
            "--2019-08-18 00:43:36--  https://dl.fbaipublicfiles.com/fasttext/vectors-crawl/cc.en.300.bin.gz\n",
            "Resolving dl.fbaipublicfiles.com (dl.fbaipublicfiles.com)... 104.20.6.166, 104.20.22.166, 2606:4700:10::6814:6a6, ...\n",
            "Connecting to dl.fbaipublicfiles.com (dl.fbaipublicfiles.com)|104.20.6.166|:443... connected.\n",
            "HTTP request sent, awaiting response... 200 OK\n",
            "Length: 4503593528 (4.2G) [application/octet-stream]\n",
            "Saving to: ‘/root/.fastai/data/giga-fren/cc.en.300.bin.gz’\n",
            "\n",
            "cc.en.300.bin.gz    100%[===================>]   4.19G  28.1MB/s    in 2m 34s  \n",
            "\n",
            "2019-08-18 00:46:11 (27.9 MB/s) - ‘/root/.fastai/data/giga-fren/cc.en.300.bin.gz’ saved [4503593528/4503593528]\n",
            "\n",
            "--2019-08-18 00:46:12--  https://dl.fbaipublicfiles.com/fasttext/vectors-crawl/cc.fr.300.bin.gz\n",
            "Resolving dl.fbaipublicfiles.com (dl.fbaipublicfiles.com)... 104.20.6.166, 104.20.22.166, 2606:4700:10::6814:6a6, ...\n",
            "Connecting to dl.fbaipublicfiles.com (dl.fbaipublicfiles.com)|104.20.6.166|:443... connected.\n",
            "HTTP request sent, awaiting response... 200 OK\n",
            "Length: 4496886212 (4.2G) [application/octet-stream]\n",
            "Saving to: ‘/root/.fastai/data/giga-fren/cc.fr.300.bin.gz’\n",
            "\n",
            "cc.fr.300.bin.gz    100%[===================>]   4.19G  28.0MB/s    in 2m 45s  \n",
            "\n",
            "2019-08-18 00:48:58 (26.0 MB/s) - ‘/root/.fastai/data/giga-fren/cc.fr.300.bin.gz’ saved [4496886212/4496886212]\n",
            "\n"
          ],
          "name": "stdout"
        }
      ]
    },
    {
      "cell_type": "code",
      "metadata": {
        "id": "z2r1WHPbp1Ug",
        "colab_type": "code",
        "outputId": "f3a4abbd-4a71-45b2-a009-d59bf098b317",
        "colab": {
          "base_uri": "https://localhost:8080/",
          "height": 119
        }
      },
      "source": [
        "path.ls()"
      ],
      "execution_count": 0,
      "outputs": [
        {
          "output_type": "execute_result",
          "data": {
            "text/plain": [
              "[PosixPath('/root/.fastai/data/giga-fren/cc.en.300.bin.gz'),\n",
              " PosixPath('/root/.fastai/data/giga-fren/giga-fren.release2.fixed.en'),\n",
              " PosixPath('/root/.fastai/data/giga-fren/questions_easy.csv'),\n",
              " PosixPath('/root/.fastai/data/giga-fren/giga-fren.release2.fixed.fr'),\n",
              " PosixPath('/root/.fastai/data/giga-fren/data_save.pkl'),\n",
              " PosixPath('/root/.fastai/data/giga-fren/cc.fr.300.bin.gz')]"
            ]
          },
          "metadata": {
            "tags": []
          },
          "execution_count": 30
        }
      ]
    },
    {
      "cell_type": "code",
      "metadata": {
        "id": "LKvgfwM-l3ev",
        "colab_type": "code",
        "colab": {}
      },
      "source": [
        "!gunzip {path}/cc.en.300.bin.gz\n",
        "!gunzip {path}/cc.fr.300.bin.gz"
      ],
      "execution_count": 0,
      "outputs": []
    },
    {
      "cell_type": "code",
      "metadata": {
        "id": "lmsgL42Fn99P",
        "colab_type": "code",
        "outputId": "c65b69fd-0c08-4460-aba7-7704d43f65ea",
        "colab": {
          "base_uri": "https://localhost:8080/",
          "height": 51
        }
      },
      "source": [
        "fr_vecs = ft.load_model(str((path/'cc.fr.300.bin')))\n",
        "en_vecs = ft.load_model(str((path/'cc.en.300.bin')))"
      ],
      "execution_count": 0,
      "outputs": [
        {
          "output_type": "stream",
          "text": [
            "\n",
            "\n"
          ],
          "name": "stderr"
        }
      ]
    },
    {
      "cell_type": "markdown",
      "metadata": {
        "id": "l0s6iKsVoSSy",
        "colab_type": "text"
      },
      "source": [
        "We create an embedding module with the pretrained vectors and random data for the missing parts."
      ]
    },
    {
      "cell_type": "code",
      "metadata": {
        "id": "X_X8r45yoUTh",
        "colab_type": "code",
        "colab": {}
      },
      "source": [
        "def create_emb(vecs,itos,em_sz = 300,mult=1.):\n",
        "    emb = nn.Embedding(len(itos),em_sz,padding_idx=1)\n",
        "    wgts =emb.weight.data\n",
        "    vec_dic = {w:vecs.get_word_vector(w) for w in vecs.get_words()}\n",
        "    miss = []\n",
        "    for i,w in enumerate(itos):\n",
        "        try : wgts[i]:tensor(vec_dic[w])\n",
        "        except : miss.append(w)\n",
        "    return emb\n",
        "    "
      ],
      "execution_count": 0,
      "outputs": []
    },
    {
      "cell_type": "code",
      "metadata": {
        "id": "cUwJvLrMr1ya",
        "colab_type": "code",
        "colab": {}
      },
      "source": [
        "emb_enc=create_emb(fr_vecs,data.x.vocab.itos)\n",
        "emb_dec=create_emb(en_vecs,data.y.vocab.itos)"
      ],
      "execution_count": 0,
      "outputs": []
    },
    {
      "cell_type": "code",
      "metadata": {
        "id": "ab8tA9_v3hiE",
        "colab_type": "code",
        "outputId": "2826ef2f-cea1-4441-eaff-b3e58dbfad43",
        "colab": {
          "base_uri": "https://localhost:8080/",
          "height": 34
        }
      },
      "source": [
        "emb_enc.weight.size(), emb_dec.weight.size()"
      ],
      "execution_count": 0,
      "outputs": [
        {
          "output_type": "execute_result",
          "data": {
            "text/plain": [
              "(torch.Size([11336, 300]), torch.Size([8144, 300]))"
            ]
          },
          "metadata": {
            "tags": []
          },
          "execution_count": 38
        }
      ]
    },
    {
      "cell_type": "code",
      "metadata": {
        "id": "SWT96yxQ3iO5",
        "colab_type": "code",
        "colab": {}
      },
      "source": [
        "os.makedirs('/root/.fastai/models/',exist_ok=True)\n",
        "model_path = '/root/.fastai/models'"
      ],
      "execution_count": 0,
      "outputs": []
    },
    {
      "cell_type": "code",
      "metadata": {
        "id": "e-C96Xolub04",
        "colab_type": "code",
        "colab": {}
      },
      "source": [
        "torch.save(emb_enc, f'{model_path}/fr_emb.pth')\n",
        "torch.save(emb_dec, f'{model_path}/en_emb.pth')"
      ],
      "execution_count": 0,
      "outputs": []
    },
    {
      "cell_type": "code",
      "metadata": {
        "id": "gvMaNuu25mnW",
        "colab_type": "code",
        "outputId": "66167fa8-ec11-4f56-85d7-7f073c24650f",
        "colab": {
          "base_uri": "https://localhost:8080/",
          "height": 34
        }
      },
      "source": [
        "#shutil.copy(f'{model_path}/fr_emb.pth','/content')\n",
        "#shutil.copy(f'{model_path}/en_emb.pth','/content')"
      ],
      "execution_count": 0,
      "outputs": [
        {
          "output_type": "execute_result",
          "data": {
            "text/plain": [
              "'/content/en_emb.pth'"
            ]
          },
          "metadata": {
            "tags": []
          },
          "execution_count": 63
        }
      ]
    },
    {
      "cell_type": "code",
      "metadata": {
        "id": "b1fAYu1EwEOZ",
        "colab_type": "code",
        "colab": {}
      },
      "source": [
        "emb_enc = torch.load(model_path/'fr_emb.pth')\n",
        "emb_dec = torch.load(model_path/'en_emb.pth')"
      ],
      "execution_count": 0,
      "outputs": []
    },
    {
      "cell_type": "markdown",
      "metadata": {
        "id": "93w0noZqwLUC",
        "colab_type": "text"
      },
      "source": [
        "### Our Model\n",
        "\n",
        "**Review Question:** What are the two types of numbers in deep learning?\n",
        "\n",
        "**Encoders & Decoders**\n",
        "\n",
        "The model in itself consists in an encoder and a decoder\n",
        "\n",
        "![alt text](https://github.com/fastai/course-nlp/raw/85e505295efeed88ce61dc0ff5e424bde9741a15/images/seq2seq.png?raw=True)\n",
        "\n",
        "The encoder is a recurrent neural net and we feed it our input sentence, producing an output (that we discard for now) and a hidden state. **A hidden state** is the activations that come out of an RNN.\n",
        "\n",
        "That hidden state is then given to the decoder (an other RNN) which uses it in conjunction with the outputs it predicts to get produce the translation. We loop until the decoder produces a padding token (or at 30 iterations to make sure it's not an infinite loop at the beginning of training).\n",
        "\n",
        "We will use a GRU for our encoder and a separate GRU for our decoder. Other options are to use LSTMs or QRNNs (see here). GRUs, LSTMs, and QRNNs all solve the problem of how RNNs can lack long-term memory.\n",
        "\n",
        "Links:\n",
        "\n",
        "- Illustrated Guide to LSTM’s and GRU’s: A step by step explanation\n",
        "- fast.ai implementation of seq2seq with QRNNs"
      ]
    },
    {
      "cell_type": "code",
      "metadata": {
        "id": "VcFKRY9S0TC_",
        "colab_type": "code",
        "colab": {}
      },
      "source": [
        "class Seq2SeqRNN(nn.Module):\n",
        "    def __init__(self, emb_enc, emb_dec, \n",
        "                    nh, out_sl, \n",
        "                    nl=2, bos_idx=0, pad_idx=1):\n",
        "        super().__init__()\n",
        "        self.nl,self.nh,self.out_sl = nl,nh,out_sl\n",
        "        self.bos_idx,self.pad_idx = bos_idx,pad_idx\n",
        "        self.em_sz_enc = emb_enc.embedding_dim\n",
        "        self.em_sz_dec = emb_dec.embedding_dim\n",
        "        self.voc_sz_dec = emb_dec.num_embeddings\n",
        "                 \n",
        "        self.emb_enc = emb_enc\n",
        "        self.emb_enc_drop = nn.Dropout(0.15)\n",
        "        self.gru_enc = nn.GRU(self.em_sz_enc, nh, num_layers=nl,\n",
        "                              dropout=0.25, batch_first=True)\n",
        "        self.out_enc = nn.Linear(nh, self.em_sz_dec, bias=False)\n",
        "        \n",
        "        self.emb_dec = emb_dec\n",
        "        self.gru_dec = nn.GRU(self.em_sz_dec, self.em_sz_dec, num_layers=nl,\n",
        "                              dropout=0.1, batch_first=True)\n",
        "        self.out_drop = nn.Dropout(0.35)\n",
        "        self.out = nn.Linear(self.em_sz_dec, self.voc_sz_dec)\n",
        "        self.out.weight.data = self.emb_dec.weight.data\n",
        "        \n",
        "    def encoder(self, bs, inp):\n",
        "        h = self.initHidden(bs)\n",
        "        emb = self.emb_enc_drop(self.emb_enc(inp))\n",
        "        _, h = self.gru_enc(emb, h)\n",
        "        h = self.out_enc(h)\n",
        "        return h\n",
        "    \n",
        "    def decoder(self, dec_inp, h):\n",
        "        emb = self.emb_dec(dec_inp).unsqueeze(1)\n",
        "        outp, h = self.gru_dec(emb, h)\n",
        "        outp = self.out(self.out_drop(outp[:,0]))\n",
        "        return h, outp\n",
        "        \n",
        "    def forward(self, inp):\n",
        "        bs, sl = inp.size()\n",
        "        h = self.encoder(bs, inp)\n",
        "        dec_inp = inp.new_zeros(bs).long() + self.bos_idx\n",
        "        \n",
        "        res = []\n",
        "        for i in range(self.out_sl):\n",
        "            h, outp = self.decoder(dec_inp, h)\n",
        "            dec_inp = outp.max(1)[1]\n",
        "            res.append(outp)\n",
        "            if (dec_inp==self.pad_idx).all(): break\n",
        "        return torch.stack(res, dim=1)\n",
        "    \n",
        "    def initHidden(self, bs): return one_param(self).new_zeros(self.nl, bs, self.nh)"
      ],
      "execution_count": 0,
      "outputs": []
    },
    {
      "cell_type": "markdown",
      "metadata": {
        "id": "hr_9oT_Vw1x7",
        "colab_type": "text"
      },
      "source": [
        "\n",
        "```\n",
        "def forward(self, inp):\n",
        "        bs, sl = inp.size()\n",
        "        h = self.encoder(bs, inp)\n",
        "        dec_inp = inp.new_zeros(bs).long() + self.bos_idx\n",
        "        \n",
        "        res = []\n",
        "        for i in range(self.out_sl):\n",
        "            h, outp = self.decoder(dec_inp, h)\n",
        "            dec_inp = outp.max(1)[1]\n",
        "            res.append(outp)\n",
        "            if (dec_inp==self.pad_idx).all(): break\n",
        "        return torch.stack(res, dim=1)\n",
        "```\n",
        "\n",
        "The forward step is going to put the batch size and input into an encoder and get out a hidden state. Our decode input need to be initialized to right size and to start with beginning of string. \n",
        "\n",
        "And then we'll go through an for loop where in each step that we are putting our decode input (**dec_inp** ) and our hidden state (**h**) we got from an encoder.  We put all these into a decoder _ **self.decoder(dec_inp,h)** , then we get out the hidden state and an output as well.\n",
        "\n",
        "**dec_inp = out.max(1)[1]** : take the max of that to get decoder input \n",
        "\n",
        "**res.append(outp)**: we want to hold on to what our output was from the decoder. \n",
        "\n",
        "**if (dec_inp==self.pad_idx).all(): break** : Then if we have a padding token we'll break out of this \n",
        "\n",
        "**return torch.stack(res,dim=1)** : at the end, we'll return our results \n",
        "\n",
        "=> in summary, you are putting your input into an encoder and then in a for loop you re getting something out of the decoder each time "
      ]
    },
    {
      "cell_type": "markdown",
      "metadata": {
        "id": "s_YCcdp30Te0",
        "colab_type": "text"
      },
      "source": [
        "\n",
        "\n",
        "```\n",
        " def encoder(self, bs, inp):\n",
        "        h = self.initHidden(bs)\n",
        "        emb = self.emb_enc_drop(self.emb_enc(inp))\n",
        "        _, h = self.gru_enc(emb, h)\n",
        "        h = self.out_enc(h)\n",
        "        return h\n",
        "```\n",
        "\n",
        "it is taking the embedding that we had prepared for the encoder and we put the input into embedding - **`self.emb_enc(inp)`** - . That basically is taking the French words and picking out what French are the vectors word embedding for those . Then we apply the dropout - **`self.emb_enc_drop(self.emb_enc(inp))`** which do regularization \n",
        "\n",
        "**`_,h = self.gru_enc(emb,h)`** : put that into our first GRU since this uses two different GRUs. This one is learning for the encoder . It including embedding and hidden state of what came before \n",
        "\n",
        "**`h = self.out_enc(h)`** : hidden_state will be put into a Linear layer - self.out_enc -> return a final hidden state \n",
        "\n"
      ]
    },
    {
      "cell_type": "markdown",
      "metadata": {
        "id": "Tt59mfv16ryI",
        "colab_type": "text"
      },
      "source": [
        "\n",
        "\n",
        "```\n",
        "def decoder(self, dec_inp, h):\n",
        "        emb = self.emb_dec(dec_inp).unsqueeze(1)\n",
        "        outp, h = self.gru_dec(emb, h)\n",
        "        outp = self.out(self.out_drop(outp[:,0]))\n",
        "        return h, outp\n",
        "```\n",
        "we get the decoder input (dec_inp) . \n",
        "\n",
        "**`emb = self.emb_dec(dec_inp).unsqueeze(1)`** :Then we put into embedding and add a dimension (unsqueeze(1)) \n",
        "\n",
        "**`outp, h = self.gru_dec(emb, h)`** : we put our emb and h through GRU decoder -> this is our second GRU \n",
        "\n",
        "**`outp = self.out(self.out_drop(outp[:,0]))`**: Then apply some dropout then apply self.out which is a Linear layer ,\n",
        "\n",
        "**`return h, outp`** : finally we get output from there "
      ]
    },
    {
      "cell_type": "code",
      "metadata": {
        "id": "wFNSfdw68J7p",
        "colab_type": "code",
        "colab": {}
      },
      "source": [
        "xb,yb = next(iter(data.valid_dl))"
      ],
      "execution_count": 0,
      "outputs": []
    },
    {
      "cell_type": "code",
      "metadata": {
        "id": "DnahJx1NVqgq",
        "colab_type": "code",
        "outputId": "b0ae6335-c83e-4307-c290-1811cfd0dc4c",
        "colab": {
          "base_uri": "https://localhost:8080/",
          "height": 34
        }
      },
      "source": [
        "xb.shape"
      ],
      "execution_count": 0,
      "outputs": [
        {
          "output_type": "execute_result",
          "data": {
            "text/plain": [
              "torch.Size([64, 30])"
            ]
          },
          "metadata": {
            "tags": []
          },
          "execution_count": 42
        }
      ]
    },
    {
      "cell_type": "code",
      "metadata": {
        "id": "Yb2K-tfWVsLF",
        "colab_type": "code",
        "colab": {}
      },
      "source": [
        "rnn = Seq2SeqRNN(emb_enc,emb_dec,256,30)"
      ],
      "execution_count": 0,
      "outputs": []
    },
    {
      "cell_type": "markdown",
      "metadata": {
        "id": "4HKlLc9SWpDN",
        "colab_type": "text"
      },
      "source": [
        "- emb_enc=English embedding\n",
        "- emb_dec = French embedding \n",
        "- 256 : is a number of hidden layers\n",
        "- 30 : is a sequence length "
      ]
    },
    {
      "cell_type": "code",
      "metadata": {
        "id": "hhMF0tKXWdXi",
        "colab_type": "code",
        "outputId": "04683d59-3b07-4c15-c8f4-b4b8e6337e27",
        "colab": {
          "base_uri": "https://localhost:8080/",
          "height": 187
        }
      },
      "source": [
        "rnn"
      ],
      "execution_count": 0,
      "outputs": [
        {
          "output_type": "execute_result",
          "data": {
            "text/plain": [
              "Seq2SeqRNN(\n",
              "  (emb_enc): Embedding(11336, 300, padding_idx=1)\n",
              "  (emb_enc_drop): Dropout(p=0.15)\n",
              "  (gru_enc): GRU(300, 256, num_layers=2, batch_first=True, dropout=0.25)\n",
              "  (out_enc): Linear(in_features=256, out_features=300, bias=False)\n",
              "  (emb_dec): Embedding(8144, 300, padding_idx=1)\n",
              "  (gru_dec): GRU(300, 300, num_layers=2, batch_first=True, dropout=0.1)\n",
              "  (out_drop): Dropout(p=0.35)\n",
              "  (out): Linear(in_features=300, out_features=8144, bias=True)\n",
              ")"
            ]
          },
          "metadata": {
            "tags": []
          },
          "execution_count": 44
        }
      ]
    },
    {
      "cell_type": "code",
      "metadata": {
        "id": "nD_hh4t9Wd1W",
        "colab_type": "code",
        "outputId": "98a0e029-f337-493e-80ad-3b900ebb1355",
        "colab": {
          "base_uri": "https://localhost:8080/",
          "height": 34
        }
      },
      "source": [
        "len(xb[0])"
      ],
      "execution_count": 0,
      "outputs": [
        {
          "output_type": "execute_result",
          "data": {
            "text/plain": [
              "30"
            ]
          },
          "metadata": {
            "tags": []
          },
          "execution_count": 45
        }
      ]
    },
    {
      "cell_type": "code",
      "metadata": {
        "id": "8SJgpdrRXGep",
        "colab_type": "code",
        "colab": {}
      },
      "source": [
        "h = rnn.encoder(64,xb.cpu())"
      ],
      "execution_count": 0,
      "outputs": []
    },
    {
      "cell_type": "code",
      "metadata": {
        "id": "4PFP7LDWXLr8",
        "colab_type": "code",
        "outputId": "68c89292-b44a-450a-fc73-89b13fb8917e",
        "colab": {
          "base_uri": "https://localhost:8080/",
          "height": 34
        }
      },
      "source": [
        "h.size()"
      ],
      "execution_count": 0,
      "outputs": [
        {
          "output_type": "execute_result",
          "data": {
            "text/plain": [
              "torch.Size([2, 64, 300])"
            ]
          },
          "metadata": {
            "tags": []
          },
          "execution_count": 47
        }
      ]
    },
    {
      "cell_type": "markdown",
      "metadata": {
        "id": "prPjOT83XN-y",
        "colab_type": "text"
      },
      "source": [
        "hidden state size is 2x64x300 :\n",
        "\n",
        "- 2 : number of hidden layers inside GRU\n",
        "- 64 : is batch size\n",
        "- 300 : is the dimension of the embedding\n"
      ]
    },
    {
      "cell_type": "markdown",
      "metadata": {
        "id": "3kR1sta-X_sX",
        "colab_type": "text"
      },
      "source": [
        "The loss pads output and target so that they are of the same size before using the usual flattened version of cross entropy. We do the same for accuracy."
      ]
    },
    {
      "cell_type": "code",
      "metadata": {
        "id": "thge3XJ8XMiJ",
        "colab_type": "code",
        "colab": {}
      },
      "source": [
        "def seq2seq_loss(out, targ, pad_idx=1):\n",
        "    bs,targ_len = targ.size()\n",
        "    _,out_len,vs = out.size()\n",
        "    if targ_len>out_len: out  = F.pad(out,  (0,0,0,targ_len-out_len,0,0), value=pad_idx)\n",
        "    if out_len>targ_len: targ = F.pad(targ, (0,out_len-targ_len,0,0), value=pad_idx)\n",
        "    return CrossEntropyFlat()(out, targ)"
      ],
      "execution_count": 0,
      "outputs": []
    },
    {
      "cell_type": "markdown",
      "metadata": {
        "id": "nnPXnE_3YNO7",
        "colab_type": "text"
      },
      "source": [
        "### Train our model"
      ]
    },
    {
      "cell_type": "code",
      "metadata": {
        "id": "EM292UEAYLL2",
        "colab_type": "code",
        "colab": {}
      },
      "source": [
        "learn = Learner(data,rnn,loss_func=seq2seq_loss)"
      ],
      "execution_count": 0,
      "outputs": []
    },
    {
      "cell_type": "code",
      "metadata": {
        "id": "w3tVDmGrYY1J",
        "colab_type": "code",
        "outputId": "786d6b16-952c-4ded-cf3a-4b6e5509b6b4",
        "colab": {
          "base_uri": "https://localhost:8080/",
          "height": 34
        }
      },
      "source": [
        "learn.lr_find()"
      ],
      "execution_count": 0,
      "outputs": [
        {
          "output_type": "display_data",
          "data": {
            "text/html": [
              ""
            ],
            "text/plain": [
              "<IPython.core.display.HTML object>"
            ]
          },
          "metadata": {
            "tags": []
          }
        },
        {
          "output_type": "stream",
          "text": [
            "LR Finder is complete, type {learner_name}.recorder.plot() to see the graph.\n"
          ],
          "name": "stdout"
        }
      ]
    },
    {
      "cell_type": "code",
      "metadata": {
        "id": "S3---Ho9YaMy",
        "colab_type": "code",
        "outputId": "fc6d561e-e1b9-4efb-cc09-38af5d2bda17",
        "colab": {
          "base_uri": "https://localhost:8080/",
          "height": 283
        }
      },
      "source": [
        "learn.recorder.plot()"
      ],
      "execution_count": 0,
      "outputs": [
        {
          "output_type": "display_data",
          "data": {
            "image/png": "[encoded data removed]",
            "text/plain": [
              "<Figure size 432x288 with 1 Axes>"
            ]
          },
          "metadata": {
            "tags": []
          }
        }
      ]
    },
    {
      "cell_type": "code",
      "metadata": {
        "id": "VtmH8QjTYfzE",
        "colab_type": "code",
        "outputId": "bbc55c01-90b1-4a62-86c4-83672ab26249",
        "colab": {
          "base_uri": "https://localhost:8080/",
          "height": 173
        }
      },
      "source": [
        "learn.fit_one_cycle(4, 1e-2)"
      ],
      "execution_count": 0,
      "outputs": [
        {
          "output_type": "display_data",
          "data": {
            "text/html": [
              "<table border=\"1\" class=\"dataframe\">\n",
              "  <thead>\n",
              "    <tr style=\"text-align: left;\">\n",
              "      <th>epoch</th>\n",
              "      <th>train_loss</th>\n",
              "      <th>valid_loss</th>\n",
              "      <th>time</th>\n",
              "    </tr>\n",
              "  </thead>\n",
              "  <tbody>\n",
              "    <tr>\n",
              "      <td>0</td>\n",
              "      <td>5.198815</td>\n",
              "      <td>5.412505</td>\n",
              "      <td>01:17</td>\n",
              "    </tr>\n",
              "    <tr>\n",
              "      <td>1</td>\n",
              "      <td>4.929246</td>\n",
              "      <td>4.815796</td>\n",
              "      <td>01:08</td>\n",
              "    </tr>\n",
              "    <tr>\n",
              "      <td>2</td>\n",
              "      <td>4.721554</td>\n",
              "      <td>4.963487</td>\n",
              "      <td>01:07</td>\n",
              "    </tr>\n",
              "    <tr>\n",
              "      <td>3</td>\n",
              "      <td>4.504862</td>\n",
              "      <td>5.290407</td>\n",
              "      <td>01:09</td>\n",
              "    </tr>\n",
              "  </tbody>\n",
              "</table>"
            ],
            "text/plain": [
              "<IPython.core.display.HTML object>"
            ]
          },
          "metadata": {
            "tags": []
          }
        }
      ]
    },
    {
      "cell_type": "markdown",
      "metadata": {
        "id": "S8aXI6peY0OU",
        "colab_type": "text"
      },
      "source": [
        "let's free up some RAM"
      ]
    },
    {
      "cell_type": "code",
      "metadata": {
        "id": "fCfqEyEJYyoI",
        "colab_type": "code",
        "colab": {}
      },
      "source": [
        "del fr_vecs\n",
        "del en_vecs"
      ],
      "execution_count": 0,
      "outputs": []
    },
    {
      "cell_type": "markdown",
      "metadata": {
        "id": "Dge52fyDZCWa",
        "colab_type": "text"
      },
      "source": [
        "As loss is not very interpretable, it's nice to see they are both decreasing but in terms of human interpretability , we don't really know how good is our model based on these losses , we dont' have the meaning for that\n",
        "\n",
        "Let's also look at the accuracy. Again, we will add padding so that the output and target are of the same length."
      ]
    },
    {
      "cell_type": "code",
      "metadata": {
        "id": "C27QVZDRYiOt",
        "colab_type": "code",
        "colab": {}
      },
      "source": [
        "def seq2seq_acc(out, targ, pad_idx=1):\n",
        "    bs,targ_len = targ.size()\n",
        "    _,out_len,vs = out.size()\n",
        "    if targ_len>out_len: out  = F.pad(out,  (0,0,0,targ_len-out_len,0,0), value=pad_idx)\n",
        "    if out_len>targ_len: targ = F.pad(targ, (0,out_len-targ_len,0,0), value=pad_idx)\n",
        "    out = out.argmax(2)\n",
        "    return (out==targ).float().mean()"
      ],
      "execution_count": 0,
      "outputs": []
    },
    {
      "cell_type": "markdown",
      "metadata": {
        "id": "nj76B0okZ-Th",
        "colab_type": "text"
      },
      "source": [
        "#### BLEU\n",
        "\n",
        "[Video 12 - 27:29](https://youtu.be/IfsjMg4fLWQ?t=1649)\n",
        "\n",
        "The problem, although accuracy is technical definition but measuring how good a translation model is a little bit trickier.\n",
        "\n",
        "One of the metric is deal with this called **BLEU**\n",
        "\n",
        "\n",
        "In translation, the metric usually used is BLEU.\n",
        "\n",
        "A great post by Rachael Tatman: [Evaluating Text Output in NLP: BLEU at your own risk](https://towardsdatascience.com/evaluating-text-output-in-nlp-bleu-at-your-own-risk-e8609665a213)\n",
        "\n"
      ]
    },
    {
      "cell_type": "code",
      "metadata": {
        "id": "8Pl2jCNPeTxc",
        "colab_type": "code",
        "colab": {}
      },
      "source": [
        "class NGram():\n",
        "    def __init__(self, ngram, max_n=5000): self.ngram,self.max_n = ngram,max_n\n",
        "    def __eq__(self, other):\n",
        "        if len(self.ngram) != len(other.ngram): return False\n",
        "        return np.all(np.array(self.ngram) == np.array(other.ngram))\n",
        "    def __hash__(self): return int(sum([o * self.max_n**i for i,o in enumerate(self.ngram)]))"
      ],
      "execution_count": 0,
      "outputs": []
    },
    {
      "cell_type": "code",
      "metadata": {
        "id": "HrJVLqMHeiP4",
        "colab_type": "code",
        "colab": {}
      },
      "source": [
        "def get_grams(x, n, max_n=5000):\n",
        "    return x if n==1 else [NGram(x[i:i+n], max_n=max_n) for i in range(len(x)-n+1)]"
      ],
      "execution_count": 0,
      "outputs": []
    },
    {
      "cell_type": "code",
      "metadata": {
        "id": "7x1WilIWei3r",
        "colab_type": "code",
        "colab": {}
      },
      "source": [
        "def get_correct_ngrams(pred, targ, n, max_n=5000):\n",
        "    pred_grams,targ_grams = get_grams(pred, n, max_n=max_n),get_grams(targ, n, max_n=max_n)\n",
        "    pred_cnt,targ_cnt = Counter(pred_grams),Counter(targ_grams)\n",
        "    return sum([min(c, targ_cnt[g]) for g,c in pred_cnt.items()]),len(pred_grams)"
      ],
      "execution_count": 0,
      "outputs": []
    },
    {
      "cell_type": "code",
      "metadata": {
        "id": "39f_jVXse8EG",
        "colab_type": "code",
        "colab": {}
      },
      "source": [
        "class CorpusBLEU(Callback):\n",
        "    def __init__(self, vocab_sz):\n",
        "        self.vocab_sz = vocab_sz\n",
        "        self.name = 'bleu'\n",
        "    \n",
        "    def on_epoch_begin(self, **kwargs):\n",
        "        self.pred_len,self.targ_len,self.corrects,self.counts = 0,0,[0]*4,[0]*4\n",
        "    \n",
        "    def on_batch_end(self, last_output, last_target, **kwargs):\n",
        "        last_output = last_output.argmax(dim=-1)\n",
        "        for pred,targ in zip(last_output.cpu().numpy(),last_target.cpu().numpy()):\n",
        "            self.pred_len += len(pred)\n",
        "            self.targ_len += len(targ)\n",
        "            for i in range(4):\n",
        "                c,t = get_correct_ngrams(pred, targ, i+1, max_n=self.vocab_sz)\n",
        "                self.corrects[i] += c\n",
        "                self.counts[i]   += t\n",
        "    \n",
        "    def on_epoch_end(self, last_metrics, **kwargs):\n",
        "        precs = [c/t for c,t in zip(self.corrects,self.counts)]\n",
        "        len_penalty = exp(1 - self.targ_len/self.pred_len) if self.pred_len < self.targ_len else 1\n",
        "        bleu = len_penalty * ((precs[0]*precs[1]*precs[2]*precs[3]) ** 0.25)\n",
        "        return add_metrics(last_metrics, bleu)\n"
      ],
      "execution_count": 0,
      "outputs": []
    },
    {
      "cell_type": "markdown",
      "metadata": {
        "id": "ICBv82EjfEbZ",
        "colab_type": "text"
      },
      "source": [
        "**`bleu = len_penalty * ((precs[0]*precs[1]*precs[2]*precs[3]) ** 0.25)`** : we are taking the average of the 4 precisions and these corresponding to unigram, bi-gram,tri-gram, 4-gram. We capture  averaging ** 0.25 and then mutiplying by brevity penalty (len_penalty).\n",
        "\n",
        "To remind why we need brevity penalty : the answer is in case the length is too short , it's left out information and we want to penalize that . That's how BLEU deals with that."
      ]
    },
    {
      "cell_type": "markdown",
      "metadata": {
        "id": "pdnvLX7JaWxJ",
        "colab_type": "text"
      },
      "source": [
        "#### Training with metrics"
      ]
    },
    {
      "cell_type": "code",
      "metadata": {
        "id": "frCsKoApfFO7",
        "colab_type": "code",
        "colab": {}
      },
      "source": [
        "learn = Learner(data,rnn,loss_func=seq2seq_loss,metrics=[seq2seq_acc,CorpusBLEU(len(data.y.vocab.itos))])"
      ],
      "execution_count": 0,
      "outputs": []
    },
    {
      "cell_type": "code",
      "metadata": {
        "id": "YZXGcJBpfX34",
        "colab_type": "code",
        "outputId": "93a00b59-6bb6-4566-d3d9-5838eb12ab6e",
        "colab": {
          "base_uri": "https://localhost:8080/",
          "height": 300
        }
      },
      "source": [
        "learn.lr_find()\n",
        "learn.recorder.plot()"
      ],
      "execution_count": 0,
      "outputs": [
        {
          "output_type": "display_data",
          "data": {
            "text/html": [
              ""
            ],
            "text/plain": [
              "<IPython.core.display.HTML object>"
            ]
          },
          "metadata": {
            "tags": []
          }
        },
        {
          "output_type": "stream",
          "text": [
            "LR Finder is complete, type {learner_name}.recorder.plot() to see the graph.\n"
          ],
          "name": "stdout"
        },
        {
          "output_type": "display_data",
          "data": {
            "image/png": "[encoded data removed]",
            "text/plain": [
              "<Figure size 432x288 with 1 Axes>"
            ]
          },
          "metadata": {
            "tags": []
          }
        }
      ]
    },
    {
      "cell_type": "code",
      "metadata": {
        "id": "RdpzUkLNfdkW",
        "colab_type": "code",
        "outputId": "a069fb9d-329e-4ca5-a5bc-7aefc97d0293",
        "colab": {
          "base_uri": "https://localhost:8080/",
          "height": 173
        }
      },
      "source": [
        "learn.fit_one_cycle(4,1e-2)"
      ],
      "execution_count": 0,
      "outputs": [
        {
          "output_type": "display_data",
          "data": {
            "text/html": [
              "<table border=\"1\" class=\"dataframe\">\n",
              "  <thead>\n",
              "    <tr style=\"text-align: left;\">\n",
              "      <th>epoch</th>\n",
              "      <th>train_loss</th>\n",
              "      <th>valid_loss</th>\n",
              "      <th>seq2seq_acc</th>\n",
              "      <th>bleu</th>\n",
              "      <th>time</th>\n",
              "    </tr>\n",
              "  </thead>\n",
              "  <tbody>\n",
              "    <tr>\n",
              "      <td>0</td>\n",
              "      <td>4.482030</td>\n",
              "      <td>5.682566</td>\n",
              "      <td>0.245021</td>\n",
              "      <td>0.219095</td>\n",
              "      <td>01:24</td>\n",
              "    </tr>\n",
              "    <tr>\n",
              "      <td>1</td>\n",
              "      <td>4.530885</td>\n",
              "      <td>5.019033</td>\n",
              "      <td>0.312583</td>\n",
              "      <td>0.253177</td>\n",
              "      <td>01:27</td>\n",
              "    </tr>\n",
              "    <tr>\n",
              "      <td>2</td>\n",
              "      <td>4.300954</td>\n",
              "      <td>5.511343</td>\n",
              "      <td>0.253818</td>\n",
              "      <td>0.226397</td>\n",
              "      <td>01:26</td>\n",
              "    </tr>\n",
              "    <tr>\n",
              "      <td>3</td>\n",
              "      <td>4.150765</td>\n",
              "      <td>4.866162</td>\n",
              "      <td>0.321122</td>\n",
              "      <td>0.250603</td>\n",
              "      <td>01:26</td>\n",
              "    </tr>\n",
              "  </tbody>\n",
              "</table>"
            ],
            "text/plain": [
              "<IPython.core.display.HTML object>"
            ]
          },
          "metadata": {
            "tags": []
          }
        }
      ]
    },
    {
      "cell_type": "code",
      "metadata": {
        "id": "pZcIMML3fh-z",
        "colab_type": "code",
        "outputId": "fb690825-159c-4fec-cd7f-be96c6d177e6",
        "colab": {
          "base_uri": "https://localhost:8080/",
          "height": 173
        }
      },
      "source": [
        "learn.fit_one_cycle(4, 1e-3)"
      ],
      "execution_count": 0,
      "outputs": [
        {
          "output_type": "display_data",
          "data": {
            "text/html": [
              "<table border=\"1\" class=\"dataframe\">\n",
              "  <thead>\n",
              "    <tr style=\"text-align: left;\">\n",
              "      <th>epoch</th>\n",
              "      <th>train_loss</th>\n",
              "      <th>valid_loss</th>\n",
              "      <th>seq2seq_acc</th>\n",
              "      <th>bleu</th>\n",
              "      <th>time</th>\n",
              "    </tr>\n",
              "  </thead>\n",
              "  <tbody>\n",
              "    <tr>\n",
              "      <td>0</td>\n",
              "      <td>4.145194</td>\n",
              "      <td>5.134167</td>\n",
              "      <td>0.294418</td>\n",
              "      <td>0.233603</td>\n",
              "      <td>01:25</td>\n",
              "    </tr>\n",
              "    <tr>\n",
              "      <td>1</td>\n",
              "      <td>3.939709</td>\n",
              "      <td>4.613554</td>\n",
              "      <td>0.347170</td>\n",
              "      <td>0.274131</td>\n",
              "      <td>01:27</td>\n",
              "    </tr>\n",
              "    <tr>\n",
              "      <td>2</td>\n",
              "      <td>3.781650</td>\n",
              "      <td>4.792542</td>\n",
              "      <td>0.329084</td>\n",
              "      <td>0.261027</td>\n",
              "      <td>01:28</td>\n",
              "    </tr>\n",
              "    <tr>\n",
              "      <td>3</td>\n",
              "      <td>3.806191</td>\n",
              "      <td>4.636693</td>\n",
              "      <td>0.345565</td>\n",
              "      <td>0.270017</td>\n",
              "      <td>01:28</td>\n",
              "    </tr>\n",
              "  </tbody>\n",
              "</table>"
            ],
            "text/plain": [
              "<IPython.core.display.HTML object>"
            ]
          },
          "metadata": {
            "tags": []
          }
        }
      ]
    },
    {
      "cell_type": "markdown",
      "metadata": {
        "id": "dvEjebp-iKWd",
        "colab_type": "text"
      },
      "source": [
        "So how good is our model? Let's see a few predictions."
      ]
    },
    {
      "cell_type": "code",
      "metadata": {
        "id": "pAugzxnqfk-2",
        "colab_type": "code",
        "colab": {}
      },
      "source": [
        "def get_predictions(learn, ds_type=DatasetType.Valid):\n",
        "    learn.model.eval()\n",
        "    inputs, targets, outputs = [],[],[]\n",
        "    with torch.no_grad():\n",
        "        for xb,yb in progress_bar(learn.dl(ds_type)):\n",
        "            out = learn.model(xb)\n",
        "            for x,y,z in zip(xb,yb,out):\n",
        "                inputs.append(learn.data.train_ds.x.reconstruct(x))\n",
        "                targets.append(learn.data.train_ds.y.reconstruct(y))\n",
        "                outputs.append(learn.data.train_ds.y.reconstruct(z.argmax(1)))\n",
        "    return inputs, targets, outputs"
      ],
      "execution_count": 0,
      "outputs": []
    },
    {
      "cell_type": "code",
      "metadata": {
        "id": "BGkNIWW-iMx7",
        "colab_type": "code",
        "outputId": "123edbff-802f-4d14-b0a0-63c312f51756",
        "colab": {
          "base_uri": "https://localhost:8080/",
          "height": 37
        }
      },
      "source": [
        "inputs, targets, outputs = get_predictions(learn)"
      ],
      "execution_count": 0,
      "outputs": [
        {
          "output_type": "display_data",
          "data": {
            "text/html": [
              "\n",
              "    <div>\n",
              "        <style>\n",
              "            /* Turns off some styling */\n",
              "            progress {\n",
              "                /* gets rid of default border in Firefox and Opera. */\n",
              "                border: none;\n",
              "                /* Needs to be in here for Safari polyfill so background images work as expected. */\n",
              "                background-size: auto;\n",
              "            }\n",
              "            .progress-bar-interrupted, .progress-bar-interrupted::-webkit-progress-bar {\n",
              "                background: #F44336;\n",
              "            }\n",
              "        </style>\n",
              "      <progress value='151' class='' max='151', style='width:300px; height:20px; vertical-align: middle;'></progress>\n",
              "      100.00% [151/151 00:39<00:00]\n",
              "    </div>\n",
              "    "
            ],
            "text/plain": [
              "<IPython.core.display.HTML object>"
            ]
          },
          "metadata": {
            "tags": []
          }
        }
      ]
    },
    {
      "cell_type": "code",
      "metadata": {
        "id": "p6yY7qqwiTeo",
        "colab_type": "code",
        "outputId": "06563137-0e63-47d2-f8ce-1ba0e2f000e0",
        "colab": {
          "base_uri": "https://localhost:8080/",
          "height": 68
        }
      },
      "source": [
        "inputs[700], targets[700], outputs[700]"
      ],
      "execution_count": 0,
      "outputs": [
        {
          "output_type": "execute_result",
          "data": {
            "text/plain": [
              "(Text xxbos qui a le pouvoir de modifier le règlement sur les poids et mesures et le règlement sur l'inspection de l'électricité et du gaz ?,\n",
              " Text xxbos who has the authority to change the electricity and gas inspection regulations and the weights and measures regulations ?,\n",
              " Text xxbos who has the the the the the and and and and and)"
            ]
          },
          "metadata": {
            "tags": []
          },
          "execution_count": 65
        }
      ]
    },
    {
      "cell_type": "code",
      "metadata": {
        "id": "3S0I56M0iV4x",
        "colab_type": "code",
        "outputId": "f3dd3046-d36d-4819-8b47-0e1f2fafcec0",
        "colab": {
          "base_uri": "https://localhost:8080/",
          "height": 68
        }
      },
      "source": [
        "inputs[702], targets[702], outputs[702]"
      ],
      "execution_count": 0,
      "outputs": [
        {
          "output_type": "execute_result",
          "data": {
            "text/plain": [
              "(Text xxbos qui a le pouvoir de modifier la loi sur les poids et mesures et la loi sur l'inspection de l'électricité et du gaz ?,\n",
              " Text xxbos who has the authority to change the electricity and gas inspection act or the weights and measures act ?,\n",
              " Text xxbos who has the the the the the the and and and the the the)"
            ]
          },
          "metadata": {
            "tags": []
          },
          "execution_count": 66
        }
      ]
    },
    {
      "cell_type": "code",
      "metadata": {
        "id": "tMltiM5DiZSg",
        "colab_type": "code",
        "outputId": "defa9d6c-5e58-484d-babb-a1b31d7f1cb7",
        "colab": {
          "base_uri": "https://localhost:8080/",
          "height": 68
        }
      },
      "source": [
        "inputs[2513], targets[2513], outputs[2513]"
      ],
      "execution_count": 0,
      "outputs": [
        {
          "output_type": "execute_result",
          "data": {
            "text/plain": [
              "(Text xxbos quelles sont les deux tendances qui ont nuit à la pêche au saumon dans cette province ?,\n",
              " Text xxbos what two trends negatively affected the province ’s salmon fishery ?,\n",
              " Text xxbos what are the two two the the the the the the two two two ?)"
            ]
          },
          "metadata": {
            "tags": []
          },
          "execution_count": 67
        }
      ]
    },
    {
      "cell_type": "code",
      "metadata": {
        "id": "Nb2kAjA0ibMP",
        "colab_type": "code",
        "outputId": "c1baaf6e-f4b6-4962-c076-f11c28b1da0e",
        "colab": {
          "base_uri": "https://localhost:8080/",
          "height": 68
        }
      },
      "source": [
        "inputs[4000], targets[4000], outputs[4000]"
      ],
      "execution_count": 0,
      "outputs": [
        {
          "output_type": "execute_result",
          "data": {
            "text/plain": [
              "(Text xxbos où les aires marines nationales de conservation du canada seront - elles situées ?,\n",
              " Text xxbos where will national marine conservation areas of canada be located ?,\n",
              " Text xxbos where is the canada of the the the ? ?)"
            ]
          },
          "metadata": {
            "tags": []
          },
          "execution_count": 68
        }
      ]
    },
    {
      "cell_type": "markdown",
      "metadata": {
        "id": "qPaPGni8jGCX",
        "colab_type": "text"
      },
      "source": [
        "It's usually beginning well, but falls into repeated words at the end of the question.\n",
        "\n",
        "To address the issue of starting but then end up with repeated words. These issues are :\n",
        "\n",
        "- RNN doesn't have a chance to get back on track because the input is the previous words. \" where are the the the the the the ?\" its own incorrect output becomes input for next stage which is the problem \n",
        "\n",
        "The technique to deal with it is **Teaching forcing**\n"
      ]
    },
    {
      "cell_type": "markdown",
      "metadata": {
        "id": "31iKzK7NkGVJ",
        "colab_type": "text"
      },
      "source": [
        "### + Teaching forcing : technique to address the issue of previous model [45:41](https://youtu.be/IfsjMg4fLWQ?t=2711)\n",
        "\n",
        "One way to help training is to help the decoder by feeding it the real targets instead of its predictions (if it starts with wrong words, it's very unlikely to give us the right translation). We do that all the time at the beginning, then progressively reduce the amount of teacher forcing.\n",
        "\n"
      ]
    },
    {
      "cell_type": "code",
      "metadata": {
        "id": "bhqeElYYiccG",
        "colab_type": "code",
        "colab": {}
      },
      "source": [
        "class TeacherForcing(LearnerCallback):\n",
        "    \n",
        "    def __init__(self, learn, end_epoch):\n",
        "        super().__init__(learn)\n",
        "        self.end_epoch = end_epoch\n",
        "    \n",
        "    def on_batch_begin(self, last_input, last_target, train, **kwargs):\n",
        "        if train: return {'last_input': [last_input, last_target]}\n",
        "    \n",
        "    def on_epoch_begin(self, epoch, **kwargs):\n",
        "        self.learn.model.pr_force = 1 - epoch/self.end_epoch"
      ],
      "execution_count": 0,
      "outputs": []
    },
    {
      "cell_type": "markdown",
      "metadata": {
        "id": "yuRqoj-9x7LN",
        "colab_type": "text"
      },
      "source": [
        "The one thing about teaching forcing it's slightly incentivize the model to take more risk because it gets something wrong, it's still gonna be fine the next time since you're going to show it  the answer before it's next prediction. So basically we gradually reduce the  amount of teaching forcing. But at the beginning, we want to do a lot because the model is not very good like we're just starting to train it. Of course, it's gonna get stuff wrong and we don't want that  to just screw it up so that it can't learn.\n",
        "\n",
        "**`self.learn.model.pr_force = 1 - epoch/self.end_epoch`** : pr-force is probability of forcing , that will start high, start at 1 and gradually decrease until the end of the epoch . We want the probability of forcing to be zero. In the real world, we don't have the answer everytime "
      ]
    },
    {
      "cell_type": "markdown",
      "metadata": {
        "id": "vcEEkYSpzZOv",
        "colab_type": "text"
      },
      "source": [
        "We will add the following code to our forward method:\n",
        "\n",
        "   \n",
        "```\n",
        " if (targ is not None) and (random.random()<self.pr_force):\n",
        "        if i>=targ.shape[1]: break\n",
        "        dec_inp = targ[:,i]\n",
        "```\n",
        "\n",
        "\n",
        "Additionally, forward will take an additional argument of target."
      ]
    },
    {
      "cell_type": "code",
      "metadata": {
        "id": "wrVReSLakYhc",
        "colab_type": "code",
        "colab": {}
      },
      "source": [
        "class Seq2SeqRNN_tf(nn.Module):\n",
        "    def __init__(self, emb_enc, emb_dec, nh, out_sl, nl=2, bos_idx=0, pad_idx=1):\n",
        "        super().__init__()\n",
        "        self.nl,self.nh,self.out_sl = nl,nh,out_sl\n",
        "        self.bos_idx,self.pad_idx = bos_idx,pad_idx\n",
        "        self.em_sz_enc = emb_enc.embedding_dim\n",
        "        self.em_sz_dec = emb_dec.embedding_dim\n",
        "        self.voc_sz_dec = emb_dec.num_embeddings\n",
        "                 \n",
        "        self.emb_enc = emb_enc\n",
        "        self.emb_enc_drop = nn.Dropout(0.15)\n",
        "        self.gru_enc = nn.GRU(self.em_sz_enc, nh, num_layers=nl,\n",
        "                              dropout=0.25, batch_first=True)\n",
        "        self.out_enc = nn.Linear(nh, self.em_sz_dec, bias=False)\n",
        "        \n",
        "        self.emb_dec = emb_dec\n",
        "        self.gru_dec = nn.GRU(self.em_sz_dec, self.em_sz_dec, num_layers=nl,\n",
        "                              dropout=0.1, batch_first=True)\n",
        "        self.out_drop = nn.Dropout(0.35)\n",
        "        self.out = nn.Linear(self.em_sz_dec, self.voc_sz_dec)\n",
        "        self.out.weight.data = self.emb_dec.weight.data\n",
        "        self.pr_force = 0.\n",
        "        \n",
        "    def encoder(self, bs, inp):\n",
        "        h = self.initHidden(bs)\n",
        "        emb = self.emb_enc_drop(self.emb_enc(inp))\n",
        "        _, h = self.gru_enc(emb, h)\n",
        "        h = self.out_enc(h)\n",
        "        return h\n",
        "    \n",
        "    def decoder(self, dec_inp, h):\n",
        "        emb = self.emb_dec(dec_inp).unsqueeze(1)\n",
        "        outp, h = self.gru_dec(emb, h)\n",
        "        outp = self.out(self.out_drop(outp[:,0]))\n",
        "        return h, outp\n",
        "            \n",
        "    def forward(self, inp, targ=None):\n",
        "        bs, sl = inp.size()\n",
        "        h = self.encoder(bs, inp)\n",
        "        dec_inp = inp.new_zeros(bs).long() + self.bos_idx\n",
        "        \n",
        "        res = []\n",
        "        for i in range(self.out_sl):\n",
        "            h, outp = self.decoder(dec_inp, h)\n",
        "            res.append(outp)\n",
        "            dec_inp = outp.max(1)[1]\n",
        "            if (dec_inp==self.pad_idx).all(): break\n",
        "                #---------add teacher forcing----------\n",
        "            if (targ is not None) and (random.random()<self.pr_force):\n",
        "                if i>=targ.shape[1]: continue\n",
        "                dec_inp = targ[:,i]\n",
        "                #-------------------------------------\n",
        "        return torch.stack(res, dim=1)\n",
        "\n",
        "    def initHidden(self, bs): return one_param(self).new_zeros(self.nl, bs, self.nh)"
      ],
      "execution_count": 0,
      "outputs": []
    },
    {
      "cell_type": "code",
      "metadata": {
        "id": "ema4Owgkzqts",
        "colab_type": "code",
        "colab": {}
      },
      "source": [
        "emb_enc = torch.load(f'{model_path}/fr_emb.pth')\n",
        "emb_dec = torch.load(f'{model_path}/en_emb.pth')"
      ],
      "execution_count": 0,
      "outputs": []
    },
    {
      "cell_type": "code",
      "metadata": {
        "id": "YcgItB81zrCv",
        "colab_type": "code",
        "colab": {}
      },
      "source": [
        "rnn_tf = Seq2SeqRNN_tf(emb_enc,emb_dec,256,30)"
      ],
      "execution_count": 0,
      "outputs": []
    },
    {
      "cell_type": "code",
      "metadata": {
        "id": "0rr59Zd1z8M_",
        "colab_type": "code",
        "colab": {}
      },
      "source": [
        "learn = Learner(data,rnn_tf, loss_func=seq2seq_loss, metrics=[seq2seq_acc, CorpusBLEU(len(data.y.vocab.itos))], \n",
        "               callback_fns = partial(TeacherForcing, end_epoch=3))"
      ],
      "execution_count": 0,
      "outputs": []
    },
    {
      "cell_type": "code",
      "metadata": {
        "id": "8m0GkL310Qoj",
        "colab_type": "code",
        "outputId": "ae7ac3e6-13b3-455b-d07b-6aa6721aec64",
        "colab": {
          "base_uri": "https://localhost:8080/",
          "height": 300
        }
      },
      "source": [
        "learn.lr_find()\n",
        "learn.recorder.plot()"
      ],
      "execution_count": 0,
      "outputs": [
        {
          "output_type": "display_data",
          "data": {
            "text/html": [
              ""
            ],
            "text/plain": [
              "<IPython.core.display.HTML object>"
            ]
          },
          "metadata": {
            "tags": []
          }
        },
        {
          "output_type": "stream",
          "text": [
            "LR Finder is complete, type {learner_name}.recorder.plot() to see the graph.\n"
          ],
          "name": "stdout"
        },
        {
          "output_type": "display_data",
          "data": {
            "image/png": "[encoded data removed]",
            "text/plain": [
              "<Figure size 432x288 with 1 Axes>"
            ]
          },
          "metadata": {
            "tags": []
          }
        }
      ]
    },
    {
      "cell_type": "code",
      "metadata": {
        "id": "2ZO0mmSz0bvY",
        "colab_type": "code",
        "outputId": "d1c6e403-0ba9-4a3b-c8fe-1e301877acf1",
        "colab": {
          "base_uri": "https://localhost:8080/",
          "height": 234
        }
      },
      "source": [
        "learn.fit_one_cycle(6, 3e-3)"
      ],
      "execution_count": 0,
      "outputs": [
        {
          "output_type": "display_data",
          "data": {
            "text/html": [
              "<table border=\"1\" class=\"dataframe\">\n",
              "  <thead>\n",
              "    <tr style=\"text-align: left;\">\n",
              "      <th>epoch</th>\n",
              "      <th>train_loss</th>\n",
              "      <th>valid_loss</th>\n",
              "      <th>seq2seq_acc</th>\n",
              "      <th>bleu</th>\n",
              "      <th>time</th>\n",
              "    </tr>\n",
              "  </thead>\n",
              "  <tbody>\n",
              "    <tr>\n",
              "      <td>0</td>\n",
              "      <td>2.618804</td>\n",
              "      <td>8.096622</td>\n",
              "      <td>0.355594</td>\n",
              "      <td>0.299144</td>\n",
              "      <td>01:53</td>\n",
              "    </tr>\n",
              "    <tr>\n",
              "      <td>1</td>\n",
              "      <td>3.049555</td>\n",
              "      <td>5.257868</td>\n",
              "      <td>0.366460</td>\n",
              "      <td>0.328175</td>\n",
              "      <td>01:38</td>\n",
              "    </tr>\n",
              "    <tr>\n",
              "      <td>2</td>\n",
              "      <td>3.589221</td>\n",
              "      <td>5.363857</td>\n",
              "      <td>0.287679</td>\n",
              "      <td>0.269377</td>\n",
              "      <td>01:29</td>\n",
              "    </tr>\n",
              "    <tr>\n",
              "      <td>3</td>\n",
              "      <td>4.515140</td>\n",
              "      <td>5.295720</td>\n",
              "      <td>0.283943</td>\n",
              "      <td>0.211130</td>\n",
              "      <td>01:22</td>\n",
              "    </tr>\n",
              "    <tr>\n",
              "      <td>4</td>\n",
              "      <td>4.176762</td>\n",
              "      <td>5.049106</td>\n",
              "      <td>0.306556</td>\n",
              "      <td>0.248506</td>\n",
              "      <td>01:25</td>\n",
              "    </tr>\n",
              "    <tr>\n",
              "      <td>5</td>\n",
              "      <td>4.075339</td>\n",
              "      <td>5.044560</td>\n",
              "      <td>0.307807</td>\n",
              "      <td>0.242560</td>\n",
              "      <td>01:25</td>\n",
              "    </tr>\n",
              "  </tbody>\n",
              "</table>"
            ],
            "text/plain": [
              "<IPython.core.display.HTML object>"
            ]
          },
          "metadata": {
            "tags": []
          }
        }
      ]
    },
    {
      "cell_type": "code",
      "metadata": {
        "id": "vEaKd2gS0eeU",
        "colab_type": "code",
        "outputId": "7339419c-a89d-426d-caa8-99e71e6138ba",
        "colab": {
          "base_uri": "https://localhost:8080/",
          "height": 37
        }
      },
      "source": [
        "inputs, targets, outputs = get_predictions(learn)"
      ],
      "execution_count": 0,
      "outputs": [
        {
          "output_type": "display_data",
          "data": {
            "text/html": [
              "\n",
              "    <div>\n",
              "        <style>\n",
              "            /* Turns off some styling */\n",
              "            progress {\n",
              "                /* gets rid of default border in Firefox and Opera. */\n",
              "                border: none;\n",
              "                /* Needs to be in here for Safari polyfill so background images work as expected. */\n",
              "                background-size: auto;\n",
              "            }\n",
              "            .progress-bar-interrupted, .progress-bar-interrupted::-webkit-progress-bar {\n",
              "                background: #F44336;\n",
              "            }\n",
              "        </style>\n",
              "      <progress value='151' class='' max='151', style='width:300px; height:20px; vertical-align: middle;'></progress>\n",
              "      100.00% [151/151 00:38<00:00]\n",
              "    </div>\n",
              "    "
            ],
            "text/plain": [
              "<IPython.core.display.HTML object>"
            ]
          },
          "metadata": {
            "tags": []
          }
        }
      ]
    },
    {
      "cell_type": "code",
      "metadata": {
        "id": "g02QCb_W1Cto",
        "colab_type": "code",
        "outputId": "1e8f54f9-4c35-4e90-aa6c-7e6ee7f0a5a0",
        "colab": {
          "base_uri": "https://localhost:8080/",
          "height": 88
        }
      },
      "source": [
        "inputs[700],targets[700],outputs[700]"
      ],
      "execution_count": 0,
      "outputs": [
        {
          "output_type": "execute_result",
          "data": {
            "text/plain": [
              "(Text xxbos qui a le pouvoir de modifier le règlement sur les poids et mesures et le règlement sur l'inspection de l'électricité et du gaz ?,\n",
              " Text xxbos who has the authority to change the electricity and gas inspection regulations and the weights and measures regulations ?,\n",
              " Text xxbos who has the the and the and and and and and)"
            ]
          },
          "metadata": {
            "tags": []
          },
          "execution_count": 77
        }
      ]
    },
    {
      "cell_type": "code",
      "metadata": {
        "id": "_dELfhkn1E5v",
        "colab_type": "code",
        "outputId": "ee5d0a27-9a5e-44b8-dc01-4d1c067c10bd",
        "colab": {
          "base_uri": "https://localhost:8080/",
          "height": 68
        }
      },
      "source": [
        "inputs[2513], targets[2513], outputs[2513]"
      ],
      "execution_count": 0,
      "outputs": [
        {
          "output_type": "execute_result",
          "data": {
            "text/plain": [
              "(Text xxbos quelles sont les deux tendances qui ont nuit à la pêche au saumon dans cette province ?,\n",
              " Text xxbos what two trends negatively affected the province ’s salmon fishery ?,\n",
              " Text xxbos what two the two two the the the the)"
            ]
          },
          "metadata": {
            "tags": []
          },
          "execution_count": 78
        }
      ]
    },
    {
      "cell_type": "code",
      "metadata": {
        "id": "sghPki6t1GGv",
        "colab_type": "code",
        "outputId": "760d96d8-1c7d-47f9-e0e4-9669cef1f34a",
        "colab": {
          "base_uri": "https://localhost:8080/",
          "height": 68
        }
      },
      "source": [
        "inputs[4000], targets[4000], outputs[4000]"
      ],
      "execution_count": 0,
      "outputs": [
        {
          "output_type": "execute_result",
          "data": {
            "text/plain": [
              "(Text xxbos où les aires marines nationales de conservation du canada seront - elles situées ?,\n",
              " Text xxbos where will national marine conservation areas of canada be located ?,\n",
              " Text xxbos where will the the of the the be ? ?)"
            ]
          },
          "metadata": {
            "tags": []
          },
          "execution_count": 79
        }
      ]
    },
    {
      "cell_type": "markdown",
      "metadata": {
        "id": "AhJFvviS07Jv",
        "colab_type": "text"
      },
      "source": [
        "We can the see improvement of prediction"
      ]
    },
    {
      "cell_type": "markdown",
      "metadata": {
        "id": "aTpOXy3Y3daK",
        "colab_type": "text"
      },
      "source": [
        "### + Attention [50:30](https://youtu.be/IfsjMg4fLWQ?t=3038)\n",
        "\n",
        "Attention is a technique that uses the output of our encoder: instead of discarding it entirely, we use it with our hidden state to pay attention to specific words in the input sentence for the predictions in the output sentence. Specifically, we compute attention weights, then add to the input of the decoder the linear combination of the output of the encoder, with those attention weights.\n",
        "\n",
        "A nice illustration of attention comes from this [blog post](http://jalammar.github.io/illustrated-transformer/) by Jay Alammar (visualization originally from [Tensor2Tensor notebook](https://colab.research.google.com/github/tensorflow/tensor2tensor/blob/master/tensor2tensor/notebooks/hello_t2t.ipynb)):\n",
        "\n",
        "From video : instead of only keeping the final hidden state from the encoder, now we want to keep the output at every state of the encoder. We also want to know which to focus on.\n",
        "\n",
        "![alt text](https://github.com/fastai/course-nlp/raw/85e505295efeed88ce61dc0ff5e424bde9741a15/images/alammar-attention.png)\n",
        "\n",
        "We have \" The animal didn't cross the street because it was too tired\". When you are working with \"it\" , it's really important to know \"it\" related to \"animal\", we wouldn't want to think it is the \"street\". As human, when read the sentence, we know what \"it\" refer to \"animal\". So the idea is in your output , you want to know what to focus on from the input . And so we are going to use **weights** or rather we're going to learn weights to learn that information of what we should be focusing on . So basically, we're going to end up taking a average of the output from the encoder at each step to know what were the key steps of the encoder for the particular word I'm on in the output. This will be different for each word of the output what you want to focus on from the input.\n",
        "\n",
        "\n",
        "A second things that might help is to use **a bidirectional model for the encoder**. We set the bidrectional parameter to True for our GRU encoder, and double the number of inputs to the linear output layer of the encoder. Basically, we are doing one version of going forward and one version of going backward to get double information. That's shown up below\n",
        "\n",
        "Also, we now need to set our hidden state:\n",
        "\n",
        "\n",
        "\n",
        "```\n",
        "hid = hid.view(2,self.n_layers, bs, self.n_hid).permute(1,2,0,3).contiguous()\n",
        "hid = self.out_enc(self.hid_dp(hid).view(self.n_layers, bs, 2*self.n_hid))\n",
        "```\n",
        "\n"
      ]
    },
    {
      "cell_type": "markdown",
      "metadata": {
        "id": "vzkcd4shrJjw",
        "colab_type": "text"
      },
      "source": [
        "#### Let’s Pay Attention Now\n",
        "\n",
        "The context vector turned out to be a bottleneck for these types of models. It made it challenging for the models to deal with long sentences. A solution was proposed in [Bahdanau et al., 2014](https://arxiv.org/abs/1409.0473) and [Luong et al., 2015](https://arxiv.org/abs/1508.04025). These papers introduced and refined a technique called “Attention”, which highly improved the quality of machine translation systems. **Attention allows the model to focus on the relevant parts of the input sequence as needed.**\n",
        "\n",
        "![alt text](https://jalammar.github.io/images/attention.png)\n",
        "\n",
        "\n",
        "```\n",
        "At time step 7, the attention mechanism enables the decoder to focus on the word \"étudiant\" (\"student\" in french) before it generates the English translation. This ability to amplify the signal from the relevant part of the input sequence makes attention models produce better results than models without attention.\n",
        "```\n",
        "\n",
        "Let’s continue looking at attention models at this high level of abstraction. An attention model differs from a classic sequence-to-sequence model in two main ways:\n",
        "\n",
        "**First, the encoder passes a lot more data to the decoder. Instead of passing the last hidden state of the encoding stage, the encoder passes all the hidden states to the decoder:**\n",
        "\n",
        "\n",
        "\n"
      ]
    },
    {
      "cell_type": "code",
      "metadata": {
        "id": "VROt7kWpsq11",
        "colab_type": "code",
        "cellView": "form",
        "outputId": "faefbf22-565f-47e3-9c24-20bf7bd6fe55",
        "colab": {
          "base_uri": "https://localhost:8080/",
          "height": 271
        }
      },
      "source": [
        "#@title \n",
        "from IPython.display import HTML\n",
        "\n",
        "HTML('<iframe width=\"560\" height=\"250\" src=\"https://jalammar.github.io/images/seq2seq_7.mp4\" frameborder=\"0\" allow=\"accelerometer; autoplay; encrypted-media; gyroscope; picture-in-picture\" allowfullscreen></iframe>')"
      ],
      "execution_count": 0,
      "outputs": [
        {
          "output_type": "execute_result",
          "data": {
            "text/html": [
              "<iframe width=\"560\" height=\"250\" src=\"https://jalammar.github.io/images/seq2seq_7.mp4\" frameborder=\"0\" allow=\"accelerometer; autoplay; encrypted-media; gyroscope; picture-in-picture\" allowfullscreen></iframe>"
            ],
            "text/plain": [
              "<IPython.core.display.HTML object>"
            ]
          },
          "metadata": {
            "tags": []
          },
          "execution_count": 110
        }
      ]
    },
    {
      "cell_type": "markdown",
      "metadata": {
        "id": "QXRg296ktg4C",
        "colab_type": "text"
      },
      "source": [
        "**Second, an attention decoder does an extra step before producing its output. In order to focus on the parts of the input that are relevant to this decoding time step, the decoder does the following:**\n",
        "\n",
        "1. Look at the set of encoder hidden states it received – each encoder hidden states is most associated with a certain word in the input sentence\n",
        "2. Give each hidden states a score (let’s ignore how the scoring is done for now)\n",
        "3. Multiply each hidden states by its softmaxed score, thus amplifying hidden states with high scores, and drowning out hidden states with low scores"
      ]
    },
    {
      "cell_type": "code",
      "metadata": {
        "id": "3WdFNLsUtIhA",
        "colab_type": "code",
        "cellView": "form",
        "outputId": "0f042747-12ff-4dd2-c34c-d9129dc1e6cb",
        "colab": {
          "base_uri": "https://localhost:8080/",
          "height": 331
        }
      },
      "source": [
        "#@title \n",
        "from IPython.display import HTML\n",
        "\n",
        "HTML('<iframe width=\"570\" height=\"310\" src=\"https://jalammar.github.io/images/attention_process.mp4\" frameborder=\"0\" allow=\"accelerometer; autoplay; encrypted-media; gyroscope; picture-in-picture\" allowfullscreen></iframe>')"
      ],
      "execution_count": 0,
      "outputs": [
        {
          "output_type": "execute_result",
          "data": {
            "text/html": [
              "<iframe width=\"570\" height=\"310\" src=\"https://jalammar.github.io/images/attention_process.mp4\" frameborder=\"0\" allow=\"accelerometer; autoplay; encrypted-media; gyroscope; picture-in-picture\" allowfullscreen></iframe>"
            ],
            "text/plain": [
              "<IPython.core.display.HTML object>"
            ]
          },
          "metadata": {
            "tags": []
          },
          "execution_count": 114
        }
      ]
    },
    {
      "cell_type": "markdown",
      "metadata": {
        "id": "kFbzg_Xju3YA",
        "colab_type": "text"
      },
      "source": [
        "This scoring exercise is done at each time step on the decoder side.\n",
        "\n",
        "Let us now bring the whole thing together in the following visualization and look at how the attention process works:\n",
        "\n",
        "1. The attention decoder RNN takes in the embedding of the `<END>` token, and an initial decoder hidden state.\n",
        "2. The RNN processes its inputs, producing an output and a new hidden state vector (h4). The output is discarded.\n",
        "3. **Attention Step**: We use the encoder hidden states and the h4 vector to calculate a context vector (C4) for this time step.\n",
        "4. We concatenate h4 and C4 into one vector.\n",
        "5. We pass this vector through a feedforward neural network (one trained jointly with the model).\n",
        "6.The output of the feedforward neural networks indicates the output word of this time step.\n",
        "7. Repeat for the next time steps"
      ]
    },
    {
      "cell_type": "code",
      "metadata": {
        "id": "EddaHPojuM2r",
        "colab_type": "code",
        "cellView": "form",
        "outputId": "17e92fd8-1c97-477e-9a95-4425fd58c135",
        "colab": {
          "base_uri": "https://localhost:8080/",
          "height": 371
        }
      },
      "source": [
        "#@title \n",
        "from IPython.display import HTML\n",
        "\n",
        "HTML('<iframe width=\"630\" height=\"350\" src=\"https://jalammar.github.io/images/attention_tensor_dance.mp4\" frameborder=\"0\" allow=\"accelerometer; autoplay; encrypted-media; gyroscope; picture-in-picture\" allowfullscreen></iframe>')"
      ],
      "execution_count": 0,
      "outputs": [
        {
          "output_type": "execute_result",
          "data": {
            "text/html": [
              "<iframe width=\"630\" height=\"350\" src=\"https://jalammar.github.io/images/attention_tensor_dance.mp4\" frameborder=\"0\" allow=\"accelerometer; autoplay; encrypted-media; gyroscope; picture-in-picture\" allowfullscreen></iframe>"
            ],
            "text/plain": [
              "<IPython.core.display.HTML object>"
            ]
          },
          "metadata": {
            "tags": []
          },
          "execution_count": 118
        }
      ]
    },
    {
      "cell_type": "markdown",
      "metadata": {
        "id": "OrqENsCxvzid",
        "colab_type": "text"
      },
      "source": [
        "This is another way to look at which part of the input sentence we’re paying attention to at each decoding step:"
      ]
    },
    {
      "cell_type": "code",
      "metadata": {
        "colab_type": "code",
        "cellView": "form",
        "outputId": "f51e6287-59f7-4798-a77b-f2df49a84e9a",
        "id": "zSmDunWIv5ey",
        "colab": {
          "base_uri": "https://localhost:8080/",
          "height": 301
        }
      },
      "source": [
        "#@title \n",
        "from IPython.display import HTML\n",
        "\n",
        "HTML('<iframe width=\"630\" height=\"280\" src=\"https://jalammar.github.io/images/seq2seq_9.mp4\" frameborder=\"0\" allow=\"accelerometer; autoplay; encrypted-media; gyroscope; picture-in-picture\" allowfullscreen></iframe>')"
      ],
      "execution_count": 0,
      "outputs": [
        {
          "output_type": "execute_result",
          "data": {
            "text/html": [
              "<iframe width=\"630\" height=\"280\" src=\"https://jalammar.github.io/images/seq2seq_9.mp4\" frameborder=\"0\" allow=\"accelerometer; autoplay; encrypted-media; gyroscope; picture-in-picture\" allowfullscreen></iframe>"
            ],
            "text/plain": [
              "<IPython.core.display.HTML object>"
            ]
          },
          "metadata": {
            "tags": []
          },
          "execution_count": 123
        }
      ]
    },
    {
      "cell_type": "markdown",
      "metadata": {
        "id": "bBo9MaD1wNnl",
        "colab_type": "text"
      },
      "source": [
        "Note that the model isn’t just mindless aligning the first word at the output with the first word from the input. It actually learned from the training phase how to align words in that language pair (French and English in our example). An example for how precise this mechanism can be comes from the attention papers listed above:\n",
        "\n",
        "![alt text](https://jalammar.github.io/images/attention_sentence.png)"
      ]
    },
    {
      "cell_type": "markdown",
      "metadata": {
        "id": "oS8mjLNJxMha",
        "colab_type": "text"
      },
      "source": [
        "#### Self-Attention at a High Level\n",
        "\n",
        "Don’t be fooled by me throwing around the word “self-attention” like it’s a concept everyone should be familiar with. I had personally never came across the concept until reading the Attention is All You Need paper. Let us distill how it works.\n",
        "\n",
        "Say the following sentence is an input sentence we want to translate:\n",
        "\n",
        "”The animal didn't cross the street because it was too tired”\n",
        "\n",
        "What does “it” in this sentence refer to? Is it referring to the street or to the animal? It’s a simple question to a human, but not as simple to an algorithm.\n",
        "\n",
        "When the model is processing the word “it”, self-attention allows it to associate “it” with “animal”.\n",
        "\n",
        "As the model processes each word (each position in the input sequence), self attention allows it to look at other positions in the input sequence for clues that can help lead to a better encoding for this word.\n",
        "\n",
        "If you’re familiar with RNNs, think of how maintaining a hidden state allows an RNN to incorporate its representation of previous words/vectors it has processed with the current one it’s processing. Self-attention is the method the Transformer uses to bake the “understanding” of other relevant words into the one we’re currently processing.\n",
        "\n",
        "![alt text](http://jalammar.github.io/images/t/transformer_self-attention_visualization.png)\n",
        "\n"
      ]
    },
    {
      "cell_type": "markdown",
      "metadata": {
        "id": "ZeLhYQr_yTUb",
        "colab_type": "text"
      },
      "source": [
        "#### Self-Attention in Detail\n",
        "Let’s first look at how to calculate self-attention using vectors, then proceed to look at how it’s actually implemented – using matrices.\n",
        "\n",
        "The **first step** in calculating self-attention is to create three vectors from each of the encoder’s input vectors (in this case, the embedding of each word). So **for each word, we create a Query vector, a Key vector, and a Value vector**. These vectors are created by multiplying the embedding by three matrices that we trained during the training process.\n",
        "\n",
        "Notice that these new vectors are smaller in dimension than the embedding vector. Their dimensionality is 64, while the embedding and encoder input/output vectors have dimensionality of 512. They don’t HAVE to be smaller, this is an architecture choice to make the computation of multiheaded attention (mostly) constant.\n",
        "\n",
        "![alt text](http://jalammar.github.io/images/t/transformer_self_attention_vectors.png)\n",
        "\n",
        "\n",
        "\n",
        "\n",
        "Multiplying $X_1$ by the $W^Q$ weight matrix produces $q_1$, the \"query\" vector associated with that word. We end up creating a \"query\", a \"key\", and a \"value\" projection of each word in the input sentence.\n",
        "\n",
        "**What are the “query”, “key”, and “value” vectors? **\n",
        "\n",
        "They’re abstractions that are useful for calculating and thinking about attention. Once you proceed with reading how attention is calculated below, you’ll know pretty much all you need to know about the role each of these vectors plays.\n",
        "\n",
        "The **second step** in calculating self-attention is to calculate a score. Say we’re calculating the self-attention for the first word in this example, “Thinking”. We need to score each word of the input sentence against this word. The score determines how much focus to place on other parts of the input sentence as we encode a word at a certain position.\n",
        "\n",
        "The score is calculated by taking the dot product of the query vector with the key vector of the respective word we’re scoring. So if we’re processing the self-attention for the word in position #1, the first score would be the dot product of $q_1$ and $k_1$. The second score would be the dot product of $q_1$ and $k_2$.\n",
        "\n",
        "![alt text](http://jalammar.github.io/images/t/transformer_self_attention_score.png)\n",
        "\n",
        "The third and forth steps are to divide the scores by 8 (the square root of the dimension of the key vectors used in the paper – 64. This leads to having more stable gradients. There could be other possible values here, but this is the default), then pass the result through a softmax operation. Softmax normalizes the scores so they’re all positive and add up to 1.\n",
        "\n",
        "![](http://jalammar.github.io/images/t/self-attention_softmax.png)\n",
        "\n",
        "    This softmax score determines how much how much each word will be expressed at this position. Clearly the word at this position will have the highest softmax score, but sometimes it’s useful to attend to another word that is relevant to the current word.\n",
        "\n",
        "\n",
        "\n",
        "The **fifth step** is to multiply each value vector by the softmax score (in preparation to sum them up). The intuition here is to keep intact the values of the word(s) we want to focus on, and drown-out irrelevant words (by multiplying them by tiny numbers like 0.001, for example).\n",
        "\n",
        "The **sixth step** is to sum up the weighted value vectors. This produces the output of the self-attention layer at this position (for the first word).\n",
        "\n",
        "![](http://jalammar.github.io/images/t/self-attention-output.png)\n",
        "\n",
        "That concludes the self-attention calculation. The resulting vector is one we can send along to the feed-forward neural network. In the actual implementation, however, this calculation is done in matrix form for faster processing. So let’s look at that now that we’ve seen the intuition of the calculation on the word level.\n",
        "\n",
        "\n"
      ]
    },
    {
      "cell_type": "markdown",
      "metadata": {
        "id": "S14Y0y6Azcoi",
        "colab_type": "text"
      },
      "source": [
        "##### Matrix Calculation of Self-Attention\n",
        "\n",
        "The first step is to calculate the Query, Key, and Value matrices. We do that by packing our embeddings into a matrix X, and multiplying it by the weight matrices we’ve trained ($W^Q$, $W^K$, $W^V$).\n",
        "\n",
        "![alt text](http://jalammar.github.io/images/t/self-attention-matrix-calculation.png)\n",
        "\n",
        "    Every row in the X matrix corresponds to a word in the input sentence. We again see the difference in size of the embedding vector (512, or 4 boxes in the figure), and the q/k/v vectors (64, or 3 boxes in the figure)\n",
        "    \n",
        "**Finally**, since we’re dealing with matrices, we can condense steps two through six in one formula to calculate the outputs of the self-attention layer.\n",
        "\n",
        "![alt text](http://jalammar.github.io/images/t/self-attention-matrix-calculation-2.png)"
      ]
    },
    {
      "cell_type": "markdown",
      "metadata": {
        "id": "P3Vhqu_k6OsV",
        "colab_type": "text"
      },
      "source": [
        "##### More explaination from Jeremy to what is Q, K and V? [Video 17](https://youtu.be/AFkGPmU16QA?t=1024)\n",
        "\n",
        "- Q is going to learnt for the word I am currently translating. I am looking at word 1, Q is going to be for word 1. Then I look at all the other words in the sentence and say how much attention I give to each one when translating word 1.\n",
        "\n",
        "- K is something that I learned for how can caculate for all the other words in the sentence, all of them including word 1\n",
        "\n",
        "-> Q and K are going to get combined together to overall give a sense how relevant is the word represented by K to translating the word represented by Q. When they are combined together, this is forming a scalar.\n",
        "\n",
        "- V is applied to same word that K is applied to. So you figured out how much attention you want to give to the thing for K given that we are looking up with the thing for Q. Then what we return is V. \n",
        "\n",
        "The intuition here that if we did not do K and Q , V is just weight matrix being fed into feed-forward neural net each time. But we don't just want the weight matrix for the current word. We want to have a mix of weight matrices based on how much attention we want to give them.\n",
        "\n",
        "In the end, V is the weight matrix in neural network , Q and K tell how much to mix up all the different weight matrices in the different words \n",
        "\n",
        "![alt text](https://i2.wp.com/mlexplained.com/wp-content/uploads/2017/12/scaled_dot_product_attention.png?w=840)\n",
        "\n",
        "![alt text](https://s0.wp.com/latex.php?latex=%5Ctextrm%7BAttention%7D%28Q%2C+K%2C+V%29+%3D+%5Ctextrm%7Bsoftmax%7D%28%5Cfrac%7BQK%5ET%7D%7B%5Csqrt%7Bd_k%7D%7D%29V+&bg=ffffff&fg=000&s=0)"
      ]
    },
    {
      "cell_type": "markdown",
      "metadata": {
        "id": "xZN9OcQyojvM",
        "colab_type": "text"
      },
      "source": [
        "#### Implement attention ( added only to decoder)"
      ]
    },
    {
      "cell_type": "code",
      "metadata": {
        "id": "siTSX7x5UkvR",
        "colab_type": "code",
        "colab": {}
      },
      "source": [
        "class Seq2SeqRNN_attn(nn.Module):\n",
        "    def __init__(self, emb_enc, emb_dec, nh, out_sl, nl=2, bos_idx=0, pad_idx=1):\n",
        "        super().__init__()\n",
        "        self.nl,self.nh,self.out_sl,self.pr_force = nl,nh,out_sl,1\n",
        "        self.bos_idx,self.pad_idx = bos_idx,pad_idx\n",
        "        self.emb_enc,self.emb_dec = emb_enc,emb_dec\n",
        "        self.emb_sz_enc,self.emb_sz_dec = emb_enc.embedding_dim,emb_dec.embedding_dim\n",
        "        self.voc_sz_dec = emb_dec.num_embeddings\n",
        "                 \n",
        "        self.emb_enc_drop = nn.Dropout(0.15)\n",
        "        self.gru_enc = nn.GRU(self.emb_sz_enc, nh, num_layers=nl, dropout=0.25, \n",
        "                              batch_first=True, bidirectional=True)\n",
        "        self.out_enc = nn.Linear(2*nh, self.emb_sz_dec, bias=False)\n",
        "        \n",
        "        self.gru_dec = nn.GRU(self.emb_sz_dec + 2*nh, self.emb_sz_dec, num_layers=nl,\n",
        "                              dropout=0.1, batch_first=True)\n",
        "        self.out_drop = nn.Dropout(0.35)\n",
        "        self.out = nn.Linear(self.emb_sz_dec, self.voc_sz_dec)\n",
        "        self.out.weight.data = self.emb_dec.weight.data\n",
        "        \n",
        "        self.enc_att = nn.Linear(2*nh, self.emb_sz_dec, bias=False)\n",
        "        self.hid_att = nn.Linear(self.emb_sz_dec, self.emb_sz_dec)\n",
        "        self.V =  self.init_param(self.emb_sz_dec)\n",
        "        \n",
        "    def encoder(self, bs, inp):\n",
        "        h = self.initHidden(bs)\n",
        "        emb = self.emb_enc_drop(self.emb_enc(inp))\n",
        "        # we have two times of hidden state since we have bi-directional component\n",
        "        enc_out, hid = self.gru_enc(emb, 2*h) \n",
        "        # this change below only is related to be bi-directional, not attention\n",
        "        pre_hid = hid.view(2, self.nl, bs, self.nh).permute(1,2,0,3).contiguous()\n",
        "        pre_hid = pre_hid.view(self.nl, bs, 2*self.nh)\n",
        "        hid = self.out_enc(pre_hid)\n",
        "        return hid,enc_out\n",
        "    \n",
        "    # we will deal with attention in the decoder\n",
        "    def decoder(self, dec_inp, hid, enc_att, enc_out):\n",
        "        hid_att = self.hid_att(hid[-1])\n",
        "        \n",
        "        # we have put enc_out and hid through linear layers.\n",
        "        # Here we want to combine the attention on the encoder and attention on\n",
        "        # the hidden layer\n",
        "        u = torch.tanh(enc_att + hid_att[:,None])\n",
        "        \n",
        "        # we want to learn the importance of each time step\n",
        "        attn_wgts = F.softmax(u @ self.V, 1)\n",
        "        \n",
        "        # ctx stands for context. We are multiplying the attention weights\n",
        "        # by the output from the encoder to get the context. That's the \n",
        "        # weighted average of enc_out (which is the output at every time step)\n",
        "        # Back to example \" the animal don't cross the street because it was too\n",
        "        # too tired\". We want to know \"it\" refered to \"animal\", we would put more\n",
        "        # hopefully the network would learn to put more weight on those steps.\n",
        "        ctx = (attn_wgts[...,None] * enc_out).sum(1)\n",
        "        emb = self.emb_dec(dec_inp)\n",
        "        # concatenate decoder embedding with context (we could have just\n",
        "        # used the hidden state that came out of the decoder, if we weren't\n",
        "        # using attention)\n",
        "        outp, hid = self.gru_dec(torch.cat([emb, ctx], 1)[:,None], hid)\n",
        "        outp = self.out(self.out_drop(outp[:,0]))\n",
        "        return hid, outp\n",
        "        \n",
        "    def show(self, nm,v):\n",
        "        if False: print(f\"{nm}={v[nm].shape}\")\n",
        "        \n",
        "    def forward(self, inp, targ=None):\n",
        "        bs, sl = inp.size()\n",
        "        hid,enc_out = self.encoder(bs, inp)\n",
        "       # self.show(\"hid\",vars())\n",
        "\n",
        "        dec_inp = inp.new_zeros(bs).long() + self.bos_idx\n",
        "        \n",
        "        # Before we do have to intialize this encoder attention which is just\n",
        "        # the linear layer\n",
        "        enc_att = self.enc_att(enc_out)\n",
        "        \n",
        "        res = []\n",
        "        for i in range(self.out_sl):\n",
        "            # Inside the for loop we are still calling decoder the same way we\n",
        "            # did before\n",
        "            hid, outp = self.decoder(dec_inp, hid, enc_att, enc_out)\n",
        "            # tracking the output\n",
        "            res.append(outp)\n",
        "            dec_inp = outp.max(1)[1]\n",
        "            if (dec_inp==self.pad_idx).all(): break\n",
        "            # we are still using teacherforcing\n",
        "           \n",
        "            if (targ is not None) and (random.random()<self.pr_force):\n",
        "                if i>=targ.shape[1]: continue\n",
        "                dec_inp = targ[:,i]\n",
        "        return torch.stack(res, dim=1)\n",
        "\n",
        "    def initHidden(self, bs): return one_param(self).new_zeros(2*self.nl, bs, self.nh)\n",
        "    def init_param(self, *sz): return nn.Parameter(torch.randn(sz)/math.sqrt(sz[0]))"
      ],
      "execution_count": 0,
      "outputs": []
    },
    {
      "cell_type": "markdown",
      "metadata": {
        "id": "1tZfrv5-t9OB",
        "colab_type": "text"
      },
      "source": [
        "We are stil incrementally improving the model by adding more (teacherforcing and attention) to seq2seq model\n",
        "\n",
        "hid=torch.Size([2, 64, 300])\n",
        "\n",
        "dec_inp=torch.Size([64])\n",
        "\n",
        "enc_att=torch.Size([64, 30, 300]): 64 is the batch size, 30 is the length of our sequence. This is key dimension that you  want to know which of 30 is the most important as you go through it. 300 is the size of embeddings.\n",
        "\n",
        "hid_att=torch.Size([64, 300])\n",
        "\n",
        "u=torch.Size([64, 30, 300])\n",
        "\n",
        "attn_wgts=torch.Size([64, 30]) : we are taking the weights at difference of 30 time steps\n",
        "\n",
        "enc_out=torch.Size([64, 30, 512])\n",
        "\n",
        "ctx=torch.Size([64, 512])\n",
        "\n",
        "emb=torch.Size([64, 300])"
      ]
    },
    {
      "cell_type": "code",
      "metadata": {
        "id": "xivtsrHMt8mk",
        "colab_type": "code",
        "colab": {}
      },
      "source": [
        "model = Seq2SeqRNN_attn(emb_enc,emb_dec,256,30)"
      ],
      "execution_count": 0,
      "outputs": []
    },
    {
      "cell_type": "code",
      "metadata": {
        "id": "KSeNtrkMuyjo",
        "colab_type": "code",
        "colab": {}
      },
      "source": [
        "learn = Learner(data,model,loss_func=seq2seq_loss,metrics=[seq2seq_acc, CorpusBLEU(len(data.y.vocab.itos))],\n",
        "                callback_fns=partial(TeacherForcing, end_epoch=30))"
      ],
      "execution_count": 0,
      "outputs": []
    },
    {
      "cell_type": "code",
      "metadata": {
        "id": "c5hrXVkOvHUv",
        "colab_type": "code",
        "outputId": "17ca1a03-aac3-4b6f-8412-d43fd964f3a0",
        "colab": {
          "base_uri": "https://localhost:8080/",
          "height": 300
        }
      },
      "source": [
        "learn.lr_find()\n",
        "learn.recorder.plot()"
      ],
      "execution_count": 0,
      "outputs": [
        {
          "output_type": "display_data",
          "data": {
            "text/html": [
              ""
            ],
            "text/plain": [
              "<IPython.core.display.HTML object>"
            ]
          },
          "metadata": {
            "tags": []
          }
        },
        {
          "output_type": "stream",
          "text": [
            "LR Finder is complete, type {learner_name}.recorder.plot() to see the graph.\n"
          ],
          "name": "stdout"
        },
        {
          "output_type": "display_data",
          "data": {
            "image/png": "[encoded data removed]",
            "text/plain": [
              "<Figure size 432x288 with 1 Axes>"
            ]
          },
          "metadata": {
            "tags": []
          }
        }
      ]
    },
    {
      "cell_type": "code",
      "metadata": {
        "id": "ZT-HtaTHvKfp",
        "colab_type": "code",
        "outputId": "621df70d-f500-4152-a79f-e1405e681aac",
        "colab": {
          "base_uri": "https://localhost:8080/",
          "height": 512
        }
      },
      "source": [
        "learn.fit_one_cycle(15,3e-3)"
      ],
      "execution_count": 0,
      "outputs": [
        {
          "output_type": "display_data",
          "data": {
            "text/html": [
              "<table border=\"1\" class=\"dataframe\">\n",
              "  <thead>\n",
              "    <tr style=\"text-align: left;\">\n",
              "      <th>epoch</th>\n",
              "      <th>train_loss</th>\n",
              "      <th>valid_loss</th>\n",
              "      <th>seq2seq_acc</th>\n",
              "      <th>bleu</th>\n",
              "      <th>time</th>\n",
              "    </tr>\n",
              "  </thead>\n",
              "  <tbody>\n",
              "    <tr>\n",
              "      <td>0</td>\n",
              "      <td>3.211560</td>\n",
              "      <td>3.973259</td>\n",
              "      <td>0.533767</td>\n",
              "      <td>0.296959</td>\n",
              "      <td>02:46</td>\n",
              "    </tr>\n",
              "    <tr>\n",
              "      <td>1</td>\n",
              "      <td>2.288683</td>\n",
              "      <td>4.115649</td>\n",
              "      <td>0.507748</td>\n",
              "      <td>0.372423</td>\n",
              "      <td>02:19</td>\n",
              "    </tr>\n",
              "    <tr>\n",
              "      <td>2</td>\n",
              "      <td>2.237403</td>\n",
              "      <td>4.340171</td>\n",
              "      <td>0.480048</td>\n",
              "      <td>0.389193</td>\n",
              "      <td>02:19</td>\n",
              "    </tr>\n",
              "    <tr>\n",
              "      <td>3</td>\n",
              "      <td>2.180545</td>\n",
              "      <td>4.544856</td>\n",
              "      <td>0.465811</td>\n",
              "      <td>0.385388</td>\n",
              "      <td>02:14</td>\n",
              "    </tr>\n",
              "    <tr>\n",
              "      <td>4</td>\n",
              "      <td>2.061826</td>\n",
              "      <td>3.297514</td>\n",
              "      <td>0.538278</td>\n",
              "      <td>0.356199</td>\n",
              "      <td>02:21</td>\n",
              "    </tr>\n",
              "    <tr>\n",
              "      <td>5</td>\n",
              "      <td>1.956458</td>\n",
              "      <td>3.642374</td>\n",
              "      <td>0.505945</td>\n",
              "      <td>0.395031</td>\n",
              "      <td>02:15</td>\n",
              "    </tr>\n",
              "    <tr>\n",
              "      <td>6</td>\n",
              "      <td>1.927408</td>\n",
              "      <td>4.178248</td>\n",
              "      <td>0.449730</td>\n",
              "      <td>0.391585</td>\n",
              "      <td>02:14</td>\n",
              "    </tr>\n",
              "    <tr>\n",
              "      <td>7</td>\n",
              "      <td>1.889459</td>\n",
              "      <td>3.743475</td>\n",
              "      <td>0.478988</td>\n",
              "      <td>0.407258</td>\n",
              "      <td>02:16</td>\n",
              "    </tr>\n",
              "    <tr>\n",
              "      <td>8</td>\n",
              "      <td>1.755543</td>\n",
              "      <td>4.114755</td>\n",
              "      <td>0.433610</td>\n",
              "      <td>0.385047</td>\n",
              "      <td>02:15</td>\n",
              "    </tr>\n",
              "    <tr>\n",
              "      <td>9</td>\n",
              "      <td>1.831728</td>\n",
              "      <td>3.985462</td>\n",
              "      <td>0.449586</td>\n",
              "      <td>0.392925</td>\n",
              "      <td>02:12</td>\n",
              "    </tr>\n",
              "    <tr>\n",
              "      <td>10</td>\n",
              "      <td>1.744323</td>\n",
              "      <td>4.069306</td>\n",
              "      <td>0.443683</td>\n",
              "      <td>0.395139</td>\n",
              "      <td>02:11</td>\n",
              "    </tr>\n",
              "    <tr>\n",
              "      <td>11</td>\n",
              "      <td>1.611336</td>\n",
              "      <td>4.037031</td>\n",
              "      <td>0.440051</td>\n",
              "      <td>0.394864</td>\n",
              "      <td>02:15</td>\n",
              "    </tr>\n",
              "    <tr>\n",
              "      <td>12</td>\n",
              "      <td>1.708314</td>\n",
              "      <td>3.996373</td>\n",
              "      <td>0.440225</td>\n",
              "      <td>0.389908</td>\n",
              "      <td>02:12</td>\n",
              "    </tr>\n",
              "    <tr>\n",
              "      <td>13</td>\n",
              "      <td>1.618841</td>\n",
              "      <td>4.070520</td>\n",
              "      <td>0.432829</td>\n",
              "      <td>0.386996</td>\n",
              "      <td>02:09</td>\n",
              "    </tr>\n",
              "    <tr>\n",
              "      <td>14</td>\n",
              "      <td>1.738750</td>\n",
              "      <td>4.082696</td>\n",
              "      <td>0.429424</td>\n",
              "      <td>0.383554</td>\n",
              "      <td>02:10</td>\n",
              "    </tr>\n",
              "  </tbody>\n",
              "</table>"
            ],
            "text/plain": [
              "<IPython.core.display.HTML object>"
            ]
          },
          "metadata": {
            "tags": []
          }
        }
      ]
    },
    {
      "cell_type": "code",
      "metadata": {
        "id": "P8VeUfpxvXSu",
        "colab_type": "code",
        "outputId": "ae6f882c-8fd5-4edb-d0f1-8147b897dfcb",
        "colab": {
          "base_uri": "https://localhost:8080/",
          "height": 37
        }
      },
      "source": [
        "inputs, targets, outputs = get_predictions(learn)"
      ],
      "execution_count": 0,
      "outputs": [
        {
          "output_type": "display_data",
          "data": {
            "text/html": [
              "\n",
              "    <div>\n",
              "        <style>\n",
              "            /* Turns off some styling */\n",
              "            progress {\n",
              "                /* gets rid of default border in Firefox and Opera. */\n",
              "                border: none;\n",
              "                /* Needs to be in here for Safari polyfill so background images work as expected. */\n",
              "                background-size: auto;\n",
              "            }\n",
              "            .progress-bar-interrupted, .progress-bar-interrupted::-webkit-progress-bar {\n",
              "                background: #F44336;\n",
              "            }\n",
              "        </style>\n",
              "      <progress value='151' class='' max='151', style='width:300px; height:20px; vertical-align: middle;'></progress>\n",
              "      100.00% [151/151 00:41<00:00]\n",
              "    </div>\n",
              "    "
            ],
            "text/plain": [
              "<IPython.core.display.HTML object>"
            ]
          },
          "metadata": {
            "tags": []
          }
        }
      ]
    },
    {
      "cell_type": "code",
      "metadata": {
        "id": "9486kmr303KG",
        "colab_type": "code",
        "outputId": "89f7cf9b-0f38-4871-8e29-3bc5969e150d",
        "colab": {
          "base_uri": "https://localhost:8080/",
          "height": 88
        }
      },
      "source": [
        "inputs[700], targets[700], outputs[700]"
      ],
      "execution_count": 0,
      "outputs": [
        {
          "output_type": "execute_result",
          "data": {
            "text/plain": [
              "(Text xxbos qui a le pouvoir de modifier le règlement sur les poids et mesures et le règlement sur l'inspection de l'électricité et du gaz ?,\n",
              " Text xxbos who has the authority to change the electricity and gas inspection regulations and the weights and measures regulations ?,\n",
              " Text xxbos who has the changes to the regulations and regulations and regulations ?)"
            ]
          },
          "metadata": {
            "tags": []
          },
          "execution_count": 86
        }
      ]
    },
    {
      "cell_type": "code",
      "metadata": {
        "id": "Oe06n_b507iz",
        "colab_type": "code",
        "outputId": "10b01221-7f77-4cba-a3eb-b0163a969811",
        "colab": {
          "base_uri": "https://localhost:8080/",
          "height": 88
        }
      },
      "source": [
        "inputs[701], targets[701], outputs[701]"
      ],
      "execution_count": 0,
      "outputs": [
        {
          "output_type": "execute_result",
          "data": {
            "text/plain": [
              "(Text xxbos ´ ` ou sont xxunk leurs grandes convictions en ce qui a trait a la ` ` ´ transparence et a la responsabilite ?,\n",
              " Text xxbos what happened to their great xxunk about transparency and accountability ?,\n",
              " Text xxbos what are the main reasons for the and and the ?)"
            ]
          },
          "metadata": {
            "tags": []
          },
          "execution_count": 87
        }
      ]
    },
    {
      "cell_type": "code",
      "metadata": {
        "id": "_kPsKGjP09Qo",
        "colab_type": "code",
        "outputId": "2a0cddf6-65df-41a5-baca-7635a0278b31",
        "colab": {
          "base_uri": "https://localhost:8080/",
          "height": 68
        }
      },
      "source": [
        "inputs[4002], targets[4002], outputs[4002]"
      ],
      "execution_count": 0,
      "outputs": [
        {
          "output_type": "execute_result",
          "data": {
            "text/plain": [
              "(Text xxbos quelles ressources votre communauté possède - t - elle qui favoriseraient la guérison ?,\n",
              " Text xxbos what resources exist in your community that would promote recovery ?,\n",
              " Text xxbos what resources does your community have to the ?)"
            ]
          },
          "metadata": {
            "tags": []
          },
          "execution_count": 88
        }
      ]
    },
    {
      "cell_type": "markdown",
      "metadata": {
        "id": "CAss55PqgsFS",
        "colab_type": "text"
      },
      "source": [
        "The prediction now improved better and better"
      ]
    },
    {
      "cell_type": "markdown",
      "metadata": {
        "id": "pXuVnSqFij7N",
        "colab_type": "text"
      },
      "source": [
        "# Translation with Transformer : different architecture with RNN"
      ]
    },
    {
      "cell_type": "markdown",
      "metadata": {
        "id": "RMH2EStatmX-",
        "colab_type": "text"
      },
      "source": [
        "## Mutlti-head attention : The Beasts with many heads\n",
        "\n",
        "The paper further refined the self-attention layer by adding a mechanism called “multi-headed” attention. This improves the performance of the attention layer in two ways:\n",
        "\n",
        "1. It expands the model’s ability to focus on different positions. Yes, in the example above, z1 contains a little bit of every other encoding, but it could be dominated by the the actual word itself. It would be useful if we’re translating a sentence like “The animal didn’t cross the street because it was too tired”, we would want to know which word “it” refers to.\n",
        "\n",
        "2. It gives the attention layer multiple “representation subspaces”. As we’ll see next, with multi-headed attention we have not only one, but multiple sets of Query/Key/Value weight matrices (the Transformer uses eight attention heads, so we end up with eight sets for each encoder/decoder). Each of these sets is randomly initialized. Then, after training, each set is used to project the input embeddings (or vectors from lower encoders/decoders) into a different representation subspace.\n",
        "\n",
        "![alt text](http://jalammar.github.io/images/t/transformer_attention_heads_qkv.png)\n",
        "\n",
        "    With multi-headed attention, we maintain separate Q/K/V weight matrices for each head resulting in different Q/K/V matrices. As we did before, we multiply X by the WQ/WK/WV matrices to produce Q/K/V matrices.\n",
        "\n",
        "If we do the same self-attention calculation we outlined above, just eight different times with different weight matrices, we end up with eight different Z matrices.\n",
        "\n",
        "![alt text](http://jalammar.github.io/images/t/transformer_attention_heads_z.png)\n",
        "\n",
        "This leaves us with a bit of a challenge. The feed-forward layer is not expecting eight matrices – it’s expecting a single matrix (a vector for each word). So we need a way to condense these eight down into a single matrix.\n",
        "\n",
        "How do we do that? We concat the matrices then multiple them by an additional weights matrix $W^O$.\n",
        "\n",
        "![alt text](http://jalammar.github.io/images/t/transformer_attention_heads_weight_matrix_o.png)\n",
        "\n",
        "That’s pretty much all there is to multi-headed self-attention. It’s quite a handful of matrices, I realize. Let me try to put them all in one visual so we can look at them in one place\n",
        "\n",
        "![alt text](http://jalammar.github.io/images/t/transformer_multi-headed_self-attention-recap.png)\n",
        "\n",
        "Now that we have touched upon attention heads, let’s revisit our example from before to see where the different attention heads are focusing as we encode the word “it” in our example sentence:\n",
        "\n",
        "![alt text](http://jalammar.github.io/images/t/transformer_self-attention_visualization_2.png)\n",
        "\n",
        "    As we encode the word \"it\", one attention head is focusing most on \"the animal\", while another is focusing on \"tired\" -- in a sense, the model's representation of the word \"it\" bakes in some of the representation of both \"animal\" and \"tired\".\n",
        "    \n",
        "If we add all the attention heads to the picture, however, things can be harder to interpret:\n",
        "\n",
        "![](http://jalammar.github.io/images/t/transformer_self-attention_visualization_3.png)"
      ]
    },
    {
      "cell_type": "markdown",
      "metadata": {
        "id": "jyF88LpXxxzf",
        "colab_type": "text"
      },
      "source": [
        "## Representing The Order of The Sequence Using Positional Encoding\n",
        "\n",
        "One thing that’s missing from the model as we have described it so far is a way to account for the order of the words in the input sequence.\n",
        "\n",
        "To address this, the transformer adds a vector to each input embedding. These vectors follow a specific pattern that the model learns, which helps it determine the position of each word, or the distance between different words in the sequence. The intuition here is that adding these values to the embeddings provides meaningful distances between the embedding vectors once they’re projected into Q/K/V vectors and during dot-product attention.\n",
        "\n",
        "![alt text](http://jalammar.github.io/images/t/transformer_positional_encoding_vectors.png)\n",
        "\n",
        "    To give the model a sense of the order of the words, we add positional encoding vectors -- the values of which follow a specific pattern.\n",
        "    \n",
        "If we assumed the embedding has a dimensionality of 4, the actual positional encodings would look like this:\n",
        "\n",
        "![alt text](http://jalammar.github.io/images/t/transformer_positional_encoding_example.png)\n",
        "\n",
        "What might this pattern look like?\n",
        "\n",
        "In the following figure, each row corresponds the a positional encoding of a vector. So the first row would be the vector we’d add to the embedding of the first word in an input sequence. Each row contains 512 values – each with a value between 1 and -1. We’ve color-coded them so the pattern is visible.\n",
        "\n",
        "![alt text](http://jalammar.github.io/images/t/transformer_positional_encoding_large_example.png)\n",
        "\n",
        "\n",
        "    A real example of positional encoding for 20 words (rows) with an embedding size of 512 (columns). You can see that it appears split in half down the center. That's because the values of the left half are generated by one function (which uses sine), and the right half is generated by another function (which uses cosine). They're then concatenated to form each of the positional encoding vectors.\n",
        "    \n",
        "The formula for positional encoding is described in the paper (section 3.5). You can see the code for generating positional encodings in get_timing_signal_1d(). This is not the only possible method for positional encoding. It, however, gives the advantage of being able to scale to unseen lengths of sequences (e.g. if our trained model is asked to translate a sentence longer than any of those in our training set)."
      ]
    },
    {
      "cell_type": "markdown",
      "metadata": {
        "id": "DyuFfwyYHswc",
        "colab_type": "text"
      },
      "source": [
        "## The Residuals\n",
        "\n",
        "One detail in the architecture of the encoder that we need to mention before moving on, is that each sub-layer (self-attention, ffnn) in each encoder has a residual connection around it, and is followed by a layer-normalization step.\n",
        "\n",
        "![alt text](http://jalammar.github.io/images/t/transformer_resideual_layer_norm.png)\n",
        "\n",
        "If we’re to visualize the vectors and the layer-norm operation associated with self attention, it would look like this:\n",
        "\n",
        "![alt text](http://jalammar.github.io/images/t/transformer_resideual_layer_norm_2.png)\n",
        "\n",
        "This goes for the sub-layers of the decoder as well. If we’re to think of a Transformer of 2 stacked encoders and decoders, it would look something like this:\n",
        "\n",
        "![alt text](http://jalammar.github.io/images/t/transformer_resideual_layer_norm_3.png)\n",
        "\n"
      ]
    },
    {
      "cell_type": "markdown",
      "metadata": {
        "id": "jP7_4lsjIyv4",
        "colab_type": "text"
      },
      "source": [
        "## The Decoder Side\n",
        "Now that we’ve covered most of the concepts on the encoder side, we basically know how the components of decoders work as well. But let’s take a look at how they work together.\n",
        "\n",
        "The encoder start by processing the input sequence. The output of the top encoder is then transformed into a set of attention vectors K and V. These are to be used by each decoder in its “encoder-decoder attention” layer which helps the decoder focus on appropriate places in the input sequence:\n",
        "\n",
        "![alt text](http://jalammar.github.io/images/t/transformer_decoding_1.gif)\n",
        "\n",
        "    After finishing the encoding phase, we begin the decoding phase. Each step in the decoding phase outputs an element from the output sequence (the English translation sentence in this case).\n",
        "    \n",
        "\n",
        "The following steps repeat the process until a special symbol is reached indicating the transformer decoder has completed its output. The output of each step is fed to the bottom decoder in the next time step, and the decoders bubble up their decoding results just like the encoders did. And just like we did with the encoder inputs, we embed and add positional encoding to those decoder inputs to indicate the position of each word.\n",
        "\n",
        "![alt text](http://jalammar.github.io/images/t/transformer_decoding_2.gif)\n",
        "\n",
        "**The self attention layers in the decoder operate in a slightly different way than the one in the encoder:**\n",
        "\n",
        "- In the decoder, the self-attention layer is only allowed to attend to earlier positions in the output sequence. This is done by masking future positions (setting them to -inf) before the softmax step in the self-attention calculation.\n",
        "\n",
        "The “Encoder-Decoder Attention” layer works just like multiheaded self-attention, except it creates its Queries matrix from the layer below it, and takes the Keys and Values matrix from the output of the encoder stack."
      ]
    },
    {
      "cell_type": "markdown",
      "metadata": {
        "id": "FxjJuTkRJ9QY",
        "colab_type": "text"
      },
      "source": [
        "##The Final Linear and Softmax Layer\n",
        "\n",
        "The decoder stack outputs a vector of floats. How do we turn that into a word? That’s the job of the final Linear layer which is followed by a Softmax Layer.\n",
        "\n",
        "The Linear layer is a simple fully connected neural network that projects the vector produced by the stack of decoders, into a much, much larger vector called a logits vector.\n",
        "\n",
        "Let’s assume that our model knows 10,000 unique English words (our model’s “output vocabulary”) that it’s learned from its training dataset. This would make the logits vector 10,000 cells wide – each cell corresponding to the score of a unique word. That is how we interpret the output of the model followed by the Linear layer.\n",
        "\n",
        "The softmax layer then turns those scores into probabilities (all positive, all add up to 1.0). The cell with the highest probability is chosen, and the word associated with it is produced as the output for this time step.\n",
        "\n",
        "![alt text](http://jalammar.github.io/images/t/transformer_decoder_output_softmax.png)\n",
        "\n",
        "    This figure starts from the bottom with the vector produced as the output of the decoder stack. It is then turned into an output word."
      ]
    },
    {
      "cell_type": "markdown",
      "metadata": {
        "id": "FqgHfzx7LHw4",
        "colab_type": "text"
      },
      "source": [
        "## Recap Of Training\n",
        "Now that we’ve covered the entire forward-pass process through a trained Transformer, it would be useful to glance at the intuition of training the model.\n",
        "\n",
        "During training, an untrained model would go through the exact same forward pass. But since we are training it on a labeled training dataset, we can compare its output with the actual correct output.\n",
        "\n",
        "To visualize this, let’s assume our output vocabulary only contains six words(“a”, “am”, “i”, “thanks”, “student”, and `“<eos>”` (short for ‘end of sentence’)).\n",
        "\n",
        "![alt text](http://jalammar.github.io/images/t/vocabulary.png)\n",
        "\n",
        "    The output vocabulary of our model is created in the preprocessing phase before we even begin training.\n",
        "    \n",
        "Once we define our output vocabulary, we can use a vector of the same width to indicate each word in our vocabulary. This also known as one-hot encoding. So for example, we can indicate the word “am” using the following vector:\n",
        "\n",
        "![alt text](http://jalammar.github.io/images/t/one-hot-vocabulary-example.png)\n",
        "\n",
        "Following this recap, let’s discuss the model’s loss function – the metric we are optimizing during the training phase to lead up to a trained and hopefully amazingly accurate model.\n"
      ]
    },
    {
      "cell_type": "markdown",
      "metadata": {
        "id": "YQj1oPz0LwLY",
        "colab_type": "text"
      },
      "source": [
        "## The Loss Function\n",
        "\n",
        "Say we are training our model. Say it’s our first step in the training phase, and we’re training it on a simple example – translating “merci” into “thanks”.\n",
        "\n",
        "What this means, is that we want the output to be a probability distribution indicating the word “thanks”. But since this model is not yet trained, that’s unlikely to happen just yet.\n",
        "\n",
        "![alt text](http://jalammar.github.io/images/t/transformer_logits_output_and_label.png)\n",
        "\n",
        "    Since the model's parameters (weights) are all initialized randomly, the (untrained) model produces a probability distribution with arbitrary values for each cell/word. We can compare it with the actual output, then tweak all the model's weights using backpropagation to make the output closer to the desired output.\n",
        "    \n",
        "How do you compare two probability distributions? We simply subtract one from the other. For more details, look at [cross-entropy](https://colah.github.io/posts/2015-09-Visual-Information/) and [Kullback–Leibler divergence](https://www.countbayesie.com/blog/2017/5/9/kullback-leibler-divergence-explained).\n",
        "\n",
        "But note that this is an oversimplified example. More realistically, we’ll use a sentence longer than one word. For example – input: “je suis étudiant” and expected output: “i am a student”. What this really means, is that we want our model to successively output probability distributions where:\n",
        "\n",
        "- Each probability distribution is represented by a vector of width vocab_size (6 in our toy example, but more realistically a number like 3,000 or 10,000)\n",
        "- The first probability distribution has the highest probability at the cell associated with the word “i”\n",
        "- The second probability distribution has the highest probability at the cell associated with the word “am”\n",
        "- And so on, until the fifth output distribution indicates `‘<end of sentence>’` symbol, which also has a cell associated with it from the 10,000 element vocabulary.\n",
        "\n",
        "![alt text](http://jalammar.github.io/images/t/output_target_probability_distributions.png)\n",
        "\n",
        "    The targeted probability distributions we'll train our model against in the training example for one sample sentence.\n",
        "\n",
        "After training the model for enough time on a large enough dataset, we would hope the produced probability distributions would look like this:\n",
        "\n",
        "\n",
        "![alt text](http://jalammar.github.io/images/t/output_trained_model_probability_distributions.png)\n",
        "\n",
        "    Hopefully upon training, the model would output the right translation we expect. Of course it's no real indication if this phrase was part of the training dataset (see: cross validation). Notice that every position gets a little bit of probability even if it's unlikely to be the output of that time step -- that's a very useful property of softmax which helps the training process.\n",
        "\n",
        "Now, because the model produces the outputs one at a time, we can assume that the model is selecting the word with the highest probability from that probability distribution and throwing away the rest. That’s one way to do it (called greedy decoding). Another way to do it would be to hold on to, say, the top two words (say, ‘I’ and ‘a’ for example), then in the next step, run the model twice: once assuming the first output position was the word ‘I’, and another time assuming the first output position was the word ‘me’, and whichever version produced less error considering both positions #1 and #2 is kept. We repeat this for positions #2 and #3…etc. This method is called “beam search”, where in our example, beam_size was two (because we compared the results after calculating the beams for positions #1 and #2), and top_beams is also two (since we kept two words). These are both hyperparameters that you can experiment with."
      ]
    },
    {
      "cell_type": "code",
      "metadata": {
        "id": "Zd7ZDMZ-0_Kj",
        "colab_type": "code",
        "colab": {}
      },
      "source": [
        ""
      ],
      "execution_count": 0,
      "outputs": []
    }
  ]
}