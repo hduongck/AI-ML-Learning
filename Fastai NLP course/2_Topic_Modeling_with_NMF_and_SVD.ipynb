{
  "nbformat": 4,
  "nbformat_minor": 0,
  "metadata": {
    "colab": {
      "name": "2_Topic_Modeling_with_NMF_and_SVD.ipynb",
      "version": "0.3.2",
      "provenance": [],
      "collapsed_sections": [],
      "toc_visible": true,
      "include_colab_link": true
    },
    "kernelspec": {
      "name": "python3",
      "display_name": "Python 3"
    }
  },
  "cells": [
    {
      "cell_type": "markdown",
      "metadata": {
        "id": "view-in-github",
        "colab_type": "text"
      },
      "source": [
        "<a href=\"https://colab.research.google.com/github/hduongck/AI-ML-Learning/blob/master/Fastai%20NLP%20course/2_Topic_Modeling_with_NMF_and_SVD.ipynb\" target=\"_parent\"><img src=\"https://colab.research.google.com/assets/colab-badge.svg\" alt=\"Open In Colab\"/></a>"
      ]
    },
    {
      "cell_type": "markdown",
      "metadata": {
        "id": "100g65Q71ZQz",
        "colab_type": "text"
      },
      "source": [
        "# Topic Modeling with NMF and SVD\n",
        "\n"
      ]
    },
    {
      "cell_type": "markdown",
      "metadata": {
        "id": "CkRG4saz1g9J",
        "colab_type": "text"
      },
      "source": [
        "##The problem\n",
        "\n",
        "Topic modeling is a fun way to start our study of NLP. We will use two popular matrix decomposition techniques.\n",
        "\n",
        "We start with a **term-document matrix**. The idea is that we have collections of documents and text. So here, we have an example of showing of the plays of Shakespeare and we represent them as **bag of words**. Just kind of taking the word count of different words.\n",
        "\n",
        "![alt text](https://github.com/fastai/course-nlp/raw/85e505295efeed88ce61dc0ff5e424bde9741a15/images/document_term.png)\n",
        "\n",
        "source: [Introduction to Information Retrieval](http://player.slideplayer.com/15/4528582/#)\n",
        "\n",
        "The idea behind matrix decomposition is taking one matrix and represent it as a few matrices, the one we look at these will be matrix products so we 'll take one matrix and decompose it into a few things that mutiply together that give you ordinal matrix.\n",
        "\n",
        "The reason it is useful is the factors that you're decomposing into which have special property that are nicer than the original matrix.\n",
        "\n",
        "We can decompose this into one tall thin matrix times one wide short matrix (possibly with a diagonal matrix in between).\n",
        "\n",
        "Notice that this representation does not take into account word order or sentence structure. It's an example of a bag of words approach.\n",
        "\n",
        "Latent Semantic Analysis (LSA) uses Singular Value Decomposition (SVD)."
      ]
    },
    {
      "cell_type": "markdown",
      "metadata": {
        "id": "ml0ubjRr4X7x",
        "colab_type": "text"
      },
      "source": [
        "## Motivation\n",
        "Consider the most extreme case - reconstructing the matrix using an outer product of two vectors. Clearly, in most cases we won't be able to reconstruct the matrix exactly. But if we had one vector with the relative frequency of each vocabulary word out of the total word count, and one with the average number of words per document, then that outer product would be as close as we can get.\n",
        "\n",
        "Now consider increasing that matrices to two columns and two rows. The optimal decomposition would now be to cluster the documents into two groups, each of which has as different a distribution of words as possible to each other, but as similar as possible amongst the documents in the cluster. We will call those two groups \"topics\". And we would cluster the words into two groups, based on those which most frequently appear in each of the topics"
      ]
    },
    {
      "cell_type": "markdown",
      "metadata": {
        "id": "E5SxRZfU4bs0",
        "colab_type": "text"
      },
      "source": [
        "# Getting started\n",
        "\n",
        "We'll take a dataset of documents in several different categories, and find topics (consisting of groups of words) for them. Knowing the actual categories helps us evaluate if the topics we find make sense.\n",
        "\n",
        "We will try this with two different matrix factorizations: \n",
        "\n",
        "- **Singular Value Decomposition (SVD)**\n",
        "- **and Non-negative Matrix Factorization (NMF)**"
      ]
    },
    {
      "cell_type": "code",
      "metadata": {
        "id": "Knz98pih0uAh",
        "colab_type": "code",
        "colab": {}
      },
      "source": [
        "import numpy as np\n",
        "from sklearn.datasets import fetch_20newsgroups\n",
        "from sklearn import decomposition\n",
        "from scipy import linalg\n",
        "import matplotlib.pyplot as plt"
      ],
      "execution_count": 0,
      "outputs": []
    },
    {
      "cell_type": "code",
      "metadata": {
        "id": "1uOQZfIO5MaK",
        "colab_type": "code",
        "colab": {}
      },
      "source": [
        "%matplotlib inline\n",
        "np.set_printoptions(suppress=True)"
      ],
      "execution_count": 0,
      "outputs": []
    },
    {
      "cell_type": "markdown",
      "metadata": {
        "id": "CuyC0Mlh5dvW",
        "colab_type": "text"
      },
      "source": [
        "**Additional Resources**\n",
        "\n",
        "- [Data source](http://scikit-learn.org/stable/datasets/twenty_newsgroups.html): Newsgroups are discussion groups on Usenet, which was popular in the 80s and 90s before the web really took off. This dataset includes 18,000 newsgroups posts with 20 topics.\n",
        "- [Chris Manning's book chapter](https://nlp.stanford.edu/IR-book/pdf/18lsi.pdf) on matrix factorization and LSI\n",
        "- Scikit learn [truncated SVD LSI details](http://scikit-learn.org/stable/modules/decomposition.html#lsa)\n",
        "\n",
        "**Other Tutorials**\n",
        "\n",
        "- [Scikit-Learn: Out-of-core classification of text documents](http://scikit-learn.org/stable/auto_examples/applications/plot_out_of_core_classification.html): uses [Reuters-21578](https://archive.ics.uci.edu/ml/datasets/reuters-21578+text+categorization+collection) dataset (Reuters articles labeled with ~100 categories), HashingVectorizer\n",
        "\n",
        "- [Text Analysis with Topic Models for the Humanities and Social Sciences](https://de.dariah.eu/tatom/index.html): uses [British and French Literature dataset](https://de.dariah.eu/tatom/datasets.html) of Jane Austen, Charlotte Bronte, Victor Hugo, and more"
      ]
    },
    {
      "cell_type": "markdown",
      "metadata": {
        "id": "VnsP0Udy6fFy",
        "colab_type": "text"
      },
      "source": [
        "##Look at our data\n",
        "\n",
        "Scikit Learn comes with a number of built-in datasets, as well as loading utilities to load several standard external datasets. This is a [great resource](http://scikit-learn.org/stable/datasets/), and the datasets include Boston housing prices, face images, patches of forest, diabetes, breast cancer, and more. We will be using the newsgroups dataset.\n",
        "\n",
        "Newsgroups are discussion groups on Usenet, which was popular in the 80s and 90s before the web really took off. This dataset includes 18,000 newsgroups posts with 20 topics.\n",
        "\n",
        "We pick out the 4 categories. Topic modeling is unsupervised problem that you don't know like what are the best topics for your group of documents and have no clear answer. To make clearer for us if whether we are doing a good job, we will pick out the 4 topics and then not use that imformation though in our matrix decomposition and see how close we get it comes to that."
      ]
    },
    {
      "cell_type": "code",
      "metadata": {
        "id": "DLJRNeqk5Pnv",
        "colab_type": "code",
        "outputId": "7ff3008b-7ed3-4b43-a446-041904745138",
        "colab": {
          "base_uri": "https://localhost:8080/",
          "height": 51
        }
      },
      "source": [
        "categories = ['alt.atheism', 'talk.religion.misc', 'comp.graphics', 'sci.space']\n",
        "remove = ('headers', 'footers', 'quotes')\n",
        "newsgroups_train = fetch_20newsgroups(subset='train', categories=categories, remove=remove)\n",
        "newsgroups_test = fetch_20newsgroups(subset='test', categories=categories, remove=remove)"
      ],
      "execution_count": 0,
      "outputs": [
        {
          "output_type": "stream",
          "text": [
            "Downloading 20news dataset. This may take a few minutes.\n",
            "Downloading dataset from https://ndownloader.figshare.com/files/5975967 (14 MB)\n"
          ],
          "name": "stderr"
        }
      ]
    },
    {
      "cell_type": "markdown",
      "metadata": {
        "id": "fbqGBpgn8Lsm",
        "colab_type": "text"
      },
      "source": [
        "Check the shape of the data"
      ]
    },
    {
      "cell_type": "code",
      "metadata": {
        "id": "WR1XVzni79XA",
        "colab_type": "code",
        "outputId": "87f17496-4acb-41a8-acb4-01b08d8eabec",
        "colab": {
          "base_uri": "https://localhost:8080/",
          "height": 34
        }
      },
      "source": [
        "newsgroups_train.filenames.shape, newsgroups_train.target.shape"
      ],
      "execution_count": 0,
      "outputs": [
        {
          "output_type": "execute_result",
          "data": {
            "text/plain": [
              "((2034,), (2034,))"
            ]
          },
          "metadata": {
            "tags": []
          },
          "execution_count": 4
        }
      ]
    },
    {
      "cell_type": "markdown",
      "metadata": {
        "id": "rCv7lHG78t8R",
        "colab_type": "text"
      },
      "source": [
        "Let's look at some of the data. Can you guess which category these messages are in?"
      ]
    },
    {
      "cell_type": "code",
      "metadata": {
        "id": "bVOLnIAB8OY8",
        "colab_type": "code",
        "outputId": "2f356ca5-2a00-4074-db38-b3d1dbce24db",
        "colab": {
          "base_uri": "https://localhost:8080/",
          "height": 578
        }
      },
      "source": [
        "print(\"/n\".join(newsgroups_train.data[:3]))"
      ],
      "execution_count": 0,
      "outputs": [
        {
          "output_type": "stream",
          "text": [
            "Hi,\n",
            "\n",
            "I've noticed that if you only save a model (with all your mapping planes\n",
            "positioned carefully) to a .3DS file that when you reload it after restarting\n",
            "3DS, they are given a default position and orientation.  But if you save\n",
            "to a .PRJ file their positions/orientation are preserved.  Does anyone\n",
            "know why this information is not stored in the .3DS file?  Nothing is\n",
            "explicitly said in the manual about saving texture rules in the .PRJ file. \n",
            "I'd like to be able to read the texture rule information, does anyone have \n",
            "the format for the .PRJ file?\n",
            "\n",
            "Is the .CEL file format available from somewhere?\n",
            "\n",
            "Rych/n\n",
            "\n",
            "Seems to be, barring evidence to the contrary, that Koresh was simply\n",
            "another deranged fanatic who thought it neccessary to take a whole bunch of\n",
            "folks with him, children and all, to satisfy his delusional mania. Jim\n",
            "Jones, circa 1993.\n",
            "\n",
            "\n",
            "Nope - fruitcakes like Koresh have been demonstrating such evil corruption\n",
            "for centuries./n\n",
            " >In article <1993Apr19.020359.26996@sq.sq.com>, msb@sq.sq.com (Mark Brader) \n",
            "\n",
            "MB>                                                             So the\n",
            "MB> 1970 figure seems unlikely to actually be anything but a perijove.\n",
            "\n",
            "JG>Sorry, _perijoves_...I'm not used to talking this language.\n",
            "\n",
            "Couldn't we just say periapsis or apoapsis?\n",
            "\n",
            " \n"
          ],
          "name": "stdout"
        }
      ]
    },
    {
      "cell_type": "markdown",
      "metadata": {
        "id": "vNue_Yvs9bEZ",
        "colab_type": "text"
      },
      "source": [
        "here these are topics for the news above"
      ]
    },
    {
      "cell_type": "code",
      "metadata": {
        "id": "bZ-PaGEx9FzB",
        "colab_type": "code",
        "outputId": "28b880b2-f5e6-4920-b1ae-6dfec314a8f4",
        "colab": {
          "base_uri": "https://localhost:8080/",
          "height": 34
        }
      },
      "source": [
        "np.array(newsgroups_train.target_names)[newsgroups_train.target[:3]]"
      ],
      "execution_count": 0,
      "outputs": [
        {
          "output_type": "execute_result",
          "data": {
            "text/plain": [
              "array(['comp.graphics', 'talk.religion.misc', 'sci.space'], dtype='<U18')"
            ]
          },
          "metadata": {
            "tags": []
          },
          "execution_count": 6
        }
      ]
    },
    {
      "cell_type": "markdown",
      "metadata": {
        "id": "zI7_5pub97h0",
        "colab_type": "text"
      },
      "source": [
        "Below the target attribute is the integer index of the category. These are our labels"
      ]
    },
    {
      "cell_type": "code",
      "metadata": {
        "id": "-bW_JHjX9oNL",
        "colab_type": "code",
        "outputId": "9361fb6b-b9a1-4979-a7f4-cede963ca0d5",
        "colab": {
          "base_uri": "https://localhost:8080/",
          "height": 34
        }
      },
      "source": [
        "newsgroups_train.target[:10]"
      ],
      "execution_count": 0,
      "outputs": [
        {
          "output_type": "execute_result",
          "data": {
            "text/plain": [
              "array([1, 3, 2, 0, 2, 0, 2, 1, 2, 1])"
            ]
          },
          "metadata": {
            "tags": []
          },
          "execution_count": 7
        }
      ]
    },
    {
      "cell_type": "markdown",
      "metadata": {
        "id": "CjVhraVW-Q_a",
        "colab_type": "text"
      },
      "source": [
        "Next something is about matrix decomposition. Most of clustering analysis is to choose how many topics you want to create."
      ]
    },
    {
      "cell_type": "code",
      "metadata": {
        "id": "DQ43gKQm-LvH",
        "colab_type": "code",
        "colab": {}
      },
      "source": [
        "num_topics, num_top_words=6,8"
      ],
      "execution_count": 0,
      "outputs": []
    },
    {
      "cell_type": "markdown",
      "metadata": {
        "id": "VDD_ltI_-12Y",
        "colab_type": "text"
      },
      "source": [
        "## Stop words, stemming, lemmatization\n",
        "\n"
      ]
    },
    {
      "cell_type": "markdown",
      "metadata": {
        "id": "RfdDZknp-88b",
        "colab_type": "text"
      },
      "source": [
        "### Stop words\n",
        "\n",
        "From [Intro to Information Retrieval](https://nlp.stanford.edu/IR-book/html/htmledition/dropping-common-terms-stop-words-1.html):\n",
        "\n",
        "![alt text](https://nlp.stanford.edu/IR-book/html/htmledition/img95.png)\n",
        "\n",
        "Some extremely common words which would appear to be of little value in helping select documents matching a user need are excluded from the vocabulary entirely. These words are called stop words.\n",
        "\n",
        "The general trend in IR systems over time has been from standard use of quite large stop lists (200-300 terms) to very small stop lists (7-12 terms) to no stop list whatsoever. Web search engines generally do not use stop lists."
      ]
    },
    {
      "cell_type": "code",
      "metadata": {
        "id": "HXBBzrAM-1YT",
        "colab_type": "code",
        "outputId": "64b9ae01-cfca-494c-a745-ea2d23a6df03",
        "colab": {
          "base_uri": "https://localhost:8080/",
          "height": 357
        }
      },
      "source": [
        "from sklearn.feature_extraction import stop_words\n",
        "\n",
        "sorted(list(stop_words.ENGLISH_STOP_WORDS))[:20]"
      ],
      "execution_count": 0,
      "outputs": [
        {
          "output_type": "execute_result",
          "data": {
            "text/plain": [
              "['a',\n",
              " 'about',\n",
              " 'above',\n",
              " 'across',\n",
              " 'after',\n",
              " 'afterwards',\n",
              " 'again',\n",
              " 'against',\n",
              " 'all',\n",
              " 'almost',\n",
              " 'alone',\n",
              " 'along',\n",
              " 'already',\n",
              " 'also',\n",
              " 'although',\n",
              " 'always',\n",
              " 'am',\n",
              " 'among',\n",
              " 'amongst',\n",
              " 'amoungst']"
            ]
          },
          "metadata": {
            "tags": []
          },
          "execution_count": 9
        }
      ]
    },
    {
      "cell_type": "markdown",
      "metadata": {
        "id": "gijdSBIuBbnV",
        "colab_type": "text"
      },
      "source": [
        "There is no single universal list of stop words."
      ]
    },
    {
      "cell_type": "markdown",
      "metadata": {
        "id": "WkINxaeOBobp",
        "colab_type": "text"
      },
      "source": [
        "### Stemming and Lemmatization\n",
        "\n",
        "from [Information Retrieval textbook](https://nlp.stanford.edu/IR-book/html/htmledition/stemming-and-lemmatization-1.html):\n",
        "\n",
        "- Are the below words the same?\n",
        "\n",
        "        organize, organizes, and organizing\n",
        "\n",
        "        democracy, democratic, and democratization\n",
        "\n",
        "- The goal of both stemming and lemmatization is to reduce inflectional forms and sometimes derivationally related forms of a word to a common base form. For instance:\n",
        "\n",
        "        am, are, is $\\Rightarrow$ be \n",
        "\n",
        "        car, cars, car's, cars' $\\Rightarrow$ car\n",
        "\n",
        "The result of this mapping of text will be something like:\n",
        "\n",
        "        the boy's cars are different colors $\\Rightarrow$ the boy car be differ color\n",
        "\n",
        "- Stemming and Lemmatization both generate the root form of the words.\n",
        "\n",
        "- Lemmatization uses the rules about a language. The resulting tokens are all actual words\n",
        "\n",
        "- \"Stemming is the poor-man’s lemmatization.\" (Noah Smith, 2011) Stemming is a crude heuristic that chops the ends off of words. The resulting tokens may not be actual words. Stemming is faster.\n",
        "\n",
        "The most common algorithm for stemming English, and one that has repeatedly been shown to be empirically very effective, is Porter's algorithm (Porter, 1980). The entire algorithm is too long and intricate to present here, but we will indicate its general nature. Porter's algorithm consists of 5 phases of word reductions, applied sequentially. Within each phase there are various conventions to select rules, such as selecting the rule from each rule group that applies to the longest suffix. In the first phase, this convention is used with the following rule group: \n",
        "\n",
        "![alt text](https://nlp.stanford.edu/IR-book/html/htmledition/img100.png)\n"
      ]
    },
    {
      "cell_type": "markdown",
      "metadata": {
        "id": "aMLxbTZnGL_H",
        "colab_type": "text"
      },
      "source": [
        "#### NLTK"
      ]
    },
    {
      "cell_type": "code",
      "metadata": {
        "id": "TbWalp3K-tl0",
        "colab_type": "code",
        "outputId": "4d04b1e6-1376-454c-e663-7de1170b0627",
        "colab": {
          "base_uri": "https://localhost:8080/",
          "height": 68
        }
      },
      "source": [
        "import nltk\n",
        "nltk.download('wordnet')\n"
      ],
      "execution_count": 0,
      "outputs": [
        {
          "output_type": "stream",
          "text": [
            "[nltk_data] Downloading package wordnet to /root/nltk_data...\n",
            "[nltk_data]   Unzipping corpora/wordnet.zip.\n"
          ],
          "name": "stdout"
        },
        {
          "output_type": "execute_result",
          "data": {
            "text/plain": [
              "True"
            ]
          },
          "metadata": {
            "tags": []
          },
          "execution_count": 10
        }
      ]
    },
    {
      "cell_type": "code",
      "metadata": {
        "id": "RGiIoTwwC5KS",
        "colab_type": "code",
        "colab": {}
      },
      "source": [
        "from nltk import stem"
      ],
      "execution_count": 0,
      "outputs": []
    },
    {
      "cell_type": "code",
      "metadata": {
        "id": "HjuKxZzLC9gu",
        "colab_type": "code",
        "colab": {}
      },
      "source": [
        "wnl = stem.WordNetLemmatizer()\n",
        "porter = stem.porter.PorterStemmer()"
      ],
      "execution_count": 0,
      "outputs": []
    },
    {
      "cell_type": "code",
      "metadata": {
        "id": "9TnzuWVHDsB6",
        "colab_type": "code",
        "colab": {}
      },
      "source": [
        "word_list=['feet','foot','foots','footing']"
      ],
      "execution_count": 0,
      "outputs": []
    },
    {
      "cell_type": "code",
      "metadata": {
        "id": "9p4WnYCOD4Js",
        "colab_type": "code",
        "outputId": "5fcfa458-1140-4fbc-c2f9-35498351b90e",
        "colab": {
          "base_uri": "https://localhost:8080/",
          "height": 34
        }
      },
      "source": [
        "[wnl.lemmatize(word) for word in word_list]"
      ],
      "execution_count": 0,
      "outputs": [
        {
          "output_type": "execute_result",
          "data": {
            "text/plain": [
              "['foot', 'foot', 'foot', 'footing']"
            ]
          },
          "metadata": {
            "tags": []
          },
          "execution_count": 14
        }
      ]
    },
    {
      "cell_type": "code",
      "metadata": {
        "id": "zc5GlJ5QD_Xk",
        "colab_type": "code",
        "outputId": "4b13ee5a-7643-4055-a70f-e0523cd22f72",
        "colab": {
          "base_uri": "https://localhost:8080/",
          "height": 34
        }
      },
      "source": [
        "[porter.stem(word) for word in word_list]"
      ],
      "execution_count": 0,
      "outputs": [
        {
          "output_type": "execute_result",
          "data": {
            "text/plain": [
              "['feet', 'foot', 'foot', 'foot']"
            ]
          },
          "metadata": {
            "tags": []
          },
          "execution_count": 15
        }
      ]
    },
    {
      "cell_type": "markdown",
      "metadata": {
        "id": "8RkFHlQxFtyM",
        "colab_type": "text"
      },
      "source": [
        "Your turn! Now, try lemmatizing and stemming the following collections of words:\n",
        "\n",
        "- fly, flies, flying\n",
        "- organize, organizes, organizing\n",
        "- universe, university\n",
        "\n",
        "fastai/course-nlp\n",
        "\n"
      ]
    },
    {
      "cell_type": "code",
      "metadata": {
        "id": "jCUDeQDyHgPW",
        "colab_type": "code",
        "outputId": "27c3c1b4-7284-40a5-a2ad-8a39e8486481",
        "colab": {
          "base_uri": "https://localhost:8080/",
          "height": 34
        }
      },
      "source": [
        "word_list1 = ['fly','flies','flying']\n",
        "[porter.stem(word) for word in word_list1]"
      ],
      "execution_count": 0,
      "outputs": [
        {
          "output_type": "execute_result",
          "data": {
            "text/plain": [
              "['fli', 'fli', 'fli']"
            ]
          },
          "metadata": {
            "tags": []
          },
          "execution_count": 16
        }
      ]
    },
    {
      "cell_type": "code",
      "metadata": {
        "id": "fexA1dPXHxTA",
        "colab_type": "code",
        "outputId": "efaf7772-7f32-493b-e9f1-b5b778b1b73f",
        "colab": {
          "base_uri": "https://localhost:8080/",
          "height": 34
        }
      },
      "source": [
        "word_list2 = ['organize','organizes','organizing']\n",
        "[porter.stem(word) for word in word_list2]"
      ],
      "execution_count": 0,
      "outputs": [
        {
          "output_type": "execute_result",
          "data": {
            "text/plain": [
              "['organ', 'organ', 'organ']"
            ]
          },
          "metadata": {
            "tags": []
          },
          "execution_count": 17
        }
      ]
    },
    {
      "cell_type": "code",
      "metadata": {
        "id": "cP2YwMAkH9UT",
        "colab_type": "code",
        "outputId": "255756f7-fd8c-4e95-9235-76597697a3e9",
        "colab": {
          "base_uri": "https://localhost:8080/",
          "height": 34
        }
      },
      "source": [
        "word_list3 = ['universe','university']\n",
        "[porter.stem(word) for word in word_list3]"
      ],
      "execution_count": 0,
      "outputs": [
        {
          "output_type": "execute_result",
          "data": {
            "text/plain": [
              "['univers', 'univers']"
            ]
          },
          "metadata": {
            "tags": []
          },
          "execution_count": 18
        }
      ]
    },
    {
      "cell_type": "markdown",
      "metadata": {
        "id": "NZ6VDWYyIJtP",
        "colab_type": "text"
      },
      "source": [
        "3 examples above which have different meanings after stemming"
      ]
    },
    {
      "cell_type": "markdown",
      "metadata": {
        "id": "RvoRdlK2In3L",
        "colab_type": "text"
      },
      "source": [
        "Stemming and lemmatization are language dependent. Languages with more complex morphologies may show bigger benefits. For example, Sanskrit has a very [large number of verb forms](https://en.wikipedia.org/wiki/Sanskrit_verbs).\n",
        "\n"
      ]
    },
    {
      "cell_type": "markdown",
      "metadata": {
        "id": "OF0W87_oGOwG",
        "colab_type": "text"
      },
      "source": [
        "#### Spacy\n",
        "\n",
        "Stemming and lemmatization are implementation dependent.\n",
        "\n",
        "Spacy is a very modern & fast nlp library. Spacy is opinionated, in that it typically offers one highly optimized way to do something (whereas nltk offers a huge variety of ways, although they are usually not as optimized).\n",
        "\n",
        "You will need to install it.\n",
        "\n",
        "if you use conda:\n",
        "\n",
        "    conda install -c conda-forge spacy\n",
        "\n",
        "if you use pip:\n",
        "\n",
        "    pip install -U spacy\n",
        "\n",
        "You will then need to download the English model:\n",
        "\n",
        "    spacy -m download en_core_web_sm"
      ]
    },
    {
      "cell_type": "code",
      "metadata": {
        "id": "2FSddY0QEInA",
        "colab_type": "code",
        "colab": {}
      },
      "source": [
        "import spacy\n"
      ],
      "execution_count": 0,
      "outputs": []
    },
    {
      "cell_type": "code",
      "metadata": {
        "id": "CbRRzr-HGY3N",
        "colab_type": "code",
        "colab": {}
      },
      "source": [
        "from spacy.lemmatizer import Lemmatizer\n",
        "lemmatizer = Lemmatizer()\n"
      ],
      "execution_count": 0,
      "outputs": []
    },
    {
      "cell_type": "code",
      "metadata": {
        "id": "0LB2IPNcGiNh",
        "colab_type": "code",
        "outputId": "edc7dcff-7532-4bc6-df46-6ff07a82c575",
        "colab": {
          "base_uri": "https://localhost:8080/",
          "height": 34
        }
      },
      "source": [
        "[lemmatizer.lookup(word) for word in word_list]"
      ],
      "execution_count": 0,
      "outputs": [
        {
          "output_type": "execute_result",
          "data": {
            "text/plain": [
              "['feet', 'foot', 'foots', 'footing']"
            ]
          },
          "metadata": {
            "tags": []
          },
          "execution_count": 21
        }
      ]
    },
    {
      "cell_type": "markdown",
      "metadata": {
        "id": "FMIsfRuYGsl_",
        "colab_type": "text"
      },
      "source": [
        "Spacy doesn't offer a stemmer (since lemmatization is considered better-- this is an example of being opinionated!)\n",
        "\n"
      ]
    },
    {
      "cell_type": "code",
      "metadata": {
        "id": "-ogSZX5oJhK0",
        "colab_type": "code",
        "outputId": "410493ce-cbae-417c-8097-44c7d55cff9b",
        "colab": {
          "base_uri": "https://localhost:8080/",
          "height": 68
        }
      },
      "source": [
        "[lemmatizer.lookup(word) for word in word_list1],[lemmatizer.lookup(word) for word in word_list2],[lemmatizer.lookup(word) for word in word_list3]"
      ],
      "execution_count": 0,
      "outputs": [
        {
          "output_type": "execute_result",
          "data": {
            "text/plain": [
              "(['fly', 'flies', 'flying'],\n",
              " ['organize', 'organizes', 'organizing'],\n",
              " ['universe', 'university'])"
            ]
          },
          "metadata": {
            "tags": []
          },
          "execution_count": 22
        }
      ]
    },
    {
      "cell_type": "markdown",
      "metadata": {
        "id": "H1SUJCdbJrCU",
        "colab_type": "text"
      },
      "source": [
        "**Spacy lib handle confusing words better vs nltk**"
      ]
    },
    {
      "cell_type": "markdown",
      "metadata": {
        "id": "M1OUitTYJpAw",
        "colab_type": "text"
      },
      "source": [
        "Meanwhile, Stop words vary from library to library"
      ]
    },
    {
      "cell_type": "code",
      "metadata": {
        "id": "-0rIM3m0GozO",
        "colab_type": "code",
        "colab": {}
      },
      "source": [
        "nlp = spacy.load('en_core_web_sm')"
      ],
      "execution_count": 0,
      "outputs": []
    },
    {
      "cell_type": "code",
      "metadata": {
        "id": "_KvEARqaG3J_",
        "colab_type": "code",
        "outputId": "f620c118-e078-44e0-d63b-12ceba66f89b",
        "colab": {
          "base_uri": "https://localhost:8080/",
          "height": 357
        }
      },
      "source": [
        "sorted(list(nlp.Defaults.stop_words))[:20]"
      ],
      "execution_count": 0,
      "outputs": [
        {
          "output_type": "execute_result",
          "data": {
            "text/plain": [
              "[\"'d\",\n",
              " \"'ll\",\n",
              " \"'m\",\n",
              " \"'re\",\n",
              " \"'s\",\n",
              " \"'ve\",\n",
              " 'a',\n",
              " 'about',\n",
              " 'above',\n",
              " 'across',\n",
              " 'after',\n",
              " 'afterwards',\n",
              " 'again',\n",
              " 'against',\n",
              " 'all',\n",
              " 'almost',\n",
              " 'alone',\n",
              " 'along',\n",
              " 'already',\n",
              " 'also']"
            ]
          },
          "metadata": {
            "tags": []
          },
          "execution_count": 24
        }
      ]
    },
    {
      "cell_type": "markdown",
      "metadata": {
        "id": "g50i704oKVj1",
        "colab_type": "text"
      },
      "source": [
        "**Exercise: What stop words appear in spacy but not in sklearn?**"
      ]
    },
    {
      "cell_type": "code",
      "metadata": {
        "id": "vTQ12eKcG-V2",
        "colab_type": "code",
        "outputId": "8a50cd67-d695-4b5f-ebb4-eef73d0499e2",
        "colab": {
          "base_uri": "https://localhost:8080/",
          "height": 612
        }
      },
      "source": [
        "nlp.Defaults.stop_words - stop_words.ENGLISH_STOP_WORDS"
      ],
      "execution_count": 0,
      "outputs": [
        {
          "output_type": "execute_result",
          "data": {
            "text/plain": [
              "{\"'d\",\n",
              " \"'ll\",\n",
              " \"'m\",\n",
              " \"'re\",\n",
              " \"'s\",\n",
              " \"'ve\",\n",
              " 'ca',\n",
              " 'did',\n",
              " 'does',\n",
              " 'doing',\n",
              " 'just',\n",
              " 'make',\n",
              " \"n't\",\n",
              " 'n‘t',\n",
              " 'n’t',\n",
              " 'quite',\n",
              " 'really',\n",
              " 'regarding',\n",
              " 'say',\n",
              " 'unless',\n",
              " 'used',\n",
              " 'using',\n",
              " 'various',\n",
              " '‘d',\n",
              " '‘ll',\n",
              " '‘m',\n",
              " '‘re',\n",
              " '‘s',\n",
              " '‘ve',\n",
              " '’d',\n",
              " '’ll',\n",
              " '’m',\n",
              " '’re',\n",
              " '’s',\n",
              " '’ve'}"
            ]
          },
          "metadata": {
            "tags": []
          },
          "execution_count": 25
        }
      ]
    },
    {
      "cell_type": "markdown",
      "metadata": {
        "id": "xGwvFkFzKaMr",
        "colab_type": "text"
      },
      "source": [
        "**Exercise: And what stop words are in sklearn but not spacy?**"
      ]
    },
    {
      "cell_type": "code",
      "metadata": {
        "id": "QFCdz7_-Km0D",
        "colab_type": "code",
        "outputId": "d3d9adc7-963c-4b0c-eccf-06725efa223e",
        "colab": {
          "base_uri": "https://localhost:8080/",
          "height": 476
        }
      },
      "source": [
        "stop_words.ENGLISH_STOP_WORDS - nlp.Defaults.stop_words"
      ],
      "execution_count": 0,
      "outputs": [
        {
          "output_type": "execute_result",
          "data": {
            "text/plain": [
              "frozenset({'amoungst',\n",
              "           'bill',\n",
              "           'cant',\n",
              "           'co',\n",
              "           'con',\n",
              "           'couldnt',\n",
              "           'cry',\n",
              "           'de',\n",
              "           'describe',\n",
              "           'detail',\n",
              "           'eg',\n",
              "           'etc',\n",
              "           'fill',\n",
              "           'find',\n",
              "           'fire',\n",
              "           'found',\n",
              "           'hasnt',\n",
              "           'ie',\n",
              "           'inc',\n",
              "           'interest',\n",
              "           'ltd',\n",
              "           'mill',\n",
              "           'sincere',\n",
              "           'system',\n",
              "           'thick',\n",
              "           'thin',\n",
              "           'un'})"
            ]
          },
          "metadata": {
            "tags": []
          },
          "execution_count": 26
        }
      ]
    },
    {
      "cell_type": "markdown",
      "metadata": {
        "id": "B8sKA5c6X3hJ",
        "colab_type": "text"
      },
      "source": [
        "#### When to use these?\n",
        "\n",
        "![alt text](https://github.com/fastai/course-nlp/raw/85e505295efeed88ce61dc0ff5e424bde9741a15/images/skomoroch.png)\n",
        "\n",
        "These were long considered standard techniques, but **they can often hurt your performance if using deep learning**. Stemming, lemmatization, and removing stop words all involve throwing away information.\n",
        "\n",
        "However, they can still be useful when working with simpler models."
      ]
    },
    {
      "cell_type": "markdown",
      "metadata": {
        "id": "cPDlxxcWYQ9I",
        "colab_type": "text"
      },
      "source": [
        "#### Another approach: sub-word units\n",
        "\n",
        "[SentencePiece](https://github.com/google/sentencepiece) library from Google\n",
        "\n",
        "SentencePiece is an unsupervised text tokenizer and detokenizer mainly for Neural Network-based text generation systems where the vocabulary size is predetermined prior to the neural model training. SentencePiece implements subword units (e.g., byte-pair-encoding (BPE) [Sennrich et al.]) and unigram language model [Kudo.]) with the extension of direct training from raw sentences. SentencePiece allows us to make a purely end-to-end system that does not depend on language-specific pre/postprocessing."
      ]
    },
    {
      "cell_type": "markdown",
      "metadata": {
        "id": "Z66rj3uvY8jW",
        "colab_type": "text"
      },
      "source": [
        "##Data Processing [22:41](https://youtu.be/tG3pUwmGjsc?t=1361)\n",
        "\n",
        "Next, scikit learn has a method that will extract all the word counts for us. In the next lesson, we'll learn how to write our own version of CountVectorizer, to see what's happening underneath the hood."
      ]
    },
    {
      "cell_type": "code",
      "metadata": {
        "id": "ppzQEAmOK1WG",
        "colab_type": "code",
        "colab": {}
      },
      "source": [
        "from sklearn.feature_extraction.text import CountVectorizer, TfidfVectorizer"
      ],
      "execution_count": 0,
      "outputs": []
    },
    {
      "cell_type": "code",
      "metadata": {
        "id": "Hw0CGG7DcVHc",
        "colab_type": "code",
        "colab": {}
      },
      "source": [
        "import nltk\n",
        "# nltk.download('punkt')"
      ],
      "execution_count": 0,
      "outputs": []
    },
    {
      "cell_type": "code",
      "metadata": {
        "id": "ZJYstXMPcfOw",
        "colab_type": "code",
        "colab": {}
      },
      "source": [
        "vectorizer = CountVectorizer(stop_words = 'english')"
      ],
      "execution_count": 0,
      "outputs": []
    },
    {
      "cell_type": "markdown",
      "metadata": {
        "id": "F0jUjjBEeZx_",
        "colab_type": "text"
      },
      "source": [
        "We are creating vectors , we have the shape of 2034 x 26576\n",
        "\n",
        "- 2034 : the number of posting on reddit\n",
        "- 26576 : the number of words or tokens"
      ]
    },
    {
      "cell_type": "code",
      "metadata": {
        "id": "tyjZR503dku0",
        "colab_type": "code",
        "outputId": "bf17a00a-3da1-4e8d-cece-942dd7b6f106",
        "colab": {
          "base_uri": "https://localhost:8080/",
          "height": 34
        }
      },
      "source": [
        "vectors = vectorizer.fit_transform(newsgroups_train.data).todense()\n",
        "vectors.shape"
      ],
      "execution_count": 0,
      "outputs": [
        {
          "output_type": "execute_result",
          "data": {
            "text/plain": [
              "(2034, 26576)"
            ]
          },
          "metadata": {
            "tags": []
          },
          "execution_count": 31
        }
      ]
    },
    {
      "cell_type": "code",
      "metadata": {
        "id": "y3GmFIMUd7et",
        "colab_type": "code",
        "outputId": "6eea6fa9-ff71-44bf-b9fe-9aeb452d5ef4",
        "colab": {
          "base_uri": "https://localhost:8080/",
          "height": 34
        }
      },
      "source": [
        "print(len(newsgroups_train.data),vectors.shape)"
      ],
      "execution_count": 0,
      "outputs": [
        {
          "output_type": "stream",
          "text": [
            "2034 (2034, 26576)\n"
          ],
          "name": "stdout"
        }
      ]
    },
    {
      "cell_type": "markdown",
      "metadata": {
        "id": "Zsp7JogthF-L",
        "colab_type": "text"
      },
      "source": [
        "Now you can look at our vocab so vectorizer.get_feature_names gives a list of words"
      ]
    },
    {
      "cell_type": "code",
      "metadata": {
        "id": "itlOq7ineBcD",
        "colab_type": "code",
        "colab": {}
      },
      "source": [
        "vocab = np.array(vectorizer.get_feature_names())"
      ],
      "execution_count": 0,
      "outputs": []
    },
    {
      "cell_type": "code",
      "metadata": {
        "id": "VXa13BqohRrA",
        "colab_type": "code",
        "outputId": "505d791b-c55c-4cb9-ec56-6d853693179e",
        "colab": {
          "base_uri": "https://localhost:8080/",
          "height": 34
        }
      },
      "source": [
        "vocab.shape"
      ],
      "execution_count": 0,
      "outputs": [
        {
          "output_type": "execute_result",
          "data": {
            "text/plain": [
              "(26576,)"
            ]
          },
          "metadata": {
            "tags": []
          },
          "execution_count": 35
        }
      ]
    },
    {
      "cell_type": "code",
      "metadata": {
        "id": "q9EaD-ZFhSlt",
        "colab_type": "code",
        "outputId": "76a6009c-6dfb-455f-8af6-4883daf96037",
        "colab": {
          "base_uri": "https://localhost:8080/",
          "height": 85
        }
      },
      "source": [
        "vocab[7000:7020]"
      ],
      "execution_count": 0,
      "outputs": [
        {
          "output_type": "execute_result",
          "data": {
            "text/plain": [
              "array(['cosmonauts', 'cosmos', 'cosponsored', 'cost', 'costa', 'costar',\n",
              "       'costing', 'costly', 'costruction', 'costs', 'cosy', 'cote',\n",
              "       'couched', 'couldn', 'council', 'councils', 'counsel',\n",
              "       'counselees', 'counselor', 'count'], dtype='<U80')"
            ]
          },
          "metadata": {
            "tags": []
          },
          "execution_count": 36
        }
      ]
    },
    {
      "cell_type": "markdown",
      "metadata": {
        "id": "FWfr776KiEhd",
        "colab_type": "text"
      },
      "source": [
        "- rows is the list of words while columns is list of document. The approach using called tf-idf takes into account of how many words in each document and how rare these words are \n",
        "\n",
        "- With SVD approach, it's going to give you 3 matrices :\n",
        "    - U is the documents by the topics\n",
        "    - S is singular values : telling kind of importance or scale of each topic . S is also diagonal matrix\n",
        "    - V relates topics to vocabulary words "
      ]
    },
    {
      "cell_type": "markdown",
      "metadata": {
        "id": "qbyuz_nsk0uN",
        "colab_type": "text"
      },
      "source": [
        "#### Singular Value Decomposition (SVD)\n",
        "\n",
        "\"SVD is not nearly as famous as it should be.\" - Gilbert Strang\n",
        "\n",
        "We would clearly expect that the words that appear most frequently in one topic would appear less frequently in the other - otherwise that word wouldn't make a good choice to separate out the two topics. Therefore, we expect the topics to be **orthogonal**.\n",
        "\n",
        "The SVD algorithm factorizes a matrix into one matrix with **orthogonal columns** and one with **orthogonal rows** (along with a diagonal matrix, which contains the **relative importance** of each factor).\n",
        "\n",
        "![alt text](https://github.com/fastai/course-nlp/raw/85e505295efeed88ce61dc0ff5e424bde9741a15/images/svd_fb.png)\n",
        "\n",
        "(source: [Facebook Research: Fast Randomized SVD](https://research.fb.com/fast-randomized-svd/))\n",
        "\n",
        "SVD is an **exact decomposition**, since the matrices it creates are big enough to fully cover the original matrix. SVD is extremely widely used in linear algebra, and specifically in data science, including:\n",
        "\n",
        "- semantic analysis\n",
        "- collaborative filtering/recommendations ([winning entry for Netflix Prize](https://datajobs.com/data-science-repo/Recommender-Systems-%5BNetflix%5D.pdf))\n",
        "- calculate Moore-Penrose pseudoinverse\n",
        "- data compression\n",
        "- principal component analysis\n",
        "\n",
        "Latent Semantic Analysis (LSA) uses SVD. You will sometimes hear topic modelling referred to as LSA."
      ]
    },
    {
      "cell_type": "code",
      "metadata": {
        "id": "HmiO8QMvhmQ5",
        "colab_type": "code",
        "outputId": "5cd2c359-53d8-4da9-ba1c-5f918bfedafa",
        "colab": {
          "base_uri": "https://localhost:8080/",
          "height": 51
        }
      },
      "source": [
        "%time U,s,Vh = linalg.svd(vectors,full_matrices=False)"
      ],
      "execution_count": 0,
      "outputs": [
        {
          "output_type": "stream",
          "text": [
            "CPU times: user 1min 35s, sys: 5.57 s, total: 1min 41s\n",
            "Wall time: 52 s\n"
          ],
          "name": "stdout"
        }
      ]
    },
    {
      "cell_type": "code",
      "metadata": {
        "id": "TMXT97yemQB1",
        "colab_type": "code",
        "outputId": "a4f78ece-198c-4e45-ee1b-3387b303d2d9",
        "colab": {
          "base_uri": "https://localhost:8080/",
          "height": 34
        }
      },
      "source": [
        "U.shape,s.shape,Vh.shape"
      ],
      "execution_count": 0,
      "outputs": [
        {
          "output_type": "execute_result",
          "data": {
            "text/plain": [
              "((2034, 2034), (2034,), (2034, 26576))"
            ]
          },
          "metadata": {
            "tags": []
          },
          "execution_count": 38
        }
      ]
    },
    {
      "cell_type": "markdown",
      "metadata": {
        "id": "Gv8mzoxdqyJg",
        "colab_type": "text"
      },
      "source": [
        "**Excercise:** confirm that U,s,Vh is a decomposition of vectors"
      ]
    },
    {
      "cell_type": "code",
      "metadata": {
        "id": "CoQRPyvwmT2Y",
        "colab_type": "code",
        "outputId": "3975478f-4fb1-4d98-9ac7-d5f9188f037c",
        "colab": {
          "base_uri": "https://localhost:8080/",
          "height": 34
        }
      },
      "source": [
        "reconstructed_vectors = U @ np.diag(s) @ Vh\n",
        "np.linalg.norm(reconstructed_vectors - vectors) #\n",
        "np.allclose(reconstructed_vectors,vectors) # "
      ],
      "execution_count": 0,
      "outputs": [
        {
          "output_type": "execute_result",
          "data": {
            "text/plain": [
              "True"
            ]
          },
          "metadata": {
            "tags": []
          },
          "execution_count": 46
        }
      ]
    },
    {
      "cell_type": "markdown",
      "metadata": {
        "id": "04Hn5elvofxI",
        "colab_type": "text"
      },
      "source": [
        "the tricky part of reconstructing the vector is **s matrix** which has the shape of (2034,), meaning it's just one dimensional vector. So numpy has **np.diag** that will turn a 1d array into a matrix or if you put a matrix into it then the function will pull off the diagonal and give you back the 1d array. For example, let use the first 4 entries of s.\n",
        "\n",
        "We have 1d- array with 4 numbers "
      ]
    },
    {
      "cell_type": "code",
      "metadata": {
        "id": "Lf2UUKbGqDE_",
        "colab_type": "code",
        "outputId": "fafa2baa-aa5f-4fe5-b761-25e414a5a5bb",
        "colab": {
          "base_uri": "https://localhost:8080/",
          "height": 34
        }
      },
      "source": [
        "s[:4]"
      ],
      "execution_count": 0,
      "outputs": [
        {
          "output_type": "execute_result",
          "data": {
            "text/plain": [
              "array([433.92698542, 291.51012741, 240.71137677, 220.00048043])"
            ]
          },
          "metadata": {
            "tags": []
          },
          "execution_count": 43
        }
      ]
    },
    {
      "cell_type": "markdown",
      "metadata": {
        "id": "poIpFUqHqQy9",
        "colab_type": "text"
      },
      "source": [
        "We put in it into **np.diag** then we have 4x4 matrix"
      ]
    },
    {
      "cell_type": "code",
      "metadata": {
        "id": "aipjOwownuWx",
        "colab_type": "code",
        "outputId": "66733ae6-d0b3-4624-9482-00cfe31e103a",
        "colab": {
          "base_uri": "https://localhost:8080/",
          "height": 85
        }
      },
      "source": [
        "np.diag(s[:4])"
      ],
      "execution_count": 0,
      "outputs": [
        {
          "output_type": "execute_result",
          "data": {
            "text/plain": [
              "array([[433.92698542,   0.        ,   0.        ,   0.        ],\n",
              "       [  0.        , 291.51012741,   0.        ,   0.        ],\n",
              "       [  0.        ,   0.        , 240.71137677,   0.        ],\n",
              "       [  0.        ,   0.        ,   0.        , 220.00048043]])"
            ]
          },
          "metadata": {
            "tags": []
          },
          "execution_count": 42
        }
      ]
    },
    {
      "cell_type": "markdown",
      "metadata": {
        "id": "rgkGit_bqZvK",
        "colab_type": "text"
      },
      "source": [
        "and if we put it back to np.diag again, it would turn back into 1d array"
      ]
    },
    {
      "cell_type": "code",
      "metadata": {
        "id": "6BvTs2q6p0ak",
        "colab_type": "code",
        "outputId": "8e14c66c-3bbd-44df-8a57-b8f32213f0bf",
        "colab": {
          "base_uri": "https://localhost:8080/",
          "height": 34
        }
      },
      "source": [
        "np.diag(np.diag(s[:4]))"
      ],
      "execution_count": 0,
      "outputs": [
        {
          "output_type": "execute_result",
          "data": {
            "text/plain": [
              "array([433.92698542, 291.51012741, 240.71137677, 220.00048043])"
            ]
          },
          "metadata": {
            "tags": []
          },
          "execution_count": 44
        }
      ]
    },
    {
      "cell_type": "markdown",
      "metadata": {
        "id": "L3jhtnw3rSe3",
        "colab_type": "text"
      },
      "source": [
        "Now we reconstruct the vectors"
      ]
    },
    {
      "cell_type": "code",
      "metadata": {
        "id": "nHi8cdllqien",
        "colab_type": "code",
        "colab": {}
      },
      "source": [
        "reconstructed_vectors = U @ np.diag(s) @ Vh\n"
      ],
      "execution_count": 0,
      "outputs": []
    },
    {
      "cell_type": "markdown",
      "metadata": {
        "id": "RXDlzFFQrWl3",
        "colab_type": "text"
      },
      "source": [
        "Then we have two ways to check:\n",
        "\n",
        "- Look the norm of the difference of the two and see that at zero"
      ]
    },
    {
      "cell_type": "code",
      "metadata": {
        "id": "WJZscoHErk97",
        "colab_type": "code",
        "outputId": "255b3de2-429e-4998-bee0-b25df66aa8d1",
        "colab": {
          "base_uri": "https://localhost:8080/",
          "height": 34
        }
      },
      "source": [
        "np.linalg.norm(reconstructed_vectors - vectors)"
      ],
      "execution_count": 0,
      "outputs": [
        {
          "output_type": "execute_result",
          "data": {
            "text/plain": [
              "3.0400655704971045e-12"
            ]
          },
          "metadata": {
            "tags": []
          },
          "execution_count": 48
        }
      ]
    },
    {
      "cell_type": "markdown",
      "metadata": {
        "id": "Zb333WZErqcm",
        "colab_type": "text"
      },
      "source": [
        "- Use np.allclose to check "
      ]
    },
    {
      "cell_type": "code",
      "metadata": {
        "id": "fXqpQ1Scro2D",
        "colab_type": "code",
        "outputId": "6e47590b-0dc1-4e16-c2e9-91829c5ad409",
        "colab": {
          "base_uri": "https://localhost:8080/",
          "height": 34
        }
      },
      "source": [
        "np.allclose(reconstructed_vectors, vectors)"
      ],
      "execution_count": 0,
      "outputs": [
        {
          "output_type": "execute_result",
          "data": {
            "text/plain": [
              "True"
            ]
          },
          "metadata": {
            "tags": []
          },
          "execution_count": 49
        }
      ]
    },
    {
      "cell_type": "markdown",
      "metadata": {
        "id": "ruSY0iQVr_cz",
        "colab_type": "text"
      },
      "source": [
        "**Excercise**: Confirm U , V are orthonormal"
      ]
    },
    {
      "cell_type": "code",
      "metadata": {
        "id": "Zzq8hwP2rzMd",
        "colab_type": "code",
        "outputId": "90028e45-01aa-43f4-e13f-9e74d7be56f5",
        "colab": {
          "base_uri": "https://localhost:8080/",
          "height": 34
        }
      },
      "source": [
        "np.allclose(U.T @ U, np.eye(U.shape[0]))\n",
        "np.allclose(Vh @ Vh.T, np.eye(Vh.shape[0]))"
      ],
      "execution_count": 0,
      "outputs": [
        {
          "output_type": "execute_result",
          "data": {
            "text/plain": [
              "True"
            ]
          },
          "metadata": {
            "tags": []
          },
          "execution_count": 50
        }
      ]
    },
    {
      "cell_type": "markdown",
      "metadata": {
        "id": "3JiBnroms365",
        "colab_type": "text"
      },
      "source": [
        "with U matrix, the columns are orthonormal so you put the transpose first to get  rows by columns\n",
        "\n",
        "V matrix, the rows are orthonormal "
      ]
    },
    {
      "cell_type": "markdown",
      "metadata": {
        "id": "bNNseHUetWf2",
        "colab_type": "text"
      },
      "source": [
        "##### Topics\n",
        "\n",
        "What can we say about the singular values s ?\n",
        "\n",
        "As we can see in the plot below, they are non-negative and they are decreasing very quickly"
      ]
    },
    {
      "cell_type": "code",
      "metadata": {
        "id": "o6mAl9vWssXN",
        "colab_type": "code",
        "outputId": "2de6dc86-8cde-4580-cd50-31547499514a",
        "colab": {
          "base_uri": "https://localhost:8080/",
          "height": 286
        }
      },
      "source": [
        "plt.plot(s)"
      ],
      "execution_count": 0,
      "outputs": [
        {
          "output_type": "execute_result",
          "data": {
            "text/plain": [
              "[<matplotlib.lines.Line2D at 0x7f32312369e8>]"
            ]
          },
          "metadata": {
            "tags": []
          },
          "execution_count": 51
        },
        {
          "output_type": "display_data",
          "data": {
            "image/png": "[encoded data removed]",
            "text/plain": [
              "<Figure size 432x288 with 1 Axes>"
            ]
          },
          "metadata": {
            "tags": []
          }
        }
      ]
    },
    {
      "cell_type": "markdown",
      "metadata": {
        "id": "7res0omYtto-",
        "colab_type": "text"
      },
      "source": [
        "To remind, the singular value is telling you the importance of topics. "
      ]
    },
    {
      "cell_type": "code",
      "metadata": {
        "id": "-uLgOLlUtqQA",
        "colab_type": "code",
        "outputId": "7ac05105-39ae-43fa-a433-0158f219da40",
        "colab": {
          "base_uri": "https://localhost:8080/",
          "height": 287
        }
      },
      "source": [
        "plt.plot(s[:10])"
      ],
      "execution_count": 0,
      "outputs": [
        {
          "output_type": "execute_result",
          "data": {
            "text/plain": [
              "[<matplotlib.lines.Line2D at 0x7f32311f1f28>]"
            ]
          },
          "metadata": {
            "tags": []
          },
          "execution_count": 52
        },
        {
          "output_type": "display_data",
          "data": {
            "image/png": "[encoded data removed]",
            "text/plain": [
              "<Figure size 432x288 with 1 Axes>"
            ]
          },
          "metadata": {
            "tags": []
          }
        }
      ]
    },
    {
      "cell_type": "markdown",
      "metadata": {
        "id": "9V6_idmNt9zb",
        "colab_type": "text"
      },
      "source": [
        "Note that other dimension is topics because we are doing topic modeling, you could be doing SVD on a different application. \n",
        "\n",
        "Here we will see what the topics. We create a function that go through the vocab and choose the largest values to be the top words for each topic. \n",
        "\n",
        "[42:14](https://youtu.be/tG3pUwmGjsc?t=2534)\n",
        "\n",
        "[add excel pic]\n",
        "\n",
        "Here each topic involves a liitle bit of every single word in the vocabulary. To get something meaningful out of this, we check out few words with the highest values here and assign those to be the words for the topic.\n"
      ]
    },
    {
      "cell_type": "code",
      "metadata": {
        "id": "UZ2AYFgdt3NK",
        "colab_type": "code",
        "colab": {}
      },
      "source": [
        "num_top_words = 8\n",
        "\n",
        "def show_topics(a):\n",
        "    top_words = lambda t: [vocab[i] for i in np.argsort(t)[:-num_top_words-1:-1]]\n",
        "    topic_words =([top_words(t) for t in a])\n",
        "    return [' '.join(t) for t in topic_words]"
      ],
      "execution_count": 0,
      "outputs": []
    },
    {
      "cell_type": "code",
      "metadata": {
        "id": "8RcqzIkDO4b1",
        "colab_type": "code",
        "colab": {
          "base_uri": "https://localhost:8080/",
          "height": 187
        },
        "outputId": "04a1e37e-fd37-47b4-9e33-9ef022f6cad9"
      },
      "source": [
        "show_topics(Vh[:10])"
      ],
      "execution_count": 54,
      "outputs": [
        {
          "output_type": "execute_result",
          "data": {
            "text/plain": [
              "['ditto critus propagandist surname galacticentric kindergarten surreal imaginative',\n",
              " 'jpeg gif file color quality image jfif format',\n",
              " 'graphics edu pub mail 128 3d ray ftp',\n",
              " 'jesus god matthew people atheists atheism does graphics',\n",
              " 'image data processing analysis software available tools display',\n",
              " 'god atheists atheism religious believe religion argument true',\n",
              " 'space nasa lunar mars probe moon missions probes',\n",
              " 'image probe surface lunar mars probes moon orbit',\n",
              " 'argument fallacy conclusion example true ad argumentum premises',\n",
              " 'space larson image theory universe physical nasa material']"
            ]
          },
          "metadata": {
            "tags": []
          },
          "execution_count": 54
        }
      ]
    },
    {
      "cell_type": "markdown",
      "metadata": {
        "id": "hfZGWYw2PkQj",
        "colab_type": "text"
      },
      "source": [
        "- 'ditto critus propagandist surname galacticentric kindergarten surreal imaginative' -> it seem we cannot what topic it is\n",
        "- 'jpeg gif file color quality image jfif format' -> topic maybe regarding to graphic\n",
        "- 'space nasa lunar mars probe moon missions probes', -> space "
      ]
    },
    {
      "cell_type": "markdown",
      "metadata": {
        "id": "OMkDwQ0SQa2m",
        "colab_type": "text"
      },
      "source": [
        "We get topics that match the kinds of clusters we would expect! This is despite the fact that this is an unsupervised algorithm - which is to say, we never actually told the algorithm how our documents are grouped.\n",
        "\n",
        "We will return to SVD in much more detail later. For now, the important takeaway is that we have a tool that allows us to exactly factor a matrix into orthogonal columns and orthogonal rows."
      ]
    },
    {
      "cell_type": "markdown",
      "metadata": {
        "id": "F-BCLxkDRwnc",
        "colab_type": "text"
      },
      "source": [
        "#### Non-negative Matrix Factorization (NMF)\n",
        "\n",
        "NMF is a different matrix factorization"
      ]
    },
    {
      "cell_type": "markdown",
      "metadata": {
        "id": "iM7stoNWSAX4",
        "colab_type": "text"
      },
      "source": [
        "##### Motivation of NMF \n",
        "\n",
        "What a negative values mean in a lots of context. People like NMF for its interpretability\n",
        "\n",
        "This is looking at an image problem of decomposing faces into different components . This is also something  we call topics because we're doing topic modeling -> different components of the face\n",
        "\n",
        "![alt text](https://github.com/fastai/course-nlp/raw/85e505295efeed88ce61dc0ff5e424bde9741a15/images/face_pca.png)\n",
        "\n",
        "(source: [NMF Tutorial](http://perso.telecom-paristech.fr/~essid/teach/NMF_tutorial_ICME-2014.pdf))\n",
        "\n",
        "A more interpretable approach:\n",
        "\n",
        "![alt text](https://github.com/fastai/course-nlp/raw/85e505295efeed88ce61dc0ff5e424bde9741a15/images/face_outputs.png)"
      ]
    },
    {
      "cell_type": "markdown",
      "metadata": {
        "id": "uqUNxdwZUqPw",
        "colab_type": "text"
      },
      "source": [
        "##### Idea\n",
        "\n",
        "Rather than constraining our factors to be orthogonal, another idea would to constrain them to be non-negative. NMF is a factorization of a non-negative data set $V$: $$ V = W H$$ into non-negative matrices $W,\\; H$. **Often positive factors will be more easily interpretable** (and this is the reason behind NMF's popularity).\n",
        "\n",
        "Data is often non-negative by nature\n",
        "\n",
        "    • pixel intensities;\n",
        "    • amplitude spectra;\n",
        "    • occurrence counts;\n",
        "    • food or energy consumption;\n",
        "    • user scores;\n",
        "    • stock market values;\n",
        "    \n",
        "For the sake of interpretability of the results, optimal processing of\n",
        "nonnegative data may call for processing under nonnegativity\n",
        "constraints.\n",
        "\n",
        "![alt text](https://github.com/fastai/course-nlp/raw/85e505295efeed88ce61dc0ff5e424bde9741a15/images/face_nmf.png)\n",
        "\n",
        "Nonnegative matrix factorization (NMF) is a non-exact factorization that factors into one skinny positive matrix and one short positive matrix. NMF is NP-hard and non-unique. There are a number of variations on it, created by adding different constraints."
      ]
    },
    {
      "cell_type": "markdown",
      "metadata": {
        "id": "T8_FqavuVnig",
        "colab_type": "text"
      },
      "source": [
        "##### Applications of NMF\n",
        "\n",
        "- [Face Decompositions](http://scikit-learn.org/stable/auto_examples/decomposition/plot_faces_decomposition.html#sphx-glr-auto-examples-decomposition-plot-faces-decomposition-py)\n",
        "- [Collaborative Filtering, eg movie recommendations](http://www.quuxlabs.com/blog/2010/09/matrix-factorization-a-simple-tutorial-and-implementation-in-python/)\n",
        "- [Audio source separation](https://pdfs.semanticscholar.org/cc88/0b24791349df39c5d9b8c352911a0417df34.pdf)\n",
        "- [Chemistry](http://ieeexplore.ieee.org/document/1532909/)\n",
        "- [Bioinformatics](https://bmcbioinformatics.biomedcentral.com/articles/10.1186/s12859-015-0485-4) and [Gene Expression](https://www.ncbi.nlm.nih.gov/pmc/articles/PMC2623306/)\n",
        "- Topic Modeling (our problem!)\n",
        "\n",
        "![alt text](https://github.com/fastai/course-nlp/raw/85e505295efeed88ce61dc0ff5e424bde9741a15/images/nmf_doc.png)\n",
        "\n",
        "More Reading:\n",
        "\n",
        "   -[The Why and How of Nonnegative Matrix Factorization](https://arxiv.org/pdf/1401.5226.pdf)"
      ]
    },
    {
      "cell_type": "markdown",
      "metadata": {
        "id": "iasenli6Yorb",
        "colab_type": "text"
      },
      "source": [
        "##### NMF from sklearn\n",
        "\n",
        "We will use scikit-learn's implementation of NMF:"
      ]
    },
    {
      "cell_type": "code",
      "metadata": {
        "id": "HMadpLzWO9bC",
        "colab_type": "code",
        "colab": {}
      },
      "source": [
        "m,n = vectors.shape\n",
        "d =5 # num_topics\n"
      ],
      "execution_count": 0,
      "outputs": []
    },
    {
      "cell_type": "markdown",
      "metadata": {
        "id": "EJ4cQtwbZg4h",
        "colab_type": "text"
      },
      "source": [
        "the number of topics is a hyperparameter which you have to guess and this is thing you might want to try different things.\n",
        "\n",
        "**Question**: is there any metric or a graph to evaluate what the number of topics is good for the model?\n",
        "\n",
        "   **Rachel:** This is hard because this is an unsupervised problem. Usually we dont have the grouth truth of what the truth topics are. So in this case, we don't know. In practice, if you are working on this type of problem, you want to do exploratory data analysis (EDA) to see how many topics does this look like to me, try and figure if these topics are reasonable together"
      ]
    },
    {
      "cell_type": "code",
      "metadata": {
        "id": "gTeJXdzTY5MD",
        "colab_type": "code",
        "colab": {}
      },
      "source": [
        "clf = decomposition.NMF(n_components=d, random_state=1)\n",
        "\n",
        "W1 = clf.fit_transform(vectors) # return the first matrix W\n",
        "H1 = clf.components_ # how to access the second matrix H"
      ],
      "execution_count": 0,
      "outputs": []
    },
    {
      "cell_type": "code",
      "metadata": {
        "id": "ospOCY4TZMT8",
        "colab_type": "code",
        "colab": {
          "base_uri": "https://localhost:8080/",
          "height": 102
        },
        "outputId": "3cf23079-c6fd-44be-e43d-c410fbc9c6e8"
      },
      "source": [
        "show_topics(H1)"
      ],
      "execution_count": 57,
      "outputs": [
        {
          "output_type": "execute_result",
          "data": {
            "text/plain": [
              "['jpeg image gif file color images format quality',\n",
              " 'edu graphics pub mail 128 ray ftp send',\n",
              " 'space launch satellite nasa commercial satellites year market',\n",
              " 'jesus god people matthew atheists does atheism said',\n",
              " 'image data available software processing ftp edu analysis']"
            ]
          },
          "metadata": {
            "tags": []
          },
          "execution_count": 57
        }
      ]
    },
    {
      "cell_type": "markdown",
      "metadata": {
        "id": "YItoGKxGbu07",
        "colab_type": "text"
      },
      "source": [
        "'jpeg image gif file color images format quality' -> graphic\n",
        "\n",
        " 'edu graphics pub mail 128 ray ftp send' ->graphic\n",
        " \n",
        " 'space launch satellite nasa commercial satellites year market' -> space\n",
        " \n",
        " 'jesus god people matthew atheists does atheism said ->religion\n",
        " \n",
        " 'image data available software processing ftp edu analysis' ->\n",
        "\n"
      ]
    },
    {
      "cell_type": "markdown",
      "metadata": {
        "id": "DEfQLNCjfPq7",
        "colab_type": "text"
      },
      "source": [
        "#### TF-IDF\n",
        "\n",
        "Topic Frequency-Inverse Document Frequency (TF-IDF) is a way to normalize term counts by taking into account how often they appear in a document, how long the document is, and how commmon/rare the term is.\n",
        "\n",
        "TF = (# occurrences of term t in document) / (# of words in documents)\n",
        "\n",
        "IDF = log(# of documents / # documents with term t in it)"
      ]
    },
    {
      "cell_type": "code",
      "metadata": {
        "id": "al_LMqhSfOmr",
        "colab_type": "code",
        "colab": {}
      },
      "source": [
        "vectorizer_tfidf = TfidfVectorizer(stop_words='english')\n",
        "vectors_tfidf = vectorizer_tfidf.fit_transform(newsgroups_train.data) #(documents, vocab)"
      ],
      "execution_count": 0,
      "outputs": []
    },
    {
      "cell_type": "code",
      "metadata": {
        "id": "4Sh4uFsJhPS8",
        "colab_type": "code",
        "colab": {
          "base_uri": "https://localhost:8080/",
          "height": 207
        },
        "outputId": "c56c15de-0da8-47ad-addf-d50282f88d6b"
      },
      "source": [
        "newsgroups_train.data[10:20]"
      ],
      "execution_count": 64,
      "outputs": [
        {
          "output_type": "execute_result",
          "data": {
            "text/plain": [
              "[\"a\\n\\nWhat about positional uncertainties in S-L 1993e?   I assume we know where\\nand what Galileo is doing within a few meters.   But without the\\nHGA,  don't we have to have some pretty good ideas, of where to look\\nbefore imaging?  If the HGA was working,  they could slew around\\nin near real time (Less speed of light delay).  But when they were\\nimaging toutatis????  didn't someone have to get lucky on a guess to\\nfind the first images?   \\n\\nAlso, I imagine S-L 1993e will be mostly a visual image.  so how will\\nthat affect the other imaging missions.  with the LGA,  there is a real\\ntight allocation of bandwidth.   It may be premature to hope for answers,\\nbut I thought i'd throw it on the floor.\",\n",
              " \"I would like to program Tseng ET4000 to nonstandard 1024x768 mode by\\nswitching to standard 1024x768 mode using BIOS and than changing some\\ntiming details (0x3D4 registers 0x00-0x1F) but I don't know how to\\nselect 36 MHz pixel clock I need. The BIOS function selects 40 MHz.\\n\\nIs there anybody who knows where to obtain technical info about this.\\nI am also interested in any other technical information about Tseng ET4000\\nand Trident 8900 and 9000 chipsets.\\n\\n\\t\\t\\tthanks very much\",\n",
              " 'In-Reply-To: <20APR199312262902@rigel.tamu.edu> lmp8913@rigel.tamu.edu (PRESTON, LISA M)',\n",
              " \"\\n\\n\\n\\nI'm not sure, but it almost sounds like they can't figure out where the \\n_nucleus_ is within the coma. If they're off by a couple hundred\\nmiles, well, you can imagine the rest...\\n\",\n",
              " \"Hello,\\n     I am looking to add voice input capability to a user interface I am\\ndeveloping on an HP730 (UNIX) workstation.  I would greatly appreciate \\ninformation anyone would care to offer about voice input systems that are \\neasily accessible from the UNIX environment. \\n\\n     The names or adresses of applicable vendors, as well as any \\nexperiences you have had with specific systems, would be very helpful.\\n\\n     Please respond via email; I will post a summary if there is \\nsufficient interest.\\n\\n\\nThanks,\\nKen\\n\\n\\nP.S.  I have found several impressive systems for IBM PC's, but I would \\nlike to avoid the hassle of purchasing and maintaining a separate PC if \\nat all possible.\\n\\n-------------------------------------------------------------------------------\\nKen Hinckley (kph2q@virginia.edu)\\nUniversity of Virginia \\nNeurosurgical Visualization Laboratory\",\n",
              " '\\nIt was a test of the first reusable tool.\\n\\n\\nPointy so they can find them or so they will stick into their pants better, and\\nbe closer to their brains?',\n",
              " '\\nSize of armies, duration, numbers of casualties both absolute and as a\\npercentage of those involved, geographical area and numbers of countries\\ntoo, are all measures of size.  In this case I\\'d say the relevant\\nstatistic would be the number of combatants (total troops) compared to\\ntotal casualties from among the total civilian population in the\\naffected geographical area.\\n\\n\\nVietnam and Korea might make good comparisons.\\n\\n\\nWestern news in general, but in particular the American \"mass media\":\\nCBS, NBC, ABC, etc.  The general tone of the news during the whole\\nwar was one of \"those poor, poor Iraqis\" along with \"look how precisely\\nthis cruise missile blew this building to bits\".\\n\\n\\nI agree.\\n\\n\\nPerhaps so.  And maybe the atomic bomb was a mistake too.  But that\\'s easy\\nto say from our \"enlightened\" viewpoint here in the 90\\'s, right?  Back\\nthen, it was *all-out* war, and Germany and Japan had to be squashed.\\nAfter all, a million or more British had already died, hundreds of \\nthousands of French, a couple hundread thousand or so Americans, and \\nmillions of Russians, not to mention a few million Jews, Poles, and \\nother people of slavic descent in German concentration camps.  All \\nthings considered, the fire-bombings and the atomic bomb were\\nessential (and therefore justified) in bringing the war to a quick\\nend to avoid even greater allied losses.\\n\\nI, for one, don\\'t regret it.\\n\\n\\nSure.  And it\\'s the people who suffer because of them.  All the more\\nreason to depose these \"entrenched political rulers operating in their\\nown selfish interests\"!  Or do you mean that this applies to the allies\\nas well??\\n\\n\\nI make no claim or effort to justify the misguided foreign policy of the\\nWest before the war.  It is evident that the West, especially America,\\nmisjudged Hussein drastically.  But once Hussein invaded Kuwait and \\nthreatened to militarily corner a significant portion of the world\\'s\\noil supply, he had to be stopped.  Sure the war could have been\\nprevented by judicious and concerted effort on the part of the West\\nbefore Hussein invaded Kuwait, but it is still *Hussein* who is\\nresponsible for his decision to invade.  And once he did so, a\\nstrong response from the West was required.\\n\\n\\nWell, it\\'s not very \"loving\" to allow a Hussein or a Hitler to gobble up\\nnearby countries and keep them.  Or to allow them to continue with mass\\nslaughter of certain peoples under their dominion.  So, I\\'d have to\\nsay yes, stopping Hussein was the most \"loving\" thing to do for the\\nmost people involved once he set his mind on military conquest.\\n\\nI mentioned it.\\n\\nIf we hadn\\'t intervened, allowing Hussein to keep Kuwait, then it would\\nhave been appeasement.  It is precisely the lessons the world learned\\nin WW2 that motivated the Western alliance to war.  Letting Hitler take\\nAustria and Czechoslavkia did not stop WW2 from happening, and letting\\nHussein keep Kuwait would not have stopped an eventual Gulf War to\\nprotect Saudi Arabia.\\n\\n\\nSure.  What was truly unfortunate was that they followed Hitler in\\nhis grandiose quest for a \"Thousand Year Reich\".  The consequences\\nstemmed from that.\\n\\nWhat should I say about them?  Anything in particular?\\n\\n\\n\\nSo?  It was the *policemen* on trial not Rodney King!!  And under American\\nlaw they deserved a jury of *their* peers!  If there had been black\\nofficers involved, I\\'m sure their would have been black jurors too.\\nThis point (of allegedly racial motivations) is really shallow.\\n\\n\\nSo?  It\\'s \"hard to imagine\"?  So when has Argument from Incredulity\\ngained acceptance from the revered author of \"Constructing a Logical\\nArgument\"?  Can we expect another revision soon??  :)  (Just kidding.)\\n\\n\\nI have to admit that I wonder this too.  But *neither* the prosecution\\nnor the defense is talking.  So one cannot conclude either way due to\\nthe silence of the principals.  \\n\\n\\nOK.  It certainly seemed to me that there was excessive force involved.\\nAnd frankly, the original \"not guilty\" verdict baffled me too.  But then\\nI learned that the prosecution in the first case did not try to convict\\non a charge of excessive force or simple assault which they probably\\nwould have won, they tried to get a conviction on a charge of aggravated\\nassault with intent to inflict serious bodily harm.  A charge, which\\nnews commentators said, was akin to attempted murder under California\\nlaw.  Based on what the prosecution was asking for, it\\'s evident that \\nthe first jury decided that the officers were \"not guilty\".  Note, \\nnot \"not guilty\" of doing wrong, but \"not guilty\" of aggravated assault \\nwith the *intent* of inflicting serious bodily harm.  The seeds of the \\nprosecutions defeat were in their own overconfidence in obtaining a \\nverdict such that they went for the most extreme charge they could.\\n\\nIf the facts as the news commentators presented them are true, then\\nI feel the \"not guilty\" verdict was a reasonable one.\\n\\n\\nThanks mathew, I like the quote.  Pretty funny actually.  (I\\'m a \\nMonty Python fan, you know.  Kind of seems in that vein.)\\n\\nOf course, oversimplifying any moral argument can make it seem\\ncontradictory.  But then, you know that already.  \\n\\nRegards,',\n",
              " \"<stuff deleted>\\n\\nYou mean like: seconds, minutes, hours, days, months, years. . .  :-)\\n\\nRemember,  the Fahrenheit temperature scale is also a centigrade scale.  Some\\nrevisionists tell the history something like this:  The coldest point in a\\nparticular Russian winter was marked on the thermometer as was the body\\ntemperature of a volunteer (turns out he was sick, but you can't win 'em all).\\nThen the space in between the marks on the thermometer was then divided into\\nhundredths.\\n\\t\\t\\t\\t\\t\\t\\t\\t:-)\\n\\nFWIW,\\n\\nDoug Page\\n\",\n",
              " \"\\nIt wasn't especially prominent, as I recall.  However, quite possibly it's\\nno longer on display; NASM, like most museums, has much more stuff than it\\ncan display at once, and does rotate the displays occasionally.\",\n",
              " \"DM> Fact or rumor....?  Madalyn Murray O'Hare an atheist who eliminated the\\nDM> use of the bible reading and prayer in public schools 15 years ago is now\\nDM> going to appear before the FCC with a petition to stop the reading of the\\nDM> Gospel on the airways of America.  And she is also campaigning to remove\\nDM> Christmas programs, songs, etc from the public schools.  If it is true\\nDM> then mail to Federal Communications Commission 1919 H Street Washington DC\\nDM> 20054 expressing your opposition to her request.  Reference Petition number\\n\\nDM> 2493.\\n\\nFalse.  This story has been going around for years.  There's not a drop of\\ntruth.  Note that I don't care for O'Hare (O'Hair?) myself, but this\\nis one thing she's not guilty of.\\n\"]"
            ]
          },
          "metadata": {
            "tags": []
          },
          "execution_count": 64
        }
      ]
    },
    {
      "cell_type": "code",
      "metadata": {
        "id": "uHLdSh19ZRhU",
        "colab_type": "code",
        "colab": {}
      },
      "source": [
        "W1 = clf.fit_transform(vectors_tfidf)\n",
        "H1 = clf.components_"
      ],
      "execution_count": 0,
      "outputs": []
    },
    {
      "cell_type": "code",
      "metadata": {
        "id": "DicbplGZgJgU",
        "colab_type": "code",
        "colab": {
          "base_uri": "https://localhost:8080/",
          "height": 102
        },
        "outputId": "745b36a1-6151-4668-c964-261c456b8631"
      },
      "source": [
        "show_topics(H1)"
      ],
      "execution_count": 60,
      "outputs": [
        {
          "output_type": "execute_result",
          "data": {
            "text/plain": [
              "['people don think just like objective say morality',\n",
              " 'graphics thanks files image file program windows know',\n",
              " 'space nasa launch shuttle orbit moon lunar earth',\n",
              " 'ico bobbe tek beauchaine bronx manhattan sank queens',\n",
              " 'god jesus bible believe christian atheism does belief']"
            ]
          },
          "metadata": {
            "tags": []
          },
          "execution_count": 60
        }
      ]
    },
    {
      "cell_type": "code",
      "metadata": {
        "id": "fbC0pt8vgMmm",
        "colab_type": "code",
        "colab": {
          "base_uri": "https://localhost:8080/",
          "height": 286
        },
        "outputId": "26619cdd-9e61-47f9-aabe-53772b8e19eb"
      },
      "source": [
        "plt.plot(clf.components_[0])"
      ],
      "execution_count": 61,
      "outputs": [
        {
          "output_type": "execute_result",
          "data": {
            "text/plain": [
              "[<matplotlib.lines.Line2D at 0x7f322e5597f0>]"
            ]
          },
          "metadata": {
            "tags": []
          },
          "execution_count": 61
        },
        {
          "output_type": "display_data",
          "data": {
            "image/png": "[encoded data removed]",
            "text/plain": [
              "<Figure size 432x288 with 1 Axes>"
            ]
          },
          "metadata": {
            "tags": []
          }
        }
      ]
    },
    {
      "cell_type": "markdown",
      "metadata": {
        "id": "B-R_FdMRge0N",
        "colab_type": "text"
      },
      "source": [
        "There is something to note about NMF that when we reconstruct the vector , you may not get your original matrix back perfectly"
      ]
    },
    {
      "cell_type": "code",
      "metadata": {
        "id": "njO1AUt0gdik",
        "colab_type": "code",
        "colab": {
          "base_uri": "https://localhost:8080/",
          "height": 34
        },
        "outputId": "cfa8c425-cf26-454f-bf8b-d521fcd19f2c"
      },
      "source": [
        "clf.reconstruction_err_"
      ],
      "execution_count": 63,
      "outputs": [
        {
          "output_type": "execute_result",
          "data": {
            "text/plain": [
              "43.712926057952785"
            ]
          },
          "metadata": {
            "tags": []
          },
          "execution_count": 63
        }
      ]
    },
    {
      "cell_type": "markdown",
      "metadata": {
        "id": "148c-U8VhdRn",
        "colab_type": "text"
      },
      "source": [
        "#### NMF in summary\n",
        "\n",
        "Benefits: Fast and easy to use!\n",
        "\n",
        "Downsides: took years of research and expertise to create\n",
        "\n",
        "Notes:\n",
        "\n",
        "For NMF, matrix needs to be at least as tall as it is wide, or we get an error with fit_transform\n",
        "Can use df_min in CountVectorizer to only look at words that were in at least k of the split texts"
      ]
    },
    {
      "cell_type": "markdown",
      "metadata": {
        "id": "g1IWRl1Hhwnm",
        "colab_type": "text"
      },
      "source": [
        "### Truncated SVD\n",
        "\n",
        "We saved a lot of time when we calculated NMF by only calculating the subset of columns we were interested in. Is there a way to get this benefit with SVD? Yes there is! It's called truncated SVD. We are just interested in the vectors corresponding to the largest singular values.\n",
        "\n",
        "![alt text](https://github.com/fastai/course-nlp/raw/85e505295efeed88ce61dc0ff5e424bde9741a15/images/svd_fb.png)\n",
        "\n",
        "(source: [Facebook Research: Fast Randomized SVD](https://research.fb.com/fast-randomized-svd/))\n",
        "\n",
        "**Shortcomings of classical algorithms for decomposition:**\n",
        "\n",
        "- Matrices are \"stupendously big\"\n",
        "- Data are often **missing or inaccurate**. Why spend extra computational resources when imprecision of input limits precision of the output?\n",
        "- **Data transfer** now plays a major role in time of algorithms. Techniques the require fewer passes over the data may be substantially faster, even if they require more flops (flops = floating point operations).\n",
        "Important to take advantage of **GPUs**.\n",
        "\n",
        "(source: [Halko](https://arxiv.org/abs/0909.4061))\n",
        "\n",
        "**Advantages of randomized algorithms**:\n",
        "\n",
        "- inherently stable\n",
        "- performance guarantees do not depend on subtle spectral properties\n",
        "- needed matrix-vector products can be done in parallel\n",
        "\n",
        "(source: [Halko](https://arxiv.org/abs/0909.4061))"
      ]
    },
    {
      "cell_type": "markdown",
      "metadata": {
        "id": "lF1aqbR1jX6L",
        "colab_type": "text"
      },
      "source": [
        "## Time comparision"
      ]
    },
    {
      "cell_type": "code",
      "metadata": {
        "id": "LO53b-Cug1yz",
        "colab_type": "code",
        "colab": {
          "base_uri": "https://localhost:8080/",
          "height": 51
        },
        "outputId": "2a64b8fb-cdd3-4d43-fbf4-5924e7672c5d"
      },
      "source": [
        "%time u,s,v = np.linalg.svd(vectors,full_matrices=False)"
      ],
      "execution_count": 65,
      "outputs": [
        {
          "output_type": "stream",
          "text": [
            "CPU times: user 1min 36s, sys: 5.28 s, total: 1min 41s\n",
            "Wall time: 52.4 s\n"
          ],
          "name": "stdout"
        }
      ]
    },
    {
      "cell_type": "code",
      "metadata": {
        "id": "zmSbhJToj1l6",
        "colab_type": "code",
        "colab": {
          "base_uri": "https://localhost:8080/",
          "height": 173
        },
        "outputId": "d48a9ce4-7567-4fe1-a53f-5870ed2e8bfb"
      },
      "source": [
        "!pip install fbpca"
      ],
      "execution_count": 67,
      "outputs": [
        {
          "output_type": "stream",
          "text": [
            "Collecting fbpca\n",
            "  Downloading https://files.pythonhosted.org/packages/a7/a5/2085d0645a4bb4f0b606251b0b7466c61326e4a471d445c1c3761a2d07bc/fbpca-1.0.tar.gz\n",
            "Building wheels for collected packages: fbpca\n",
            "  Building wheel for fbpca (setup.py) ... \u001b[?25l\u001b[?25hdone\n",
            "  Stored in directory: /root/.cache/pip/wheels/53/a2/dd/9b66cf53dbc58cec1e613d216689e5fa946d3e7805c30f60dc\n",
            "Successfully built fbpca\n",
            "Installing collected packages: fbpca\n",
            "Successfully installed fbpca-1.0\n"
          ],
          "name": "stdout"
        }
      ]
    },
    {
      "cell_type": "code",
      "metadata": {
        "id": "nyh2A9mujnZL",
        "colab_type": "code",
        "colab": {}
      },
      "source": [
        "from sklearn import decomposition\n",
        "import fbpca"
      ],
      "execution_count": 0,
      "outputs": []
    },
    {
      "cell_type": "code",
      "metadata": {
        "id": "5ijfCzJLjtlB",
        "colab_type": "code",
        "colab": {
          "base_uri": "https://localhost:8080/",
          "height": 51
        },
        "outputId": "183d9950-7ca5-4ce2-c99e-668048598d6c"
      },
      "source": [
        "%time u,s,v = decomposition.randomized_svd(vectors,10)"
      ],
      "execution_count": 70,
      "outputs": [
        {
          "output_type": "stream",
          "text": [
            "CPU times: user 8.26 s, sys: 1.71 s, total: 9.96 s\n",
            "Wall time: 5.41 s\n"
          ],
          "name": "stdout"
        }
      ]
    },
    {
      "cell_type": "markdown",
      "metadata": {
        "id": "4MtBAg92kNex",
        "colab_type": "text"
      },
      "source": [
        "Randomized SVD from Facebook's library fbpca:"
      ]
    },
    {
      "cell_type": "code",
      "metadata": {
        "id": "VMSy4BC0j707",
        "colab_type": "code",
        "colab": {
          "base_uri": "https://localhost:8080/",
          "height": 51
        },
        "outputId": "9ae6e4d9-1ebe-46fa-abf3-9fa6df48a75a"
      },
      "source": [
        "%time u,s,v = fbpca.pca(vectors,10)"
      ],
      "execution_count": 71,
      "outputs": [
        {
          "output_type": "stream",
          "text": [
            "CPU times: user 2.51 s, sys: 576 ms, total: 3.08 s\n",
            "Wall time: 1.75 s\n"
          ],
          "name": "stdout"
        }
      ]
    },
    {
      "cell_type": "markdown",
      "metadata": {
        "id": "mdA55fllkVO1",
        "colab_type": "text"
      },
      "source": [
        "For more on randomized SVD, check out my [PyBay 2017 talk](https://www.youtube.com/watch?v=7i6kBz1kZ-A&list=PLtmWHNX-gukLQlMvtRJ19s7-8MrnRV6h6&index=7).\n",
        "\n",
        "For significantly more on randomized SVD, check out the [Computational Linear Algebra course.](https://github.com/fastai/numerical-linear-algebra)"
      ]
    },
    {
      "cell_type": "markdown",
      "metadata": {
        "id": "3lbpOoHwmMuN",
        "colab_type": "text"
      },
      "source": [
        "# Part 2: Review\n",
        "\n",
        "[Video](https://youtu.be/lRZ4aMaXPBI?t=30)"
      ]
    },
    {
      "cell_type": "markdown",
      "metadata": {
        "id": "UMp9vZxpmiQG",
        "colab_type": "text"
      },
      "source": [
        "## The two cultures\n",
        "\n",
        "This \"debate\" captures the tension between two approaches:\n",
        "\n",
        "- modeling the underlying mechanism of a phenomena\n",
        "- using machine learning to predict outputs (without necessarily understanding the mechanisms that create them)\n",
        "\n",
        "![alt text](https://github.com/fastai/course-nlp/raw/85e505295efeed88ce61dc0ff5e424bde9741a15/images/glutathione.jpg)\n",
        "\n",
        "\n",
        "I was part of a research project (in 2007) that involved manually coding each of the above reactions. We were determining if the final system could generate the same ouputs (in this case, levels in the blood of various substrates) as were observed in clinical studies.\n",
        "\n",
        "The equation for each reaction could be quite complex:\n",
        "\n",
        "![alt text](https://github.com/fastai/course-nlp/raw/85e505295efeed88ce61dc0ff5e424bde9741a15/images/vcbs.png)\n",
        "\n",
        "This is an example of modeling the underlying mechanism, and is very different from a machine learning approach.\n",
        "\n",
        "Source: https://www.ncbi.nlm.nih.gov/pmc/articles/PMC2391141/\n",
        "\n"
      ]
    },
    {
      "cell_type": "markdown",
      "metadata": {
        "id": "prfhF7jPoR9O",
        "colab_type": "text"
      },
      "source": [
        "## stop words\n",
        "\n",
        "**The most popular word in each state**\n",
        "\n",
        "![alt text](https://github.com/fastai/course-nlp/raw/85e505295efeed88ce61dc0ff5e424bde9741a15/images/map-popular-word.png)\n",
        "\n",
        "A time to remove stop words"
      ]
    },
    {
      "cell_type": "markdown",
      "metadata": {
        "id": "oZW_wYc8pgkd",
        "colab_type": "text"
      },
      "source": [
        "## Factorization is analgous to matrix decomposition\n",
        "\n",
        "We are using SVD and NMF to decompose the matrix and now we would like to provide a little bit more motivation of why that something we do.\n",
        "\n",
        "First, we look at the simplest case"
      ]
    },
    {
      "cell_type": "markdown",
      "metadata": {
        "id": "V5BLddwZpjPh",
        "colab_type": "text"
      },
      "source": [
        "### with integers\n",
        "\n",
        "Multiplication: $$2 * 2 * 3 * 3 * 2 * 2 \\rightarrow 144$$\n",
        "\n",
        "![alt text](https://github.com/fastai/course-nlp/raw/85e505295efeed88ce61dc0ff5e424bde9741a15/images/factorization.png)\n",
        "\n",
        "Factorization is the “opposite” of multiplication: $$144 \\rightarrow 2 * 2 * 3 * 3 * 2 * 2$$\n",
        "\n",
        "Here, the factors have the nice property of being prime.\n",
        "\n",
        "Prime factorization is much harder than multiplication (which is good, because it’s the heart of encryption).\n",
        "\n",
        "\n",
        "\n"
      ]
    },
    {
      "cell_type": "markdown",
      "metadata": {
        "id": "aNtQ9ZWeqlVT",
        "colab_type": "text"
      },
      "source": [
        "### With Matrices\n",
        "\n",
        "Matrix decompositions are a way of taking matrices apart (the \"opposite\" of matrix multiplication).\n",
        "\n",
        "Similarly, we use matrix decompositions to come up with matrices with nice properties.\n",
        "\n",
        "Taking matrices apart is harder than putting them together.\n",
        "\n",
        "[One application](https://github.com/fastai/numerical-linear-algebra/blob/master/nbs/3.%20Background%20Removal%20with%20Robust%20PCA.ipynb):\n",
        "\n",
        "![alt text](https://github.com/fastai/course-nlp/raw/85e505295efeed88ce61dc0ff5e424bde9741a15/images/grid1.jpg)\n",
        "\n",
        "What are the nice properties that matrices in an SVD decomposition have?\n",
        "\n",
        "$$A = USV$$"
      ]
    },
    {
      "cell_type": "markdown",
      "metadata": {
        "id": "zFAy5wvUsrxu",
        "colab_type": "text"
      },
      "source": [
        "## Some Linear Algebra Review\n",
        "\n",
        "**Matrix-vector multiplication**\n",
        "\n",
        "$Ax = b$ takes a linear combination of the columns of $A$, using coefficients $x$\n",
        "\n",
        "http://matrixmultiplication.xyz/\n",
        "\n",
        "**Matrix-matrix multiplication**\n",
        "\n",
        "$A B = C$ each column of C is a linear combination of columns of A, where the coefficients come from the corresponding column of C\n",
        "\n",
        "![alt text](https://github.com/fastai/course-nlp/raw/85e505295efeed88ce61dc0ff5e424bde9741a15/images/face_nmf.png)\n",
        "\n",
        "**Matrices as Transformations**\n",
        "\n",
        "The 3Blue 1Brown [Essence of Linear Algebra](https://www.youtube.com/playlist?list=PLZHQObOWTQDPD3MizzM2xVFitgF8hE_ab) videos are fantastic. They give a much more visual & geometric perspective on linear algreba than how it is typically taught. These videos are a great resource if you are a linear algebra beginner, or feel uncomfortable or rusty with the material.\n",
        "\n",
        "Even if you are a linear algrebra pro, I still recommend these videos for a new perspective, and they are very well made."
      ]
    },
    {
      "cell_type": "code",
      "metadata": {
        "id": "W4yjVLfOkS3z",
        "colab_type": "code",
        "colab": {
          "base_uri": "https://localhost:8080/",
          "height": 321
        },
        "outputId": "46728bce-d908-4a34-835e-6dbbd0790463"
      },
      "source": [
        "from IPython.display import YouTubeVideo\n",
        "\n",
        "YouTubeVideo(\"kYB8IZa5AuE\")"
      ],
      "execution_count": 72,
      "outputs": [
        {
          "output_type": "execute_result",
          "data": {
            "text/html": [
              "\n",
              "        <iframe\n",
              "            width=\"400\"\n",
              "            height=\"300\"\n",
              "            src=\"https://www.youtube.com/embed/kYB8IZa5AuE\"\n",
              "            frameborder=\"0\"\n",
              "            allowfullscreen\n",
              "        ></iframe>\n",
              "        "
            ],
            "text/plain": [
              "<IPython.lib.display.YouTubeVideo at 0x7f322e569c18>"
            ],
            "image/jpeg": "[encoded data removed]"
          },
          "metadata": {
            "tags": []
          },
          "execution_count": 72
        }
      ]
    },
    {
      "cell_type": "markdown",
      "metadata": {
        "id": "4MeZgwLbt76P",
        "colab_type": "text"
      },
      "source": [
        "##British Literature SVD & NMF in Excel\n",
        "\n",
        "Data was downloaded from [here](https://de.dariah.eu/tatom/datasets.html)\n",
        "\n",
        "The code below was used to create the matrices which are displayed in the SVD and NMF of British Literature excel workbook. The data is intended to be viewed in Excel, I've just included the code here for thoroughness."
      ]
    },
    {
      "cell_type": "code",
      "metadata": {
        "id": "kUMoTFO90Rxh",
        "colab_type": "code",
        "colab": {}
      },
      "source": [
        "from glob import glob\n",
        "import os"
      ],
      "execution_count": 0,
      "outputs": []
    },
    {
      "cell_type": "code",
      "metadata": {
        "id": "3JGZgJZJyvin",
        "colab_type": "code",
        "colab": {
          "base_uri": "https://localhost:8080/",
          "height": 204
        },
        "outputId": "73469c73-cd65-435b-d9a2-76e24845e68d"
      },
      "source": [
        "!wget https://liferay.de.dariah.eu/tatom/_downloads/datasets.zip"
      ],
      "execution_count": 74,
      "outputs": [
        {
          "output_type": "stream",
          "text": [
            "--2019-07-14 09:24:25--  https://liferay.de.dariah.eu/tatom/_downloads/datasets.zip\n",
            "Resolving liferay.de.dariah.eu (liferay.de.dariah.eu)... 134.76.30.131\n",
            "Connecting to liferay.de.dariah.eu (liferay.de.dariah.eu)|134.76.30.131|:443... connected.\n",
            "HTTP request sent, awaiting response... 200 OK\n",
            "Length: 57659024 (55M) [application/zip]\n",
            "Saving to: ‘datasets.zip’\n",
            "\n",
            "datasets.zip        100%[===================>]  54.99M  11.4MB/s    in 5.6s    \n",
            "\n",
            "2019-07-14 09:24:31 (9.78 MB/s) - ‘datasets.zip’ saved [57659024/57659024]\n",
            "\n"
          ],
          "name": "stdout"
        }
      ]
    },
    {
      "cell_type": "code",
      "metadata": {
        "id": "UIJispmNz3eK",
        "colab_type": "code",
        "colab": {}
      },
      "source": [
        "os.makedirs('data/literature',exist_ok=True)\n",
        "!unzip -qq /content/datasets.zip -d data/literature/"
      ],
      "execution_count": 0,
      "outputs": []
    },
    {
      "cell_type": "markdown",
      "metadata": {
        "id": "iC3P9kipykE8",
        "colab_type": "text"
      },
      "source": [
        "### Initializing, create document-term matrix"
      ]
    },
    {
      "cell_type": "code",
      "metadata": {
        "id": "IMu9jox-0az3",
        "colab_type": "code",
        "colab": {}
      },
      "source": [
        "filenames = []\n",
        "for folder in [\"british-fiction-corpus\"]: #, \"french-plays\", \"hugo-les-misérables\"]:\n",
        "    filenames.extend(glob(\"data/literature/data/\" + folder + \"/*.txt\"))"
      ],
      "execution_count": 0,
      "outputs": []
    },
    {
      "cell_type": "code",
      "metadata": {
        "id": "F1nelABv2fKc",
        "colab_type": "code",
        "colab": {
          "base_uri": "https://localhost:8080/",
          "height": 102
        },
        "outputId": "63c0c1af-911c-4785-e62f-48d15e4eb77e"
      },
      "source": [
        "filenames[:5]"
      ],
      "execution_count": 91,
      "outputs": [
        {
          "output_type": "execute_result",
          "data": {
            "text/plain": [
              "['data/literature/data/british-fiction-corpus/Trollope_Barchester.txt',\n",
              " 'data/literature/data/british-fiction-corpus/Thackeray_Barry.txt',\n",
              " 'data/literature/data/british-fiction-corpus/Eliot_Mill.txt',\n",
              " 'data/literature/data/british-fiction-corpus/Austen_Pride.txt',\n",
              " 'data/literature/data/british-fiction-corpus/EBronte_Wuthering.txt']"
            ]
          },
          "metadata": {
            "tags": []
          },
          "execution_count": 91
        }
      ]
    },
    {
      "cell_type": "code",
      "metadata": {
        "id": "wKBT65x90yPg",
        "colab_type": "code",
        "colab": {
          "base_uri": "https://localhost:8080/",
          "height": 34
        },
        "outputId": "03592845-e010-4f79-a6a4-a3ec482d5596"
      },
      "source": [
        "len(filenames)"
      ],
      "execution_count": 86,
      "outputs": [
        {
          "output_type": "execute_result",
          "data": {
            "text/plain": [
              "27"
            ]
          },
          "metadata": {
            "tags": []
          },
          "execution_count": 86
        }
      ]
    },
    {
      "cell_type": "code",
      "metadata": {
        "id": "hfihyJKb0yHo",
        "colab_type": "code",
        "colab": {
          "base_uri": "https://localhost:8080/",
          "height": 34
        },
        "outputId": "a6710e52-9304-4662-9c18-a78685b96a44"
      },
      "source": [
        "vectorizer = TfidfVectorizer(input='filename',stop_words='english')\n",
        "dtm = vectorizer.fit_transform(filenames).toarray()\n",
        "vocab = np.array(vectorizer.get_feature_names())\n",
        "dtm.shape,vocab.shape"
      ],
      "execution_count": 89,
      "outputs": [
        {
          "output_type": "execute_result",
          "data": {
            "text/plain": [
              "((27, 55035), (55035,))"
            ]
          },
          "metadata": {
            "tags": []
          },
          "execution_count": 89
        }
      ]
    },
    {
      "cell_type": "code",
      "metadata": {
        "id": "QDcHlIUO0x-O",
        "colab_type": "code",
        "colab": {
          "base_uri": "https://localhost:8080/",
          "height": 476
        },
        "outputId": "df84c5ec-22cb-4ae1-fa6b-c10306466e28"
      },
      "source": [
        "[f.split('/')[4] for f in filenames]    "
      ],
      "execution_count": 92,
      "outputs": [
        {
          "output_type": "execute_result",
          "data": {
            "text/plain": [
              "['Trollope_Barchester.txt',\n",
              " 'Thackeray_Barry.txt',\n",
              " 'Eliot_Mill.txt',\n",
              " 'Austen_Pride.txt',\n",
              " 'EBronte_Wuthering.txt',\n",
              " 'Sterne_Tristram.txt',\n",
              " 'Richardson_Pamela.txt',\n",
              " 'ABronte_Tenant.txt',\n",
              " 'ABronte_Agnes.txt',\n",
              " 'CBronte_Jane.txt',\n",
              " 'CBronte_Villette.txt',\n",
              " 'Austen_Emma.txt',\n",
              " 'Dickens_Hard.txt',\n",
              " 'Eliot_Middlemarch.txt',\n",
              " 'Trollope_Prime.txt',\n",
              " 'Fielding_Joseph.txt',\n",
              " 'Dickens_Bleak.txt',\n",
              " 'Sterne_Sentimental.txt',\n",
              " 'Dickens_David.txt',\n",
              " 'Eliot_Adam.txt',\n",
              " 'Fielding_Tom.txt',\n",
              " 'CBronte_Professor.txt',\n",
              " 'Richardson_Clarissa.txt',\n",
              " 'Thackeray_Pendennis.txt',\n",
              " 'Trollope_Phineas.txt',\n",
              " 'Thackeray_Vanity.txt',\n",
              " 'Austen_Sense.txt']"
            ]
          },
          "metadata": {
            "tags": []
          },
          "execution_count": 92
        }
      ]
    },
    {
      "cell_type": "markdown",
      "metadata": {
        "id": "-7Oh3iBM2m-B",
        "colab_type": "text"
      },
      "source": [
        "### NFM\n",
        "\n"
      ]
    },
    {
      "cell_type": "code",
      "metadata": {
        "id": "4BU_DdiG21kL",
        "colab_type": "code",
        "colab": {}
      },
      "source": [
        "clf = decomposition.NMF(n_components=10,random_state=1)\n",
        "\n",
        "W1 = clf.fit_transform(dtm)\n",
        "H1 = clf.components_"
      ],
      "execution_count": 0,
      "outputs": []
    },
    {
      "cell_type": "code",
      "metadata": {
        "id": "fz7dUboN21Hd",
        "colab_type": "code",
        "colab": {}
      },
      "source": [
        "num_top_words = 8\n",
        "\n",
        "def show_topics(a):\n",
        "    top_words = lambda t: [vocab[i] for i in np.argsort(t)[:-num_top_words-1:-1]]\n",
        "    topic_words = ([top_words(t) for t in a])\n",
        "    return [' '.join(t) for t in topic_words]"
      ],
      "execution_count": 0,
      "outputs": []
    },
    {
      "cell_type": "code",
      "metadata": {
        "id": "IxL_cie-3wR7",
        "colab_type": "code",
        "colab": {}
      },
      "source": [
        "def get_all_topic_words(H):\n",
        "    top_indices = lambda t: {i for i in np.argsort(t)[:-num_top_words-1:-1]}\n",
        "    topic_indices = [top_indices(t) for t in H]\n",
        "    return sorted(set.union(*topic_indices))\n",
        "    "
      ],
      "execution_count": 0,
      "outputs": []
    },
    {
      "cell_type": "code",
      "metadata": {
        "id": "qSP7IFNF3wNl",
        "colab_type": "code",
        "colab": {}
      },
      "source": [
        "ind = get_all_topic_words(H1)"
      ],
      "execution_count": 0,
      "outputs": []
    },
    {
      "cell_type": "code",
      "metadata": {
        "id": "Jae3T4Vc3wHn",
        "colab_type": "code",
        "colab": {
          "base_uri": "https://localhost:8080/",
          "height": 204
        },
        "outputId": "3fe0859d-49e8-4b26-e63d-0dccc0e82047"
      },
      "source": [
        "vocab[ind]"
      ],
      "execution_count": 99,
      "outputs": [
        {
          "output_type": "execute_result",
          "data": {
            "text/plain": [
              "array(['adams', 'allworthy', 'bounderby', 'brandon', 'catherine', 'cathy',\n",
              "       'corporal', 'crawley', 'darcy', 'dashwood', 'did', 'earnshaw',\n",
              "       'edgar', 'elinor', 'emma', 'father', 'ferrars', 'finn', 'glegg',\n",
              "       'good', 'gradgrind', 'hareton', 'heathcliff', 'jennings', 'jones',\n",
              "       'joseph', 'know', 'lady', 'laura', 'like', 'linton', 'little',\n",
              "       'll', 'lopez', 'louisa', 'lyndon', 'maggie', 'man', 'marianne',\n",
              "       'miss', 'mr', 'mrs', 'old', 'osborne', 'pendennis', 'philip',\n",
              "       'phineas', 'quoth', 'said', 'sissy', 'sophia', 'sparsit',\n",
              "       'stephen', 'thought', 'time', 'tis', 'toby', 'tom', 'trim',\n",
              "       'tulliver', 'uncle', 'wakem', 'wharton', 'willoughby'],\n",
              "      dtype='<U31')"
            ]
          },
          "metadata": {
            "tags": []
          },
          "execution_count": 99
        }
      ]
    },
    {
      "cell_type": "code",
      "metadata": {
        "id": "P8iooeJi4GAc",
        "colab_type": "code",
        "colab": {
          "base_uri": "https://localhost:8080/",
          "height": 187
        },
        "outputId": "17225627-f288-4bee-81bb-a214ccdc517c"
      },
      "source": [
        "show_topics(H1)"
      ],
      "execution_count": 100,
      "outputs": [
        {
          "output_type": "execute_result",
          "data": {
            "text/plain": [
              "['mr said mrs miss emma darcy little know',\n",
              " 'said little like did time know thought good',\n",
              " 'adams jones said lady allworthy sophia joseph mr',\n",
              " 'elinor marianne dashwood jennings willoughby mrs brandon ferrars',\n",
              " 'toby said uncle father corporal quoth tis trim',\n",
              " 'heathcliff linton hareton catherine earnshaw cathy edgar ll',\n",
              " 'maggie tulliver said tom glegg philip mr wakem',\n",
              " 'phineas said mr lopez finn man wharton laura',\n",
              " 'said crawley lyndon pendennis old little osborne lady',\n",
              " 'bounderby gradgrind sparsit said mr sissy louisa stephen']"
            ]
          },
          "metadata": {
            "tags": []
          },
          "execution_count": 100
        }
      ]
    },
    {
      "cell_type": "markdown",
      "metadata": {
        "id": "WGAU9OXB4Z0y",
        "colab_type": "text"
      },
      "source": [
        "#### Export to CSV\n"
      ]
    },
    {
      "cell_type": "code",
      "metadata": {
        "id": "0f9zxSRQ4dnw",
        "colab_type": "code",
        "colab": {}
      },
      "source": [
        "from IPython.display import FileLink, FileLinks"
      ],
      "execution_count": 0,
      "outputs": []
    },
    {
      "cell_type": "code",
      "metadata": {
        "id": "dBPovkmV4dxp",
        "colab_type": "code",
        "colab": {
          "base_uri": "https://localhost:8080/",
          "height": 34
        },
        "outputId": "af14dd6e-b1d9-445d-993a-3a2988754dcf"
      },
      "source": [
        "np.savetxt(\"britlit_W.csv\", W1, delimiter=\",\", fmt='%.14f')\n",
        "FileLink('britlit_W.csv')"
      ],
      "execution_count": 102,
      "outputs": [
        {
          "output_type": "execute_result",
          "data": {
            "text/html": [
              "<a href='britlit_W.csv' target='_blank'>britlit_W.csv</a><br>"
            ],
            "text/plain": [
              "/content/britlit_W.csv"
            ]
          },
          "metadata": {
            "tags": []
          },
          "execution_count": 102
        }
      ]
    },
    {
      "cell_type": "code",
      "metadata": {
        "id": "ATGLWLEf4duV",
        "colab_type": "code",
        "colab": {
          "base_uri": "https://localhost:8080/",
          "height": 34
        },
        "outputId": "294dd3ca-9c63-4318-8afe-6915387c80f1"
      },
      "source": [
        "np.savetxt(\"britlit_H.csv\", H1[:,ind], delimiter=\",\", fmt='%.14f')\n",
        "FileLink('britlit_H.csv')"
      ],
      "execution_count": 104,
      "outputs": [
        {
          "output_type": "execute_result",
          "data": {
            "text/html": [
              "<a href='britlit_H.csv' target='_blank'>britlit_H.csv</a><br>"
            ],
            "text/plain": [
              "/content/britlit_H.csv"
            ]
          },
          "metadata": {
            "tags": []
          },
          "execution_count": 104
        }
      ]
    },
    {
      "cell_type": "code",
      "metadata": {
        "id": "9Qc9bVFF4FzP",
        "colab_type": "code",
        "colab": {
          "base_uri": "https://localhost:8080/",
          "height": 34
        },
        "outputId": "10becaab-9c20-4305-c9e1-e5c3a5dc61bf"
      },
      "source": [
        "np.savetxt(\"britlit_raw.csv\", dtm[:,ind], delimiter=\",\", fmt='%.14f')\n",
        "FileLink('britlit_raw.csv')"
      ],
      "execution_count": 105,
      "outputs": [
        {
          "output_type": "execute_result",
          "data": {
            "text/html": [
              "<a href='britlit_raw.csv' target='_blank'>britlit_raw.csv</a><br>"
            ],
            "text/plain": [
              "/content/britlit_raw.csv"
            ]
          },
          "metadata": {
            "tags": []
          },
          "execution_count": 105
        }
      ]
    },
    {
      "cell_type": "code",
      "metadata": {
        "id": "aDVDoB1p5HqR",
        "colab_type": "code",
        "colab": {
          "base_uri": "https://localhost:8080/",
          "height": 1000
        },
        "outputId": "68420006-1838-485b-9b45-759afda0d8a1"
      },
      "source": [
        "[str(word) for word in vocab[ind]]"
      ],
      "execution_count": 106,
      "outputs": [
        {
          "output_type": "execute_result",
          "data": {
            "text/plain": [
              "['adams',\n",
              " 'allworthy',\n",
              " 'bounderby',\n",
              " 'brandon',\n",
              " 'catherine',\n",
              " 'cathy',\n",
              " 'corporal',\n",
              " 'crawley',\n",
              " 'darcy',\n",
              " 'dashwood',\n",
              " 'did',\n",
              " 'earnshaw',\n",
              " 'edgar',\n",
              " 'elinor',\n",
              " 'emma',\n",
              " 'father',\n",
              " 'ferrars',\n",
              " 'finn',\n",
              " 'glegg',\n",
              " 'good',\n",
              " 'gradgrind',\n",
              " 'hareton',\n",
              " 'heathcliff',\n",
              " 'jennings',\n",
              " 'jones',\n",
              " 'joseph',\n",
              " 'know',\n",
              " 'lady',\n",
              " 'laura',\n",
              " 'like',\n",
              " 'linton',\n",
              " 'little',\n",
              " 'll',\n",
              " 'lopez',\n",
              " 'louisa',\n",
              " 'lyndon',\n",
              " 'maggie',\n",
              " 'man',\n",
              " 'marianne',\n",
              " 'miss',\n",
              " 'mr',\n",
              " 'mrs',\n",
              " 'old',\n",
              " 'osborne',\n",
              " 'pendennis',\n",
              " 'philip',\n",
              " 'phineas',\n",
              " 'quoth',\n",
              " 'said',\n",
              " 'sissy',\n",
              " 'sophia',\n",
              " 'sparsit',\n",
              " 'stephen',\n",
              " 'thought',\n",
              " 'time',\n",
              " 'tis',\n",
              " 'toby',\n",
              " 'tom',\n",
              " 'trim',\n",
              " 'tulliver',\n",
              " 'uncle',\n",
              " 'wakem',\n",
              " 'wharton',\n",
              " 'willoughby']"
            ]
          },
          "metadata": {
            "tags": []
          },
          "execution_count": 106
        }
      ]
    },
    {
      "cell_type": "markdown",
      "metadata": {
        "id": "8-qf6QWv5Nl2",
        "colab_type": "text"
      },
      "source": [
        "### SVD"
      ]
    },
    {
      "cell_type": "code",
      "metadata": {
        "id": "FgeiMCMV5HmM",
        "colab_type": "code",
        "colab": {}
      },
      "source": [
        "U , s, V = decomposition.randomized_svd(dtm,10)"
      ],
      "execution_count": 0,
      "outputs": []
    },
    {
      "cell_type": "code",
      "metadata": {
        "id": "6tb4CrF_5Hc4",
        "colab_type": "code",
        "colab": {}
      },
      "source": [
        "ind = get_all_topic_words(H1)"
      ],
      "execution_count": 0,
      "outputs": []
    },
    {
      "cell_type": "code",
      "metadata": {
        "id": "CKUkO5o85mMs",
        "colab_type": "code",
        "colab": {
          "base_uri": "https://localhost:8080/",
          "height": 34
        },
        "outputId": "ce41f9c8-f28f-47c0-94b7-288fa198df5d"
      },
      "source": [
        "len(ind)"
      ],
      "execution_count": 109,
      "outputs": [
        {
          "output_type": "execute_result",
          "data": {
            "text/plain": [
              "64"
            ]
          },
          "metadata": {
            "tags": []
          },
          "execution_count": 109
        }
      ]
    },
    {
      "cell_type": "code",
      "metadata": {
        "id": "QCEvSXXU5mCM",
        "colab_type": "code",
        "colab": {
          "base_uri": "https://localhost:8080/",
          "height": 204
        },
        "outputId": "85bc6f88-bde2-4a28-daa4-43570e96e8ad"
      },
      "source": [
        "vocab[ind]"
      ],
      "execution_count": 110,
      "outputs": [
        {
          "output_type": "execute_result",
          "data": {
            "text/plain": [
              "array(['adams', 'allworthy', 'bounderby', 'brandon', 'catherine', 'cathy',\n",
              "       'corporal', 'crawley', 'darcy', 'dashwood', 'did', 'earnshaw',\n",
              "       'edgar', 'elinor', 'emma', 'father', 'ferrars', 'finn', 'glegg',\n",
              "       'good', 'gradgrind', 'hareton', 'heathcliff', 'jennings', 'jones',\n",
              "       'joseph', 'know', 'lady', 'laura', 'like', 'linton', 'little',\n",
              "       'll', 'lopez', 'louisa', 'lyndon', 'maggie', 'man', 'marianne',\n",
              "       'miss', 'mr', 'mrs', 'old', 'osborne', 'pendennis', 'philip',\n",
              "       'phineas', 'quoth', 'said', 'sissy', 'sophia', 'sparsit',\n",
              "       'stephen', 'thought', 'time', 'tis', 'toby', 'tom', 'trim',\n",
              "       'tulliver', 'uncle', 'wakem', 'wharton', 'willoughby'],\n",
              "      dtype='<U31')"
            ]
          },
          "metadata": {
            "tags": []
          },
          "execution_count": 110
        }
      ]
    },
    {
      "cell_type": "code",
      "metadata": {
        "id": "FvbFo9mn5l27",
        "colab_type": "code",
        "colab": {
          "base_uri": "https://localhost:8080/",
          "height": 187
        },
        "outputId": "099d0ce0-47d2-4d2f-855b-2eda2145bfdd"
      },
      "source": [
        "show_topics(H1)"
      ],
      "execution_count": 111,
      "outputs": [
        {
          "output_type": "execute_result",
          "data": {
            "text/plain": [
              "['mr said mrs miss emma darcy little know',\n",
              " 'said little like did time know thought good',\n",
              " 'adams jones said lady allworthy sophia joseph mr',\n",
              " 'elinor marianne dashwood jennings willoughby mrs brandon ferrars',\n",
              " 'toby said uncle father corporal quoth tis trim',\n",
              " 'heathcliff linton hareton catherine earnshaw cathy edgar ll',\n",
              " 'maggie tulliver said tom glegg philip mr wakem',\n",
              " 'phineas said mr lopez finn man wharton laura',\n",
              " 'said crawley lyndon pendennis old little osborne lady',\n",
              " 'bounderby gradgrind sparsit said mr sissy louisa stephen']"
            ]
          },
          "metadata": {
            "tags": []
          },
          "execution_count": 111
        }
      ]
    },
    {
      "cell_type": "code",
      "metadata": {
        "id": "aouvK39L5vir",
        "colab_type": "code",
        "colab": {
          "base_uri": "https://localhost:8080/",
          "height": 34
        },
        "outputId": "5f82881d-063a-4e18-818b-0134efe4955f"
      },
      "source": [
        "np.savetxt(\"britlit_U.csv\", U, delimiter=\",\", fmt='%.14f')\n",
        "FileLink('britlit_U.csv')"
      ],
      "execution_count": 112,
      "outputs": [
        {
          "output_type": "execute_result",
          "data": {
            "text/html": [
              "<a href='britlit_U.csv' target='_blank'>britlit_U.csv</a><br>"
            ],
            "text/plain": [
              "/content/britlit_U.csv"
            ]
          },
          "metadata": {
            "tags": []
          },
          "execution_count": 112
        }
      ]
    },
    {
      "cell_type": "code",
      "metadata": {
        "id": "sTFrzPfx5yQY",
        "colab_type": "code",
        "colab": {
          "base_uri": "https://localhost:8080/",
          "height": 34
        },
        "outputId": "1c4cb332-a005-4c62-e909-ee31afe12438"
      },
      "source": [
        "np.savetxt(\"britlit_V.csv\", V[:,ind], delimiter=\",\", fmt='%.14f')\n",
        "FileLink('britlit_V.csv')"
      ],
      "execution_count": 113,
      "outputs": [
        {
          "output_type": "execute_result",
          "data": {
            "text/html": [
              "<a href='britlit_V.csv' target='_blank'>britlit_V.csv</a><br>"
            ],
            "text/plain": [
              "/content/britlit_V.csv"
            ]
          },
          "metadata": {
            "tags": []
          },
          "execution_count": 113
        }
      ]
    },
    {
      "cell_type": "code",
      "metadata": {
        "id": "ZI3cei3s5yFN",
        "colab_type": "code",
        "colab": {
          "base_uri": "https://localhost:8080/",
          "height": 34
        },
        "outputId": "b37dc3b6-11b9-4a6c-e98b-f073588f61e9"
      },
      "source": [
        "np.savetxt(\"britlit_raw_svd.csv\", dtm[:,ind], delimiter=\",\", fmt='%.14f')\n",
        "FileLink('britlit_raw_svd.csv')"
      ],
      "execution_count": 114,
      "outputs": [
        {
          "output_type": "execute_result",
          "data": {
            "text/html": [
              "<a href='britlit_raw_svd.csv' target='_blank'>britlit_raw_svd.csv</a><br>"
            ],
            "text/plain": [
              "/content/britlit_raw_svd.csv"
            ]
          },
          "metadata": {
            "tags": []
          },
          "execution_count": 114
        }
      ]
    },
    {
      "cell_type": "code",
      "metadata": {
        "id": "PtmIy2_g5x4E",
        "colab_type": "code",
        "colab": {
          "base_uri": "https://localhost:8080/",
          "height": 34
        },
        "outputId": "d7ad4557-3024-4dde-8672-38f933b7ceba"
      },
      "source": [
        "np.savetxt(\"britlit_S.csv\", np.diag(s), delimiter=\",\", fmt='%.14f')\n",
        "FileLink('britlit_S.csv')"
      ],
      "execution_count": 115,
      "outputs": [
        {
          "output_type": "execute_result",
          "data": {
            "text/html": [
              "<a href='britlit_S.csv' target='_blank'>britlit_S.csv</a><br>"
            ],
            "text/plain": [
              "/content/britlit_S.csv"
            ]
          },
          "metadata": {
            "tags": []
          },
          "execution_count": 115
        }
      ]
    },
    {
      "cell_type": "code",
      "metadata": {
        "id": "C1ZSn0fV54tg",
        "colab_type": "code",
        "colab": {
          "base_uri": "https://localhost:8080/",
          "height": 1000
        },
        "outputId": "a1bf827b-fc4e-4fc0-90ca-547686a769b1"
      },
      "source": [
        "[str(word) for word in vocab[ind]]"
      ],
      "execution_count": 116,
      "outputs": [
        {
          "output_type": "execute_result",
          "data": {
            "text/plain": [
              "['adams',\n",
              " 'allworthy',\n",
              " 'bounderby',\n",
              " 'brandon',\n",
              " 'catherine',\n",
              " 'cathy',\n",
              " 'corporal',\n",
              " 'crawley',\n",
              " 'darcy',\n",
              " 'dashwood',\n",
              " 'did',\n",
              " 'earnshaw',\n",
              " 'edgar',\n",
              " 'elinor',\n",
              " 'emma',\n",
              " 'father',\n",
              " 'ferrars',\n",
              " 'finn',\n",
              " 'glegg',\n",
              " 'good',\n",
              " 'gradgrind',\n",
              " 'hareton',\n",
              " 'heathcliff',\n",
              " 'jennings',\n",
              " 'jones',\n",
              " 'joseph',\n",
              " 'know',\n",
              " 'lady',\n",
              " 'laura',\n",
              " 'like',\n",
              " 'linton',\n",
              " 'little',\n",
              " 'll',\n",
              " 'lopez',\n",
              " 'louisa',\n",
              " 'lyndon',\n",
              " 'maggie',\n",
              " 'man',\n",
              " 'marianne',\n",
              " 'miss',\n",
              " 'mr',\n",
              " 'mrs',\n",
              " 'old',\n",
              " 'osborne',\n",
              " 'pendennis',\n",
              " 'philip',\n",
              " 'phineas',\n",
              " 'quoth',\n",
              " 'said',\n",
              " 'sissy',\n",
              " 'sophia',\n",
              " 'sparsit',\n",
              " 'stephen',\n",
              " 'thought',\n",
              " 'time',\n",
              " 'tis',\n",
              " 'toby',\n",
              " 'tom',\n",
              " 'trim',\n",
              " 'tulliver',\n",
              " 'uncle',\n",
              " 'wakem',\n",
              " 'wharton',\n",
              " 'willoughby']"
            ]
          },
          "metadata": {
            "tags": []
          },
          "execution_count": 116
        }
      ]
    },
    {
      "cell_type": "markdown",
      "metadata": {
        "id": "9AfTRYB5veDn",
        "colab_type": "text"
      },
      "source": [
        "## Randomized SVD offers a speed up\n",
        "\n",
        "![alt text](https://github.com/fastai/course-nlp/raw/85e505295efeed88ce61dc0ff5e424bde9741a15/images/svd_slow.png)\n",
        "\n",
        "One way to address this is to use randomized SVD. In the below chart, the error is the difference between A - U S V, that is, what you've failed to capture in your decomposition:\n",
        "\n",
        "![alt text](https://github.com/fastai/course-nlp/raw/85e505295efeed88ce61dc0ff5e424bde9741a15/images/svd_speed.png)\n",
        "\n"
      ]
    },
    {
      "cell_type": "markdown",
      "metadata": {
        "id": "-r23PrXVxlK_",
        "colab_type": "text"
      },
      "source": [
        "## Full vs Reduced SVD\n",
        "\n",
        "Remember how we were calling **np.linalg.svd(vectors, full_matrices=False)**? We set **full_matrices=False** to calculate the reduced SVD. For the full SVD, both U and V are square matrices, where the extra columns in U form an orthonormal basis (but zero out when multiplied by extra rows of zeros in S).\n",
        "\n",
        "Diagrams from Trefethen:\n",
        "\n",
        "![alt text](https://github.com/fastai/course-nlp/raw/85e505295efeed88ce61dc0ff5e424bde9741a15/images/full_svd.JPG)"
      ]
    },
    {
      "cell_type": "code",
      "metadata": {
        "id": "tMUtXm4VtIyN",
        "colab_type": "code",
        "colab": {}
      },
      "source": [
        ""
      ],
      "execution_count": 0,
      "outputs": []
    }
  ]
}