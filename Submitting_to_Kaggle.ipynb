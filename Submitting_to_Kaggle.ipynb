{
  "nbformat": 4,
  "nbformat_minor": 0,
  "metadata": {
    "colab": {
      "name": "Submitting to Kaggle.ipynb",
      "version": "0.3.2",
      "provenance": [],
      "include_colab_link": true
    },
    "kernelspec": {
      "name": "python3",
      "display_name": "Python 3"
    }
  },
  "cells": [
    {
      "cell_type": "markdown",
      "metadata": {
        "id": "view-in-github",
        "colab_type": "text"
      },
      "source": [
        "<a href=\"https://colab.research.google.com/github/hduongck/AI-ML-Learning/blob/master/Submitting_to_Kaggle.ipynb\" target=\"_parent\"><img src=\"https://colab.research.google.com/assets/colab-badge.svg\" alt=\"Open In Colab\"/></a>"
      ]
    },
    {
      "cell_type": "markdown",
      "metadata": {
        "id": "1CYuFAOzc0eE",
        "colab_type": "text"
      },
      "source": [
        "#Image classification: \n",
        "\n",
        "https://towardsdatascience.com/fastai-multi-label-image-classification-8034be646e95"
      ]
    },
    {
      "cell_type": "markdown",
      "metadata": {
        "id": "H4Vf9jy4dBF6",
        "colab_type": "text"
      },
      "source": [
        "## 1. Multi label"
      ]
    },
    {
      "cell_type": "code",
      "metadata": {
        "id": "e96V5em8cx1g",
        "colab_type": "code",
        "colab": {}
      },
      "source": [
        "dataframes = []\n",
        "\n",
        "for directory in ('test-jpg', 'test-jpg-additional'):\n",
        "    test = ImageItemList.from_folder(path/directory)\n",
        "    learn = load_learner(path, test=test)\n",
        "    preds, _ = learn.get_preds(ds_type=DatasetType.Test)\n",
        "    thresh = 0.2\n",
        "    labelled_preds = [' '.join([learn.data.classes[i] for i,p in enumerate(pred) if p > thresh]) for pred in preds]\n",
        "    fnames = [f.name[:-4] for f in learn.data.test_ds.items]\n",
        "    df = pd.DataFrame({'image_name':fnames, 'tags':labelled_preds}, columns=['image_name', 'tags'])\n",
        "    dataframes.append(df)\n",
        "\n",
        "df = pd.concat(dataframes)\n",
        "df.to_csv(path/'submission.csv', index=False)\n",
        "print(df.head())"
      ],
      "execution_count": 0,
      "outputs": []
    },
    {
      "cell_type": "markdown",
      "metadata": {
        "id": "bYKZRLxw3xfS",
        "colab_type": "text"
      },
      "source": [
        "## 2. Binary Label"
      ]
    },
    {
      "cell_type": "code",
      "metadata": {
        "id": "WuNY3Wz34L5j",
        "colab_type": "code",
        "colab": {}
      },
      "source": [
        "test = ImageList.from_folder(f'{path}test')\n",
        "learn = load_learner(path,test=test)\n",
        "log_preds,_ = learn.get_preds(ds_type=DatasetType.Test)\n",
        "preds=np.argmax(log_preds,axis=1)\n",
        "fnames = [f.name[:-4] for f in learn.data.test_ds.items] #f.name[:-4] -> remove type of file ex. jpg, png,..\n",
        "df_sub = pd.DataFrame({'id':fnames,'label':preds},columns=['id','label'])\n",
        "df_sub.to_csv(f'{path}submission.csv',index=False)"
      ],
      "execution_count": 0,
      "outputs": []
    }
  ]
}