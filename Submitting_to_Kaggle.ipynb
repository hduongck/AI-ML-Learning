{
  "nbformat": 4,
  "nbformat_minor": 0,
  "metadata": {
    "colab": {
      "name": "Submitting to Kaggle.ipynb",
      "version": "0.3.2",
      "provenance": [],
      "collapsed_sections": [],
      "include_colab_link": true
    },
    "kernelspec": {
      "name": "python3",
      "display_name": "Python 3"
    }
  },
  "cells": [
    {
      "cell_type": "markdown",
      "metadata": {
        "id": "view-in-github",
        "colab_type": "text"
      },
      "source": [
        "<a href=\"https://colab.research.google.com/github/hduongck/AI-ML-Learning/blob/master/Submitting_to_Kaggle.ipynb\" target=\"_parent\"><img src=\"https://colab.research.google.com/assets/colab-badge.svg\" alt=\"Open In Colab\"/></a>"
      ]
    },
    {
      "cell_type": "markdown",
      "metadata": {
        "id": "1CYuFAOzc0eE",
        "colab_type": "text"
      },
      "source": [
        "#Image classification: \n",
        "\n",
        "https://towardsdatascience.com/fastai-multi-label-image-classification-8034be646e95"
      ]
    },
    {
      "cell_type": "markdown",
      "metadata": {
        "id": "H4Vf9jy4dBF6",
        "colab_type": "text"
      },
      "source": [
        "## 1. Multi label"
      ]
    },
    {
      "cell_type": "code",
      "metadata": {
        "id": "e96V5em8cx1g",
        "colab_type": "code",
        "colab": {}
      },
      "source": [
        "dataframes = []\n",
        "\n",
        "for directory in ('test-jpg', 'test-jpg-additional'):\n",
        "    test = ImageItemList.from_folder(path/directory)\n",
        "    learn = load_learner(path, test=test)\n",
        "    preds, _ = learn.get_preds(ds_type=DatasetType.Test)\n",
        "    thresh = 0.2\n",
        "    labelled_preds = [' '.join([learn.data.classes[i] for i,p in enumerate(pred) if p > thresh]) for pred in preds]\n",
        "    fnames = [f.name[:-4] for f in learn.data.test_ds.items]\n",
        "    df = pd.DataFrame({'image_name':fnames, 'tags':labelled_preds}, columns=['image_name', 'tags'])\n",
        "    dataframes.append(df)\n",
        "\n",
        "df = pd.concat(dataframes)\n",
        "df.to_csv(path/'submission.csv', index=False)\n",
        "print(df.head())"
      ],
      "execution_count": 0,
      "outputs": []
    },
    {
      "cell_type": "markdown",
      "metadata": {
        "id": "bYKZRLxw3xfS",
        "colab_type": "text"
      },
      "source": [
        "## 2. Binary Label"
      ]
    },
    {
      "cell_type": "code",
      "metadata": {
        "id": "WuNY3Wz34L5j",
        "colab_type": "code",
        "colab": {}
      },
      "source": [
        "test = ImageList.from_folder(f'{path}test')\n",
        "learn = load_learner(path,test=test)\n",
        "log_preds,_ = learn.get_preds(ds_type=DatasetType.Test)\n",
        "preds=np.argmax(log_preds,axis=1)\n",
        "fnames = [f.name[:-4] for f in learn.data.test_ds.items] #f.name[:-4] -> remove type of file ex. jpg, png,..\n",
        "df_sub = pd.DataFrame({'id':fnames,'label':preds},columns=['id','label'])\n",
        "df_sub.to_csv(f'{path}submission.csv',index=False)"
      ],
      "execution_count": 0,
      "outputs": []
    },
    {
      "cell_type": "markdown",
      "metadata": {
        "id": "jjOqLxEjjLo7",
        "colab_type": "text"
      },
      "source": [
        "#Tabular "
      ]
    },
    {
      "cell_type": "markdown",
      "metadata": {
        "id": "gxNNpiaNkDfS",
        "colab_type": "text"
      },
      "source": [
        "https://forums.fast.ai/t/predictions-to-df-csv/42729/5\n",
        "\n",
        "I think this is because get_preds doesn’t get as an input parameter a dataset, but type of prediction.\n",
        "https://docs.fast.ai/basic_train.html#Learner.get_preds 3 , and default it is get_preds ( ds_type : DatasetType = <DatasetType.Valid: 2> .\n",
        "So I think it returns you a prediction of train dataset. (DatasetType.Train) is equal 1 from enum and non-empty dataframe is also consider as 1. (length of your train DataSet is 160,000)"
      ]
    },
    {
      "cell_type": "code",
      "metadata": {
        "id": "j1KnSU8KjPx-",
        "colab_type": "code",
        "colab": {}
      },
      "source": [
        "# TEST DATA\n",
        "learn.export(<PATH AND NAME>)\n",
        "test_data = (TabularList.from_df(df_test, path=path, cont_names=cont_names, procs=procs)\n",
        "                           .split_none()\n",
        "                           .label_const('target')\n",
        "                           .databunch())\n",
        "\n",
        "test_learner = load_learner(<PATH>,fname=<NAME>, test=test_data)\n",
        "preds = test_learner.get_preds(ds_type=DatasetType.Test)[1].numpy()\n",
        "\n",
        "final_df = pd.DataFrame({'ID_code': df_test['ID_code'], 'target': preds})\n",
        "final_df.to_csv('/home/jupyter/transfer/submission.csv', header=True, index=False)"
      ],
      "execution_count": 0,
      "outputs": []
    },
    {
      "cell_type": "markdown",
      "metadata": {
        "id": "L2Ndm32zkSQJ",
        "colab_type": "text"
      },
      "source": [
        "Or you can do something like:"
      ]
    },
    {
      "cell_type": "code",
      "metadata": {
        "id": "z_bimdfjkQ4z",
        "colab_type": "code",
        "colab": {}
      },
      "source": [
        "data = (TabularList.from_df(df, path=path, cont_names=cont_names, procs=procs)\n",
        "        .split_by_rand_pct(0.2)\n",
        "        .label_from_df(cols=dep_var)\n",
        "        .add_test(TabularList.from_df(df_test, cont_names=cont_names, procs=procs))\n",
        "        .databunch())\n",
        "\n",
        "######\n",
        "#  Create learner and train\n",
        "######\n",
        "\n",
        "preds = learn.get_preds(ds_type=DatasetType.Test)[1].numpy()\n",
        "final_df = pd.DataFrame({'ID_code': df_test['ID_code'], 'target': preds})\n",
        "final_df.to_csv('submission.csv', header=True, index=False)"
      ],
      "execution_count": 0,
      "outputs": []
    }
  ]
}