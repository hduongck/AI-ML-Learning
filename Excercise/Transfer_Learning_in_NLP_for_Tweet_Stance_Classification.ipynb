{
  "nbformat": 4,
  "nbformat_minor": 0,
  "metadata": {
    "colab": {
      "name": "Transfer Learning in NLP for Tweet Stance Classification.ipynb",
      "version": "0.3.2",
      "provenance": [],
      "collapsed_sections": [],
      "include_colab_link": true
    },
    "kernelspec": {
      "name": "python3",
      "display_name": "Python 3"
    },
    "accelerator": "GPU"
  },
  "cells": [
    {
      "cell_type": "markdown",
      "metadata": {
        "id": "view-in-github",
        "colab_type": "text"
      },
      "source": [
        "<a href=\"https://colab.research.google.com/github/hduongck/AI-ML-Learning/blob/master/Excercise/Transfer_Learning_in_NLP_for_Tweet_Stance_Classification.ipynb\" target=\"_parent\"><img src=\"https://colab.research.google.com/assets/colab-badge.svg\" alt=\"Open In Colab\"/></a>"
      ]
    },
    {
      "cell_type": "markdown",
      "metadata": {
        "id": "6VSmpc94EsYk",
        "colab_type": "text"
      },
      "source": [
        "#Transfer Learning in NLP for Tweet Stance Classification\n",
        "\n",
        "A comparison of two transfer learning methods in Natural Language Processing: “ULMFiT” and “OpenAI GPT” for a multi-class classification task involving Twitter data\n",
        "\n",
        "![alt text](https://cdn-images-1.medium.com/max/1200/1*-hnEkyzxq_ZgOs9jBuGj0g.png)\n",
        "\n",
        "2018 has been a hugely exciting year in the field of Natural Language Processing (NLP), in particular, for transfer learning — a technique where instead of training a model from scratch, we use models pre-trained on a large dataset and then fine-tune them for specific natural language tasks. Sebastian Ruder provides an excellent account of the past and current state of transfer learning in his post “[NLP’s ImageNet moment has arrived](http://ruder.io/nlp-imagenet/)”, explaining why this is such a hot field in NLP right now — **his post is a must read**.\n",
        "\n",
        "In recent times, methods such as [ULMFiT](http://nlp.fast.ai/classification/2018/05/15/introducting-ulmfit.html), [OpenAI GPT](https://blog.openai.com/language-unsupervised/), [ELMo](https://allennlp.org/elmo) and [Google AI’s BERT](https://arxiv.org/pdf/1810.04805.pdf) **have revolutionized the field of transfer learning in NLP by using language modelling during pre-training**, which has significantly improved on the state-of-the-art for a variety of tasks in natural language understanding. It can be argued that the use of language modelling (which is not without its limitations) is one of the main reasons computers have shown great improvements in their semantic understanding of language.\n",
        "\n",
        "One interesting aspect of the transfer learning methods mentioned above is that they use language models pre-trained on well-formed, massive curated datasets that include full sentences with a clear syntax (such as [Wikipedia articles](https://blog.einstein.ai/the-wikitext-long-term-dependency-language-modeling-dataset/) and [the 1 billion word benchmark](https://ai.google/research/pubs/pub41880)). The natural question that arises is — how well can such pre-trained language models generalize to natural language tasks from a different distribution, such as Tweets?"
      ]
    },
    {
      "cell_type": "markdown",
      "metadata": {
        "id": "EQEdDwGpFEUs",
        "colab_type": "text"
      },
      "source": [
        "##Goal of this post\n",
        "\n",
        "In this post we will discuss and compare two modern transfer learning approaches — ULMFiT and OpenAI’s GPT (“Generative Pre-Training”), and show how they can be fine-tuned with relative ease to perform classification tasks from a different distribution — in this case, classifying the stance of Tweets towards a target topic.\n",
        "\n",
        "We will aim to develop a modelling approach that can help answer the following questions:\n",
        "\n",
        "- Does our fine-tuned language model (and classifier) generalize to the unstructured and messy language syntax of Tweets?\n",
        "- Can we achieve reasonable accuracy (comparable to a benchmark result from 2016) with minimal task-specific customization for each model and with limited computing resources?\n",
        "- How do the classification results vary based on the model architecture used?\n",
        "\n",
        "All the code and data for the results shown below are available in [this GitHub repo](https://github.com/prrao87/tweet-stance-prediction).\n",
        "\n",
        "**A full description of ULMFiT and OpenAI’s GPT is too long a topic for this post, but [this article](https://medium.com/explorations-in-language-and-learning/transfer-learning-in-nlp-2d09c3dfaeb6) does an excellent job of highlighting the technical details of both model architectures and why they matter, so please do read it!**"
      ]
    },
    {
      "cell_type": "markdown",
      "metadata": {
        "id": "wIe2GEmNJAZ3",
        "colab_type": "text"
      },
      "source": [
        "##Background\n",
        "\n",
        "Before going into the details of transfer learning for Tweet stance classification, let’s clarify some terminology to understand why transfer learning has so drastically improved state-of-the-art for a variety of natural language tasks in recent times.\n",
        "\n"
      ]
    },
    {
      "cell_type": "markdown",
      "metadata": {
        "id": "3mqDrOAWJANs",
        "colab_type": "text"
      },
      "source": [
        "###Moving on from word embeddings\n",
        "\n",
        "Historically, pre-trained word embedding techniques such as [word2vec](http://papers.nips.cc/paper/5021-distributed-representations-of-words-andphrases) and [GloVe](https://nlp.stanford.edu/pubs/glove.pdf), were heavily used in NLP to initialize the first layer of a neural network before training for a new task. These are shallow representations (a single layer of weights, known as embeddings). Any prior knowledge from the word embeddings are only present in the first layer of the network — the entire network would still need to be trained from scratch for a new target task.\n",
        "\n",
        "To derive meaning from sequences of words (such as those seen in natural language), models that utilize word embeddings would still need tremendous amounts of data to disambiguate large sets of words and “learn” from a completely new and unseen vocabulary. **As shown in a benchmark result discussed later in this post, the amount of data required for transferring knowledge through word embeddings can be huge, which can result in very large computational costs**. Throughout 2018, the advent of [powerful pre-trained language models](https://www.sysml.cc/doc/50.pdf) have shown that is possible to gain a much deeper understanding of language semantics and structure for new tasks, especially for long sequences, using the knowledge gained from pre-training on large text corpora.\n",
        "\n"
      ]
    },
    {
      "cell_type": "markdown",
      "metadata": {
        "id": "by3SYlUyKqB6",
        "colab_type": "text"
      },
      "source": [
        "###Language Modelling\n",
        "\n",
        "A language model attempts to learn the structure of natural language through hierarchical representations, and thus contains both low-level features (word representations) and high-level features (semantic meaning). A key feature of language modelling is that it is generative, meaning that it aims to predict the next word given a previous sequence of words. It is able to do this because **language models are typically trained on very large datasets in an unsupervised manner, and hence the model can “learn” the syntactic features of language in a much deeper way than word embeddings**.\n",
        "\n",
        "[In his post](http://ruder.io/nlp-imagenet/), Sebastian Ruder does a very elegant job of highlighting why language modelling is so powerful for a broad range of NLP tasks. Unlabelled language data is relatively easy to obtain (it is freely available in the form of large text corpora), so by feeding a language model a sufficiently large dataset, it is now possible to perform unsupervised pre-training on billions of words while incorporating a deeper knowledge of language syntax.\n",
        "\n",
        "**Semi-supervised learning**\n",
        "\n",
        "Transfer learning in NLP is now typically done as a multi-step process— where an entire network is first pre-trained in an unsupervised manner with a language modelling objective. Following this, the model is then fine-tuned on a new task using a supervised approach (with some labelled data), which can then be used for tasks such as text classification. This combination of unsupervised pre-training (using language modelling) followed by supervised fine-tuning is termed as semi-supervised learning, and is the approach used to solve our Tweet stance classification problem in this post."
      ]
    },
    {
      "cell_type": "markdown",
      "metadata": {
        "id": "jqsMbrKLMyCA",
        "colab_type": "text"
      },
      "source": [
        "##Dataset Used\n",
        "\n",
        "The Tweet dataset used in this post comes from this SemEval 2016 shared task, which contains Tweets that pertain to the following five topics :\n",
        "\n",
        "- Atheism\n",
        "- Climate change is a concern\n",
        "- Feminist movement\n",
        "- Hillary Clinton\n",
        "- Legalization of abortion\n",
        "\n",
        "The labelled data provided consists of a target topic, a Tweet that pertains to it, and stance of the Tweet towards the target. The data is already split into a training set (containing 2,914 Tweets) and a test set (containing 1,249 Tweets). The stance can be one of three labels: “FAVOUR”, “AGAINST” and “NEITHER”, hence this is a multi-class dataset.\n",
        "\n",
        "![alt text](https://cdn-images-1.medium.com/max/800/1*A4sRK2Vq15ROr7aYjceOWA.png)\n",
        "\n"
      ]
    },
    {
      "cell_type": "markdown",
      "metadata": {
        "id": "7bmK1bZlNDwe",
        "colab_type": "text"
      },
      "source": [
        "###The challenge of detecting stance\n",
        "\n",
        "Stance detection is a subcategory of opinion mining, where the task is to automatically determine whether the author of a piece of text is in favour or against a given target. Consider the following two Tweets:\n",
        "\n",
        "```\n",
        "We don’t inherit the earth from our parents we borrow it from our children\n",
        "Last time I checked, Al Gore is a politician, not a scientist.\n",
        "```\n",
        "To a human observer, it is reasonably clear that both Tweets are relevant to the topic of climate change, and that each expresses a particular stance towards the topic of climate change. However, to a machine, detecting this stance is a difficult problem on multiple fronts. The informal and unstructured syntax of Tweets combined with the fact that machines lack proper contextual awareness and historical knowledge that humans have (for example, knowing who Al Gore is), makes this a challenging problem for machine learning algorithms. In addition, gathering large amounts of labelled data for Tweet stance in order to train a machine learning algorithm is expensive and tedious. It is becoming more and more necessary to develop deep learning methods that can work with limited amounts of training data and still yield useful insights.\n",
        "\n",
        "**Stance and sentiment are not the same!**\n",
        "\n",
        "Stance detection is related to, but not the same as sentiment analysis. In sentiment analysis, we are interested in whether a piece of text is positive, negative, or neutral based on just the content of the language used. Typically, for sentiment analysis, the choice of positive or negative language correlates with the overall sentiment of the text.\n",
        "\n",
        "However, the stance of a piece of text is defined with respect to a target topic, and can be independent of whether positive or negative language was used. The target (topic towards which opinion is expressed) may or may not be mentioned directly in the actual text, and any entities mentioned in the text may or may not be the actual target of opinion. Below is an example from the [task creators’ paper.](https://arxiv.org/pdf/1605.01655.pdf)\n",
        "\n",
        "\n",
        "\n",
        "```\n",
        "Topic: legalization of abortion\n",
        "Tweet: The pregnant are more than walking incubators. They have rights too!\n",
        "Stance: Favour\n",
        "```\n",
        "\n",
        "In the above example, since the topic is phrased as “legalization of abortion”, the Tweet can be interpreted as being in favour of the topic. Had it been phrased as “Pro-life movement”, its stance would have been against the topic. It is clear from this example that the language used in the Tweet is only loosely positive in its sentiment; however this sentiment has no bearing on whether it is in favour of, or against the topic.\n",
        "\n",
        "**Class Imbalance**\n",
        "\n",
        "The below table shows a breakdown of how many Tweets pertain to each topic in the dataset. The 2,914 Tweets are distributed unequally per topic, and there is significant variation in the number of Tweets belonging to each class for each topic. To explore the distribution and inspect the Tweets in more detail, take a look at the fully interactive visualization provided by the task creators.\n",
        "\n",
        "![alt text](https://cdn-images-1.medium.com/max/800/1*2-sDmSXLreNqfHQK14EJwA.png)\n",
        "\n",
        "![](https://cdn-images-1.medium.com/max/800/1*Qp_wDFPHC8AkmxPJ5HgwMA.png)\n",
        "\n",
        "Looking at this distribution, the stance classification task appears quite challenging — not only is the dataset small (a couple of thousand training samples in total, ranging from a minimum of 395 to a maximum 689 Tweets per topic) — but there is also a significant class imbalance in the samples. For example, the topic “climate change is a concern” has a larger percentage of training samples classified as “favour”, and a very small percentage (less than 4%) classified as “against”. On the other hand, the topic “atheism” has a much larger fraction of its samples classified as “against”.\n",
        "\n",
        "Any modelling approach for stance classification must be able to capture this class imbalance, both between and within the target classes."
      ]
    },
    {
      "cell_type": "markdown",
      "metadata": {
        "id": "SM7xvYAgW1ys",
        "colab_type": "text"
      },
      "source": [
        "###Evaluation Metric Used\n",
        "\n",
        "To evaluate classification performance, the creators of the task use a [macro-averaged F-score](http://www.aclweb.org/anthology/S16-1003), which is the harmonic mean of precision and recall for the two main classes “FAVOUR” and “AGAINST”. An example of how precision and recall are used in sentiment classification is given [here](https://streamhacker.com/2010/05/17/text-classification-sentiment-analysis-precision-recall/). In general, precision is at odds with recall, and hence the F-score provides a good way to gain insights into a classifier’s performance. Although we do not include the third class “NEITHER” in the evaluation, it is implicitly accounted for, since the system has to correctly predict all three classes to avoid being penalized heavily in either of the first two.\n",
        "\n",
        "To evaluate the F-score, a [perl script](http://alt.qcri.org/semeval2016/task6/index.php?id=data-and-tools) (whose usage will be described in later sections) was provided by the task creators— all we need to do is shape our stance classifier’s prediction output in a way that can be read by the evaluation script. The macro-averaged F-score obtained can then be compared with other models’ results.\n",
        "\n"
      ]
    },
    {
      "cell_type": "markdown",
      "metadata": {
        "id": "kotq5b4oXgIW",
        "colab_type": "text"
      },
      "source": [
        "###Benchmark Result for Comparison: MITRE\n",
        "\n",
        "The winning entry for this task in 2016 was from team MITRE, who describe their classification approach [in this paper](https://arxiv.org/pdf/1606.03784.pdf). To detect stance, MITRE used a Recurrent Neural Network (RNN) model organized into 4 layers as shown in the below image. The first layer contained one-hot-encoded tokens (i.e. words from the text) that were projected through a 256-embedding layer called the “projection layer”. The sequence of outputs were then fed into a “recurrent layer” (containing 128 LSTM units), whose output was then connected to a 128-dimensional layer of Rectified Linear Units (ReLUs) with 90% dropout. The final output layer was a 3-dimensional softmax layer representing each output class: FAVOUR, AGAINST and NONE.\n",
        "\n",
        "![alt text](https://cdn-images-1.medium.com/max/800/1*QxegdHYn8Ja-WmAfODym7w.png)\n",
        "\n",
        "MITRE also applied transfer learning (via the use of word embeddings) to reuse prior knowledge of Tweet syntax from a pre-trained model. This was accomplished through a multi-step pre-training process as described below:\n",
        "\n",
        "1. **Pre-training the projection layer:** The weights for the projection layer were initialized from 256-dimensional word embeddings learned using the [word2vec skip-gram method](https://arxiv.org/pdf/1301.3781.pdf). To do this, [MITRE extracted 218,179,858 English Tweets](https://arxiv.org/pdf/1606.03784.pdf) from Twitter’s public streaming API and then performed weakly supervised learning on this unlabelled dataset (after cleaning the Tweets and lower-casing them). To learn the meaning of compound phrases, they then applied [word2phrase](https://arxiv.org/pdf/1606.03784.pdf) to identify phrases comprised of up to four words. Out of the 218 million Tweets sampled, 537,366 vocabulary items were used (that appeared at least 100 times in the corpus).\n",
        "\n",
        "2. **Pre-training the recurrent layer**: The second layer of MITRE’s network, which consisted of 128 LSTM units, was initialized with weights pre-trained using distant supervision of a hashtag prediction auxiliary task. To begin, 197 hashtags were automatically identified that were relevant to the five topics under consideration (using a nearest-neighbour search of the word embedding space). Then, 298,973 Tweets (out of the total 218 million) were extracted that contained at least one of these 197 hashtags, and the network was trained to tune the word embeddings and the recurrent layer. Like before, the Tweets were lower-cased, stripped of all hashtags and phrase-chunked before tokenization.\n",
        "\n",
        "**Results: MITRE**\n",
        "\n",
        "The F-scores on unseen test data for each topic and class obtained by MITRE are shown below. Note that for the topic class “Climate change (AGAINST)”, the F-score is zero, meaning that their model did not predict any Tweets from the test set as being against climate change. However, just 3.8% of the training data from the climate change topic was of the class “AGAINST” (which amounts to just 15 training samples!), so it makes sense that the model might be lacking context for this particular class due to the sheer lack of training samples.\n",
        "\n",
        "![](https://cdn-images-1.medium.com/max/1600/1*_lYamPnTUOBu2KkplFL8QA.png)\n",
        "\n",
        "As [mentioned in their paper](https://arxiv.org/pdf/1606.03784.pdf), MITRE obtained a macro F-score (averaged across all topics) of 0.68. This was the best score among all 19 participants who submitted their results to the competition in 2016.\n",
        "\n",
        "The approach used by MITRE was a rather elaborate multi-step pre-training procedure using word embeddings that required the use of very large unlabelled datasets (hundreds of millions of samples), significant cleaning of the raw data and separate pre-training steps for each layer in the network. **The multitude of hand-crafted steps was mainly because of the limitations of word2vec embeddings** (which was the dominant approach to pre-training models in NLP at the time)."
      ]
    },
    {
      "cell_type": "markdown",
      "metadata": {
        "id": "ohPYl4yJHzT0",
        "colab_type": "text"
      },
      "source": [
        "# Method 1: ULMFiT\n",
        "\n",
        "ULMFiT has been entirely implemented in v1 of the fastai library (see fastai.text on their GitHub repo). Version 1 of fastai is built on top of PyTorch v1, so having some knowledge of PyTorch objects is beneficial to get started. In this post, we cover some of the techniques that fastai has developed that make it very convenient to do transfer learning, even for someone with relatively little deep learning experience."
      ]
    },
    {
      "cell_type": "markdown",
      "metadata": {
        "id": "ukv_nBddIRWL",
        "colab_type": "text"
      },
      "source": [
        "##Training Steps\n",
        "\n",
        "As described in the original paper, ULMFiT consists of three stages.\n",
        "\n",
        "1. Training the language model on a general-domain corpus that captures high-level natural language features\n",
        "2. Fine-tuning the pre-trained language model on target task data\n",
        "3. Fine-tuning the classifier on target task data\n",
        "\n",
        "![alt text](https://cdn-images-1.medium.com/max/2400/1*w_qNXVr7N2OPCK5iMnHAVQ.png)\n",
        "\n",
        "**We only perform steps 2 and 3** during Tweet stance classification. Step 1 is an unsupervised pre-training step, and is really computationally expensive — which is why the models have been [made available publicly](https://github.com/fastai/fastai/blob/master/fastai/datasets.py) by fastai so others can benefit from their work. We bank on the pre-trained language model’s ability to capture long-term dependencies in any target text (in English) that we might encounter.\n",
        "\n",
        "All the code for this section is available in a Jupyter notebook [ulmfit.ipynb](https://github.com/prrao87/tweet-stance-prediction/blob/master/ulmfit.ipynb). For brevity, only the key elements of the approach are discussed in this post — feel free to look through the full notebook and this project’s main GitHub repo for a deep-dive into the working code for classifying Tweet stance.\n",
        "\n",
        "- **Discriminative Fine-tuning**: Each layer of the model captures different types of information. Hence, it makes sense to fine-tune each layer’s learning rates differently, and this is done in ULMFiT based on [extensive empirical testing and implementation updates](https://github.com/cedrickchee/knowledge/blob/master/courses/fast.ai/deep-learning-part-2/2018-edition/lesson-10-transfer-learning-nlp.md). It was empirically found that first fine-tuning only the last layer (with the others frozen), and then unfreezing all the layers and applying a learning rate lowered by a factor of 2.6 for all other layers during language model fine-tuning [worked well in most cases.](https://arxiv.org/pdf/1801.06146.pdf)\n",
        "\n",
        "- **1-cycle learning rate policy**: In the fine-tuning stage, we apply 1-cycle learning rates, which comes from this [report by Leslie Smith](https://arxiv.org/abs/1803.09820). It is a modification of the cyclical learning rate policy, which has been around for a long time, but the 1-cycle policy allows a larger initial learning rate (say max_LR = 1e-03), but decreases it by several orders of magnitude just at the last epoch. This seems to provide greater final accuracy. Note that this doesn’t mean we run it for one epoch — the ‘1’ in 1-cycle means it just cycles the learning rate down one epoch before the max epochs that we specify. In the ULMFiT implementation, this 1-cycle policy has been tweaked and is referred to as *slanted triangular learning rates*.\n",
        "\n",
        "- **Gradual unfreezing**: During classification, rather than fine-tuning all the layers at once, the layers are “frozen” and the last layer is fine-tuned first, followed by the next layer before it, and so on. This avoids the phenomenon known as **catastrophic forgetting** (by losing all prior knowledge gained from the language model).\n",
        "\n",
        "- **Concatenated pooling**: Pooling is a component of neural networks to aggregate the learned features and reduce the overall computational burden of a large network. In case you’re curious, a good introduction to pooling as applied in LSTMs is given [in this paper](https://arxiv.org/pdf/1706.05157.pdf). In ULMFiT, because an input text can consist of hundreds or thousands of words, information might get lost if we only consider the last hidden state in the LSTM. To avoid this information loss, the hidden state at the last time step is concatenated with both the max-pooled and mean-pooled representation of the hidden states over as many time steps as can fit in GPU memory.\n",
        "\n"
      ]
    },
    {
      "cell_type": "markdown",
      "metadata": {
        "id": "qXa8U5650P1j",
        "colab_type": "text"
      },
      "source": [
        "This notebook shows how transfer learning, an extension of deep learning, can be used for predicting Tweet stance toward a particular topic.\n",
        "\n",
        "- https://towardsdatascience.com/transfer-learning-in-nlp-for-tweet-stance-classification-8ab014da8dde\n",
        "- https://github.com/prrao87/tweet-stance-prediction/blob/master/ulmfit.ipynb\n"
      ]
    },
    {
      "cell_type": "markdown",
      "metadata": {
        "id": "djqcTs49tPDN",
        "colab_type": "text"
      },
      "source": [
        "# 1.Motivation\n",
        "\n",
        "The traditional approach to applying deep learning methods in NLP have involved feeding a model large amounts of labeled training data, and fitting the model's parameters to this data. In practice, natural language data is highly variable and can come in a variety of forms (tweets, blog posts, reviews etc.), and hence, a model trained for a particular language task does not generalize well to new data from another distribution. In addition, many natural language applications do not come with an abundance of labeled examples, and human annotation can get very expensive as the datasets get larger.\n",
        "\n",
        "This offers good motivation to explore the notion of transfer learning - a machine-learning technique that has the ability to transfer knowledge to novel scenarios not encountered during training. While transfer learning has been ubiquitous throughout computer vision applications since the advent of huge datasets such as ImageNet, it is only since 2017-18 that significant progress has been made for transfer learning in NLP applications. There have been a string of interesting papers in 2018 that discuss the power of language models in natural language understanding and how they can be used to provide pre-trained representations of a language's syntax, which can be far more useful when training a neural network for previously unseen tasks.\n",
        "\n",
        "Twitter data is a very interesting use case for transfer learning, mainly because the typical language syntax seen in Tweets is quite different from that which is used to train language models. For these reasons, the 2016 SemEval Stance Detection task is chosen for studying the effectiveness of our transfer learning approach. The dataset, experiments and the evaluation criteria used are explained in below sections.\n",
        "\n",
        "The aim of this notebook is to highlight the development of a model that can help answer the following questions:\n",
        "\n",
        "- How does our approach generalize to Twitter-specific language syntax?\n",
        "- Are we able to achieve reasonable results (comparable to the winning team of SemEval 2016 Task 6) with limited amounts of training data and limited computing resources?\n",
        "- How much fine-tuning effort is required to achieve reasonable results?\n",
        "\n"
      ]
    },
    {
      "cell_type": "markdown",
      "metadata": {
        "id": "vLzpjJzRt_R_",
        "colab_type": "text"
      },
      "source": [
        "#2.Approach\n",
        "\n",
        "This section describes the 3-Layer LSTM architecture used for transfer learning, ULMFit. This is the architecture described in the well known paper by Howard and Ruder, 2018, that has been proven to generalize well to unseen distributions. The goal is to see how ULMFit can perform in this particular Tweet stance classification task.\n",
        "\n"
      ]
    },
    {
      "cell_type": "markdown",
      "metadata": {
        "id": "CioHj-g_uoz1",
        "colab_type": "text"
      },
      "source": [
        "##2.1 ULMFit Model Architecture\n",
        "\n",
        "![alt text](https://github.com/prrao87/tweet-stance-prediction/raw/f12cf924db7c947d5b681c01f492da029c08c415/assets/ulmfit_arch.png?raw=true)\n",
        "\n",
        "Source: Howard and Ruder, 2018\n",
        "\n",
        "To classify out-of-domain data (such as our Twitter data), the following techniques are applied from the ULMFit paper:\n",
        "\n",
        "**Discriminative Fine-tuning¶**\n",
        "\n",
        "From the ULMFit paper, each layer of the model captures different types of information. Hence, it makes sense to fine-tune each layer differently, and this is done in ULMFit after extensive empirical testing and implementation updates. Rather than change each layer manually, we can use the implemented ratios, but adapt the multiplier that influences the learning rate for each layer.\n",
        "\n",
        "ULMFit also uses discriminative fine-tuning with regard to the SGD update as follows:\n",
        "\n",
        "$\\theta_{t}^{l} = \\theta_{t-1}^{l} - \\eta^{l} \\cdot \\nabla_{\\theta^l} J{\\theta} $\n",
        "\n",
        "**1-cycle learning rate policy**\n",
        "\n",
        "In the fine-tuning stage, a 1-cycle learning rate policy is applied, which comes from this report by Leslie Smith. It is a modification of the cyclical learning rate policy, which has been around for a long time, but the 1-cycle policy allows a large initial learning rate ($LR_{max}=10^{-3}$, for example), but decreases it by several orders of magnitude just at the last epoch. This seems to provide greater final accuracy. In the ULMFit implementation, this 1-cycle policy has been tweaked and is referred to as slanted triangular learning rate.\n",
        "\n",
        "**Gradual unfreezing**\n",
        "\n",
        "Rather than training all the layers at once during classification, the layers are \"frozen\" and the last layer is fine-tuned first, followed by the next layer before it, and so on. This avoids the phenomenon known as catastrophic forgetting (by fine-tuning all layers too aggressively).\n",
        "\n",
        "**Concatenated pooling**\n",
        "\n",
        "Because an input text can consist of hundreds or thousands of words, information might get lost if we only consider the last hidden state.\n",
        "\n",
        "Hence, the hidden state at the last time step, $h_T$ is concatenated with both the max-pooled and mean-pooled representation of the hidden states over as many time steps as can fit in GPU memory.\n",
        "\n",
        "$h_C = [h_T, maxpool(H), meanpool(H)]$\n",
        "\n",
        "Where $H$ is the vector of all hidden states.\n",
        "\n",
        "**3-stage fine-tuning methodology**\n",
        "\n",
        "The classification task is done in a 3-stage process:\n",
        "\n",
        "- General-domain LM pretraining: ULMFit has a pretrained model generated using an AWD-LSTM (as per Merity et al., 2017)) to develop a language model called Wikitext-103 and was trained of 28,595 preprocessed Wikipedia articles, totalling to 103 million words.\n",
        "- Target task LM fine-tuning: Since the data for the target will likely come from a different distribution, ULMFit allows us to use the pre-trained language model and fine-tune it (using the above techniques) to adapt to the idiosyncrasies of the target data.\n",
        "- Target task classifier fine-tuning: Once we save the updated weights from the language model fine-tuning step, we can fine-tune the classifier with gradual unfreezing and the other techniques described above to perform task-specific class prediction.\n",
        "- Note that for this SemEval Tweet stance classification task, we only perform steps 2 and 3, and utilize the pretrained language model from the fastai database.\n",
        "\n"
      ]
    },
    {
      "cell_type": "markdown",
      "metadata": {
        "id": "SNxrPP8G0yyK",
        "colab_type": "text"
      },
      "source": [
        "#3. Data\n",
        "\n",
        "The training and test data consist of Tweets pertaining to five distinct topics, shown in SemEval 2016: Task 6. We only look at Task A: \"Supervised Framework\" in this notebook. The train and test data (including the gold) are in the the data/ directory provided along with this repository.\n",
        "\n",
        "The five topics for which Tweets are provided as part of the training data are given below.\n",
        "\n",
        "-Topic\n",
        " - Atheism\n",
        " - Climate Change is a Real Concern\n",
        " - Feminist Movement\n",
        " - Hillary Clinton\n",
        " - Legalization of Abortion\n",
        " \n",
        "A more detailed breakdown of the tweets for this shared task is provided in this link.\n",
        "\n",
        "**Size of dataset**\n",
        "\n",
        "The total number of Tweets (in the training set) available for this task is roughly 2700, which amounts to roughly 500-600 Tweets per topic. Thus, this can be considered a small dataset.\n",
        "\n",
        "![alt text](https://github.com/prrao87/tweet-stance-prediction/raw/f12cf924db7c947d5b681c01f492da029c08c415/assets/stance_balance.png?raw=true)\n",
        "\n",
        "Upon inspecting the training data, it is clear that there is quite a large variance in terms of the number of Tweets in favor vs. those against a topic. There is quite a large variance within classes as well as between classes in the overall data.\n"
      ]
    },
    {
      "cell_type": "markdown",
      "metadata": {
        "id": "thmE-0qAUCCu",
        "colab_type": "text"
      },
      "source": [
        "##3.1 Pretrained language models\n",
        "\n",
        "ULMFit uses its own pretrained language model wikitext-103 that can be conveniently downloaded from the fastai database hosted on AWS."
      ]
    },
    {
      "cell_type": "markdown",
      "metadata": {
        "id": "crw9WAEfUEU7",
        "colab_type": "text"
      },
      "source": [
        "##3.2 Preprocess SemEval training data\n",
        "\n",
        "The original Tweets can contain some arbitrary non-English characters, so we take care of this before loading in the language model. Note that this only removes non-English characters, but does not do any other kind of aggressive pre-processing (like lower-casing or removing entire words or hashtags). We retain the entirety of the information in the raw data and let the language model do the heavy lifting.\n",
        "\n",
        "This section discusses the steps used to prepare the data for transfer learning utilizing the fastai framework. In particular, the fastai.text library is designed to work very well with tabular data, hence, Pandas DataFrames are used to organize and filter the data."
      ]
    },
    {
      "cell_type": "code",
      "metadata": {
        "id": "C1bFBeG5tM9D",
        "colab_type": "code",
        "colab": {}
      },
      "source": [
        "from fastai import *\n",
        "from fastai.text import *"
      ],
      "execution_count": 0,
      "outputs": []
    },
    {
      "cell_type": "markdown",
      "metadata": {
        "id": "jk1lSF0vcjMV",
        "colab_type": "text"
      },
      "source": [
        "**Define the path to train and test data for SemEval 2016 Task 6**\n",
        "\n",
        "The full data and evaluation files for this task is available on the [source page](http://alt.qcri.org/semeval2016/task6/index.php?id=data-and-tools). However, these have been included along with this repository for future reference."
      ]
    },
    {
      "cell_type": "code",
      "metadata": {
        "id": "EvntAuQ2dNvX",
        "colab_type": "code",
        "outputId": "0e2d28db-3044-4baf-b076-3986663ce961",
        "colab": {
          "base_uri": "https://localhost:8080/",
          "height": 391
        }
      },
      "source": [
        "!wget http://alt.qcri.org/semeval2016/task6/data/uploads/semeval2016-task6-trainingdata.txt\n",
        "!wget http://alt.qcri.org/semeval2016/task6/data/uploads/semeval2016-task6-testdata.zip"
      ],
      "execution_count": 0,
      "outputs": [
        {
          "output_type": "stream",
          "text": [
            "--2019-06-02 01:17:14--  http://alt.qcri.org/semeval2016/task6/data/uploads/semeval2016-task6-trainingdata.txt\n",
            "Resolving alt.qcri.org (alt.qcri.org)... 13.93.27.76\n",
            "Connecting to alt.qcri.org (alt.qcri.org)|13.93.27.76|:80... connected.\n",
            "HTTP request sent, awaiting response... 200 OK\n",
            "Length: 397092 (388K) [text/plain]\n",
            "Saving to: ‘semeval2016-task6-trainingdata.txt’\n",
            "\n",
            "semeval2016-task6-t 100%[===================>] 387.79K   892KB/s    in 0.4s    \n",
            "\n",
            "2019-06-02 01:17:15 (892 KB/s) - ‘semeval2016-task6-trainingdata.txt’ saved [397092/397092]\n",
            "\n",
            "--2019-06-02 01:17:16--  http://alt.qcri.org/semeval2016/task6/data/uploads/semeval2016-task6-testdata.zip\n",
            "Resolving alt.qcri.org (alt.qcri.org)... 13.93.27.76\n",
            "Connecting to alt.qcri.org (alt.qcri.org)|13.93.27.76|:80... connected.\n",
            "HTTP request sent, awaiting response... 200 OK\n",
            "Length: 104831 (102K) [application/zip]\n",
            "Saving to: ‘semeval2016-task6-testdata.zip’\n",
            "\n",
            "semeval2016-task6-t 100%[===================>] 102.37K   320KB/s    in 0.3s    \n",
            "\n",
            "2019-06-02 01:17:17 (320 KB/s) - ‘semeval2016-task6-testdata.zip’ saved [104831/104831]\n",
            "\n"
          ],
          "name": "stdout"
        }
      ]
    },
    {
      "cell_type": "code",
      "metadata": {
        "id": "m67uUgDBUozh",
        "colab_type": "code",
        "outputId": "58895b8b-3751-4e94-d158-b9a6dab934cc",
        "colab": {
          "base_uri": "https://localhost:8080/",
          "height": 102
        }
      },
      "source": [
        "!unzip semeval2016-task6-testdata.zip"
      ],
      "execution_count": 0,
      "outputs": [
        {
          "output_type": "stream",
          "text": [
            "Archive:  semeval2016-task6-testdata.zip\n",
            "   creating: SemEval2016-Task6-testdata/\n",
            "  inflating: SemEval2016-Task6-testdata/SemEval2016-Task6-subtaskA-testdata.txt  \n",
            "  inflating: SemEval2016-Task6-testdata/SemEval2016-Task6-subtaskB-testdata.txt  \n",
            "  inflating: SemEval2016-Task6-testdata/SemEval2016-Task6-testdata-README.txt  \n"
          ],
          "name": "stdout"
        }
      ]
    },
    {
      "cell_type": "code",
      "metadata": {
        "id": "ftIOzt6RiFcm",
        "colab_type": "code",
        "colab": {}
      },
      "source": [
        "os.makedirs('data/twitter/',exist_ok=True)"
      ],
      "execution_count": 0,
      "outputs": []
    },
    {
      "cell_type": "code",
      "metadata": {
        "id": "u4RkyWugensS",
        "colab_type": "code",
        "outputId": "6efd29fc-4599-4ff4-9748-bfe8c99c7ba8",
        "colab": {
          "base_uri": "https://localhost:8080/",
          "height": 34
        }
      },
      "source": [
        "shutil.copy('/content/SemEval2016-Task6-testdata/SemEval2016-Task6-subtaskA-testdata.txt','/content/data/twitter/')\n",
        "shutil.copy('/content/semeval2016-task6-trainingdata.txt','/content/data/twitter/')"
      ],
      "execution_count": 0,
      "outputs": [
        {
          "output_type": "execute_result",
          "data": {
            "text/plain": [
              "'/content/data/twitter/semeval2016-task6-trainingdata.txt'"
            ]
          },
          "metadata": {
            "tags": []
          },
          "execution_count": 5
        }
      ]
    },
    {
      "cell_type": "code",
      "metadata": {
        "id": "Y2JY_JYdjVSp",
        "colab_type": "code",
        "colab": {}
      },
      "source": [
        "path = '/content/data/twitter/'\n",
        "trainfile = 'semeval2016-task6-trainingdata.txt'\n",
        "testfile = 'SemEval2016-Task6-subtaskA-testdata.txt'"
      ],
      "execution_count": 0,
      "outputs": []
    },
    {
      "cell_type": "markdown",
      "metadata": {
        "id": "FeVdXGIJleZ1",
        "colab_type": "text"
      },
      "source": [
        "Some of the characters in the training set are not utf-8 encoded, hence we make sure that we only treat the characters that appear in the English language for this task.\n",
        "\n"
      ]
    },
    {
      "cell_type": "code",
      "metadata": {
        "id": "Ph6FGLxUlZOe",
        "colab_type": "code",
        "colab": {}
      },
      "source": [
        "def clean_ascii(text):\n",
        "    # function to remove non-ASCII chars from data\n",
        "    return ''.join(i for i in text if ord(i) < 128)"
      ],
      "execution_count": 0,
      "outputs": []
    },
    {
      "cell_type": "code",
      "metadata": {
        "id": "8l_OnaJZlt8H",
        "colab_type": "code",
        "colab": {}
      },
      "source": [
        "train_orig = pd.read_csv(f'{path}/{trainfile}',delimiter='\\t',header=0,encoding='latin-1')"
      ],
      "execution_count": 0,
      "outputs": []
    },
    {
      "cell_type": "code",
      "metadata": {
        "id": "UNWriu9omFsS",
        "colab_type": "code",
        "outputId": "8bba831b-6ff5-4a8f-ba8c-ed1fd43d9945",
        "colab": {
          "base_uri": "https://localhost:8080/",
          "height": 204
        }
      },
      "source": [
        "train_orig.head()"
      ],
      "execution_count": 0,
      "outputs": [
        {
          "output_type": "execute_result",
          "data": {
            "text/html": [
              "<div>\n",
              "<style scoped>\n",
              "    .dataframe tbody tr th:only-of-type {\n",
              "        vertical-align: middle;\n",
              "    }\n",
              "\n",
              "    .dataframe tbody tr th {\n",
              "        vertical-align: top;\n",
              "    }\n",
              "\n",
              "    .dataframe thead th {\n",
              "        text-align: right;\n",
              "    }\n",
              "</style>\n",
              "<table border=\"1\" class=\"dataframe\">\n",
              "  <thead>\n",
              "    <tr style=\"text-align: right;\">\n",
              "      <th></th>\n",
              "      <th>ID</th>\n",
              "      <th>Target</th>\n",
              "      <th>Tweet</th>\n",
              "      <th>Stance</th>\n",
              "    </tr>\n",
              "  </thead>\n",
              "  <tbody>\n",
              "    <tr>\n",
              "      <th>0</th>\n",
              "      <td>101</td>\n",
              "      <td>Atheism</td>\n",
              "      <td>dear lord thank u for all of ur blessings forg...</td>\n",
              "      <td>AGAINST</td>\n",
              "    </tr>\n",
              "    <tr>\n",
              "      <th>1</th>\n",
              "      <td>102</td>\n",
              "      <td>Atheism</td>\n",
              "      <td>Blessed are the peacemakers, for they shall be...</td>\n",
              "      <td>AGAINST</td>\n",
              "    </tr>\n",
              "    <tr>\n",
              "      <th>2</th>\n",
              "      <td>103</td>\n",
              "      <td>Atheism</td>\n",
              "      <td>I am not conformed to this world. I am transfo...</td>\n",
              "      <td>AGAINST</td>\n",
              "    </tr>\n",
              "    <tr>\n",
              "      <th>3</th>\n",
              "      <td>104</td>\n",
              "      <td>Atheism</td>\n",
              "      <td>Salah should be prayed with #focus and #unders...</td>\n",
              "      <td>AGAINST</td>\n",
              "    </tr>\n",
              "    <tr>\n",
              "      <th>4</th>\n",
              "      <td>105</td>\n",
              "      <td>Atheism</td>\n",
              "      <td>And stay in your houses and do not display you...</td>\n",
              "      <td>AGAINST</td>\n",
              "    </tr>\n",
              "  </tbody>\n",
              "</table>\n",
              "</div>"
            ],
            "text/plain": [
              "    ID   Target                                              Tweet   Stance\n",
              "0  101  Atheism  dear lord thank u for all of ur blessings forg...  AGAINST\n",
              "1  102  Atheism  Blessed are the peacemakers, for they shall be...  AGAINST\n",
              "2  103  Atheism  I am not conformed to this world. I am transfo...  AGAINST\n",
              "3  104  Atheism  Salah should be prayed with #focus and #unders...  AGAINST\n",
              "4  105  Atheism  And stay in your houses and do not display you...  AGAINST"
            ]
          },
          "metadata": {
            "tags": []
          },
          "execution_count": 9
        }
      ]
    },
    {
      "cell_type": "code",
      "metadata": {
        "id": "EnSTAsZ0miDo",
        "colab_type": "code",
        "outputId": "2bf7ed76-c4a7-42e6-d3a4-4adbcad4f5fe",
        "colab": {
          "base_uri": "https://localhost:8080/",
          "height": 290
        }
      },
      "source": [
        "train_orig.Stance.value_counts().plot.bar(rot=30);"
      ],
      "execution_count": 0,
      "outputs": [
        {
          "output_type": "display_data",
          "data": {
            "image/png": "[encoded data removed]",
            "text/plain": [
              "<Figure size 432x288 with 1 Axes>"
            ]
          },
          "metadata": {
            "tags": []
          }
        }
      ]
    },
    {
      "cell_type": "code",
      "metadata": {
        "id": "QC6UqEXMo16s",
        "colab_type": "code",
        "outputId": "ae2cb909-002e-4bd0-ef7d-f934bf89699f",
        "colab": {
          "base_uri": "https://localhost:8080/",
          "height": 153
        }
      },
      "source": [
        "print(\"SemEval 2016 Task 6 (subtask A) Tweet topics are:\\n\")\n",
        "print(\"------------------------------------------\")\n",
        "for item in train_orig.Target.unique():\n",
        "    print(item)"
      ],
      "execution_count": 0,
      "outputs": [
        {
          "output_type": "stream",
          "text": [
            "SemEval 2016 Task 6 (subtask A) Tweet topics are:\n",
            "\n",
            "------------------------------------------\n",
            "Atheism\n",
            "Climate Change is a Real Concern\n",
            "Feminist Movement\n",
            "Hillary Clinton\n",
            "Legalization of Abortion\n"
          ],
          "name": "stdout"
        }
      ]
    },
    {
      "cell_type": "markdown",
      "metadata": {
        "id": "WfQ0nV7EpfKD",
        "colab_type": "text"
      },
      "source": [
        "**Apply the cleaning function to the 'Tweet' column of the training data**"
      ]
    },
    {
      "cell_type": "code",
      "metadata": {
        "id": "slOBa8g7pNCQ",
        "colab_type": "code",
        "colab": {}
      },
      "source": [
        "train_orig['Tweet'] = train_orig['Tweet'].apply(clean_ascii)"
      ],
      "execution_count": 0,
      "outputs": []
    },
    {
      "cell_type": "code",
      "metadata": {
        "id": "I0uNgu6jp-XA",
        "colab_type": "code",
        "outputId": "24064a35-2956-4e72-cd7d-cc9d709c5ea4",
        "colab": {
          "base_uri": "https://localhost:8080/",
          "height": 204
        }
      },
      "source": [
        "train_orig.head()"
      ],
      "execution_count": 0,
      "outputs": [
        {
          "output_type": "execute_result",
          "data": {
            "text/html": [
              "<div>\n",
              "<style scoped>\n",
              "    .dataframe tbody tr th:only-of-type {\n",
              "        vertical-align: middle;\n",
              "    }\n",
              "\n",
              "    .dataframe tbody tr th {\n",
              "        vertical-align: top;\n",
              "    }\n",
              "\n",
              "    .dataframe thead th {\n",
              "        text-align: right;\n",
              "    }\n",
              "</style>\n",
              "<table border=\"1\" class=\"dataframe\">\n",
              "  <thead>\n",
              "    <tr style=\"text-align: right;\">\n",
              "      <th></th>\n",
              "      <th>ID</th>\n",
              "      <th>Target</th>\n",
              "      <th>Tweet</th>\n",
              "      <th>Stance</th>\n",
              "    </tr>\n",
              "  </thead>\n",
              "  <tbody>\n",
              "    <tr>\n",
              "      <th>0</th>\n",
              "      <td>101</td>\n",
              "      <td>Atheism</td>\n",
              "      <td>dear lord thank u for all of ur blessings forg...</td>\n",
              "      <td>AGAINST</td>\n",
              "    </tr>\n",
              "    <tr>\n",
              "      <th>1</th>\n",
              "      <td>102</td>\n",
              "      <td>Atheism</td>\n",
              "      <td>Blessed are the peacemakers, for they shall be...</td>\n",
              "      <td>AGAINST</td>\n",
              "    </tr>\n",
              "    <tr>\n",
              "      <th>2</th>\n",
              "      <td>103</td>\n",
              "      <td>Atheism</td>\n",
              "      <td>I am not conformed to this world. I am transfo...</td>\n",
              "      <td>AGAINST</td>\n",
              "    </tr>\n",
              "    <tr>\n",
              "      <th>3</th>\n",
              "      <td>104</td>\n",
              "      <td>Atheism</td>\n",
              "      <td>Salah should be prayed with #focus and #unders...</td>\n",
              "      <td>AGAINST</td>\n",
              "    </tr>\n",
              "    <tr>\n",
              "      <th>4</th>\n",
              "      <td>105</td>\n",
              "      <td>Atheism</td>\n",
              "      <td>And stay in your houses and do not display you...</td>\n",
              "      <td>AGAINST</td>\n",
              "    </tr>\n",
              "  </tbody>\n",
              "</table>\n",
              "</div>"
            ],
            "text/plain": [
              "    ID   Target                                              Tweet   Stance\n",
              "0  101  Atheism  dear lord thank u for all of ur blessings forg...  AGAINST\n",
              "1  102  Atheism  Blessed are the peacemakers, for they shall be...  AGAINST\n",
              "2  103  Atheism  I am not conformed to this world. I am transfo...  AGAINST\n",
              "3  104  Atheism  Salah should be prayed with #focus and #unders...  AGAINST\n",
              "4  105  Atheism  And stay in your houses and do not display you...  AGAINST"
            ]
          },
          "metadata": {
            "tags": []
          },
          "execution_count": 13
        }
      ]
    },
    {
      "cell_type": "markdown",
      "metadata": {
        "id": "CQWBtbPn0PL2",
        "colab_type": "text"
      },
      "source": [
        "**Store the relevant information from training data**\n",
        "\n",
        "ULMFit requires just the stance and the text data (i.e. tweets) for the language-model finetuning and classification steps, hence these are stored in a DataFrame."
      ]
    },
    {
      "cell_type": "code",
      "metadata": {
        "id": "DR2I5Of30VEj",
        "colab_type": "code",
        "outputId": "fea04c30-e690-4b0a-faee-76a5a7df4696",
        "colab": {
          "base_uri": "https://localhost:8080/",
          "height": 204
        }
      },
      "source": [
        "train = pd.concat([train_orig['Stance'], train_orig['Tweet']], axis=1)\n",
        "train.tail()"
      ],
      "execution_count": 0,
      "outputs": [
        {
          "output_type": "execute_result",
          "data": {
            "text/html": [
              "<div>\n",
              "<style scoped>\n",
              "    .dataframe tbody tr th:only-of-type {\n",
              "        vertical-align: middle;\n",
              "    }\n",
              "\n",
              "    .dataframe tbody tr th {\n",
              "        vertical-align: top;\n",
              "    }\n",
              "\n",
              "    .dataframe thead th {\n",
              "        text-align: right;\n",
              "    }\n",
              "</style>\n",
              "<table border=\"1\" class=\"dataframe\">\n",
              "  <thead>\n",
              "    <tr style=\"text-align: right;\">\n",
              "      <th></th>\n",
              "      <th>Stance</th>\n",
              "      <th>Tweet</th>\n",
              "    </tr>\n",
              "  </thead>\n",
              "  <tbody>\n",
              "    <tr>\n",
              "      <th>2809</th>\n",
              "      <td>AGAINST</td>\n",
              "      <td>There's a law protecting unborn eagles, but no...</td>\n",
              "    </tr>\n",
              "    <tr>\n",
              "      <th>2810</th>\n",
              "      <td>AGAINST</td>\n",
              "      <td>I am 1 in 3... I have had an abortion #Abortio...</td>\n",
              "    </tr>\n",
              "    <tr>\n",
              "      <th>2811</th>\n",
              "      <td>AGAINST</td>\n",
              "      <td>How dare you say my sexual preference is a cho...</td>\n",
              "    </tr>\n",
              "    <tr>\n",
              "      <th>2812</th>\n",
              "      <td>AGAINST</td>\n",
              "      <td>Equal rights for those 'born that way', no rig...</td>\n",
              "    </tr>\n",
              "    <tr>\n",
              "      <th>2813</th>\n",
              "      <td>AGAINST</td>\n",
              "      <td>#POTUS seals his legacy w/ 1/2 doz wins. The #...</td>\n",
              "    </tr>\n",
              "  </tbody>\n",
              "</table>\n",
              "</div>"
            ],
            "text/plain": [
              "       Stance                                              Tweet\n",
              "2809  AGAINST  There's a law protecting unborn eagles, but no...\n",
              "2810  AGAINST  I am 1 in 3... I have had an abortion #Abortio...\n",
              "2811  AGAINST  How dare you say my sexual preference is a cho...\n",
              "2812  AGAINST  Equal rights for those 'born that way', no rig...\n",
              "2813  AGAINST  #POTUS seals his legacy w/ 1/2 doz wins. The #..."
            ]
          },
          "metadata": {
            "tags": []
          },
          "execution_count": 69
        }
      ]
    },
    {
      "cell_type": "markdown",
      "metadata": {
        "id": "KL4zcJ7CrEm9",
        "colab_type": "text"
      },
      "source": [
        "#4. Experimental Setup\n",
        "\n",
        "Stance detection uses a semi-supervised approach where we reuse weights from a pretrained language model (in this case wikitext-103) and perform multi-class classification on the training data over the three classes (FAVOR, AGAINST and NONE).\n",
        "\n",
        "Evaluation\n",
        "The metric used to score the stance classification is F-score. The event organizers provide an [evaluation script](http://alt.qcri.org/semeval2016/task6/index.php?id=data-and-tools) that calculates the macro-average of F-score (FAVOR) and F-score (AGAINST) for task A. This compares our model's predicted stance for each Tweet against the gold reference.\n",
        "\n",
        "The perl script provided by the organizers is used to generate an F- score. The evaluation script is in data/eval/ and has the following usage:\n",
        "\n",
        "```\n",
        "cd data/eval\n",
        "perl eval.pl -u\n",
        "\n",
        "---------------------------\n",
        "Usage:\n",
        "perl eval.pl goldFile guessFile\n",
        "\n",
        "goldFile:  file containing gold standards;\n",
        "guessFile: file containing your prediction.\n",
        "\n",
        "```"
      ]
    },
    {
      "cell_type": "code",
      "metadata": {
        "id": "WSVWmNPjPlib",
        "colab_type": "code",
        "outputId": "b179d1bd-68ae-4d64-f7ef-54d3c876082b",
        "colab": {
          "base_uri": "https://localhost:8080/",
          "height": 204
        }
      },
      "source": [
        "!wget http://alt.qcri.org/semeval2016/task6/data/uploads/eval_semeval16_task6_v2.zip"
      ],
      "execution_count": 0,
      "outputs": [
        {
          "output_type": "stream",
          "text": [
            "--2019-06-02 01:17:20--  http://alt.qcri.org/semeval2016/task6/data/uploads/eval_semeval16_task6_v2.zip\n",
            "Resolving alt.qcri.org (alt.qcri.org)... 13.93.27.76\n",
            "Connecting to alt.qcri.org (alt.qcri.org)|13.93.27.76|:80... connected.\n",
            "HTTP request sent, awaiting response... 200 OK\n",
            "Length: 7404 (7.2K) [application/zip]\n",
            "Saving to: ‘eval_semeval16_task6_v2.zip’\n",
            "\n",
            "\r          eval_seme   0%[                    ]       0  --.-KB/s               \reval_semeval16_task 100%[===================>]   7.23K  --.-KB/s    in 0s      \n",
            "\n",
            "2019-06-02 01:17:20 (623 MB/s) - ‘eval_semeval16_task6_v2.zip’ saved [7404/7404]\n",
            "\n"
          ],
          "name": "stdout"
        }
      ]
    },
    {
      "cell_type": "code",
      "metadata": {
        "id": "qxaV1g4FPzSt",
        "colab_type": "code",
        "outputId": "d76a5c0e-a78d-4d16-f714-3e4f643a4d64",
        "colab": {
          "base_uri": "https://localhost:8080/",
          "height": 306
        }
      },
      "source": [
        "!unzip eval_semeval16_task6_v2.zip -d {path}"
      ],
      "execution_count": 0,
      "outputs": [
        {
          "output_type": "stream",
          "text": [
            "Archive:  eval_semeval16_task6_v2.zip\n",
            "   creating: /content/data/twitter/eval_semeval16_task6_v2/\n",
            "  inflating: /content/data/twitter/eval_semeval16_task6_v2/.DS_Store  \n",
            "   creating: /content/data/twitter/__MACOSX/\n",
            "   creating: /content/data/twitter/__MACOSX/eval_semeval16_task6_v2/\n",
            "  inflating: /content/data/twitter/__MACOSX/eval_semeval16_task6_v2/._.DS_Store  \n",
            "  inflating: /content/data/twitter/eval_semeval16_task6_v2/eval.pl  \n",
            "  inflating: /content/data/twitter/__MACOSX/eval_semeval16_task6_v2/._eval.pl  \n",
            "  inflating: /content/data/twitter/eval_semeval16_task6_v2/gold_toy.txt  \n",
            "  inflating: /content/data/twitter/__MACOSX/eval_semeval16_task6_v2/._gold_toy.txt  \n",
            "  inflating: /content/data/twitter/eval_semeval16_task6_v2/guess_toy.txt  \n",
            "  inflating: /content/data/twitter/__MACOSX/eval_semeval16_task6_v2/._guess_toy.txt  \n",
            "  inflating: /content/data/twitter/eval_semeval16_task6_v2/guess_toy_unix.txt  \n",
            "  inflating: /content/data/twitter/__MACOSX/eval_semeval16_task6_v2/._guess_toy_unix.txt  \n",
            "  inflating: /content/data/twitter/eval_semeval16_task6_v2/readme.txt  \n",
            "  inflating: /content/data/twitter/__MACOSX/eval_semeval16_task6_v2/._readme.txt  \n",
            "  inflating: /content/data/twitter/__MACOSX/._eval_semeval16_task6_v2  \n"
          ],
          "name": "stdout"
        }
      ]
    },
    {
      "cell_type": "markdown",
      "metadata": {
        "id": "ID3ititkthyi",
        "colab_type": "text"
      },
      "source": [
        "**Reference result**\n",
        "\n",
        "To have a benchmark to compare our results against, it makes sense to look at the winning paper for this shared task, from team MITRE, who published their methodology and approach. From this paper, it can be seen that MITRE used an LSTM-based deep learning approach and performed per-topic classification of Tweets to achieve an average macro F-score of 0.67.\n",
        "\n",
        "**Stance Prediction**\n",
        "\n",
        "The predicted output stances on the test dataset is written out according to the format expected by the evaluation perl script, and the F-scores are published as per this evaluation."
      ]
    },
    {
      "cell_type": "markdown",
      "metadata": {
        "id": "WH5gWIHWydkt",
        "colab_type": "text"
      },
      "source": [
        "#5. Transfer Learning Stages\n",
        "\n",
        "This notebook utilizes the refactored and updated version (v1) of ULMFit as implemented in the fastai GitHub repository. This requires an install of Pytorch 1.0.0 (released on December 7, 2018) to run since its development intended to move alongside PyTorch's own development cycle in the future. It is recommended to run this entire notebook in a virtual environment to avoid clashes with pre-existing installs of PyTorch.\n",
        "\n",
        "The refactored code for ULMFit is much more high-level and abstracted than the original version that was used in the paper, so it doesn't make sense to rewrite the data manipulation code for text handling and tokenization from the ground up. We can take advantage of the powerful transfer learning functionality that is baked into ULMFit (obtained after months of fine-tuning and refactoring the source code by Fast.ai) instead!"
      ]
    },
    {
      "cell_type": "markdown",
      "metadata": {
        "id": "Uh1itS0wynun",
        "colab_type": "text"
      },
      "source": [
        "#5.1 Language model finetuning: (SemEval Tweets only)\n",
        "\n",
        "The pre-trained language model used is from this work by Merity et al.. Although we are working with Twitter whose content's structure that can be quite dissimilar to Wikipedia's sentence formulation, the hope is that the language understanding developed by the model, in combination with the fine-tuning techniques described in Howard and Ruder's paper, will allow us to at least transfer some knowledge for the purposes of classification of Tweet stance."
      ]
    },
    {
      "cell_type": "markdown",
      "metadata": {
        "id": "AwP_BvoeyyB6",
        "colab_type": "text"
      },
      "source": [
        "##Preprocess data for language model fine-tuning\n",
        "\n",
        "The TextLMDataBunch [source](https://docs.fast.ai/text.data.html#TextLMDataBunch) class returns a \"Databunch\" type of object that is a custom object defined in fastai.text's API. Note that according to this class definition, a significant amount of data pre-processing is going on under the hood.\n",
        "\n",
        "- Initialize the language model with the pre-trained vocabulary's weights\n",
        "- Create a custom data loader that \"batchifies\" the target task's vocabulary, i.e. split it up into batches for processing on the GPU\n",
        "- Introduce randomness into the batches, but without breaking up the sentence sequences using techniques [borrowed from language modeling](https://arxiv.org/pdf/1708.02182.pdf).\n",
        "- Tokenize the target task's vocabulary and increase the efficiency of tokenization (for large tasks) using multi-threading"
      ]
    },
    {
      "cell_type": "code",
      "metadata": {
        "id": "AyoBp2YtqBSh",
        "colab_type": "code",
        "colab": {}
      },
      "source": [
        "data_lm = (TextList.from_df(train_orig,path,cols='Tweet')\n",
        "          .split_by_rand_pct(0.1)\n",
        "          .label_for_lm()\n",
        "          .databunch(bs=32))\n",
        "          "
      ],
      "execution_count": 0,
      "outputs": []
    },
    {
      "cell_type": "code",
      "metadata": {
        "id": "zkAAaeF94N37",
        "colab_type": "code",
        "colab": {}
      },
      "source": [
        "# Language model data\n",
        "#data_lm = TextLMDataBunch.from_df(train_orig,path,cols='Tweet', min_freq=1)"
      ],
      "execution_count": 0,
      "outputs": []
    },
    {
      "cell_type": "markdown",
      "metadata": {
        "id": "9b536uR74Qub",
        "colab_type": "text"
      },
      "source": [
        "Note that in this case, we specify a minimum word frequency of 1 (i.e. words that appear just once in the data are given the tag <unk> during tokenization."
      ]
    },
    {
      "cell_type": "code",
      "metadata": {
        "id": "GzELeB4koB25",
        "colab_type": "code",
        "colab": {}
      },
      "source": [
        "#??TextLMDataBunch"
      ],
      "execution_count": 0,
      "outputs": []
    },
    {
      "cell_type": "code",
      "metadata": {
        "id": "mUt4cRXU06IG",
        "colab_type": "code",
        "colab": {}
      },
      "source": [
        "# Save the language and classifier model data for re-use\n",
        "data_lm.save('data_lm.pkl')"
      ],
      "execution_count": 0,
      "outputs": []
    },
    {
      "cell_type": "code",
      "metadata": {
        "id": "BXvBDP0x07KA",
        "colab_type": "code",
        "outputId": "08a2a49f-1a9e-478c-b2c0-b57ee03062a1",
        "colab": {
          "base_uri": "https://localhost:8080/",
          "height": 289
        }
      },
      "source": [
        "data_lm.show_batch()"
      ],
      "execution_count": 0,
      "outputs": [
        {
          "output_type": "display_data",
          "data": {
            "text/html": [
              "<table border=\"1\" class=\"dataframe\">\n",
              "  <thead>\n",
              "    <tr style=\"text-align: right;\">\n",
              "      <th>idx</th>\n",
              "      <th>text</th>\n",
              "    </tr>\n",
              "  </thead>\n",
              "  <tbody>\n",
              "    <tr>\n",
              "      <td>0</td>\n",
              "      <td>xxunk of my mind . # xxunk # xxmaj god # 2014 # semst xxbos xxmaj and stay in your xxunk and do not xxunk yourselves like that of the times of ignorance . \" [ xxmaj quran xxunk ] . # islam # semst xxbos xxmaj if we are xxunk whether something is xxunk or xxunk , we should leave it - this will # xxunk our # xxunk</td>\n",
              "    </tr>\n",
              "    <tr>\n",
              "      <td>1</td>\n",
              "      <td>you perfectly . # semst xxbos xxunk xxmaj you are quite xxunk . :) / xxunk xxunk # semst xxbos xxmaj every time i arrive at my home , i 'm n constant xxunk of how much my xxmaj god loves me xxunk family is better than xxunk . i xxup love xxup my xxup life # xxmaj blessed # semst xxbos i have been xxunk with xxmaj christ &amp;</td>\n",
              "    </tr>\n",
              "    <tr>\n",
              "      <td>2</td>\n",
              "      <td>still and forever will ever be , always in control . # xxup xxunk # semst xxbos xxup rt @prayerbullets : xxmaj let the xxunk of xxmaj your kingdom be released xxunk . xxunk # semst xxbos xxup rt @prayerbullets : xxmaj let the xxunk of my life and city be opened for the xxmaj king of xxunk to come in -ps . xxunk # semst xxbos xxmaj let us</td>\n",
              "    </tr>\n",
              "    <tr>\n",
              "      <td>3</td>\n",
              "      <td>xxunk makes clear xxmaj america is xxup not a xxmaj christian nation # semst xxbos xxunk i can see why it 's xxunk lol # lovewins # xxunk # semst xxbos xxmaj just because the xxmaj supreme xxmaj court xxunk something , does n't make anything equal . xxmaj equality , like anything else , is matter of the heart . # semst xxbos xxmaj today i am glad to</td>\n",
              "    </tr>\n",
              "    <tr>\n",
              "      <td>4</td>\n",
              "      <td>any xxmaj xxunk xxmaj american goes to church , they should realize that their make believe god supported their slavery . # semst xxbos xxmaj before going to church , xxmaj xxunk xxmaj americans should realize that their make believe god supported slavery . # xxunk # semst xxbos xxmaj take hold of your xxmaj authority in xxmaj christ ! xxmaj take back what the enemy has xxunk ! #</td>\n",
              "    </tr>\n",
              "  </tbody>\n",
              "</table>"
            ],
            "text/plain": [
              "<IPython.core.display.HTML object>"
            ]
          },
          "metadata": {
            "tags": []
          }
        }
      ]
    },
    {
      "cell_type": "markdown",
      "metadata": {
        "id": "mGlXAXobMTHs",
        "colab_type": "text"
      },
      "source": [
        "On viewing the tokenized Tweets, we can see that they look markedly different from their original form. The tokenization technique used by fastai.text is quite advanced and obtained [after months of development by Jeremy Howard and the fastai team](https://github.com/cedrickchee/knowledge/blob/master/courses/fast.ai/deep-learning-part-2/2018-edition/lesson-10-transfer-learning-nlp.md), and thus uses quite a few tricks to capture semantic meaning from the text.\n",
        "\n",
        "Note that **we are not converting the text to lowercase and removing stopwords (which was a common pre-tokenization approach in NLP until recently) — this would result in a tremendous loss of information** that the model could instead use to gather an understanding of the new task's vocabulary. Instead, a number of added tags are applied to each word as shown above so that minimal information is lost. All punctuation, hashtags and special characters are also retained.\n",
        "\n",
        "For example, the **xxmaj** token [source] indicates that there is capitalization of the word. \"The\" will be tokenized as \"**xxmaj the**\". Words that are fully capitalized, such as \"I AM SHOUTING\", are tokenized as \"**xxup i xxup am xxup shouting**\". The method still uses [spaCy's underlying tokenizer](https://spacy.io/usage/spacy-101#annotations-token) (including a multi-thread wrapper around spaCy to speed things up), but adds tags in a very smart way . This balances capturing semantic meaning with reducing the number of overall tokens — so it is both powerful and efficient. For a full list of all the token tags generated by ULMFiT’s fastai implementation, see the [source code here](https://github.com/fastai/fastai/blob/4cd2e454a735e208c60b2ff7f82bbb4b62e85725/fastai/text/transform.py#L19)\n",
        "\n",
        "."
      ]
    },
    {
      "cell_type": "code",
      "metadata": {
        "id": "eWdDJ9-b4bCd",
        "colab_type": "code",
        "colab": {}
      },
      "source": [
        "learn = language_model_learner(data_lm,AWD_LSTM,drop_mult=0.3)"
      ],
      "execution_count": 0,
      "outputs": []
    },
    {
      "cell_type": "markdown",
      "metadata": {
        "id": "nh29VIaLvN-b",
        "colab_type": "text"
      },
      "source": [
        "##Print the structure of the language model RNN\n",
        "\n",
        "We can examine the architecture of the 3-layer LSTM used in ULMFit as shown below. For the language model fine-tuning, we define the embeddings based on the the target task vocabulary size. A single linear output layer is defined that updates the weights once we pass the input through the network."
      ]
    },
    {
      "cell_type": "code",
      "metadata": {
        "id": "I2WcdMRJvTvf",
        "colab_type": "code",
        "outputId": "f4edf1f8-36df-4523-8296-80308c2cd11d",
        "colab": {
          "base_uri": "https://localhost:8080/",
          "height": 459
        }
      },
      "source": [
        "list(learn.model.children())"
      ],
      "execution_count": 0,
      "outputs": [
        {
          "output_type": "execute_result",
          "data": {
            "text/plain": [
              "[AWD_LSTM(\n",
              "   (encoder): Embedding(1860, 400, padding_idx=1)\n",
              "   (encoder_dp): EmbeddingDropout(\n",
              "     (emb): Embedding(1860, 400, padding_idx=1)\n",
              "   )\n",
              "   (rnns): ModuleList(\n",
              "     (0): WeightDropout(\n",
              "       (module): LSTM(400, 1150, batch_first=True)\n",
              "     )\n",
              "     (1): WeightDropout(\n",
              "       (module): LSTM(1150, 1150, batch_first=True)\n",
              "     )\n",
              "     (2): WeightDropout(\n",
              "       (module): LSTM(1150, 400, batch_first=True)\n",
              "     )\n",
              "   )\n",
              "   (input_dp): RNNDropout()\n",
              "   (hidden_dps): ModuleList(\n",
              "     (0): RNNDropout()\n",
              "     (1): RNNDropout()\n",
              "     (2): RNNDropout()\n",
              "   )\n",
              " ), LinearDecoder(\n",
              "   (decoder): Linear(in_features=400, out_features=1860, bias=True)\n",
              "   (output_dp): RNNDropout()\n",
              " )]"
            ]
          },
          "metadata": {
            "tags": []
          },
          "execution_count": 22
        }
      ]
    },
    {
      "cell_type": "markdown",
      "metadata": {
        "id": "CcchOcT8vgir",
        "colab_type": "text"
      },
      "source": [
        "##Find the optimum learning rate\n",
        "\n",
        "We define a learner object that uses the tokenized language model data, that is organized into batches for the GPU, and feed it a pre-trained language model as follows. [**fastai.train**](https://github.com/fastai/fastai/blob/050080be574cb1260462bbd03e9600e43e7a54b1/fastai/train.py#L23) provides a convenient utility to search through a range of learning rates to find the optimum one for our dataset. The idea is that our optimization function needs to use a learning rate that is at least an order of magnitude below the point at which the loss starts to diverge."
      ]
    },
    {
      "cell_type": "code",
      "metadata": {
        "id": "TqS7V1cr5XQ9",
        "colab_type": "code",
        "outputId": "025ccb02-536f-431d-dfd3-fb693926c38f",
        "colab": {
          "base_uri": "https://localhost:8080/",
          "height": 317
        }
      },
      "source": [
        "learn.lr_find()\n",
        "learn.recorder.plot(suggestion=True)"
      ],
      "execution_count": 0,
      "outputs": [
        {
          "output_type": "display_data",
          "data": {
            "text/html": [
              ""
            ],
            "text/plain": [
              "<IPython.core.display.HTML object>"
            ]
          },
          "metadata": {
            "tags": []
          }
        },
        {
          "output_type": "stream",
          "text": [
            "LR Finder is complete, type {learner_name}.recorder.plot() to see the graph.\n",
            "Min numerical gradient: 5.75E-02\n"
          ],
          "name": "stdout"
        },
        {
          "output_type": "display_data",
          "data": {
            "image/png": "[encoded data removed]",
            "text/plain": [
              "<Figure size 432x288 with 1 Axes>"
            ]
          },
          "metadata": {
            "tags": []
          }
        }
      ]
    },
    {
      "cell_type": "markdown",
      "metadata": {
        "id": "zdQ3IszGvt3b",
        "colab_type": "text"
      },
      "source": [
        "##Run the language_model_learner class\n",
        "\n",
        "The pre-trained language model quickly downloads from the fastai's AWS link, so there is no need to download it separately. [drop_mult] is the multiplier applied to the dropout in the language learner. As per the ULMFit paper, we use a custom dropout for each language model layer, and the drop_multjust scales [a numpy array of these dropouts](https://github.com/fastai/fastai/blob/1c5c007e10a187f4a048a3ee8137016534259768/fastai/text/learner.py#L15) which remain in the same relative ratio to one another. These numbers have been obtained through empirical tuning for a range of language tasks, and we took note of this during our extensive reading on this task."
      ]
    },
    {
      "cell_type": "code",
      "metadata": {
        "id": "0W5ZUwjQ5Z8X",
        "colab_type": "code",
        "outputId": "2c32e41c-ccf4-4e14-9239-c695f621bf46",
        "colab": {
          "base_uri": "https://localhost:8080/",
          "height": 204
        }
      },
      "source": [
        "learn.fit_one_cycle(5,1e-1,moms=(0.8,0.7))"
      ],
      "execution_count": 0,
      "outputs": [
        {
          "output_type": "display_data",
          "data": {
            "text/html": [
              "<table border=\"1\" class=\"dataframe\">\n",
              "  <thead>\n",
              "    <tr style=\"text-align: left;\">\n",
              "      <th>epoch</th>\n",
              "      <th>train_loss</th>\n",
              "      <th>valid_loss</th>\n",
              "      <th>accuracy</th>\n",
              "      <th>time</th>\n",
              "    </tr>\n",
              "  </thead>\n",
              "  <tbody>\n",
              "    <tr>\n",
              "      <td>0</td>\n",
              "      <td>4.510616</td>\n",
              "      <td>3.537758</td>\n",
              "      <td>0.317634</td>\n",
              "      <td>00:03</td>\n",
              "    </tr>\n",
              "    <tr>\n",
              "      <td>1</td>\n",
              "      <td>4.016086</td>\n",
              "      <td>3.669082</td>\n",
              "      <td>0.313616</td>\n",
              "      <td>00:03</td>\n",
              "    </tr>\n",
              "    <tr>\n",
              "      <td>2</td>\n",
              "      <td>3.759998</td>\n",
              "      <td>3.587425</td>\n",
              "      <td>0.324107</td>\n",
              "      <td>00:03</td>\n",
              "    </tr>\n",
              "    <tr>\n",
              "      <td>3</td>\n",
              "      <td>3.451572</td>\n",
              "      <td>3.515171</td>\n",
              "      <td>0.335826</td>\n",
              "      <td>00:03</td>\n",
              "    </tr>\n",
              "    <tr>\n",
              "      <td>4</td>\n",
              "      <td>3.138628</td>\n",
              "      <td>3.512726</td>\n",
              "      <td>0.336496</td>\n",
              "      <td>00:03</td>\n",
              "    </tr>\n",
              "  </tbody>\n",
              "</table>"
            ],
            "text/plain": [
              "<IPython.core.display.HTML object>"
            ]
          },
          "metadata": {
            "tags": []
          }
        }
      ]
    },
    {
      "cell_type": "code",
      "metadata": {
        "id": "Gc801JlZwkkg",
        "colab_type": "code",
        "colab": {}
      },
      "source": [
        "learn.save('stage-1')"
      ],
      "execution_count": 0,
      "outputs": []
    },
    {
      "cell_type": "markdown",
      "metadata": {
        "id": "i6VvxWV9y0AF",
        "colab_type": "text"
      },
      "source": [
        "##Unfreeze the entire model\n",
        "\n",
        "To train the language model during fine-tuning, we unfreeze all the layers and then perform training for a reasonable time until we obtain a low enough validation loss. For a larger target vocabulary, these hyperparameters might need to be modified, and the training time would be significantly longer, but for this SemEval task, we have a very small additional vocabulary to fine-tune the language model on, so it is really quick."
      ]
    },
    {
      "cell_type": "code",
      "metadata": {
        "id": "UGTt8mkHuq05",
        "colab_type": "code",
        "colab": {}
      },
      "source": [
        "learn.unfreeze()"
      ],
      "execution_count": 0,
      "outputs": []
    },
    {
      "cell_type": "code",
      "metadata": {
        "id": "WeTiz8RBuspK",
        "colab_type": "code",
        "outputId": "2ab8ab71-6799-4ace-b63b-3ba7a60c50e6",
        "colab": {
          "base_uri": "https://localhost:8080/",
          "height": 669
        }
      },
      "source": [
        "learn.fit_one_cycle(20,max_lr=1e-3,moms=(0.8,0.7))"
      ],
      "execution_count": 0,
      "outputs": [
        {
          "output_type": "display_data",
          "data": {
            "text/html": [
              "<table border=\"1\" class=\"dataframe\">\n",
              "  <thead>\n",
              "    <tr style=\"text-align: left;\">\n",
              "      <th>epoch</th>\n",
              "      <th>train_loss</th>\n",
              "      <th>valid_loss</th>\n",
              "      <th>accuracy</th>\n",
              "      <th>time</th>\n",
              "    </tr>\n",
              "  </thead>\n",
              "  <tbody>\n",
              "    <tr>\n",
              "      <td>0</td>\n",
              "      <td>2.713761</td>\n",
              "      <td>3.516617</td>\n",
              "      <td>0.335491</td>\n",
              "      <td>00:04</td>\n",
              "    </tr>\n",
              "    <tr>\n",
              "      <td>1</td>\n",
              "      <td>2.696316</td>\n",
              "      <td>3.518044</td>\n",
              "      <td>0.336384</td>\n",
              "      <td>00:04</td>\n",
              "    </tr>\n",
              "    <tr>\n",
              "      <td>2</td>\n",
              "      <td>2.657013</td>\n",
              "      <td>3.526532</td>\n",
              "      <td>0.337500</td>\n",
              "      <td>00:04</td>\n",
              "    </tr>\n",
              "    <tr>\n",
              "      <td>3</td>\n",
              "      <td>2.593151</td>\n",
              "      <td>3.548536</td>\n",
              "      <td>0.337723</td>\n",
              "      <td>00:04</td>\n",
              "    </tr>\n",
              "    <tr>\n",
              "      <td>4</td>\n",
              "      <td>2.500762</td>\n",
              "      <td>3.589635</td>\n",
              "      <td>0.335938</td>\n",
              "      <td>00:04</td>\n",
              "    </tr>\n",
              "    <tr>\n",
              "      <td>5</td>\n",
              "      <td>2.372510</td>\n",
              "      <td>3.652645</td>\n",
              "      <td>0.340067</td>\n",
              "      <td>00:04</td>\n",
              "    </tr>\n",
              "    <tr>\n",
              "      <td>6</td>\n",
              "      <td>2.214453</td>\n",
              "      <td>3.738857</td>\n",
              "      <td>0.336384</td>\n",
              "      <td>00:04</td>\n",
              "    </tr>\n",
              "    <tr>\n",
              "      <td>7</td>\n",
              "      <td>2.046955</td>\n",
              "      <td>3.848619</td>\n",
              "      <td>0.332701</td>\n",
              "      <td>00:04</td>\n",
              "    </tr>\n",
              "    <tr>\n",
              "      <td>8</td>\n",
              "      <td>1.879838</td>\n",
              "      <td>3.949362</td>\n",
              "      <td>0.332478</td>\n",
              "      <td>00:04</td>\n",
              "    </tr>\n",
              "    <tr>\n",
              "      <td>9</td>\n",
              "      <td>1.714730</td>\n",
              "      <td>4.096389</td>\n",
              "      <td>0.323549</td>\n",
              "      <td>00:04</td>\n",
              "    </tr>\n",
              "    <tr>\n",
              "      <td>10</td>\n",
              "      <td>1.570463</td>\n",
              "      <td>4.145843</td>\n",
              "      <td>0.322321</td>\n",
              "      <td>00:04</td>\n",
              "    </tr>\n",
              "    <tr>\n",
              "      <td>11</td>\n",
              "      <td>1.436232</td>\n",
              "      <td>4.255198</td>\n",
              "      <td>0.325670</td>\n",
              "      <td>00:04</td>\n",
              "    </tr>\n",
              "    <tr>\n",
              "      <td>12</td>\n",
              "      <td>1.317201</td>\n",
              "      <td>4.315860</td>\n",
              "      <td>0.320424</td>\n",
              "      <td>00:04</td>\n",
              "    </tr>\n",
              "    <tr>\n",
              "      <td>13</td>\n",
              "      <td>1.214070</td>\n",
              "      <td>4.361610</td>\n",
              "      <td>0.323661</td>\n",
              "      <td>00:04</td>\n",
              "    </tr>\n",
              "    <tr>\n",
              "      <td>14</td>\n",
              "      <td>1.144689</td>\n",
              "      <td>4.404058</td>\n",
              "      <td>0.323326</td>\n",
              "      <td>00:04</td>\n",
              "    </tr>\n",
              "    <tr>\n",
              "      <td>15</td>\n",
              "      <td>1.076816</td>\n",
              "      <td>4.444106</td>\n",
              "      <td>0.322991</td>\n",
              "      <td>00:04</td>\n",
              "    </tr>\n",
              "    <tr>\n",
              "      <td>16</td>\n",
              "      <td>1.025610</td>\n",
              "      <td>4.450331</td>\n",
              "      <td>0.321763</td>\n",
              "      <td>00:04</td>\n",
              "    </tr>\n",
              "    <tr>\n",
              "      <td>17</td>\n",
              "      <td>0.989736</td>\n",
              "      <td>4.479340</td>\n",
              "      <td>0.323661</td>\n",
              "      <td>00:04</td>\n",
              "    </tr>\n",
              "    <tr>\n",
              "      <td>18</td>\n",
              "      <td>0.975137</td>\n",
              "      <td>4.479071</td>\n",
              "      <td>0.322545</td>\n",
              "      <td>00:04</td>\n",
              "    </tr>\n",
              "    <tr>\n",
              "      <td>19</td>\n",
              "      <td>0.954214</td>\n",
              "      <td>4.474966</td>\n",
              "      <td>0.321205</td>\n",
              "      <td>00:04</td>\n",
              "    </tr>\n",
              "  </tbody>\n",
              "</table>"
            ],
            "text/plain": [
              "<IPython.core.display.HTML object>"
            ]
          },
          "metadata": {
            "tags": []
          }
        }
      ]
    },
    {
      "cell_type": "markdown",
      "metadata": {
        "id": "gkkPYOi6xWiS",
        "colab_type": "text"
      },
      "source": [
        "##Revise drop_mult = 0.5"
      ]
    },
    {
      "cell_type": "code",
      "metadata": {
        "id": "sTTfKDnouwp2",
        "colab_type": "code",
        "colab": {}
      },
      "source": [
        "learn = language_model_learner(data_lm,AWD_LSTM,drop_mult=0.5)"
      ],
      "execution_count": 0,
      "outputs": []
    },
    {
      "cell_type": "code",
      "metadata": {
        "id": "Dzfr9DSHxoen",
        "colab_type": "code",
        "outputId": "440e26c7-eada-46f7-b9ee-8ad2e8ec2232",
        "colab": {
          "base_uri": "https://localhost:8080/",
          "height": 317
        }
      },
      "source": [
        "learn.lr_find()\n",
        "learn.recorder.plot(suggestion=True)"
      ],
      "execution_count": 0,
      "outputs": [
        {
          "output_type": "display_data",
          "data": {
            "text/html": [
              ""
            ],
            "text/plain": [
              "<IPython.core.display.HTML object>"
            ]
          },
          "metadata": {
            "tags": []
          }
        },
        {
          "output_type": "stream",
          "text": [
            "LR Finder is complete, type {learner_name}.recorder.plot() to see the graph.\n",
            "Min numerical gradient: 6.92E-02\n"
          ],
          "name": "stdout"
        },
        {
          "output_type": "display_data",
          "data": {
            "image/png": "[encoded data removed]",
            "text/plain": [
              "<Figure size 432x288 with 1 Axes>"
            ]
          },
          "metadata": {
            "tags": []
          }
        }
      ]
    },
    {
      "cell_type": "code",
      "metadata": {
        "id": "q-YN5OFDxvmG",
        "colab_type": "code",
        "outputId": "20144091-35bc-452c-a872-a5a5bc627711",
        "colab": {
          "base_uri": "https://localhost:8080/",
          "height": 204
        }
      },
      "source": [
        "learn.fit_one_cycle(5,max_lr=1e-2,moms=(0.8,0.7))"
      ],
      "execution_count": 0,
      "outputs": [
        {
          "output_type": "display_data",
          "data": {
            "text/html": [
              "<table border=\"1\" class=\"dataframe\">\n",
              "  <thead>\n",
              "    <tr style=\"text-align: left;\">\n",
              "      <th>epoch</th>\n",
              "      <th>train_loss</th>\n",
              "      <th>valid_loss</th>\n",
              "      <th>accuracy</th>\n",
              "      <th>time</th>\n",
              "    </tr>\n",
              "  </thead>\n",
              "  <tbody>\n",
              "    <tr>\n",
              "      <td>0</td>\n",
              "      <td>5.599284</td>\n",
              "      <td>4.428317</td>\n",
              "      <td>0.251228</td>\n",
              "      <td>00:03</td>\n",
              "    </tr>\n",
              "    <tr>\n",
              "      <td>1</td>\n",
              "      <td>4.635528</td>\n",
              "      <td>3.472047</td>\n",
              "      <td>0.322098</td>\n",
              "      <td>00:03</td>\n",
              "    </tr>\n",
              "    <tr>\n",
              "      <td>2</td>\n",
              "      <td>4.068678</td>\n",
              "      <td>3.368303</td>\n",
              "      <td>0.335938</td>\n",
              "      <td>00:03</td>\n",
              "    </tr>\n",
              "    <tr>\n",
              "      <td>3</td>\n",
              "      <td>3.752622</td>\n",
              "      <td>3.337893</td>\n",
              "      <td>0.340290</td>\n",
              "      <td>00:03</td>\n",
              "    </tr>\n",
              "    <tr>\n",
              "      <td>4</td>\n",
              "      <td>3.559715</td>\n",
              "      <td>3.342294</td>\n",
              "      <td>0.338839</td>\n",
              "      <td>00:03</td>\n",
              "    </tr>\n",
              "  </tbody>\n",
              "</table>"
            ],
            "text/plain": [
              "<IPython.core.display.HTML object>"
            ]
          },
          "metadata": {
            "tags": []
          }
        }
      ]
    },
    {
      "cell_type": "code",
      "metadata": {
        "id": "j3r1Q4YDx7Ye",
        "colab_type": "code",
        "colab": {}
      },
      "source": [
        "learn.unfreeze()"
      ],
      "execution_count": 0,
      "outputs": []
    },
    {
      "cell_type": "code",
      "metadata": {
        "id": "u66PYtwLyDbC",
        "colab_type": "code",
        "outputId": "515296c7-c88e-4ac7-a303-ee1ad2dff931",
        "colab": {
          "base_uri": "https://localhost:8080/",
          "height": 669
        }
      },
      "source": [
        "learn.fit_one_cycle(20,max_lr=1e-3,moms=(0.8,0.7))"
      ],
      "execution_count": 0,
      "outputs": [
        {
          "output_type": "display_data",
          "data": {
            "text/html": [
              "<table border=\"1\" class=\"dataframe\">\n",
              "  <thead>\n",
              "    <tr style=\"text-align: left;\">\n",
              "      <th>epoch</th>\n",
              "      <th>train_loss</th>\n",
              "      <th>valid_loss</th>\n",
              "      <th>accuracy</th>\n",
              "      <th>time</th>\n",
              "    </tr>\n",
              "  </thead>\n",
              "  <tbody>\n",
              "    <tr>\n",
              "      <td>0</td>\n",
              "      <td>3.306420</td>\n",
              "      <td>3.311434</td>\n",
              "      <td>0.344196</td>\n",
              "      <td>00:04</td>\n",
              "    </tr>\n",
              "    <tr>\n",
              "      <td>1</td>\n",
              "      <td>3.292441</td>\n",
              "      <td>3.268511</td>\n",
              "      <td>0.349665</td>\n",
              "      <td>00:04</td>\n",
              "    </tr>\n",
              "    <tr>\n",
              "      <td>2</td>\n",
              "      <td>3.247681</td>\n",
              "      <td>3.229843</td>\n",
              "      <td>0.358147</td>\n",
              "      <td>00:04</td>\n",
              "    </tr>\n",
              "    <tr>\n",
              "      <td>3</td>\n",
              "      <td>3.178439</td>\n",
              "      <td>3.213605</td>\n",
              "      <td>0.359933</td>\n",
              "      <td>00:04</td>\n",
              "    </tr>\n",
              "    <tr>\n",
              "      <td>4</td>\n",
              "      <td>3.091782</td>\n",
              "      <td>3.186364</td>\n",
              "      <td>0.361384</td>\n",
              "      <td>00:04</td>\n",
              "    </tr>\n",
              "    <tr>\n",
              "      <td>5</td>\n",
              "      <td>2.999836</td>\n",
              "      <td>3.206648</td>\n",
              "      <td>0.358147</td>\n",
              "      <td>00:04</td>\n",
              "    </tr>\n",
              "    <tr>\n",
              "      <td>6</td>\n",
              "      <td>2.882473</td>\n",
              "      <td>3.203842</td>\n",
              "      <td>0.358929</td>\n",
              "      <td>00:04</td>\n",
              "    </tr>\n",
              "    <tr>\n",
              "      <td>7</td>\n",
              "      <td>2.752206</td>\n",
              "      <td>3.233735</td>\n",
              "      <td>0.356250</td>\n",
              "      <td>00:04</td>\n",
              "    </tr>\n",
              "    <tr>\n",
              "      <td>8</td>\n",
              "      <td>2.618445</td>\n",
              "      <td>3.252793</td>\n",
              "      <td>0.358371</td>\n",
              "      <td>00:04</td>\n",
              "    </tr>\n",
              "    <tr>\n",
              "      <td>9</td>\n",
              "      <td>2.476423</td>\n",
              "      <td>3.317188</td>\n",
              "      <td>0.354911</td>\n",
              "      <td>00:04</td>\n",
              "    </tr>\n",
              "    <tr>\n",
              "      <td>10</td>\n",
              "      <td>2.347912</td>\n",
              "      <td>3.333875</td>\n",
              "      <td>0.355804</td>\n",
              "      <td>00:04</td>\n",
              "    </tr>\n",
              "    <tr>\n",
              "      <td>11</td>\n",
              "      <td>2.234264</td>\n",
              "      <td>3.364037</td>\n",
              "      <td>0.354576</td>\n",
              "      <td>00:04</td>\n",
              "    </tr>\n",
              "    <tr>\n",
              "      <td>12</td>\n",
              "      <td>2.116553</td>\n",
              "      <td>3.405082</td>\n",
              "      <td>0.353125</td>\n",
              "      <td>00:04</td>\n",
              "    </tr>\n",
              "    <tr>\n",
              "      <td>13</td>\n",
              "      <td>2.010734</td>\n",
              "      <td>3.436270</td>\n",
              "      <td>0.349107</td>\n",
              "      <td>00:04</td>\n",
              "    </tr>\n",
              "    <tr>\n",
              "      <td>14</td>\n",
              "      <td>1.925546</td>\n",
              "      <td>3.462013</td>\n",
              "      <td>0.350335</td>\n",
              "      <td>00:04</td>\n",
              "    </tr>\n",
              "    <tr>\n",
              "      <td>15</td>\n",
              "      <td>1.848029</td>\n",
              "      <td>3.471865</td>\n",
              "      <td>0.350446</td>\n",
              "      <td>00:04</td>\n",
              "    </tr>\n",
              "    <tr>\n",
              "      <td>16</td>\n",
              "      <td>1.797360</td>\n",
              "      <td>3.486971</td>\n",
              "      <td>0.349665</td>\n",
              "      <td>00:04</td>\n",
              "    </tr>\n",
              "    <tr>\n",
              "      <td>17</td>\n",
              "      <td>1.769145</td>\n",
              "      <td>3.498260</td>\n",
              "      <td>0.348438</td>\n",
              "      <td>00:04</td>\n",
              "    </tr>\n",
              "    <tr>\n",
              "      <td>18</td>\n",
              "      <td>1.749550</td>\n",
              "      <td>3.500008</td>\n",
              "      <td>0.349777</td>\n",
              "      <td>00:04</td>\n",
              "    </tr>\n",
              "    <tr>\n",
              "      <td>19</td>\n",
              "      <td>1.720037</td>\n",
              "      <td>3.502634</td>\n",
              "      <td>0.348437</td>\n",
              "      <td>00:04</td>\n",
              "    </tr>\n",
              "  </tbody>\n",
              "</table>"
            ],
            "text/plain": [
              "<IPython.core.display.HTML object>"
            ]
          },
          "metadata": {
            "tags": []
          }
        }
      ]
    },
    {
      "cell_type": "code",
      "metadata": {
        "id": "JH7kUreVyJJc",
        "colab_type": "code",
        "colab": {}
      },
      "source": [
        "# save the fined-tune encoder\n",
        "learn.save_encoder('ft_enc')"
      ],
      "execution_count": 0,
      "outputs": []
    },
    {
      "cell_type": "markdown",
      "metadata": {
        "id": "96k7aYJvzevV",
        "colab_type": "text"
      },
      "source": [
        "# 5.2 Train the Classifier: SemEval Tweets only\n",
        "\n",
        "\n",
        "For classification, the winning paper for the SemEval 2016 task (team MITRE) describe in section $5$ of their paper that they achieved their highest average F1 score when they trained 5 distinct classifiers, i.e. a separate training task for each of the 5 topics in the training data.\n",
        "\n",
        "Hence, in this notebook we only perform classification for one topic at a time. Evaluation of the predicted classes is also done on a per-topic basis."
      ]
    },
    {
      "cell_type": "markdown",
      "metadata": {
        "id": "bC_P-Rv30Fcs",
        "colab_type": "text"
      },
      "source": [
        "## Identify the 5 topics in our training data"
      ]
    },
    {
      "cell_type": "code",
      "metadata": {
        "id": "jVogkZhVzbSq",
        "colab_type": "code",
        "outputId": "fd3b7cf4-f4a9-4029-db6e-5eef7608d1b7",
        "colab": {
          "base_uri": "https://localhost:8080/",
          "height": 102
        }
      },
      "source": [
        "for item in train_orig.Target.unique():\n",
        "    print(item)"
      ],
      "execution_count": 0,
      "outputs": [
        {
          "output_type": "stream",
          "text": [
            "Atheism\n",
            "Climate Change is a Real Concern\n",
            "Feminist Movement\n",
            "Hillary Clinton\n",
            "Legalization of Abortion\n"
          ],
          "name": "stdout"
        }
      ]
    },
    {
      "cell_type": "markdown",
      "metadata": {
        "id": "Fnay0f250hDq",
        "colab_type": "text"
      },
      "source": [
        "## Specify the topic we want to classify for\n",
        "\n",
        "We specify the topic name exactly as the training data does, and use it to subset the Pandas DataFrame.\n",
        "\n"
      ]
    },
    {
      "cell_type": "code",
      "metadata": {
        "id": "DZBAPADn1WEB",
        "colab_type": "code",
        "colab": {}
      },
      "source": [
        "topic = \"Feminist Movement\""
      ],
      "execution_count": 0,
      "outputs": []
    },
    {
      "cell_type": "code",
      "metadata": {
        "id": "ZIMpgU-Y0OR0",
        "colab_type": "code",
        "colab": {}
      },
      "source": [
        "# get only thoses tweets that pertains to single topic in the training data\n",
        "train_topic=train_orig.loc[train_orig.Target==topic]"
      ],
      "execution_count": 0,
      "outputs": []
    },
    {
      "cell_type": "code",
      "metadata": {
        "id": "BrUa30Y_3DA8",
        "colab_type": "code",
        "outputId": "ded7c7de-3130-4632-ee8b-410940b34a01",
        "colab": {
          "base_uri": "https://localhost:8080/",
          "height": 204
        }
      },
      "source": [
        "train_topic.head()"
      ],
      "execution_count": 0,
      "outputs": [
        {
          "output_type": "execute_result",
          "data": {
            "text/html": [
              "<div>\n",
              "<style scoped>\n",
              "    .dataframe tbody tr th:only-of-type {\n",
              "        vertical-align: middle;\n",
              "    }\n",
              "\n",
              "    .dataframe tbody tr th {\n",
              "        vertical-align: top;\n",
              "    }\n",
              "\n",
              "    .dataframe thead th {\n",
              "        text-align: right;\n",
              "    }\n",
              "</style>\n",
              "<table border=\"1\" class=\"dataframe\">\n",
              "  <thead>\n",
              "    <tr style=\"text-align: right;\">\n",
              "      <th></th>\n",
              "      <th>ID</th>\n",
              "      <th>Target</th>\n",
              "      <th>Tweet</th>\n",
              "      <th>Stance</th>\n",
              "    </tr>\n",
              "  </thead>\n",
              "  <tbody>\n",
              "    <tr>\n",
              "      <th>908</th>\n",
              "      <td>1009</td>\n",
              "      <td>Feminist Movement</td>\n",
              "      <td>Always a delight to see chest-drumming alpha m...</td>\n",
              "      <td>FAVOR</td>\n",
              "    </tr>\n",
              "    <tr>\n",
              "      <th>909</th>\n",
              "      <td>1010</td>\n",
              "      <td>Feminist Movement</td>\n",
              "      <td>Sometimes I overheat and want to take off my s...</td>\n",
              "      <td>FAVOR</td>\n",
              "    </tr>\n",
              "    <tr>\n",
              "      <th>910</th>\n",
              "      <td>1011</td>\n",
              "      <td>Feminist Movement</td>\n",
              "      <td>If feminists spent 1/2 as much time reading pa...</td>\n",
              "      <td>AGAINST</td>\n",
              "    </tr>\n",
              "    <tr>\n",
              "      <th>911</th>\n",
              "      <td>1012</td>\n",
              "      <td>Feminist Movement</td>\n",
              "      <td>Stupid Feminists, the civilization you take fo...</td>\n",
              "      <td>AGAINST</td>\n",
              "    </tr>\n",
              "    <tr>\n",
              "      <th>912</th>\n",
              "      <td>1013</td>\n",
              "      <td>Feminist Movement</td>\n",
              "      <td>YOU'RE A GIRL AND HAVE A SEX DRIVE!? YOU MUST ...</td>\n",
              "      <td>FAVOR</td>\n",
              "    </tr>\n",
              "  </tbody>\n",
              "</table>\n",
              "</div>"
            ],
            "text/plain": [
              "       ID  ...   Stance\n",
              "908  1009  ...    FAVOR\n",
              "909  1010  ...    FAVOR\n",
              "910  1011  ...  AGAINST\n",
              "911  1012  ...  AGAINST\n",
              "912  1013  ...    FAVOR\n",
              "\n",
              "[5 rows x 4 columns]"
            ]
          },
          "metadata": {
            "tags": []
          },
          "execution_count": 37
        }
      ]
    },
    {
      "cell_type": "markdown",
      "metadata": {
        "id": "dF_aQcdC2WTm",
        "colab_type": "text"
      },
      "source": [
        "## Create classification dataloader"
      ]
    },
    {
      "cell_type": "markdown",
      "metadata": {
        "id": "wIONTLy5Oqh3",
        "colab_type": "text"
      },
      "source": [
        "This step involves creating a [classifier object](https://github.com/fastai/fastai/blob/4cd2e454a735e208c60b2ff7f82bbb4b62e85725/fastai/text/learner.py#L146) that can predict a class label once we re-train the model as a classifier. The same network structure is still used for this task — the output layer is defined in a way that takes into account the number of classes we want to predict in our data."
      ]
    },
    {
      "cell_type": "code",
      "metadata": {
        "id": "C0IIT-ch2Fbl",
        "colab_type": "code",
        "colab": {}
      },
      "source": [
        "data_cls = (TextList.from_df(train_topic,path,cols='Tweet',vocab=data_lm.vocab)\n",
        "           .split_subsets(train_size=0.7,valid_size=0.3)\n",
        "           .label_from_df(cols='Stance')\n",
        "           .databunch(bs=48))"
      ],
      "execution_count": 0,
      "outputs": []
    },
    {
      "cell_type": "code",
      "metadata": {
        "id": "_elf_Y-B4iyq",
        "colab_type": "code",
        "colab": {}
      },
      "source": [
        "data_cls.save('data_cls.pkl')"
      ],
      "execution_count": 0,
      "outputs": []
    },
    {
      "cell_type": "code",
      "metadata": {
        "id": "3Q5YlHLt4_Fg",
        "colab_type": "code",
        "outputId": "2506a0f2-4b3a-49c4-dea4-85d70712c77c",
        "colab": {
          "base_uri": "https://localhost:8080/",
          "height": 221
        }
      },
      "source": [
        "data_cls.show_batch()"
      ],
      "execution_count": 0,
      "outputs": [
        {
          "output_type": "display_data",
          "data": {
            "text/html": [
              "<table border=\"1\" class=\"dataframe\">\n",
              "  <thead>\n",
              "    <tr style=\"text-align: right;\">\n",
              "      <th>text</th>\n",
              "      <th>target</th>\n",
              "    </tr>\n",
              "  </thead>\n",
              "  <tbody>\n",
              "    <tr>\n",
              "      <td>xxbos m : xxup feminists xxup need xxup to xxup xxunk xxup sense xxup of xxup xxunk w : xxmaj okay . ( xxunk from \" xxmaj male xxmaj tears \" xxunk ) m : xxup xxunk ! xxup xxunk xxrep 11 xxunk # yesallwomen # semst</td>\n",
              "      <td>AGAINST</td>\n",
              "    </tr>\n",
              "    <tr>\n",
              "      <td>xxbos * watching house of xxunk with my dad * \" i could be xxmaj first xxmaj lady . \" \" xxmaj why not president ? \" \" xxup yeah xxup dad ! xxmaj next woman president right here ! \" # semst</td>\n",
              "      <td>FAVOR</td>\n",
              "    </tr>\n",
              "    <tr>\n",
              "      <td>xxbos xxunk : ... xxup or xxup xxunk xxup down xxup your xxup car xxup to xxup xxunk xxup at xxup me xxup while i xxup wait xxup for xxup the xxup bus ! ! ! # xxup xxunk # semst</td>\n",
              "      <td>AGAINST</td>\n",
              "    </tr>\n",
              "    <tr>\n",
              "      <td>xxbos ... xxup or xxup xxunk xxup down xxup your xxup call xxup to xxup xxunk xxup at xxup me xxup while i xxup wait xxup for xxup the xxup bus ! ! ! # xxup xxunk # semst</td>\n",
              "      <td>AGAINST</td>\n",
              "    </tr>\n",
              "    <tr>\n",
              "      <td>xxbos xxmaj there is one more basic cause [ of the abuse of women ] , and that is that , in general , men do n't give a damn . ( xxmaj xxunk xxmaj xxunk ) # semst</td>\n",
              "      <td>AGAINST</td>\n",
              "    </tr>\n",
              "  </tbody>\n",
              "</table>"
            ],
            "text/plain": [
              "<IPython.core.display.HTML object>"
            ]
          },
          "metadata": {
            "tags": []
          }
        }
      ]
    },
    {
      "cell_type": "code",
      "metadata": {
        "id": "aqC5rMza5CDN",
        "colab_type": "code",
        "colab": {}
      },
      "source": [
        "learn = text_classifier_learner(data_cls,AWD_LSTM,drop_mult=0.5,metrics=[FBeta(average='macro'),accuracy])\n",
        "learn.load_encoder('ft_enc')\n",
        "learn.freeze()"
      ],
      "execution_count": 0,
      "outputs": []
    },
    {
      "cell_type": "markdown",
      "metadata": {
        "id": "4Q08Ouuj6nqh",
        "colab_type": "text"
      },
      "source": [
        "Note that we begin the training with all the outer layers as frozen. The fine-tuned language model is read in, and we use a dropout multiplier as shown above.\n",
        "\n",
        "For training the classifier, we apply \"gradual unfreezing\", to avoid \"catastrophic forgetting\" as explained in section $3.3$ of [Howard and Ruder's paper](https://arxiv.org/pdf/1801.06146.pdf). In addition to gradual unfreezing,"
      ]
    },
    {
      "cell_type": "code",
      "metadata": {
        "id": "6uwyJbfJ5dDW",
        "colab_type": "code",
        "outputId": "15a5095d-4597-42e9-e366-8ef8859255e9",
        "colab": {
          "base_uri": "https://localhost:8080/",
          "height": 317
        }
      },
      "source": [
        "learn.lr_find()\n",
        "learn.recorder.plot(suggestion=True)"
      ],
      "execution_count": 0,
      "outputs": [
        {
          "output_type": "display_data",
          "data": {
            "text/html": [
              ""
            ],
            "text/plain": [
              "<IPython.core.display.HTML object>"
            ]
          },
          "metadata": {
            "tags": []
          }
        },
        {
          "output_type": "stream",
          "text": [
            "LR Finder is complete, type {learner_name}.recorder.plot() to see the graph.\n",
            "Min numerical gradient: 1.58E-02\n"
          ],
          "name": "stdout"
        },
        {
          "output_type": "display_data",
          "data": {
            "image/png": "[encoded data removed]",
            "text/plain": [
              "<Figure size 432x288 with 1 Axes>"
            ]
          },
          "metadata": {
            "tags": []
          }
        }
      ]
    },
    {
      "cell_type": "markdown",
      "metadata": {
        "id": "WA4Qhh0O7EL5",
        "colab_type": "text"
      },
      "source": [
        "## Carefully train the classifier\n",
        "\n",
        "During classification, we first define a classifier learner object, and **gradually unfreeze layers** while running for one epoch each time as per the ULMFiT paper’s suggestion. This helps us obtain a better classification accuracy than if we were to aggressively train all the layers at once."
      ]
    },
    {
      "cell_type": "code",
      "metadata": {
        "id": "QXpuSUro6RxU",
        "colab_type": "code",
        "outputId": "5ba353e9-8c27-40e0-e852-f388422c5b01",
        "colab": {
          "base_uri": "https://localhost:8080/",
          "height": 204
        }
      },
      "source": [
        "learn.fit_one_cycle(5,max_lr=1e-2,moms=(0.8,0.7))"
      ],
      "execution_count": 0,
      "outputs": [
        {
          "output_type": "display_data",
          "data": {
            "text/html": [
              "<table border=\"1\" class=\"dataframe\">\n",
              "  <thead>\n",
              "    <tr style=\"text-align: left;\">\n",
              "      <th>epoch</th>\n",
              "      <th>train_loss</th>\n",
              "      <th>valid_loss</th>\n",
              "      <th>f_beta</th>\n",
              "      <th>accuracy</th>\n",
              "      <th>time</th>\n",
              "    </tr>\n",
              "  </thead>\n",
              "  <tbody>\n",
              "    <tr>\n",
              "      <td>0</td>\n",
              "      <td>1.142061</td>\n",
              "      <td>1.064839</td>\n",
              "      <td>0.325351</td>\n",
              "      <td>0.396985</td>\n",
              "      <td>00:00</td>\n",
              "    </tr>\n",
              "    <tr>\n",
              "      <td>1</td>\n",
              "      <td>1.070687</td>\n",
              "      <td>0.961404</td>\n",
              "      <td>0.316883</td>\n",
              "      <td>0.522613</td>\n",
              "      <td>00:00</td>\n",
              "    </tr>\n",
              "    <tr>\n",
              "      <td>2</td>\n",
              "      <td>1.007026</td>\n",
              "      <td>0.930145</td>\n",
              "      <td>0.309379</td>\n",
              "      <td>0.527638</td>\n",
              "      <td>00:00</td>\n",
              "    </tr>\n",
              "    <tr>\n",
              "      <td>3</td>\n",
              "      <td>0.952303</td>\n",
              "      <td>0.909401</td>\n",
              "      <td>0.369546</td>\n",
              "      <td>0.527638</td>\n",
              "      <td>00:00</td>\n",
              "    </tr>\n",
              "    <tr>\n",
              "      <td>4</td>\n",
              "      <td>0.911635</td>\n",
              "      <td>0.895186</td>\n",
              "      <td>0.444491</td>\n",
              "      <td>0.552764</td>\n",
              "      <td>00:00</td>\n",
              "    </tr>\n",
              "  </tbody>\n",
              "</table>"
            ],
            "text/plain": [
              "<IPython.core.display.HTML object>"
            ]
          },
          "metadata": {
            "tags": []
          }
        }
      ]
    },
    {
      "cell_type": "code",
      "metadata": {
        "id": "BQOMejxs7OaI",
        "colab_type": "code",
        "outputId": "b8478456-0fc9-49c3-ed89-806fb5fa54f3",
        "colab": {
          "base_uri": "https://localhost:8080/",
          "height": 204
        }
      },
      "source": [
        "learn.freeze_to(-2)\n",
        "learn.fit_one_cycle(5,max_lr=1e-2,moms=(0.8,0.7))"
      ],
      "execution_count": 0,
      "outputs": [
        {
          "output_type": "display_data",
          "data": {
            "text/html": [
              "<table border=\"1\" class=\"dataframe\">\n",
              "  <thead>\n",
              "    <tr style=\"text-align: left;\">\n",
              "      <th>epoch</th>\n",
              "      <th>train_loss</th>\n",
              "      <th>valid_loss</th>\n",
              "      <th>f_beta</th>\n",
              "      <th>accuracy</th>\n",
              "      <th>time</th>\n",
              "    </tr>\n",
              "  </thead>\n",
              "  <tbody>\n",
              "    <tr>\n",
              "      <td>0</td>\n",
              "      <td>0.811623</td>\n",
              "      <td>0.914729</td>\n",
              "      <td>0.509967</td>\n",
              "      <td>0.567839</td>\n",
              "      <td>00:00</td>\n",
              "    </tr>\n",
              "    <tr>\n",
              "      <td>1</td>\n",
              "      <td>0.837206</td>\n",
              "      <td>1.104998</td>\n",
              "      <td>0.324891</td>\n",
              "      <td>0.532663</td>\n",
              "      <td>00:00</td>\n",
              "    </tr>\n",
              "    <tr>\n",
              "      <td>2</td>\n",
              "      <td>0.821463</td>\n",
              "      <td>0.919123</td>\n",
              "      <td>0.450544</td>\n",
              "      <td>0.552764</td>\n",
              "      <td>00:00</td>\n",
              "    </tr>\n",
              "    <tr>\n",
              "      <td>3</td>\n",
              "      <td>0.770898</td>\n",
              "      <td>0.941581</td>\n",
              "      <td>0.468885</td>\n",
              "      <td>0.547739</td>\n",
              "      <td>00:00</td>\n",
              "    </tr>\n",
              "    <tr>\n",
              "      <td>4</td>\n",
              "      <td>0.728187</td>\n",
              "      <td>0.956921</td>\n",
              "      <td>0.475920</td>\n",
              "      <td>0.567839</td>\n",
              "      <td>00:00</td>\n",
              "    </tr>\n",
              "  </tbody>\n",
              "</table>"
            ],
            "text/plain": [
              "<IPython.core.display.HTML object>"
            ]
          },
          "metadata": {
            "tags": []
          }
        }
      ]
    },
    {
      "cell_type": "code",
      "metadata": {
        "id": "uIsEFbpD71qr",
        "colab_type": "code",
        "outputId": "e88a7864-693f-429c-ff8f-174fd41edd16",
        "colab": {
          "base_uri": "https://localhost:8080/",
          "height": 204
        }
      },
      "source": [
        "learn.freeze_to(-3)\n",
        "learn.fit_one_cycle(5,max_lr=1e-2,moms=(0.8,0.7))"
      ],
      "execution_count": 0,
      "outputs": [
        {
          "output_type": "display_data",
          "data": {
            "text/html": [
              "<table border=\"1\" class=\"dataframe\">\n",
              "  <thead>\n",
              "    <tr style=\"text-align: left;\">\n",
              "      <th>epoch</th>\n",
              "      <th>train_loss</th>\n",
              "      <th>valid_loss</th>\n",
              "      <th>f_beta</th>\n",
              "      <th>accuracy</th>\n",
              "      <th>time</th>\n",
              "    </tr>\n",
              "  </thead>\n",
              "  <tbody>\n",
              "    <tr>\n",
              "      <td>0</td>\n",
              "      <td>0.602165</td>\n",
              "      <td>1.041005</td>\n",
              "      <td>0.523971</td>\n",
              "      <td>0.562814</td>\n",
              "      <td>00:00</td>\n",
              "    </tr>\n",
              "    <tr>\n",
              "      <td>1</td>\n",
              "      <td>0.620487</td>\n",
              "      <td>1.374031</td>\n",
              "      <td>0.415256</td>\n",
              "      <td>0.467337</td>\n",
              "      <td>00:00</td>\n",
              "    </tr>\n",
              "    <tr>\n",
              "      <td>2</td>\n",
              "      <td>0.562261</td>\n",
              "      <td>1.130226</td>\n",
              "      <td>0.510937</td>\n",
              "      <td>0.567839</td>\n",
              "      <td>00:00</td>\n",
              "    </tr>\n",
              "    <tr>\n",
              "      <td>3</td>\n",
              "      <td>0.473389</td>\n",
              "      <td>1.221065</td>\n",
              "      <td>0.479738</td>\n",
              "      <td>0.542714</td>\n",
              "      <td>00:00</td>\n",
              "    </tr>\n",
              "    <tr>\n",
              "      <td>4</td>\n",
              "      <td>0.398465</td>\n",
              "      <td>1.196076</td>\n",
              "      <td>0.460584</td>\n",
              "      <td>0.517588</td>\n",
              "      <td>00:00</td>\n",
              "    </tr>\n",
              "  </tbody>\n",
              "</table>"
            ],
            "text/plain": [
              "<IPython.core.display.HTML object>"
            ]
          },
          "metadata": {
            "tags": []
          }
        }
      ]
    },
    {
      "cell_type": "code",
      "metadata": {
        "id": "38WyVoTm8MNC",
        "colab_type": "code",
        "outputId": "d68194b2-1252-4a9f-b4c6-23905fad3a91",
        "colab": {
          "base_uri": "https://localhost:8080/",
          "height": 204
        }
      },
      "source": [
        "learn.unfreeze()\n",
        "learn.fit_one_cycle(5,max_lr=1e-2,moms=(0.8,0.7))"
      ],
      "execution_count": 0,
      "outputs": [
        {
          "output_type": "display_data",
          "data": {
            "text/html": [
              "<table border=\"1\" class=\"dataframe\">\n",
              "  <thead>\n",
              "    <tr style=\"text-align: left;\">\n",
              "      <th>epoch</th>\n",
              "      <th>train_loss</th>\n",
              "      <th>valid_loss</th>\n",
              "      <th>f_beta</th>\n",
              "      <th>accuracy</th>\n",
              "      <th>time</th>\n",
              "    </tr>\n",
              "  </thead>\n",
              "  <tbody>\n",
              "    <tr>\n",
              "      <td>0</td>\n",
              "      <td>0.177258</td>\n",
              "      <td>1.574277</td>\n",
              "      <td>0.457426</td>\n",
              "      <td>0.497487</td>\n",
              "      <td>00:01</td>\n",
              "    </tr>\n",
              "    <tr>\n",
              "      <td>1</td>\n",
              "      <td>0.494790</td>\n",
              "      <td>1.423974</td>\n",
              "      <td>0.381592</td>\n",
              "      <td>0.371859</td>\n",
              "      <td>00:01</td>\n",
              "    </tr>\n",
              "    <tr>\n",
              "      <td>2</td>\n",
              "      <td>0.664719</td>\n",
              "      <td>1.047753</td>\n",
              "      <td>0.446829</td>\n",
              "      <td>0.437186</td>\n",
              "      <td>00:01</td>\n",
              "    </tr>\n",
              "    <tr>\n",
              "      <td>3</td>\n",
              "      <td>0.738807</td>\n",
              "      <td>0.997071</td>\n",
              "      <td>0.470153</td>\n",
              "      <td>0.482412</td>\n",
              "      <td>00:01</td>\n",
              "    </tr>\n",
              "    <tr>\n",
              "      <td>4</td>\n",
              "      <td>0.757416</td>\n",
              "      <td>0.937103</td>\n",
              "      <td>0.535383</td>\n",
              "      <td>0.542714</td>\n",
              "      <td>00:01</td>\n",
              "    </tr>\n",
              "  </tbody>\n",
              "</table>"
            ],
            "text/plain": [
              "<IPython.core.display.HTML object>"
            ]
          },
          "metadata": {
            "tags": []
          }
        }
      ]
    },
    {
      "cell_type": "markdown",
      "metadata": {
        "id": "b33XARR-O9Rw",
        "colab_type": "text"
      },
      "source": [
        "The validation loss for the classifier is much higher than for the language model, which could possibly be linked with the dataset. Since there is significant class imbalance, a significant number of labels during training are expected to be predicted incorrectly. Specific to this Twitter dataset, this problem could be more severe than what we see in the state-of-the-art examples (such as IMDb)."
      ]
    },
    {
      "cell_type": "markdown",
      "metadata": {
        "id": "qERcsEF3GNwS",
        "colab_type": "text"
      },
      "source": [
        "## Cross-tabulate the predictions for each class\n",
        "\n",
        "The below table shows the predicted classes for the topic in concern. The actual evaluation of the F1 score of the classification result is done at a later step."
      ]
    },
    {
      "cell_type": "code",
      "metadata": {
        "id": "qJL56T6b8YU0",
        "colab_type": "code",
        "colab": {}
      },
      "source": [
        "#get predictions\n",
        "preds,targets = learn.get_preds()\n",
        "predictions = np.argmax(preds,axis=1)\n"
      ],
      "execution_count": 0,
      "outputs": []
    },
    {
      "cell_type": "code",
      "metadata": {
        "id": "TkGAQrX5G154",
        "colab_type": "code",
        "outputId": "8a665d45-0105-4abc-ba02-3cdb5ae78237",
        "colab": {
          "base_uri": "https://localhost:8080/",
          "height": 102
        }
      },
      "source": [
        "preds[:5],predictions[:5]"
      ],
      "execution_count": 0,
      "outputs": [
        {
          "output_type": "execute_result",
          "data": {
            "text/plain": [
              "(tensor([[0.4609, 0.2369, 0.3022],\n",
              "         [0.6626, 0.3052, 0.0322],\n",
              "         [0.4726, 0.2834, 0.2440],\n",
              "         [0.2306, 0.4879, 0.2816],\n",
              "         [0.3593, 0.6016, 0.0392]]), tensor([0, 0, 0, 1, 1]))"
            ]
          },
          "metadata": {
            "tags": []
          },
          "execution_count": 48
        }
      ]
    },
    {
      "cell_type": "code",
      "metadata": {
        "id": "hmm6Q6wGG5AZ",
        "colab_type": "code",
        "outputId": "a833d4ac-fe62-485d-e03c-43caac3f10d2",
        "colab": {
          "base_uri": "https://localhost:8080/",
          "height": 34
        }
      },
      "source": [
        "targets[:5]"
      ],
      "execution_count": 0,
      "outputs": [
        {
          "output_type": "execute_result",
          "data": {
            "text/plain": [
              "tensor([0, 0, 0, 1, 0])"
            ]
          },
          "metadata": {
            "tags": []
          },
          "execution_count": 49
        }
      ]
    },
    {
      "cell_type": "code",
      "metadata": {
        "id": "EqC9uWXzHGZJ",
        "colab_type": "code",
        "outputId": "5aa14c5e-0f0d-456e-fc0c-f25f41728084",
        "colab": {
          "base_uri": "https://localhost:8080/",
          "height": 173
        }
      },
      "source": [
        "pd.crosstab(predictions,targets)"
      ],
      "execution_count": 0,
      "outputs": [
        {
          "output_type": "execute_result",
          "data": {
            "text/html": [
              "<div>\n",
              "<style scoped>\n",
              "    .dataframe tbody tr th:only-of-type {\n",
              "        vertical-align: middle;\n",
              "    }\n",
              "\n",
              "    .dataframe tbody tr th {\n",
              "        vertical-align: top;\n",
              "    }\n",
              "\n",
              "    .dataframe thead th {\n",
              "        text-align: right;\n",
              "    }\n",
              "</style>\n",
              "<table border=\"1\" class=\"dataframe\">\n",
              "  <thead>\n",
              "    <tr style=\"text-align: right;\">\n",
              "      <th>col_0</th>\n",
              "      <th>0</th>\n",
              "      <th>1</th>\n",
              "      <th>2</th>\n",
              "    </tr>\n",
              "    <tr>\n",
              "      <th>row_0</th>\n",
              "      <th></th>\n",
              "      <th></th>\n",
              "      <th></th>\n",
              "    </tr>\n",
              "  </thead>\n",
              "  <tbody>\n",
              "    <tr>\n",
              "      <th>0</th>\n",
              "      <td>57</td>\n",
              "      <td>16</td>\n",
              "      <td>5</td>\n",
              "    </tr>\n",
              "    <tr>\n",
              "      <th>1</th>\n",
              "      <td>23</td>\n",
              "      <td>23</td>\n",
              "      <td>8</td>\n",
              "    </tr>\n",
              "    <tr>\n",
              "      <th>2</th>\n",
              "      <td>22</td>\n",
              "      <td>17</td>\n",
              "      <td>28</td>\n",
              "    </tr>\n",
              "  </tbody>\n",
              "</table>\n",
              "</div>"
            ],
            "text/plain": [
              "col_0   0   1   2\n",
              "row_0            \n",
              "0      57  16   5\n",
              "1      23  23   8\n",
              "2      22  17  28"
            ]
          },
          "metadata": {
            "tags": []
          },
          "execution_count": 50
        }
      ]
    },
    {
      "cell_type": "markdown",
      "metadata": {
        "id": "AriV_Oj6Hv4x",
        "colab_type": "text"
      },
      "source": [
        "## Evaluate the predicted results from the classifier (SemEval tweets only)\n",
        "\n",
        "We read in the test dataset and store in a Pandas DataFrame as shown."
      ]
    },
    {
      "cell_type": "code",
      "metadata": {
        "id": "2_bj1VXBHUYT",
        "colab_type": "code",
        "outputId": "40361e7c-fb06-497a-8274-043dc77d65b7",
        "colab": {
          "base_uri": "https://localhost:8080/",
          "height": 204
        }
      },
      "source": [
        "test = pd.read_csv(f'{path}/{testfile}',delimiter='\\t',header=0,encoding='latin-1')\n",
        "test = test.drop(['ID'],axis=1)\n",
        "test.Tweet = test.Tweet.apply(clean_ascii)\n",
        "test.head()"
      ],
      "execution_count": 0,
      "outputs": [
        {
          "output_type": "execute_result",
          "data": {
            "text/html": [
              "<div>\n",
              "<style scoped>\n",
              "    .dataframe tbody tr th:only-of-type {\n",
              "        vertical-align: middle;\n",
              "    }\n",
              "\n",
              "    .dataframe tbody tr th {\n",
              "        vertical-align: top;\n",
              "    }\n",
              "\n",
              "    .dataframe thead th {\n",
              "        text-align: right;\n",
              "    }\n",
              "</style>\n",
              "<table border=\"1\" class=\"dataframe\">\n",
              "  <thead>\n",
              "    <tr style=\"text-align: right;\">\n",
              "      <th></th>\n",
              "      <th>Target</th>\n",
              "      <th>Tweet</th>\n",
              "      <th>Stance</th>\n",
              "    </tr>\n",
              "  </thead>\n",
              "  <tbody>\n",
              "    <tr>\n",
              "      <th>0</th>\n",
              "      <td>Atheism</td>\n",
              "      <td>He who exalts himself shall      be humbled; a...</td>\n",
              "      <td>UNKNOWN</td>\n",
              "    </tr>\n",
              "    <tr>\n",
              "      <th>1</th>\n",
              "      <td>Atheism</td>\n",
              "      <td>RT @prayerbullets: I remove Nehushtan -previou...</td>\n",
              "      <td>UNKNOWN</td>\n",
              "    </tr>\n",
              "    <tr>\n",
              "      <th>2</th>\n",
              "      <td>Atheism</td>\n",
              "      <td>@Brainman365 @heidtjj @BenjaminLives I have so...</td>\n",
              "      <td>UNKNOWN</td>\n",
              "    </tr>\n",
              "    <tr>\n",
              "      <th>3</th>\n",
              "      <td>Atheism</td>\n",
              "      <td>#God is utterly powerless without Human interv...</td>\n",
              "      <td>UNKNOWN</td>\n",
              "    </tr>\n",
              "    <tr>\n",
              "      <th>4</th>\n",
              "      <td>Atheism</td>\n",
              "      <td>@David_Cameron   Miracles of #Multiculturalism...</td>\n",
              "      <td>UNKNOWN</td>\n",
              "    </tr>\n",
              "  </tbody>\n",
              "</table>\n",
              "</div>"
            ],
            "text/plain": [
              "    Target                                              Tweet   Stance\n",
              "0  Atheism  He who exalts himself shall      be humbled; a...  UNKNOWN\n",
              "1  Atheism  RT @prayerbullets: I remove Nehushtan -previou...  UNKNOWN\n",
              "2  Atheism  @Brainman365 @heidtjj @BenjaminLives I have so...  UNKNOWN\n",
              "3  Atheism  #God is utterly powerless without Human interv...  UNKNOWN\n",
              "4  Atheism  @David_Cameron   Miracles of #Multiculturalism...  UNKNOWN"
            ]
          },
          "metadata": {
            "tags": []
          },
          "execution_count": 51
        }
      ]
    },
    {
      "cell_type": "markdown",
      "metadata": {
        "id": "7zG7xVFiJ6fj",
        "colab_type": "text"
      },
      "source": [
        "Since we do not yet know the stance for the test set, it is marked as \"UNKNOWN\"."
      ]
    },
    {
      "cell_type": "markdown",
      "metadata": {
        "id": "op329cnlJ863",
        "colab_type": "text"
      },
      "source": [
        "## Filter the test data set based on topic we are classifying for"
      ]
    },
    {
      "cell_type": "code",
      "metadata": {
        "id": "lEC3FVsIJk3E",
        "colab_type": "code",
        "outputId": "ea56162d-f54b-4a5c-e604-ec0997bd228c",
        "colab": {
          "base_uri": "https://localhost:8080/",
          "height": 204
        }
      },
      "source": [
        "test_pred = test[['Target','Tweet']]\n",
        "test_pred = test_pred.loc[test_pred.Target==topic]\n",
        "test_pred.tail()"
      ],
      "execution_count": 0,
      "outputs": [
        {
          "output_type": "execute_result",
          "data": {
            "text/html": [
              "<div>\n",
              "<style scoped>\n",
              "    .dataframe tbody tr th:only-of-type {\n",
              "        vertical-align: middle;\n",
              "    }\n",
              "\n",
              "    .dataframe tbody tr th {\n",
              "        vertical-align: top;\n",
              "    }\n",
              "\n",
              "    .dataframe thead th {\n",
              "        text-align: right;\n",
              "    }\n",
              "</style>\n",
              "<table border=\"1\" class=\"dataframe\">\n",
              "  <thead>\n",
              "    <tr style=\"text-align: right;\">\n",
              "      <th></th>\n",
              "      <th>Target</th>\n",
              "      <th>Tweet</th>\n",
              "    </tr>\n",
              "  </thead>\n",
              "  <tbody>\n",
              "    <tr>\n",
              "      <th>669</th>\n",
              "      <td>Feminist Movement</td>\n",
              "      <td>@Maisie_Williams is our hero with her #LikeAGi...</td>\n",
              "    </tr>\n",
              "    <tr>\n",
              "      <th>670</th>\n",
              "      <td>Feminist Movement</td>\n",
              "      <td>Rather be an \"ugly\" feminist then be these sad...</td>\n",
              "    </tr>\n",
              "    <tr>\n",
              "      <th>671</th>\n",
              "      <td>Feminist Movement</td>\n",
              "      <td>iamNovaah: RT ChrzOC: Bitches be running wild....</td>\n",
              "    </tr>\n",
              "    <tr>\n",
              "      <th>672</th>\n",
              "      <td>Feminist Movement</td>\n",
              "      <td>@angerelle you disagree that people should str...</td>\n",
              "    </tr>\n",
              "    <tr>\n",
              "      <th>673</th>\n",
              "      <td>Feminist Movement</td>\n",
              "      <td>#Rapeculture is basically a FABLE. It has almo...</td>\n",
              "    </tr>\n",
              "  </tbody>\n",
              "</table>\n",
              "</div>"
            ],
            "text/plain": [
              "                Target                                              Tweet\n",
              "669  Feminist Movement  @Maisie_Williams is our hero with her #LikeAGi...\n",
              "670  Feminist Movement  Rather be an \"ugly\" feminist then be these sad...\n",
              "671  Feminist Movement  iamNovaah: RT ChrzOC: Bitches be running wild....\n",
              "672  Feminist Movement  @angerelle you disagree that people should str...\n",
              "673  Feminist Movement  #Rapeculture is basically a FABLE. It has almo..."
            ]
          },
          "metadata": {
            "tags": []
          },
          "execution_count": 52
        }
      ]
    },
    {
      "cell_type": "markdown",
      "metadata": {
        "id": "Se8fpQj6MCvH",
        "colab_type": "text"
      },
      "source": [
        "##Apply the learner's predict method to produce our prediction\n",
        "\n"
      ]
    },
    {
      "cell_type": "code",
      "metadata": {
        "id": "FPPoopknLz4Z",
        "colab_type": "code",
        "colab": {}
      },
      "source": [
        "test_pred['Stance']= test_pred['Tweet'].apply(lambda row: str(learn.predict(row)[0]))"
      ],
      "execution_count": 0,
      "outputs": []
    },
    {
      "cell_type": "code",
      "metadata": {
        "id": "lVDOjXrCMWJ1",
        "colab_type": "code",
        "outputId": "c81fad61-1fe6-4c41-b0e2-433d1ec9025b",
        "colab": {
          "base_uri": "https://localhost:8080/",
          "height": 204
        }
      },
      "source": [
        "test_pred.tail()"
      ],
      "execution_count": 0,
      "outputs": [
        {
          "output_type": "execute_result",
          "data": {
            "text/html": [
              "<div>\n",
              "<style scoped>\n",
              "    .dataframe tbody tr th:only-of-type {\n",
              "        vertical-align: middle;\n",
              "    }\n",
              "\n",
              "    .dataframe tbody tr th {\n",
              "        vertical-align: top;\n",
              "    }\n",
              "\n",
              "    .dataframe thead th {\n",
              "        text-align: right;\n",
              "    }\n",
              "</style>\n",
              "<table border=\"1\" class=\"dataframe\">\n",
              "  <thead>\n",
              "    <tr style=\"text-align: right;\">\n",
              "      <th></th>\n",
              "      <th>Target</th>\n",
              "      <th>Tweet</th>\n",
              "      <th>Stance</th>\n",
              "    </tr>\n",
              "  </thead>\n",
              "  <tbody>\n",
              "    <tr>\n",
              "      <th>669</th>\n",
              "      <td>Feminist Movement</td>\n",
              "      <td>@Maisie_Williams is our hero with her #LikeAGi...</td>\n",
              "      <td>AGAINST</td>\n",
              "    </tr>\n",
              "    <tr>\n",
              "      <th>670</th>\n",
              "      <td>Feminist Movement</td>\n",
              "      <td>Rather be an \"ugly\" feminist then be these sad...</td>\n",
              "      <td>AGAINST</td>\n",
              "    </tr>\n",
              "    <tr>\n",
              "      <th>671</th>\n",
              "      <td>Feminist Movement</td>\n",
              "      <td>iamNovaah: RT ChrzOC: Bitches be running wild....</td>\n",
              "      <td>NONE</td>\n",
              "    </tr>\n",
              "    <tr>\n",
              "      <th>672</th>\n",
              "      <td>Feminist Movement</td>\n",
              "      <td>@angerelle you disagree that people should str...</td>\n",
              "      <td>NONE</td>\n",
              "    </tr>\n",
              "    <tr>\n",
              "      <th>673</th>\n",
              "      <td>Feminist Movement</td>\n",
              "      <td>#Rapeculture is basically a FABLE. It has almo...</td>\n",
              "      <td>AGAINST</td>\n",
              "    </tr>\n",
              "  </tbody>\n",
              "</table>\n",
              "</div>"
            ],
            "text/plain": [
              "                Target  ...   Stance\n",
              "669  Feminist Movement  ...  AGAINST\n",
              "670  Feminist Movement  ...  AGAINST\n",
              "671  Feminist Movement  ...     NONE\n",
              "672  Feminist Movement  ...     NONE\n",
              "673  Feminist Movement  ...  AGAINST\n",
              "\n",
              "[5 rows x 3 columns]"
            ]
          },
          "metadata": {
            "tags": []
          },
          "execution_count": 54
        }
      ]
    },
    {
      "cell_type": "markdown",
      "metadata": {
        "id": "_ZLoHa-1O5IT",
        "colab_type": "text"
      },
      "source": [
        "##Output the predicted dataset to a text file for comparison with the gold reference"
      ]
    },
    {
      "cell_type": "markdown",
      "metadata": {
        "id": "rFjO1rx3VsDv",
        "colab_type": "text"
      },
      "source": [
        "First, we get the test data with gold label as below. Using the subtask A to be in line with test data above"
      ]
    },
    {
      "cell_type": "code",
      "metadata": {
        "id": "CuBypg-GS0xo",
        "colab_type": "code",
        "outputId": "a04aad15-19d3-408d-82a2-423817b83e45",
        "colab": {
          "base_uri": "https://localhost:8080/",
          "height": 255
        }
      },
      "source": [
        "!wget http://alt.qcri.org/semeval2016/task6/data/uploads/semeval2016-task6-testdata-gold.zip\n",
        "!unzip semeval2016-task6-testdata-gold.zip -d {path}eval_semeval16_task6_v2/"
      ],
      "execution_count": 0,
      "outputs": [
        {
          "output_type": "stream",
          "text": [
            "--2019-06-02 01:22:23--  http://alt.qcri.org/semeval2016/task6/data/uploads/semeval2016-task6-testdata-gold.zip\n",
            "Resolving alt.qcri.org (alt.qcri.org)... 13.93.27.76\n",
            "Connecting to alt.qcri.org (alt.qcri.org)|13.93.27.76|:80... connected.\n",
            "HTTP request sent, awaiting response... 200 OK\n",
            "Length: 100108 (98K) [application/zip]\n",
            "Saving to: ‘semeval2016-task6-testdata-gold.zip’\n",
            "\n",
            "\r          semeval20   0%[                    ]       0  --.-KB/s               \r         semeval201  48%[========>           ]  47.79K   225KB/s               \rsemeval2016-task6-t 100%[===================>]  97.76K   454KB/s    in 0.2s    \n",
            "\n",
            "2019-06-02 01:22:23 (454 KB/s) - ‘semeval2016-task6-testdata-gold.zip’ saved [100108/100108]\n",
            "\n",
            "Archive:  semeval2016-task6-testdata-gold.zip\n",
            "  inflating: /content/data/twitter/eval_semeval16_task6_v2/SemEval2016-Task6-subtaskA-testdata-gold.txt  \n",
            "  inflating: /content/data/twitter/eval_semeval16_task6_v2/SemEval2016-Task6-subtaskB-testdata-gold.txt  \n"
          ],
          "name": "stdout"
        }
      ]
    },
    {
      "cell_type": "markdown",
      "metadata": {
        "id": "bXjDzwgTV3pU",
        "colab_type": "text"
      },
      "source": [
        "Second, we filter it with topic \"Feminist Movement\""
      ]
    },
    {
      "cell_type": "code",
      "metadata": {
        "id": "KVck7RVmWD6w",
        "colab_type": "code",
        "colab": {}
      },
      "source": [
        "test_gold = pd.read_csv(f'{path}/eval_semeval16_task6_v2/SemEval2016-Task6-subtaskA-testdata-gold.txt',delimiter='\\t',header=0,encoding='latin-1')\n",
        "test_gold = test_gold.drop(['ID'],axis=1)\n",
        "test_gold = test_gold.loc[test_gold.Target==topic]"
      ],
      "execution_count": 0,
      "outputs": []
    },
    {
      "cell_type": "code",
      "metadata": {
        "id": "zJnA5JidfssK",
        "colab_type": "code",
        "outputId": "defe1969-2583-4d4e-812c-d726b57d8017",
        "colab": {
          "base_uri": "https://localhost:8080/",
          "height": 204
        }
      },
      "source": [
        "test_gold.head()"
      ],
      "execution_count": 0,
      "outputs": [
        {
          "output_type": "execute_result",
          "data": {
            "text/html": [
              "<div>\n",
              "<style scoped>\n",
              "    .dataframe tbody tr th:only-of-type {\n",
              "        vertical-align: middle;\n",
              "    }\n",
              "\n",
              "    .dataframe tbody tr th {\n",
              "        vertical-align: top;\n",
              "    }\n",
              "\n",
              "    .dataframe thead th {\n",
              "        text-align: right;\n",
              "    }\n",
              "</style>\n",
              "<table border=\"1\" class=\"dataframe\">\n",
              "  <thead>\n",
              "    <tr style=\"text-align: right;\">\n",
              "      <th></th>\n",
              "      <th>Target</th>\n",
              "      <th>Tweet</th>\n",
              "      <th>Stance</th>\n",
              "    </tr>\n",
              "  </thead>\n",
              "  <tbody>\n",
              "    <tr>\n",
              "      <th>389</th>\n",
              "      <td>Feminist Movement</td>\n",
              "      <td>Feminists can TOTALLY wear makeup and don't te...</td>\n",
              "      <td>AGAINST</td>\n",
              "    </tr>\n",
              "    <tr>\n",
              "      <th>390</th>\n",
              "      <td>Feminist Movement</td>\n",
              "      <td>I searched for posts with \"feminist\" tag and s...</td>\n",
              "      <td>AGAINST</td>\n",
              "    </tr>\n",
              "    <tr>\n",
              "      <th>391</th>\n",
              "      <td>Feminist Movement</td>\n",
              "      <td>I saw a little girl wearing a mustache from th...</td>\n",
              "      <td>AGAINST</td>\n",
              "    </tr>\n",
              "    <tr>\n",
              "      <th>392</th>\n",
              "      <td>Feminist Movement</td>\n",
              "      <td>Women are taught to put their values into thei...</td>\n",
              "      <td>AGAINST</td>\n",
              "    </tr>\n",
              "    <tr>\n",
              "      <th>393</th>\n",
              "      <td>Feminist Movement</td>\n",
              "      <td>If u link anti feminism with misogyny or inequ...</td>\n",
              "      <td>AGAINST</td>\n",
              "    </tr>\n",
              "  </tbody>\n",
              "</table>\n",
              "</div>"
            ],
            "text/plain": [
              "                Target  ...   Stance\n",
              "389  Feminist Movement  ...  AGAINST\n",
              "390  Feminist Movement  ...  AGAINST\n",
              "391  Feminist Movement  ...  AGAINST\n",
              "392  Feminist Movement  ...  AGAINST\n",
              "393  Feminist Movement  ...  AGAINST\n",
              "\n",
              "[5 rows x 3 columns]"
            ]
          },
          "metadata": {
            "tags": []
          },
          "execution_count": 57
        }
      ]
    },
    {
      "cell_type": "code",
      "metadata": {
        "id": "qly2_Vx6gi_0",
        "colab_type": "code",
        "colab": {}
      },
      "source": [
        "test_gold.to_csv(f'{path}eval_semeval16_task6_v2/target.txt',sep='\\t',index=True,\n",
        "                 header=['Target','Tweet','Stance'],index_label='ID')"
      ],
      "execution_count": 0,
      "outputs": []
    },
    {
      "cell_type": "code",
      "metadata": {
        "id": "f9VSBzhJgCwl",
        "colab_type": "code",
        "outputId": "2a400aba-e5ea-4ea4-f549-ae39e1bddbcc",
        "colab": {
          "base_uri": "https://localhost:8080/",
          "height": 204
        }
      },
      "source": [
        "test_pred.head()"
      ],
      "execution_count": 0,
      "outputs": [
        {
          "output_type": "execute_result",
          "data": {
            "text/html": [
              "<div>\n",
              "<style scoped>\n",
              "    .dataframe tbody tr th:only-of-type {\n",
              "        vertical-align: middle;\n",
              "    }\n",
              "\n",
              "    .dataframe tbody tr th {\n",
              "        vertical-align: top;\n",
              "    }\n",
              "\n",
              "    .dataframe thead th {\n",
              "        text-align: right;\n",
              "    }\n",
              "</style>\n",
              "<table border=\"1\" class=\"dataframe\">\n",
              "  <thead>\n",
              "    <tr style=\"text-align: right;\">\n",
              "      <th></th>\n",
              "      <th>Target</th>\n",
              "      <th>Tweet</th>\n",
              "      <th>Stance</th>\n",
              "    </tr>\n",
              "  </thead>\n",
              "  <tbody>\n",
              "    <tr>\n",
              "      <th>389</th>\n",
              "      <td>Feminist Movement</td>\n",
              "      <td>Feminists can TOTALLY wear makeup and don't te...</td>\n",
              "      <td>AGAINST</td>\n",
              "    </tr>\n",
              "    <tr>\n",
              "      <th>390</th>\n",
              "      <td>Feminist Movement</td>\n",
              "      <td>I searched for posts with \"feminist\" tag and s...</td>\n",
              "      <td>AGAINST</td>\n",
              "    </tr>\n",
              "    <tr>\n",
              "      <th>391</th>\n",
              "      <td>Feminist Movement</td>\n",
              "      <td>I saw a little girl wearing a mustache from th...</td>\n",
              "      <td>FAVOR</td>\n",
              "    </tr>\n",
              "    <tr>\n",
              "      <th>392</th>\n",
              "      <td>Feminist Movement</td>\n",
              "      <td>Women are taught to put their values into thei...</td>\n",
              "      <td>FAVOR</td>\n",
              "    </tr>\n",
              "    <tr>\n",
              "      <th>393</th>\n",
              "      <td>Feminist Movement</td>\n",
              "      <td>If u link anti feminism with misogyny or inequ...</td>\n",
              "      <td>AGAINST</td>\n",
              "    </tr>\n",
              "  </tbody>\n",
              "</table>\n",
              "</div>"
            ],
            "text/plain": [
              "                Target  ...   Stance\n",
              "389  Feminist Movement  ...  AGAINST\n",
              "390  Feminist Movement  ...  AGAINST\n",
              "391  Feminist Movement  ...    FAVOR\n",
              "392  Feminist Movement  ...    FAVOR\n",
              "393  Feminist Movement  ...  AGAINST\n",
              "\n",
              "[5 rows x 3 columns]"
            ]
          },
          "metadata": {
            "tags": []
          },
          "execution_count": 59
        }
      ]
    },
    {
      "cell_type": "code",
      "metadata": {
        "id": "PgCT5FZ6RAmc",
        "colab_type": "code",
        "colab": {}
      },
      "source": [
        "test_pred.to_csv(f'{path}eval_semeval16_task6_v2/prediction.txt',sep='\\t',index=True,\n",
        "                 header=['Target','Tweet','Stance'],index_label='ID')"
      ],
      "execution_count": 0,
      "outputs": []
    },
    {
      "cell_type": "markdown",
      "metadata": {
        "id": "cYaVJpRdRgx-",
        "colab_type": "text"
      },
      "source": [
        "Once we have the predicted data and target data, we use the perl script provided by the SemEval organizers to generate the F1 score.\n",
        "\n",
        "The evaluation script is in `data/twitter/eval_semeval16_task6_v2/eval.pl`   and has the following usage:"
      ]
    },
    {
      "cell_type": "code",
      "metadata": {
        "id": "6eSm9WTkMYyR",
        "colab_type": "code",
        "outputId": "8a87c88a-ee4b-4c1d-fd83-e6e3156cbde0",
        "colab": {
          "base_uri": "https://localhost:8080/",
          "height": 187
        }
      },
      "source": [
        "!perl /content/data/twitter/eval_semeval16_task6_v2/eval.pl /content/data/twitter/eval_semeval16_task6_v2/target.txt  /content/data/twitter/eval_semeval16_task6_v2/prediction.txt"
      ],
      "execution_count": 0,
      "outputs": [
        {
          "output_type": "stream",
          "text": [
            "\n",
            "\n",
            "============\n",
            "Results\t\t\t\t \n",
            "============\n",
            "FAVOR     precision: 0.2941 recall: 0.3448 f-score: 0.3175\n",
            "AGAINST   precision: 0.7557 recall: 0.5410 f-score: 0.6306\n",
            "------------\n",
            "Macro F: 0.4740\n",
            "\n"
          ],
          "name": "stdout"
        }
      ]
    },
    {
      "cell_type": "markdown",
      "metadata": {
        "id": "QQdHRvCGhcG2",
        "colab_type": "text"
      },
      "source": [
        "Using a relatively small input vocabulary from the Twitter training data, we do not do that well in the F-score for the \"Feminist Movement\" topic. On trying out a similar approach for Tweets from the other topics (Atheism, Hillary Clinton, etc.), we still do not see an F-score of above 0.60 - this is well below the winning score by MITRE of 0.67.\n",
        "\n",
        "To improve the score, some more fine-tuning is needed."
      ]
    },
    {
      "cell_type": "markdown",
      "metadata": {
        "id": "5T3I-jSkPzHi",
        "colab_type": "text"
      },
      "source": [
        "# 5.3 Best model parameters using ULMFiT\n",
        "\n",
        "The best average macro F-score of 0.65 using ULMFiT across all topics was obtained using the below approach and parameters:\n",
        "\n",
        "- Fine-tuning the language model on an augmented Twitter vocabulary: this was done by downloading the Twitter sentiment140 dataset from Kaggle, and feeding a subset of its vocabulary (200,000 words) to the language model fine-tuning step. The steps for this are shown in detail the Jupyter notebook ulmfit.ipynb. The full Kaggle Twitter dataset has 1.6 million Tweets, which would have taken several hours to fine-tune the language model on (even on an NVIDIA P100 GPU) — so only a subset of 200,000 words were used to augment the language model fine-tuning step.\n",
        "\n",
        "- Training 5 distinct classifiers (i.e. a separate training task for each topic during classification) and then combining the outputs for comparison with the gold reference— this was a technique similar to that used by MITRE in their best result from 2016, and is explained in their paper.\n",
        "\n",
        "- An optimum learning rate of 1e-03 for the language model fine-tuning step\n",
        "\n",
        "- An optimum learning rate in the range of 1e-05 to 1e-03 for the classifier, with gradual unfreezing"
      ]
    },
    {
      "cell_type": "markdown",
      "metadata": {
        "id": "VzaEd1vIhnMZ",
        "colab_type": "text"
      },
      "source": [
        "# 5.3 Train the Classifier: Augmented Vocabulary\n",
        "\n",
        "Since the initial approach (despite multiple attempts at fine-tuning both the language model and the classifier) did not generate an F-score as high as MITRE's (which was ~0.67), it can be reasoned that this could be because the pre-trained language model did not generalize to Tweets specifically (since the language syntax of tweets are quite different than the Wikipedia text that the LSTMs were trained on).\n",
        "\n",
        "The provided training data of 2,800 Tweets can be augmented with the [Kaggle Twitter Sentiment140 dataset](https://www.kaggle.com/kazanova/sentiment140) of 1.6 million tweets. By fine-tuning the language model on this larger Twitter dataset, we might better learn the structure of Twitter conversations.\n",
        "\n",
        "NOTE: Since 1.6 million tweets is quite a large dataset and can add a significant number of unique, one-time-only words, in this notebook, we only sampled a subset of 200,000 from the original Sentiment140 dataset for the language model fine-tuning to save on language model fine-tuning time. It is possible that fine-tuning the language model with a larger subset of the augmentation vocabulary could further improve the language model fine-tuned results."
      ]
    },
    {
      "cell_type": "code",
      "metadata": {
        "id": "m4A-2MvqhdK1",
        "colab_type": "code",
        "outputId": "6047fe19-f5a9-4f70-af30-77f8eb8e5d2b",
        "colab": {
          "base_uri": "https://localhost:8080/",
          "height": 391
        }
      },
      "source": [
        "!pip install kaggle\n",
        "!mkdir .kaggle\n",
        "\n",
        "import os\n",
        "import json \n",
        "token = {\"username\":\"hduongck\",\"key\":\"983e2ab1fbb29cf2734bcbf8811d42fb\"}\n",
        "with open('/content/.kaggle/kaggle.json', 'w') as file:\n",
        "    json.dump(token, file)\n",
        "\n",
        "#os.makedirs('/data/kaggle/', exist_ok=True)\n",
        "os.makedirs('/.kaggle/',exist_ok=True) \n",
        "!chmod 600 /content/.kaggle/kaggle.json\n",
        "\n",
        "!kaggle config set -n path -v{/content/data}\n",
        "\n",
        "\n",
        "!cp /content/.kaggle/kaggle.json ~/.kaggle/kaggle.json\n",
        "!kaggle datasets download -d kazanova/sentiment140 -p /content/data/twitter\n"
      ],
      "execution_count": 0,
      "outputs": [
        {
          "output_type": "stream",
          "text": [
            "Requirement already satisfied: kaggle in /usr/local/lib/python3.6/dist-packages (1.5.4)\n",
            "Requirement already satisfied: tqdm in /usr/local/lib/python3.6/dist-packages (from kaggle) (4.28.1)\n",
            "Requirement already satisfied: requests in /usr/local/lib/python3.6/dist-packages (from kaggle) (2.21.0)\n",
            "Requirement already satisfied: six>=1.10 in /usr/local/lib/python3.6/dist-packages (from kaggle) (1.12.0)\n",
            "Requirement already satisfied: python-slugify in /usr/local/lib/python3.6/dist-packages (from kaggle) (3.0.2)\n",
            "Requirement already satisfied: urllib3<1.25,>=1.21.1 in /usr/local/lib/python3.6/dist-packages (from kaggle) (1.24.3)\n",
            "Requirement already satisfied: certifi in /usr/local/lib/python3.6/dist-packages (from kaggle) (2019.3.9)\n",
            "Requirement already satisfied: python-dateutil in /usr/local/lib/python3.6/dist-packages (from kaggle) (2.5.3)\n",
            "Requirement already satisfied: idna<2.9,>=2.5 in /usr/local/lib/python3.6/dist-packages (from requests->kaggle) (2.8)\n",
            "Requirement already satisfied: chardet<3.1.0,>=3.0.2 in /usr/local/lib/python3.6/dist-packages (from requests->kaggle) (3.0.4)\n",
            "Requirement already satisfied: text-unidecode==1.2 in /usr/local/lib/python3.6/dist-packages (from python-slugify->kaggle) (1.2)\n",
            "Traceback (most recent call last):\n",
            "  File \"/usr/local/bin/kaggle\", line 6, in <module>\n",
            "    from kaggle.cli import main\n",
            "  File \"/usr/local/lib/python2.7/dist-packages/kaggle/__init__.py\", line 23, in <module>\n",
            "    api.authenticate()\n",
            "  File \"/usr/local/lib/python2.7/dist-packages/kaggle/api/kaggle_api_extended.py\", line 146, in authenticate\n",
            "    self.config_file, self.config_dir))\n",
            "IOError: Could not find kaggle.json. Make sure it's located in /root/.kaggle. Or use the environment method.\n",
            "Downloading sentiment140.zip to /content/data/twitter\n",
            " 87% 73.0M/84.0M [00:00<00:00, 69.9MB/s]\n",
            "100% 84.0M/84.0M [00:00<00:00, 102MB/s] \n"
          ],
          "name": "stdout"
        }
      ]
    },
    {
      "cell_type": "code",
      "metadata": {
        "id": "_CR5ODfoQ1Uq",
        "colab_type": "code",
        "outputId": "cdb5194e-2004-4f0b-8caa-59ba006c9584",
        "colab": {
          "base_uri": "https://localhost:8080/",
          "height": 51
        }
      },
      "source": [
        "!unzip /content/data/twitter/sentiment140.zip -d {path}"
      ],
      "execution_count": 0,
      "outputs": [
        {
          "output_type": "stream",
          "text": [
            "Archive:  /content/data/twitter/sentiment140.zip\n",
            "  inflating: /content/data/twitter/training.1600000.processed.noemoticon.csv  \n"
          ],
          "name": "stdout"
        }
      ]
    },
    {
      "cell_type": "code",
      "metadata": {
        "id": "j_s90zaKkXLQ",
        "colab_type": "code",
        "colab": {}
      },
      "source": [
        "# Load Kaggle Twitter Dataset\n",
        "kaggle = pd.read_csv(f'{path}training.1600000.processed.noemoticon.csv',header=None,encoding='latin-1')\n",
        "kaggle.columns =['col1','col2','col3','Stance','col5','Tweet']"
      ],
      "execution_count": 0,
      "outputs": []
    },
    {
      "cell_type": "code",
      "metadata": {
        "id": "rk0skBB7lnzo",
        "colab_type": "code",
        "outputId": "e6de76c4-253a-4df2-818d-192a840724c3",
        "colab": {
          "base_uri": "https://localhost:8080/",
          "height": 204
        }
      },
      "source": [
        "kaggle.head()"
      ],
      "execution_count": 0,
      "outputs": [
        {
          "output_type": "execute_result",
          "data": {
            "text/html": [
              "<div>\n",
              "<style scoped>\n",
              "    .dataframe tbody tr th:only-of-type {\n",
              "        vertical-align: middle;\n",
              "    }\n",
              "\n",
              "    .dataframe tbody tr th {\n",
              "        vertical-align: top;\n",
              "    }\n",
              "\n",
              "    .dataframe thead th {\n",
              "        text-align: right;\n",
              "    }\n",
              "</style>\n",
              "<table border=\"1\" class=\"dataframe\">\n",
              "  <thead>\n",
              "    <tr style=\"text-align: right;\">\n",
              "      <th></th>\n",
              "      <th>col1</th>\n",
              "      <th>col2</th>\n",
              "      <th>col3</th>\n",
              "      <th>Stance</th>\n",
              "      <th>col5</th>\n",
              "      <th>Tweet</th>\n",
              "    </tr>\n",
              "  </thead>\n",
              "  <tbody>\n",
              "    <tr>\n",
              "      <th>0</th>\n",
              "      <td>0</td>\n",
              "      <td>1467810369</td>\n",
              "      <td>Mon Apr 06 22:19:45 PDT 2009</td>\n",
              "      <td>NO_QUERY</td>\n",
              "      <td>_TheSpecialOne_</td>\n",
              "      <td>@switchfoot http://twitpic.com/2y1zl - Awww, t...</td>\n",
              "    </tr>\n",
              "    <tr>\n",
              "      <th>1</th>\n",
              "      <td>0</td>\n",
              "      <td>1467810672</td>\n",
              "      <td>Mon Apr 06 22:19:49 PDT 2009</td>\n",
              "      <td>NO_QUERY</td>\n",
              "      <td>scotthamilton</td>\n",
              "      <td>is upset that he can't update his Facebook by ...</td>\n",
              "    </tr>\n",
              "    <tr>\n",
              "      <th>2</th>\n",
              "      <td>0</td>\n",
              "      <td>1467810917</td>\n",
              "      <td>Mon Apr 06 22:19:53 PDT 2009</td>\n",
              "      <td>NO_QUERY</td>\n",
              "      <td>mattycus</td>\n",
              "      <td>@Kenichan I dived many times for the ball. Man...</td>\n",
              "    </tr>\n",
              "    <tr>\n",
              "      <th>3</th>\n",
              "      <td>0</td>\n",
              "      <td>1467811184</td>\n",
              "      <td>Mon Apr 06 22:19:57 PDT 2009</td>\n",
              "      <td>NO_QUERY</td>\n",
              "      <td>ElleCTF</td>\n",
              "      <td>my whole body feels itchy and like its on fire</td>\n",
              "    </tr>\n",
              "    <tr>\n",
              "      <th>4</th>\n",
              "      <td>0</td>\n",
              "      <td>1467811193</td>\n",
              "      <td>Mon Apr 06 22:19:57 PDT 2009</td>\n",
              "      <td>NO_QUERY</td>\n",
              "      <td>Karoli</td>\n",
              "      <td>@nationwideclass no, it's not behaving at all....</td>\n",
              "    </tr>\n",
              "  </tbody>\n",
              "</table>\n",
              "</div>"
            ],
            "text/plain": [
              "   col1  ...                                              Tweet\n",
              "0     0  ...  @switchfoot http://twitpic.com/2y1zl - Awww, t...\n",
              "1     0  ...  is upset that he can't update his Facebook by ...\n",
              "2     0  ...  @Kenichan I dived many times for the ball. Man...\n",
              "3     0  ...    my whole body feels itchy and like its on fire \n",
              "4     0  ...  @nationwideclass no, it's not behaving at all....\n",
              "\n",
              "[5 rows x 6 columns]"
            ]
          },
          "metadata": {
            "tags": []
          },
          "execution_count": 65
        }
      ]
    },
    {
      "cell_type": "code",
      "metadata": {
        "id": "ysUQJLF0lpFH",
        "colab_type": "code",
        "colab": {}
      },
      "source": [
        "# keep the cols we need\n",
        "kaggle=kaggle[['Stance','Tweet']]"
      ],
      "execution_count": 0,
      "outputs": []
    },
    {
      "cell_type": "code",
      "metadata": {
        "id": "JCnTG1KCl3eK",
        "colab_type": "code",
        "outputId": "1ce85c5b-6475-432c-bb4c-05a57b3393bb",
        "colab": {
          "base_uri": "https://localhost:8080/",
          "height": 34
        }
      },
      "source": [
        "kaggle.shape"
      ],
      "execution_count": 0,
      "outputs": [
        {
          "output_type": "execute_result",
          "data": {
            "text/plain": [
              "(1600000, 2)"
            ]
          },
          "metadata": {
            "tags": []
          },
          "execution_count": 67
        }
      ]
    },
    {
      "cell_type": "code",
      "metadata": {
        "id": "chOeL5ZXmCnL",
        "colab_type": "code",
        "colab": {}
      },
      "source": [
        "# Clean Data and Remove URL's from the tweets\n",
        "\n",
        "kaggle['Tweet'] = kaggle['Tweet'].apply(clean_ascii)\n",
        "kaggle['Tweet'] = kaggle['Tweet'].replace(r'http\\S+','',regex=True)\n",
        "kaggle_sub = kaggle.sample(n=200000,random_state=77)\n",
        "kaggle_sub = kaggle.append(train,ignore_index=True)"
      ],
      "execution_count": 0,
      "outputs": []
    },
    {
      "cell_type": "markdown",
      "metadata": {
        "id": "MiR6X_Ge5h3P",
        "colab_type": "text"
      },
      "source": [
        "## Twitter Language Learner"
      ]
    },
    {
      "cell_type": "code",
      "metadata": {
        "id": "MnGtmC7ozljV",
        "colab_type": "code",
        "colab": {}
      },
      "source": [
        "twitter_lm = (TextList.from_df(kaggle_sub,path,cols='Tweet')\n",
        "             .split_by_rand_pct(0.1)\n",
        "             .label_for_lm()\n",
        "             .databunch(bs=64))\n",
        "twitter_lm.save('kaggle_lm')"
      ],
      "execution_count": 0,
      "outputs": []
    },
    {
      "cell_type": "code",
      "metadata": {
        "id": "-hEI4boN6QRd",
        "colab_type": "code",
        "outputId": "e8059cec-6c7f-4632-fdf6-5fe824e8a371",
        "colab": {
          "base_uri": "https://localhost:8080/",
          "height": 289
        }
      },
      "source": [
        "twitter_lm.show_batch()"
      ],
      "execution_count": 0,
      "outputs": [
        {
          "output_type": "display_data",
          "data": {
            "text/html": [
              "<table border=\"1\" class=\"dataframe\">\n",
              "  <thead>\n",
              "    <tr style=\"text-align: right;\">\n",
              "      <th>idx</th>\n",
              "      <th>text</th>\n",
              "    </tr>\n",
              "  </thead>\n",
              "  <tbody>\n",
              "    <tr>\n",
              "      <td>0</td>\n",
              "      <td>managed to save 50 % xxmaj the rest go out of bounds xxbos my whole body feels itchy and like its on fire xxbos @nationwideclass no , it 's not behaving at all . i 'm mad . why am i here ? because i ca n't see you all over there . xxbos xxunk not the whole crew xxbos xxmaj need a hug xxbos xxunk hey long time no</td>\n",
              "    </tr>\n",
              "    <tr>\n",
              "      <td>1</td>\n",
              "      <td>too early for a sunday stupid father daughter time ! ! xxbos starving but there s no good food here xxbos xxunk not good , xxunk off tom again lol . 10 days til payday xxbos xxup xxunk strikes again i 'm too miserable to party so gave it a miss xxbos xxunk xxunk where do u guys get this endless xxup xxunk from ? xxmaj lawd , i still</td>\n",
              "    </tr>\n",
              "    <tr>\n",
              "      <td>2</td>\n",
              "      <td>. xxbos @tatiny ca n't wait to watch casual friday ! then one more episode before the season breaks xxbos i 'm at work with my xxup b. xxmaj but i 'm so ready to go home and crawl back into bed and go back to sleep ... ugh stuck here till 2 ! ! xxbos goin' back to work xxmaj monday .. bittersweet . xxmaj miss my students ,</td>\n",
              "    </tr>\n",
              "    <tr>\n",
              "      <td>3</td>\n",
              "      <td>feel muc xxrep 4 h worse . xxmaj about to start working , one more page to go . xxbos ca n't move . trying to get out of bed ... i have a new found respect for strippers . xxbos xxmaj very windy , xxmaj dusty &amp; &amp; xxmaj cloudy day ... xxmaj pls end fast xxbos @irishjonasfan xxmaj psssh one is being made to go on a bike</td>\n",
              "    </tr>\n",
              "    <tr>\n",
              "      <td>4</td>\n",
              "      <td>@davidarchie aww xxmaj danny xxmaj gokey was voted off i actually want him to be in the finals .. xxbos xxunk ke man az xxunk xxunk xxunk xxunk xxunk dare , xxunk xxunk hey xxunk xxunk xxbos it 's too early xxbos so ti xxrep 6 r ed and reallly not in the mood for school either .. xxbos xxup btw ... who put glue on the clock hands ?</td>\n",
              "    </tr>\n",
              "  </tbody>\n",
              "</table>"
            ],
            "text/plain": [
              "<IPython.core.display.HTML object>"
            ]
          },
          "metadata": {
            "tags": []
          }
        }
      ]
    },
    {
      "cell_type": "code",
      "metadata": {
        "id": "W4cl4FQu6uiN",
        "colab_type": "code",
        "colab": {}
      },
      "source": [
        "learn_twitter = language_model_learner(twitter_lm,AWD_LSTM,drop_mult=0.5)"
      ],
      "execution_count": 0,
      "outputs": []
    },
    {
      "cell_type": "code",
      "metadata": {
        "id": "lMHHaIY27icP",
        "colab_type": "code",
        "outputId": "ccc87da1-6be5-4c5d-dd5f-ba40c57dc64c",
        "colab": {
          "base_uri": "https://localhost:8080/",
          "height": 317
        }
      },
      "source": [
        "learn_twitter.lr_find()\n",
        "learn_twitter.recorder.plot(suggestion=True)"
      ],
      "execution_count": 0,
      "outputs": [
        {
          "output_type": "display_data",
          "data": {
            "text/html": [
              ""
            ],
            "text/plain": [
              "<IPython.core.display.HTML object>"
            ]
          },
          "metadata": {
            "tags": []
          }
        },
        {
          "output_type": "stream",
          "text": [
            "LR Finder is complete, type {learner_name}.recorder.plot() to see the graph.\n",
            "Min numerical gradient: 6.92E-02\n"
          ],
          "name": "stdout"
        },
        {
          "output_type": "display_data",
          "data": {
            "image/png": "[encoded data removed]",
            "text/plain": [
              "<Figure size 432x288 with 1 Axes>"
            ]
          },
          "metadata": {
            "tags": []
          }
        }
      ]
    },
    {
      "cell_type": "code",
      "metadata": {
        "id": "XILkEAmnJHiN",
        "colab_type": "code",
        "colab": {
          "base_uri": "https://localhost:8080/",
          "height": 34
        },
        "outputId": "fbd5a9fc-ee8c-4754-fa7b-061a1891451e"
      },
      "source": [
        "gc.collect()"
      ],
      "execution_count": 80,
      "outputs": [
        {
          "output_type": "execute_result",
          "data": {
            "text/plain": [
              "887945"
            ]
          },
          "metadata": {
            "tags": []
          },
          "execution_count": 80
        }
      ]
    },
    {
      "cell_type": "code",
      "metadata": {
        "id": "D0pWlM-H9_nQ",
        "colab_type": "code",
        "outputId": "ee448e58-369b-4a0c-b03a-bf0fa570f9a1",
        "colab": {
          "base_uri": "https://localhost:8080/",
          "height": 450
        }
      },
      "source": [
        "learn_twitter.fit_one_cycle(5,max_lr=1e-3,moms=(0.8,0.7))"
      ],
      "execution_count": 82,
      "outputs": [
        {
          "output_type": "display_data",
          "data": {
            "text/html": [
              "\n",
              "    <div>\n",
              "        <style>\n",
              "            /* Turns off some styling */\n",
              "            progress {\n",
              "                /* gets rid of default border in Firefox and Opera. */\n",
              "                border: none;\n",
              "                /* Needs to be in here for Safari polyfill so background images work as expected. */\n",
              "                background-size: auto;\n",
              "            }\n",
              "            .progress-bar-interrupted, .progress-bar-interrupted::-webkit-progress-bar {\n",
              "                background: #F44336;\n",
              "            }\n",
              "        </style>\n",
              "      <progress value='2' class='' max='5', style='width:300px; height:20px; vertical-align: middle;'></progress>\n",
              "      40.00% [2/5 1:27:17<2:10:56]\n",
              "    </div>\n",
              "    \n",
              "<table border=\"1\" class=\"dataframe\">\n",
              "  <thead>\n",
              "    <tr style=\"text-align: left;\">\n",
              "      <th>epoch</th>\n",
              "      <th>train_loss</th>\n",
              "      <th>valid_loss</th>\n",
              "      <th>accuracy</th>\n",
              "      <th>time</th>\n",
              "    </tr>\n",
              "  </thead>\n",
              "  <tbody>\n",
              "    <tr>\n",
              "      <td>0</td>\n",
              "      <td>4.576567</td>\n",
              "      <td>4.423285</td>\n",
              "      <td>0.228360</td>\n",
              "      <td>43:33</td>\n",
              "    </tr>\n",
              "    <tr>\n",
              "      <td>1</td>\n",
              "      <td>4.592129</td>\n",
              "      <td>4.424795</td>\n",
              "      <td>0.228380</td>\n",
              "      <td>43:43</td>\n",
              "    </tr>\n",
              "  </tbody>\n",
              "</table><p>\n",
              "\n",
              "    <div>\n",
              "        <style>\n",
              "            /* Turns off some styling */\n",
              "            progress {\n",
              "                /* gets rid of default border in Firefox and Opera. */\n",
              "                border: none;\n",
              "                /* Needs to be in here for Safari polyfill so background images work as expected. */\n",
              "                background-size: auto;\n",
              "            }\n",
              "            .progress-bar-interrupted, .progress-bar-interrupted::-webkit-progress-bar {\n",
              "                background: #F44336;\n",
              "            }\n",
              "        </style>\n",
              "      <progress value='0' class='progress-bar-interrupted' max='5949', style='width:300px; height:20px; vertical-align: middle;'></progress>\n",
              "      Interrupted\n",
              "    </div>\n",
              "    "
            ],
            "text/plain": [
              "<IPython.core.display.HTML object>"
            ]
          },
          "metadata": {
            "tags": []
          }
        },
        {
          "output_type": "error",
          "ename": "KeyboardInterrupt",
          "evalue": "ignored",
          "traceback": [
            "\u001b[0;31m---------------------------------------------------------------------------\u001b[0m",
            "\u001b[0;31mKeyboardInterrupt\u001b[0m                         Traceback (most recent call last)",
            "\u001b[0;32m<ipython-input-82-19efaba1e178>\u001b[0m in \u001b[0;36m<module>\u001b[0;34m()\u001b[0m\n\u001b[0;32m----> 1\u001b[0;31m \u001b[0mlearn_twitter\u001b[0m\u001b[0;34m.\u001b[0m\u001b[0mfit_one_cycle\u001b[0m\u001b[0;34m(\u001b[0m\u001b[0;36m5\u001b[0m\u001b[0;34m,\u001b[0m\u001b[0mmax_lr\u001b[0m\u001b[0;34m=\u001b[0m\u001b[0;36m1e-3\u001b[0m\u001b[0;34m,\u001b[0m\u001b[0mmoms\u001b[0m\u001b[0;34m=\u001b[0m\u001b[0;34m(\u001b[0m\u001b[0;36m0.8\u001b[0m\u001b[0;34m,\u001b[0m\u001b[0;36m0.7\u001b[0m\u001b[0;34m)\u001b[0m\u001b[0;34m)\u001b[0m\u001b[0;34m\u001b[0m\u001b[0;34m\u001b[0m\u001b[0m\n\u001b[0m",
            "\u001b[0;32m/usr/local/lib/python3.6/dist-packages/fastai/train.py\u001b[0m in \u001b[0;36mfit_one_cycle\u001b[0;34m(learn, cyc_len, max_lr, moms, div_factor, pct_start, final_div, wd, callbacks, tot_epochs, start_epoch)\u001b[0m\n\u001b[1;32m     20\u001b[0m     callbacks.append(OneCycleScheduler(learn, max_lr, moms=moms, div_factor=div_factor, pct_start=pct_start,\n\u001b[1;32m     21\u001b[0m                                        final_div=final_div, tot_epochs=tot_epochs, start_epoch=start_epoch))\n\u001b[0;32m---> 22\u001b[0;31m     \u001b[0mlearn\u001b[0m\u001b[0;34m.\u001b[0m\u001b[0mfit\u001b[0m\u001b[0;34m(\u001b[0m\u001b[0mcyc_len\u001b[0m\u001b[0;34m,\u001b[0m \u001b[0mmax_lr\u001b[0m\u001b[0;34m,\u001b[0m \u001b[0mwd\u001b[0m\u001b[0;34m=\u001b[0m\u001b[0mwd\u001b[0m\u001b[0;34m,\u001b[0m \u001b[0mcallbacks\u001b[0m\u001b[0;34m=\u001b[0m\u001b[0mcallbacks\u001b[0m\u001b[0;34m)\u001b[0m\u001b[0;34m\u001b[0m\u001b[0;34m\u001b[0m\u001b[0m\n\u001b[0m\u001b[1;32m     23\u001b[0m \u001b[0;34m\u001b[0m\u001b[0m\n\u001b[1;32m     24\u001b[0m \u001b[0;32mdef\u001b[0m \u001b[0mlr_find\u001b[0m\u001b[0;34m(\u001b[0m\u001b[0mlearn\u001b[0m\u001b[0;34m:\u001b[0m\u001b[0mLearner\u001b[0m\u001b[0;34m,\u001b[0m \u001b[0mstart_lr\u001b[0m\u001b[0;34m:\u001b[0m\u001b[0mFloats\u001b[0m\u001b[0;34m=\u001b[0m\u001b[0;36m1e-7\u001b[0m\u001b[0;34m,\u001b[0m \u001b[0mend_lr\u001b[0m\u001b[0;34m:\u001b[0m\u001b[0mFloats\u001b[0m\u001b[0;34m=\u001b[0m\u001b[0;36m10\u001b[0m\u001b[0;34m,\u001b[0m \u001b[0mnum_it\u001b[0m\u001b[0;34m:\u001b[0m\u001b[0mint\u001b[0m\u001b[0;34m=\u001b[0m\u001b[0;36m100\u001b[0m\u001b[0;34m,\u001b[0m \u001b[0mstop_div\u001b[0m\u001b[0;34m:\u001b[0m\u001b[0mbool\u001b[0m\u001b[0;34m=\u001b[0m\u001b[0;32mTrue\u001b[0m\u001b[0;34m,\u001b[0m \u001b[0mwd\u001b[0m\u001b[0;34m:\u001b[0m\u001b[0mfloat\u001b[0m\u001b[0;34m=\u001b[0m\u001b[0;32mNone\u001b[0m\u001b[0;34m)\u001b[0m\u001b[0;34m:\u001b[0m\u001b[0;34m\u001b[0m\u001b[0;34m\u001b[0m\u001b[0m\n",
            "\u001b[0;32m/usr/local/lib/python3.6/dist-packages/fastai/basic_train.py\u001b[0m in \u001b[0;36mfit\u001b[0;34m(self, epochs, lr, wd, callbacks)\u001b[0m\n\u001b[1;32m    197\u001b[0m         \u001b[0mcallbacks\u001b[0m \u001b[0;34m=\u001b[0m \u001b[0;34m[\u001b[0m\u001b[0mcb\u001b[0m\u001b[0;34m(\u001b[0m\u001b[0mself\u001b[0m\u001b[0;34m)\u001b[0m \u001b[0;32mfor\u001b[0m \u001b[0mcb\u001b[0m \u001b[0;32min\u001b[0m \u001b[0mself\u001b[0m\u001b[0;34m.\u001b[0m\u001b[0mcallback_fns\u001b[0m \u001b[0;34m+\u001b[0m \u001b[0mlistify\u001b[0m\u001b[0;34m(\u001b[0m\u001b[0mdefaults\u001b[0m\u001b[0;34m.\u001b[0m\u001b[0mextra_callback_fns\u001b[0m\u001b[0;34m)\u001b[0m\u001b[0;34m]\u001b[0m \u001b[0;34m+\u001b[0m \u001b[0mlistify\u001b[0m\u001b[0;34m(\u001b[0m\u001b[0mcallbacks\u001b[0m\u001b[0;34m)\u001b[0m\u001b[0;34m\u001b[0m\u001b[0;34m\u001b[0m\u001b[0m\n\u001b[1;32m    198\u001b[0m         \u001b[0;32mif\u001b[0m \u001b[0mdefaults\u001b[0m\u001b[0;34m.\u001b[0m\u001b[0mextra_callbacks\u001b[0m \u001b[0;32mis\u001b[0m \u001b[0;32mnot\u001b[0m \u001b[0;32mNone\u001b[0m\u001b[0;34m:\u001b[0m \u001b[0mcallbacks\u001b[0m \u001b[0;34m+=\u001b[0m \u001b[0mdefaults\u001b[0m\u001b[0;34m.\u001b[0m\u001b[0mextra_callbacks\u001b[0m\u001b[0;34m\u001b[0m\u001b[0;34m\u001b[0m\u001b[0m\n\u001b[0;32m--> 199\u001b[0;31m         \u001b[0mfit\u001b[0m\u001b[0;34m(\u001b[0m\u001b[0mepochs\u001b[0m\u001b[0;34m,\u001b[0m \u001b[0mself\u001b[0m\u001b[0;34m,\u001b[0m \u001b[0mmetrics\u001b[0m\u001b[0;34m=\u001b[0m\u001b[0mself\u001b[0m\u001b[0;34m.\u001b[0m\u001b[0mmetrics\u001b[0m\u001b[0;34m,\u001b[0m \u001b[0mcallbacks\u001b[0m\u001b[0;34m=\u001b[0m\u001b[0mself\u001b[0m\u001b[0;34m.\u001b[0m\u001b[0mcallbacks\u001b[0m\u001b[0;34m+\u001b[0m\u001b[0mcallbacks\u001b[0m\u001b[0;34m)\u001b[0m\u001b[0;34m\u001b[0m\u001b[0;34m\u001b[0m\u001b[0m\n\u001b[0m\u001b[1;32m    200\u001b[0m \u001b[0;34m\u001b[0m\u001b[0m\n\u001b[1;32m    201\u001b[0m     \u001b[0;32mdef\u001b[0m \u001b[0mcreate_opt\u001b[0m\u001b[0;34m(\u001b[0m\u001b[0mself\u001b[0m\u001b[0;34m,\u001b[0m \u001b[0mlr\u001b[0m\u001b[0;34m:\u001b[0m\u001b[0mFloats\u001b[0m\u001b[0;34m,\u001b[0m \u001b[0mwd\u001b[0m\u001b[0;34m:\u001b[0m\u001b[0mFloats\u001b[0m\u001b[0;34m=\u001b[0m\u001b[0;36m0.\u001b[0m\u001b[0;34m)\u001b[0m\u001b[0;34m->\u001b[0m\u001b[0;32mNone\u001b[0m\u001b[0;34m:\u001b[0m\u001b[0;34m\u001b[0m\u001b[0;34m\u001b[0m\u001b[0m\n",
            "\u001b[0;32m/usr/local/lib/python3.6/dist-packages/fastai/basic_train.py\u001b[0m in \u001b[0;36mfit\u001b[0;34m(epochs, learn, callbacks, metrics)\u001b[0m\n\u001b[1;32m     99\u001b[0m             \u001b[0;32mfor\u001b[0m \u001b[0mxb\u001b[0m\u001b[0;34m,\u001b[0m\u001b[0myb\u001b[0m \u001b[0;32min\u001b[0m \u001b[0mprogress_bar\u001b[0m\u001b[0;34m(\u001b[0m\u001b[0mlearn\u001b[0m\u001b[0;34m.\u001b[0m\u001b[0mdata\u001b[0m\u001b[0;34m.\u001b[0m\u001b[0mtrain_dl\u001b[0m\u001b[0;34m,\u001b[0m \u001b[0mparent\u001b[0m\u001b[0;34m=\u001b[0m\u001b[0mpbar\u001b[0m\u001b[0;34m)\u001b[0m\u001b[0;34m:\u001b[0m\u001b[0;34m\u001b[0m\u001b[0;34m\u001b[0m\u001b[0m\n\u001b[1;32m    100\u001b[0m                 \u001b[0mxb\u001b[0m\u001b[0;34m,\u001b[0m \u001b[0myb\u001b[0m \u001b[0;34m=\u001b[0m \u001b[0mcb_handler\u001b[0m\u001b[0;34m.\u001b[0m\u001b[0mon_batch_begin\u001b[0m\u001b[0;34m(\u001b[0m\u001b[0mxb\u001b[0m\u001b[0;34m,\u001b[0m \u001b[0myb\u001b[0m\u001b[0;34m)\u001b[0m\u001b[0;34m\u001b[0m\u001b[0;34m\u001b[0m\u001b[0m\n\u001b[0;32m--> 101\u001b[0;31m                 \u001b[0mloss\u001b[0m \u001b[0;34m=\u001b[0m \u001b[0mloss_batch\u001b[0m\u001b[0;34m(\u001b[0m\u001b[0mlearn\u001b[0m\u001b[0;34m.\u001b[0m\u001b[0mmodel\u001b[0m\u001b[0;34m,\u001b[0m \u001b[0mxb\u001b[0m\u001b[0;34m,\u001b[0m \u001b[0myb\u001b[0m\u001b[0;34m,\u001b[0m \u001b[0mlearn\u001b[0m\u001b[0;34m.\u001b[0m\u001b[0mloss_func\u001b[0m\u001b[0;34m,\u001b[0m \u001b[0mlearn\u001b[0m\u001b[0;34m.\u001b[0m\u001b[0mopt\u001b[0m\u001b[0;34m,\u001b[0m \u001b[0mcb_handler\u001b[0m\u001b[0;34m)\u001b[0m\u001b[0;34m\u001b[0m\u001b[0;34m\u001b[0m\u001b[0m\n\u001b[0m\u001b[1;32m    102\u001b[0m                 \u001b[0;32mif\u001b[0m \u001b[0mcb_handler\u001b[0m\u001b[0;34m.\u001b[0m\u001b[0mon_batch_end\u001b[0m\u001b[0;34m(\u001b[0m\u001b[0mloss\u001b[0m\u001b[0;34m)\u001b[0m\u001b[0;34m:\u001b[0m \u001b[0;32mbreak\u001b[0m\u001b[0;34m\u001b[0m\u001b[0;34m\u001b[0m\u001b[0m\n\u001b[1;32m    103\u001b[0m \u001b[0;34m\u001b[0m\u001b[0m\n",
            "\u001b[0;32m/usr/local/lib/python3.6/dist-packages/fastai/basic_train.py\u001b[0m in \u001b[0;36mloss_batch\u001b[0;34m(model, xb, yb, loss_func, opt, cb_handler)\u001b[0m\n\u001b[1;32m     31\u001b[0m \u001b[0;34m\u001b[0m\u001b[0m\n\u001b[1;32m     32\u001b[0m     \u001b[0;32mif\u001b[0m \u001b[0mopt\u001b[0m \u001b[0;32mis\u001b[0m \u001b[0;32mnot\u001b[0m \u001b[0;32mNone\u001b[0m\u001b[0;34m:\u001b[0m\u001b[0;34m\u001b[0m\u001b[0;34m\u001b[0m\u001b[0m\n\u001b[0;32m---> 33\u001b[0;31m         \u001b[0mloss\u001b[0m\u001b[0;34m,\u001b[0m\u001b[0mskip_bwd\u001b[0m \u001b[0;34m=\u001b[0m \u001b[0mcb_handler\u001b[0m\u001b[0;34m.\u001b[0m\u001b[0mon_backward_begin\u001b[0m\u001b[0;34m(\u001b[0m\u001b[0mloss\u001b[0m\u001b[0;34m)\u001b[0m\u001b[0;34m\u001b[0m\u001b[0;34m\u001b[0m\u001b[0m\n\u001b[0m\u001b[1;32m     34\u001b[0m         \u001b[0;32mif\u001b[0m \u001b[0;32mnot\u001b[0m \u001b[0mskip_bwd\u001b[0m\u001b[0;34m:\u001b[0m                     \u001b[0mloss\u001b[0m\u001b[0;34m.\u001b[0m\u001b[0mbackward\u001b[0m\u001b[0;34m(\u001b[0m\u001b[0;34m)\u001b[0m\u001b[0;34m\u001b[0m\u001b[0;34m\u001b[0m\u001b[0m\n\u001b[1;32m     35\u001b[0m         \u001b[0;32mif\u001b[0m \u001b[0;32mnot\u001b[0m \u001b[0mcb_handler\u001b[0m\u001b[0;34m.\u001b[0m\u001b[0mon_backward_end\u001b[0m\u001b[0;34m(\u001b[0m\u001b[0;34m)\u001b[0m\u001b[0;34m:\u001b[0m \u001b[0mopt\u001b[0m\u001b[0;34m.\u001b[0m\u001b[0mstep\u001b[0m\u001b[0;34m(\u001b[0m\u001b[0;34m)\u001b[0m\u001b[0;34m\u001b[0m\u001b[0;34m\u001b[0m\u001b[0m\n",
            "\u001b[0;32m/usr/local/lib/python3.6/dist-packages/fastai/callback.py\u001b[0m in \u001b[0;36mon_backward_begin\u001b[0;34m(self, loss)\u001b[0m\n\u001b[1;32m    288\u001b[0m     \u001b[0;32mdef\u001b[0m \u001b[0mon_backward_begin\u001b[0m\u001b[0;34m(\u001b[0m\u001b[0mself\u001b[0m\u001b[0;34m,\u001b[0m \u001b[0mloss\u001b[0m\u001b[0;34m:\u001b[0m\u001b[0mTensor\u001b[0m\u001b[0;34m)\u001b[0m\u001b[0;34m->\u001b[0m\u001b[0;32mNone\u001b[0m\u001b[0;34m:\u001b[0m\u001b[0;34m\u001b[0m\u001b[0;34m\u001b[0m\u001b[0m\n\u001b[1;32m    289\u001b[0m         \u001b[0;34m\"Handle gradient calculation on `loss`.\"\u001b[0m\u001b[0;34m\u001b[0m\u001b[0;34m\u001b[0m\u001b[0m\n\u001b[0;32m--> 290\u001b[0;31m         \u001b[0mself\u001b[0m\u001b[0;34m.\u001b[0m\u001b[0msmoothener\u001b[0m\u001b[0;34m.\u001b[0m\u001b[0madd_value\u001b[0m\u001b[0;34m(\u001b[0m\u001b[0mloss\u001b[0m\u001b[0;34m.\u001b[0m\u001b[0mdetach\u001b[0m\u001b[0;34m(\u001b[0m\u001b[0;34m)\u001b[0m\u001b[0;34m.\u001b[0m\u001b[0mcpu\u001b[0m\u001b[0;34m(\u001b[0m\u001b[0;34m)\u001b[0m\u001b[0;34m)\u001b[0m\u001b[0;34m\u001b[0m\u001b[0;34m\u001b[0m\u001b[0m\n\u001b[0m\u001b[1;32m    291\u001b[0m         \u001b[0mself\u001b[0m\u001b[0;34m.\u001b[0m\u001b[0mstate_dict\u001b[0m\u001b[0;34m[\u001b[0m\u001b[0;34m'last_loss'\u001b[0m\u001b[0;34m]\u001b[0m\u001b[0;34m,\u001b[0m \u001b[0mself\u001b[0m\u001b[0;34m.\u001b[0m\u001b[0mstate_dict\u001b[0m\u001b[0;34m[\u001b[0m\u001b[0;34m'smooth_loss'\u001b[0m\u001b[0;34m]\u001b[0m \u001b[0;34m=\u001b[0m \u001b[0mloss\u001b[0m\u001b[0;34m,\u001b[0m \u001b[0mself\u001b[0m\u001b[0;34m.\u001b[0m\u001b[0msmoothener\u001b[0m\u001b[0;34m.\u001b[0m\u001b[0msmooth\u001b[0m\u001b[0;34m\u001b[0m\u001b[0;34m\u001b[0m\u001b[0m\n\u001b[1;32m    292\u001b[0m         \u001b[0mself\u001b[0m\u001b[0;34m(\u001b[0m\u001b[0;34m'backward_begin'\u001b[0m\u001b[0;34m,\u001b[0m \u001b[0mcall_mets\u001b[0m\u001b[0;34m=\u001b[0m\u001b[0;32mFalse\u001b[0m\u001b[0;34m)\u001b[0m\u001b[0;34m\u001b[0m\u001b[0;34m\u001b[0m\u001b[0m\n",
            "\u001b[0;31mKeyboardInterrupt\u001b[0m: "
          ]
        }
      ]
    },
    {
      "cell_type": "code",
      "metadata": {
        "id": "1vzDDo98-JB_",
        "colab_type": "code",
        "colab": {}
      },
      "source": [
        "learn_twitter.save_encoder('ft_enc_encoder_v1')"
      ],
      "execution_count": 0,
      "outputs": []
    },
    {
      "cell_type": "code",
      "metadata": {
        "id": "c5JqQaxxRykp",
        "colab_type": "code",
        "colab": {}
      },
      "source": [
        "#Save the Vocab to a Pickle file for later use\n",
        "pickle.dump(twitter_lm.train_ds.vocab,open(f'{path}vocab.pkl','wb'))"
      ],
      "execution_count": 0,
      "outputs": []
    },
    {
      "cell_type": "markdown",
      "metadata": {
        "id": "ZrT1vbKlSQkz",
        "colab_type": "text"
      },
      "source": [
        "**Load Vocabulary**\n",
        "\n",
        "This assumes that we have a fine-tuned language model's numericalized vocabulary vocab.pkl in the same directory as the notebook."
      ]
    },
    {
      "cell_type": "code",
      "metadata": {
        "id": "2TH9Roj--SZU",
        "colab_type": "code",
        "colab": {}
      },
      "source": [
        "vocab_load = pickle.load(open(f'{path}vocab.pkl','rb'))"
      ],
      "execution_count": 0,
      "outputs": []
    },
    {
      "cell_type": "markdown",
      "metadata": {
        "id": "xXBdt_vAShWl",
        "colab_type": "text"
      },
      "source": [
        "##Text classifier on all multiple topic\n",
        "\n",
        "Various values of momentum, dropout and learning rates were tried to find the best values of these parameters. The below parameters are applied in a for loop to train on each topic one by one, and then appending the predictions to a common file for comparison with the gold reference."
      ]
    },
    {
      "cell_type": "code",
      "metadata": {
        "id": "GXxXELgxmkGc",
        "colab_type": "code",
        "colab": {}
      },
      "source": [
        "preds_document=pd.DataFrame()"
      ],
      "execution_count": 0,
      "outputs": []
    },
    {
      "cell_type": "code",
      "metadata": {
        "id": "Wy6Zex5vSfXr",
        "colab_type": "code",
        "colab": {
          "base_uri": "https://localhost:8080/",
          "height": 1363
        },
        "outputId": "86f04e02-d925-4683-adcc-6b0fee5ef549"
      },
      "source": [
        "for topic in train_orig.Target.unique():\n",
        "    print('Topic: ',topic)\n",
        "    train_topic = train.loc[train_orig.Target==topic]\n",
        "    \n",
        "    #classifier model data\n",
        "    data_cls = (TextList.from_df(train_topic,path,cols='Tweet',vocab=vocab_load)\n",
        "               .split_by_rand_pct(0.2)\n",
        "               .label_from_df(cols='Stance')\n",
        "               .databunch(bs=64))\n",
        "    data_cls.save()\n",
        "    learn = text_classifier_learner(data_cls,AWD_LSTM,drop_mult=0.5,metrics=[FBeta(average='macro'),accuracy])\n",
        "    learn.load_encoder('ft_enc_encoder_v1')\n",
        "    learn.freeze()\n",
        "    \n",
        "    #find optimum learning rate\n",
        "    learn.lr_find(start_lr=1e-6,end_lr=1e-2)\n",
        "    learn.recorder.plot(suggestion=True)\n",
        "    \n",
        "    #Train the classifier by gradually unfreezing the layers\n",
        "    learn.fit_one_cycle(3,max_lr=1e-3,moms=(0.8,0.7))\n",
        "    #Unfreeze the layer\n",
        "    learn.freeze_to(-2)\n",
        "    learn.fit_one_cycle(3,max_lr=1e-3,moms=(0.8,0.7))\n",
        "    #Unfreeze the layer\n",
        "    learn.freeze_to(-3)\n",
        "    learn.fit_one_cycle(3,max_lr=1e-3,moms=(0.8,0.7))\n",
        "    #Unfreeze all layers\n",
        "    learn.unfreeze()\n",
        "    learn.fit_one_cycle(5,max_lr=1e-3,moms=(0.8,0.7))\n",
        "    \n",
        "    #get predictions\n",
        "    preds,targets= learn.get_preds()\n",
        "    predictions = np.argmax(preds,axis=1)\n",
        "    pd.crosstab(predictions,targets)\n",
        "    \n",
        "    #filter test_topic\n",
        "    test_pred = test[['Target','Tweet']]\n",
        "    test_pred = test_pred.loc[test_pred.Target==topic]\n",
        "    print(test_pred.shape)\n",
        "    \n",
        "    #get predictions on test_topic\n",
        "    test_pred['Stance'] = test_pred['Tweet'].apply(lambda row: str(learn.predict(row)[0]))\n",
        "    file_to_save = \"predicted_\"+str(topic.replace(\" \",\"_\"))+\".txt\"\n",
        "    test_pred.to_csv(f'{path}eval_semeval16_task6_v2/{file_to_save}',sep='\\t', index=True,\n",
        "                     header=['Target', 'Tweet', 'Stance'], index_label='ID')\n",
        "   \n",
        "    if topic =='Atheism':\n",
        "        preds_document=test_pred\n",
        "    else: \n",
        "        preds_document = preds_document.append(test_pred,ignore_index=True)\n",
        "    "
      ],
      "execution_count": 107,
      "outputs": [
        {
          "output_type": "stream",
          "text": [
            "(280, 2)\n"
          ],
          "name": "stdout"
        },
        {
          "output_type": "display_data",
          "data": {
            "image/png": "[encoded data removed]",
            "text/plain": [
              "<Figure size 432x288 with 1 Axes>"
            ]
          },
          "metadata": {
            "tags": []
          }
        },
        {
          "output_type": "display_data",
          "data": {
            "image/png": "[encoded data removed]",
            "text/plain": [
              "<Figure size 432x288 with 1 Axes>"
            ]
          },
          "metadata": {
            "tags": []
          }
        },
        {
          "output_type": "display_data",
          "data": {
            "image/png": "[encoded data removed]",
            "text/plain": [
              "<Figure size 432x288 with 1 Axes>"
            ]
          },
          "metadata": {
            "tags": []
          }
        },
        {
          "output_type": "display_data",
          "data": {
            "image/png": "[encoded data removed]",
            "text/plain": [
              "<Figure size 432x288 with 1 Axes>"
            ]
          },
          "metadata": {
            "tags": []
          }
        },
        {
          "output_type": "display_data",
          "data": {
            "image/png": "[encoded data removed]",
            "text/plain": [
              "<Figure size 432x288 with 1 Axes>"
            ]
          },
          "metadata": {
            "tags": []
          }
        }
      ]
    },
    {
      "cell_type": "markdown",
      "metadata": {
        "id": "bfD9-OZBcE62",
        "colab_type": "text"
      },
      "source": [
        "##Output the predicted dataset to a text file for comparison with the gold reference"
      ]
    },
    {
      "cell_type": "code",
      "metadata": {
        "id": "3q-NdJVwpLxv",
        "colab_type": "code",
        "colab": {}
      },
      "source": [
        "test_gold = pd.read_csv(f'{path}/eval_semeval16_task6_v2/SemEval2016-Task6-subtaskA-testdata-gold.txt',delimiter='\\t',header=0,encoding='latin-1')"
      ],
      "execution_count": 0,
      "outputs": []
    },
    {
      "cell_type": "code",
      "metadata": {
        "id": "VKl3_BzcojJP",
        "colab_type": "code",
        "colab": {
          "base_uri": "https://localhost:8080/",
          "height": 34
        },
        "outputId": "c0e7983d-f03f-417f-a3e7-9e579a7e9b2a"
      },
      "source": [
        "test_gold.shape,preds_document.shape"
      ],
      "execution_count": 108,
      "outputs": [
        {
          "output_type": "execute_result",
          "data": {
            "text/plain": [
              "((1249, 4), (1249, 3))"
            ]
          },
          "metadata": {
            "tags": []
          },
          "execution_count": 108
        }
      ]
    },
    {
      "cell_type": "code",
      "metadata": {
        "id": "rgt1LbHxcBPC",
        "colab_type": "code",
        "colab": {}
      },
      "source": [
        "preds_document.to_csv(f'{path}eval_semeval16_task6_v2/all_prediction.txt',sep='\\t',index=True,\n",
        "                        header=['Target','Tweet','Stance'],index_label='ID')"
      ],
      "execution_count": 0,
      "outputs": []
    },
    {
      "cell_type": "code",
      "metadata": {
        "id": "QPONnUzEdTVS",
        "colab_type": "code",
        "colab": {
          "base_uri": "https://localhost:8080/",
          "height": 189
        },
        "outputId": "0c162830-8841-4976-e394-05d9cc332bee"
      },
      "source": [
        "!perl /content/data/twitter/eval_semeval16_task6_v2/eval.pl /content/data/twitter/eval_semeval16_task6_v2/SemEval2016-Task6-subtaskA-testdata-gold.txt  /content/data/twitter/eval_semeval16_task6_v2/all_prediction.txt"
      ],
      "execution_count": 110,
      "outputs": [
        {
          "output_type": "stream",
          "text": [
            "\n",
            "\n",
            "============\n",
            "Results\t\t\t\t \n",
            "============\n",
            "FAVOR     precision: 0.4346 recall: 0.5461 f-score: 0.4840\n",
            "AGAINST   precision: 0.7474 recall: 0.5049 f-score: 0.6027\n",
            "------------\n",
            "Macro F: 0.5433\n",
            "\n"
          ],
          "name": "stdout"
        }
      ]
    },
    {
      "cell_type": "markdown",
      "metadata": {
        "id": "cO43XYordoz-",
        "colab_type": "text"
      },
      "source": [
        "Based on the above result, we can see that augmenting the training data with additional domain-specific data (i.e., Tweets) helps us obtain better F-scores for the stance classification task.\n",
        "\n",
        "This result is much closer to the winning result by MITRE (of 0.67). The improvement can be largely attributed to the language model fine-tuning step, where we augmented the language model parameters with the tokenized form of a much larger Tweet vocabulary (of 200,000 Tweets downloaded from Kaggle). It can be reasoned that using an even larger Tweet vocabulary (say a million words) could result in a further improvement. However, this would also significantly increase the training time during fine-tuning. In addition to vocabulary augmentation, more extensive hyperparameter tuning and careful classifier fine-tuning could result in further gains."
      ]
    },
    {
      "cell_type": "markdown",
      "metadata": {
        "id": "RbUy8UIZdqF_",
        "colab_type": "text"
      },
      "source": [
        "# 6. Conclusions\n",
        "\n",
        "This notebook showed a training and classification pipeline for a PyTorch-based framework (ULMFit) for evaluating stance of Tweets towards a particular topic. It appears that with some basic data cleaning and augmentation with additional Twitter language data, the transfer learning approach using ULMFit can provide good classification accuracy F-scores (compared with the winning results from the SemEval 2016 winning team MITRE).\n",
        "\n",
        "The main benefit of using ULMFit is that it can perform classifier re-training with a very limited amount of data (fewer than 500 Tweets per topic in this dataset). However, since Twitter data is of a very different distribution from the pre-trained language model, the language model fine-tuning step is rather expensive (and can take significant time even on GPU). Once the language model is fine-tuned adequately, the classifier can perform per-topic classification relatively easily and with a reasonable level of accuracy comparable with the best score by MITRE.\n",
        "\n",
        "We can likely further improve the classification accuracy across all topics with the below steps:\n",
        "\n",
        "1. Augment the language model vocabulary with a larger subset of Twitter Sentiment140 dataset to improve the model's domain understanding of Tweet syntax\n",
        "\n",
        "2. Perform additional fine-tuning on the training hyperparameters in both the language model fune-tuning and the classifier fine-tuning stages.\n",
        "\n",
        "3. Plug in a pre-trained language model that was trained on a large Twitter dataset (if such a model becomes available in the future!)\n",
        "\n",
        "Tweets are sufficiently different from typical language data used to generate pre-trained language models, and hence are an interesting usecase for analyzing the effectiveness of transfer learning techniques. It will be interesting to see how transfer learning techniques for NLP tasks evolve with time."
      ]
    },
    {
      "cell_type": "markdown",
      "metadata": {
        "id": "S1b3v5xod78k",
        "colab_type": "text"
      },
      "source": [
        "# Method 2: OpenAI GPT\n",
        "\n",
        "OpenAI GPT, as [described in their paper](https://s3-us-west-2.amazonaws.com/openai-assets/research-covers/language-unsupervised/language_understanding_paper.pdf), is an adaptation of the well-known transformer from Google Brain’s 2017 paper “Attention is All You Need”.\n",
        "\n",
        "![alt text](https://cdn-images-1.medium.com/max/1600/1*78qmLJHooYLdeMyRmXeq8Q.png)\n",
        "\n",
        "While the original version from Google Brain used an identical encoder-decoder 6-layer stack, GPT uses a 12-layer decoder-only stack. Each layer has two sub-layers, consisting of a multi-head self-attention mechanism, and a fully connected (position-wise) feed-forward network. A full description of the transformer architecture used by OpenAI for transfer learning is given in [their paper.](https://s3-us-west-2.amazonaws.com/openai-assets/research-covers/language-unsupervised/language_understanding_paper.pdf)\n",
        "\n",
        "All the code for this section is available in a Jupyter notebook [transformer.ipynb](https://github.com/prrao87/tweet-stance-prediction/blob/master/transformer.ipynb). Just as before, only the key elements of the model are discussed in this post for brevity — feel free to look through the full notebook and this project’s main GitHub repo for a deep-dive into the working code for classifying the Tweets."
      ]
    }
  ]
}